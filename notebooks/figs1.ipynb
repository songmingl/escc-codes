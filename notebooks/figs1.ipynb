{
 "cells": [
  {
   "cell_type": "markdown",
   "id": "4e78bb62-b115-43fd-9fb7-c826ee2811a4",
   "metadata": {},
   "source": [
    "# figure s1 vlz\n",
    "\n",
    "- kernel: r_env, R 4.1.3"
   ]
  },
  {
   "cell_type": "markdown",
   "id": "0e59ed14-a3c3-49a6-8411-ae918b67af3b",
   "metadata": {
    "tags": []
   },
   "source": [
    "## load"
   ]
  },
  {
   "cell_type": "code",
   "execution_count": null,
   "id": "95697196-8cfb-4a41-9105-a25a0d5c0baf",
   "metadata": {
    "tags": [],
    "vscode": {
     "languageId": "r"
    }
   },
   "outputs": [],
   "source": [
    "library(tidyverse)\n",
    "library(tools)\n",
    "library(logging)\n",
    "library(ggpubr)\n",
    "library(ggsci)\n",
    "library(patchwork)\n",
    "library(igraph)\n",
    "library(ggraph)\n",
    "library(Seurat)\n",
    "library(ComplexHeatmap)\n",
    "\n",
    "# source('../../stage2/scripts/r_funcs.r')\n",
    "\n",
    "theme_set(theme_pubr())\n",
    "logging::basicConfig()\n",
    "options(warn = -1)\n",
    "\n",
    "outdir <- '../figures/figs1'\n",
    "create_dir(outdir)"
   ]
  },
  {
   "cell_type": "code",
   "execution_count": null,
   "id": "c14e70ad-8b08-437b-bbd3-862f851569bf",
   "metadata": {
    "tags": [],
    "vscode": {
     "languageId": "r"
    }
   },
   "outputs": [],
   "source": [
    "f_pat_gp <- '../tables/patient_info_v2.tsv'\n",
    "gp <- 'response'\n",
    "\n",
    "gp_comp_map$response <- list(\n",
    "  c('R-pre', 'R-post'),\n",
    "  c('PR-pre', 'PR-post'),\n",
    "  c('R-pre', 'PR-pre'),\n",
    "  c('R-post', 'PR-post')\n",
    ")\n",
    "gp_lvls$response <- c('R', 'PR')\n",
    "comb_order <- c('R-pre', 'R-post', 'PR-pre', 'PR-post')"
   ]
  },
  {
   "cell_type": "markdown",
   "id": "81a0de34-956d-4317-831d-0f6bb16ea7a8",
   "metadata": {
    "jp-MarkdownHeadingCollapsed": true,
    "tags": []
   },
   "source": [
    "## clinical info: s1a"
   ]
  },
  {
   "cell_type": "code",
   "execution_count": 16,
   "id": "87a52365-eeb6-4bb4-b456-f4a0a94e1d99",
   "metadata": {
    "vscode": {
     "languageId": "r"
    }
   },
   "outputs": [],
   "source": [
    "f_sc_clin <- '../../assets/clinical/sc_merge_clinical-230925.xlsx'"
   ]
  },
  {
   "cell_type": "code",
   "execution_count": 17,
   "id": "c432ec5e-4b48-4af0-9a8a-7ef53f2b0ee8",
   "metadata": {
    "tags": [],
    "vscode": {
     "languageId": "r"
    }
   },
   "outputs": [
    {
     "name": "stdout",
     "output_type": "stream",
     "text": [
      "\u001b[0m2024-02-21 10:08:45 INFO::these clinial info will be added: response, response_v2\u001b[0m\u001b[22m\u001b[23m\u001b[24m\u001b[27m\u001b[28m\u001b[29m\u001b[39m\u001b[49m\u001b[0m\u001b[0m\u001b[22m\u001b[23m\u001b[24m\u001b[27m\u001b[28m\u001b[29m\u001b[39m\u001b[49m\n",
      "\u001b[0m2024-02-21 10:08:45 INFO::total 52 records\u001b[0m\u001b[22m\u001b[23m\u001b[24m\u001b[27m\u001b[28m\u001b[29m\u001b[39m\u001b[49m\u001b[0m\u001b[0m\u001b[22m\u001b[23m\u001b[24m\u001b[27m\u001b[28m\u001b[29m\u001b[39m\u001b[49m\n"
     ]
    }
   ],
   "source": [
    "df <- readxl::read_xlsx(f_sc_clin, sheet = 'clinical_info') %>% \n",
    "    select(patient, treatment_sum, mandard_score) %>% \n",
    "    add_clin_info(ftsv = f_pat_gp, columns = c('response', 'response_v2'), merge_by = 'patient')\n",
    "# %>%\n",
    "#     mutate(treatment_sum = if_else(treatment_sum == 'NA', 'unknown', treatment_sum),\n",
    "#            mandard_score = if_else(mandard_score == 'NA', 'unknown', mandard_score),\n",
    "#            response = if_else(is.na(response), 'unknown', response),\n",
    "#            response_v2 = if_else(is.na(response_v2), 'Unknown', response))\n",
    "loginfo('total %g records', nrow(df))"
   ]
  },
  {
   "cell_type": "code",
   "execution_count": 18,
   "id": "441f5670-1f79-4cf9-9296-5637d57b1ba1",
   "metadata": {
    "tags": [],
    "vscode": {
     "languageId": "r"
    }
   },
   "outputs": [],
   "source": [
    "p1 <- df %>% \n",
    "    count(treatment_sum, .data[[gp]]) %>% \n",
    "    mutate(pat_gp = factor(.data[[gp]], gp_lvls[[gp]])) %>%\n",
    "    ggbarplot(x = 'treatment_sum', y = 'n', fill = 'pat_gp', \n",
    "              label = T, lab.vjust = -0.1, alpha = 0.7,\n",
    "              position = position_dodge(0.7),\n",
    "              order = c('chemo', 'chemo+immune', 'NA')) +\n",
    "    scale_fill_jco(na.value = 'gray50') +\n",
    "    labs(y = 'Number of patients', fill = 'Response') +\n",
    "    theme(axis.title.x = element_blank(), legend.position = 'right', \n",
    "          axis.text.x = element_text(angle = 60, hjust = 0.98))\n",
    "p2 <- df %>% \n",
    "    count(mandard_score, .data[[gp]]) %>% \n",
    "    mutate(pat_gp = factor(.data[[gp]], gp_lvls[[gp]])) %>%\n",
    "    ggbarplot(x = 'mandard_score', y = 'n', fill = 'pat_gp', \n",
    "              label = T, lab.vjust = -0.1, alpha = 0.7) +\n",
    "    scale_fill_jco(na.value = 'gray50') +\n",
    "    labs(y = 'Number of patients', fill = 'Response') +\n",
    "    theme(axis.title.x = element_blank(), legend.position = 'right')"
   ]
  },
  {
   "cell_type": "code",
   "execution_count": 19,
   "id": "dac801df-c6d3-4574-a433-98220e1ce34e",
   "metadata": {
    "tags": [],
    "vscode": {
     "languageId": "r"
    }
   },
   "outputs": [],
   "source": [
    "ggsave(filename = str_glue('{outdir}/figs1a-bar-clin_summary.pdf'), width = 7, height = 5,\n",
    "       plot = p1 + p2 + plot_layout(guides = 'collect') & theme(legend.position = 'right'))"
   ]
  },
  {
   "cell_type": "markdown",
   "id": "03db9493-8a3b-498a-be79-b3f6e7a1df0d",
   "metadata": {},
   "source": [
    "## major cell type markers: s1b"
   ]
  },
  {
   "cell_type": "code",
   "execution_count": 5,
   "id": "7c1ec744-6024-4578-83d4-0c8c729cf884",
   "metadata": {
    "vscode": {
     "languageId": "r"
    }
   },
   "outputs": [],
   "source": [
    "# f_obj <- '../../stage4/a01_data/seuobj/whole.rds'\n",
    "f_obj <- '../../seuobj/whole.rds'\n",
    "markers <- list(\n",
    "    'T+NK cells' = c('CD3D', 'CD3E', 'CD3G', 'NKG7'),\n",
    "    'B cells' = c('CD19', 'MS4A1', 'CD79A', 'CD79B'),\n",
    "    'Plasma' = c('JCHAIN', 'MZB1', 'XBP1'),\n",
    "    'Myeloid' = c('CD68', 'CD14', 'LYZ'),\n",
    "    'Epithelial' = c('EPCAM', 'KRT14', 'KRT15'),\n",
    "    'Endothelial' = c('PECAM1', 'ICAM1', 'CLDN5'), \n",
    "    'Fibroblast' = c('COL1A1', 'COL1A2', 'C1R')\n",
    ")\n",
    "ctype_map <- list(\n",
    "    'T cells' = c('T'),\n",
    "    'B & Plasma cells' = c('B', 'Plasma')\n",
    ")\n",
    "ctype_order <- c('T+NK cells', 'B & Plasma cells', 'Myeloid', 'Epithelial', 'Endothelial', 'Fibroblast')"
   ]
  },
  {
   "cell_type": "code",
   "execution_count": 4,
   "id": "523ed1d0-0ce4-4d17-9308-92ccbfc8c860",
   "metadata": {
    "tags": [],
    "vscode": {
     "languageId": "r"
    }
   },
   "outputs": [],
   "source": [
    "scrna <- readRDS(f_obj)"
   ]
  },
  {
   "cell_type": "code",
   "execution_count": 6,
   "id": "0092e493-1b18-495e-ac09-25e52bd5eb4e",
   "metadata": {
    "tags": [],
    "vscode": {
     "languageId": "r"
    }
   },
   "outputs": [],
   "source": [
    "scrna$cellgp <- scrna$cell_type_correct\n",
    "for (nm in names(ctype_map)) {\n",
    "    scrna$cellgp[scrna$cell_type_correct %in% ctype_map[[nm]]] <- nm\n",
    "}\n",
    "scrna$cellgp <- factor(scrna$cellgp, levels = rev(ctype_order))"
   ]
  },
  {
   "cell_type": "code",
   "execution_count": null,
   "id": "775d9e55-351e-4f5e-a304-8b9aa3365303",
   "metadata": {
    "tags": [],
    "vscode": {
     "languageId": "r"
    }
   },
   "outputs": [],
   "source": [
    "p <- DotPlot(object = scrna, features = markers, group.by = 'cellgp') +\n",
    "    scale_color_gsea() +\n",
    "    RotatedAxis() +\n",
    "    theme(axis.title = element_blank()) \n",
    "ggsave(filename = str_glue('../figs1/figs1b-v3-dot-major_markers.pdf'), plot = p, width = 11, height = 4)"
   ]
  },
  {
   "cell_type": "markdown",
   "id": "12aa987b",
   "metadata": {},
   "source": [
    "## s1c: umap of major cell types"
   ]
  },
  {
   "cell_type": "code",
   "execution_count": null,
   "id": "2377060c",
   "metadata": {
    "vscode": {
     "languageId": "r"
    }
   },
   "outputs": [],
   "source": [
    "theme_set(theme_pubr())\n",
    "outdir <- '../figures/fig1/'\n",
    "title_map <- c(\n",
    "    'fibro' = 'Fibroblast',\n",
    "    'endo' = 'Endothelial',\n",
    "    'b_plasma' = 'B & Plasma cells',\n",
    "    't' = 'T cells',\n",
    "    'myeloid' = 'Myeloid',\n",
    "    'epi' = 'Epithelial',\n",
    "    'whole' = 'Major cell type'\n",
    ")\n",
    "obj_path <- c(\n",
    "    'fibro' = '../../stage4/a01_data/seuobj/fibro.rds',\n",
    "    'endo' = '../../stage4/a01_data/seuobj/endo.rds',\n",
    "    'b_plasma' = '../../stage4/a01_data/seuobj/b_plasma.rds',\n",
    "    't' = '../../stage4/a01_data/seuobj/t.rds',\n",
    "    'myeloid' = '../../stage4/a01_data/seuobj/myeloid.rds',\n",
    "    'epi' = '../../stage4/a01_data/seuobj/epi.rds',\n",
    ")"
   ]
  },
  {
   "cell_type": "code",
   "execution_count": null,
   "id": "05ddad27",
   "metadata": {
    "vscode": {
     "languageId": "r"
    }
   },
   "outputs": [
    {
     "name": "stderr",
     "output_type": "stream",
     "text": [
      "Rasterizing points since number of points exceeds 100,000.\n",
      "To disable this behavior set `raster=FALSE`\n",
      "\n",
      "Rasterizing points since number of points exceeds 100,000.\n",
      "To disable this behavior set `raster=FALSE`\n",
      "\n",
      "Rasterizing points since number of points exceeds 100,000.\n",
      "To disable this behavior set `raster=FALSE`\n",
      "\n",
      "Rasterizing points since number of points exceeds 100,000.\n",
      "To disable this behavior set `raster=FALSE`\n",
      "\n",
      "Rasterizing points since number of points exceeds 100,000.\n",
      "To disable this behavior set `raster=FALSE`\n",
      "\n"
     ]
    }
   ],
   "source": [
    "for (nm in names(obj_path)) {\n",
    "    scrna <- readRDS(obj_path[nm])\n",
    "    if (nm == 't') {\n",
    "        scrna$subtype[scrna$subtype == 'T_Prolif'] <- 'T_MKI67'\n",
    "    }\n",
    "    color_by <- if_else(nm == 't', 'subtype', if_else(nm == 'whole', 'cell_type_correct', 'cell_type'))\n",
    "    p <- DimPlot(object = scrna, reduction = 'umap', group.by = color_by, raster = T, shuffle = T,\n",
    "                 label = T, label.size = 4, cols = scanpy_pal$zeileis_28, repel = T) +\n",
    "        labs(title = title_map[nm]) +\n",
    "        theme(axis.line = element_blank(), \n",
    "              axis.ticks = element_blank(),\n",
    "              axis.text = element_blank(),\n",
    "              axis.title = element_blank(),\n",
    "              legend.position = 'none')\n",
    "    ggsave(filename = str_glue('{outdir}/fig1-umap_celltype-{nm}.pdf'), plot = p, width = 5, height = 4)\n",
    "    rm(scrna)\n",
    "    gc()\n",
    "}"
   ]
  }
 ],
 "metadata": {
  "kernelspec": {
   "display_name": "r_env",
   "language": "R",
   "name": "r_env"
  },
  "language_info": {
   "codemirror_mode": "r",
   "file_extension": ".r",
   "mimetype": "text/x-r-source",
   "name": "R",
   "pygments_lexer": "r",
   "version": "4.1.3"
  }
 },
 "nbformat": 4,
 "nbformat_minor": 5
}

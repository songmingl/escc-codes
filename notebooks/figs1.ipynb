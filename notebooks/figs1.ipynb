{
 "cells": [
  {
   "cell_type": "markdown",
   "id": "4e78bb62-b115-43fd-9fb7-c826ee2811a4",
   "metadata": {},
   "source": [
    "# figure s1 vlz\n",
    "\n",
    "- kernel: r_env, R 4.1.3"
   ]
  },
  {
   "cell_type": "markdown",
   "id": "0e59ed14-a3c3-49a6-8411-ae918b67af3b",
   "metadata": {
    "tags": []
   },
   "source": [
    "## load"
   ]
  },
  {
   "cell_type": "code",
   "execution_count": 8,
   "id": "95697196-8cfb-4a41-9105-a25a0d5c0baf",
   "metadata": {
    "tags": [],
    "vscode": {
     "languageId": "r"
    }
   },
   "outputs": [
    {
     "ename": "ERROR",
     "evalue": "Error in library(ComplexHeatmap): there is no package called ‘ComplexHeatmap’\n",
     "output_type": "error",
     "traceback": [
      "Error in library(ComplexHeatmap): there is no package called ‘ComplexHeatmap’\nTraceback:\n",
      "1. library(ComplexHeatmap)"
     ]
    }
   ],
   "source": [
    "library(tidyverse)\n",
    "library(tools)\n",
    "library(logging)\n",
    "library(ggpubr)\n",
    "library(ggsci)\n",
    "library(patchwork)\n",
    "library(igraph)\n",
    "library(ggraph)\n",
    "library(Seurat)\n",
    "library(ComplexHeatmap)\n",
    "\n",
    "# source('../../stage2/scripts/r_funcs.r')\n",
    "\n",
    "theme_set(theme_pubr())\n",
    "logging::basicConfig()\n",
    "options(warn = -1)\n",
    "\n",
    "outdir <- '../figures/figs1'\n",
    "create_dir(outdir)"
   ]
  },
  {
   "cell_type": "code",
   "execution_count": 2,
   "id": "c14e70ad-8b08-437b-bbd3-862f851569bf",
   "metadata": {
    "tags": [],
    "vscode": {
     "languageId": "r"
    }
   },
   "outputs": [
    {
     "ename": "ERROR",
     "evalue": "Error in gp_comp_map$response <- list(c(\"R-pre\", \"R-post\"), c(\"PR-pre\", : object 'gp_comp_map' not found\n",
     "output_type": "error",
     "traceback": [
      "Error in gp_comp_map$response <- list(c(\"R-pre\", \"R-post\"), c(\"PR-pre\", : object 'gp_comp_map' not found\nTraceback:\n"
     ]
    }
   ],
   "source": [
    "f_pat_gp <- '../tables/patient_info_v2.tsv'\n",
    "gp <- 'response'\n",
    "\n",
    "gp_comp_map$response <- list(\n",
    "  c('R-pre', 'R-post'),\n",
    "  c('PR-pre', 'PR-post'),\n",
    "  c('R-pre', 'PR-pre'),\n",
    "  c('R-post', 'PR-post')\n",
    ")\n",
    "gp_lvls$response <- c('R', 'PR')\n",
    "comb_order <- c('R-pre', 'R-post', 'PR-pre', 'PR-post')"
   ]
  },
  {
   "cell_type": "markdown",
   "id": "81a0de34-956d-4317-831d-0f6bb16ea7a8",
   "metadata": {
    "jp-MarkdownHeadingCollapsed": true,
    "tags": []
   },
   "source": [
    "## clinical info: s1a"
   ]
  },
  {
   "cell_type": "code",
   "execution_count": 16,
   "id": "87a52365-eeb6-4bb4-b456-f4a0a94e1d99",
   "metadata": {
    "vscode": {
     "languageId": "r"
    }
   },
   "outputs": [],
   "source": [
    "f_sc_clin <- '../../assets/clinical/sc_merge_clinical-230925.xlsx'"
   ]
  },
  {
   "cell_type": "code",
   "execution_count": 17,
   "id": "c432ec5e-4b48-4af0-9a8a-7ef53f2b0ee8",
   "metadata": {
    "tags": [],
    "vscode": {
     "languageId": "r"
    }
   },
   "outputs": [
    {
     "name": "stdout",
     "output_type": "stream",
     "text": [
      "\u001b[0m2024-02-21 10:08:45 INFO::these clinial info will be added: response, response_v2\u001b[0m\u001b[22m\u001b[23m\u001b[24m\u001b[27m\u001b[28m\u001b[29m\u001b[39m\u001b[49m\u001b[0m\u001b[0m\u001b[22m\u001b[23m\u001b[24m\u001b[27m\u001b[28m\u001b[29m\u001b[39m\u001b[49m\n",
      "\u001b[0m2024-02-21 10:08:45 INFO::total 52 records\u001b[0m\u001b[22m\u001b[23m\u001b[24m\u001b[27m\u001b[28m\u001b[29m\u001b[39m\u001b[49m\u001b[0m\u001b[0m\u001b[22m\u001b[23m\u001b[24m\u001b[27m\u001b[28m\u001b[29m\u001b[39m\u001b[49m\n"
     ]
    }
   ],
   "source": [
    "df <- readxl::read_xlsx(f_sc_clin, sheet = 'clinical_info') %>% \n",
    "    select(patient, treatment_sum, mandard_score) %>% \n",
    "    add_clin_info(ftsv = f_pat_gp, columns = c('response', 'response_v2'), merge_by = 'patient')\n",
    "# %>%\n",
    "#     mutate(treatment_sum = if_else(treatment_sum == 'NA', 'unknown', treatment_sum),\n",
    "#            mandard_score = if_else(mandard_score == 'NA', 'unknown', mandard_score),\n",
    "#            response = if_else(is.na(response), 'unknown', response),\n",
    "#            response_v2 = if_else(is.na(response_v2), 'Unknown', response))\n",
    "loginfo('total %g records', nrow(df))"
   ]
  },
  {
   "cell_type": "code",
   "execution_count": 18,
   "id": "441f5670-1f79-4cf9-9296-5637d57b1ba1",
   "metadata": {
    "tags": [],
    "vscode": {
     "languageId": "r"
    }
   },
   "outputs": [],
   "source": [
    "p1 <- df %>% \n",
    "    count(treatment_sum, .data[[gp]]) %>% \n",
    "    mutate(pat_gp = factor(.data[[gp]], gp_lvls[[gp]])) %>%\n",
    "    ggbarplot(x = 'treatment_sum', y = 'n', fill = 'pat_gp', \n",
    "              label = T, lab.vjust = -0.1, alpha = 0.7,\n",
    "              position = position_dodge(0.7),\n",
    "              order = c('chemo', 'chemo+immune', 'NA')) +\n",
    "    scale_fill_jco(na.value = 'gray50') +\n",
    "    labs(y = 'Number of patients', fill = 'Response') +\n",
    "    theme(axis.title.x = element_blank(), legend.position = 'right', \n",
    "          axis.text.x = element_text(angle = 60, hjust = 0.98))\n",
    "p2 <- df %>% \n",
    "    count(mandard_score, .data[[gp]]) %>% \n",
    "    mutate(pat_gp = factor(.data[[gp]], gp_lvls[[gp]])) %>%\n",
    "    ggbarplot(x = 'mandard_score', y = 'n', fill = 'pat_gp', \n",
    "              label = T, lab.vjust = -0.1, alpha = 0.7) +\n",
    "    scale_fill_jco(na.value = 'gray50') +\n",
    "    labs(y = 'Number of patients', fill = 'Response') +\n",
    "    theme(axis.title.x = element_blank(), legend.position = 'right')"
   ]
  },
  {
   "cell_type": "code",
   "execution_count": 19,
   "id": "dac801df-c6d3-4574-a433-98220e1ce34e",
   "metadata": {
    "tags": [],
    "vscode": {
     "languageId": "r"
    }
   },
   "outputs": [],
   "source": [
    "ggsave(filename = str_glue('{outdir}/figs1a-bar-clin_summary.pdf'), width = 7, height = 5,\n",
    "       plot = p1 + p2 + plot_layout(guides = 'collect') & theme(legend.position = 'right'))"
   ]
  },
  {
   "cell_type": "markdown",
   "id": "03db9493-8a3b-498a-be79-b3f6e7a1df0d",
   "metadata": {},
   "source": [
    "## major cell type markers: s1b"
   ]
  },
  {
   "cell_type": "code",
   "execution_count": 5,
   "id": "7c1ec744-6024-4578-83d4-0c8c729cf884",
   "metadata": {
    "vscode": {
     "languageId": "r"
    }
   },
   "outputs": [],
   "source": [
    "# f_obj <- '../../stage4/a01_data/seuobj/whole.rds'\n",
    "f_obj <- '../../seuobj/whole.rds'\n",
    "markers <- list(\n",
    "    'T+NK cells' = c('CD3D', 'CD3E', 'CD3G', 'NKG7'),\n",
    "    'B cells' = c('CD19', 'MS4A1', 'CD79A', 'CD79B'),\n",
    "    'Plasma' = c('JCHAIN', 'MZB1', 'XBP1'),\n",
    "    'Myeloid' = c('CD68', 'CD14', 'LYZ'),\n",
    "    'Epithelial' = c('EPCAM', 'KRT14', 'KRT15'),\n",
    "    'Endothelial' = c('PECAM1', 'ICAM1', 'CLDN5'), \n",
    "    'Fibroblast' = c('COL1A1', 'COL1A2', 'C1R')\n",
    ")\n",
    "ctype_map <- list(\n",
    "    'T cells' = c('T'),\n",
    "    'B & Plasma cells' = c('B', 'Plasma')\n",
    ")\n",
    "ctype_order <- c('T+NK cells', 'B & Plasma cells', 'Myeloid', 'Epithelial', 'Endothelial', 'Fibroblast')"
   ]
  },
  {
   "cell_type": "code",
   "execution_count": 4,
   "id": "523ed1d0-0ce4-4d17-9308-92ccbfc8c860",
   "metadata": {
    "tags": [],
    "vscode": {
     "languageId": "r"
    }
   },
   "outputs": [],
   "source": [
    "scrna <- readRDS(f_obj)"
   ]
  },
  {
   "cell_type": "code",
   "execution_count": 6,
   "id": "0092e493-1b18-495e-ac09-25e52bd5eb4e",
   "metadata": {
    "tags": [],
    "vscode": {
     "languageId": "r"
    }
   },
   "outputs": [],
   "source": [
    "scrna$cellgp <- scrna$cell_type_correct\n",
    "for (nm in names(ctype_map)) {\n",
    "    scrna$cellgp[scrna$cell_type_correct %in% ctype_map[[nm]]] <- nm\n",
    "}\n",
    "scrna$cellgp <- factor(scrna$cellgp, levels = rev(ctype_order))"
   ]
  },
  {
   "cell_type": "code",
   "execution_count": null,
   "id": "775d9e55-351e-4f5e-a304-8b9aa3365303",
   "metadata": {
    "tags": [],
    "vscode": {
     "languageId": "r"
    }
   },
   "outputs": [],
   "source": [
    "p <- DotPlot(object = scrna, features = markers, group.by = 'cellgp') +\n",
    "    scale_color_gsea() +\n",
    "    RotatedAxis() +\n",
    "    theme(axis.title = element_blank()) \n",
    "# ggsave(filename = str_glue('{outdir}/figs1b-dot-major_markers.pdf'), plot = p, width = 11, height = 4)"
   ]
  },
  {
   "cell_type": "code",
   "execution_count": 10,
   "id": "b0328028-3019-4d97-9b50-109cf75500c8",
   "metadata": {
    "vscode": {
     "languageId": "r"
    }
   },
   "outputs": [],
   "source": [
    "ggsave(filename = str_glue('../figs1/figs1b-v3-dot-major_markers.pdf'), plot = p, width = 11, height = 4)"
   ]
  },
  {
   "cell_type": "code",
   "execution_count": 13,
   "id": "79d5be5b-3a8d-4252-b3f4-a52d940b59dc",
   "metadata": {
    "vscode": {
     "languageId": "r"
    }
   },
   "outputs": [],
   "source": []
  },
  {
   "cell_type": "markdown",
   "id": "90eb67b6-c19d-4f58-83d7-79200bc3d84d",
   "metadata": {
    "tags": []
   },
   "source": [
    "## batch effect heatmap: s1c"
   ]
  },
  {
   "cell_type": "code",
   "execution_count": 3,
   "id": "290f962b-ae63-433e-9821-5bb8d75b284b",
   "metadata": {
    "tags": [],
    "vscode": {
     "languageId": "r"
    }
   },
   "outputs": [],
   "source": [
    "f_cell_info <- '../../stage4/a01_data/h5ad/whole_obs.csv'"
   ]
  },
  {
   "cell_type": "code",
   "execution_count": 4,
   "id": "a13a2a49-03fb-4823-9303-8af43eb4bec6",
   "metadata": {
    "tags": [],
    "vscode": {
     "languageId": "r"
    }
   },
   "outputs": [
    {
     "name": "stderr",
     "output_type": "stream",
     "text": [
      "\u001b[1m\u001b[22mNew names:\n",
      "\u001b[36m•\u001b[39m `` -> `...1`\n"
     ]
    },
    {
     "name": "stdout",
     "output_type": "stream",
     "text": [
      "\u001b[0m2024-02-20 21:58:19 INFO::750132 cells\u001b[0m\u001b[22m\u001b[23m\u001b[24m\u001b[27m\u001b[28m\u001b[29m\u001b[39m\u001b[49m\u001b[0m\u001b[0m\u001b[22m\u001b[23m\u001b[24m\u001b[27m\u001b[28m\u001b[29m\u001b[39m\u001b[49m\n"
     ]
    }
   ],
   "source": [
    "df <- read_csv(f_cell_info, show_col_types = F)\n",
    "loginfo('%g cells', nrow(df))"
   ]
  },
  {
   "cell_type": "code",
   "execution_count": 11,
   "id": "ddaa0960-0a60-4b9c-8548-10e8a827dbf1",
   "metadata": {
    "tags": [],
    "vscode": {
     "languageId": "r"
    }
   },
   "outputs": [
    {
     "data": {
      "text/html": [
       "<style>\n",
       ".list-inline {list-style: none; margin:0; padding: 0}\n",
       ".list-inline>li {display: inline-block}\n",
       ".list-inline>li:not(:last-child)::after {content: \"\\00b7\"; padding: 0 .5ex}\n",
       "</style>\n",
       "<ol class=list-inline><li>90</li><li>3</li></ol>\n"
      ],
      "text/latex": [
       "\\begin{enumerate*}\n",
       "\\item 90\n",
       "\\item 3\n",
       "\\end{enumerate*}\n"
      ],
      "text/markdown": [
       "1. 90\n",
       "2. 3\n",
       "\n",
       "\n"
      ],
      "text/plain": [
       "[1] 90  3"
      ]
     },
     "metadata": {},
     "output_type": "display_data"
    }
   ],
   "source": [
    "# merge B & plasma cells\n",
    "df <- df %>%\n",
    "    mutate(\n",
    "        macrotype = case_match(\n",
    "            cell_type_correct,\n",
    "            c('B', 'Plasma') ~ 'B & Plasma cells',\n",
    "            'T' ~ 'T cells',\n",
    "            .default = cell_type_correct\n",
    "        ),\n",
    "        subtype = if_else(subtype == 'T_Prolif', 'T_MKI67', subtype),\n",
    "        sample_type = case_match(\n",
    "            sample_type,\n",
    "            'Baseline' ~ 'pre',\n",
    "            'Treat' ~ 'post',\n",
    "            .default = sample_type\n",
    "        )\n",
    "    )\n",
    "df %>% count(macrotype, subtype) %>% dim"
   ]
  },
  {
   "cell_type": "code",
   "execution_count": 13,
   "id": "fd8e55e5-2125-42f4-9882-bb630eec4aca",
   "metadata": {
    "tags": [],
    "vscode": {
     "languageId": "r"
    }
   },
   "outputs": [
    {
     "data": {
      "text/html": [
       "<style>\n",
       ".list-inline {list-style: none; margin:0; padding: 0}\n",
       ".list-inline>li {display: inline-block}\n",
       ".list-inline>li:not(:last-child)::after {content: \"\\00b7\"; padding: 0 .5ex}\n",
       "</style>\n",
       "<ol class=list-inline><li>81</li><li>90</li></ol>\n"
      ],
      "text/latex": [
       "\\begin{enumerate*}\n",
       "\\item 81\n",
       "\\item 90\n",
       "\\end{enumerate*}\n"
      ],
      "text/markdown": [
       "1. 81\n",
       "2. 90\n",
       "\n",
       "\n"
      ],
      "text/plain": [
       "[1] 81 90"
      ]
     },
     "metadata": {},
     "output_type": "display_data"
    }
   ],
   "source": [
    "mat <- df %>%\n",
    "    mutate(sample = paste(patient, sample_type, sep = '-')) %>%\n",
    "    count(sample, subtype, name = 'n_cell') %>% \n",
    "    add_count(subtype, name = 'n_cell_total', wt = n_cell) %>% \n",
    "    mutate(pct = 100 * n_cell / n_cell_total) %>% \n",
    "    pivot_wider(id_cols = 'sample', names_from = 'subtype', \n",
    "                values_from = 'pct', values_fill = 0) %>% \n",
    "    column_to_rownames('sample')\n",
    "mat %>% dim"
   ]
  },
  {
   "cell_type": "code",
   "execution_count": 14,
   "id": "dc9a004b-8c54-48d3-a989-04845a4759f9",
   "metadata": {
    "tags": [],
    "vscode": {
     "languageId": "r"
    }
   },
   "outputs": [],
   "source": [
    "macrotype_colors <- pal_nejm()(6)\n",
    "names(macrotype_colors) <- c(\n",
    "    'T cells', 'B & Plasma cells', 'Myeloid', 'Endothelial', 'Fibroblast', 'Epithelial'\n",
    ")"
   ]
  },
  {
   "cell_type": "code",
   "execution_count": 15,
   "id": "783c541f-708d-4e8b-8b7c-3c7cbf5c8f0e",
   "metadata": {
    "tags": [],
    "vscode": {
     "languageId": "r"
    }
   },
   "outputs": [
    {
     "name": "stderr",
     "output_type": "stream",
     "text": [
      "The automatically generated colors map from the 1^st and 99^th of the\n",
      "values in the matrix. There are outliers in the matrix whose patterns\n",
      "might be hidden by this color mapping. You can manually set the color\n",
      "to `col` argument.\n",
      "\n",
      "Use `suppressMessages()` to turn off this message.\n",
      "\n"
     ]
    },
    {
     "data": {
      "text/html": [
       "<strong>png:</strong> 2"
      ],
      "text/latex": [
       "\\textbf{png:} 2"
      ],
      "text/markdown": [
       "**png:** 2"
      ],
      "text/plain": [
       "png \n",
       "  2 "
      ]
     },
     "metadata": {},
     "output_type": "display_data"
    }
   ],
   "source": [
    "set.seed(123)\n",
    "col_anno <- HeatmapAnnotation(\n",
    "    'Major cell type' = (count(df, macrotype, subtype) %>% pull(macrotype, name = 'subtype'))[colnames(mat)],\n",
    "    col = list('Major cell type' = macrotype_colors),\n",
    "    # show_legend = FALSE,\n",
    "    which = 'column', height = unit(1, 'cm'), na_col = 'gray50'\n",
    ")\n",
    "treat_heatmap(\n",
    "    mat = mat, cluster_columns = T, cluster_rows = F, name = 'Percent',\n",
    "    row_names_gp = gpar(fontsize = 8), top_annotation = col_anno, fig_size = c(9, 8), \n",
    "    outfile = str_glue('{outdir}/figs1c-heat-sample_pct_in_subtype.pdf')\n",
    ")"
   ]
  },
  {
   "cell_type": "markdown",
   "id": "c15dc672-f833-4ed5-9e1f-eed817c1c55a",
   "metadata": {},
   "source": [
    "## todos"
   ]
  },
  {
   "cell_type": "code",
   "execution_count": null,
   "id": "d2151c36-782d-4e81-a9db-d91d750c8792",
   "metadata": {
    "vscode": {
     "languageId": "r"
    }
   },
   "outputs": [],
   "source": []
  },
  {
   "cell_type": "markdown",
   "id": "12aa987b",
   "metadata": {},
   "source": [
    "## s1c: umap of major cell types"
   ]
  },
  {
   "cell_type": "code",
   "execution_count": null,
   "id": "2377060c",
   "metadata": {
    "vscode": {
     "languageId": "r"
    }
   },
   "outputs": [],
   "source": [
    "theme_set(theme_pubr())\n",
    "outdir <- '../figures/fig1/'\n",
    "title_map <- c(\n",
    "    'fibro' = 'Fibroblast',\n",
    "    'endo' = 'Endothelial',\n",
    "    'b_plasma' = 'B & Plasma cells',\n",
    "    't' = 'T cells',\n",
    "    'myeloid' = 'Myeloid',\n",
    "    'epi' = 'Epithelial',\n",
    "    'whole' = 'Major cell type'\n",
    ")\n",
    "obj_path <- c(\n",
    "    'fibro' = '../../stage4/a01_data/seuobj/fibro.rds',\n",
    "    'endo' = '../../stage4/a01_data/seuobj/endo.rds',\n",
    "    'b_plasma' = '../../stage4/a01_data/seuobj/b_plasma.rds',\n",
    "    't' = '../../stage4/a01_data/seuobj/t.rds',\n",
    "    'myeloid' = '../../stage4/a01_data/seuobj/myeloid.rds',\n",
    "    'epi' = '../../stage4/a01_data/seuobj/epi.rds',\n",
    ")"
   ]
  },
  {
   "cell_type": "code",
   "execution_count": null,
   "id": "05ddad27",
   "metadata": {
    "vscode": {
     "languageId": "r"
    }
   },
   "outputs": [
    {
     "name": "stderr",
     "output_type": "stream",
     "text": [
      "Rasterizing points since number of points exceeds 100,000.\n",
      "To disable this behavior set `raster=FALSE`\n",
      "\n",
      "Rasterizing points since number of points exceeds 100,000.\n",
      "To disable this behavior set `raster=FALSE`\n",
      "\n",
      "Rasterizing points since number of points exceeds 100,000.\n",
      "To disable this behavior set `raster=FALSE`\n",
      "\n",
      "Rasterizing points since number of points exceeds 100,000.\n",
      "To disable this behavior set `raster=FALSE`\n",
      "\n",
      "Rasterizing points since number of points exceeds 100,000.\n",
      "To disable this behavior set `raster=FALSE`\n",
      "\n"
     ]
    }
   ],
   "source": [
    "for (nm in names(obj_path)) {\n",
    "    scrna <- readRDS(obj_path[nm])\n",
    "    if (nm == 't') {\n",
    "        scrna$subtype[scrna$subtype == 'T_Prolif'] <- 'T_MKI67'\n",
    "    }\n",
    "    color_by <- if_else(nm == 't', 'subtype', if_else(nm == 'whole', 'cell_type_correct', 'cell_type'))\n",
    "    p <- DimPlot(object = scrna, reduction = 'umap', group.by = color_by, raster = T, shuffle = T,\n",
    "                 label = T, label.size = 4, cols = scanpy_pal$zeileis_28, repel = T) +\n",
    "        labs(title = title_map[nm]) +\n",
    "        theme(axis.line = element_blank(), \n",
    "              axis.ticks = element_blank(),\n",
    "              axis.text = element_blank(),\n",
    "              axis.title = element_blank(),\n",
    "              legend.position = 'none')\n",
    "    ggsave(filename = str_glue('{outdir}/fig1-umap_celltype-{nm}.pdf'), plot = p, width = 5, height = 4)\n",
    "    rm(scrna)\n",
    "    gc()\n",
    "}"
   ]
  },
  {
   "cell_type": "code",
   "execution_count": null,
   "id": "1c4af67c",
   "metadata": {
    "vscode": {
     "languageId": "r"
    }
   },
   "outputs": [],
   "source": [
    "subdata <- subset(x = scrna, downsample = 10000)\n",
    "p <- DimPlot(subdata, group.by = 'cellgp', pt.size = 0.8, label = T) +\n",
    "    NoLegend() + \n",
    "    scale_color_jama() +\n",
    "    theme(plot.title = element_blank())\n",
    "ggsave('../fig1/fig1-umap_celltype-whole-v3.pdf', plot=p, height = 4, width = 5)"
   ]
  }
 ],
 "metadata": {
  "kernelspec": {
   "display_name": "r_env",
   "language": "R",
   "name": "r_env"
  },
  "language_info": {
   "codemirror_mode": "r",
   "file_extension": ".r",
   "mimetype": "text/x-r-source",
   "name": "R",
   "pygments_lexer": "r",
   "version": "4.1.3"
  }
 },
 "nbformat": 4,
 "nbformat_minor": 5
}

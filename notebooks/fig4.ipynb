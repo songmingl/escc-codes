{
 "cells": [
  {
   "cell_type": "markdown",
   "id": "4e78bb62-b115-43fd-9fb7-c826ee2811a4",
   "metadata": {
    "tags": []
   },
   "source": [
    "# figure 4 vlz\n",
    "\n",
    "- kernel: r_env, R 4.1.3\n",
    "- date: 2023-12-28"
   ]
  },
  {
   "cell_type": "markdown",
   "id": "0e59ed14-a3c3-49a6-8411-ae918b67af3b",
   "metadata": {
    "tags": []
   },
   "source": [
    "## load"
   ]
  },
  {
   "cell_type": "code",
   "execution_count": null,
   "id": "95697196-8cfb-4a41-9105-a25a0d5c0baf",
   "metadata": {
    "tags": [],
    "vscode": {
     "languageId": "r"
    }
   },
   "outputs": [
    {
     "name": "stderr",
     "output_type": "stream",
     "text": [
      "── \u001b[1mAttaching core tidyverse packages\u001b[22m ──────────────────────── tidyverse 2.0.0 ──\n",
      "\u001b[32m✔\u001b[39m \u001b[34mdplyr    \u001b[39m 1.1.0     \u001b[32m✔\u001b[39m \u001b[34mreadr    \u001b[39m 2.1.4\n",
      "\u001b[32m✔\u001b[39m \u001b[34mforcats  \u001b[39m 1.0.0     \u001b[32m✔\u001b[39m \u001b[34mstringr  \u001b[39m 1.5.0\n",
      "\u001b[32m✔\u001b[39m \u001b[34mggplot2  \u001b[39m 3.4.1     \u001b[32m✔\u001b[39m \u001b[34mtibble   \u001b[39m 3.2.0\n",
      "\u001b[32m✔\u001b[39m \u001b[34mlubridate\u001b[39m 1.9.2     \u001b[32m✔\u001b[39m \u001b[34mtidyr    \u001b[39m 1.3.0\n",
      "\u001b[32m✔\u001b[39m \u001b[34mpurrr    \u001b[39m 1.0.1     \n",
      "── \u001b[1mConflicts\u001b[22m ────────────────────────────────────────── tidyverse_conflicts() ──\n",
      "\u001b[31m✖\u001b[39m \u001b[34mdplyr\u001b[39m::\u001b[32mfilter()\u001b[39m masks \u001b[34mstats\u001b[39m::filter()\n",
      "\u001b[31m✖\u001b[39m \u001b[34mdplyr\u001b[39m::\u001b[32mlag()\u001b[39m    masks \u001b[34mstats\u001b[39m::lag()\n",
      "\u001b[36mℹ\u001b[39m Use the conflicted package (\u001b[3m\u001b[34m<http://conflicted.r-lib.org/>\u001b[39m\u001b[23m) to force all conflicts to become errors\n",
      "Attaching SeuratObject\n",
      "\n"
     ]
    }
   ],
   "source": [
    "library(tidyverse)\n",
    "library(logging)\n",
    "library(ggpubr)\n",
    "library(ggsci)\n",
    "library(patchwork)\n",
    "library(Seurat)\n",
    "\n",
    "source('../../stage2/scripts/r_funcs.r')\n",
    "\n",
    "theme_set(theme_pubr())\n",
    "logging::basicConfig()\n",
    "options(warn = -1)\n",
    "\n",
    "outdir <- '../figures/fig4'\n",
    "create_dir(outdir)"
   ]
  },
  {
   "cell_type": "code",
   "execution_count": null,
   "id": "a861c9a0-c519-47c3-8d7b-1e864e2ec231",
   "metadata": {
    "tags": [],
    "vscode": {
     "languageId": "r"
    }
   },
   "outputs": [],
   "source": [
    "f_pat_gp <- '../tables/patient_info_v2.tsv'\n",
    "gp <- 'response'\n",
    "gp_lvls$response <- c('R', 'PR')\n",
    "gp_comp_map$response <- list(\n",
    "  c('R-pre', 'R-post'),\n",
    "  c('PR-pre', 'PR-post'),\n",
    "  c('R-pre', 'PR-pre'),\n",
    "  c('R-post', 'PR-post')\n",
    ")\n",
    "gp_comp_diff_map$response <- list(c('R', 'PR'))\n",
    "gp_comp_map_pre$response <- list(c('R-pre', 'PR-pre'))\n",
    "comb_order <- c('R-pre', 'R-post', 'PR-pre', 'PR-post')"
   ]
  },
  {
   "cell_type": "code",
   "execution_count": null,
   "id": "b6b88380-c498-4bb0-9702-737bb7ae5776",
   "metadata": {
    "tags": [],
    "vscode": {
     "languageId": "r"
    }
   },
   "outputs": [],
   "source": [
    "celltype_map <- list(\n",
    "    'T_MKI67' = c('T_Prolif')\n",
    ")\n",
    "\n",
    "cell_state_map <- list(\n",
    "    'cytotoxic' = c('CD8_ANXA1', 'CD8_CCL5', 'CD8_CX3CR1', 'CD8_FOS', 'CD8_GZMK', 'CD8_KLRB1'),\n",
    "    'exhausted' = c('CD4_CXCL13', 'CD8_CXCL13', 'CD8_TYMS', 'T_MKI67', 'Treg_TNFRSF4'),\n",
    "    'dying' = c('T_Mito'),\n",
    "    'others' = c('CD4_KLRB1', 'CD8_CD74', 'CD8_IFIT1', 'T_IL7R', 'T_Ribo', 'Treg_LTB')\n",
    ")\n",
    "cell_state_order <- c('cytotoxic', 'exhausted', 'dying', 'others')\n",
    "cell_state_color <- c('exhausted' = '#023fa5', 'cytotoxic' = 'red', \n",
    "                      'dying' = '#bb7784', 'others' = '#ff9639')"
   ]
  },
  {
   "cell_type": "markdown",
   "id": "6ead5922-7a9b-4ae5-9d6f-5ae1099c834f",
   "metadata": {
    "jp-MarkdownHeadingCollapsed": true,
    "tags": []
   },
   "source": [
    "## pre-post TCR sharing: 4a-c"
   ]
  },
  {
   "cell_type": "code",
   "execution_count": null,
   "id": "f5b37c2b-7b84-490f-bd66-17fc7802062b",
   "metadata": {
    "tags": [],
    "vscode": {
     "languageId": "r"
    }
   },
   "outputs": [],
   "source": [
    "f_share <- '../../stage4/a05_clone_share/pre_post_share/pre_post_share-per_clone_subtype.tsv'  # subtype level share\n",
    "f_clone_share_sample <- '../../stage4/a05_clone_share/pre_post_share/pre_post_share-by_sample-per_clone.tsv'  # sample level share\n",
    "\n",
    "min_cell_per_sample_subtype <- 10  # to cosistent with expand percent analysis"
   ]
  },
  {
   "cell_type": "markdown",
   "id": "56a78031",
   "metadata": {},
   "source": [
    "### 4a: vln of clone fraction in Treat, novel vs pre-exisiting\n",
    "\n",
    "- sharing at sample level\n",
    "- clone fraction (based on RNA & TCR data) in mandarad_group, post-novel & pre-post-shared types\n",
    "- min_cell_per_clone = 2"
   ]
  },
  {
   "cell_type": "code",
   "execution_count": null,
   "id": "8baf874d",
   "metadata": {
    "vscode": {
     "languageId": "r"
    }
   },
   "outputs": [
    {
     "data": {
      "text/html": [
       "<style>\n",
       ".list-inline {list-style: none; margin:0; padding: 0}\n",
       ".list-inline>li {display: inline-block}\n",
       ".list-inline>li:not(:last-child)::after {content: \"\\00b7\"; padding: 0 .5ex}\n",
       "</style>\n",
       "<ol class=list-inline><li>67283</li><li>17</li></ol>\n"
      ],
      "text/latex": [
       "\\begin{enumerate*}\n",
       "\\item 67283\n",
       "\\item 17\n",
       "\\end{enumerate*}\n"
      ],
      "text/markdown": [
       "1. 67283\n",
       "2. 17\n",
       "\n",
       "\n"
      ],
      "text/plain": [
       "[1] 67283    17"
      ]
     },
     "metadata": {},
     "output_type": "display_data"
    }
   ],
   "source": [
    "min_cell_per_clone <- 2\n",
    "xorder <- c('R-pre_existing', 'R-post_novel', 'PR-pre_existing', 'PR-post_novel')\n",
    "comp_ls <- list(\n",
    "    c('R-pre_existing', 'R-post_novel'), c('PR-pre_existing', 'PR-post_novel'),\n",
    "    c('R-pre_existing', 'PR-pre_existing'), c('R-post_novel', 'PR-post_novel')\n",
    ")\n",
    "\n",
    "clone_share_info <- read_tsv(f_clone_share_sample, show_col_types = F)\n",
    "clone_share_info %>% dim"
   ]
  },
  {
   "cell_type": "code",
   "execution_count": null,
   "id": "a2ebefc8",
   "metadata": {
    "vscode": {
     "languageId": "r"
    }
   },
   "outputs": [
    {
     "name": "stdout",
     "output_type": "stream",
     "text": [
      "\u001b[0m2024-02-05 15:12:25 INFO::these clinial info will be added: response\u001b[0m\u001b[22m\u001b[23m\u001b[24m\u001b[27m\u001b[28m\u001b[29m\u001b[39m\u001b[49m\u001b[0m\u001b[0m\u001b[22m\u001b[23m\u001b[24m\u001b[27m\u001b[28m\u001b[29m\u001b[39m\u001b[49m\n"
     ]
    },
    {
     "data": {
      "text/html": [
       "<style>\n",
       ".list-inline {list-style: none; margin:0; padding: 0}\n",
       ".list-inline>li {display: inline-block}\n",
       ".list-inline>li:not(:last-child)::after {content: \"\\00b7\"; padding: 0 .5ex}\n",
       "</style>\n",
       "<ol class=list-inline><li>4689</li><li>19</li></ol>\n"
      ],
      "text/latex": [
       "\\begin{enumerate*}\n",
       "\\item 4689\n",
       "\\item 19\n",
       "\\end{enumerate*}\n"
      ],
      "text/markdown": [
       "1. 4689\n",
       "2. 19\n",
       "\n",
       "\n"
      ],
      "text/plain": [
       "[1] 4689   19"
      ]
     },
     "metadata": {},
     "output_type": "display_data"
    }
   ],
   "source": [
    "# stat\n",
    "df_stat <- clone_share_info %>% \n",
    "    filter(!is.na(sample_post)) %>%  # all Treat clones %>%\n",
    "    add_clin_info(ftsv = f_pat_gp, columns = gp, merge_by = 'patient') %>%\n",
    "    mutate(xlab = case_when(\n",
    "        share_type == 'pre_post_share' ~ paste0(.data[[gp]], '-pre_existing'), \n",
    "        share_type == 'post_specific' ~ paste0(.data[[gp]], '-post_novel'), \n",
    "        TRUE ~ 'others'\n",
    "    )) %>%\n",
    "    filter(n_cell_per_sample_clone_post >= min_cell_per_clone)  # filter clones with few cells\n",
    "df_stat %>% dim\n",
    "df_stat %>% write_tsv(str_glue('{outdir}/fig4a-tcr_share-post_novel-vs-pre_exist-clone_frac_new.tsv'))"
   ]
  },
  {
   "cell_type": "code",
   "execution_count": null,
   "id": "0e105e06",
   "metadata": {
    "vscode": {
     "languageId": "r"
    }
   },
   "outputs": [],
   "source": [
    "# plot\n",
    "p <- read_tsv(str_glue('{outdir}/fig4a-tcr_share-post_novel-vs-pre_exist-clone_frac_new.tsv'), show_col_types = F) %>%\n",
    "    mutate(pat_gp = factor(.data[[gp]], gp_lvls[[gp]])) %>%\n",
    "    ggviolin(x = 'xlab', y = 'clone_frac_new_post', fill = 'pat_gp', add = 'boxplot', palette = 'jco', order = xorder) +\n",
    "    scale_y_continuous(trans = 'log10') +\n",
    "    stat_compare_means(comparisons = comp_ls) +\n",
    "    labs(x = '', y = 'Clonotype fraction at sample level\\n(RNA & TCR data)', fill = 'Response') +\n",
    "    theme(axis.text.x = element_text(angle = 60, hjust = 0.96))\n",
    "ggsave(filename = str_glue('{outdir}/fig4a-vln_tcr_share-post_novel-vs-pre_exist-clone_frac_new.pdf'),\n",
    "       plot = p, width = 4, height = 6)"
   ]
  },
  {
   "cell_type": "markdown",
   "id": "dafa9e8f-d1b8-4fde-801f-72fd92615e5d",
   "metadata": {
    "jp-MarkdownHeadingCollapsed": true,
    "tags": []
   },
   "source": [
    "### 4b-1: all Baseline vs all Treat in Baseline\n",
    "\n",
    "- all Baseline, all Treat overlap TCRs / all Baseline TCRs, cell type level\n",
    "- min_cell_per_sample_subtype = 10"
   ]
  },
  {
   "cell_type": "code",
   "execution_count": null,
   "id": "d0b48fda-c744-41cd-aa3a-894f42bb9856",
   "metadata": {
    "tags": [],
    "vscode": {
     "languageId": "r"
    }
   },
   "outputs": [],
   "source": [
    "df <- read_tsv(f_share, show_col_types = F)\n",
    "\n",
    "# rename cell type\n",
    "for (nm in names(celltype_map)) {\n",
    "    df$subtype[df$subtype %in% celltype_map[[nm]]] <- nm\n",
    "}"
   ]
  },
  {
   "cell_type": "code",
   "execution_count": null,
   "id": "25f19d69-a9df-470e-8fd4-f3247fce74e1",
   "metadata": {
    "tags": [],
    "vscode": {
     "languageId": "r"
    }
   },
   "outputs": [
    {
     "name": "stdout",
     "output_type": "stream",
     "text": [
      "\u001b[0m2024-02-05 15:21:59 INFO::these clinial info will be added: response\u001b[0m\u001b[22m\u001b[23m\u001b[24m\u001b[27m\u001b[28m\u001b[29m\u001b[39m\u001b[49m\u001b[0m\u001b[0m\u001b[22m\u001b[23m\u001b[24m\u001b[27m\u001b[28m\u001b[29m\u001b[39m\u001b[49m\n",
      "\u001b[0m2024-02-05 15:21:59 INFO::513 recores\u001b[0m\u001b[22m\u001b[23m\u001b[24m\u001b[27m\u001b[28m\u001b[29m\u001b[39m\u001b[49m\u001b[0m\u001b[0m\u001b[22m\u001b[23m\u001b[24m\u001b[27m\u001b[28m\u001b[29m\u001b[39m\u001b[49m\n"
     ]
    }
   ],
   "source": [
    "# stat\n",
    "df_stat <- df %>% \n",
    "    filter(!is.na(sample_pre)) %>%  # all Baseline TCRs\n",
    "    add_count(sample_pre, subtype, name = 'n_clone_per_samp_subtype') %>%\n",
    "    count(patient, subtype, share_type, n_clone_per_samp_subtype, n_cell_per_sample_subtype_pre, name = 'n_clone') %>% \n",
    "    pivot_wider(names_from = 'share_type', values_from = 'n_clone', values_fill = 0) %>%\n",
    "    filter(n_cell_per_sample_subtype_pre >= min_cell_per_sample_subtype) %>%\n",
    "    mutate(pct = 100 * pre_post_share / n_clone_per_samp_subtype) %>%\n",
    "    filter(!grepl('^NK', subtype)) %>%  # no NK cells\n",
    "    add_clin_info(ftsv = f_pat_gp, columns = gp, merge_by = 'patient')\n",
    "df_stat %>% write_tsv(str_glue('{outdir}/fig4b-tcr_share-pre_in_post.tsv'))\n",
    "loginfo('%g recores', nrow(df_stat))"
   ]
  },
  {
   "cell_type": "code",
   "execution_count": null,
   "id": "edbbaa0d-bd09-4c52-b922-47aec1fac8c1",
   "metadata": {
    "tags": [],
    "vscode": {
     "languageId": "r"
    }
   },
   "outputs": [],
   "source": [
    "# plot\n",
    "dp <- read_tsv(str_glue('{outdir}/fig4b-tcr_share-pre_in_post.tsv'), show_col_types = F)\n",
    "xorder <- dp %>%\n",
    "        summarise(.by = c('subtype'), val = median(pct)) %>%\n",
    "        arrange(-val) %>%\n",
    "        pull('subtype')\n",
    "p <- dp %>%\n",
    "    cell_comp_boxplot(x = 'subtype', xorder = xorder, y = 'pct', pair_by = NULL, seed_i = 12345, size = 2,\n",
    "                      pt_fill = gp, fill_order = gp_lvls[[gp]], xangle = 60, facet_by = NULL,\n",
    "                      ytitle = 'Percent of shared clones in pre-treatment') +\n",
    "    labs(title = str_glue('all Baseline clones vs all Treat clones,',\n",
    "                          '\\n>={min_cell_per_sample_subtype} cells per Baseline sample per subtype'),\n",
    "         fill = 'Response') \n",
    "ggsave(filename = str_glue('{outdir}/fig4b-box_tcr_share-pre_in_post-min{min_cell_per_sample_subtype}.pdf'),\n",
    "       plot = p, width = 6, height = 6)"
   ]
  },
  {
   "cell_type": "markdown",
   "id": "ff420c0d-07c1-4569-b790-de06fc2b9537",
   "metadata": {
    "tags": []
   },
   "source": [
    "### 4b-2: all Baseline vs all Treat in Treat\n",
    "\n",
    "- all Baseline, all Treat overlap TCRs / all Treat TCRs, cell type level\n",
    "- min_cell_per_sample_subtype = 10"
   ]
  },
  {
   "cell_type": "code",
   "execution_count": null,
   "id": "1936537b-9e05-47f7-a41c-33df759d7ae6",
   "metadata": {
    "tags": [],
    "vscode": {
     "languageId": "r"
    }
   },
   "outputs": [
    {
     "name": "stdout",
     "output_type": "stream",
     "text": [
      "\u001b[0m2024-02-05 15:24:26 INFO::these clinial info will be added: response\u001b[0m\u001b[22m\u001b[23m\u001b[24m\u001b[27m\u001b[28m\u001b[29m\u001b[39m\u001b[49m\u001b[0m\u001b[0m\u001b[22m\u001b[23m\u001b[24m\u001b[27m\u001b[28m\u001b[29m\u001b[39m\u001b[49m\n",
      "\u001b[0m2024-02-05 15:24:26 INFO::415 records\u001b[0m\u001b[22m\u001b[23m\u001b[24m\u001b[27m\u001b[28m\u001b[29m\u001b[39m\u001b[49m\u001b[0m\u001b[0m\u001b[22m\u001b[23m\u001b[24m\u001b[27m\u001b[28m\u001b[29m\u001b[39m\u001b[49m\n"
     ]
    }
   ],
   "source": [
    "df <- read_tsv(f_share, show_col_types = F)\n",
    "# rename cell type\n",
    "for (nm in names(celltype_map)) {\n",
    "    df$subtype[df$subtype %in% celltype_map[[nm]]] <- nm\n",
    "}\n",
    "# stat\n",
    "df_stat <- df %>% \n",
    "    filter(!is.na(sample_post)) %>%  # all Treat TCRs\n",
    "    add_count(sample_post, subtype, name = 'n_clone_per_samp_subtype') %>%\n",
    "    count(patient, subtype, share_type, n_clone_per_samp_subtype, n_cell_per_sample_subtype_post, name = 'n_clone') %>% \n",
    "    pivot_wider(names_from = 'share_type', values_from = 'n_clone', values_fill = 0) %>% \n",
    "    filter(n_cell_per_sample_subtype_post >= min_cell_per_sample_subtype) %>%\n",
    "    mutate(pct = 100 * pre_post_share / n_clone_per_samp_subtype) %>%\n",
    "    filter(!grepl('^NK', subtype)) %>%  # no NK cells\n",
    "    add_clin_info(ftsv = f_pat_gp, columns = gp, merge_by = 'patient')\n",
    "df_stat %>% write_tsv(str_glue('{outdir}/fig4b-tcr_share-post_in_pre.tsv'))\n",
    "loginfo('%g records', nrow(df_stat))"
   ]
  },
  {
   "cell_type": "code",
   "execution_count": null,
   "id": "8add8602-3495-45ef-9ca0-b0c1df41821e",
   "metadata": {
    "tags": [],
    "vscode": {
     "languageId": "r"
    }
   },
   "outputs": [],
   "source": [
    "# plot\n",
    "dp <- read_tsv(str_glue('{outdir}/fig4b-tcr_share-post_in_pre.tsv'), show_col_types = F)\n",
    "xorder <- dp %>%\n",
    "        summarise(.by = c('subtype'), val = median(pct)) %>%\n",
    "        arrange(-val) %>%\n",
    "        pull('subtype')\n",
    "p <- dp %>%\n",
    "    cell_comp_boxplot(x = 'subtype', xorder = xorder, y = 'pct', pair_by = NULL, seed_i = 12345, size = 2,\n",
    "                      pt_fill = gp, fill_order = gp_lvls[[gp]], xangle = 60, facet_by = NULL,\n",
    "                      ytitle = 'Percent of shared clones in post-treatment') +\n",
    "    labs(title = str_glue('all Baseline clones vs all Treat clones,',\n",
    "                          '\\n>={min_cell_per_sample_subtype} cells per Treat sample per subtype'),\n",
    "         fill = 'Response') \n",
    "ggsave(filename = str_glue('{outdir}/fig4b-box_tcr_share-post_in_pre-min{min_cell_per_sample_subtype}.pdf'),\n",
    "       plot = p, width = 6, height = 6)"
   ]
  },
  {
   "cell_type": "markdown",
   "id": "d8b3411f-0412-4faa-8932-6c0e016b09da",
   "metadata": {},
   "source": [
    "### 4c: share clone percent in post"
   ]
  },
  {
   "cell_type": "code",
   "execution_count": null,
   "id": "12106af5-705a-4323-83ff-04bdaf98d6cb",
   "metadata": {
    "tags": [],
    "vscode": {
     "languageId": "r"
    }
   },
   "outputs": [],
   "source": [
    "f_pct_info <- '../figures/fig4/fig4b-tcr_share-post_in_pre.tsv'\n",
    "used_ctypes <- c(\n",
    "    'CD8_FOS', 'CD8_GZMK', 'CD8_CXCL13', \n",
    "    'CD8_ANXA1', 'Treg_TNFRSF4', 'CD8_TYMS'\n",
    ")"
   ]
  },
  {
   "cell_type": "code",
   "execution_count": null,
   "id": "9139bea7-f0ff-45d6-8723-9808a6e65c5c",
   "metadata": {
    "tags": [],
    "vscode": {
     "languageId": "r"
    }
   },
   "outputs": [],
   "source": [
    "p <- read_tsv(f_pct_info, show_col_types = F) %>% \n",
    "    filter(subtype %in% used_ctypes) %>%\n",
    "    mutate(subtype = factor(subtype, used_ctypes)) %>%\n",
    "    cell_comp_boxplot(x = gp, y = 'pct', pt_fill = gp, facet_by = 'subtype', pair_by = NULL,\n",
    "                      xorder = gp_lvls[[gp]], fill_order = gp_lvls[[gp]], ncol = 3) +\n",
    "    stat_compare_means(comparisons = gp_comp_diff_map[[gp]]) +\n",
    "    labs(y = 'Percent of shared clones in post-treatment', fill = 'Response') +\n",
    "    theme(axis.title.x = element_blank(), legend.position = 'right')\n",
    "ggsave(filename = str_glue('{outdir}/fig4c-box_tcr_share-share_clone_pct_comp-by_{gp}.pdf'),\n",
    "       plot = p, width = 7, height = 7)"
   ]
  },
  {
   "cell_type": "markdown",
   "id": "6e9ca217-ab63-4d33-a2a4-753500be8ac2",
   "metadata": {
    "tags": []
   },
   "source": [
    "## clone change type (pre vs post): 4d-h"
   ]
  },
  {
   "cell_type": "code",
   "execution_count": null,
   "id": "11fe12c9",
   "metadata": {
    "vscode": {
     "languageId": "r"
    }
   },
   "outputs": [],
   "source": [
    "# cell source of 4 clone cat\n",
    "f_cell_source <- '../../stage4/a05_clone_share/pre_post_share/clone_frac_in_sample/clone_cell_source-cell_state-clone_change_type.tsv'\n",
    "# clone sharing intra- cell state level (with sharing_type)\n",
    "f_share_type <- '../../stage4/a05_clone_share/pre_post_share/pre_post_share-per_clone-cell_state.tsv'\n",
    "# merged clone frac/clone change type (sample level) & clone sharing info (no sharing_type)\n",
    "f_clone_change <- '../../stage4/a05_clone_share/pre_post_share/clone_frac_in_sample/clone_pair_patient-clone_change_type-chisq.tsv'\n",
    "\n",
    "clone_type_lvl <- c('Expanded', 'Contracted', 'Persistent')\n",
    "clone_type_color_map <- c(\n",
    "    'Expanded' = '#EE0000FF', 'Contracted' = '#3B4992FF', 'Persistent' = 'gray60'\n",
    ")\n",
    "ctype_colors <- c(\n",
    "    CD8_ANXA1 = '#8C0439', CD8_CCL5 = '#A12253', CD8_CX3CR1 = '#B6416D', CD8_FOS = '#CC6088',\n",
    "    CD8_GZMK = '#E17FA2', CD8_KLRB1 = '#F79EBD', CD4_CXCL13 = '#003CA5', CD8_CXCL13 = '#2F5DB1', \n",
    "    CD8_TYMS = '#5E7FBD', T_MKI67 = '#8DA1C9', Treg_TNFRSF4 = '#BDC3D6', T_Mito = '#7B7D7B',\n",
    "    CD4_KLRB1 = '#DF9608', CD8_CD74 = '#E2A22E', CD8_IFIT1 = '#E5AE54', T_IL7R = '#E8BA7A', \n",
    "    T_Ribo = '#EBC6A0', Treg_LTB = '#EFD3C6'\n",
    ")"
   ]
  },
  {
   "cell_type": "markdown",
   "id": "9a825af4",
   "metadata": {},
   "source": [
    "### 4d: scatter show clone type\n",
    "\n",
    "- desc: only pre-post shared clones (clone sharing defined intra cell state)"
   ]
  },
  {
   "cell_type": "code",
   "execution_count": null,
   "id": "87da2c98",
   "metadata": {
    "vscode": {
     "languageId": "r"
    }
   },
   "outputs": [],
   "source": [
    "xy_tick_labels <- c(0.001, 0.01, 0.1)\n",
    "used_states <- c('cytotoxic', 'exhausted', 'dying', 'others')"
   ]
  },
  {
   "cell_type": "code",
   "execution_count": null,
   "id": "9046d483",
   "metadata": {
    "vscode": {
     "languageId": "r"
    }
   },
   "outputs": [
    {
     "name": "stdout",
     "output_type": "stream",
     "text": [
      "\u001b[0m2024-02-22 16:19:58 INFO::these clinial info will be added: response\u001b[0m\u001b[22m\u001b[23m\u001b[24m\u001b[27m\u001b[28m\u001b[29m\u001b[39m\u001b[49m\u001b[0m\u001b[0m\u001b[22m\u001b[23m\u001b[24m\u001b[27m\u001b[28m\u001b[29m\u001b[39m\u001b[49m\n",
      "\u001b[0m2024-02-22 16:19:59 INFO::4240 records\u001b[0m\u001b[22m\u001b[23m\u001b[24m\u001b[27m\u001b[28m\u001b[29m\u001b[39m\u001b[49m\u001b[0m\u001b[0m\u001b[22m\u001b[23m\u001b[24m\u001b[27m\u001b[28m\u001b[29m\u001b[39m\u001b[49m\n"
     ]
    }
   ],
   "source": [
    "df <- read_tsv(f_clone_change, show_col_types = F) %>%\n",
    "    filter(!grepl('NK', cell_state)) %>%  # no NK cells\n",
    "    filter(cell_state %in% used_states) %>%\n",
    "    select(-c('mandard_group', 'response_degree', 'treatment_group')) %>%\n",
    "    add_clin_info(ftsv = f_pat_gp, columns = gp, merge_by = 'patient')\n",
    "df <- read_tsv(f_share_type, show_col_types = F) %>% \n",
    "    filter(share_type == 'pre_post_share') %>%\n",
    "    select(patient, patient_id, clonotype, cell_state, share_type) %>% \n",
    "    distinct() %>%\n",
    "    merge(df, by = c('patient', 'patient_id', 'clonotype', 'cell_state'))\n",
    "df %>% write_tsv(str_glue('{outdir}/figs7a-clone_change_type-clone_frac_pre_vs_post-by_state-only_share.tsv'))\n",
    "\n",
    "loginfo('%g records', nrow(df))"
   ]
  },
  {
   "cell_type": "code",
   "execution_count": null,
   "id": "c967507f",
   "metadata": {
    "vscode": {
     "languageId": "r"
    }
   },
   "outputs": [],
   "source": [
    "# scatter show expand type use clone fraction\n",
    "p <- read_tsv(str_glue('{outdir}/figs7a-clone_change_type-clone_frac_pre_vs_post-by_state-only_share.tsv'), show_col_types = F) %>%\n",
    "    mutate(clone_change_type = factor(clone_change_type, levels = clone_type_lvl),\n",
    "           frow = factor(.data[[gp]], gp_lvls[[gp]]),\n",
    "           fcol = factor(cell_state, used_states)) %>%\n",
    "    ggscatter(x = 'clone_frac_in_sample_pre', y = 'clone_frac_in_sample_post', color = 'clone_change_type', alpha = 0.7, cor.coef = T) +\n",
    "    geom_abline(slope = 1, intercept = 0) +\n",
    "    facet_grid(frow ~ fcol)  +\n",
    "    scale_x_continuous(breaks = xy_tick_labels) +\n",
    "    scale_y_continuous(breaks = xy_tick_labels) +\n",
    "    scale_color_manual(values = clone_type_color_map) +\n",
    "    guides(color = guide_legend(override.aes = list(size = 4))) +\n",
    "    coord_trans(x = lognp_trans(n = 0.001), y = lognp_trans(n = 0.001)) +\n",
    "    labs(x = 'Clone fraction in Baseline (RNA & TCR)', y = 'Clone fraction in Treat (RNA & TCR)',\n",
    "         color = 'Clone type') +\n",
    "    theme(legend.position = 'right')\n",
    "ggsave(filename = str_glue('{outdir}/figs7a-scatter-clone_chage_type-clone_frac_pre_vs_post-by_state-only_share.pdf'),\n",
    "       plot = p, width = 15, height = 5)"
   ]
  },
  {
   "cell_type": "markdown",
   "id": "a46dbb0f",
   "metadata": {},
   "source": [
    "### 4e: clone change type composition\n",
    "\n",
    "- to prove cytotoxic clusters are pre low-expand to post high-expand, exhausted clusters are pre-high expand clones to post-low\n",
    "- show contacted/expaned clone compositions at sample level"
   ]
  },
  {
   "cell_type": "code",
   "execution_count": null,
   "id": "e2b94407",
   "metadata": {
    "vscode": {
     "languageId": "r"
    }
   },
   "outputs": [],
   "source": [
    "comp_ls <- list(\n",
    "    c('R-Contracted', 'R-Expanded'), \n",
    "    c('PR-Contracted', 'PR-Expanded')\n",
    ")\n",
    "used_states <- c('cytotoxic', 'exhausted')"
   ]
  },
  {
   "cell_type": "code",
   "execution_count": null,
   "id": "66a8e653",
   "metadata": {
    "vscode": {
     "languageId": "r"
    }
   },
   "outputs": [
    {
     "name": "stdout",
     "output_type": "stream",
     "text": [
      "\u001b[0m2024-02-05 16:38:04 INFO::these clinial info will be added: response\u001b[0m\u001b[22m\u001b[23m\u001b[24m\u001b[27m\u001b[28m\u001b[29m\u001b[39m\u001b[49m\u001b[0m\u001b[0m\u001b[22m\u001b[23m\u001b[24m\u001b[27m\u001b[28m\u001b[29m\u001b[39m\u001b[49m\n",
      "\u001b[0m2024-02-05 16:38:04 INFO::348 records, 3 clone type\u001b[0m\u001b[22m\u001b[23m\u001b[24m\u001b[27m\u001b[28m\u001b[29m\u001b[39m\u001b[49m\u001b[0m\u001b[0m\u001b[22m\u001b[23m\u001b[24m\u001b[27m\u001b[28m\u001b[29m\u001b[39m\u001b[49m\n"
     ]
    }
   ],
   "source": [
    "dp <- read_tsv(f_clone_change, show_col_types = F) %>% \n",
    "    filter(!grepl('NK', cell_state)) %>%  # no NK cells\n",
    "    add_clin_info(ftsv = f_pat_gp, columns = gp, merge_by = 'patient') %>%\n",
    "    add_count(patient, cell_state, name = 'n_clone_per_sample_state') %>% \n",
    "    count(patient, .data[[gp]], cell_state, clone_change_type, n_clone_per_sample_state) %>% \n",
    "    mutate(pct = 100 * n / n_clone_per_sample_state) %>%\n",
    "    pivot_wider(id_cols = c('patient', gp, 'cell_state'),\n",
    "                names_from = 'clone_change_type', \n",
    "                values_from = 'pct', values_fill = 0) %>%\n",
    "    pivot_longer(cols = clone_type_lvl, names_to = 'clone_change_type', values_to = 'pct') %>%\n",
    "    mutate(cell_state = factor(cell_state, levels = cell_state_order))\n",
    "dp %>% write_tsv(str_glue('{outdir}/fig4e-clone_change_type-clone_pct-by_state.tsv'))\n",
    "loginfo('%g records, %g clone type', nrow(dp), length(unique(dp$clone_change_type)))"
   ]
  },
  {
   "cell_type": "code",
   "execution_count": null,
   "id": "4097572c",
   "metadata": {
    "vscode": {
     "languageId": "r"
    }
   },
   "outputs": [],
   "source": [
    "# boxplot show good vs poor clone change type proportion at sample level\n",
    "p <- read_tsv(str_glue('{outdir}/fig4e-clone_change_type-clone_pct-by_state.tsv'), show_col_types = F) %>%\n",
    "    filter(clone_change_type %in% c('Expanded', 'Contracted'),\n",
    "           cell_state %in% used_states) %>%\n",
    "    cell_comp_boxplot(x = c(gp, 'clone_change_type'),  y = 'pct', pt_fill = gp, facet_by = 'cell_state', \n",
    "                      pair_by = NULL, xorder = unlist(comp_ls), fill_order = gp_lvls[[gp]], xangle = 60) + \n",
    "    scale_y_continuous(breaks = c(1, 10, 100)) +\n",
    "    stat_compare_means(comparisons = comp_ls) +\n",
    "    coord_trans(y = 'lognp') + \n",
    "    labs(fill = 'Response', y = 'Clone percentage') +\n",
    "    theme(legend.position = 'right', axis.title.x = element_blank())\n",
    "ggsave(filename = str_glue('{outdir}/fig4e-box-clone_change_type-clone_pct-by_state.pdf'),\n",
    "       plot = p, width = 6, height = 5.5)"
   ]
  },
  {
   "cell_type": "markdown",
   "id": "a0aed36c",
   "metadata": {},
   "source": [
    "### 4f: subtype source of interested clones\n",
    "\n",
    "only consider pre-post paired samples; consider:\n",
    "- cytotoxic-Expanded, exhausted-Contracted clones\n",
    "- Contracted clones in cytotoxic clusters, Expanded clones in exhausted clusters"
   ]
  },
  {
   "cell_type": "code",
   "execution_count": null,
   "id": "52767ec0",
   "metadata": {
    "vscode": {
     "languageId": "r"
    }
   },
   "outputs": [],
   "source": [
    "used_cat <- c(\n",
    "  'Contracted clones in exhausted clusters', 'Expanded clones in exhausted clusters',\n",
    "  'Contracted clones in cytotoxic clusters', 'Expanded clones in cytotoxic clusters'\n",
    ")"
   ]
  },
  {
   "cell_type": "code",
   "execution_count": null,
   "id": "6cc9a8ad",
   "metadata": {
    "vscode": {
     "languageId": "r"
    }
   },
   "outputs": [],
   "source": [
    "# plot\n",
    "p <- read_tsv(f_cell_source, show_col_types = F) %>%\n",
    "    filter(!grepl('NK', celltype)) %>%\n",
    "    filter(clone_cat %in% used_cat) %>%\n",
    "    count(.data[[gp]], sample_type, clone_cat, celltype, name = 'n_cell') %>%\n",
    "    mutate(response_stype = factor(paste0(.data[[gp]], '-', sample_type), comb_order),\n",
    "           celltype = factor(celltype, names(ctype_colors))) %>%\n",
    "    ggbarplot(x = 'n_cell', y = 'response_stype', fill = 'celltype', position = position_fill()) +\n",
    "    facet_wrap(~ clone_cat) +\n",
    "    scale_fill_manual(values = ctype_colors) +\n",
    "    guides(fill = guide_legend(nrow = 3)) +\n",
    "    labs(x = 'Cell proportion', y = '', fill = '')\n",
    "\n",
    "ggsave(filename = str_glue('{outdir}/fig4f-bar-cell_source-cytoExpand_exhauContract.pdf'), \n",
    "       plot = p, width = 12, height = 7)"
   ]
  },
  {
   "cell_type": "markdown",
   "id": "4b5ca09f",
   "metadata": {},
   "source": [
    "## cell percent of specific cluster in specific clone cat\n",
    "\n",
    "- date: 2024-02-29\n",
    "- desc: cell level"
   ]
  },
  {
   "cell_type": "code",
   "execution_count": null,
   "id": "5036754b",
   "metadata": {
    "vscode": {
     "languageId": "r"
    }
   },
   "outputs": [
    {
     "name": "stdout",
     "output_type": "stream",
     "text": [
      "\u001b[0m2024-03-01 09:46:42 INFO::total 66214 cells, 58 samples\u001b[0m\u001b[22m\u001b[23m\u001b[24m\u001b[27m\u001b[28m\u001b[29m\u001b[39m\u001b[49m\u001b[0m\u001b[0m\u001b[22m\u001b[23m\u001b[24m\u001b[27m\u001b[28m\u001b[29m\u001b[39m\u001b[49m\n"
     ]
    }
   ],
   "source": [
    "min_cell <- 10\n",
    "clone_source <- read_tsv(f_cell_source, show_col_types = F) %>% \n",
    "    filter(!grepl('NK', celltype)) \n",
    "loginfo('total %g cells, %g samples', nrow(clone_source), length(unique(clone_source$sample)))"
   ]
  },
  {
   "cell_type": "markdown",
   "id": "deb1b4c1",
   "metadata": {},
   "source": [
    "### 4g: exhausted clusters in exhausted contracted"
   ]
  },
  {
   "cell_type": "code",
   "execution_count": null,
   "id": "4edcebbf",
   "metadata": {
    "vscode": {
     "languageId": "r"
    }
   },
   "outputs": [
    {
     "name": "stdout",
     "output_type": "stream",
     "text": [
      "\u001b[0m2024-03-01 09:51:15 INFO::these clinial info will be added: response\u001b[0m\u001b[22m\u001b[23m\u001b[24m\u001b[27m\u001b[28m\u001b[29m\u001b[39m\u001b[49m\u001b[0m\u001b[0m\u001b[22m\u001b[23m\u001b[24m\u001b[27m\u001b[28m\u001b[29m\u001b[39m\u001b[49m\n",
      "\u001b[0m2024-03-01 09:51:15 INFO::147 records\u001b[0m\u001b[22m\u001b[23m\u001b[24m\u001b[27m\u001b[28m\u001b[29m\u001b[39m\u001b[49m\u001b[0m\u001b[0m\u001b[22m\u001b[23m\u001b[24m\u001b[27m\u001b[28m\u001b[29m\u001b[39m\u001b[49m\n"
     ]
    }
   ],
   "source": [
    "prefix <- 'fig4h-cell_pct_in_exhau_contract'\n",
    "used_ctypes <- c('CD8_TYMS', 'T_MKI67')\n",
    "df <- clone_source %>% \n",
    "    filter(clone_cat == 'Contracted clones in exhausted clusters') %>% \n",
    "    mutate(cellgp = if_else(celltype %in% used_ctypes, celltype, 'others')) %>% \n",
    "    count(patient, sample_type, cellgp, name = 'n_cell') %>% \n",
    "    pivot_wider(id_cols = c('patient', 'sample_type'), names_from = 'cellgp',\n",
    "                values_from = 'n_cell', values_fill = 0) %>% \n",
    "    pivot_longer(cols = -c('patient', 'sample_type'), names_to = 'cellgp', values_to = 'n_cell') %>% \n",
    "    add_count(patient, sample_type, name = 'n_cell_per_sample', wt = n_cell) %>% \n",
    "    mutate(pct = 100 * n_cell / n_cell_per_sample) %>%\n",
    "    add_clin_info(ftsv = f_pat_gp, columns = gp, merge_by = 'patient')\n",
    "loginfo('%g records', nrow(df))\n",
    "df %>% write_tsv(str_glue('{outdir}/{prefix}.tsv'))"
   ]
  },
  {
   "cell_type": "code",
   "execution_count": null,
   "id": "20cfc650",
   "metadata": {
    "vscode": {
     "languageId": "r"
    }
   },
   "outputs": [],
   "source": [
    "p_ls <- lapply(X = used_ctypes, function(ctype) {\n",
    "    df %>%\n",
    "    filter(n_cell_per_sample >= min_cell) %>%\n",
    "    filter(cellgp == ctype) %>%\n",
    "    cell_comp_boxplot(x = c(gp, 'sample_type'), y = 'pct', pt_fill = gp, facet_by = NULL,\n",
    "                      xorder = comb_order, fill_order = gp_lvls[[gp]], xangle = 60) +\n",
    "    stat_compare_means(comparisons = gp_comp_map[[gp]]) +\n",
    "    labs(y = str_glue('Cell percent of {ctype} in exhausted contracted cells'), fill = 'Response') +\n",
    "    theme(legend.position = 'right')\n",
    "})\n",
    "ggsave(filename = str_glue('{outdir}/{prefix}-{min_cell}.pdf'), width = 4, height = 5,\n",
    "       plot = wrap_plots(p_ls, ncol = 2, guides = 'collect') & theme(legend.position = 'top'))"
   ]
  },
  {
   "cell_type": "markdown",
   "id": "4928c111",
   "metadata": {},
   "source": [
    "### 4h: exhausted clusters in cytotoxic expanded"
   ]
  },
  {
   "cell_type": "code",
   "execution_count": null,
   "id": "9da57d86",
   "metadata": {
    "vscode": {
     "languageId": "r"
    }
   },
   "outputs": [
    {
     "name": "stdout",
     "output_type": "stream",
     "text": [
      "\u001b[0m2024-03-01 10:02:04 INFO::these clinial info will be added: response\u001b[0m\u001b[22m\u001b[23m\u001b[24m\u001b[27m\u001b[28m\u001b[29m\u001b[39m\u001b[49m\u001b[0m\u001b[0m\u001b[22m\u001b[23m\u001b[24m\u001b[27m\u001b[28m\u001b[29m\u001b[39m\u001b[49m\n",
      "\u001b[0m2024-03-01 10:02:04 INFO::174 records\u001b[0m\u001b[22m\u001b[23m\u001b[24m\u001b[27m\u001b[28m\u001b[29m\u001b[39m\u001b[49m\u001b[0m\u001b[0m\u001b[22m\u001b[23m\u001b[24m\u001b[27m\u001b[28m\u001b[29m\u001b[39m\u001b[49m\n"
     ]
    }
   ],
   "source": [
    "prefix <- 'fig4h-cell_pct_in_cyto_expand'\n",
    "used_ctypes <- c('exhausted clusters', 'T_Mito')\n",
    "df <- clone_source %>% \n",
    "    filter(clone_cat == 'Expanded clones in cytotoxic clusters') %>% \n",
    "    mutate(cellgp = case_match(\n",
    "        celltype,\n",
    "        cell_state_map$exhausted ~ 'exhausted clusters',\n",
    "        cell_state_map$dying ~ 'T_Mito',\n",
    "        .default = 'others'\n",
    "    )) %>% \n",
    "    count(patient, sample_type, cellgp, name = 'n_cell') %>% \n",
    "    pivot_wider(id_cols = c('patient', 'sample_type'), names_from = 'cellgp',\n",
    "                values_from = 'n_cell', values_fill = 0) %>% \n",
    "    pivot_longer(cols = -c('patient', 'sample_type'), names_to = 'cellgp', values_to = 'n_cell') %>% \n",
    "    add_count(patient, sample_type, name = 'n_cell_per_sample', wt = n_cell) %>% \n",
    "    mutate(pct = 100 * n_cell / n_cell_per_sample) %>%\n",
    "    add_clin_info(ftsv = f_pat_gp, columns = gp, merge_by = 'patient')\n",
    "    \n",
    "loginfo('%g records', nrow(df))\n",
    "df %>% write_tsv(str_glue('{outdir}/{prefix}.tsv'))"
   ]
  },
  {
   "cell_type": "code",
   "execution_count": null,
   "id": "3cf6e1ba",
   "metadata": {
    "vscode": {
     "languageId": "r"
    }
   },
   "outputs": [],
   "source": [
    "p_ls <- lapply(X = used_ctypes, function(ctype) {\n",
    "    df %>%\n",
    "    filter(n_cell_per_sample >= min_cell) %>%\n",
    "    filter(cellgp == ctype) %>%\n",
    "    cell_comp_boxplot(x = c(gp, 'sample_type'), y = 'pct', pt_fill = gp, facet_by = NULL,\n",
    "                      xorder = comb_order, fill_order = gp_lvls[[gp]], xangle = 60) +\n",
    "    stat_compare_means(comparisons = gp_comp_map[[gp]]) +\n",
    "    labs(y = str_glue('Cell percent of {ctype} in cytotoxic expanded cells'), fill = 'Response') +\n",
    "    theme(legend.position = 'right')\n",
    "})\n",
    "ggsave(filename = str_glue('{outdir}/{prefix}-{min_cell}.pdf'), width = 4, height = 5,\n",
    "       plot = wrap_plots(p_ls, ncol = 2, guides = 'collect') & theme(legend.position = 'top'))"
   ]
  },
  {
   "cell_type": "markdown",
   "id": "c93ceb25",
   "metadata": {},
   "source": [
    "# previous"
   ]
  },
  {
   "cell_type": "code",
   "execution_count": null,
   "id": "383162a0-1b6a-4a39-a48d-daddd257f4aa",
   "metadata": {
    "tags": [],
    "vscode": {
     "languageId": "r"
    }
   },
   "outputs": [],
   "source": [
    "f_clone_change <- '../../stage4/a05_clone_share/pre_post_share/clone_frac_in_sample/clone_pair_patient-clone_change_type-chisq.tsv'\n",
    "f_cell_source <- '../../stage4/a05_clone_share/pre_post_share/clone_frac_in_sample/clone_cell_source-cell_state-clone_change_type.tsv'\n",
    "\n",
    "clone_type_lvl <- c('Expanded', 'Contracted', 'Persistent')\n",
    "clone_type_color_map <- c(\n",
    "    'Expanded' = '#EE0000FF', 'Contracted' = '#3B4992FF', 'Persistent' = 'gray60'\n",
    ")\n",
    "ctype_colors <- c(\n",
    "    CD8_ANXA1 = '#8C0439', CD8_CCL5 = '#A12253', CD8_CX3CR1 = '#B6416D', CD8_FOS = '#CC6088',\n",
    "    CD8_GZMK = '#E17FA2', CD8_KLRB1 = '#F79EBD', CD4_CXCL13 = '#003CA5', CD8_CXCL13 = '#2F5DB1', \n",
    "    CD8_TYMS = '#5E7FBD', T_MKI67 = '#8DA1C9', Treg_TNFRSF4 = '#BDC3D6', T_Mito = '#7B7D7B',\n",
    "    CD4_KLRB1 = '#DF9608', CD8_CD74 = '#E2A22E', CD8_IFIT1 = '#E5AE54', T_IL7R = '#E8BA7A', \n",
    "    T_Ribo = '#EBC6A0', Treg_LTB = '#EFD3C6'\n",
    ")"
   ]
  },
  {
   "cell_type": "markdown",
   "id": "68284679-802f-4b99-b570-3a0c43426cf4",
   "metadata": {
    "jp-MarkdownHeadingCollapsed": true,
    "tags": []
   },
   "source": [
    "### scatter show clone type: 4d"
   ]
  },
  {
   "cell_type": "code",
   "execution_count": null,
   "id": "8cc27638-aa83-40bc-98d0-6030f88c3ee1",
   "metadata": {
    "tags": [],
    "vscode": {
     "languageId": "r"
    }
   },
   "outputs": [],
   "source": [
    "xy_tick_labels <- c(0.001, 0.01, 0.1)\n",
    "used_states <- c('cytotoxic', 'exhausted')"
   ]
  },
  {
   "cell_type": "code",
   "execution_count": null,
   "id": "8fd4247c-2c7c-46ce-93d7-c3cbfe36e3dc",
   "metadata": {
    "tags": [],
    "vscode": {
     "languageId": "r"
    }
   },
   "outputs": [
    {
     "name": "stdout",
     "output_type": "stream",
     "text": [
      "\u001b[0m2024-02-05 16:11:31 INFO::these clinial info will be added: response\u001b[0m\u001b[22m\u001b[23m\u001b[24m\u001b[27m\u001b[28m\u001b[29m\u001b[39m\u001b[49m\u001b[0m\u001b[0m\u001b[22m\u001b[23m\u001b[24m\u001b[27m\u001b[28m\u001b[29m\u001b[39m\u001b[49m\n",
      "\u001b[0m2024-02-05 16:11:32 INFO::39348 records\u001b[0m\u001b[22m\u001b[23m\u001b[24m\u001b[27m\u001b[28m\u001b[29m\u001b[39m\u001b[49m\u001b[0m\u001b[0m\u001b[22m\u001b[23m\u001b[24m\u001b[27m\u001b[28m\u001b[29m\u001b[39m\u001b[49m\n"
     ]
    }
   ],
   "source": [
    "# data preprocessing\n",
    "df <- read_tsv(f_clone_change, show_col_types = F) %>% \n",
    "    filter(!grepl('NK', cell_state)) %>%  # no NK cells\n",
    "    filter(cell_state %in% used_states) %>%\n",
    "    select(-c('mandard_group', 'response_degree', 'treatment_group')) %>%\n",
    "    add_clin_info(ftsv = f_pat_gp, columns = gp, merge_by = 'patient')\n",
    "df %>% write_tsv(str_glue('{outdir}/fig4d-clone_change_type-clone_frac_pre_vs_post-by_state.tsv'))\n",
    "\n",
    "loginfo('%g records', nrow(df))"
   ]
  },
  {
   "cell_type": "code",
   "execution_count": null,
   "id": "f587efc4-0020-4fce-ba4b-36f613474aa7",
   "metadata": {
    "tags": [],
    "vscode": {
     "languageId": "r"
    }
   },
   "outputs": [],
   "source": [
    "# scatter show expand type use clone fraction\n",
    "p <- read_tsv(str_glue('{outdir}/fig4d-clone_change_type-clone_frac_pre_vs_post-by_state.tsv'), show_col_types = F) %>%\n",
    "    mutate(clone_change_type = factor(clone_change_type, levels = clone_type_lvl),\n",
    "           frow = factor(.data[[gp]], gp_lvls[[gp]]),\n",
    "           fcol = factor(cell_state, used_states)) %>%\n",
    "    ggscatter(x = 'clone_frac_in_sample_pre', y = 'clone_frac_in_sample_post', color = 'clone_change_type', alpha = 0.7, cor.coef = T) +\n",
    "    geom_abline(slope = 1, intercept = 0) +\n",
    "    facet_grid(frow ~ fcol)  +\n",
    "    scale_x_continuous(breaks = xy_tick_labels) +\n",
    "    scale_y_continuous(breaks = xy_tick_labels) +\n",
    "    scale_color_manual(values = clone_type_color_map) +\n",
    "    guides(color = guide_legend(override.aes = list(size = 4))) +\n",
    "    coord_trans(x = lognp_trans(n = 0.001), y = lognp_trans(n = 0.001)) +\n",
    "    labs(x = 'Clone fraction in Baseline (RNA & TCR)', y = 'Clone fraction in Treat (RNA & TCR)',\n",
    "         color = 'Clone type') +\n",
    "    theme(legend.position = 'right')\n",
    "ggsave(filename = str_glue('{outdir}/fig4d-scatter-clone_chage_type-clone_frac_pre_vs_post-by_state.pdf'),\n",
    "       plot = p, width = 9, height = 5)"
   ]
  },
  {
   "cell_type": "markdown",
   "id": "4eaf1ec3-817b-4975-9214-44812420b2f0",
   "metadata": {
    "jp-MarkdownHeadingCollapsed": true
   },
   "source": [
    "### select clones in umap space: 4g"
   ]
  },
  {
   "cell_type": "markdown",
   "id": "77e317a1-9979-445d-a26d-6ed309d9a855",
   "metadata": {
    "tags": []
   },
   "source": [
    "#### prepare"
   ]
  },
  {
   "cell_type": "code",
   "execution_count": null,
   "id": "7d1b5ab3-70da-488a-9fbb-4c204183f416",
   "metadata": {
    "tags": [],
    "vscode": {
     "languageId": "r"
    }
   },
   "outputs": [],
   "source": [
    "# include all RNA cells (non-TCR-RNA shared cells with NA clonotype)\n",
    "f_expand <- '../../stage4/a03_tcr/expansion/clone_expand_info_per_cell.csv'\n",
    "f_obj <- '../../stage4/a01_data/seuobj/t.rds'"
   ]
  },
  {
   "cell_type": "code",
   "execution_count": null,
   "id": "42e8088c-78c2-444e-bf04-770113f6a639",
   "metadata": {
    "tags": [],
    "vscode": {
     "languageId": "r"
    }
   },
   "outputs": [],
   "source": [
    "scrna <- readRDS(f_obj)"
   ]
  },
  {
   "cell_type": "code",
   "execution_count": null,
   "id": "bbc0d4d5-741e-4425-b5f2-a5db4e8ef067",
   "metadata": {
    "tags": [],
    "vscode": {
     "languageId": "r"
    }
   },
   "outputs": [
    {
     "data": {
      "text/plain": [
       "\n",
       "  CD4_CXCL13    CD4_KLRB1    CD8_ANXA1     CD8_CCL5     CD8_CD74   CD8_CX3CR1 \n",
       "       13152        20635        15789        17401         4820         5319 \n",
       "  CD8_CXCL13      CD8_FOS     CD8_GZMK    CD8_IFIT1    CD8_KLRB1     CD8_TYMS \n",
       "       32900        20473        24466         5853         5067         8936 \n",
       "          NK    NK_CX3CR1       T_IL7R       T_Mito      T_MKI67       T_Ribo \n",
       "       12992         5385        27242        16101        11065         8102 \n",
       "    Treg_LTB Treg_TNFRSF4 \n",
       "       15682        30645 "
      ]
     },
     "metadata": {},
     "output_type": "display_data"
    }
   ],
   "source": [
    "# rename cell types\n",
    "scrna$celltype <- scrna$subtype\n",
    "for (nm in names(celltype_map)) {\n",
    "    scrna$celltype[scrna$subtype %in% celltype_map[[nm]]] <- nm\n",
    "}\n",
    "table(scrna$celltype)\n",
    "# rename sample type\n",
    "scrna$timepoint <- scrna$sample_type\n",
    "scrna$timepoint[scrna$sample_type == 'Baseline'] <- 'pre'\n",
    "scrna$timepoint[scrna$sample_type == 'Treat'] <- 'post'\n",
    "scrna$timepoint <- factor(scrna$timepoint, levels = c('pre', 'post'))"
   ]
  },
  {
   "cell_type": "code",
   "execution_count": null,
   "id": "e94e9bd2-d30e-437f-bca1-381a883f16ed",
   "metadata": {
    "tags": [],
    "vscode": {
     "languageId": "r"
    }
   },
   "outputs": [
    {
     "name": "stdout",
     "output_type": "stream",
     "text": [
      "\u001b[0m2024-02-28 20:42:52 INFO::total 205824 RNA & TCR cells\u001b[0m\u001b[22m\u001b[23m\u001b[24m\u001b[27m\u001b[28m\u001b[29m\u001b[39m\u001b[49m\u001b[0m\u001b[0m\u001b[22m\u001b[23m\u001b[24m\u001b[27m\u001b[28m\u001b[29m\u001b[39m\u001b[49m\n"
     ]
    }
   ],
   "source": [
    "cell_clone_info <- read_csv(f_expand, show_col_types = F) %>%\n",
    "    filter(!is.na(clonotype))  # RNA & TCR cells\n",
    "loginfo('total %g RNA & TCR cells', nrow(cell_clone_info))"
   ]
  },
  {
   "cell_type": "markdown",
   "id": "77d56eb4-49a9-42f9-8363-7504ce3b584a",
   "metadata": {
    "tags": []
   },
   "source": [
    "#### contracted exhausted, R\n",
    "\n",
    "span more to less"
   ]
  },
  {
   "cell_type": "code",
   "execution_count": null,
   "id": "0cb6df1f-76d7-4177-b780-6f97fb349aff",
   "metadata": {
    "tags": [],
    "vscode": {
     "languageId": "r"
    }
   },
   "outputs": [],
   "source": [
    "show_ctypes <- c('T_MKI67', 'CD8_CXCL13', 'CD8_TYMS', 'CD8_CXCL13', 'T_Mito')\n",
    "select_clone <- 'TRAV12-2;TRBV9_;TRBD1_TRAJ23;TRBJ1-5_TRA:CAVTDNQGGKLIF;TRB:CASSVTGGRGQPQHF_P21'\n",
    "title_str <- 'Clone 1 (R, contracted in exhausted clusters)'"
   ]
  },
  {
   "cell_type": "code",
   "execution_count": null,
   "id": "c41bfc4b-e5ff-4eda-b223-c5f110645a82",
   "metadata": {
    "tags": [],
    "vscode": {
     "languageId": "r"
    }
   },
   "outputs": [
    {
     "name": "stdout",
     "output_type": "stream",
     "text": [
      "\u001b[0m2024-02-28 20:59:46 INFO::total 32 cells of selected clone\u001b[0m\u001b[22m\u001b[23m\u001b[24m\u001b[27m\u001b[28m\u001b[29m\u001b[39m\u001b[49m\u001b[0m\u001b[0m\u001b[22m\u001b[23m\u001b[24m\u001b[27m\u001b[28m\u001b[29m\u001b[39m\u001b[49m\n"
     ]
    }
   ],
   "source": [
    "cells <- cell_clone_info %>% \n",
    "    filter(clonotype == select_clone) %>% \n",
    "    pull(barcode)\n",
    "loginfo('total %g cells of selected clone', length(cells))"
   ]
  },
  {
   "cell_type": "code",
   "execution_count": null,
   "id": "d2befc45-9b55-45cc-b7fa-faa3300adfe7",
   "metadata": {
    "tags": [],
    "vscode": {
     "languageId": "r"
    }
   },
   "outputs": [
    {
     "name": "stderr",
     "output_type": "stream",
     "text": [
      "Rasterizing points since number of points exceeds 100,000.\n",
      "To disable this behavior set `raster=FALSE`\n",
      "\n",
      "\u001b[1m\u001b[22mScale for \u001b[32mcolour\u001b[39m is already present.\n",
      "Adding another scale for \u001b[32mcolour\u001b[39m, which will replace the existing scale.\n"
     ]
    }
   ],
   "source": [
    "scrna$mylabel <- scrna$celltype\n",
    "scrna$mylabel[!(scrna$celltype %in% show_ctypes)] <- ' '\n",
    "p <- DimPlot(object = scrna, cells.highlight = cells, group.by = 'mylabel', split.by = 'timepoint', label = T) \n",
    "p$data$celltype <- scrna@meta.data[rownames(p$data), 'celltype']\n",
    "p <- p + \n",
    "    geom_point(data = p$data[cells, ], aes(UMAP_1, UMAP_2, color = celltype), size = 2, alpha = 0.8) +\n",
    "    scale_color_manual(values = ctype_colors, na.value = 'lightgray') +\n",
    "    ggtitle(title_str) +\n",
    "    theme(legend.position = 'none')\n",
    "ggsave(filename = str_glue('{outdir}/fig4g-exhau_contract-R-umap-selected_clone.pdf'), \n",
    "       plot = p, width = 7, height = 4)"
   ]
  },
  {
   "cell_type": "markdown",
   "id": "38b86e6b-a325-48a0-94dd-60953907a7b1",
   "metadata": {
    "tags": []
   },
   "source": [
    "#### contracted exhausted, PR"
   ]
  },
  {
   "cell_type": "code",
   "execution_count": null,
   "id": "f8049989-ef4c-4508-b544-8ab0d7fb811a",
   "metadata": {
    "tags": [],
    "vscode": {
     "languageId": "r"
    }
   },
   "outputs": [],
   "source": [
    "show_ctypes <- c('T_MKI67', 'CD8_CXCL13', 'CD8_TYMS')\n",
    "select_clone <- 'TRAV27;TRBV20-1_;TRBD2_TRAJ49;TRBJ2-3_TRA:CAVFTGNQFYF;TRB:CSALAGGIDTQYF_P03'\n",
    "title_str <- 'Clone 2 (PR, contracted in exhausted clusters)'"
   ]
  },
  {
   "cell_type": "code",
   "execution_count": null,
   "id": "70286d1f-b65d-4507-9c87-3484b7a3c3c6",
   "metadata": {
    "tags": [],
    "vscode": {
     "languageId": "r"
    }
   },
   "outputs": [
    {
     "name": "stdout",
     "output_type": "stream",
     "text": [
      "\u001b[0m2024-02-28 21:00:19 INFO::total 113 cells of selected clone\u001b[0m\u001b[22m\u001b[23m\u001b[24m\u001b[27m\u001b[28m\u001b[29m\u001b[39m\u001b[49m\u001b[0m\u001b[0m\u001b[22m\u001b[23m\u001b[24m\u001b[27m\u001b[28m\u001b[29m\u001b[39m\u001b[49m\n"
     ]
    }
   ],
   "source": [
    "# get cells of selected clones\n",
    "cells <- cell_clone_info %>% \n",
    "    filter(clonotype == select_clone) %>% \n",
    "    pull(barcode)\n",
    "loginfo('total %g cells of selected clone', length(cells))"
   ]
  },
  {
   "cell_type": "code",
   "execution_count": null,
   "id": "829abc25-9ca7-4b76-b497-e4e9ba15efdf",
   "metadata": {
    "tags": [],
    "vscode": {
     "languageId": "r"
    }
   },
   "outputs": [
    {
     "name": "stderr",
     "output_type": "stream",
     "text": [
      "Rasterizing points since number of points exceeds 100,000.\n",
      "To disable this behavior set `raster=FALSE`\n",
      "\n",
      "\u001b[1m\u001b[22mScale for \u001b[32mcolour\u001b[39m is already present.\n",
      "Adding another scale for \u001b[32mcolour\u001b[39m, which will replace the existing scale.\n"
     ]
    }
   ],
   "source": [
    "scrna$mylabel <- scrna$celltype\n",
    "scrna$mylabel[!(scrna$celltype %in% show_ctypes)] <- ' '\n",
    "p <- DimPlot(object = scrna, cells.highlight = cells, group.by = 'mylabel', split.by = 'timepoint', label = T) \n",
    "p$data$celltype <- scrna@meta.data[rownames(p$data), 'celltype']\n",
    "p <- p + \n",
    "    geom_point(data = p$data[cells, ], aes(UMAP_1, UMAP_2, color = celltype), size = 2, alpha = 0.8) +\n",
    "    scale_color_manual(values = ctype_colors, na.value = 'lightgray') +\n",
    "    ggtitle(title_str) +\n",
    "    theme(legend.position = 'none')\n",
    "ggsave(filename = str_glue('{outdir}/fig4g-exhau_contract-PR-umap-selected_clone.pdf'), \n",
    "       plot = p, width = 7, height = 4)"
   ]
  },
  {
   "cell_type": "markdown",
   "id": "c2f165c4-48b8-4965-85f4-b35e2e16c8b8",
   "metadata": {
    "tags": []
   },
   "source": [
    "#### expanded cytotoxic, R"
   ]
  },
  {
   "cell_type": "code",
   "execution_count": null,
   "id": "a07e542e-1b28-473e-ad61-b3020f2854f1",
   "metadata": {
    "tags": [],
    "vscode": {
     "languageId": "r"
    }
   },
   "outputs": [],
   "source": [
    "show_ctypes <- c('CD8_ANXA1', 'CD8_CCL5', 'CD8_CX3CR1', 'CD8_FOS', 'CD8_GZMK')\n",
    "select_clone <- 'TRAV12-1;TRBV9_;_TRAJ39;TRBJ2-6_TRA:CVVNHAGNMLTF;TRB:CASSVEASGANVLTF_P26'\n",
    "title_str <- 'Clone 3 (R, expanded in cytotoxic clusters)'"
   ]
  },
  {
   "cell_type": "code",
   "execution_count": null,
   "id": "c72510fb-0b77-44ab-bb71-b7b7b1b295d8",
   "metadata": {
    "tags": [],
    "vscode": {
     "languageId": "r"
    }
   },
   "outputs": [
    {
     "name": "stdout",
     "output_type": "stream",
     "text": [
      "\u001b[0m2024-02-28 21:00:25 INFO::total 90 cells of selected clone\u001b[0m\u001b[22m\u001b[23m\u001b[24m\u001b[27m\u001b[28m\u001b[29m\u001b[39m\u001b[49m\u001b[0m\u001b[0m\u001b[22m\u001b[23m\u001b[24m\u001b[27m\u001b[28m\u001b[29m\u001b[39m\u001b[49m\n"
     ]
    }
   ],
   "source": [
    "# get cells of selected clones\n",
    "cells <- cell_clone_info %>% \n",
    "    filter(clonotype == select_clone) %>% \n",
    "    pull(barcode)\n",
    "loginfo('total %g cells of selected clone', length(cells))"
   ]
  },
  {
   "cell_type": "code",
   "execution_count": null,
   "id": "ce6cf52e-a988-4aee-8f94-9f964048ab4c",
   "metadata": {
    "tags": [],
    "vscode": {
     "languageId": "r"
    }
   },
   "outputs": [
    {
     "name": "stderr",
     "output_type": "stream",
     "text": [
      "Rasterizing points since number of points exceeds 100,000.\n",
      "To disable this behavior set `raster=FALSE`\n",
      "\n",
      "\u001b[1m\u001b[22mScale for \u001b[32mcolour\u001b[39m is already present.\n",
      "Adding another scale for \u001b[32mcolour\u001b[39m, which will replace the existing scale.\n"
     ]
    }
   ],
   "source": [
    "scrna$mylabel <- scrna$celltype\n",
    "scrna$mylabel[!(scrna$celltype %in% show_ctypes)] <- ' '\n",
    "p <- DimPlot(object = scrna, cells.highlight = cells, group.by = 'mylabel', split.by = 'timepoint', label = T) \n",
    "p$data$celltype <- scrna@meta.data[rownames(p$data), 'celltype']\n",
    "p <- p + \n",
    "    geom_point(data = p$data[cells, ], aes(UMAP_1, UMAP_2, color = celltype), size = 2, alpha = 0.8) +\n",
    "    scale_color_manual(values = ctype_colors, na.value = 'lightgray') +\n",
    "    ggtitle(title_str) +\n",
    "    theme(legend.position = 'none')\n",
    "ggsave(filename = str_glue('{outdir}/fig4g-cyto_expand-R-umap-selected_clone.pdf'), \n",
    "       plot = p, width = 7, height = 4)"
   ]
  },
  {
   "cell_type": "markdown",
   "id": "c8cc45ce-64bd-44a5-853e-6f361a564fd7",
   "metadata": {
    "tags": []
   },
   "source": [
    "#### expanded cytotoxic, PR"
   ]
  },
  {
   "cell_type": "code",
   "execution_count": null,
   "id": "2f70a5b4-65eb-47db-8e69-48f53aa90b02",
   "metadata": {
    "tags": [],
    "vscode": {
     "languageId": "r"
    }
   },
   "outputs": [],
   "source": [
    "show_ctypes <- c('CD8_ANXA1', 'CD8_CCL5', 'CD8_FOS', 'CD8_GZMK', 'CD8_CXCL13', 'CD8_TYMS', 'T_MKI67')\n",
    "select_clone <- 'TRAV20;TRBV4-2_;_TRAJ43;TRBJ2-7_TRA:CAVRGDNNDMRF;TRB:CASSHGTYSYEQYF_P20'\n",
    "title_str <- 'Clone 4 (PR, expanded in cytotoxic clusters)'"
   ]
  },
  {
   "cell_type": "code",
   "execution_count": null,
   "id": "365c89a6-d5d5-480c-b779-d674ee75c5c0",
   "metadata": {
    "tags": [],
    "vscode": {
     "languageId": "r"
    }
   },
   "outputs": [
    {
     "name": "stdout",
     "output_type": "stream",
     "text": [
      "\u001b[0m2024-02-28 21:00:31 INFO::total 149 cells of selected clone\u001b[0m\u001b[22m\u001b[23m\u001b[24m\u001b[27m\u001b[28m\u001b[29m\u001b[39m\u001b[49m\u001b[0m\u001b[0m\u001b[22m\u001b[23m\u001b[24m\u001b[27m\u001b[28m\u001b[29m\u001b[39m\u001b[49m\n"
     ]
    }
   ],
   "source": [
    "# get cells of selected clones\n",
    "cells <- cell_clone_info %>% \n",
    "    filter(clonotype == select_clone) %>% \n",
    "    pull(barcode)\n",
    "loginfo('total %g cells of selected clone', length(cells))"
   ]
  },
  {
   "cell_type": "code",
   "execution_count": null,
   "id": "ee7ea480-7806-402e-9e05-70fc21ec36d0",
   "metadata": {
    "tags": [],
    "vscode": {
     "languageId": "r"
    }
   },
   "outputs": [
    {
     "name": "stderr",
     "output_type": "stream",
     "text": [
      "Rasterizing points since number of points exceeds 100,000.\n",
      "To disable this behavior set `raster=FALSE`\n",
      "\n",
      "\u001b[1m\u001b[22mScale for \u001b[32mcolour\u001b[39m is already present.\n",
      "Adding another scale for \u001b[32mcolour\u001b[39m, which will replace the existing scale.\n"
     ]
    }
   ],
   "source": [
    "scrna$mylabel <- scrna$celltype\n",
    "scrna$mylabel[!(scrna$celltype %in% show_ctypes)] <- ' '\n",
    "p <- DimPlot(object = scrna, cells.highlight = cells, group.by = 'mylabel', split.by = 'timepoint', label = T) \n",
    "p$data$celltype <- scrna@meta.data[rownames(p$data), 'celltype']\n",
    "p <- p + \n",
    "    geom_point(data = p$data[cells, ], aes(UMAP_1, UMAP_2, color = celltype), size = 2, alpha = 0.8) +\n",
    "    scale_color_manual(values = ctype_colors, na.value = 'lightgray') +\n",
    "    ggtitle(title_str) +\n",
    "    theme(legend.position = 'none')\n",
    "ggsave(filename = str_glue('{outdir}/fig4g-cyto_expand-PR-umap-selected_clone.pdf'), \n",
    "       plot = p, width = 7, height = 4)"
   ]
  },
  {
   "cell_type": "markdown",
   "id": "03f1701a-a6a2-4a5f-bd10-63667ef1e991",
   "metadata": {
    "tags": []
   },
   "source": [
    "### cell percent of across clones: 4h"
   ]
  },
  {
   "cell_type": "code",
   "execution_count": null,
   "id": "03de4713-ec74-49ae-867f-8332ecfbf54d",
   "metadata": {
    "vscode": {
     "languageId": "r"
    }
   },
   "outputs": [
    {
     "name": "stdout",
     "output_type": "stream",
     "text": [
      "\u001b[0m2024-02-29 13:48:47 INFO::total 66214 cells, 58 samples\u001b[0m\u001b[22m\u001b[23m\u001b[24m\u001b[27m\u001b[28m\u001b[29m\u001b[39m\u001b[49m\u001b[0m\u001b[0m\u001b[22m\u001b[23m\u001b[24m\u001b[27m\u001b[28m\u001b[29m\u001b[39m\u001b[49m\n"
     ]
    }
   ],
   "source": [
    "n_ctypes <- 2  # min number of cell types the clone to cross\n",
    "clone_source <- read_tsv(f_cell_source, show_col_types = F) %>% \n",
    "    filter(!grepl('NK', celltype)) \n",
    "loginfo('total %g cells, %g samples', nrow(clone_source), length(unique(clone_source$sample)))"
   ]
  },
  {
   "cell_type": "code",
   "execution_count": null,
   "id": "bef5a697-93ab-477d-b71b-663cdfda225f",
   "metadata": {
    "tags": [],
    "vscode": {
     "languageId": "r"
    }
   },
   "outputs": [
    {
     "data": {
      "text/html": [
       "<table class=\"dataframe\">\n",
       "<caption>A spec_tbl_df: 4 × 2</caption>\n",
       "<thead>\n",
       "\t<tr><th scope=col>clone_cat</th><th scope=col>n</th></tr>\n",
       "\t<tr><th scope=col>&lt;chr&gt;</th><th scope=col>&lt;int&gt;</th></tr>\n",
       "</thead>\n",
       "<tbody>\n",
       "\t<tr><td>Contracted clones in cytotoxic clusters</td><td>41</td></tr>\n",
       "\t<tr><td>Contracted clones in exhausted clusters</td><td>40</td></tr>\n",
       "\t<tr><td>Expanded clones in cytotoxic clusters  </td><td>50</td></tr>\n",
       "\t<tr><td>Expanded clones in exhausted clusters  </td><td>46</td></tr>\n",
       "</tbody>\n",
       "</table>\n"
      ],
      "text/latex": [
       "A spec\\_tbl\\_df: 4 × 2\n",
       "\\begin{tabular}{ll}\n",
       " clone\\_cat & n\\\\\n",
       " <chr> & <int>\\\\\n",
       "\\hline\n",
       "\t Contracted clones in cytotoxic clusters & 41\\\\\n",
       "\t Contracted clones in exhausted clusters & 40\\\\\n",
       "\t Expanded clones in cytotoxic clusters   & 50\\\\\n",
       "\t Expanded clones in exhausted clusters   & 46\\\\\n",
       "\\end{tabular}\n"
      ],
      "text/markdown": [
       "\n",
       "A spec_tbl_df: 4 × 2\n",
       "\n",
       "| clone_cat &lt;chr&gt; | n &lt;int&gt; |\n",
       "|---|---|\n",
       "| Contracted clones in cytotoxic clusters | 41 |\n",
       "| Contracted clones in exhausted clusters | 40 |\n",
       "| Expanded clones in cytotoxic clusters   | 50 |\n",
       "| Expanded clones in exhausted clusters   | 46 |\n",
       "\n"
      ],
      "text/plain": [
       "  clone_cat                               n \n",
       "1 Contracted clones in cytotoxic clusters 41\n",
       "2 Contracted clones in exhausted clusters 40\n",
       "3 Expanded clones in cytotoxic clusters   50\n",
       "4 Expanded clones in exhausted clusters   46"
      ]
     },
     "metadata": {},
     "output_type": "display_data"
    }
   ],
   "source": [
    "clone_source %>% \n",
    "count(clone_cat, sample) %>% \n",
    "filter(n >= 20) %>% \n",
    "count(clone_cat)"
   ]
  },
  {
   "cell_type": "markdown",
   "id": "0dd0d1da-6e8d-46be-ad95-3ea7ed626a5e",
   "metadata": {
    "jp-MarkdownHeadingCollapsed": true,
    "tags": []
   },
   "source": [
    "#### exhau contracted clones cross multiple exhau clusters"
   ]
  },
  {
   "cell_type": "code",
   "execution_count": null,
   "id": "2e73bb8b-ee85-4570-8298-b03b0ec50ccb",
   "metadata": {
    "tags": [],
    "vscode": {
     "languageId": "r"
    }
   },
   "outputs": [],
   "source": [
    "prefix <- 'fig4h-exhau_contract_cross_exhau_cluster'\n",
    "used_clone_cat <- 'Contracted clones in exhausted clusters'\n",
    "min_cell <- 10 # min cell to ensure reliable percent"
   ]
  },
  {
   "cell_type": "code",
   "execution_count": null,
   "id": "2be895c5-2bd8-4f2b-9e45-201a39ee6fe8",
   "metadata": {
    "tags": [],
    "vscode": {
     "languageId": "r"
    }
   },
   "outputs": [
    {
     "name": "stdout",
     "output_type": "stream",
     "text": [
      "\u001b[0m2024-02-29 16:43:59 INFO::these clinial info will be added: response\u001b[0m\u001b[22m\u001b[23m\u001b[24m\u001b[27m\u001b[28m\u001b[29m\u001b[39m\u001b[49m\u001b[0m\u001b[0m\u001b[22m\u001b[23m\u001b[24m\u001b[27m\u001b[28m\u001b[29m\u001b[39m\u001b[49m\n",
      "\u001b[0m2024-02-29 16:43:59 INFO::45 samples, 16860 cells\u001b[0m\u001b[22m\u001b[23m\u001b[24m\u001b[27m\u001b[28m\u001b[29m\u001b[39m\u001b[49m\u001b[0m\u001b[0m\u001b[22m\u001b[23m\u001b[24m\u001b[27m\u001b[28m\u001b[29m\u001b[39m\u001b[49m\n"
     ]
    }
   ],
   "source": [
    "# clones selecting\n",
    "valid_clones <- clone_source %>% \n",
    "    filter(clone_cat == used_clone_cat) %>% \n",
    "    filter(celltype %in% cell_state_map$exhausted) %>%\n",
    "    select(clonotype, patient, sample_type, celltype) %>% \n",
    "    distinct() %>% \n",
    "    count(clonotype, patient, sample_type, name = 'n_ctype_per_sample') %>% \n",
    "    filter(n_ctype_per_sample >= n_ctypes)\n",
    "df <- clone_source %>% \n",
    "    filter(clone_cat == used_clone_cat) %>% \n",
    "    merge(valid_clones, by = c('clonotype', 'patient', 'sample_type'), all.x = T) %>%\n",
    "    mutate(is_valid = if_else(is.na(n_ctype_per_sample), 'no', 'yes')) %>%\n",
    "    count(patient, sample_type, is_valid, name = 'n_cell') %>% \n",
    "    pivot_wider(id_cols = c('patient', 'sample_type'), \n",
    "                names_from = 'is_valid', \n",
    "                values_from = 'n_cell', \n",
    "                values_fill = 0) %>% \n",
    "    mutate(pct = 100 * yes / (no + yes)) %>%\n",
    "    filter(no + yes >= min_cell) %>%\n",
    "    add_clin_info(ftsv = f_pat_gp, columns = gp, merge_by = 'patient') \n",
    "df %>% write_tsv(str_glue('{outdir}/{prefix}-cell_pct-{min_cell}.tsv'))\n",
    "\n",
    "loginfo('%g samples, %g cells', nrow(df), sum(df$no + df$yes))"
   ]
  },
  {
   "cell_type": "code",
   "execution_count": null,
   "id": "9fede2cb-8ec3-44b4-a97d-d198c13b1e3a",
   "metadata": {
    "collapsed": true,
    "jupyter": {
     "outputs_hidden": true
    },
    "tags": [],
    "vscode": {
     "languageId": "r"
    }
   },
   "outputs": [
    {
     "data": {
      "image/png": "[encoded data removed]",
      "text/plain": [
       "plot without title"
      ]
     },
     "metadata": {
      "image/png": {
       "height": 525,
       "width": 375
      }
     },
     "output_type": "display_data"
    }
   ],
   "source": [
    "p <- df %>% \n",
    "    cell_comp_boxplot(x = c(gp, 'sample_type'), y = 'pct', pt_fill = gp, facet_by = NULL,\n",
    "                      xorder = comb_order, fill_order = gp_lvls[[gp]]) +\n",
    "    labs(y = 'Cell percent', fill = 'Response') +\n",
    "    stat_compare_means(comparisons = gp_comp_map[[gp]]) +\n",
    "    theme(legend.justification = c(1, 0.5))\n",
    "# ggsave(filename = str_glue('{outdir}/{prefix}-boxplot-cell_pct-{min_cell}.pdf'), plot = p, width = 2.5, height = 5)\n",
    "p"
   ]
  },
  {
   "cell_type": "markdown",
   "id": "6d4c4abe-c47d-48f1-8e4b-98e09db79ecb",
   "metadata": {
    "jp-MarkdownHeadingCollapsed": true,
    "tags": []
   },
   "source": [
    "#### cyto expand clones cross multiple exhau clusters"
   ]
  },
  {
   "cell_type": "code",
   "execution_count": null,
   "id": "2ac12c7f-672d-4a55-a988-30320932babc",
   "metadata": {
    "tags": [],
    "vscode": {
     "languageId": "r"
    }
   },
   "outputs": [],
   "source": [
    "prefix <- 'fig4h-cyto_expand_cross_exhau_cluster'\n",
    "used_clone_cat <- 'Expanded clones in cytotoxic clusters'\n",
    "min_cell <- 10 # min cell to ensure reliable percent"
   ]
  },
  {
   "cell_type": "code",
   "execution_count": null,
   "id": "13cf94d9-a6b2-4f3e-b305-b79e987fa371",
   "metadata": {
    "tags": [],
    "vscode": {
     "languageId": "r"
    }
   },
   "outputs": [
    {
     "name": "stdout",
     "output_type": "stream",
     "text": [
      "\u001b[0m2024-02-29 16:56:43 INFO::these clinial info will be added: response\u001b[0m\u001b[22m\u001b[23m\u001b[24m\u001b[27m\u001b[28m\u001b[29m\u001b[39m\u001b[49m\u001b[0m\u001b[0m\u001b[22m\u001b[23m\u001b[24m\u001b[27m\u001b[28m\u001b[29m\u001b[39m\u001b[49m\n",
      "\u001b[0m2024-02-29 16:56:43 INFO::55 samples, 17391 cells\u001b[0m\u001b[22m\u001b[23m\u001b[24m\u001b[27m\u001b[28m\u001b[29m\u001b[39m\u001b[49m\u001b[0m\u001b[0m\u001b[22m\u001b[23m\u001b[24m\u001b[27m\u001b[28m\u001b[29m\u001b[39m\u001b[49m\n"
     ]
    }
   ],
   "source": [
    "# clones selecting\n",
    "valid_clones <- clone_source %>% \n",
    "    filter(clone_cat == used_clone_cat) %>% \n",
    "    filter(celltype %in% cell_state_map$exhausted) %>%\n",
    "    select(clonotype, patient, sample_type, celltype) %>% \n",
    "    distinct() %>% \n",
    "    count(clonotype, patient, sample_type, name = 'n_ctype_per_sample') %>% \n",
    "    filter(n_ctype_per_sample >= n_ctypes)\n",
    "    # count(clonotype, patient, sample_type, name = 'n_ctype_per_sample') %>%\n",
    "    # filter(n_ctype_per_sample >= 20)\n",
    "df <- clone_source %>% \n",
    "    filter(clone_cat == used_clone_cat) %>% \n",
    "    merge(valid_clones, by = c('clonotype', 'patient', 'sample_type'), all.x = T) %>%\n",
    "    mutate(is_valid = if_else(is.na(n_ctype_per_sample), 'no', 'yes')) %>%\n",
    "    count(patient, sample_type, is_valid, name = 'n_cell') %>% \n",
    "    pivot_wider(id_cols = c('patient', 'sample_type'), \n",
    "                names_from = 'is_valid', \n",
    "                values_from = 'n_cell', \n",
    "                values_fill = 0) %>% \n",
    "    mutate(pct = 100 * yes / (no + yes)) %>%\n",
    "    filter(no + yes >= min_cell) %>%\n",
    "    add_clin_info(ftsv = f_pat_gp, columns = gp, merge_by = 'patient') \n",
    "df %>% write_tsv(str_glue('{outdir}/{prefix}-cell_pct-{min_cell}.tsv'))\n",
    "\n",
    "loginfo('%g samples, %g cells', nrow(df), sum(df$no + df$yes))"
   ]
  },
  {
   "cell_type": "code",
   "execution_count": null,
   "id": "fc1fedb7-2b5b-4bb5-b532-91215492246c",
   "metadata": {
    "tags": [],
    "vscode": {
     "languageId": "r"
    }
   },
   "outputs": [],
   "source": [
    "p <- df %>% \n",
    "    cell_comp_boxplot(x = c(gp, 'sample_type'), y = 'pct', pt_fill = gp, facet_by = NULL,\n",
    "                      xorder = comb_order, fill_order = gp_lvls[[gp]]) +\n",
    "    labs(y = 'Cell percent', fill = 'Response') +\n",
    "    stat_compare_means(comparisons = gp_comp_map[[gp]]) +\n",
    "    theme(legend.justification = c(1, 0.5))\n",
    "ggsave(filename = str_glue('{outdir}/{prefix}-boxplot-cell_pct-{min_cell}.pdf'), plot = p, width = 2.5, height = 5)\n",
    "# p"
   ]
  },
  {
   "cell_type": "markdown",
   "id": "27a2b9bf-991c-42db-95fc-4a5d14b017be",
   "metadata": {},
   "source": [
    "### cell percent of specific cluster in specific clone cat: 4h\n",
    "\n",
    "- date: 2024-02-29\n",
    "- desc: cell level"
   ]
  },
  {
   "cell_type": "code",
   "execution_count": null,
   "id": "889c6c19-5887-4d9e-9ca0-cb8d1b06f6bf",
   "metadata": {
    "tags": [],
    "vscode": {
     "languageId": "r"
    }
   },
   "outputs": [
    {
     "name": "stdout",
     "output_type": "stream",
     "text": [
      "\u001b[0m2024-03-01 09:46:42 INFO::total 66214 cells, 58 samples\u001b[0m\u001b[22m\u001b[23m\u001b[24m\u001b[27m\u001b[28m\u001b[29m\u001b[39m\u001b[49m\u001b[0m\u001b[0m\u001b[22m\u001b[23m\u001b[24m\u001b[27m\u001b[28m\u001b[29m\u001b[39m\u001b[49m\n"
     ]
    }
   ],
   "source": [
    "min_cell <- 10\n",
    "clone_source <- read_tsv(f_cell_source, show_col_types = F) %>% \n",
    "    filter(!grepl('NK', celltype)) \n",
    "loginfo('total %g cells, %g samples', nrow(clone_source), length(unique(clone_source$sample)))"
   ]
  },
  {
   "cell_type": "markdown",
   "id": "e40ae92c-5889-41e2-ae73-a08396915e25",
   "metadata": {},
   "source": [
    "#### exhausted clusters in exhausted contracted"
   ]
  },
  {
   "cell_type": "code",
   "execution_count": null,
   "id": "b0f26c70-f523-45e7-8958-647fe975b256",
   "metadata": {
    "tags": [],
    "vscode": {
     "languageId": "r"
    }
   },
   "outputs": [
    {
     "name": "stdout",
     "output_type": "stream",
     "text": [
      "\u001b[0m2024-03-01 09:51:15 INFO::these clinial info will be added: response\u001b[0m\u001b[22m\u001b[23m\u001b[24m\u001b[27m\u001b[28m\u001b[29m\u001b[39m\u001b[49m\u001b[0m\u001b[0m\u001b[22m\u001b[23m\u001b[24m\u001b[27m\u001b[28m\u001b[29m\u001b[39m\u001b[49m\n",
      "\u001b[0m2024-03-01 09:51:15 INFO::147 records\u001b[0m\u001b[22m\u001b[23m\u001b[24m\u001b[27m\u001b[28m\u001b[29m\u001b[39m\u001b[49m\u001b[0m\u001b[0m\u001b[22m\u001b[23m\u001b[24m\u001b[27m\u001b[28m\u001b[29m\u001b[39m\u001b[49m\n"
     ]
    }
   ],
   "source": [
    "prefix <- 'fig4h-cell_pct_in_exhau_contract'\n",
    "used_ctypes <- c('CD8_TYMS', 'T_MKI67')\n",
    "df <- clone_source %>% \n",
    "    filter(clone_cat == 'Contracted clones in exhausted clusters') %>% \n",
    "    mutate(cellgp = if_else(celltype %in% used_ctypes, celltype, 'others')) %>% \n",
    "    count(patient, sample_type, cellgp, name = 'n_cell') %>% \n",
    "    pivot_wider(id_cols = c('patient', 'sample_type'), names_from = 'cellgp',\n",
    "                values_from = 'n_cell', values_fill = 0) %>% \n",
    "    pivot_longer(cols = -c('patient', 'sample_type'), names_to = 'cellgp', values_to = 'n_cell') %>% \n",
    "    add_count(patient, sample_type, name = 'n_cell_per_sample', wt = n_cell) %>% \n",
    "    mutate(pct = 100 * n_cell / n_cell_per_sample) %>%\n",
    "    add_clin_info(ftsv = f_pat_gp, columns = gp, merge_by = 'patient')\n",
    "loginfo('%g records', nrow(df))\n",
    "df %>% write_tsv(str_glue('{outdir}/{prefix}.tsv'))"
   ]
  },
  {
   "cell_type": "code",
   "execution_count": null,
   "id": "fd7d0d60-6930-4053-ab5b-f5fcaec06594",
   "metadata": {
    "tags": [],
    "vscode": {
     "languageId": "r"
    }
   },
   "outputs": [],
   "source": [
    "p_ls <- lapply(X = used_ctypes, function(ctype) {\n",
    "    df %>%\n",
    "    filter(n_cell_per_sample >= min_cell) %>%\n",
    "    filter(cellgp == ctype) %>%\n",
    "    cell_comp_boxplot(x = c(gp, 'sample_type'), y = 'pct', pt_fill = gp, facet_by = NULL,\n",
    "                      xorder = comb_order, fill_order = gp_lvls[[gp]], xangle = 60) +\n",
    "    stat_compare_means(comparisons = gp_comp_map[[gp]]) +\n",
    "    labs(y = str_glue('Cell percent of {ctype} in exhausted contracted cells'), fill = 'Response') +\n",
    "    theme(legend.position = 'right')\n",
    "})\n",
    "ggsave(filename = str_glue('{outdir}/{prefix}-{min_cell}.pdf'), width = 4, height = 5,\n",
    "       plot = wrap_plots(p_ls, ncol = 2, guides = 'collect') & theme(legend.position = 'top'))"
   ]
  },
  {
   "cell_type": "code",
   "execution_count": null,
   "id": "400d7cc6-ed50-41fc-868b-730dc608764a",
   "metadata": {
    "vscode": {
     "languageId": "r"
    }
   },
   "outputs": [],
   "source": []
  },
  {
   "cell_type": "markdown",
   "id": "b29e8104-87fe-48b4-b9c1-0f0104c3eeeb",
   "metadata": {},
   "source": [
    "## todos"
   ]
  },
  {
   "cell_type": "code",
   "execution_count": null,
   "id": "58750dea-2734-4bda-91dc-8ab1f7f7c3cb",
   "metadata": {
    "vscode": {
     "languageId": "r"
    }
   },
   "outputs": [],
   "source": [
    "df <- read_tsv(str_glue('{outdir}/fig4-shannon-post_pre_delta.tsv'), show_col_types = F)"
   ]
  },
  {
   "cell_type": "code",
   "execution_count": null,
   "id": "7d83d6a6-00d2-492a-9e36-626697c3e220",
   "metadata": {
    "tags": [],
    "vscode": {
     "languageId": "r"
    }
   },
   "outputs": [
    {
     "data": {
      "text/html": [
       "<table class=\"dataframe\">\n",
       "<caption>A tibble: 2 × 2</caption>\n",
       "<thead>\n",
       "\t<tr><th scope=col>mandard_group</th><th scope=col>mean</th></tr>\n",
       "\t<tr><th scope=col>&lt;chr&gt;</th><th scope=col>&lt;dbl&gt;</th></tr>\n",
       "</thead>\n",
       "<tbody>\n",
       "\t<tr><td>poor</td><td>-0.33287794</td></tr>\n",
       "\t<tr><td>good</td><td>-0.02441611</td></tr>\n",
       "</tbody>\n",
       "</table>\n"
      ],
      "text/latex": [
       "A tibble: 2 × 2\n",
       "\\begin{tabular}{ll}\n",
       " mandard\\_group & mean\\\\\n",
       " <chr> & <dbl>\\\\\n",
       "\\hline\n",
       "\t poor & -0.33287794\\\\\n",
       "\t good & -0.02441611\\\\\n",
       "\\end{tabular}\n"
      ],
      "text/markdown": [
       "\n",
       "A tibble: 2 × 2\n",
       "\n",
       "| mandard_group &lt;chr&gt; | mean &lt;dbl&gt; |\n",
       "|---|---|\n",
       "| poor | -0.33287794 |\n",
       "| good | -0.02441611 |\n",
       "\n"
      ],
      "text/plain": [
       "  mandard_group mean       \n",
       "1 poor          -0.33287794\n",
       "2 good          -0.02441611"
      ]
     },
     "metadata": {},
     "output_type": "display_data"
    }
   ],
   "source": [
    "df %>% filter(subtype == 'CD8_CD74') %>% summarise(.by = 'mandard_group', mean = mean(post_m_pre_index))"
   ]
  },
  {
   "cell_type": "code",
   "execution_count": null,
   "id": "3a4a5c0f-ab4a-4dff-a90b-decb01df7487",
   "metadata": {
    "vscode": {
     "languageId": "r"
    }
   },
   "outputs": [],
   "source": []
  },
  {
   "cell_type": "markdown",
   "id": "6c13dafc-d75f-43da-be3e-0a26a127aa67",
   "metadata": {
    "jp-MarkdownHeadingCollapsed": true,
    "tags": []
   },
   "source": [
    "# previous fig4 (now fig5)"
   ]
  },
  {
   "cell_type": "markdown",
   "id": "0bf0233d-7903-44fb-bda7-cb44dbecab9a",
   "metadata": {
    "tags": []
   },
   "source": [
    "## pseudo forest plot (fig5)\n",
    "\n",
    "- **now in fig5**"
   ]
  },
  {
   "cell_type": "markdown",
   "id": "4f40aeb0-ccbc-410d-ae2a-ca47e85862e4",
   "metadata": {
    "jp-MarkdownHeadingCollapsed": true,
    "tags": []
   },
   "source": [
    "### functions"
   ]
  },
  {
   "cell_type": "code",
   "execution_count": null,
   "id": "63da4628-a61e-44ad-ae6e-c5320c31b6c5",
   "metadata": {
    "tags": [],
    "vscode": {
     "languageId": "r"
    }
   },
   "outputs": [],
   "source": [
    "cal_stat <- function(x, y) {\n",
    "    t_obj <- t.test(x = x, y = y)\n",
    "    res <- data.frame(\n",
    "        mean_diff = t_obj$estimate[1] - t_obj$estimate[2],\n",
    "        conf_int_upper = t_obj$conf.int[2],\n",
    "        conf_int_lower = t_obj$conf.int[1],\n",
    "        stderr = t_obj$stderr,\n",
    "        pval = t_obj$p.value\n",
    "    )\n",
    "    return(res)\n",
    "}"
   ]
  },
  {
   "cell_type": "markdown",
   "id": "3a1b43f8-4358-4d4d-a682-364d9e83d46f",
   "metadata": {
    "jp-MarkdownHeadingCollapsed": true,
    "tags": []
   },
   "source": [
    "### shannon index\n",
    "\n",
    "no NK cells, paird patients, delta (good-poor) of post-pre delta index"
   ]
  },
  {
   "cell_type": "code",
   "execution_count": null,
   "id": "2cddfa82-9cb3-4d77-924b-c85180890a01",
   "metadata": {
    "tags": [],
    "vscode": {
     "languageId": "r"
    }
   },
   "outputs": [
    {
     "name": "stdout",
     "output_type": "stream",
     "text": [
      "\u001b[0m2024-01-04 17:57:24 INFO::1324 records, 80 samples, 18 celltypes\u001b[0m\u001b[22m\u001b[23m\u001b[24m\u001b[27m\u001b[28m\u001b[29m\u001b[39m\u001b[49m\u001b[0m\u001b[0m\u001b[22m\u001b[23m\u001b[24m\u001b[27m\u001b[28m\u001b[29m\u001b[39m\u001b[49m\n"
     ]
    }
   ],
   "source": [
    "f_shanon <- '../../stage4/a03_tcr/diversity/shannon_way2_min10.csv'\n",
    "\n",
    "df <- read_csv(f_shanon, show_col_types = F) %>%\n",
    "    mutate(sample = paste(patient, sample_type, sep = '-')) %>%\n",
    "    filter(!grepl('^NK', subtype))\n",
    "\n",
    "for (nm in names(celltype_map)) {\n",
    "    df$subtype[df$subtype %in% celltype_map[[nm]]] <- nm\n",
    "}\n",
    "loginfo('%g records, %g samples, %g celltypes', nrow(df), length(unique(df$sample)), length(unique(df$subtype)))"
   ]
  },
  {
   "cell_type": "code",
   "execution_count": null,
   "id": "630fcf40-6f1a-433c-9ea3-2958e44dcdbc",
   "metadata": {
    "tags": [],
    "vscode": {
     "languageId": "r"
    }
   },
   "outputs": [
    {
     "name": "stdout",
     "output_type": "stream",
     "text": [
      "\u001b[0m2024-01-04 17:57:25 INFO::these clinial info will be added: patient_id, mandard_group, response_degree, treatment_group, patient_gp, patient_gp_v2\u001b[0m\u001b[22m\u001b[23m\u001b[24m\u001b[27m\u001b[28m\u001b[29m\u001b[39m\u001b[49m\u001b[0m\u001b[0m\u001b[22m\u001b[23m\u001b[24m\u001b[27m\u001b[28m\u001b[29m\u001b[39m\u001b[49m\n",
      "\u001b[0m2024-01-04 17:57:25 INFO::411 records, 28 patients, 18 celltypes\u001b[0m\u001b[22m\u001b[23m\u001b[24m\u001b[27m\u001b[28m\u001b[29m\u001b[39m\u001b[49m\u001b[0m\u001b[0m\u001b[22m\u001b[23m\u001b[24m\u001b[27m\u001b[28m\u001b[29m\u001b[39m\u001b[49m\n"
     ]
    }
   ],
   "source": [
    "# post-pre delta\n",
    "df_delta <- df %>% \n",
    "    select(patient, sample_type, subtype, shannon) %>% \n",
    "    pivot_wider(names_from = 'sample_type', values_from = 'shannon') %>% \n",
    "    filter(!is.na(Baseline), !is.na(Treat)) %>% \n",
    "    mutate(post_m_pre_index = Treat - Baseline) %>% \n",
    "    add_clin_info(ftsv = f_pat_gp, columns = NULL, merge_by = 'patient')\n",
    "loginfo('%g records, %g patients, %g celltypes', nrow(df_delta), length(unique(df_delta$patient)), length(unique(df_delta$subtype)))"
   ]
  },
  {
   "cell_type": "code",
   "execution_count": null,
   "id": "a80d8178-f5ac-493e-a3f2-41e11bea0952",
   "metadata": {
    "tags": [],
    "vscode": {
     "languageId": "r"
    }
   },
   "outputs": [],
   "source": [
    "df_delta %>% write_tsv(str_glue('{outdir}/fig4-shannon-post_pre_delta.tsv'))"
   ]
  },
  {
   "cell_type": "code",
   "execution_count": null,
   "id": "c40b4061-8a8a-4f57-b5f6-017848fde1f7",
   "metadata": {
    "tags": [],
    "vscode": {
     "languageId": "r"
    }
   },
   "outputs": [
    {
     "name": "stdout",
     "output_type": "stream",
     "text": [
      "\u001b[0m2024-01-04 17:58:28 INFO::18 records, 18 celltypes\u001b[0m\u001b[22m\u001b[23m\u001b[24m\u001b[27m\u001b[28m\u001b[29m\u001b[39m\u001b[49m\u001b[0m\u001b[0m\u001b[22m\u001b[23m\u001b[24m\u001b[27m\u001b[28m\u001b[29m\u001b[39m\u001b[49m\n"
     ]
    }
   ],
   "source": [
    "# cal stat by subtype\n",
    "res <- do.call(rbind.data.frame, lapply(X = unique(df$subtype), FUN = function(ctype) {\n",
    "    cal_stat(x = filter(df_delta, subtype == ctype, mandard_group == 'good') %>% pull(post_m_pre_index),\n",
    "             y = filter(df_delta, subtype == ctype, mandard_group == 'poor') %>% pull(post_m_pre_index)) %>%\n",
    "    mutate(subtype = ctype)\n",
    "}))\n",
    "# add cell state info\n",
    "res$cell_state <- 'others'\n",
    "for (nm in names(cell_state_map)){\n",
    "    res$cell_state[res$subtype %in% cell_state_map[[nm]]] <- nm\n",
    "}\n",
    "loginfo('%g records, %g celltypes', nrow(res), length(unique(res$subtype)))\n",
    "res %>% write_tsv(str_glue('{outdir}/fig4-shannon-delta_delta-stat.tsv'))"
   ]
  },
  {
   "cell_type": "code",
   "execution_count": null,
   "id": "f86dd48b-ef6a-4b82-a27e-11ca2a24d55a",
   "metadata": {
    "tags": [],
    "vscode": {
     "languageId": "r"
    }
   },
   "outputs": [],
   "source": [
    "p <- res %>%\n",
    "    mutate(subtype = factor(subtype, levels = unlist(cell_state_map)), \n",
    "           cell_state = factor(cell_state, levels = names(cell_state_map))) %>%\n",
    "    ggplot(aes(x = mean_diff, y = subtype, color = cell_state, label = subtype)) +\n",
    "        geom_pointrange(aes(xmin = conf_int_lower, xmax = conf_int_upper), linewidth = 1, size = 1.5, shape = 18) +\n",
    "        geom_vline(xintercept = 0, color = 'black') +\n",
    "        geom_text(color = 'black', size = 3.5, nudge_y = 0.3) +\n",
    "        scale_color_manual(values = cell_state_color) +\n",
    "        scale_x_reverse() +\n",
    "        guides(color = guide_legend(ncol = 2, title.position = 'top')) +\n",
    "        labs(x = 'Delta Shannon Index', y = '', color = 'Cell state') + \n",
    "        theme(axis.line.y = element_blank(), axis.text.y = element_blank(), axis.ticks.y = element_blank())\n",
    "ggsave(filename = str_glue('{outdir}/fig4-pseudo_forest-shannon-delta_delta.pdf'), plot = p, width = 2.5, height = 7)"
   ]
  },
  {
   "cell_type": "markdown",
   "id": "0a9f0e53-762f-45e3-86eb-64532b0ed92b",
   "metadata": {
    "jp-MarkdownHeadingCollapsed": true,
    "tags": []
   },
   "source": [
    "### expansion\n",
    "\n",
    "no NK cells, paird patients, delta (good-poor) of post-pre delta expand in subtype"
   ]
  },
  {
   "cell_type": "code",
   "execution_count": null,
   "id": "785a1016-b5d2-4da3-a333-8b6d8823d2f3",
   "metadata": {
    "tags": [],
    "vscode": {
     "languageId": "r"
    }
   },
   "outputs": [
    {
     "name": "stdout",
     "output_type": "stream",
     "text": [
      "\u001b[0m2024-01-04 17:58:53 INFO::these clinial info will be added: patient_id, mandard_group, response_degree, treatment_group, patient_gp, patient_gp_v2\u001b[0m\u001b[22m\u001b[23m\u001b[24m\u001b[27m\u001b[28m\u001b[29m\u001b[39m\u001b[49m\u001b[0m\u001b[0m\u001b[22m\u001b[23m\u001b[24m\u001b[27m\u001b[28m\u001b[29m\u001b[39m\u001b[49m\n",
      "\u001b[0m2024-01-04 17:58:53 INFO::411 records, 28 patients, 18 celltypes\u001b[0m\u001b[22m\u001b[23m\u001b[24m\u001b[27m\u001b[28m\u001b[29m\u001b[39m\u001b[49m\u001b[0m\u001b[0m\u001b[22m\u001b[23m\u001b[24m\u001b[27m\u001b[28m\u001b[29m\u001b[39m\u001b[49m\n"
     ]
    }
   ],
   "source": [
    "f_expand_diff <- '../../stage4/a03_tcr/expansion/diff_expandPct_min10.csv'\n",
    "\n",
    "# post-pre delta\n",
    "df_delta <- read_csv(f_expand_diff, show_col_types = F) %>% \n",
    "    filter(!grepl('^NK', subtype)) %>%\n",
    "    select(patient, subtype, Baseline, Treat, pct_expand_diff) %>%\n",
    "    add_clin_info(ftsv = f_pat_gp, columns = NULL, merge_by = 'patient')\n",
    "\n",
    "for (nm in names(celltype_map)) {\n",
    "    df_delta$subtype[df_delta$subtype %in% celltype_map[[nm]]] <- nm\n",
    "}\n",
    "loginfo('%g records, %g patients, %g celltypes', nrow(df_delta), length(unique(df_delta$patient)), length(unique(df_delta$subtype)))"
   ]
  },
  {
   "cell_type": "code",
   "execution_count": null,
   "id": "eb174283-d7cc-4912-9864-655579d1243e",
   "metadata": {
    "tags": [],
    "vscode": {
     "languageId": "r"
    }
   },
   "outputs": [],
   "source": [
    "df_delta %>% write_tsv(str_glue('{outdir}/fig4-expand_in_subtype-post_pre_delta.tsv'))"
   ]
  },
  {
   "cell_type": "code",
   "execution_count": null,
   "id": "db566e41-a752-464e-8c60-6cb2caaea541",
   "metadata": {
    "tags": [],
    "vscode": {
     "languageId": "r"
    }
   },
   "outputs": [
    {
     "name": "stdout",
     "output_type": "stream",
     "text": [
      "\u001b[0m2024-01-04 17:58:55 INFO::18 records, 18 celltypes\u001b[0m\u001b[22m\u001b[23m\u001b[24m\u001b[27m\u001b[28m\u001b[29m\u001b[39m\u001b[49m\u001b[0m\u001b[0m\u001b[22m\u001b[23m\u001b[24m\u001b[27m\u001b[28m\u001b[29m\u001b[39m\u001b[49m\n"
     ]
    }
   ],
   "source": [
    "# cal stat by subtype\n",
    "res <- do.call(rbind.data.frame, lapply(X = unique(df_delta$subtype), FUN = function(ctype) {\n",
    "    cal_stat(x = filter(df_delta, subtype == ctype, mandard_group == 'good') %>% pull(pct_expand_diff),\n",
    "             y = filter(df_delta, subtype == ctype, mandard_group == 'poor') %>% pull(pct_expand_diff)) %>%\n",
    "    mutate(subtype = ctype)\n",
    "}))\n",
    "# add cell state info\n",
    "res$cell_state <- 'others'\n",
    "for (nm in names(cell_state_map)){\n",
    "    res$cell_state[res$subtype %in% cell_state_map[[nm]]] <- nm\n",
    "}\n",
    "loginfo('%g records, %g celltypes', nrow(res), length(unique(res$subtype)))\n",
    "res %>% write_tsv(str_glue('{outdir}/fig4-expand_in_subtype-delta_delta-stat.tsv'))"
   ]
  },
  {
   "cell_type": "code",
   "execution_count": null,
   "id": "94ee3abe-6d54-4d7f-b329-4fac276b8b73",
   "metadata": {
    "tags": [],
    "vscode": {
     "languageId": "r"
    }
   },
   "outputs": [],
   "source": [
    "p <- read_tsv(str_glue('{outdir}/fig4-expand_in_subtype-delta_delta-stat.tsv'), show_col_types = F) %>%\n",
    "    mutate(subtype = factor(subtype, levels = unlist(cell_state_map)), \n",
    "           cell_state = factor(cell_state, levels = names(cell_state_map))) %>%\n",
    "    ggplot(aes(x = mean_diff, y = subtype, color = cell_state, label = subtype)) +\n",
    "        geom_pointrange(aes(xmin = conf_int_lower, xmax = conf_int_upper), linewidth = 1, size = 1.5, shape = 18) +\n",
    "        geom_vline(xintercept = 0, color = 'black') +\n",
    "        geom_text(color = 'black', size = 3.5, nudge_x = -5, nudge_y = 0.3) +\n",
    "        scale_color_manual(values = cell_state_color) +\n",
    "        guides(color = guide_legend(ncol = 2, title.position = 'top')) +\n",
    "        labs(x = bquote(atop(Delta~'expanded cell percent', '(Treat - Baseline)')), y = '', color = 'Cell state') + \n",
    "        theme(axis.line.y = element_blank(), axis.text.y = element_blank(), axis.ticks.y = element_blank())\n",
    "ggsave(filename = str_glue('{outdir}/fig4-pseudo_forest-expand_in_subtype-delta_delta.pdf'), plot = p, width = 2.5, height = 7)"
   ]
  },
  {
   "cell_type": "markdown",
   "id": "1af3f9dd-77ac-458b-825a-938610d07e6c",
   "metadata": {
    "jp-MarkdownHeadingCollapsed": true,
    "tags": []
   },
   "source": [
    "## boxplot for CD8_CX3CR1\n",
    "\n",
    "- date: 2024-01-04\n",
    "- desc: diversity, diff of expand, expansion percent"
   ]
  },
  {
   "cell_type": "code",
   "execution_count": null,
   "id": "2faaa680-c1e2-4e6a-9fe3-f0d2d03c6709",
   "metadata": {
    "tags": [],
    "vscode": {
     "languageId": "r"
    }
   },
   "outputs": [],
   "source": [
    "gp <- 'mandard_group'\n",
    "f_expand <- '../../stage4/a03_tcr/expansion/expand_cell_pct.csv'\n",
    "f_expand_diff <- '../figures/fig4/fig4-expand_in_subtype-post_pre_delta.tsv'  # this is based on min10 cells results\n",
    "f_diversity <- '../../stage4/a03_tcr/diversity/shannon_way2_min10.csv'\n",
    "\n",
    "min_cell_per_sample_subtype <- 10"
   ]
  },
  {
   "cell_type": "markdown",
   "id": "50d37f31-8f07-4f60-8fee-f7474a375c5f",
   "metadata": {
    "tags": []
   },
   "source": [
    "### expand in cluster"
   ]
  },
  {
   "cell_type": "code",
   "execution_count": null,
   "id": "a8db507e-f22b-4ef6-992b-a1a407be27f4",
   "metadata": {
    "tags": [],
    "vscode": {
     "languageId": "r"
    }
   },
   "outputs": [
    {
     "name": "stdout",
     "output_type": "stream",
     "text": [
      "\u001b[0m2024-01-04 16:14:19 INFO::these clinial info will be added: patient_id, mandard_group, response_degree, treatment_group, patient_gp, patient_gp_v2\u001b[0m\u001b[22m\u001b[23m\u001b[24m\u001b[27m\u001b[28m\u001b[29m\u001b[39m\u001b[49m\u001b[0m\u001b[0m\u001b[22m\u001b[23m\u001b[24m\u001b[27m\u001b[28m\u001b[29m\u001b[39m\u001b[49m\n",
      "\u001b[0m2024-01-04 16:14:19 INFO::73 samples for CD8_CX3CR1\u001b[0m\u001b[22m\u001b[23m\u001b[24m\u001b[27m\u001b[28m\u001b[29m\u001b[39m\u001b[49m\u001b[0m\u001b[0m\u001b[22m\u001b[23m\u001b[24m\u001b[27m\u001b[28m\u001b[29m\u001b[39m\u001b[49m\n"
     ]
    }
   ],
   "source": [
    "# process\n",
    "df <- read_csv(f_expand, show_col_types = F) %>%\n",
    "    filter(subtype == 'CD8_CX3CR1') %>%\n",
    "    filter(n_cell_per_sample_subtype >= min_cell_per_sample_subtype) %>%\n",
    "    select(patient, sample_type, n_expand_cell_per_sample_stype, n_cell_per_sample_subtype,\n",
    "           pct_in_cluster = pct_by_subtype, pct_in_sample = pct_by_sample) %>% \n",
    "    add_clin_info(ftsv = f_pat_gp, columns = NULL, merge_by = 'patient')\n",
    "loginfo('%g samples for CD8_CX3CR1', nrow(df))\n",
    "df %>% write_tsv(str_glue('{outdir}/fig4-expand_pct-cd8_cx3cr1-min{min_cell_per_sample_subtype}.tsv'))"
   ]
  },
  {
   "cell_type": "code",
   "execution_count": null,
   "id": "1dd4fbba-b6dc-4162-96e2-1f8d5dd326f0",
   "metadata": {
    "tags": [],
    "vscode": {
     "languageId": "r"
    }
   },
   "outputs": [],
   "source": [
    "# plot\n",
    "p <- read_tsv(str_glue('{outdir}/fig4-expand_pct-cd8_cx3cr1-min{min_cell_per_sample_subtype}.tsv'), show_col_types = F) %>% \n",
    "    filter(!is.na(.data[[gp]])) %>% \n",
    "    cell_comp_boxplot(x = c(gp, 'sample_type'), y = 'pct_in_cluster', pt_fill = gp, facet_by = NULL,\n",
    "                      xorder = NULL, fill_order = gp_lvls[[gp]], xangle = 45) +\n",
    "    stat_compare_means(comparisons = gp_comp_map[[gp]]) +\n",
    "    labs(y = 'Expanded cell percent in CD8_CX3CR1', fill = 'Response')\n",
    "ggsave(filename = str_glue('{outdir}/fig4-box_expand-in_cluster-cx3cr1.pdf'), plot = p, width = 3, height = 4.5)"
   ]
  },
  {
   "cell_type": "markdown",
   "id": "ad21530c-1a0a-4bdd-ba74-a81cd383aa07",
   "metadata": {
    "tags": []
   },
   "source": [
    "### expand diff in cluster"
   ]
  },
  {
   "cell_type": "code",
   "execution_count": null,
   "id": "4ea6be53-8728-4f93-ba9e-4f58ada83cc5",
   "metadata": {
    "tags": [],
    "vscode": {
     "languageId": "r"
    }
   },
   "outputs": [],
   "source": [
    "p <- read_tsv(f_expand_diff, show_col_types = F) %>% \n",
    "    filter(subtype == 'CD8_CX3CR1') %>%\n",
    "    filter(!is.na(.data[[gp]])) %>% \n",
    "    cell_comp_boxplot(x = gp, y = 'pct_expand_diff', pt_fill = gp, pair_by = NULL, facet_by = NULL,\n",
    "                      xorder = NULL, fill_order = gp_lvls[[gp]], xangle = 45) +\n",
    "    stat_compare_means(comparisons = gp_comp_diff_map[[gp]]) +\n",
    "    labs(y = bquote(atop(Delta~'expanded cell percent in CD8_CX3CR1', '(Treat - Baseline)')), fill = 'Response') +\n",
    "    theme(legend.justification = c(1, 0))\n",
    "ggsave(filename = str_glue('{outdir}/fig4-box_expand_diff-cx3cr1.pdf'), plot = p, width = 3, height = 4.5)"
   ]
  },
  {
   "cell_type": "markdown",
   "id": "019df3db-7f22-4970-be59-7391a16eb517",
   "metadata": {
    "tags": []
   },
   "source": [
    "### diversity: shannon index"
   ]
  },
  {
   "cell_type": "code",
   "execution_count": null,
   "id": "26bc9103-18bd-4314-91fe-d655081c9405",
   "metadata": {
    "tags": [],
    "vscode": {
     "languageId": "r"
    }
   },
   "outputs": [
    {
     "name": "stdout",
     "output_type": "stream",
     "text": [
      "\u001b[0m2024-01-04 17:07:32 INFO::these clinial info will be added: patient_id, mandard_group, response_degree, treatment_group, patient_gp, patient_gp_v2\u001b[0m\u001b[22m\u001b[23m\u001b[24m\u001b[27m\u001b[28m\u001b[29m\u001b[39m\u001b[49m\u001b[0m\u001b[0m\u001b[22m\u001b[23m\u001b[24m\u001b[27m\u001b[28m\u001b[29m\u001b[39m\u001b[49m\n",
      "\u001b[0m2024-01-04 17:07:32 INFO::73 samples for CD8_CX3CR1\u001b[0m\u001b[22m\u001b[23m\u001b[24m\u001b[27m\u001b[28m\u001b[29m\u001b[39m\u001b[49m\u001b[0m\u001b[0m\u001b[22m\u001b[23m\u001b[24m\u001b[27m\u001b[28m\u001b[29m\u001b[39m\u001b[49m\n"
     ]
    }
   ],
   "source": [
    "# process\n",
    "df <- read_csv(f_diversity, show_col_types = F) %>%\n",
    "    filter(subtype == 'CD8_CX3CR1') %>%\n",
    "    select(patient, sample_type, shannon) %>% \n",
    "    add_clin_info(ftsv = f_pat_gp, columns = NULL, merge_by = 'patient')\n",
    "loginfo('%g samples for CD8_CX3CR1', nrow(df))\n",
    "df %>% write_tsv(str_glue('{outdir}/fig4-diversity-cd8_cx3cr1-min{min_cell_per_sample_subtype}.tsv'))"
   ]
  },
  {
   "cell_type": "code",
   "execution_count": null,
   "id": "714fa130-12aa-437c-8064-74038c6548a1",
   "metadata": {
    "tags": [],
    "vscode": {
     "languageId": "r"
    }
   },
   "outputs": [],
   "source": [
    "p <- read_tsv(str_glue('{outdir}/fig4-diversity-cd8_cx3cr1-min{min_cell_per_sample_subtype}.tsv'), show_col_types = F) %>% \n",
    "    filter(!is.na(.data[[gp]])) %>% \n",
    "    cell_comp_boxplot(x = c(gp, 'sample_type'), y = 'shannon', pt_fill = gp, facet_by = NULL,\n",
    "                      xorder = NULL, fill_order = gp_lvls[[gp]], xangle = 45) +\n",
    "    stat_compare_means(comparisons = gp_comp_map[[gp]]) +\n",
    "    labs(y = 'Shannon index', fill = 'Response')\n",
    "ggsave(filename = str_glue('{outdir}/fig4-box_diversity-cx3cr1.pdf'), plot = p, width = 3, height = 4.5)"
   ]
  },
  {
   "cell_type": "markdown",
   "id": "50efd3aa-4c15-4fa1-99d0-4b23c0b466dc",
   "metadata": {
    "jp-MarkdownHeadingCollapsed": true,
    "tags": []
   },
   "source": [
    "## cyto/exhau score by A/B share/specific clones\n",
    "\n",
    "- date: 2024-01-04\n",
    "- desc:\n",
    "  - group cells by TCR sharing type: A/B-share/specific (A = CD8_CX3CR1)\n",
    "  - cyto/exhau summarise at cell level by TCR sharing type & sample & functional group"
   ]
  },
  {
   "cell_type": "code",
   "execution_count": null,
   "id": "047b76b4-a555-4499-ae1a-60eb32742c1f",
   "metadata": {
    "tags": [],
    "vscode": {
     "languageId": "r"
    }
   },
   "outputs": [],
   "source": [
    "f_info <- '../../stage4/a05_clone_share/a_b_share_old/clone_cat_to_CD8_CX3CR1_per_cell.csv'\n",
    "gp <- 'mandard_group'\n",
    "comp_ls <- list(\n",
    "    c('A-specific', 'A-shared'),\n",
    "    c('A-shared', 'B-shared'),\n",
    "    c('B-specific', 'B-shared'),\n",
    "    c('A-specific', 'B-shared')\n",
    ")\n",
    "group_order <- c('A-specific', 'A-shared', 'B-shared', 'B-specific')"
   ]
  },
  {
   "cell_type": "code",
   "execution_count": null,
   "id": "43009298-a46e-437d-8aae-abb69c6583d5",
   "metadata": {
    "tags": [],
    "vscode": {
     "languageId": "r"
    }
   },
   "outputs": [
    {
     "name": "stdout",
     "output_type": "stream",
     "text": [
      "\u001b[0m2024-01-04 19:48:20 INFO::256399 records\u001b[0m\u001b[22m\u001b[23m\u001b[24m\u001b[27m\u001b[28m\u001b[29m\u001b[39m\u001b[49m\u001b[0m\u001b[0m\u001b[22m\u001b[23m\u001b[24m\u001b[27m\u001b[28m\u001b[29m\u001b[39m\u001b[49m\n"
     ]
    }
   ],
   "source": [
    "# process\n",
    "clone_info <- read_csv(f_info, show_col_types = F) %>% \n",
    "    filter(!grepl('^NK', compare_with))  # no NK cells\n",
    "# rename cell types\n",
    "for (nm in names(celltype_map)) {\n",
    "    clone_info$subtype[clone_info$subtype %in% celltype_map[[nm]]] <- nm\n",
    "    clone_info$compare_with[clone_info$compare_with %in% celltype_map[[nm]]] <- nm\n",
    "}\n",
    "# add cell state info\n",
    "clone_info$cell_state <- 'unknown'\n",
    "for (nm in names(cell_state_map)) {\n",
    "    clone_info$cell_state[clone_info$compare_with %in% cell_state_map[[nm]]] <- nm\n",
    "}\n",
    "clone_info$cell_state[clone_info$cell_state == 'cytotoxic'] <- 'other cytotoxic'\n",
    "loginfo('%g records', nrow(clone_info))"
   ]
  },
  {
   "cell_type": "code",
   "execution_count": null,
   "id": "503987c6-4048-493d-9990-7c43def4bdf5",
   "metadata": {
    "tags": [],
    "vscode": {
     "languageId": "r"
    }
   },
   "outputs": [
    {
     "name": "stdout",
     "output_type": "stream",
     "text": [
      "\u001b[0m2024-01-04 20:10:34 INFO::these clinial info will be added: patient_id, mandard_group, response_degree, treatment_group, patient_gp, patient_gp_v2\u001b[0m\u001b[22m\u001b[23m\u001b[24m\u001b[27m\u001b[28m\u001b[29m\u001b[39m\u001b[49m\u001b[0m\u001b[0m\u001b[22m\u001b[23m\u001b[24m\u001b[27m\u001b[28m\u001b[29m\u001b[39m\u001b[49m\n",
      "\u001b[0m2024-01-04 20:10:35 INFO::1183 records after summrizing\u001b[0m\u001b[22m\u001b[23m\u001b[24m\u001b[27m\u001b[28m\u001b[29m\u001b[39m\u001b[49m\u001b[0m\u001b[0m\u001b[22m\u001b[23m\u001b[24m\u001b[27m\u001b[28m\u001b[29m\u001b[39m\u001b[49m\n"
     ]
    }
   ],
   "source": [
    "# calculate median score & define as A/B-share/specific\n",
    "df <- clone_info %>% \n",
    "    mutate(rep_ctype = if_else(subtype == 'CD8_CX3CR1', 'A', 'B')) %>% \n",
    "    unite(col = 'cell_group', rep_ctype, clone_cat2a, sep = '-', remove = F) %>% \n",
    "    summarise(.by = c('sample', 'patient', 'sample_type', 'cell_state', 'cell_group', 'clone_cat2a'),\n",
    "              exhau_score = median(exhau),\n",
    "              cyto_score = median(cyto)) %>%\n",
    "    add_clin_info(ftsv = f_pat_gp, columns = NULL, merge_by = 'patient')\n",
    "df %>% write_tsv(str_glue('{outdir}/fig4-cyto_exhau_score-cell_state.tsv'))\n",
    "loginfo('%g records after summrizing', nrow(df))"
   ]
  },
  {
   "cell_type": "code",
   "execution_count": null,
   "id": "450e3910-1e79-4137-aa1b-b9904340b8d1",
   "metadata": {
    "tags": [],
    "vscode": {
     "languageId": "r"
    }
   },
   "outputs": [],
   "source": [
    "# plot\n",
    "ylab_map <- list('cyto_score' = 'Cytotoxicity score', 'exhau_score' = 'Exhaustion score')\n",
    "df <- read_tsv(str_glue('{outdir}/fig4-cyto_exhau_score-cell_state.tsv'), show_col_types = F) %>%\n",
    "    mutate(cell_state = factor(cell_state, levels = c('other cytotoxic', 'exhausted', 'dying', 'others')),\n",
    "           cell_group = factor(cell_group, levels = group_order))\n",
    "p_ls <- lapply(X = names(ylab_map), FUN = function(ycol) {\n",
    "    ggplot(data = df, aes(x = cell_group, y = .data[[ycol]])) +\n",
    "    geom_boxplot(aes(fill = clone_cat2a), outlier.shape = NA) +\n",
    "    geom_jitter(size = 1.5, alpha = 0.5, width = 0.25) +\n",
    "    facet_wrap(~ cell_state, nrow = 1) +\n",
    "    stat_compare_means(comparisons = comp_ls) +\n",
    "    labs(y = ylab_map[[ycol]], fill = 'TCR Shared Type') +\n",
    "    theme(axis.text.x = element_text(angle = 45, hjust = .95), axis.title.x = element_blank())\n",
    "})\n",
    "ggsave(filename = str_glue('{outdir}/fig4-box_cyto_exhau_score-a_b_share.pdf'), \n",
    "       plot = wrap_plots(p_ls, ncol = 1, guides = 'collect'), width = 14, height = 9)"
   ]
  },
  {
   "cell_type": "markdown",
   "id": "5f72d239-987b-4dc1-be83-5386285753ef",
   "metadata": {
    "tags": []
   },
   "source": [
    "## clone fraction: shared with CD8_CX3CR1 vs shared with non-CD8_CX3CR1\n",
    "\n",
    "- date: 2024-01-04\n",
    "- desc: \n",
    "  - sharing at sample level\n",
    "  - re-calculate clone fraction (based on RNA & TCR data)\n",
    "  - exclude CD8_CX3CR1 when plot"
   ]
  },
  {
   "cell_type": "code",
   "execution_count": null,
   "id": "53c579a6-88e3-4746-b208-b8dfde9cb934",
   "metadata": {
    "tags": [],
    "vscode": {
     "languageId": "r"
    }
   },
   "outputs": [],
   "source": [
    "f_clone_info <- '../../stage4/a05_clone_share/clone_share_old/clone_sharing_info_per_cell.csv'\n",
    "comp_ls <- list(\n",
    "    c('CD8_CX3CR1_shared', 'otherT_shared'), \n",
    "    c('otherT_shared', 'specific'), \n",
    "    c('CD8_CX3CR1_shared', 'specific')\n",
    ")\n",
    "share_type_label_map <- c(\n",
    "    'CD8_CX3CR1_shared' = 'shared with\\nCD8_CX3CR1',\n",
    "    'otherT_shared' = 'shared with\\nnon-CD8_CX3CR1', \n",
    "    'specific' = 'unshared'\n",
    ")"
   ]
  },
  {
   "cell_type": "code",
   "execution_count": null,
   "id": "470466e1-2b4c-45c0-92c4-e82cbdc6fad3",
   "metadata": {
    "tags": [],
    "vscode": {
     "languageId": "r"
    }
   },
   "outputs": [
    {
     "name": "stdout",
     "output_type": "stream",
     "text": [
      "\u001b[0m2024-01-04 21:45:22 INFO::131179 records of clonotypes in each sample, each subtype\u001b[0m\u001b[22m\u001b[23m\u001b[24m\u001b[27m\u001b[28m\u001b[29m\u001b[39m\u001b[49m\u001b[0m\u001b[0m\u001b[22m\u001b[23m\u001b[24m\u001b[27m\u001b[28m\u001b[29m\u001b[39m\u001b[49m\n"
     ]
    }
   ],
   "source": [
    "# re-calculate clone fraction\n",
    "clone_frac <- read_csv(f_clone_info, show_col_types = F)  %>%\n",
    "    add_count(sample, clonotype, name = 'n_cell_per_sample_clone') %>% \n",
    "    add_count(sample, name = 'n_cell_per_sample') %>% \n",
    "    select(sample, patient, sample_type, subtype, clonotype, share_type, n_cell_per_sample_clone, n_cell_per_sample) %>% \n",
    "    distinct() %>% \n",
    "    mutate(clone_frac_new = n_cell_per_sample_clone / n_cell_per_sample) %>%\n",
    "    filter(subtype != 'CD8_CX3CR1')  # no CD8_CX3CR1\n",
    "# rename cell types\n",
    "for (nm in names(celltype_map)) {\n",
    "    clone_frac$subtype[clone_frac$subtype %in% celltype_map[[nm]]] <- nm\n",
    "}\n",
    "# add cell state info\n",
    "clone_frac$cell_state <- 'unknown'\n",
    "for (nm in names(cell_state_map)) {\n",
    "    clone_frac$cell_state[clone_frac$subtype %in% cell_state_map[[nm]]] <- nm\n",
    "}\n",
    "clone_frac$cell_state[clone_frac$cell_state == 'cytotoxic'] <- 'other cytotoxic'\n",
    "\n",
    "clone_frac %>% write_tsv(str_glue('{outdir}/fig4-tcr_share_inter_subtype-clone_frac_new.tsv'), quote = 'needed')\n",
    "loginfo('%g records of clonotypes in each sample, each subtype', nrow(clone_frac))"
   ]
  },
  {
   "cell_type": "code",
   "execution_count": null,
   "id": "08191a7a-d8a7-40da-98e2-c4201579ac6e",
   "metadata": {
    "tags": [],
    "vscode": {
     "languageId": "r"
    }
   },
   "outputs": [],
   "source": [
    "# plot\n",
    "p <- read_tsv(str_glue('{outdir}/fig4-tcr_share_inter_subtype-clone_frac_new.tsv'), show_col_types = F) %>% \n",
    "    mutate(cell_state = factor(cell_state, levels = c('other cytotoxic', 'exhausted', 'dying', 'others')),\n",
    "           share_type = factor(share_type, levels = names(share_type_label_map))) %>%\n",
    "    filter(!grepl('^NK', subtype)) %>%\n",
    "    ggviolin(x = 'share_type', y = 'clone_frac_new', fill = 'share_type', \n",
    "             facet.by = 'cell_state', ncol = 9, add = 'boxplot') + \n",
    "    stat_compare_means(comparisons = comp_ls) +\n",
    "    scale_fill_jco(breaks = names(share_type_label_map), labels = share_type_label_map) +\n",
    "    scale_x_discrete(labels = share_type_label_map) +\n",
    "    scale_y_continuous(trans = 'log10') +  # log10 won't influence wilcoxon test p value\n",
    "    labs(y = 'Clonotype fraction at sample level\\n(RNA & TCR data)', fill = 'TCR sharing type') +\n",
    "    theme(axis.text.x = element_text(angle = 45, hjust = 0.95), axis.title.x = element_blank())\n",
    "ggsave(filename = str_glue('{outdir}/fig4-vln_tcr_share_inter_subtype-clone_frac_new.pdf'), \n",
    "       plot = p, width = 14, height = 6)"
   ]
  },
  {
   "cell_type": "markdown",
   "id": "56b2b2fe-c04b-4bbd-9301-f99f918341a6",
   "metadata": {
    "jp-MarkdownHeadingCollapsed": true,
    "tags": []
   },
   "source": [
    "## CX3CL1 expression\n",
    "\n",
    "- date: 2024-01-04"
   ]
  },
  {
   "cell_type": "markdown",
   "id": "b7d04a32-6085-40a5-a7e1-e601a31c626a",
   "metadata": {},
   "source": [
    "### dotplot in whole data"
   ]
  },
  {
   "cell_type": "code",
   "execution_count": null,
   "id": "8369fc43-1a8d-4da4-b420-cba8ff11479d",
   "metadata": {
    "tags": [],
    "vscode": {
     "languageId": "r"
    }
   },
   "outputs": [],
   "source": [
    "scrna <- readRDS('../../stage4/a01_data/seuobj/whole.rds')"
   ]
  },
  {
   "cell_type": "code",
   "execution_count": null,
   "id": "ea02dd01-547b-43a3-a25c-a94dd0a085ed",
   "metadata": {
    "tags": [],
    "vscode": {
     "languageId": "r"
    }
   },
   "outputs": [
    {
     "name": "stderr",
     "output_type": "stream",
     "text": [
      "\u001b[1m\u001b[22mScale for \u001b[32mcolour\u001b[39m is already present.\n",
      "Adding another scale for \u001b[32mcolour\u001b[39m, which will replace the existing scale.\n"
     ]
    }
   ],
   "source": [
    "p <- Seurat::DotPlot(scrna, features = 'CX3CL1', group.by = 'cell_type') +\n",
    "    scale_color_gsea() +\n",
    "    theme(axis.title = element_blank())\n",
    "ggsave(filename = str_glue('{outdir}/fig4-dot_exprs-cx3cl1-whole.pdf'), plot = p, width = 4, height = 4)"
   ]
  },
  {
   "cell_type": "markdown",
   "id": "526c032a-b78e-4da3-b66f-31598a203c22",
   "metadata": {},
   "source": [
    "### pbulk in sample"
   ]
  },
  {
   "cell_type": "code",
   "execution_count": null,
   "id": "56fc0a53-1289-4611-9eae-e020350048a7",
   "metadata": {
    "tags": [],
    "vscode": {
     "languageId": "r"
    }
   },
   "outputs": [],
   "source": [
    "f_exprs <- '../../stage4/a04_cx3cl1/tme_exprs/cx3cl1_tme_exprs.tsv'\n",
    "gp <- 'mandard_group'"
   ]
  },
  {
   "cell_type": "code",
   "execution_count": null,
   "id": "36ec97af-04bb-47e9-bd3b-3fd93385a00d",
   "metadata": {
    "tags": [],
    "vscode": {
     "languageId": "r"
    }
   },
   "outputs": [
    {
     "name": "stdout",
     "output_type": "stream",
     "text": [
      "\u001b[0m2024-01-04 22:12:27 INFO::these clinial info will be added: patient_id, mandard_group, response_degree, treatment_group, patient_gp, patient_gp_v2\u001b[0m\u001b[22m\u001b[23m\u001b[24m\u001b[27m\u001b[28m\u001b[29m\u001b[39m\u001b[49m\u001b[0m\u001b[0m\u001b[22m\u001b[23m\u001b[24m\u001b[27m\u001b[28m\u001b[29m\u001b[39m\u001b[49m\n"
     ]
    }
   ],
   "source": [
    "# add clin info\n",
    "df <- read_tsv(f_exprs, show_col_types = F) %>%\n",
    "    separate(col = 'sample', into = c('patient', 'sample_type'), sep = '-', remove = F) %>% \n",
    "    mutate(cx3cl1_exprs_log = log1p(cx3cl1_exprs_unlog)) %>% \n",
    "    add_clin_info(ftsv = f_pat_gp, columns = NULL, merge_by = 'patient')\n",
    "df %>% write_tsv(str_glue('{outdir}/fig4-pbulk_exprs-cx3cl1_in_TME.tsv'))"
   ]
  },
  {
   "cell_type": "code",
   "execution_count": null,
   "id": "ae64f6be-1678-4fe7-81e6-eeaf351ca55e",
   "metadata": {
    "tags": [],
    "vscode": {
     "languageId": "r"
    }
   },
   "outputs": [],
   "source": [
    "p <- read_tsv(str_glue('{outdir}/fig4-pbulk_exprs-cx3cl1_in_TME.tsv'), show_col_types = F) %>% \n",
    "    filter(!is.na(.data[[gp]])) %>%\n",
    "    cell_comp_boxplot(x = c(gp, 'sample_type'), y = 'cx3cl1_exprs_log', pt_fill = gp, facet_by = NULL,\n",
    "                      xorder = NULL, fill_order = gp_lvls[[gp]], xangle = 60) + \n",
    "    stat_compare_means(comparisons = gp_comp_map[[gp]]) +\n",
    "    labs(y = 'CX3CL1 expression in sample', fill = 'Response')\n",
    "ggsave(filename = str_glue('{outdir}/fig4-box_exprs-cx3cl1_pbulk_in_TME.pdf'), plot = p, height = 6, width = 4)"
   ]
  },
  {
   "cell_type": "markdown",
   "id": "de10af55-788a-4eca-8328-2602ea8f9cb9",
   "metadata": {
    "tags": []
   },
   "source": [
    "## cell composition of CD8_CX3CR1-shared T in T+NK\n",
    "\n",
    "- date: 2024-01-04\n",
    "- desc: based on RNA & TCR data"
   ]
  },
  {
   "cell_type": "code",
   "execution_count": null,
   "id": "1323ac07-32b1-4756-a5c3-a65bd1ec35ac",
   "metadata": {
    "tags": [],
    "vscode": {
     "languageId": "r"
    }
   },
   "outputs": [],
   "source": [
    "f_clone_cell <- '../../stage4/a03_tcr/expansion/clone_expand_info_per_cell.csv'\n",
    "gp <- 'mandard_group'"
   ]
  },
  {
   "cell_type": "code",
   "execution_count": null,
   "id": "3bb982f7-08c3-4ddd-9cbb-5f47ef810d8e",
   "metadata": {
    "tags": [],
    "vscode": {
     "languageId": "r"
    }
   },
   "outputs": [
    {
     "name": "stdout",
     "output_type": "stream",
     "text": [
      "\u001b[0m2024-01-04 22:59:40 INFO::205824 cells (RNA & TCR data)\u001b[0m\u001b[22m\u001b[23m\u001b[24m\u001b[27m\u001b[28m\u001b[29m\u001b[39m\u001b[49m\u001b[0m\u001b[0m\u001b[22m\u001b[23m\u001b[24m\u001b[27m\u001b[28m\u001b[29m\u001b[39m\u001b[49m\n",
      "\u001b[0m2024-01-04 22:59:40 INFO::1375 unique CD8_CX3CR1 clones\u001b[0m\u001b[22m\u001b[23m\u001b[24m\u001b[27m\u001b[28m\u001b[29m\u001b[39m\u001b[49m\u001b[0m\u001b[0m\u001b[22m\u001b[23m\u001b[24m\u001b[27m\u001b[28m\u001b[29m\u001b[39m\u001b[49m\n",
      "\u001b[0m2024-01-04 22:59:40 INFO::these clinial info will be added: patient_id, mandard_group, response_degree, treatment_group, patient_gp, patient_gp_v2\u001b[0m\u001b[22m\u001b[23m\u001b[24m\u001b[27m\u001b[28m\u001b[29m\u001b[39m\u001b[49m\u001b[0m\u001b[0m\u001b[22m\u001b[23m\u001b[24m\u001b[27m\u001b[28m\u001b[29m\u001b[39m\u001b[49m\n",
      "\u001b[0m2024-01-04 22:59:40 INFO::81 records\u001b[0m\u001b[22m\u001b[23m\u001b[24m\u001b[27m\u001b[28m\u001b[29m\u001b[39m\u001b[49m\u001b[0m\u001b[0m\u001b[22m\u001b[23m\u001b[24m\u001b[27m\u001b[28m\u001b[29m\u001b[39m\u001b[49m\n"
     ]
    }
   ],
   "source": [
    "clone_info <- read_csv(f_clone_cell, show_col_types = F) %>% \n",
    "    filter(!is.na(clonotype))\n",
    "loginfo('%g cells (RNA & TCR data)', nrow(clone_info))\n",
    "# define cell\n",
    "cx3cr1_clones <- clone_info %>% \n",
    "    filter(subtype == 'CD8_CX3CR1') %>% \n",
    "    pull(clonotype) %>% \n",
    "    unique()\n",
    "loginfo('%g unique CD8_CX3CR1 clones', length(cx3cr1_clones))\n",
    "# cal fraction\n",
    "df <- clone_info %>% \n",
    "    mutate(cell_group = if_else(clonotype %in% cx3cr1_clones, 'valid', 'others')) %>% \n",
    "    add_count(sample, name = 'n_cell_per_sample') %>% \n",
    "    filter(subtype != 'CD8_CX3CR1') %>%  # shared TCR with CX3CR1 but not CX3CR1\n",
    "    count(sample, patient, sample_type, n_cell_per_sample, cell_group, name = 'n_cell') %>% \n",
    "    pivot_wider(names_from = 'cell_group', values_from = 'n_cell', values_fill = 0) %>%\n",
    "    mutate(pct = 100 * valid / n_cell_per_sample) %>%\n",
    "    select(sample, patient, sample_type, n_valid_cell_per_sample = valid, n_cell_per_sample, pct) %>%\n",
    "    add_clin_info(ftsv = f_pat_gp, columns = NULL, merge_by = 'patient')\n",
    "loginfo('%g records', nrow(df))\n",
    "\n",
    "df %>% write_tsv(str_glue('{outdir}/fig4-cc-non_cx3cr1_with_cx3cr1_tcr-rna_tcr.tsv'))"
   ]
  },
  {
   "cell_type": "code",
   "execution_count": null,
   "id": "fc9a5a1f-ddef-42a4-a2a5-bc3f7012b337",
   "metadata": {
    "tags": [],
    "vscode": {
     "languageId": "r"
    }
   },
   "outputs": [],
   "source": [
    "p <- read_tsv(str_glue('{outdir}/fig4-cc-non_cx3cr1_with_cx3cr1_tcr-rna_tcr.tsv'), show_col_types = F) %>% \n",
    "    filter(!is.na(.data[[gp]])) %>%\n",
    "    cell_comp_boxplot(x = c(gp, 'sample_type'), y = 'pct', pt_fill = gp, facet_by = NULL, \n",
    "                      xorder = NULL, fill_order = gp_lvls[[gp]], xanlge = 60) +\n",
    "    stat_compare_means(comparisons = gp_comp_map[[gp]]) +\n",
    "    labs(y = 'Percent of cells share TCR with CD8_CX3CR1\\n(exclude CD8_CX3CR1 cells)', fill = 'Response')\n",
    "ggsave(filename = str_glue('{outdir}/fig4-box_cc-non_cx3cr1_with_cx3cr1_tcr-rna_tcr.pdf'), \n",
    "       plot = p, width = 4, height = 6)"
   ]
  }
 ],
 "metadata": {
  "kernelspec": {
   "display_name": "R",
   "language": "R",
   "name": "ir"
  },
  "language_info": {
   "codemirror_mode": {
    "name": "ipython",
    "version": 3
   },
   "file_extension": ".py",
   "mimetype": "text/x-python",
   "name": "R",
   "nbconvert_exporter": "python",
   "pygments_lexer": "ipython3",
   "version": "3.10.17"
  },
  "toc-autonumbering": false,
  "toc-showmarkdowntxt": false
 },
 "nbformat": 4,
 "nbformat_minor": 5
}

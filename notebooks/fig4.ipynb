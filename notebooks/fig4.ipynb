{
 "cells": [
  {
   "cell_type": "markdown",
   "id": "4e78bb62-b115-43fd-9fb7-c826ee2811a4",
   "metadata": {
    "tags": []
   },
   "source": [
    "# figure 4 vlz\n",
    "\n",
    "- kernel: r_env, R 4.1.3\n",
    "- date: 2023-12-28"
   ]
  },
  {
   "cell_type": "markdown",
   "id": "0e59ed14-a3c3-49a6-8411-ae918b67af3b",
   "metadata": {
    "tags": []
   },
   "source": [
    "## load"
   ]
  },
  {
   "cell_type": "code",
   "execution_count": null,
   "id": "95697196-8cfb-4a41-9105-a25a0d5c0baf",
   "metadata": {
    "tags": [],
    "vscode": {
     "languageId": "r"
    }
   },
   "outputs": [
    {
     "name": "stderr",
     "output_type": "stream",
     "text": [
      "── \u001b[1mAttaching core tidyverse packages\u001b[22m ──────────────────────── tidyverse 2.0.0 ──\n",
      "\u001b[32m✔\u001b[39m \u001b[34mdplyr    \u001b[39m 1.1.0     \u001b[32m✔\u001b[39m \u001b[34mreadr    \u001b[39m 2.1.4\n",
      "\u001b[32m✔\u001b[39m \u001b[34mforcats  \u001b[39m 1.0.0     \u001b[32m✔\u001b[39m \u001b[34mstringr  \u001b[39m 1.5.0\n",
      "\u001b[32m✔\u001b[39m \u001b[34mggplot2  \u001b[39m 3.4.1     \u001b[32m✔\u001b[39m \u001b[34mtibble   \u001b[39m 3.2.0\n",
      "\u001b[32m✔\u001b[39m \u001b[34mlubridate\u001b[39m 1.9.2     \u001b[32m✔\u001b[39m \u001b[34mtidyr    \u001b[39m 1.3.0\n",
      "\u001b[32m✔\u001b[39m \u001b[34mpurrr    \u001b[39m 1.0.1     \n",
      "── \u001b[1mConflicts\u001b[22m ────────────────────────────────────────── tidyverse_conflicts() ──\n",
      "\u001b[31m✖\u001b[39m \u001b[34mdplyr\u001b[39m::\u001b[32mfilter()\u001b[39m masks \u001b[34mstats\u001b[39m::filter()\n",
      "\u001b[31m✖\u001b[39m \u001b[34mdplyr\u001b[39m::\u001b[32mlag()\u001b[39m    masks \u001b[34mstats\u001b[39m::lag()\n",
      "\u001b[36mℹ\u001b[39m Use the conflicted package (\u001b[3m\u001b[34m<http://conflicted.r-lib.org/>\u001b[39m\u001b[23m) to force all conflicts to become errors\n",
      "Attaching SeuratObject\n",
      "\n"
     ]
    }
   ],
   "source": [
    "library(tidyverse)\n",
    "library(logging)\n",
    "library(ggpubr)\n",
    "library(ggsci)\n",
    "library(patchwork)\n",
    "library(Seurat)\n",
    "\n",
    "source('../scripts/r_funcs.r')\n",
    "\n",
    "theme_set(theme_pubr())\n",
    "logging::basicConfig()\n",
    "options(warn = -1)\n",
    "\n",
    "outdir <- '../figures/fig4'\n",
    "create_dir(outdir)"
   ]
  },
  {
   "cell_type": "code",
   "execution_count": null,
   "id": "a861c9a0-c519-47c3-8d7b-1e864e2ec231",
   "metadata": {
    "tags": [],
    "vscode": {
     "languageId": "r"
    }
   },
   "outputs": [],
   "source": [
    "f_pat_gp <- '../tables/patient_info_v2.tsv'\n",
    "gp <- 'response'\n",
    "gp_lvls$response <- c('R', 'PR')\n",
    "gp_comp_map$response <- list(\n",
    "  c('R-pre', 'R-post'),\n",
    "  c('PR-pre', 'PR-post'),\n",
    "  c('R-pre', 'PR-pre'),\n",
    "  c('R-post', 'PR-post')\n",
    ")\n",
    "gp_comp_diff_map$response <- list(c('R', 'PR'))\n",
    "gp_comp_map_pre$response <- list(c('R-pre', 'PR-pre'))\n",
    "comb_order <- c('R-pre', 'R-post', 'PR-pre', 'PR-post')"
   ]
  },
  {
   "cell_type": "code",
   "execution_count": null,
   "id": "b6b88380-c498-4bb0-9702-737bb7ae5776",
   "metadata": {
    "tags": [],
    "vscode": {
     "languageId": "r"
    }
   },
   "outputs": [],
   "source": [
    "celltype_map <- list(\n",
    "    'T_MKI67' = c('T_Prolif')\n",
    ")\n",
    "\n",
    "cell_state_map <- list(\n",
    "    'cytotoxic' = c('CD8_ANXA1', 'CD8_CCL5', 'CD8_CX3CR1', 'CD8_FOS', 'CD8_GZMK', 'CD8_KLRB1'),\n",
    "    'exhausted' = c('CD4_CXCL13', 'CD8_CXCL13', 'CD8_TYMS', 'T_MKI67', 'Treg_TNFRSF4'),\n",
    "    'dying' = c('T_Mito'),\n",
    "    'others' = c('CD4_KLRB1', 'CD8_CD74', 'CD8_IFIT1', 'T_IL7R', 'T_Ribo', 'Treg_LTB')\n",
    ")\n",
    "cell_state_order <- c('cytotoxic', 'exhausted', 'dying', 'others')\n",
    "cell_state_color <- c('exhausted' = '#023fa5', 'cytotoxic' = 'red', \n",
    "                      'dying' = '#bb7784', 'others' = '#ff9639')"
   ]
  },
  {
   "cell_type": "markdown",
   "id": "6ead5922-7a9b-4ae5-9d6f-5ae1099c834f",
   "metadata": {
    "jp-MarkdownHeadingCollapsed": true,
    "tags": []
   },
   "source": [
    "## pre-post TCR sharing: 4a-c"
   ]
  },
  {
   "cell_type": "code",
   "execution_count": null,
   "id": "f5b37c2b-7b84-490f-bd66-17fc7802062b",
   "metadata": {
    "tags": [],
    "vscode": {
     "languageId": "r"
    }
   },
   "outputs": [],
   "source": [
    "f_share <- '../../stage4/a05_clone_share/pre_post_share/pre_post_share-per_clone_subtype.tsv'  # subtype level share\n",
    "f_clone_share_sample <- '../../stage4/a05_clone_share/pre_post_share/pre_post_share-by_sample-per_clone.tsv'  # sample level share\n",
    "\n",
    "min_cell_per_sample_subtype <- 10  # to cosistent with expand percent analysis"
   ]
  },
  {
   "cell_type": "markdown",
   "id": "56a78031",
   "metadata": {},
   "source": [
    "### 4a: vln of clone fraction in Treat, novel vs pre-exisiting\n",
    "\n",
    "- sharing at sample level\n",
    "- clone fraction (based on RNA & TCR data) in mandarad_group, post-novel & pre-post-shared types\n",
    "- min_cell_per_clone = 2"
   ]
  },
  {
   "cell_type": "code",
   "execution_count": null,
   "id": "8baf874d",
   "metadata": {
    "vscode": {
     "languageId": "r"
    }
   },
   "outputs": [
    {
     "data": {
      "text/html": [
       "<style>\n",
       ".list-inline {list-style: none; margin:0; padding: 0}\n",
       ".list-inline>li {display: inline-block}\n",
       ".list-inline>li:not(:last-child)::after {content: \"\\00b7\"; padding: 0 .5ex}\n",
       "</style>\n",
       "<ol class=list-inline><li>67283</li><li>17</li></ol>\n"
      ],
      "text/latex": [
       "\\begin{enumerate*}\n",
       "\\item 67283\n",
       "\\item 17\n",
       "\\end{enumerate*}\n"
      ],
      "text/markdown": [
       "1. 67283\n",
       "2. 17\n",
       "\n",
       "\n"
      ],
      "text/plain": [
       "[1] 67283    17"
      ]
     },
     "metadata": {},
     "output_type": "display_data"
    }
   ],
   "source": [
    "min_cell_per_clone <- 2\n",
    "xorder <- c('R-pre_existing', 'R-post_novel', 'PR-pre_existing', 'PR-post_novel')\n",
    "comp_ls <- list(\n",
    "    c('R-pre_existing', 'R-post_novel'), c('PR-pre_existing', 'PR-post_novel'),\n",
    "    c('R-pre_existing', 'PR-pre_existing'), c('R-post_novel', 'PR-post_novel')\n",
    ")\n",
    "\n",
    "clone_share_info <- read_tsv(f_clone_share_sample, show_col_types = F)\n",
    "clone_share_info %>% dim"
   ]
  },
  {
   "cell_type": "code",
   "execution_count": null,
   "id": "a2ebefc8",
   "metadata": {
    "vscode": {
     "languageId": "r"
    }
   },
   "outputs": [
    {
     "name": "stdout",
     "output_type": "stream",
     "text": [
      "\u001b[0m2024-02-05 15:12:25 INFO::these clinial info will be added: response\u001b[0m\u001b[22m\u001b[23m\u001b[24m\u001b[27m\u001b[28m\u001b[29m\u001b[39m\u001b[49m\u001b[0m\u001b[0m\u001b[22m\u001b[23m\u001b[24m\u001b[27m\u001b[28m\u001b[29m\u001b[39m\u001b[49m\n"
     ]
    },
    {
     "data": {
      "text/html": [
       "<style>\n",
       ".list-inline {list-style: none; margin:0; padding: 0}\n",
       ".list-inline>li {display: inline-block}\n",
       ".list-inline>li:not(:last-child)::after {content: \"\\00b7\"; padding: 0 .5ex}\n",
       "</style>\n",
       "<ol class=list-inline><li>4689</li><li>19</li></ol>\n"
      ],
      "text/latex": [
       "\\begin{enumerate*}\n",
       "\\item 4689\n",
       "\\item 19\n",
       "\\end{enumerate*}\n"
      ],
      "text/markdown": [
       "1. 4689\n",
       "2. 19\n",
       "\n",
       "\n"
      ],
      "text/plain": [
       "[1] 4689   19"
      ]
     },
     "metadata": {},
     "output_type": "display_data"
    }
   ],
   "source": [
    "# stat\n",
    "df_stat <- clone_share_info %>% \n",
    "    filter(!is.na(sample_post)) %>%  # all Treat clones %>%\n",
    "    add_clin_info(ftsv = f_pat_gp, columns = gp, merge_by = 'patient') %>%\n",
    "    mutate(xlab = case_when(\n",
    "        share_type == 'pre_post_share' ~ paste0(.data[[gp]], '-pre_existing'), \n",
    "        share_type == 'post_specific' ~ paste0(.data[[gp]], '-post_novel'), \n",
    "        TRUE ~ 'others'\n",
    "    )) %>%\n",
    "    filter(n_cell_per_sample_clone_post >= min_cell_per_clone)  # filter clones with few cells\n",
    "df_stat %>% dim\n",
    "df_stat %>% write_tsv(str_glue('{outdir}/fig4a-tcr_share-post_novel-vs-pre_exist-clone_frac_new.tsv'))"
   ]
  },
  {
   "cell_type": "code",
   "execution_count": null,
   "id": "0e105e06",
   "metadata": {
    "vscode": {
     "languageId": "r"
    }
   },
   "outputs": [],
   "source": [
    "# plot\n",
    "p <- read_tsv(str_glue('{outdir}/fig4a-tcr_share-post_novel-vs-pre_exist-clone_frac_new.tsv'), show_col_types = F) %>%\n",
    "    mutate(pat_gp = factor(.data[[gp]], gp_lvls[[gp]])) %>%\n",
    "    ggviolin(x = 'xlab', y = 'clone_frac_new_post', fill = 'pat_gp', add = 'boxplot', palette = 'jco', order = xorder) +\n",
    "    scale_y_continuous(trans = 'log10') +\n",
    "    stat_compare_means(comparisons = comp_ls) +\n",
    "    labs(x = '', y = 'Clonotype fraction at sample level\\n(RNA & TCR data)', fill = 'Response') +\n",
    "    theme(axis.text.x = element_text(angle = 60, hjust = 0.96))\n",
    "ggsave(filename = str_glue('{outdir}/fig4a-vln_tcr_share-post_novel-vs-pre_exist-clone_frac_new.pdf'),\n",
    "       plot = p, width = 4, height = 6)"
   ]
  },
  {
   "cell_type": "markdown",
   "id": "dafa9e8f-d1b8-4fde-801f-72fd92615e5d",
   "metadata": {
    "jp-MarkdownHeadingCollapsed": true,
    "tags": []
   },
   "source": [
    "### 4b-1: all Baseline vs all Treat in Baseline\n",
    "\n",
    "- all Baseline, all Treat overlap TCRs / all Baseline TCRs, cell type level\n",
    "- min_cell_per_sample_subtype = 10"
   ]
  },
  {
   "cell_type": "code",
   "execution_count": null,
   "id": "d0b48fda-c744-41cd-aa3a-894f42bb9856",
   "metadata": {
    "tags": [],
    "vscode": {
     "languageId": "r"
    }
   },
   "outputs": [],
   "source": [
    "df <- read_tsv(f_share, show_col_types = F)\n",
    "\n",
    "# rename cell type\n",
    "for (nm in names(celltype_map)) {\n",
    "    df$subtype[df$subtype %in% celltype_map[[nm]]] <- nm\n",
    "}"
   ]
  },
  {
   "cell_type": "code",
   "execution_count": null,
   "id": "25f19d69-a9df-470e-8fd4-f3247fce74e1",
   "metadata": {
    "tags": [],
    "vscode": {
     "languageId": "r"
    }
   },
   "outputs": [
    {
     "name": "stdout",
     "output_type": "stream",
     "text": [
      "\u001b[0m2024-02-05 15:21:59 INFO::these clinial info will be added: response\u001b[0m\u001b[22m\u001b[23m\u001b[24m\u001b[27m\u001b[28m\u001b[29m\u001b[39m\u001b[49m\u001b[0m\u001b[0m\u001b[22m\u001b[23m\u001b[24m\u001b[27m\u001b[28m\u001b[29m\u001b[39m\u001b[49m\n",
      "\u001b[0m2024-02-05 15:21:59 INFO::513 recores\u001b[0m\u001b[22m\u001b[23m\u001b[24m\u001b[27m\u001b[28m\u001b[29m\u001b[39m\u001b[49m\u001b[0m\u001b[0m\u001b[22m\u001b[23m\u001b[24m\u001b[27m\u001b[28m\u001b[29m\u001b[39m\u001b[49m\n"
     ]
    }
   ],
   "source": [
    "# stat\n",
    "df_stat <- df %>% \n",
    "    filter(!is.na(sample_pre)) %>%  # all Baseline TCRs\n",
    "    add_count(sample_pre, subtype, name = 'n_clone_per_samp_subtype') %>%\n",
    "    count(patient, subtype, share_type, n_clone_per_samp_subtype, n_cell_per_sample_subtype_pre, name = 'n_clone') %>% \n",
    "    pivot_wider(names_from = 'share_type', values_from = 'n_clone', values_fill = 0) %>%\n",
    "    filter(n_cell_per_sample_subtype_pre >= min_cell_per_sample_subtype) %>%\n",
    "    mutate(pct = 100 * pre_post_share / n_clone_per_samp_subtype) %>%\n",
    "    filter(!grepl('^NK', subtype)) %>%  # no NK cells\n",
    "    add_clin_info(ftsv = f_pat_gp, columns = gp, merge_by = 'patient')\n",
    "df_stat %>% write_tsv(str_glue('{outdir}/fig4b-tcr_share-pre_in_post.tsv'))\n",
    "loginfo('%g recores', nrow(df_stat))"
   ]
  },
  {
   "cell_type": "code",
   "execution_count": null,
   "id": "edbbaa0d-bd09-4c52-b922-47aec1fac8c1",
   "metadata": {
    "tags": [],
    "vscode": {
     "languageId": "r"
    }
   },
   "outputs": [],
   "source": [
    "# plot\n",
    "dp <- read_tsv(str_glue('{outdir}/fig4b-tcr_share-pre_in_post.tsv'), show_col_types = F)\n",
    "xorder <- dp %>%\n",
    "        summarise(.by = c('subtype'), val = median(pct)) %>%\n",
    "        arrange(-val) %>%\n",
    "        pull('subtype')\n",
    "p <- dp %>%\n",
    "    cell_comp_boxplot(x = 'subtype', xorder = xorder, y = 'pct', pair_by = NULL, seed_i = 12345, size = 2,\n",
    "                      pt_fill = gp, fill_order = gp_lvls[[gp]], xangle = 60, facet_by = NULL,\n",
    "                      ytitle = 'Percent of shared clones in pre-treatment') +\n",
    "    labs(title = str_glue('all Baseline clones vs all Treat clones,',\n",
    "                          '\\n>={min_cell_per_sample_subtype} cells per Baseline sample per subtype'),\n",
    "         fill = 'Response') \n",
    "ggsave(filename = str_glue('{outdir}/fig4b-box_tcr_share-pre_in_post-min{min_cell_per_sample_subtype}.pdf'),\n",
    "       plot = p, width = 6, height = 6)"
   ]
  },
  {
   "cell_type": "markdown",
   "id": "ff420c0d-07c1-4569-b790-de06fc2b9537",
   "metadata": {
    "tags": []
   },
   "source": [
    "### 4b-2: all Baseline vs all Treat in Treat\n",
    "\n",
    "- all Baseline, all Treat overlap TCRs / all Treat TCRs, cell type level\n",
    "- min_cell_per_sample_subtype = 10"
   ]
  },
  {
   "cell_type": "code",
   "execution_count": null,
   "id": "1936537b-9e05-47f7-a41c-33df759d7ae6",
   "metadata": {
    "tags": [],
    "vscode": {
     "languageId": "r"
    }
   },
   "outputs": [
    {
     "name": "stdout",
     "output_type": "stream",
     "text": [
      "\u001b[0m2024-02-05 15:24:26 INFO::these clinial info will be added: response\u001b[0m\u001b[22m\u001b[23m\u001b[24m\u001b[27m\u001b[28m\u001b[29m\u001b[39m\u001b[49m\u001b[0m\u001b[0m\u001b[22m\u001b[23m\u001b[24m\u001b[27m\u001b[28m\u001b[29m\u001b[39m\u001b[49m\n",
      "\u001b[0m2024-02-05 15:24:26 INFO::415 records\u001b[0m\u001b[22m\u001b[23m\u001b[24m\u001b[27m\u001b[28m\u001b[29m\u001b[39m\u001b[49m\u001b[0m\u001b[0m\u001b[22m\u001b[23m\u001b[24m\u001b[27m\u001b[28m\u001b[29m\u001b[39m\u001b[49m\n"
     ]
    }
   ],
   "source": [
    "df <- read_tsv(f_share, show_col_types = F)\n",
    "# rename cell type\n",
    "for (nm in names(celltype_map)) {\n",
    "    df$subtype[df$subtype %in% celltype_map[[nm]]] <- nm\n",
    "}\n",
    "# stat\n",
    "df_stat <- df %>% \n",
    "    filter(!is.na(sample_post)) %>%  # all Treat TCRs\n",
    "    add_count(sample_post, subtype, name = 'n_clone_per_samp_subtype') %>%\n",
    "    count(patient, subtype, share_type, n_clone_per_samp_subtype, n_cell_per_sample_subtype_post, name = 'n_clone') %>% \n",
    "    pivot_wider(names_from = 'share_type', values_from = 'n_clone', values_fill = 0) %>% \n",
    "    filter(n_cell_per_sample_subtype_post >= min_cell_per_sample_subtype) %>%\n",
    "    mutate(pct = 100 * pre_post_share / n_clone_per_samp_subtype) %>%\n",
    "    filter(!grepl('^NK', subtype)) %>%  # no NK cells\n",
    "    add_clin_info(ftsv = f_pat_gp, columns = gp, merge_by = 'patient')\n",
    "df_stat %>% write_tsv(str_glue('{outdir}/fig4b-tcr_share-post_in_pre.tsv'))\n",
    "loginfo('%g records', nrow(df_stat))"
   ]
  },
  {
   "cell_type": "code",
   "execution_count": null,
   "id": "8add8602-3495-45ef-9ca0-b0c1df41821e",
   "metadata": {
    "tags": [],
    "vscode": {
     "languageId": "r"
    }
   },
   "outputs": [],
   "source": [
    "# plot\n",
    "dp <- read_tsv(str_glue('{outdir}/fig4b-tcr_share-post_in_pre.tsv'), show_col_types = F)\n",
    "xorder <- dp %>%\n",
    "        summarise(.by = c('subtype'), val = median(pct)) %>%\n",
    "        arrange(-val) %>%\n",
    "        pull('subtype')\n",
    "p <- dp %>%\n",
    "    cell_comp_boxplot(x = 'subtype', xorder = xorder, y = 'pct', pair_by = NULL, seed_i = 12345, size = 2,\n",
    "                      pt_fill = gp, fill_order = gp_lvls[[gp]], xangle = 60, facet_by = NULL,\n",
    "                      ytitle = 'Percent of shared clones in post-treatment') +\n",
    "    labs(title = str_glue('all Baseline clones vs all Treat clones,',\n",
    "                          '\\n>={min_cell_per_sample_subtype} cells per Treat sample per subtype'),\n",
    "         fill = 'Response') \n",
    "ggsave(filename = str_glue('{outdir}/fig4b-box_tcr_share-post_in_pre-min{min_cell_per_sample_subtype}.pdf'),\n",
    "       plot = p, width = 6, height = 6)"
   ]
  },
  {
   "cell_type": "markdown",
   "id": "d8b3411f-0412-4faa-8932-6c0e016b09da",
   "metadata": {},
   "source": [
    "### 4c: share clone percent in post"
   ]
  },
  {
   "cell_type": "code",
   "execution_count": null,
   "id": "12106af5-705a-4323-83ff-04bdaf98d6cb",
   "metadata": {
    "tags": [],
    "vscode": {
     "languageId": "r"
    }
   },
   "outputs": [],
   "source": [
    "f_pct_info <- '../figures/fig4/fig4b-tcr_share-post_in_pre.tsv'\n",
    "used_ctypes <- c(\n",
    "    'CD8_FOS', 'CD8_GZMK', 'CD8_CXCL13', \n",
    "    'CD8_ANXA1', 'Treg_TNFRSF4', 'CD8_TYMS'\n",
    ")"
   ]
  },
  {
   "cell_type": "code",
   "execution_count": null,
   "id": "9139bea7-f0ff-45d6-8723-9808a6e65c5c",
   "metadata": {
    "tags": [],
    "vscode": {
     "languageId": "r"
    }
   },
   "outputs": [],
   "source": [
    "p <- read_tsv(f_pct_info, show_col_types = F) %>% \n",
    "    filter(subtype %in% used_ctypes) %>%\n",
    "    mutate(subtype = factor(subtype, used_ctypes)) %>%\n",
    "    cell_comp_boxplot(x = gp, y = 'pct', pt_fill = gp, facet_by = 'subtype', pair_by = NULL,\n",
    "                      xorder = gp_lvls[[gp]], fill_order = gp_lvls[[gp]], ncol = 3) +\n",
    "    stat_compare_means(comparisons = gp_comp_diff_map[[gp]]) +\n",
    "    labs(y = 'Percent of shared clones in post-treatment', fill = 'Response') +\n",
    "    theme(axis.title.x = element_blank(), legend.position = 'right')\n",
    "ggsave(filename = str_glue('{outdir}/fig4c-box_tcr_share-share_clone_pct_comp-by_{gp}.pdf'),\n",
    "       plot = p, width = 7, height = 7)"
   ]
  },
  {
   "cell_type": "markdown",
   "id": "6e9ca217-ab63-4d33-a2a4-753500be8ac2",
   "metadata": {
    "tags": []
   },
   "source": [
    "## clone change type (pre vs post): 4d-h"
   ]
  },
  {
   "cell_type": "code",
   "execution_count": null,
   "id": "11fe12c9",
   "metadata": {
    "vscode": {
     "languageId": "r"
    }
   },
   "outputs": [],
   "source": [
    "# cell source of 4 clone cat\n",
    "f_cell_source <- '../../stage4/a05_clone_share/pre_post_share/clone_frac_in_sample/clone_cell_source-cell_state-clone_change_type.tsv'\n",
    "# clone sharing intra- cell state level (with sharing_type)\n",
    "f_share_type <- '../../stage4/a05_clone_share/pre_post_share/pre_post_share-per_clone-cell_state.tsv'\n",
    "# merged clone frac/clone change type (sample level) & clone sharing info (no sharing_type)\n",
    "f_clone_change <- '../../stage4/a05_clone_share/pre_post_share/clone_frac_in_sample/clone_pair_patient-clone_change_type-chisq.tsv'\n",
    "\n",
    "clone_type_lvl <- c('Expanded', 'Contracted', 'Persistent')\n",
    "clone_type_color_map <- c(\n",
    "    'Expanded' = '#EE0000FF', 'Contracted' = '#3B4992FF', 'Persistent' = 'gray60'\n",
    ")\n",
    "ctype_colors <- c(\n",
    "    CD8_ANXA1 = '#8C0439', CD8_CCL5 = '#A12253', CD8_CX3CR1 = '#B6416D', CD8_FOS = '#CC6088',\n",
    "    CD8_GZMK = '#E17FA2', CD8_KLRB1 = '#F79EBD', CD4_CXCL13 = '#003CA5', CD8_CXCL13 = '#2F5DB1', \n",
    "    CD8_TYMS = '#5E7FBD', T_MKI67 = '#8DA1C9', Treg_TNFRSF4 = '#BDC3D6', T_Mito = '#7B7D7B',\n",
    "    CD4_KLRB1 = '#DF9608', CD8_CD74 = '#E2A22E', CD8_IFIT1 = '#E5AE54', T_IL7R = '#E8BA7A', \n",
    "    T_Ribo = '#EBC6A0', Treg_LTB = '#EFD3C6'\n",
    ")"
   ]
  },
  {
   "cell_type": "markdown",
   "id": "9a825af4",
   "metadata": {},
   "source": [
    "### 4d: scatter show clone type\n",
    "\n",
    "- desc: only pre-post shared clones (clone sharing defined intra cell state)"
   ]
  },
  {
   "cell_type": "code",
   "execution_count": null,
   "id": "87da2c98",
   "metadata": {
    "vscode": {
     "languageId": "r"
    }
   },
   "outputs": [],
   "source": [
    "xy_tick_labels <- c(0.001, 0.01, 0.1)\n",
    "used_states <- c('cytotoxic', 'exhausted', 'dying', 'others')"
   ]
  },
  {
   "cell_type": "code",
   "execution_count": null,
   "id": "9046d483",
   "metadata": {
    "vscode": {
     "languageId": "r"
    }
   },
   "outputs": [
    {
     "name": "stdout",
     "output_type": "stream",
     "text": [
      "\u001b[0m2024-02-22 16:19:58 INFO::these clinial info will be added: response\u001b[0m\u001b[22m\u001b[23m\u001b[24m\u001b[27m\u001b[28m\u001b[29m\u001b[39m\u001b[49m\u001b[0m\u001b[0m\u001b[22m\u001b[23m\u001b[24m\u001b[27m\u001b[28m\u001b[29m\u001b[39m\u001b[49m\n",
      "\u001b[0m2024-02-22 16:19:59 INFO::4240 records\u001b[0m\u001b[22m\u001b[23m\u001b[24m\u001b[27m\u001b[28m\u001b[29m\u001b[39m\u001b[49m\u001b[0m\u001b[0m\u001b[22m\u001b[23m\u001b[24m\u001b[27m\u001b[28m\u001b[29m\u001b[39m\u001b[49m\n"
     ]
    }
   ],
   "source": [
    "df <- read_tsv(f_clone_change, show_col_types = F) %>%\n",
    "    filter(!grepl('NK', cell_state)) %>%  # no NK cells\n",
    "    filter(cell_state %in% used_states) %>%\n",
    "    select(-c('mandard_group', 'response_degree', 'treatment_group')) %>%\n",
    "    add_clin_info(ftsv = f_pat_gp, columns = gp, merge_by = 'patient')\n",
    "df <- read_tsv(f_share_type, show_col_types = F) %>% \n",
    "    filter(share_type == 'pre_post_share') %>%\n",
    "    select(patient, patient_id, clonotype, cell_state, share_type) %>% \n",
    "    distinct() %>%\n",
    "    merge(df, by = c('patient', 'patient_id', 'clonotype', 'cell_state'))\n",
    "df %>% write_tsv(str_glue('{outdir}/figs7a-clone_change_type-clone_frac_pre_vs_post-by_state-only_share.tsv'))\n",
    "\n",
    "loginfo('%g records', nrow(df))"
   ]
  },
  {
   "cell_type": "code",
   "execution_count": null,
   "id": "c967507f",
   "metadata": {
    "vscode": {
     "languageId": "r"
    }
   },
   "outputs": [],
   "source": [
    "# scatter show expand type use clone fraction\n",
    "p <- read_tsv(str_glue('{outdir}/figs7a-clone_change_type-clone_frac_pre_vs_post-by_state-only_share.tsv'), show_col_types = F) %>%\n",
    "    mutate(clone_change_type = factor(clone_change_type, levels = clone_type_lvl),\n",
    "           frow = factor(.data[[gp]], gp_lvls[[gp]]),\n",
    "           fcol = factor(cell_state, used_states)) %>%\n",
    "    ggscatter(x = 'clone_frac_in_sample_pre', y = 'clone_frac_in_sample_post', color = 'clone_change_type', alpha = 0.7, cor.coef = T) +\n",
    "    geom_abline(slope = 1, intercept = 0) +\n",
    "    facet_grid(frow ~ fcol)  +\n",
    "    scale_x_continuous(breaks = xy_tick_labels) +\n",
    "    scale_y_continuous(breaks = xy_tick_labels) +\n",
    "    scale_color_manual(values = clone_type_color_map) +\n",
    "    guides(color = guide_legend(override.aes = list(size = 4))) +\n",
    "    coord_trans(x = lognp_trans(n = 0.001), y = lognp_trans(n = 0.001)) +\n",
    "    labs(x = 'Clone fraction in Baseline (RNA & TCR)', y = 'Clone fraction in Treat (RNA & TCR)',\n",
    "         color = 'Clone type') +\n",
    "    theme(legend.position = 'right')\n",
    "ggsave(filename = str_glue('{outdir}/figs7a-scatter-clone_chage_type-clone_frac_pre_vs_post-by_state-only_share.pdf'),\n",
    "       plot = p, width = 15, height = 5)"
   ]
  },
  {
   "cell_type": "markdown",
   "id": "a46dbb0f",
   "metadata": {},
   "source": [
    "### 4e: clone change type composition\n",
    "\n",
    "- to prove cytotoxic clusters are pre low-expand to post high-expand, exhausted clusters are pre-high expand clones to post-low\n",
    "- show contacted/expaned clone compositions at sample level"
   ]
  },
  {
   "cell_type": "code",
   "execution_count": null,
   "id": "e2b94407",
   "metadata": {
    "vscode": {
     "languageId": "r"
    }
   },
   "outputs": [],
   "source": [
    "comp_ls <- list(\n",
    "    c('R-Contracted', 'R-Expanded'), \n",
    "    c('PR-Contracted', 'PR-Expanded')\n",
    ")\n",
    "used_states <- c('cytotoxic', 'exhausted')"
   ]
  },
  {
   "cell_type": "code",
   "execution_count": null,
   "id": "66a8e653",
   "metadata": {
    "vscode": {
     "languageId": "r"
    }
   },
   "outputs": [
    {
     "name": "stdout",
     "output_type": "stream",
     "text": [
      "\u001b[0m2024-02-05 16:38:04 INFO::these clinial info will be added: response\u001b[0m\u001b[22m\u001b[23m\u001b[24m\u001b[27m\u001b[28m\u001b[29m\u001b[39m\u001b[49m\u001b[0m\u001b[0m\u001b[22m\u001b[23m\u001b[24m\u001b[27m\u001b[28m\u001b[29m\u001b[39m\u001b[49m\n",
      "\u001b[0m2024-02-05 16:38:04 INFO::348 records, 3 clone type\u001b[0m\u001b[22m\u001b[23m\u001b[24m\u001b[27m\u001b[28m\u001b[29m\u001b[39m\u001b[49m\u001b[0m\u001b[0m\u001b[22m\u001b[23m\u001b[24m\u001b[27m\u001b[28m\u001b[29m\u001b[39m\u001b[49m\n"
     ]
    }
   ],
   "source": [
    "dp <- read_tsv(f_clone_change, show_col_types = F) %>% \n",
    "    filter(!grepl('NK', cell_state)) %>%  # no NK cells\n",
    "    add_clin_info(ftsv = f_pat_gp, columns = gp, merge_by = 'patient') %>%\n",
    "    add_count(patient, cell_state, name = 'n_clone_per_sample_state') %>% \n",
    "    count(patient, .data[[gp]], cell_state, clone_change_type, n_clone_per_sample_state) %>% \n",
    "    mutate(pct = 100 * n / n_clone_per_sample_state) %>%\n",
    "    pivot_wider(id_cols = c('patient', gp, 'cell_state'),\n",
    "                names_from = 'clone_change_type', \n",
    "                values_from = 'pct', values_fill = 0) %>%\n",
    "    pivot_longer(cols = clone_type_lvl, names_to = 'clone_change_type', values_to = 'pct') %>%\n",
    "    mutate(cell_state = factor(cell_state, levels = cell_state_order))\n",
    "dp %>% write_tsv(str_glue('{outdir}/fig4e-clone_change_type-clone_pct-by_state.tsv'))\n",
    "loginfo('%g records, %g clone type', nrow(dp), length(unique(dp$clone_change_type)))"
   ]
  },
  {
   "cell_type": "code",
   "execution_count": null,
   "id": "4097572c",
   "metadata": {
    "vscode": {
     "languageId": "r"
    }
   },
   "outputs": [],
   "source": [
    "# boxplot show good vs poor clone change type proportion at sample level\n",
    "p <- read_tsv(str_glue('{outdir}/fig4e-clone_change_type-clone_pct-by_state.tsv'), show_col_types = F) %>%\n",
    "    filter(clone_change_type %in% c('Expanded', 'Contracted'),\n",
    "           cell_state %in% used_states) %>%\n",
    "    cell_comp_boxplot(x = c(gp, 'clone_change_type'),  y = 'pct', pt_fill = gp, facet_by = 'cell_state', \n",
    "                      pair_by = NULL, xorder = unlist(comp_ls), fill_order = gp_lvls[[gp]], xangle = 60) + \n",
    "    scale_y_continuous(breaks = c(1, 10, 100)) +\n",
    "    stat_compare_means(comparisons = comp_ls) +\n",
    "    coord_trans(y = 'lognp') + \n",
    "    labs(fill = 'Response', y = 'Clone percentage') +\n",
    "    theme(legend.position = 'right', axis.title.x = element_blank())\n",
    "ggsave(filename = str_glue('{outdir}/fig4e-box-clone_change_type-clone_pct-by_state.pdf'),\n",
    "       plot = p, width = 6, height = 5.5)"
   ]
  },
  {
   "cell_type": "markdown",
   "id": "a0aed36c",
   "metadata": {},
   "source": [
    "### 4f: subtype source of interested clones\n",
    "\n",
    "only consider pre-post paired samples; consider:\n",
    "- cytotoxic-Expanded, exhausted-Contracted clones\n",
    "- Contracted clones in cytotoxic clusters, Expanded clones in exhausted clusters"
   ]
  },
  {
   "cell_type": "code",
   "execution_count": null,
   "id": "52767ec0",
   "metadata": {
    "vscode": {
     "languageId": "r"
    }
   },
   "outputs": [],
   "source": [
    "used_cat <- c(\n",
    "  'Contracted clones in exhausted clusters', 'Expanded clones in exhausted clusters',\n",
    "  'Contracted clones in cytotoxic clusters', 'Expanded clones in cytotoxic clusters'\n",
    ")"
   ]
  },
  {
   "cell_type": "code",
   "execution_count": null,
   "id": "6cc9a8ad",
   "metadata": {
    "vscode": {
     "languageId": "r"
    }
   },
   "outputs": [],
   "source": [
    "# plot\n",
    "p <- read_tsv(f_cell_source, show_col_types = F) %>%\n",
    "    filter(!grepl('NK', celltype)) %>%\n",
    "    filter(clone_cat %in% used_cat) %>%\n",
    "    count(.data[[gp]], sample_type, clone_cat, celltype, name = 'n_cell') %>%\n",
    "    mutate(response_stype = factor(paste0(.data[[gp]], '-', sample_type), comb_order),\n",
    "           celltype = factor(celltype, names(ctype_colors))) %>%\n",
    "    ggbarplot(x = 'n_cell', y = 'response_stype', fill = 'celltype', position = position_fill()) +\n",
    "    facet_wrap(~ clone_cat) +\n",
    "    scale_fill_manual(values = ctype_colors) +\n",
    "    guides(fill = guide_legend(nrow = 3)) +\n",
    "    labs(x = 'Cell proportion', y = '', fill = '')\n",
    "\n",
    "ggsave(filename = str_glue('{outdir}/fig4f-bar-cell_source-cytoExpand_exhauContract.pdf'), \n",
    "       plot = p, width = 12, height = 7)"
   ]
  },
  {
   "cell_type": "markdown",
   "id": "4b5ca09f",
   "metadata": {},
   "source": [
    "## cell percent of specific cluster in specific clone cat\n",
    "\n",
    "- date: 2024-02-29\n",
    "- desc: cell level"
   ]
  },
  {
   "cell_type": "code",
   "execution_count": null,
   "id": "5036754b",
   "metadata": {
    "vscode": {
     "languageId": "r"
    }
   },
   "outputs": [
    {
     "name": "stdout",
     "output_type": "stream",
     "text": [
      "\u001b[0m2024-03-01 09:46:42 INFO::total 66214 cells, 58 samples\u001b[0m\u001b[22m\u001b[23m\u001b[24m\u001b[27m\u001b[28m\u001b[29m\u001b[39m\u001b[49m\u001b[0m\u001b[0m\u001b[22m\u001b[23m\u001b[24m\u001b[27m\u001b[28m\u001b[29m\u001b[39m\u001b[49m\n"
     ]
    }
   ],
   "source": [
    "min_cell <- 10\n",
    "clone_source <- read_tsv(f_cell_source, show_col_types = F) %>% \n",
    "    filter(!grepl('NK', celltype)) \n",
    "loginfo('total %g cells, %g samples', nrow(clone_source), length(unique(clone_source$sample)))"
   ]
  },
  {
   "cell_type": "markdown",
   "id": "deb1b4c1",
   "metadata": {},
   "source": [
    "### 4g: exhausted clusters in exhausted contracted"
   ]
  },
  {
   "cell_type": "code",
   "execution_count": null,
   "id": "4edcebbf",
   "metadata": {
    "vscode": {
     "languageId": "r"
    }
   },
   "outputs": [
    {
     "name": "stdout",
     "output_type": "stream",
     "text": [
      "\u001b[0m2024-03-01 09:51:15 INFO::these clinial info will be added: response\u001b[0m\u001b[22m\u001b[23m\u001b[24m\u001b[27m\u001b[28m\u001b[29m\u001b[39m\u001b[49m\u001b[0m\u001b[0m\u001b[22m\u001b[23m\u001b[24m\u001b[27m\u001b[28m\u001b[29m\u001b[39m\u001b[49m\n",
      "\u001b[0m2024-03-01 09:51:15 INFO::147 records\u001b[0m\u001b[22m\u001b[23m\u001b[24m\u001b[27m\u001b[28m\u001b[29m\u001b[39m\u001b[49m\u001b[0m\u001b[0m\u001b[22m\u001b[23m\u001b[24m\u001b[27m\u001b[28m\u001b[29m\u001b[39m\u001b[49m\n"
     ]
    }
   ],
   "source": [
    "prefix <- 'fig4h-cell_pct_in_exhau_contract'\n",
    "used_ctypes <- c('CD8_TYMS', 'T_MKI67')\n",
    "df <- clone_source %>% \n",
    "    filter(clone_cat == 'Contracted clones in exhausted clusters') %>% \n",
    "    mutate(cellgp = if_else(celltype %in% used_ctypes, celltype, 'others')) %>% \n",
    "    count(patient, sample_type, cellgp, name = 'n_cell') %>% \n",
    "    pivot_wider(id_cols = c('patient', 'sample_type'), names_from = 'cellgp',\n",
    "                values_from = 'n_cell', values_fill = 0) %>% \n",
    "    pivot_longer(cols = -c('patient', 'sample_type'), names_to = 'cellgp', values_to = 'n_cell') %>% \n",
    "    add_count(patient, sample_type, name = 'n_cell_per_sample', wt = n_cell) %>% \n",
    "    mutate(pct = 100 * n_cell / n_cell_per_sample) %>%\n",
    "    add_clin_info(ftsv = f_pat_gp, columns = gp, merge_by = 'patient')\n",
    "loginfo('%g records', nrow(df))\n",
    "df %>% write_tsv(str_glue('{outdir}/{prefix}.tsv'))"
   ]
  },
  {
   "cell_type": "code",
   "execution_count": null,
   "id": "20cfc650",
   "metadata": {
    "vscode": {
     "languageId": "r"
    }
   },
   "outputs": [],
   "source": [
    "p_ls <- lapply(X = used_ctypes, function(ctype) {\n",
    "    df %>%\n",
    "    filter(n_cell_per_sample >= min_cell) %>%\n",
    "    filter(cellgp == ctype) %>%\n",
    "    cell_comp_boxplot(x = c(gp, 'sample_type'), y = 'pct', pt_fill = gp, facet_by = NULL,\n",
    "                      xorder = comb_order, fill_order = gp_lvls[[gp]], xangle = 60) +\n",
    "    stat_compare_means(comparisons = gp_comp_map[[gp]]) +\n",
    "    labs(y = str_glue('Cell percent of {ctype} in exhausted contracted cells'), fill = 'Response') +\n",
    "    theme(legend.position = 'right')\n",
    "})\n",
    "ggsave(filename = str_glue('{outdir}/{prefix}-{min_cell}.pdf'), width = 4, height = 5,\n",
    "       plot = wrap_plots(p_ls, ncol = 2, guides = 'collect') & theme(legend.position = 'top'))"
   ]
  },
  {
   "cell_type": "markdown",
   "id": "4928c111",
   "metadata": {},
   "source": [
    "### 4h: exhausted clusters in cytotoxic expanded"
   ]
  },
  {
   "cell_type": "code",
   "execution_count": null,
   "id": "9da57d86",
   "metadata": {
    "vscode": {
     "languageId": "r"
    }
   },
   "outputs": [
    {
     "name": "stdout",
     "output_type": "stream",
     "text": [
      "\u001b[0m2024-03-01 10:02:04 INFO::these clinial info will be added: response\u001b[0m\u001b[22m\u001b[23m\u001b[24m\u001b[27m\u001b[28m\u001b[29m\u001b[39m\u001b[49m\u001b[0m\u001b[0m\u001b[22m\u001b[23m\u001b[24m\u001b[27m\u001b[28m\u001b[29m\u001b[39m\u001b[49m\n",
      "\u001b[0m2024-03-01 10:02:04 INFO::174 records\u001b[0m\u001b[22m\u001b[23m\u001b[24m\u001b[27m\u001b[28m\u001b[29m\u001b[39m\u001b[49m\u001b[0m\u001b[0m\u001b[22m\u001b[23m\u001b[24m\u001b[27m\u001b[28m\u001b[29m\u001b[39m\u001b[49m\n"
     ]
    }
   ],
   "source": [
    "prefix <- 'fig4h-cell_pct_in_cyto_expand'\n",
    "used_ctypes <- c('exhausted clusters', 'T_Mito')\n",
    "df <- clone_source %>% \n",
    "    filter(clone_cat == 'Expanded clones in cytotoxic clusters') %>% \n",
    "    mutate(cellgp = case_match(\n",
    "        celltype,\n",
    "        cell_state_map$exhausted ~ 'exhausted clusters',\n",
    "        cell_state_map$dying ~ 'T_Mito',\n",
    "        .default = 'others'\n",
    "    )) %>% \n",
    "    count(patient, sample_type, cellgp, name = 'n_cell') %>% \n",
    "    pivot_wider(id_cols = c('patient', 'sample_type'), names_from = 'cellgp',\n",
    "                values_from = 'n_cell', values_fill = 0) %>% \n",
    "    pivot_longer(cols = -c('patient', 'sample_type'), names_to = 'cellgp', values_to = 'n_cell') %>% \n",
    "    add_count(patient, sample_type, name = 'n_cell_per_sample', wt = n_cell) %>% \n",
    "    mutate(pct = 100 * n_cell / n_cell_per_sample) %>%\n",
    "    add_clin_info(ftsv = f_pat_gp, columns = gp, merge_by = 'patient')\n",
    "    \n",
    "loginfo('%g records', nrow(df))\n",
    "df %>% write_tsv(str_glue('{outdir}/{prefix}.tsv'))"
   ]
  },
  {
   "cell_type": "code",
   "execution_count": null,
   "id": "3cf6e1ba",
   "metadata": {
    "vscode": {
     "languageId": "r"
    }
   },
   "outputs": [],
   "source": [
    "p_ls <- lapply(X = used_ctypes, function(ctype) {\n",
    "    df %>%\n",
    "    filter(n_cell_per_sample >= min_cell) %>%\n",
    "    filter(cellgp == ctype) %>%\n",
    "    cell_comp_boxplot(x = c(gp, 'sample_type'), y = 'pct', pt_fill = gp, facet_by = NULL,\n",
    "                      xorder = comb_order, fill_order = gp_lvls[[gp]], xangle = 60) +\n",
    "    stat_compare_means(comparisons = gp_comp_map[[gp]]) +\n",
    "    labs(y = str_glue('Cell percent of {ctype} in cytotoxic expanded cells'), fill = 'Response') +\n",
    "    theme(legend.position = 'right')\n",
    "})\n",
    "ggsave(filename = str_glue('{outdir}/{prefix}-{min_cell}.pdf'), width = 4, height = 5,\n",
    "       plot = wrap_plots(p_ls, ncol = 2, guides = 'collect') & theme(legend.position = 'top'))"
   ]
  }
 ],
 "metadata": {
  "kernelspec": {
   "display_name": "R",
   "language": "R",
   "name": "ir"
  },
  "language_info": {
   "codemirror_mode": {
    "name": "ipython",
    "version": 3
   },
   "file_extension": ".py",
   "mimetype": "text/x-python",
   "name": "R",
   "nbconvert_exporter": "python",
   "pygments_lexer": "ipython3",
   "version": "3.10.17"
  },
  "toc-autonumbering": false,
  "toc-showmarkdowntxt": false
 },
 "nbformat": 4,
 "nbformat_minor": 5
}

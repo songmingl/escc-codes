{
 "cells": [
  {
   "cell_type": "markdown",
   "id": "4e78bb62-b115-43fd-9fb7-c826ee2811a4",
   "metadata": {},
   "source": [
    "# figure 2 vlz\n",
    "\n",
    "- kernel: r_env, R 4.1.3\n",
    "- date: 2023-12-27 ~ 12-28"
   ]
  },
  {
   "cell_type": "markdown",
   "id": "0e59ed14-a3c3-49a6-8411-ae918b67af3b",
   "metadata": {
    "tags": []
   },
   "source": [
    "## load"
   ]
  },
  {
   "cell_type": "code",
   "execution_count": null,
   "id": "95697196-8cfb-4a41-9105-a25a0d5c0baf",
   "metadata": {
    "collapsed": true,
    "jupyter": {
     "outputs_hidden": true
    },
    "tags": [],
    "vscode": {
     "languageId": "r"
    }
   },
   "outputs": [],
   "source": [
    "library(tidyverse)\n",
    "library(tools)\n",
    "library(logging)\n",
    "library(ggpubr)\n",
    "library(ggsci)\n",
    "library(patchwork)\n",
    "library(igraph)\n",
    "library(ggraph)\n",
    "library(Seurat)\n",
    "library(maftools)\n",
    "library(ComplexHeatmap)\n",
    "library(CellChat)\n",
    "\n",
    "source('../scripts/r_funcs.r')\n",
    "\n",
    "theme_set(theme_pubr())\n",
    "logging::basicConfig()\n",
    "options(warn = -1)\n",
    "\n",
    "outdir <- '../figures/fig2'\n",
    "create_dir(outdir)"
   ]
  },
  {
   "cell_type": "code",
   "execution_count": null,
   "id": "1fdeaa60-c5a1-4f24-ad01-c728de59ad6f",
   "metadata": {
    "tags": [],
    "vscode": {
     "languageId": "r"
    }
   },
   "outputs": [],
   "source": [
    "ctype_ls <- list(\n",
    "    'Tumor_Gp1' = c(\"Epi_M_CALML3\"),\n",
    "    'Tumor_Gp2' = c(\"Epi_M_CPS1\", \"Epi_M_MYBPC1\", \"Epi_M_PKP2\", \"Epi_M_SPRR3\", \"Epi_M_ACTL8\", 'Epi_M_RNASE1'),\n",
    "    'Epi_Normal' = c(\"Epi_A_IL1R2\", \"Epi_A_MGP\", \"Epi_N_LTF\", \"Epi_N_PIGR\"),\n",
    "    'Mixture' = c('Epi_T_Mix', 'Epi_B_Mix')\n",
    ")\n",
    "epi_gp_order <- c('Tumor_Gp1', 'Tumor_Gp2', 'Epi_Normal', 'Mixture')\n",
    "\n",
    "f_pat_gp <- '../tables/patient_info.tsv'\n",
    "gp <- 'response'\n",
    "gp_lvls$response <- c('R', 'PR')\n",
    "gp_comp_map$response <- list(\n",
    "  c('R-pre', 'R-post'),\n",
    "  c('PR-pre', 'PR-post'),\n",
    "  c('R-pre', 'PR-pre'),\n",
    "  c('R-post', 'PR-post')\n",
    ")\n",
    "gp_comp_diff_map$response <- list(c('R', 'PR'))\n",
    "gp_comp_map_pre$response <- list(c('R-pre', 'PR-pre'))\n",
    "comb_order <- c('R-pre', 'R-post', 'PR-pre', 'PR-post')\n",
    "\n",
    "gp_lvls$response_v2 <- c('R', 'Gp1-', 'Gp1+', 'PR')\n",
    "gp_comp_map$response_v2 <- list(\n",
    "    c('R-pre', 'R-post'),\n",
    "    c('Gp1+-pre', 'Gp1+-post'),\n",
    "    c('Gp1--pre', 'Gp1--post'),\n",
    "    c('R-pre', 'Gp1--pre'),\n",
    "    c('R-post', 'Gp1--post'),\n",
    "    c('Gp1+-pre', 'Gp1--pre'),\n",
    "    c('Gp1+-post', 'Gp1--post'),\n",
    "    c('R-pre', 'Gp1+-pre'),\n",
    "    c('R-post', 'Gp1+-post')\n",
    ")\n",
    "gp_comp_diff_map$response_v2 <- list(\n",
    "    c('R', 'Gp1+'),\n",
    "    c('R', 'Gp1-'),\n",
    "    c('GP1+', 'Gp1-') \n",
    "gp_comp_map_pre$response_v2 <- list(c('R-pre', 'Gp1--pre'),  c('R-pre', 'Gp1+-pre'), c('Gp1+-pre', 'Gp1--pre'))\n",
    "comb_order_v2 <- c('R-pre', 'R-post', 'Gp1--pre', 'Gp1--post', 'Gp1+-pre', 'Gp1+-post', 'PR-pre')"
   ]
  },
  {
   "cell_type": "markdown",
   "id": "6bd63049",
   "metadata": {
    "vscode": {
     "languageId": "python"
    }
   },
   "source": [
    "## 2a-d: immune signature\n",
    "\n",
    "- TMB: based on T-N paired, fresh, non-LN samples; mutation based on pyclone results (t_alt_count >= 3, t_depth >= 30, autosome mutations), CCF >= 50%\n",
    "- TNB: sc & wes shared samples, tn-pair, fresh, nonLN samples"
   ]
  },
  {
   "cell_type": "markdown",
   "id": "45e96434",
   "metadata": {},
   "source": [
    "### 2a: CCF >= 50%, r vs nr at pre"
   ]
  },
  {
   "cell_type": "code",
   "execution_count": null,
   "id": "b94f000b",
   "metadata": {
    "vscode": {
     "languageId": "r"
    }
   },
   "outputs": [
    {
     "name": "stdout",
     "output_type": "stream",
     "text": [
      "\u001b[0m2024-02-05 00:04:54 INFO::5529 mutations, 53 samples\u001b[0m\u001b[22m\u001b[23m\u001b[24m\u001b[27m\u001b[28m\u001b[29m\u001b[39m\u001b[49m\u001b[0m\u001b[0m\u001b[22m\u001b[23m\u001b[24m\u001b[27m\u001b[28m\u001b[29m\u001b[39m\u001b[49m\n"
     ]
    }
   ],
   "source": [
    "f_tmb_ccf <- '../../stage4/a15_wes_clone_infer/new-pyclone/parse/tmb-by_ccf-0.5_1-tn_pair-fresh-t.tsv'\n",
    "tmb <- read_tsv(f_tmb_ccf, show_col_types = F)\n",
    "loginfo('%g mutations, %g samples', sum(tmb$n_mut_per_samp_ctype), length(unique(tmb$sample_id)))"
   ]
  },
  {
   "cell_type": "code",
   "execution_count": null,
   "id": "15e4822c",
   "metadata": {
    "vscode": {
     "languageId": "r"
    }
   },
   "outputs": [
    {
     "name": "stdout",
     "output_type": "stream",
     "text": [
      "\u001b[0m2024-02-05 00:06:53 INFO::these clinial info will be added: response\u001b[0m\u001b[22m\u001b[23m\u001b[24m\u001b[27m\u001b[28m\u001b[29m\u001b[39m\u001b[49m\u001b[0m\u001b[0m\u001b[22m\u001b[23m\u001b[24m\u001b[27m\u001b[28m\u001b[29m\u001b[39m\u001b[49m\n",
      "\u001b[0m2024-02-05 00:06:53 INFO::ccf>=50%, 4053 mutations, 53 samples\u001b[0m\u001b[22m\u001b[23m\u001b[24m\u001b[27m\u001b[28m\u001b[29m\u001b[39m\u001b[49m\u001b[0m\u001b[0m\u001b[22m\u001b[23m\u001b[24m\u001b[27m\u001b[28m\u001b[29m\u001b[39m\u001b[49m\n"
     ]
    }
   ],
   "source": [
    "# ccf filtering (>=50% = middle)\n",
    "tmb_flt <- filter(tmb, ccf_type == 'middle') %>%\n",
    "    add_clin_info(ftsv = f_pat_gp, columns = gp, merge_by = 'patient_id') %>%\n",
    "    mutate(sample_type = case_match(sample_type, 'Baseline' ~ 'pre', 'Treat' ~ 'post'))\n",
    "\n",
    "write_tsv(tmb_flt, file = str_glue('{outdir}/fig2-tmb-cff_gt_0.5-tn_pair-fresh-t.tsv'))\n",
    "\n",
    "loginfo('ccf>=50%%, %g mutations, %g samples', sum(tmb_flt$n_mut_per_samp_ctype), length(unique(tmb_flt$sample_id)))"
   ]
  },
  {
   "cell_type": "code",
   "execution_count": null,
   "id": "b7c08dd9",
   "metadata": {
    "vscode": {
     "languageId": "r"
    }
   },
   "outputs": [],
   "source": [
    "p <- tmb_flt %>% \n",
    "    filter(.data[[gp]] %in% gp_lvls[[gp]]) %>%\n",
    "    filter(sample_type == 'pre') %>%\n",
    "    cell_comp_boxplot(x = c(gp, 'sample_type'), y = 'n_mut_per_samp_ctype', xorder = paste0(gp_lvls[[gp]], '-pre'),\n",
    "                      pt_fill = gp, fill_order = gp_lvls[[gp]], pair_by = NULL, facet_by = NULL, xangle = 60) +\n",
    "    scale_y_continuous(trans = 'log10') +\n",
    "    stat_compare_means(comparisons = gp_comp_map_pre[[gp]]) +\n",
    "    labs(fill = '', x = '', y = 'Mutation count (CCF >= 50%)')\n",
    "ggsave(filename = str_glue('{outdir}/fig2b-box_tmb-ccf_gt_0.5-{gp}-pre-tn_pair-fresh-t.pdf'),\n",
    "       plot = p, width = 2, height = 5)"
   ]
  },
  {
   "cell_type": "markdown",
   "id": "70ced614",
   "metadata": {},
   "source": [
    "### 2b: CCF >= 50%, pre vs post\n",
    "\n",
    "- 2023-12-28"
   ]
  },
  {
   "cell_type": "code",
   "execution_count": null,
   "id": "c35f3741",
   "metadata": {
    "vscode": {
     "languageId": "r"
    }
   },
   "outputs": [
    {
     "name": "stderr",
     "output_type": "stream",
     "text": [
      "\u001b[1m\u001b[22mScale for \u001b[32mfill\u001b[39m is already present.\n",
      "Adding another scale for \u001b[32mfill\u001b[39m, which will replace the existing scale.\n"
     ]
    }
   ],
   "source": [
    "# by sample type\n",
    "p <- read_tsv(file = str_glue('{outdir}/fig2-tmb-cff_gt_0.5-tn_pair-fresh-t.tsv'), show_col_types = F) %>% \n",
    "    cell_comp_boxplot(x = 'sample_type', y = 'n_mut_per_samp_ctype', xorder = c('pre', 'post'),\n",
    "                      pt_fill = 'sample_type', fill_order = c('pre', 'post'), pair_by = 'patient_id',\n",
    "                      facet_by = NULL, xangle = 60) +\n",
    "    scale_y_continuous(trans = 'log10') +\n",
    "    stat_compare_means(comparisons = list(c('pre', 'post'))) +\n",
    "    scale_fill_manual(values = c('pre' = 'blue', 'post' = 'red')) +\n",
    "    labs(fill = '', x = '', y = 'Mutation count (CCF >= 50%)') +\n",
    "    theme(legend.justification = c(1, 0))\n",
    "ggsave(filename = str_glue('{outdir}/fig2c-box_tmb-ccf_gt_0.5-pre_vs_post-tn_pair-fresh-t.pdf'),\n",
    "       plot = p, width = 2, height = 5)"
   ]
  },
  {
   "cell_type": "markdown",
   "id": "77d12c1b",
   "metadata": {},
   "source": [
    "### 2c: expression weighted neoantigen with CCF >= 50%\n",
    "\n",
    "- desc: sc & wes shared samples, tn-pair, fresh, nonLN samples"
   ]
  },
  {
   "cell_type": "code",
   "execution_count": null,
   "id": "49c7e1f5",
   "metadata": {
    "vscode": {
     "languageId": "r"
    }
   },
   "outputs": [
    {
     "name": "stdout",
     "output_type": "stream",
     "text": [
      "\u001b[0m2024-02-05 00:34:27 INFO::these clinial info will be added: response\u001b[0m\u001b[22m\u001b[23m\u001b[24m\u001b[27m\u001b[28m\u001b[29m\u001b[39m\u001b[49m\u001b[0m\u001b[0m\u001b[22m\u001b[23m\u001b[24m\u001b[27m\u001b[28m\u001b[29m\u001b[39m\u001b[49m\n",
      "\u001b[0m2024-02-05 00:34:27 INFO::tn_pair, fresh, nonLN: 33 records, 33 samples\u001b[0m\u001b[22m\u001b[23m\u001b[24m\u001b[27m\u001b[28m\u001b[29m\u001b[39m\u001b[49m\u001b[0m\u001b[0m\u001b[22m\u001b[23m\u001b[24m\u001b[27m\u001b[28m\u001b[29m\u001b[39m\u001b[49m\n"
     ]
    }
   ],
   "source": [
    "f_wt_neo <- '../../stage4/a17_neoantigen/new-neo/analysis/mhc_i-neo_score-ccf-tn_pair-t-sc-exprs.tsv'\n",
    "samp_clins <- c('patient_id', 'patient', 'treatment_group', 'sample_id', 'sample_type')\n",
    "\n",
    "df <- read_tsv(f_wt_neo, show_col_types = F) %>% \n",
    "    filter(pair_cat == 'Fresh', pair_mode == 'tumor-normal-paired', !grepl('-LN', sample_id)) %>%\n",
    "    filter(ccf >= 0.5) %>%\n",
    "    select(all_of(c(samp_clins, 'purity', 'ploidy', 'seq', 'exprs'))) %>%\n",
    "    distinct() %>%  # same peptide seq but recognized by >=1 HLA is consider only once\n",
    "    count(pick(c(samp_clins, 'purity', 'ploidy')), name = 'wt_score', wt = .data[['exprs']]) %>%\n",
    "    mutate(sample_type = case_match(sample_type, 'Baseline' ~ 'pre', 'Treat' ~ 'post')) %>%\n",
    "    add_clin_info(ftsv = f_pat_gp, columns = gp, merge_by = 'patient_id')\n",
    "\n",
    "\n",
    "df %>% write_tsv(str_glue('{outdir}/fig2-exprs_wt_tnb-ccf_gt_0.5-tn_pair-fresh-t.tsv'))\n",
    "loginfo('tn_pair, fresh, nonLN: %g records, %g samples', nrow(df), length(unique(df$sample_id)))"
   ]
  },
  {
   "cell_type": "code",
   "execution_count": null,
   "id": "6f527596",
   "metadata": {
    "vscode": {
     "languageId": "r"
    }
   },
   "outputs": [],
   "source": [
    "# mandard group at baseline\n",
    "p <- read_tsv(file = str_glue('{outdir}/fig2-exprs_wt_tnb-ccf_gt_0.5-tn_pair-fresh-t.tsv'), show_col_types = F) %>% \n",
    "    filter(.data[[gp]] %in% gp_lvls[[gp]]) %>%\n",
    "    filter(sample_type == 'pre') %>%\n",
    "    cell_comp_boxplot(x = c(gp, 'sample_type'), y = 'wt_score', xorder = paste0(gp_lvls[[gp]], '-pre'),\n",
    "                      pt_fill = gp, fill_order = gp_lvls[[gp]], pair_by = NULL,\n",
    "                      facet_by = NULL, xangle = 60) +\n",
    "    scale_y_continuous(trans = 'log10') +\n",
    "    stat_compare_means(comparisons = gp_comp_map_pre[[gp]]) +\n",
    "    labs(fill = '', x = '', y = 'Expression-weighted TNB (CCF >= 50%)') +\n",
    "    theme(legend.justification = c(1, 0))\n",
    "ggsave(filename = str_glue('{outdir}/fig2-box_wt_tnb-ccf_gt_0.5-{gp}-pre-tn_pair-fresh-t.pdf'),\n",
    "       plot = p, width = 2, height = 5)"
   ]
  },
  {
   "cell_type": "markdown",
   "id": "7cf9f1bc",
   "metadata": {},
   "source": [
    "### 2d: immune editing score\n",
    "\n",
    "- desc: tn-pair, fresh, nonLN sample"
   ]
  },
  {
   "cell_type": "code",
   "execution_count": null,
   "id": "b2237f9c",
   "metadata": {
    "vscode": {
     "languageId": "r"
    }
   },
   "outputs": [
    {
     "name": "stdout",
     "output_type": "stream",
     "text": [
      "\u001b[0m2024-02-05 00:40:55 INFO::these clinial info will be added: response\u001b[0m\u001b[22m\u001b[23m\u001b[24m\u001b[27m\u001b[28m\u001b[29m\u001b[39m\u001b[49m\u001b[0m\u001b[0m\u001b[22m\u001b[23m\u001b[24m\u001b[27m\u001b[28m\u001b[29m\u001b[39m\u001b[49m\n",
      "\u001b[0m2024-02-05 00:40:55 INFO::tn_pair, fresh, nonLN: 53 records, 53 samples\u001b[0m\u001b[22m\u001b[23m\u001b[24m\u001b[27m\u001b[28m\u001b[29m\u001b[39m\u001b[49m\u001b[0m\u001b[0m\u001b[22m\u001b[23m\u001b[24m\u001b[27m\u001b[28m\u001b[29m\u001b[39m\u001b[49m\n"
     ]
    }
   ],
   "source": [
    "f_edit_score <- '../../stage4/a11_wes/new-muts/immune_editing_score.tsv'\n",
    "\n",
    "df <- read_tsv(f_edit_score, show_col_types = F) %>% \n",
    "    filter(!grepl('-LN', sample_id), pair_cat == 'Fresh', pair_mode == 'tumor-normal-paired') %>%\n",
    "    mutate(sample_type = case_match(sample_type, 'Baseline' ~ 'pre', 'Treat' ~ 'post')) %>%\n",
    "    add_clin_info(ftsv = f_pat_gp, columns = gp, merge_by = 'patient_id')\n",
    "\n",
    "df %>% write_tsv(str_glue('{outdir}/fig2-immune_editing_score-tn_pair-fresh-t.tsv'))\n",
    "loginfo('tn_pair, fresh, nonLN: %g records, %g samples', nrow(df), length(unique(df$sample_id)))"
   ]
  },
  {
   "cell_type": "code",
   "execution_count": null,
   "id": "9ee352c0",
   "metadata": {
    "vscode": {
     "languageId": "r"
    }
   },
   "outputs": [],
   "source": [
    "# pre vs post\n",
    "p <- df %>% \n",
    "    cell_comp_boxplot(x = c('sample_type'), y = 'editing_score', pt_fill = 'sample_type', pair_by = 'patient_id',\n",
    "                      fill_order = c('pre', 'post'), facet_by = NULL, xorder = c('pre', 'post'), xangle = 60) +\n",
    "    stat_compare_means(comparisons = list(c('pre', 'post')))+\n",
    "    labs(fill = '', y = 'Immune editing score') + \n",
    "    theme(legend.justification = c(1, 0))\n",
    "ggsave(filename = str_glue('{outdir}/fig2e-box_edit_score-pre_vs_post-tn_pair-fresh-t.pdf'),\n",
    "       plot = p, width = 2, height = 4.5)"
   ]
  },
  {
   "cell_type": "markdown",
   "id": "68b1efe8",
   "metadata": {},
   "source": [
    "## 2e: cell compostion for tumor/Normal Epi, min50 result"
   ]
  },
  {
   "cell_type": "code",
   "execution_count": null,
   "id": "4c49aa8f",
   "metadata": {
    "vscode": {
     "languageId": "r"
    }
   },
   "outputs": [],
   "source": [
    "f_cc <- '../figures/fig2/fig2i-cell_comp-ek_hk.tsv'\n",
    "min_cell <- 50"
   ]
  },
  {
   "cell_type": "code",
   "execution_count": null,
   "id": "4d212d5d",
   "metadata": {
    "vscode": {
     "languageId": "r"
    }
   },
   "outputs": [],
   "source": [
    "df <- read_tsv(file = f_cc, show_col_types = F) %>% \n",
    "    mutate(cellgp = if_else(cell_type %in% c('Tumor_Gp1', 'Tumor_Gp2'), 'Tumor_Gp1/2', cell_type)) %>% \n",
    "    summarise(.by = c('patient', 'patient_id', 'response', 'sample_type', 'cellgp', 'n_cell_per_sample_ctype'),\n",
    "             freq = sum(freq)) %>% \n",
    "    mutate(pct = 100 * freq / n_cell_per_sample_ctype)\n",
    "df %>% write_tsv(str_glue('{outdir}/figs3b-epi-tumor_normal_cc.tsv'))"
   ]
  },
  {
   "cell_type": "code",
   "execution_count": null,
   "id": "edb925dd",
   "metadata": {
    "vscode": {
     "languageId": "r"
    }
   },
   "outputs": [],
   "source": [
    "# for all samples\n",
    "p <- read_tsv(str_glue('{outdir}/figs3b-epi-tumor_normal_cc.tsv'), show_col_types = F) %>% \n",
    "    filter(!is.na(.data[[gp]])) %>%\n",
    "    filter(cellgp %in% c('Tumor_Gp1/2', 'Epi_Normal')) %>%\n",
    "    mutate(cellgp = factor(cellgp, c('Tumor_Gp1/2', 'Epi_Normal'))) %>%\n",
    "    cell_comp_boxplot(x = c(gp, 'sample_type'), y = 'pct', pt_fill = gp, facet_by = 'cellgp',\n",
    "                      xorder = comb_order, fill_order = gp_lvls[[gp]], xangle = 60) +\n",
    "    stat_compare_means(comparisons = gp_comp_map[[gp]]) +\n",
    "    labs(y = 'Percent in Epi', fill = 'Response')\n",
    "ggsave(filename = str_glue('{outdir}/figs3b-box_cc_in_epi-tumor_normal-all.pdf'), plot = p, width = 7, height = 5.5)\n",
    "\n",
    "# filter out samples without enough cells\n",
    "p <- read_tsv(str_glue('{outdir}/figs3b-epi-tumor_normal_cc.tsv'), show_col_types = F) %>% \n",
    "    filter(n_cell_per_sample_ctype >= min_cell) %>%\n",
    "    filter(!is.na(.data[[gp]])) %>%\n",
    "    filter(cellgp %in% c('Tumor_Gp1/2', 'Epi_Normal')) %>%\n",
    "    mutate(cellgp = factor(cellgp, c('Tumor_Gp1/2', 'Epi_Normal'))) %>%\n",
    "    cell_comp_boxplot(x = c(gp, 'sample_type'), y = 'pct', pt_fill = gp, facet_by = 'cellgp',\n",
    "                      xorder = comb_order, fill_order = gp_lvls[[gp]], xangle = 60) +\n",
    "    stat_compare_means(comparisons = gp_comp_map[[gp]]) +\n",
    "    labs(y = 'Percent in Epi', fill = 'Response')\n",
    "ggsave(filename = str_glue('{outdir}/figs3b-box_cc_in_epi-macrotype-tumor_normal-min{min_cell}.pdf'), plot = p, width = 7, height = 5.5)"
   ]
  },
  {
   "cell_type": "markdown",
   "id": "76a89cb1",
   "metadata": {},
   "source": [
    "## 2f: heatmap of cluster vs patient/sample: min50 result"
   ]
  },
  {
   "cell_type": "code",
   "execution_count": null,
   "id": "5dae8575",
   "metadata": {
    "vscode": {
     "languageId": "r"
    }
   },
   "outputs": [],
   "source": [
    "f_epi_obs <- '../../stage4/a01_data/h5ad/epi_obs.csv'\n",
    "min_cell <- 50  # min cell per group"
   ]
  },
  {
   "cell_type": "code",
   "execution_count": null,
   "id": "064404bc",
   "metadata": {
    "vscode": {
     "languageId": "r"
    }
   },
   "outputs": [
    {
     "name": "stderr",
     "output_type": "stream",
     "text": [
      "\u001b[1m\u001b[22mNew names:\n",
      "\u001b[36m•\u001b[39m `` -> `...1`\n"
     ]
    }
   ],
   "source": [
    "# detail & macro celltype map\n",
    "celltype_map <- do.call(\n",
    "    rbind.data.frame, \n",
    "    lapply(X = names(ctype_ls), FUN = function(nm) {\n",
    "        data.frame(macrotype = nm, celltype = ctype_ls[[nm]])\n",
    "    })\n",
    ")\n",
    "\n",
    "# color map\n",
    "macrotype_color_map <- pal_nejm()(length(unique(celltype_map$macrotype)))\n",
    "names(macrotype_color_map) <- unique(celltype_map$macrotype)\n",
    "\n",
    "# data: cell level\n",
    "df <- read_csv(f_epi_obs, show_col_types = F)"
   ]
  },
  {
   "cell_type": "code",
   "execution_count": null,
   "id": "acf7ea0f",
   "metadata": {
    "vscode": {
     "languageId": "r"
    }
   },
   "outputs": [
    {
     "name": "stdout",
     "output_type": "stream",
     "text": [
      "\u001b[0m2024-02-05 01:25:53 INFO::51/52 patient with enough cells\u001b[0m\u001b[22m\u001b[23m\u001b[24m\u001b[27m\u001b[28m\u001b[29m\u001b[39m\u001b[49m\u001b[0m\u001b[0m\u001b[22m\u001b[23m\u001b[24m\u001b[27m\u001b[28m\u001b[29m\u001b[39m\u001b[49m\n"
     ]
    }
   ],
   "source": [
    "# by patient\n",
    "cal_by <- 'patient'\n",
    "all_cal_types <- unique(df[[cal_by]])\n",
    "highconf_cal_types <- count(df, .data[[cal_by]]) %>%\n",
    "    filter(n >= min_cell) %>%\n",
    "    pull(.data[[cal_by]])\n",
    "loginfo('%g/%g %s with enough cells', length(highconf_cal_types), length(all_cal_types), cal_by)\n",
    "\n",
    "# plot data\n",
    "mat <- df %>% \n",
    "    count(.data[[cal_by]], cell_type, name = 'freq') %>% \n",
    "    pivot_wider(id_cols = c('cell_type'), names_from = .data[[cal_by]],\n",
    "                values_from = 'freq', values_fill = 0) %>% \n",
    "    mutate(across(all_of(all_cal_types), ~ 100*.x/sum(.x))) %>%\n",
    "    column_to_rownames('cell_type')\n",
    "mat <- mat[intersect(pull(celltype_map, 'celltype'), rownames(mat)), ]\n",
    "\n",
    "# plot\n",
    "for (suf in c('all', str_glue('min{min_cell}'))) {\n",
    "    if (suf == 'all') {\n",
    "        dp <- mat\n",
    "    } else {\n",
    "        dp <- mat[, highconf_cal_types]\n",
    "    }\n",
    "    set.seed(123)\n",
    "    row_anno <- rowAnnotation(\n",
    "        'Epithelial\\ncell groups' = pull(celltype_map, 'macrotype', name = 'celltype')[rownames(mat)],\n",
    "        col = list('Epithelial\\ncell groups' = macrotype_color_map),\n",
    "        show_annotation_name = c('Epithelial\\ncell groups' = FALSE), \n",
    "        width = unit(1, 'cm'), na_col = 'gray50',\n",
    "        annotation_legend_param = list('Epithelial\\ncell groups' = list(\n",
    "            at = names(macrotype_color_map), labels = names(macrotype_color_map)\n",
    "        ))\n",
    "    )\n",
    "    treat_heatmap(\n",
    "        mat = dp, cluster_columns = F, cluster_rows = F, name = str_glue('Percent \\nin {cal_by}'),\n",
    "        row_names_gp = gpar(fontsize = 9), right_annotation = row_anno, fig_size = c(7, 2), \n",
    "        outfile = str_glue('{outdir}/fig2g-heat-macro_pct_in_{cal_by}-{suf}.pdf')\n",
    "    )\n",
    "}"
   ]
  },
  {
   "cell_type": "markdown",
   "id": "eeb10fb6",
   "metadata": {},
   "source": [
    "## 2g: marker dotplot"
   ]
  },
  {
   "cell_type": "code",
   "execution_count": null,
   "id": "e82544e4",
   "metadata": {
    "vscode": {
     "languageId": "r"
    }
   },
   "outputs": [
    {
     "data": {
      "text/plain": [
       "\n",
       " Tumor_Gp1  Tumor_Gp2 Epi_Normal    Mixture \n",
       "     35838      18407      12952       7843 "
      ]
     },
     "metadata": {},
     "output_type": "display_data"
    }
   ],
   "source": [
    "f_epi_obj <- '../../stage4/a01_data/seuobj/epi.rds'\n",
    "\n",
    "scrna <- readRDS(f_epi_obj)\n",
    "scrna$macro_celltype <- 'Others'\n",
    "for (nm in names(ctype_ls)) {\n",
    "    scrna$macro_celltype[scrna$cell_type %in% ctype_ls[[nm]]] <- nm\n",
    "}\n",
    "scrna$macro_celltype <- factor(scrna$macro_celltype, levels = epi_gp_order)\n",
    "table(scrna$macro_celltype, useNA = 'ifany')"
   ]
  },
  {
   "cell_type": "code",
   "execution_count": null,
   "id": "1f36962f",
   "metadata": {
    "vscode": {
     "languageId": "r"
    }
   },
   "outputs": [
    {
     "data": {
      "text/plain": [
       "\n",
       " Tumor_Gp1  Tumor_Gp2 Epi_Normal \n",
       "     35838      18407      12952 "
      ]
     },
     "metadata": {},
     "output_type": "display_data"
    }
   ],
   "source": [
    "# no Mixture cells\n",
    "Idents(scrna) <- scrna$macro_celltype\n",
    "subdata <- subset(scrna, idents = 'Mixture', invert = TRUE)\n",
    "table(Idents(subdata), useNA = 'ifany')"
   ]
  },
  {
   "cell_type": "code",
   "execution_count": null,
   "id": "ba0559b3",
   "metadata": {
    "vscode": {
     "languageId": "r"
    }
   },
   "outputs": [
    {
     "name": "stderr",
     "output_type": "stream",
     "text": [
      "\u001b[1m\u001b[22mScale for \u001b[32mcolour\u001b[39m is already present.\n",
      "Adding another scale for \u001b[32mcolour\u001b[39m, which will replace the existing scale.\n"
     ]
    }
   ],
   "source": [
    "# manual selected markers based on top10 markers\n",
    "ctype_lvl <- intersect(names(ctype_ls), unique(scrna$macro_celltype))\n",
    "markers <- list(\n",
    "    'Epi' = c('EPCAM', 'KRT14', 'KRT15'),\n",
    "    'Epi Develop' = c('KRT6B', 'LGALS7B', 'KRT16', 'LY6D', 'TP63', 'LAMB3'),\n",
    "    # 'Antigen' = c('CTSD', 'HLA−DRA', 'HLA−DRB1', 'HLA−DRB5', 'HLA-DQA1', 'HLA-DPA1', 'HLA-DPB1', 'HLA-DQB1'),\n",
    "    'Immune Repress' = c('CD74', 'PTGES', 'S100P', 'RUNX3', 'TGFB1', 'CEACAM1', 'OAS1', 'HLA-E', 'CTSD'),\n",
    "    'Apoptosis Repress' = c('MUC1', 'PTGS2', 'PINK1', 'BCL2L1', 'SOD2', 'CCT3', 'PARP1')\n",
    ")\n",
    "subdata$macro_celltype <- factor(subdata$macro_celltype, levels = ctype_lvl)\n",
    "p <- DotPlot(subdata, features = markers, group.by = 'macro_celltype') +\n",
    "    scale_color_gsea() +\n",
    "    guides(color = guide_colorbar(title.position = 'top'),\n",
    "           size = guide_legend(title.position = 'top')) +\n",
    "    labs(x = '', y = '', color = 'Average Expression', size = 'Percent Expressed') +\n",
    "    theme(axis.text.x = element_text(angle = 60, hjust = 0.95, vjust = 0.95),\n",
    "          legend.position = 'top', legend.title.align = 0.5,\n",
    "          legend.justification = 0.5, legend.key.width = unit(1, 'cm'))\n",
    "ggsave(filename = str_glue('{outdir}/fig2h-dot_epi_marker-noMixture.pdf'), plot = p, width = 9, height = 4)"
   ]
  },
  {
   "cell_type": "markdown",
   "id": "6090484e",
   "metadata": {},
   "source": [
    "## 2h: macrotype by response: min50 result"
   ]
  },
  {
   "cell_type": "code",
   "execution_count": null,
   "id": "0d3c1391",
   "metadata": {
    "vscode": {
     "languageId": "r"
    }
   },
   "outputs": [],
   "source": [
    "f_epi_obs <- '../../stage4/a01_data/h5ad/epi_obs.csv'\n",
    "f_whole_obs <- '../../stage4/a01_data/h5ad/whole_obs.csv'\n",
    "min_cell <- 50"
   ]
  },
  {
   "cell_type": "code",
   "execution_count": null,
   "id": "b9f0faa7",
   "metadata": {
    "vscode": {
     "languageId": "r"
    }
   },
   "outputs": [
    {
     "name": "stderr",
     "output_type": "stream",
     "text": [
      "\u001b[1m\u001b[22mNew names:\n",
      "\u001b[36m•\u001b[39m `` -> `...1`\n",
      "\u001b[1m\u001b[22mNew names:\n",
      "\u001b[36m•\u001b[39m `` -> `...1`\n"
     ]
    },
    {
     "data": {
      "text/plain": [
       "              \n",
       "               Epi_Normal Mixture Tumor_Gp1 Tumor_Gp2\n",
       "  Epi_A_IL1R2        5726       0         0         0\n",
       "  Epi_A_MGP          2452       0         0         0\n",
       "  Epi_B_Mix             0     775         0         0\n",
       "  Epi_M_ACTL8           0       0         0       942\n",
       "  Epi_M_CALML3          0       0     35838         0\n",
       "  Epi_M_CPS1            0       0         0      7715\n",
       "  Epi_M_MYBPC1          0       0         0      4075\n",
       "  Epi_M_PKP2            0       0         0      1411\n",
       "  Epi_M_RNASE1          0       0         0      1719\n",
       "  Epi_M_SPRR3           0       0         0      2545\n",
       "  Epi_N_LTF            38       0         0         0\n",
       "  Epi_N_PIGR         4736       0         0         0\n",
       "  Epi_T_Mix             0    7068         0         0"
      ]
     },
     "metadata": {},
     "output_type": "display_data"
    },
    {
     "name": "stdout",
     "output_type": "stream",
     "text": [
      "\u001b[0m2024-02-05 02:49:55 INFO::these clinial info will be added: patient_id, response\u001b[0m\u001b[22m\u001b[23m\u001b[24m\u001b[27m\u001b[28m\u001b[29m\u001b[39m\u001b[49m\u001b[0m\u001b[0m\u001b[22m\u001b[23m\u001b[24m\u001b[27m\u001b[28m\u001b[29m\u001b[39m\u001b[49m\n"
     ]
    }
   ],
   "source": [
    "# calculate cell composition\n",
    "df_samp <- read_csv(f_whole_obs, show_col_types = F) %>% \n",
    "    count(sample, name = 'n_cell_samp')\n",
    "df <- read_csv(f_epi_obs, show_col_types = F) %>%\n",
    "    rename(cell_type_prev = cell_type)\n",
    "df$cell_type <- df$cell_type_prev\n",
    "for (nm in names(ctype_ls)) {\n",
    "    df$cell_type[df$cell_type_prev %in% ctype_ls[[nm]]] <- nm\n",
    "}\n",
    "table(df$cell_type_prev, df$cell_type)\n",
    "\n",
    "df <- cal_cell_comp(df_info = df, samp_cnt = df_samp, clinical_cols = 'patient') %>% \n",
    "    mutate(sample_type = case_match(sample_type, 'Baseline' ~ 'pre', 'Treat' ~ 'post')) %>% \n",
    "    add_clin_info(ftsv = f_pat_gp, columns = c('patient_id', gp), merge_by = 'patient') %>%\n",
    "    add_count(sample, name = 'n_cell_per_sample_ctype', wt = freq)  # count cell for each subtype each sample\n",
    "df %>% write_tsv(str_glue('{outdir}/fig2i-cell_comp-ek_hk.tsv'))"
   ]
  },
  {
   "cell_type": "code",
   "execution_count": null,
   "id": "d010456e",
   "metadata": {
    "vscode": {
     "languageId": "r"
    }
   },
   "outputs": [],
   "source": [
    "# for all samples\n",
    "p <- read_tsv(str_glue('{outdir}/fig2i-cell_comp-ek_hk.tsv'), show_col_types = F) %>% \n",
    "    filter(!is.na(.data[[gp]])) %>%\n",
    "    filter(cell_type %in% c('Tumor_Gp1', 'Tumor_Gp2', 'Epi_Normal')) %>%\n",
    "    mutate(cell_type = factor(cell_type, c('Tumor_Gp1', 'Tumor_Gp2', 'Epi_Normal'))) %>%\n",
    "    cell_comp_boxplot(x = c(gp, 'sample_type'), y = 'pct', pt_fill = gp,\n",
    "                      xorder = comb_order, fill_order = gp_lvls[[gp]], xangle = 60) +\n",
    "    stat_compare_means(comparisons = gp_comp_map[[gp]]) +\n",
    "    labs(y = 'Percent in Epi', fill = 'Response')\n",
    "ggsave(filename = str_glue('{outdir}/fig2i-box_cc_in_epi-macrotype-{gp}-all.pdf'), plot = p, width = 7, height = 5.5)\n",
    "\n",
    "# filter out samples without enough cells\n",
    "p <- read_tsv(str_glue('{outdir}/fig2i-cell_comp-ek_hk.tsv'), show_col_types = F) %>% \n",
    "    filter(n_cell_per_sample_ctype >= min_cell) %>%\n",
    "    filter(!is.na(.data[[gp]])) %>%\n",
    "    filter(cell_type %in% c('Tumor_Gp1', 'Tumor_Gp2', 'Epi_Normal')) %>%\n",
    "    mutate(cell_type = factor(cell_type, c('Tumor_Gp1', 'Tumor_Gp2', 'Epi_Normal'))) %>%\n",
    "    cell_comp_boxplot(x = c(gp, 'sample_type'), y = 'pct', pt_fill = gp,\n",
    "                      xorder = comb_order, fill_order = gp_lvls[[gp]], xangle = 60) +\n",
    "    stat_compare_means(comparisons = gp_comp_map[[gp]]) +\n",
    "    labs(y = 'Percent in Epi', fill = 'Response')\n",
    "ggsave(filename = str_glue('{outdir}/fig2i-box_cc_in_epi-macrotype-{gp}-min{min_cell}.pdf'), plot = p, width = 7, height = 5.5)"
   ]
  },
  {
   "cell_type": "markdown",
   "id": "49d72d8d",
   "metadata": {},
   "source": [
    "## 2i: scatter of TMB (CCF>=50%) vs EK percent in Epi: all result"
   ]
  },
  {
   "cell_type": "code",
   "execution_count": null,
   "id": "3d8e049f",
   "metadata": {
    "vscode": {
     "languageId": "r"
    }
   },
   "outputs": [],
   "source": [
    "f_ek_cc <- '../figures/fig2/fig2i-cell_comp-ek_hk.tsv'\n",
    "f_ccf_info <- '../figures/fig2/fig2-tmb-cff_gt_0.5-tn_pair-fresh-t.tsv'\n",
    "min_cell <- 50"
   ]
  },
  {
   "cell_type": "code",
   "execution_count": null,
   "id": "23fd2366",
   "metadata": {
    "vscode": {
     "languageId": "r"
    }
   },
   "outputs": [
    {
     "name": "stdout",
     "output_type": "stream",
     "text": [
      "\u001b[0m2024-02-23 20:23:52 INFO::35 samples\u001b[0m\u001b[22m\u001b[23m\u001b[24m\u001b[27m\u001b[28m\u001b[29m\u001b[39m\u001b[49m\u001b[0m\u001b[0m\u001b[22m\u001b[23m\u001b[24m\u001b[27m\u001b[28m\u001b[29m\u001b[39m\u001b[49m\n"
     ]
    }
   ],
   "source": [
    "# countruct data\n",
    "df <- read_tsv(f_ek_cc, show_col_types = F) %>% \n",
    "    filter(cell_type == 'Tumor_Gp1') %>% \n",
    "    select(patient_id, sample_type, n_cell_per_sample_ctype, ek_pct_in_epi = pct) \n",
    "df <- read_tsv(f_ccf_info, show_col_types = F) %>% \n",
    "    merge(df, by = c('patient_id', 'sample_type'))\n",
    "df %>% write_tsv(str_glue('{outdir}/fig2k-ek_pct-vs-tmb-ccf_gt_0.5-tn_pair-fresh-t.tsv'))\n",
    "loginfo('%g samples', length(unique(df$sample_id)))"
   ]
  },
  {
   "cell_type": "code",
   "execution_count": null,
   "id": "b7a387db",
   "metadata": {
    "vscode": {
     "languageId": "r"
    }
   },
   "outputs": [
    {
     "data": {
      "text/html": [
       "<table class=\"dataframe\">\n",
       "<caption>A data.frame: 2 × 14</caption>\n",
       "<thead>\n",
       "\t<tr><th scope=col>patient_id</th><th scope=col>sample_type</th><th scope=col>response</th><th scope=col>sample_id</th><th scope=col>mandard_group</th><th scope=col>response_degree</th><th scope=col>patient_gp</th><th scope=col>patient_gp_v2</th><th scope=col>n_mut_per_samp</th><th scope=col>ccf_type</th><th scope=col>n_mut_per_samp_ctype</th><th scope=col>n_mut_norm</th><th scope=col>n_cell_per_sample_ctype</th><th scope=col>ek_pct_in_epi</th></tr>\n",
       "\t<tr><th scope=col>&lt;chr&gt;</th><th scope=col>&lt;chr&gt;</th><th scope=col>&lt;chr&gt;</th><th scope=col>&lt;chr&gt;</th><th scope=col>&lt;chr&gt;</th><th scope=col>&lt;chr&gt;</th><th scope=col>&lt;chr&gt;</th><th scope=col>&lt;chr&gt;</th><th scope=col>&lt;dbl&gt;</th><th scope=col>&lt;chr&gt;</th><th scope=col>&lt;dbl&gt;</th><th scope=col>&lt;dbl&gt;</th><th scope=col>&lt;dbl&gt;</th><th scope=col>&lt;dbl&gt;</th></tr>\n",
       "</thead>\n",
       "<tbody>\n",
       "\t<tr><td>041</td><td>post</td><td>PR</td><td>03-041-T</td><td>poor</td><td>mild  </td><td>pEKD</td><td>pEKD</td><td>15</td><td>middle</td><td>14</td><td>0.9333333</td><td>1</td><td>0</td></tr>\n",
       "\t<tr><td>051</td><td>post</td><td>R </td><td>03-051-T</td><td>good</td><td>severe</td><td>good</td><td>good</td><td>10</td><td>middle</td><td> 6</td><td>0.6000000</td><td>2</td><td>0</td></tr>\n",
       "</tbody>\n",
       "</table>\n"
      ],
      "text/latex": [
       "A data.frame: 2 × 14\n",
       "\\begin{tabular}{llllllllllllll}\n",
       " patient\\_id & sample\\_type & response & sample\\_id & mandard\\_group & response\\_degree & patient\\_gp & patient\\_gp\\_v2 & n\\_mut\\_per\\_samp & ccf\\_type & n\\_mut\\_per\\_samp\\_ctype & n\\_mut\\_norm & n\\_cell\\_per\\_sample\\_ctype & ek\\_pct\\_in\\_epi\\\\\n",
       " <chr> & <chr> & <chr> & <chr> & <chr> & <chr> & <chr> & <chr> & <dbl> & <chr> & <dbl> & <dbl> & <dbl> & <dbl>\\\\\n",
       "\\hline\n",
       "\t 041 & post & PR & 03-041-T & poor & mild   & pEKD & pEKD & 15 & middle & 14 & 0.9333333 & 1 & 0\\\\\n",
       "\t 051 & post & R  & 03-051-T & good & severe & good & good & 10 & middle &  6 & 0.6000000 & 2 & 0\\\\\n",
       "\\end{tabular}\n"
      ],
      "text/markdown": [
       "\n",
       "A data.frame: 2 × 14\n",
       "\n",
       "| patient_id &lt;chr&gt; | sample_type &lt;chr&gt; | response &lt;chr&gt; | sample_id &lt;chr&gt; | mandard_group &lt;chr&gt; | response_degree &lt;chr&gt; | patient_gp &lt;chr&gt; | patient_gp_v2 &lt;chr&gt; | n_mut_per_samp &lt;dbl&gt; | ccf_type &lt;chr&gt; | n_mut_per_samp_ctype &lt;dbl&gt; | n_mut_norm &lt;dbl&gt; | n_cell_per_sample_ctype &lt;dbl&gt; | ek_pct_in_epi &lt;dbl&gt; |\n",
       "|---|---|---|---|---|---|---|---|---|---|---|---|---|---|\n",
       "| 041 | post | PR | 03-041-T | poor | mild   | pEKD | pEKD | 15 | middle | 14 | 0.9333333 | 1 | 0 |\n",
       "| 051 | post | R  | 03-051-T | good | severe | good | good | 10 | middle |  6 | 0.6000000 | 2 | 0 |\n",
       "\n"
      ],
      "text/plain": [
       "  patient_id sample_type response sample_id mandard_group response_degree\n",
       "1 041        post        PR       03-041-T  poor          mild           \n",
       "2 051        post        R        03-051-T  good          severe         \n",
       "  patient_gp patient_gp_v2 n_mut_per_samp ccf_type n_mut_per_samp_ctype\n",
       "1 pEKD       pEKD          15             middle   14                  \n",
       "2 good       good          10             middle    6                  \n",
       "  n_mut_norm n_cell_per_sample_ctype ek_pct_in_epi\n",
       "1 0.9333333  1                       0            \n",
       "2 0.6000000  2                       0            "
      ]
     },
     "metadata": {},
     "output_type": "display_data"
    }
   ],
   "source": [
    "df %>% filter(n_cell_per_sample_ctype < 50)"
   ]
  },
  {
   "cell_type": "code",
   "execution_count": null,
   "id": "771f5f29",
   "metadata": {
    "vscode": {
     "languageId": "r"
    }
   },
   "outputs": [
    {
     "name": "stdout",
     "output_type": "stream",
     "text": [
      "\u001b[0m2024-02-23 20:24:20 INFO::all: 35 samples\u001b[0m\u001b[22m\u001b[23m\u001b[24m\u001b[27m\u001b[28m\u001b[29m\u001b[39m\u001b[49m\u001b[0m\u001b[0m\u001b[22m\u001b[23m\u001b[24m\u001b[27m\u001b[28m\u001b[29m\u001b[39m\u001b[49m\n",
      "\u001b[0m2024-02-23 20:24:21 INFO::min50: 33 samples\u001b[0m\u001b[22m\u001b[23m\u001b[24m\u001b[27m\u001b[28m\u001b[29m\u001b[39m\u001b[49m\u001b[0m\u001b[0m\u001b[22m\u001b[23m\u001b[24m\u001b[27m\u001b[28m\u001b[29m\u001b[39m\u001b[49m\n"
     ]
    }
   ],
   "source": [
    "for (suf in c('all', str_glue('min{min_cell}'))) {\n",
    "    if (suf == 'all') {\n",
    "        dp <- df\n",
    "    } else {\n",
    "        dp <- filter(df, n_cell_per_sample_ctype >= min_cell)\n",
    "    }\n",
    "    loginfo('%s: %g samples', suf, length(unique(dp$sample_id)))\n",
    "    p <- ggscatter(data = dp, x = 'ek_pct_in_epi', y = 'n_mut_per_samp_ctype', conf.int = TRUE,\n",
    "                   add = 'reg.line', add.params = list(color = \"blue\", fill = 'lightgray'), \n",
    "                   cor.coef = TRUE, cor.coeff.args = list(method = \"pearson\")) +\n",
    "        scale_y_log10() + \n",
    "        labs(x = 'Percent of Tumor_Gp1 cells in Epi', y = 'Mutation count (CCF>=50%)')\n",
    "    ggsave(filename = str_glue('{outdir}/fig2k-scatter-ek_pct-vs-tmb_ccf_gt_0.5-tn_pair-fresh-t-{suf}.pdf'),\n",
    "           plot = p, width = 4, height = 4)\n",
    "}"
   ]
  },
  {
   "cell_type": "markdown",
   "id": "dbb4cf25",
   "metadata": {},
   "source": [
    "## 2k: survival plot by zhaoren !!!"
   ]
  },
  {
   "cell_type": "code",
   "execution_count": null,
   "id": "805e52e0",
   "metadata": {
    "vscode": {
     "languageId": "r"
    }
   },
   "outputs": [],
   "source": []
  },
  {
   "cell_type": "markdown",
   "id": "5093d64b",
   "metadata": {},
   "source": [
    "## 2j: immune related cell communication\n",
    "\n",
    "- desc: only T cells relevant pairs; T cells as target (exclude Epi_normal/mixture); use sample by sample results"
   ]
  },
  {
   "cell_type": "code",
   "execution_count": null,
   "id": "7dd03dea",
   "metadata": {
    "vscode": {
     "languageId": "r"
    }
   },
   "outputs": [],
   "source": [
    "f_full <- '../../stage4/a21_cell_comm/ek_hk_major/analysis/v2-interactions-with_clin-full.tsv'\n",
    "f_interset <- '../../stage4/a21_cell_comm/immune_related_lg_cellchat_merge.tsv'\n",
    "ctype_color <- c(\n",
    "    'B & Plasma' = '#e71818', 'Tumor_Gp1' = '#317dbd', 'Endothelial' = '#46ae46',\n",
    "    'Fibroblast' = '#9c4da5', 'Tumor_Gp2' = '#f79600', 'Myeloid' = '#f782bd', 'T cells' = '#bd9ece'\n",
    ")\n",
    "\n",
    "min_cell <- 50  # ligand/receptor should expressed in min_cell source/target cells\n",
    "min_sample_num <- 3  # interaction should detected in these samples intra sample group\n",
    "thresh <- 0.05  # significant threshold"
   ]
  },
  {
   "cell_type": "markdown",
   "id": "54a9cf15",
   "metadata": {},
   "source": [
    "### preprocess"
   ]
  },
  {
   "cell_type": "code",
   "execution_count": null,
   "id": "1e9a51d2",
   "metadata": {
    "vscode": {
     "languageId": "r"
    }
   },
   "outputs": [
    {
     "name": "stdout",
     "output_type": "stream",
     "text": [
      "\u001b[0m2024-03-04 15:00:26 INFO::total 251965 interactions, 81 samples\u001b[0m\u001b[22m\u001b[23m\u001b[24m\u001b[27m\u001b[28m\u001b[29m\u001b[39m\u001b[49m\u001b[0m\u001b[0m\u001b[22m\u001b[23m\u001b[24m\u001b[27m\u001b[28m\u001b[29m\u001b[39m\u001b[49m\n",
      "\u001b[0m2024-03-04 15:00:26 INFO::65 intersted interactions\u001b[0m\u001b[22m\u001b[23m\u001b[24m\u001b[27m\u001b[28m\u001b[29m\u001b[39m\u001b[49m\u001b[0m\u001b[0m\u001b[22m\u001b[23m\u001b[24m\u001b[27m\u001b[28m\u001b[29m\u001b[39m\u001b[49m\n"
     ]
    }
   ],
   "source": [
    "# all results  \n",
    "df_raw <- read_tsv(f_full, show_col_types = F) %>%\n",
    "    mutate(sample_type = case_match(sample_type, 'Baseline' ~ 'pre', 'Treat' ~ 'post'),\n",
    "           response = case_match(mandard_group, 'good' ~ 'R', 'poor' ~ 'PR')) %>% \n",
    "    select(-c('mandard_group')) %>%\n",
    "    mutate(source = case_match(source, 'EK_tumor' ~ 'Tumor_Gp1', 'HK_tumor' ~ 'Tumor_Gp2', .default = source),\n",
    "           target = case_match(target, 'EK_tumor' ~ 'Tumor_Gp1', 'HK_tumor' ~ 'Tumor_Gp2', .default = target))\n",
    "loginfo('total %g interactions, %g samples', nrow(df_raw), length(unique(df_raw$sample)))\n",
    "\n",
    "# interested cell-cell interactions\n",
    "df_comm <- read_tsv(f_interset, show_col_types = F) %>% \n",
    "    filter(gene_type == 'receptor') %>% \n",
    "    select(interaction_name, immune_direction) %>% \n",
    "    distinct() \n",
    "loginfo('%g intersted interactions', nrow(df_comm))"
   ]
  },
  {
   "cell_type": "code",
   "execution_count": null,
   "id": "d0443d01",
   "metadata": {
    "vscode": {
     "languageId": "r"
    }
   },
   "outputs": [
    {
     "name": "stdout",
     "output_type": "stream",
     "text": [
      "\u001b[0m2024-03-04 15:00:30 INFO::16885 T cells relevant pairs, 81 samples\u001b[0m\u001b[22m\u001b[23m\u001b[24m\u001b[27m\u001b[28m\u001b[29m\u001b[39m\u001b[49m\u001b[0m\u001b[0m\u001b[22m\u001b[23m\u001b[24m\u001b[27m\u001b[28m\u001b[29m\u001b[39m\u001b[49m\n",
      "\u001b[0m2024-03-04 15:00:30 INFO::filter by cell number >= 50: 14965 records, 81 samples\u001b[0m\u001b[22m\u001b[23m\u001b[24m\u001b[27m\u001b[28m\u001b[29m\u001b[39m\u001b[49m\u001b[0m\u001b[0m\u001b[22m\u001b[23m\u001b[24m\u001b[27m\u001b[28m\u001b[29m\u001b[39m\u001b[49m\n",
      "\u001b[0m2024-03-04 15:00:30 INFO::only intersted interactions: 996 records, 73 samples\u001b[0m\u001b[22m\u001b[23m\u001b[24m\u001b[27m\u001b[28m\u001b[29m\u001b[39m\u001b[49m\u001b[0m\u001b[0m\u001b[22m\u001b[23m\u001b[24m\u001b[27m\u001b[28m\u001b[29m\u001b[39m\u001b[49m\n",
      "\u001b[0m2024-03-04 15:00:30 INFO::samples with response info: 799 pairs, 62 samples\u001b[0m\u001b[22m\u001b[23m\u001b[24m\u001b[27m\u001b[28m\u001b[29m\u001b[39m\u001b[49m\u001b[0m\u001b[0m\u001b[22m\u001b[23m\u001b[24m\u001b[27m\u001b[28m\u001b[29m\u001b[39m\u001b[49m\n",
      "\u001b[0m2024-03-04 15:00:30 INFO::filter by sample number >= 3: 707 records, 62 samples\u001b[0m\u001b[22m\u001b[23m\u001b[24m\u001b[27m\u001b[28m\u001b[29m\u001b[39m\u001b[49m\u001b[0m\u001b[0m\u001b[22m\u001b[23m\u001b[24m\u001b[27m\u001b[28m\u001b[29m\u001b[39m\u001b[49m\n",
      "\u001b[0m2024-03-04 15:00:30 INFO::filter out interactions all insignificant intra sample group: 707 records, 62 samples\u001b[0m\u001b[22m\u001b[23m\u001b[24m\u001b[27m\u001b[28m\u001b[29m\u001b[39m\u001b[49m\u001b[0m\u001b[0m\u001b[22m\u001b[23m\u001b[24m\u001b[27m\u001b[28m\u001b[29m\u001b[39m\u001b[49m\n"
     ]
    }
   ],
   "source": [
    "# only T cells relevant L-R pairs\n",
    "df <- df_raw %>% \n",
    "    filter(target == 'T cells',\n",
    "           !source %in% c('Epi_Norm', 'Epi_Others'))\n",
    "loginfo('%g T cells relevant pairs, %g samples', nrow(df), length(unique(df$sample)))\n",
    "\n",
    "# filter by cell number\n",
    "df <- df %>% \n",
    "    filter(n_cell_receptor_in_target_max >= min_cell, \n",
    "           n_cell_ligand_in_source_max >= min_cell)\n",
    "loginfo('filter by cell number >= %g: %g records, %g samples',\n",
    "        min_cell, nrow(df), length(unique(df$sample)))\n",
    "\n",
    "# only intersted interactions\n",
    "df <- merge(df, df_comm, by = 'interaction_name')\n",
    "loginfo('only intersted interactions: %g records, %g samples', nrow(df), length(unique(df$sample)))\n",
    "\n",
    "# only samples with clinical info\n",
    "df_flt <- df %>% \n",
    "    filter(.data[[gp]] %in% gp_lvls[[gp]])\n",
    "loginfo('samples with %s info: %g pairs, %g samples', gp, nrow(df_flt), length(unique(df_flt$sample)))\n",
    "\n",
    "# filter by sample number\n",
    "df_flt <- df_flt %>% \n",
    "    add_count(.data[[gp]], sample_type, source, target, interaction_name, name = 'n_sample') %>% \n",
    "    filter(n_sample >= min_sample_num)\n",
    "loginfo('filter by sample number >= %g: %g records, %g samples',\n",
    "        min_sample_num, nrow(df_flt), length(unique(df_flt$sample)))\n",
    "\n",
    "# filter in-significant interactions\n",
    "df_flt <- df_flt %>%\n",
    "    summarise(.by = c(gp, 'sample_type', 'source', 'target', 'interaction_name'),\n",
    "              p_min = min(pval)) %>%\n",
    "    filter(p_min <= thresh) %>%\n",
    "    select(.data[[gp]], sample_type, source, target, interaction_name) %>%\n",
    "    merge(df_flt, by = c(gp, 'sample_type', 'source', 'target', 'interaction_name'))\n",
    "loginfo('filter out interactions all insignificant intra sample group: %g records, %g samples',\n",
    "        nrow(df_flt), length(unique(df_flt$sample)))"
   ]
  },
  {
   "cell_type": "code",
   "execution_count": null,
   "id": "08571f1f",
   "metadata": {
    "vscode": {
     "languageId": "r"
    }
   },
   "outputs": [],
   "source": [
    "# init node info\n",
    "df_node <- data.frame(name = sort(unique(c(df_flt$source, df_flt$target))))\n",
    "df_node$node_color <- NA\n",
    "for (nm in names(ctype_color)) {\n",
    "    df_node$node_color[df_node$name == nm] <- ctype_color[nm]\n",
    "}\n",
    "\n",
    "# init edges\n",
    "df_edge <- df_flt %>% \n",
    "    summarise(.by = c(.data[[gp]], sample_type, 'source', 'target', 'interaction_name', 'immune_direction'),\n",
    "              prob_agg = mean(prob)) %>%  # summarise for samples of each interaction\n",
    "    add_count(.data[[gp]], sample_type, source, target, immune_direction, name = 'n_interaction') %>% \n",
    "    summarise(.by = c(gp, 'sample_type', 'source', 'target', 'n_interaction', 'immune_direction'),\n",
    "              prob_mean = mean(prob_agg),\n",
    "              prob_med = median(prob_agg)) # summarise for interaction \n",
    "# add edge color (color by source)\n",
    "df_edge <- df_node %>% \n",
    "    select(source = name, edge_color = node_color) %>% \n",
    "    merge(df_edge, by = 'source') %>% \n",
    "    select(source, target, edge_color, n_interaction, prob_mean, prob_med, .data[[gp]], sample_type, immune_direction)\n",
    "\n",
    "df_node %>% write_tsv(str_glue('{outdir}/figs3d-t_immune-node.tsv'))\n",
    "df_edge %>% write_tsv(str_glue('{outdir}/figs3d-t_immune-edge.tsv'))"
   ]
  },
  {
   "cell_type": "markdown",
   "id": "ecb0b57f",
   "metadata": {},
   "source": [
    "### vlz"
   ]
  },
  {
   "cell_type": "code",
   "execution_count": null,
   "id": "b4ef9b47",
   "metadata": {
    "vscode": {
     "languageId": "r"
    }
   },
   "outputs": [],
   "source": [
    "coords <- as.matrix(data.frame(\n",
    "    c(1.0000000, -0.2225209, -0.9009689, -0.9009689, -0.2225209, 0.6234898, 0.6234898),\n",
    "    c(0.0000000, -0.9749279, 0.4338837, -0.4338837, 0.9749279, 0.7818315, -0.7818315)\n",
    "))"
   ]
  },
  {
   "cell_type": "code",
   "execution_count": null,
   "id": "e4d8e910",
   "metadata": {
    "vscode": {
     "languageId": "r"
    }
   },
   "outputs": [
    {
     "data": {
      "text/html": [
       "<strong>png:</strong> 2"
      ],
      "text/latex": [
       "\\textbf{png:} 2"
      ],
      "text/markdown": [
       "**png:** 2"
      ],
      "text/plain": [
       "png \n",
       "  2 "
      ]
     },
     "metadata": {},
     "output_type": "display_data"
    }
   ],
   "source": [
    "# weight by prob\n",
    "weight_by <- 'prob_mean'\n",
    "jp_opt(wd=14, hg = 6, res = 200)\n",
    "pdf(file = str_glue('{outdir}/figs3d-t_immune-prob.pdf'), width = 14, height = 6)\n",
    "par(mfrow = c(2, 4), mar = c(1.5, 0, 1.5, 0.5))\n",
    "for (d in unique(df_edge$immune_direction)) {\n",
    "    for (stype in c('pre', 'post')) {\n",
    "        for (my_gp in gp_lvls[[gp]]) {\n",
    "            dp_edge <- filter(df_edge, .data[[gp]] == my_gp, sample_type == stype, immune_direction == d)\n",
    "            if (nrow(dp_edge) == 0) {\n",
    "                plot.new()\n",
    "                next\n",
    "            }\n",
    "            # plot\n",
    "            net <- graph_from_data_frame(d = dp_edge, vertices = df_node, directed = T)\n",
    "            plot(net, \n",
    "                 edge.arrow.size = 0.5, \n",
    "                 edge.curved = 0.4,\n",
    "                 edge.color = E(net)$edge_color,\n",
    "                 edge.width = get.edge.attribute(net, weight_by) * 300,\n",
    "                 edge.label = round(get.edge.attribute(net, weight_by) * 100, 1),\n",
    "                 edge.label.cex = 1,\n",
    "                 vertex.size = 30,\n",
    "                 vertex.color = V(net)$node_color,\n",
    "                 vertex.label.color = \"black\",\n",
    "                 vertex.label.cex = 1,\n",
    "                 layout = coords,\n",
    "                 main = str_glue('T cells {d} incoming signals in {my_gp}-{stype}'))\n",
    "        }\n",
    "    }\n",
    "}\n",
    "dev.off()"
   ]
  },
  {
   "cell_type": "markdown",
   "id": "d3ecaa92",
   "metadata": {},
   "source": [
    "## 2l: EK tumor in response v2 (PR to GP1+/- and other PR)\n",
    "\n",
    "min 50 Epi cells per sample"
   ]
  },
  {
   "cell_type": "code",
   "execution_count": null,
   "id": "bd0b1d0c",
   "metadata": {
    "vscode": {
     "languageId": "r"
    }
   },
   "outputs": [
    {
     "data": {
      "text/html": [
       "<style>\n",
       ".list-inline {list-style: none; margin:0; padding: 0}\n",
       ".list-inline>li {display: inline-block}\n",
       ".list-inline>li:not(:last-child)::after {content: \"\\00b7\"; padding: 0 .5ex}\n",
       "</style>\n",
       "<ol class=list-inline><li>81</li><li>11</li></ol>\n"
      ],
      "text/latex": [
       "\\begin{enumerate*}\n",
       "\\item 81\n",
       "\\item 11\n",
       "\\end{enumerate*}\n"
      ],
      "text/markdown": [
       "1. 81\n",
       "2. 11\n",
       "\n",
       "\n"
      ],
      "text/plain": [
       "[1] 81 11"
      ]
     },
     "metadata": {},
     "output_type": "display_data"
    }
   ],
   "source": [
    "min_cell <- 50\n",
    "df <- read_tsv(str_glue('{outdir}/fig2i-cell_comp-ek_hk.tsv'), show_col_types = F) %>% \n",
    "    filter(cell_type == 'Tumor_Gp1')\n",
    "df %>% dim"
   ]
  },
  {
   "cell_type": "code",
   "execution_count": null,
   "id": "b13bb425",
   "metadata": {
    "vscode": {
     "languageId": "r"
    }
   },
   "outputs": [
    {
     "data": {
      "text/html": [
       "<style>\n",
       ".list-inline {list-style: none; margin:0; padding: 0}\n",
       ".list-inline>li {display: inline-block}\n",
       ".list-inline>li:not(:last-child)::after {content: \"\\00b7\"; padding: 0 .5ex}\n",
       "</style>\n",
       "<ol class=list-inline><li>29</li><li>5</li></ol>\n"
      ],
      "text/latex": [
       "\\begin{enumerate*}\n",
       "\\item 29\n",
       "\\item 5\n",
       "\\end{enumerate*}\n"
      ],
      "text/markdown": [
       "1. 29\n",
       "2. 5\n",
       "\n",
       "\n"
      ],
      "text/plain": [
       "[1] 29  5"
      ]
     },
     "metadata": {},
     "output_type": "display_data"
    },
    {
     "data": {
      "text/plain": [
       "      \n",
       "       Gp1- Gp1+ PR  R <NA>\n",
       "  PR      8    5  6  0    0\n",
       "  R       0    0  0 32    0\n",
       "  <NA>    0    0  0  0   19"
      ]
     },
     "metadata": {},
     "output_type": "display_data"
    },
    {
     "name": "stdout",
     "output_type": "stream",
     "text": [
      "\u001b[0m2024-02-05 21:54:47 INFO::these clinial info will be added: response_v2\u001b[0m\u001b[22m\u001b[23m\u001b[24m\u001b[27m\u001b[28m\u001b[29m\u001b[39m\u001b[49m\u001b[0m\u001b[0m\u001b[22m\u001b[23m\u001b[24m\u001b[27m\u001b[28m\u001b[29m\u001b[39m\u001b[49m\n"
     ]
    }
   ],
   "source": [
    "# redefine patient group\n",
    "cc_diff <- df %>% \n",
    "    pivot_wider(id_cols = c('patient', gp), names_from = 'sample_type', values_from = 'pct') %>% \n",
    "    filter(!is.na(pre), !is.na(post)) %>%  # remove unpaired patients\n",
    "    mutate(diff = post - pre)\n",
    "cc_diff %>% dim\n",
    "\n",
    "pat_pEKI <- filter(cc_diff, .data[[gp]] == 'PR', diff > 0) %>% pull(patient)  # patients whose EK tumor increased after treat\n",
    "pat_pEKD <- filter(cc_diff, .data[[gp]] == 'PR', diff < 0) %>% pull(patient)  # patients whose EK tumor decreased after treat\n",
    "\n",
    "df_gp <- read_tsv(f_pat_gp, show_col_types = F) %>% \n",
    "    mutate(response_v2 = case_when(\n",
    "        patient %in% pat_pEKD ~ 'Gp1-',\n",
    "        patient %in% pat_pEKI ~ 'Gp1+',\n",
    "        TRUE ~ .data[[gp]]\n",
    "    ))\n",
    "# update clin info\n",
    "df_gp %>% write_tsv('../tables/patient_info_v2.tsv')\n",
    "table(df_gp[[gp]], df_gp$response_v2, useNA = 'ifany')\n",
    "# update cell composition\n",
    "df <- add_clin_info(df = df, ftsv = '../tables/patient_info_v2.tsv', columns = 'response_v2', merge_by = 'patient')\n",
    "df %>% write_tsv(str_glue('{outdir}/fig2m-cell_comp-ek.tsv'))"
   ]
  },
  {
   "cell_type": "code",
   "execution_count": null,
   "id": "4503b9f8",
   "metadata": {
    "vscode": {
     "languageId": "r"
    }
   },
   "outputs": [],
   "source": [
    "# for all samples\n",
    "curr_gp <- 'response_v2'\n",
    "p <- read_tsv(str_glue('{outdir}/fig2m-cell_comp-ek.tsv'), show_col_types = F) %>% \n",
    "    filter(!is.na(.data[[curr_gp]])) %>%\n",
    "    cell_comp_boxplot(x = c(curr_gp, 'sample_type'), y = 'pct', facet_by = NULL, pt_fill = curr_gp,\n",
    "                      xorder = comb_order_v2, fill_order = gp_lvls[[curr_gp]], xangle = 60) +\n",
    "    stat_compare_means(comparisons = gp_comp_map[[curr_gp]]) +\n",
    "    labs(y = 'Percent of Tumor_Gp1 cells in Epi', fill = 'Detailed\\nresponse') +\n",
    "    theme(legend.position = 'right')\n",
    "ggsave(filename = str_glue('{outdir}/fig2m-box_cc_in_epi-macrotype-{curr_gp}-all.pdf'), plot = p, width = 5, height = 6)\n",
    "\n",
    "# filter out samples without enough cells\n",
    "p <- read_tsv(str_glue('{outdir}/fig2m-cell_comp-ek.tsv'), show_col_types = F) %>% \n",
    "    filter(n_cell_per_sample_ctype >= min_cell) %>%\n",
    "    filter(!is.na(.data[[curr_gp]])) %>%\n",
    "    cell_comp_boxplot(x = c(curr_gp, 'sample_type'), y = 'pct', facet_by = NULL, pt_fill = curr_gp,\n",
    "                      xorder = comb_order_v2, fill_order = gp_lvls[[curr_gp]], xangle = 60) +\n",
    "    stat_compare_means(comparisons = gp_comp_map[[curr_gp]]) +\n",
    "    labs(y = 'Percent of Tumor_Gp1 cells in Epi', fill = 'Detailed\\nresponse') +\n",
    "    theme(legend.position = 'right')\n",
    "ggsave(filename = str_glue('{outdir}/fig2m-box_cc_in_epi-macrotype-{curr_gp}-min{min_cell}.pdf'), plot = p, width = 5, height = 6)"
   ]
  },
  {
   "cell_type": "markdown",
   "id": "41336000",
   "metadata": {},
   "source": [
    "## 2m: Treg expaned percent boxplot: min10 result\n",
    "\n",
    "- percent in T cells (RNA & TCR data), n_cell_per_sample_subtype >= 10, by response-v2\n",
    "- 2024-02-27: now is fig2m"
   ]
  },
  {
   "cell_type": "code",
   "execution_count": null,
   "id": "e954b79b",
   "metadata": {
    "vscode": {
     "languageId": "r"
    }
   },
   "outputs": [
    {
     "name": "stdout",
     "output_type": "stream",
     "text": [
      "\u001b[0m2024-02-05 03:10:19 INFO::these clinial info will be added: patient_id, mandard_group, response_degree, treatment_group, patient_gp, patient_gp_v2, response, response_v2\u001b[0m\u001b[22m\u001b[23m\u001b[24m\u001b[27m\u001b[28m\u001b[29m\u001b[39m\u001b[49m\u001b[0m\u001b[0m\u001b[22m\u001b[23m\u001b[24m\u001b[27m\u001b[28m\u001b[29m\u001b[39m\u001b[49m\n",
      "\u001b[0m2024-02-05 03:10:19 INFO::Treg: 160 records, 81 samples\u001b[0m\u001b[22m\u001b[23m\u001b[24m\u001b[27m\u001b[28m\u001b[29m\u001b[39m\u001b[49m\u001b[0m\u001b[0m\u001b[22m\u001b[23m\u001b[24m\u001b[27m\u001b[28m\u001b[29m\u001b[39m\u001b[49m\n"
     ]
    }
   ],
   "source": [
    "f_expand <- '../../stage4/a03_tcr/expansion/expand_cell_pct.csv'\n",
    "f_pat_gp_v2 <- '../tables/patient_info_v2.tsv'\n",
    "min_cell <- 10\n",
    "valid_types <- c('Treg_LTB', 'Treg_TNFRSF4')\n",
    "\n",
    "df <- read_csv(file = f_expand, show_col_types = F) %>%\n",
    "    filter(subtype %in% valid_types) %>%\n",
    "    mutate(sample = paste(patient, sample_type, sep = '-')) %>%\n",
    "    select(sample, sample_type, patient, subtype, n_expand_cell_per_sample_stype, n_cell_per_sample_subtype, pct_by_subtype) %>%\n",
    "    add_clin_info(ftsv = f_pat_gp_v2, columns = NULL, merge_by = 'patient') %>%\n",
    "    mutate(macrotype = 'Treg') %>%\n",
    "    mutate(sample_type = case_match(sample_type, 'Baseline' ~ 'pre', 'Treat' ~ 'post'))\n",
    "loginfo('Treg: %g records, %g samples', nrow(df), length(unique(df$sample)))\n",
    "\n",
    "write_tsv(x = df, file = str_glue('{outdir}/fig2n-Treg_expand_percet-by_subtype.tsv'))"
   ]
  },
  {
   "cell_type": "code",
   "execution_count": null,
   "id": "a5c20b45",
   "metadata": {
    "vscode": {
     "languageId": "r"
    }
   },
   "outputs": [
    {
     "data": {
      "text/html": [
       "<table class=\"dataframe\">\n",
       "<caption>A data.frame: 6 × 3</caption>\n",
       "<thead>\n",
       "\t<tr><th scope=col>sample</th><th scope=col>response_v2</th><th scope=col>n</th></tr>\n",
       "\t<tr><th scope=col>&lt;chr&gt;</th><th scope=col>&lt;chr&gt;</th><th scope=col>&lt;int&gt;</th></tr>\n",
       "</thead>\n",
       "<tbody>\n",
       "\t<tr><td>P01-Treat</td><td>R   </td><td>2</td></tr>\n",
       "\t<tr><td>P13-Treat</td><td>Gp1-</td><td>1</td></tr>\n",
       "\t<tr><td>P25-Treat</td><td>R   </td><td>1</td></tr>\n",
       "\t<tr><td>P43-Treat</td><td>R   </td><td>2</td></tr>\n",
       "\t<tr><td>P46-Treat</td><td>R   </td><td>2</td></tr>\n",
       "\t<tr><td>P51-Treat</td><td>R   </td><td>1</td></tr>\n",
       "</tbody>\n",
       "</table>\n"
      ],
      "text/latex": [
       "A data.frame: 6 × 3\n",
       "\\begin{tabular}{lll}\n",
       " sample & response\\_v2 & n\\\\\n",
       " <chr> & <chr> & <int>\\\\\n",
       "\\hline\n",
       "\t P01-Treat & R    & 2\\\\\n",
       "\t P13-Treat & Gp1- & 1\\\\\n",
       "\t P25-Treat & R    & 1\\\\\n",
       "\t P43-Treat & R    & 2\\\\\n",
       "\t P46-Treat & R    & 2\\\\\n",
       "\t P51-Treat & R    & 1\\\\\n",
       "\\end{tabular}\n"
      ],
      "text/markdown": [
       "\n",
       "A data.frame: 6 × 3\n",
       "\n",
       "| sample &lt;chr&gt; | response_v2 &lt;chr&gt; | n &lt;int&gt; |\n",
       "|---|---|---|\n",
       "| P01-Treat | R    | 2 |\n",
       "| P13-Treat | Gp1- | 1 |\n",
       "| P25-Treat | R    | 1 |\n",
       "| P43-Treat | R    | 2 |\n",
       "| P46-Treat | R    | 2 |\n",
       "| P51-Treat | R    | 1 |\n",
       "\n"
      ],
      "text/plain": [
       "  sample    response_v2 n\n",
       "1 P01-Treat R           2\n",
       "2 P13-Treat Gp1-        1\n",
       "3 P25-Treat R           1\n",
       "4 P43-Treat R           2\n",
       "5 P46-Treat R           2\n",
       "6 P51-Treat R           1"
      ]
     },
     "metadata": {},
     "output_type": "display_data"
    }
   ],
   "source": [
    "df %>% filter(n_cell_per_sample_subtype < 10) %>% count(sample, response_v2)"
   ]
  },
  {
   "cell_type": "code",
   "execution_count": null,
   "id": "1d15817a",
   "metadata": {
    "vscode": {
     "languageId": "r"
    }
   },
   "outputs": [
    {
     "name": "stdout",
     "output_type": "stream",
     "text": [
      "\u001b[0m2024-02-05 03:11:25 INFO::all: 76 samples\u001b[0m\u001b[22m\u001b[23m\u001b[24m\u001b[27m\u001b[28m\u001b[29m\u001b[39m\u001b[49m\u001b[0m\u001b[0m\u001b[22m\u001b[23m\u001b[24m\u001b[27m\u001b[28m\u001b[29m\u001b[39m\u001b[49m\n",
      "\u001b[0m2024-02-05 03:11:26 INFO::min10: 81 samples\u001b[0m\u001b[22m\u001b[23m\u001b[24m\u001b[27m\u001b[28m\u001b[29m\u001b[39m\u001b[49m\u001b[0m\u001b[0m\u001b[22m\u001b[23m\u001b[24m\u001b[27m\u001b[28m\u001b[29m\u001b[39m\u001b[49m\n"
     ]
    }
   ],
   "source": [
    "# response v2, subtype\n",
    "curr_gp <- 'response_v2'\n",
    "for (suf in c('all', str_glue('min{min_cell}'))){\n",
    "    if (suf != 'all') {\n",
    "        dp <- df\n",
    "    } else {\n",
    "        dp <- filter(df, n_cell_per_sample_subtype >= 10)\n",
    "    }\n",
    "    loginfo('%s: %g samples', suf, length(unique(dp$sample)))\n",
    "    p <- dp %>% \n",
    "        filter(.data[[curr_gp]] %in% gp_lvls[[curr_gp]]) %>%\n",
    "        cell_comp_boxplot(x = c(curr_gp, 'sample_type'),  y = 'pct_by_subtype', pt_fill = curr_gp, facet_by = 'subtype', \n",
    "                          xorder = comb_order_v2, fill_order = gp_lvls[[curr_gp]], ncol = 7, wrap_free = 'free',\n",
    "                          xangle = 60, ytitle = 'Expanded cell percent') + \n",
    "        labs(fill = 'Detailed response') +\n",
    "        stat_compare_means(comparisons = gp_comp_map[[curr_gp]]) \n",
    "    ggsave(filename = str_glue('{outdir}/fig2n-box_expand_in_subtype-detail-{curr_gp}-{suf}.pdf'), plot = p, width = 5, height = 6)\n",
    "}"
   ]
  },
  {
   "cell_type": "markdown",
   "id": "68cea4d3",
   "metadata": {},
   "source": [
    "## 2n-0: virus cell percent\n",
    "\n",
    "- date: 2024-02-27"
   ]
  },
  {
   "cell_type": "markdown",
   "id": "eb17cbb2",
   "metadata": {},
   "source": [
    "### 2n: pct in all cells, R-pre vs PR-pre "
   ]
  },
  {
   "cell_type": "code",
   "execution_count": null,
   "id": "f79478ed",
   "metadata": {
    "vscode": {
     "languageId": "r"
    }
   },
   "outputs": [],
   "source": [
    "f_obs <- '../../stage4/a24_microbe/domain_lvl/whole_obs_with_domain_logrpm.rds'\n",
    "min_cell <- 50\n",
    "cutoff <- 0"
   ]
  },
  {
   "cell_type": "code",
   "execution_count": null,
   "id": "f132428b",
   "metadata": {
    "vscode": {
     "languageId": "r"
    }
   },
   "outputs": [
    {
     "name": "stdout",
     "output_type": "stream",
     "text": [
      "\u001b[0m2024-02-27 14:29:42 INFO::these clinial info will be added: response\u001b[0m\u001b[22m\u001b[23m\u001b[24m\u001b[27m\u001b[28m\u001b[29m\u001b[39m\u001b[49m\u001b[0m\u001b[0m\u001b[22m\u001b[23m\u001b[24m\u001b[27m\u001b[28m\u001b[29m\u001b[39m\u001b[49m\n",
      "\u001b[0m2024-02-27 14:29:42 INFO::81 records\u001b[0m\u001b[22m\u001b[23m\u001b[24m\u001b[27m\u001b[28m\u001b[29m\u001b[39m\u001b[49m\u001b[0m\u001b[0m\u001b[22m\u001b[23m\u001b[24m\u001b[27m\u001b[28m\u001b[29m\u001b[39m\u001b[49m\n"
     ]
    }
   ],
   "source": [
    "df <- readRDS(f_obs) %>% \n",
    "    mutate(bi_type = case_when(\n",
    "        is.na(Viruses) ~ NA_character_,\n",
    "        Viruses > cutoff ~ 'Virus-detected',\n",
    "        Viruses <= cutoff ~ 'Non-detected',\n",
    "        TRUE ~ 'others'\n",
    "    )) %>%\n",
    "    count(sample, bi_type, name = 'n_cell') %>%\n",
    "    add_count(sample, wt = n_cell, name = 'n_cell_per_sample') %>%\n",
    "    filter(n_cell_per_sample >= min_cell) %>%\n",
    "    mutate(pct = 100 * n_cell / n_cell_per_sample) %>%\n",
    "    pivot_wider(id_cols = c('sample'), \n",
    "                names_from = 'bi_type', values_from = 'pct', values_fill = 0) %>%\n",
    "    separate(col = 'sample', into = c('patient', 'sample_type'), sep = '-', remove = F) %>%\n",
    "    mutate(sample_type = case_match(sample_type, 'Baseline' ~ 'pre', 'Treat' ~ 'post')) %>%\n",
    "    add_clin_info(ftsv = f_pat_gp, columns = gp, merge_by = 'patient')\n",
    "loginfo('%g records', nrow(df))\n",
    "df %>% write_tsv(str_glue('{outdir}/fig2n-virus_detection_in_whole-bi-sample_lvl-pct.tsv'))"
   ]
  },
  {
   "cell_type": "code",
   "execution_count": null,
   "id": "0dd91c05",
   "metadata": {
    "vscode": {
     "languageId": "r"
    }
   },
   "outputs": [],
   "source": [
    "p <- read_tsv(str_glue('{outdir}/fig2n-virus_detection_in_whole-bi-sample_lvl-pct.tsv'), show_col_types = F) %>% \n",
    "    filter(.data[[gp]] %in% gp_lvls[[gp]]) %>%\n",
    "    filter(sample_type == 'pre') %>%\n",
    "    cell_comp_boxplot(x = c(gp, 'sample_type'), y = 'Virus-detected', pt_fill = gp, pair_by = NULL, \n",
    "                      xorder = comb_order, fill_order = gp_lvls[[gp]], facet_by = NULL, ncol = 3) +\n",
    "    stat_compare_means(comparisons = list(c('R-pre', 'PR-pre'))) +\n",
    "    labs(y = 'Percent of virus-detected cells', fill = 'Response') +\n",
    "    theme(axis.title.x = element_blank())\n",
    "ggsave(filename = str_glue('{outdir}/fig2n-box_cell_pct-virus_detected_cells-whole.pdf'), width = 3, height = 6, plot = p)"
   ]
  },
  {
   "cell_type": "markdown",
   "id": "dfc85bfe",
   "metadata": {},
   "source": [
    "### 2o: pct in tumor Gp1/2 cells, Gp1 vs Gp2"
   ]
  },
  {
   "cell_type": "code",
   "execution_count": null,
   "id": "2db2258c",
   "metadata": {
    "vscode": {
     "languageId": "r"
    }
   },
   "outputs": [],
   "source": [
    "f_obs <- '../../stage4/a24_microbe/domain_lvl/whole_obs_with_domain_logrpm.rds'\n",
    "min_cell <- 50\n",
    "cutoff <- 0\n",
    "\n",
    "used_ctypes <- c('Tumor_Gp1', 'Tumor_Gp2')"
   ]
  },
  {
   "cell_type": "code",
   "execution_count": null,
   "id": "2db54c63",
   "metadata": {
    "vscode": {
     "languageId": "r"
    }
   },
   "outputs": [
    {
     "name": "stdout",
     "output_type": "stream",
     "text": [
      "\u001b[0m2024-02-27 14:47:01 INFO::these clinial info will be added: response\u001b[0m\u001b[22m\u001b[23m\u001b[24m\u001b[27m\u001b[28m\u001b[29m\u001b[39m\u001b[49m\u001b[0m\u001b[0m\u001b[22m\u001b[23m\u001b[24m\u001b[27m\u001b[28m\u001b[29m\u001b[39m\u001b[49m\n"
     ]
    }
   ],
   "source": [
    "# rename cell type\n",
    "df <- readRDS(f_obs) %>% \n",
    "    filter(cell_type == 'Epithelial')\n",
    "\n",
    "df$celltype <- df$subtype\n",
    "for (nm in names(ctype_ls)) {\n",
    "    df$celltype[df$subtype %in% ctype_ls[[nm]]] <- nm\n",
    "}\n",
    "# stat percent in each cluster\n",
    "df_stat <- df %>% \n",
    "    mutate(bi_type = case_when(\n",
    "        is.na(Viruses) ~ NA_character_,\n",
    "        Viruses > cutoff ~ 'Virus-detected',\n",
    "        Viruses <= cutoff ~ 'Non-detected',\n",
    "        TRUE ~ 'others'\n",
    "    )) %>%\n",
    "    count(sample, celltype, bi_type, name = 'n_cell') %>%\n",
    "    add_count(sample, celltype, wt = n_cell, name = 'n_cell_per_sample_ctype') %>%\n",
    "    filter(n_cell_per_sample_ctype >= min_cell) %>%\n",
    "    mutate(pct = 100 * n_cell / n_cell_per_sample_ctype) %>%\n",
    "    pivot_wider(id_cols = c('sample', 'celltype'), \n",
    "                names_from = 'bi_type', values_from = 'pct', values_fill = 0) %>%\n",
    "    separate(col = 'sample', into = c('patient', 'sample_type'), sep = '-', remove = F) %>%\n",
    "    mutate(sample_type = case_match(sample_type, 'Baseline' ~ 'pre', 'Treat' ~ 'post')) %>%\n",
    "    add_clin_info(ftsv = f_pat_gp, columns = gp, merge_by = 'patient')\n",
    "df_stat %>% write_tsv(str_glue('{outdir}/fig2o-virus_detection_in_epi_group-bi-sample_lvl-pct.tsv'))"
   ]
  },
  {
   "cell_type": "code",
   "execution_count": null,
   "id": "aabf9dd4",
   "metadata": {
    "vscode": {
     "languageId": "r"
    }
   },
   "outputs": [],
   "source": [
    "p <- read_tsv(str_glue('{outdir}/fig2o-virus_detection_in_epi_group-bi-sample_lvl-pct.tsv'), show_col_types = F) %>% \n",
    "    filter(celltype %in% c('Tumor_Gp1', 'Tumor_Gp2')) %>%\n",
    "    mutate(celltype = factor(celltype, names(ctype_ls))) %>%\n",
    "    cell_comp_boxplot(x = c('celltype'), y = 'Virus-detected', pt_fill = gp,\n",
    "                      pair_by = NULL, facet_by = NULL, ncol = 3, xangle = 60,\n",
    "                      xorder = names(ctype_ls), fill_order = gp_lvls[[gp]]) +\n",
    "    stat_compare_means(comparisons = list(c('Tumor_Gp1', 'Tumor_Gp2'))) +\n",
    "    labs(y = 'Percent of virus-detected cells', fill = 'Response') +\n",
    "    theme(axis.title.x = element_blank())\n",
    "ggsave(filename = str_glue('{outdir}/fig2o-box_cell_pct-virus_detected_cells-gp1_vs_gp2.pdf'), width = 3, height = 6, plot = p)"
   ]
  }
 ],
 "metadata": {
  "kernelspec": {
   "display_name": "R",
   "language": "R",
   "name": "ir"
  },
  "language_info": {
   "codemirror_mode": "r",
   "file_extension": ".r",
   "mimetype": "text/x-r-source",
   "name": "R",
   "pygments_lexer": "r",
   "version": "4.3.3"
  }
 },
 "nbformat": 4,
 "nbformat_minor": 5
}

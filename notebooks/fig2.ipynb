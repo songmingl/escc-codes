{
 "cells": [
  {
   "cell_type": "markdown",
   "id": "4e78bb62-b115-43fd-9fb7-c826ee2811a4",
   "metadata": {},
   "source": [
    "# figure 2 vlz\n",
    "\n",
    "- kernel: r_env, R 4.1.3\n",
    "- date: 2023-12-27 ~ 12-28"
   ]
  },
  {
   "cell_type": "markdown",
   "id": "0e59ed14-a3c3-49a6-8411-ae918b67af3b",
   "metadata": {
    "tags": []
   },
   "source": [
    "## load"
   ]
  },
  {
   "cell_type": "code",
   "execution_count": 1,
   "id": "95697196-8cfb-4a41-9105-a25a0d5c0baf",
   "metadata": {
    "collapsed": true,
    "jupyter": {
     "outputs_hidden": true
    },
    "tags": [],
    "vscode": {
     "languageId": "r"
    }
   },
   "outputs": [
    {
     "name": "stderr",
     "output_type": "stream",
     "text": [
      "── \u001b[1mAttaching core tidyverse packages\u001b[22m ──────────────────────── tidyverse 2.0.0 ──\n",
      "\u001b[32m✔\u001b[39m \u001b[34mdplyr    \u001b[39m 1.1.0     \u001b[32m✔\u001b[39m \u001b[34mreadr    \u001b[39m 2.1.4\n",
      "\u001b[32m✔\u001b[39m \u001b[34mforcats  \u001b[39m 1.0.0     \u001b[32m✔\u001b[39m \u001b[34mstringr  \u001b[39m 1.5.0\n",
      "\u001b[32m✔\u001b[39m \u001b[34mggplot2  \u001b[39m 3.4.1     \u001b[32m✔\u001b[39m \u001b[34mtibble   \u001b[39m 3.2.0\n",
      "\u001b[32m✔\u001b[39m \u001b[34mlubridate\u001b[39m 1.9.2     \u001b[32m✔\u001b[39m \u001b[34mtidyr    \u001b[39m 1.3.0\n",
      "\u001b[32m✔\u001b[39m \u001b[34mpurrr    \u001b[39m 1.0.1     \n",
      "── \u001b[1mConflicts\u001b[22m ────────────────────────────────────────── tidyverse_conflicts() ──\n",
      "\u001b[31m✖\u001b[39m \u001b[34mdplyr\u001b[39m::\u001b[32mfilter()\u001b[39m masks \u001b[34mstats\u001b[39m::filter()\n",
      "\u001b[31m✖\u001b[39m \u001b[34mdplyr\u001b[39m::\u001b[32mlag()\u001b[39m    masks \u001b[34mstats\u001b[39m::lag()\n",
      "\u001b[36mℹ\u001b[39m Use the conflicted package (\u001b[3m\u001b[34m<http://conflicted.r-lib.org/>\u001b[39m\u001b[23m) to force all conflicts to become errors\n",
      "\n",
      "Attaching package: ‘igraph’\n",
      "\n",
      "\n",
      "The following objects are masked from ‘package:lubridate’:\n",
      "\n",
      "    %--%, union\n",
      "\n",
      "\n",
      "The following objects are masked from ‘package:dplyr’:\n",
      "\n",
      "    as_data_frame, groups, union\n",
      "\n",
      "\n",
      "The following objects are masked from ‘package:purrr’:\n",
      "\n",
      "    compose, simplify\n",
      "\n",
      "\n",
      "The following object is masked from ‘package:tidyr’:\n",
      "\n",
      "    crossing\n",
      "\n",
      "\n",
      "The following object is masked from ‘package:tibble’:\n",
      "\n",
      "    as_data_frame\n",
      "\n",
      "\n",
      "The following objects are masked from ‘package:stats’:\n",
      "\n",
      "    decompose, spectrum\n",
      "\n",
      "\n",
      "The following object is masked from ‘package:base’:\n",
      "\n",
      "    union\n",
      "\n",
      "\n",
      "Attaching SeuratObject\n",
      "\n",
      "Loading required package: grid\n",
      "\n",
      "========================================\n",
      "ComplexHeatmap version 2.10.0\n",
      "Bioconductor page: http://bioconductor.org/packages/ComplexHeatmap/\n",
      "Github page: https://github.com/jokergoo/ComplexHeatmap\n",
      "Documentation: http://jokergoo.github.io/ComplexHeatmap-reference\n",
      "\n",
      "If you use it in published research, please cite:\n",
      "Gu, Z. Complex heatmaps reveal patterns and correlations in multidimensional \n",
      "  genomic data. Bioinformatics 2016.\n",
      "\n",
      "The new InteractiveComplexHeatmap package can directly export static \n",
      "complex heatmaps into an interactive Shiny app with zero effort. Have a try!\n",
      "\n",
      "This message can be suppressed by:\n",
      "  suppressPackageStartupMessages(library(ComplexHeatmap))\n",
      "========================================\n",
      "\n",
      "\n"
     ]
    }
   ],
   "source": [
    "library(tidyverse)\n",
    "library(tools)\n",
    "library(logging)\n",
    "library(ggpubr)\n",
    "library(ggsci)\n",
    "library(patchwork)\n",
    "library(igraph)\n",
    "library(ggraph)\n",
    "library(Seurat)\n",
    "library(maftools)\n",
    "library(ComplexHeatmap)\n",
    "library(CellChat)\n",
    "\n",
    "source('../../stage2/scripts/r_funcs.r')\n",
    "\n",
    "theme_set(theme_pubr())\n",
    "logging::basicConfig()\n",
    "options(warn = -1)\n",
    "\n",
    "outdir <- '../figures/fig2'\n",
    "create_dir(outdir)"
   ]
  },
  {
   "cell_type": "code",
   "execution_count": null,
   "id": "1fdeaa60-c5a1-4f24-ad01-c728de59ad6f",
   "metadata": {
    "tags": [],
    "vscode": {
     "languageId": "r"
    }
   },
   "outputs": [],
   "source": [
    "ctype_ls <- list(\n",
    "    'Tumor_Gp1' = c(\"Epi_M_CALML3\"),\n",
    "    'Tumor_Gp2' = c(\"Epi_M_CPS1\", \"Epi_M_MYBPC1\", \"Epi_M_PKP2\", \"Epi_M_SPRR3\", \"Epi_M_ACTL8\", 'Epi_M_RNASE1'),\n",
    "    'Epi_Normal' = c(\"Epi_A_IL1R2\", \"Epi_A_MGP\", \"Epi_N_LTF\", \"Epi_N_PIGR\"),\n",
    "    'Mixture' = c('Epi_T_Mix', 'Epi_B_Mix')\n",
    ")\n",
    "epi_gp_order <- c('Tumor_Gp1', 'Tumor_Gp2', 'Epi_Normal', 'Mixture')\n",
    "\n",
    "f_pat_gp <- '../tables/patient_info.tsv'\n",
    "gp <- 'response'\n",
    "gp_lvls$response <- c('R', 'PR')\n",
    "gp_comp_map$response <- list(\n",
    "  c('R-pre', 'R-post'),\n",
    "  c('PR-pre', 'PR-post'),\n",
    "  c('R-pre', 'PR-pre'),\n",
    "  c('R-post', 'PR-post')\n",
    ")\n",
    "gp_comp_diff_map$response <- list(c('R', 'PR'))\n",
    "gp_comp_map_pre$response <- list(c('R-pre', 'PR-pre'))\n",
    "comb_order <- c('R-pre', 'R-post', 'PR-pre', 'PR-post')\n",
    "\n",
    "gp_lvls$response_v2 <- c('R', 'Gp1-', 'Gp1+', 'PR')\n",
    "gp_comp_map$response_v2 <- list(\n",
    "    c('R-pre', 'R-post'),\n",
    "    c('Gp1+-pre', 'Gp1+-post'),\n",
    "    c('Gp1--pre', 'Gp1--post'),\n",
    "    c('R-pre', 'Gp1--pre'),\n",
    "    c('R-post', 'Gp1--post'),\n",
    "    c('Gp1+-pre', 'Gp1--pre'),\n",
    "    c('Gp1+-post', 'Gp1--post'),\n",
    "    c('R-pre', 'Gp1+-pre'),\n",
    "    c('R-post', 'Gp1+-post')\n",
    ")\n",
    "gp_comp_diff_map$response_v2 <- list(\n",
    "    c('R', 'Gp1+'),\n",
    "    c('R', 'Gp1-'),\n",
    "    c('GP1+', 'Gp1-') \n",
    "gp_comp_map_pre$response_v2 <- list(c('R-pre', 'Gp1--pre'),  c('R-pre', 'Gp1+-pre'), c('Gp1+-pre', 'Gp1--pre'))\n",
    "comb_order_v2 <- c('R-pre', 'R-post', 'Gp1--pre', 'Gp1--post', 'Gp1+-pre', 'Gp1+-post', 'PR-pre')"
   ]
  },
  {
   "cell_type": "markdown",
   "id": "6bd63049",
   "metadata": {
    "vscode": {
     "languageId": "python"
    }
   },
   "source": [
    "## 2a-d: immune signature\n",
    "\n",
    "- TMB: based on T-N paired, fresh, non-LN samples; mutation based on pyclone results (t_alt_count >= 3, t_depth >= 30, autosome mutations), CCF >= 50%\n",
    "- TNB: sc & wes shared samples, tn-pair, fresh, nonLN samples"
   ]
  },
  {
   "cell_type": "markdown",
   "id": "45e96434",
   "metadata": {},
   "source": [
    "### 2a: CCF >= 50%, r vs nr at pre"
   ]
  },
  {
   "cell_type": "code",
   "execution_count": null,
   "id": "b94f000b",
   "metadata": {
    "vscode": {
     "languageId": "r"
    }
   },
   "outputs": [
    {
     "name": "stdout",
     "output_type": "stream",
     "text": [
      "\u001b[0m2024-02-05 00:04:54 INFO::5529 mutations, 53 samples\u001b[0m\u001b[22m\u001b[23m\u001b[24m\u001b[27m\u001b[28m\u001b[29m\u001b[39m\u001b[49m\u001b[0m\u001b[0m\u001b[22m\u001b[23m\u001b[24m\u001b[27m\u001b[28m\u001b[29m\u001b[39m\u001b[49m\n"
     ]
    }
   ],
   "source": [
    "f_tmb_ccf <- '../../stage4/a15_wes_clone_infer/new-pyclone/parse/tmb-by_ccf-0.5_1-tn_pair-fresh-t.tsv'\n",
    "tmb <- read_tsv(f_tmb_ccf, show_col_types = F)\n",
    "loginfo('%g mutations, %g samples', sum(tmb$n_mut_per_samp_ctype), length(unique(tmb$sample_id)))"
   ]
  },
  {
   "cell_type": "code",
   "execution_count": null,
   "id": "15e4822c",
   "metadata": {
    "vscode": {
     "languageId": "r"
    }
   },
   "outputs": [
    {
     "name": "stdout",
     "output_type": "stream",
     "text": [
      "\u001b[0m2024-02-05 00:06:53 INFO::these clinial info will be added: response\u001b[0m\u001b[22m\u001b[23m\u001b[24m\u001b[27m\u001b[28m\u001b[29m\u001b[39m\u001b[49m\u001b[0m\u001b[0m\u001b[22m\u001b[23m\u001b[24m\u001b[27m\u001b[28m\u001b[29m\u001b[39m\u001b[49m\n",
      "\u001b[0m2024-02-05 00:06:53 INFO::ccf>=50%, 4053 mutations, 53 samples\u001b[0m\u001b[22m\u001b[23m\u001b[24m\u001b[27m\u001b[28m\u001b[29m\u001b[39m\u001b[49m\u001b[0m\u001b[0m\u001b[22m\u001b[23m\u001b[24m\u001b[27m\u001b[28m\u001b[29m\u001b[39m\u001b[49m\n"
     ]
    }
   ],
   "source": [
    "# ccf filtering (>=50% = middle)\n",
    "tmb_flt <- filter(tmb, ccf_type == 'middle') %>%\n",
    "    add_clin_info(ftsv = f_pat_gp, columns = gp, merge_by = 'patient_id') %>%\n",
    "    mutate(sample_type = case_match(sample_type, 'Baseline' ~ 'pre', 'Treat' ~ 'post'))\n",
    "\n",
    "write_tsv(tmb_flt, file = str_glue('{outdir}/fig2-tmb-cff_gt_0.5-tn_pair-fresh-t.tsv'))\n",
    "\n",
    "loginfo('ccf>=50%%, %g mutations, %g samples', sum(tmb_flt$n_mut_per_samp_ctype), length(unique(tmb_flt$sample_id)))"
   ]
  },
  {
   "cell_type": "code",
   "execution_count": null,
   "id": "b7c08dd9",
   "metadata": {
    "vscode": {
     "languageId": "r"
    }
   },
   "outputs": [],
   "source": [
    "p <- tmb_flt %>% \n",
    "    filter(.data[[gp]] %in% gp_lvls[[gp]]) %>%\n",
    "    filter(sample_type == 'pre') %>%\n",
    "    cell_comp_boxplot(x = c(gp, 'sample_type'), y = 'n_mut_per_samp_ctype', xorder = paste0(gp_lvls[[gp]], '-pre'),\n",
    "                      pt_fill = gp, fill_order = gp_lvls[[gp]], pair_by = NULL, facet_by = NULL, xangle = 60) +\n",
    "    scale_y_continuous(trans = 'log10') +\n",
    "    stat_compare_means(comparisons = gp_comp_map_pre[[gp]]) +\n",
    "    labs(fill = '', x = '', y = 'Mutation count (CCF >= 50%)')\n",
    "ggsave(filename = str_glue('{outdir}/fig2b-box_tmb-ccf_gt_0.5-{gp}-pre-tn_pair-fresh-t.pdf'),\n",
    "       plot = p, width = 2, height = 5)"
   ]
  },
  {
   "cell_type": "markdown",
   "id": "70ced614",
   "metadata": {},
   "source": [
    "### 2b: CCF >= 50%, pre vs post\n",
    "\n",
    "- 2023-12-28"
   ]
  },
  {
   "cell_type": "code",
   "execution_count": null,
   "id": "c35f3741",
   "metadata": {
    "vscode": {
     "languageId": "r"
    }
   },
   "outputs": [
    {
     "name": "stderr",
     "output_type": "stream",
     "text": [
      "\u001b[1m\u001b[22mScale for \u001b[32mfill\u001b[39m is already present.\n",
      "Adding another scale for \u001b[32mfill\u001b[39m, which will replace the existing scale.\n"
     ]
    }
   ],
   "source": [
    "# by sample type\n",
    "p <- read_tsv(file = str_glue('{outdir}/fig2-tmb-cff_gt_0.5-tn_pair-fresh-t.tsv'), show_col_types = F) %>% \n",
    "    cell_comp_boxplot(x = 'sample_type', y = 'n_mut_per_samp_ctype', xorder = c('pre', 'post'),\n",
    "                      pt_fill = 'sample_type', fill_order = c('pre', 'post'), pair_by = 'patient_id',\n",
    "                      facet_by = NULL, xangle = 60) +\n",
    "    scale_y_continuous(trans = 'log10') +\n",
    "    stat_compare_means(comparisons = list(c('pre', 'post'))) +\n",
    "    scale_fill_manual(values = c('pre' = 'blue', 'post' = 'red')) +\n",
    "    labs(fill = '', x = '', y = 'Mutation count (CCF >= 50%)') +\n",
    "    theme(legend.justification = c(1, 0))\n",
    "ggsave(filename = str_glue('{outdir}/fig2c-box_tmb-ccf_gt_0.5-pre_vs_post-tn_pair-fresh-t.pdf'),\n",
    "       plot = p, width = 2, height = 5)"
   ]
  },
  {
   "cell_type": "markdown",
   "id": "77d12c1b",
   "metadata": {},
   "source": [
    "### 2c: expression weighted neoantigen with CCF >= 50%\n",
    "\n",
    "- desc: sc & wes shared samples, tn-pair, fresh, nonLN samples"
   ]
  },
  {
   "cell_type": "code",
   "execution_count": null,
   "id": "49c7e1f5",
   "metadata": {
    "vscode": {
     "languageId": "r"
    }
   },
   "outputs": [
    {
     "name": "stdout",
     "output_type": "stream",
     "text": [
      "\u001b[0m2024-02-05 00:34:27 INFO::these clinial info will be added: response\u001b[0m\u001b[22m\u001b[23m\u001b[24m\u001b[27m\u001b[28m\u001b[29m\u001b[39m\u001b[49m\u001b[0m\u001b[0m\u001b[22m\u001b[23m\u001b[24m\u001b[27m\u001b[28m\u001b[29m\u001b[39m\u001b[49m\n",
      "\u001b[0m2024-02-05 00:34:27 INFO::tn_pair, fresh, nonLN: 33 records, 33 samples\u001b[0m\u001b[22m\u001b[23m\u001b[24m\u001b[27m\u001b[28m\u001b[29m\u001b[39m\u001b[49m\u001b[0m\u001b[0m\u001b[22m\u001b[23m\u001b[24m\u001b[27m\u001b[28m\u001b[29m\u001b[39m\u001b[49m\n"
     ]
    }
   ],
   "source": [
    "f_wt_neo <- '../../stage4/a17_neoantigen/new-neo/analysis/mhc_i-neo_score-ccf-tn_pair-t-sc-exprs.tsv'\n",
    "samp_clins <- c('patient_id', 'patient', 'treatment_group', 'sample_id', 'sample_type')\n",
    "\n",
    "df <- read_tsv(f_wt_neo, show_col_types = F) %>% \n",
    "    filter(pair_cat == 'Fresh', pair_mode == 'tumor-normal-paired', !grepl('-LN', sample_id)) %>%\n",
    "    filter(ccf >= 0.5) %>%\n",
    "    select(all_of(c(samp_clins, 'purity', 'ploidy', 'seq', 'exprs'))) %>%\n",
    "    distinct() %>%  # same peptide seq but recognized by >=1 HLA is consider only once\n",
    "    count(pick(c(samp_clins, 'purity', 'ploidy')), name = 'wt_score', wt = .data[['exprs']]) %>%\n",
    "    mutate(sample_type = case_match(sample_type, 'Baseline' ~ 'pre', 'Treat' ~ 'post')) %>%\n",
    "    add_clin_info(ftsv = f_pat_gp, columns = gp, merge_by = 'patient_id')\n",
    "\n",
    "\n",
    "df %>% write_tsv(str_glue('{outdir}/fig2-exprs_wt_tnb-ccf_gt_0.5-tn_pair-fresh-t.tsv'))\n",
    "loginfo('tn_pair, fresh, nonLN: %g records, %g samples', nrow(df), length(unique(df$sample_id)))"
   ]
  },
  {
   "cell_type": "code",
   "execution_count": null,
   "id": "6f527596",
   "metadata": {
    "vscode": {
     "languageId": "r"
    }
   },
   "outputs": [],
   "source": [
    "# mandard group at baseline\n",
    "p <- read_tsv(file = str_glue('{outdir}/fig2-exprs_wt_tnb-ccf_gt_0.5-tn_pair-fresh-t.tsv'), show_col_types = F) %>% \n",
    "    filter(.data[[gp]] %in% gp_lvls[[gp]]) %>%\n",
    "    filter(sample_type == 'pre') %>%\n",
    "    cell_comp_boxplot(x = c(gp, 'sample_type'), y = 'wt_score', xorder = paste0(gp_lvls[[gp]], '-pre'),\n",
    "                      pt_fill = gp, fill_order = gp_lvls[[gp]], pair_by = NULL,\n",
    "                      facet_by = NULL, xangle = 60) +\n",
    "    scale_y_continuous(trans = 'log10') +\n",
    "    stat_compare_means(comparisons = gp_comp_map_pre[[gp]]) +\n",
    "    labs(fill = '', x = '', y = 'Expression-weighted TNB (CCF >= 50%)') +\n",
    "    theme(legend.justification = c(1, 0))\n",
    "ggsave(filename = str_glue('{outdir}/fig2-box_wt_tnb-ccf_gt_0.5-{gp}-pre-tn_pair-fresh-t.pdf'),\n",
    "       plot = p, width = 2, height = 5)"
   ]
  },
  {
   "cell_type": "markdown",
   "id": "7cf9f1bc",
   "metadata": {},
   "source": [
    "### 2d: immune editing score\n",
    "\n",
    "- desc: tn-pair, fresh, nonLN sample"
   ]
  },
  {
   "cell_type": "code",
   "execution_count": null,
   "id": "b2237f9c",
   "metadata": {
    "vscode": {
     "languageId": "r"
    }
   },
   "outputs": [
    {
     "name": "stdout",
     "output_type": "stream",
     "text": [
      "\u001b[0m2024-02-05 00:40:55 INFO::these clinial info will be added: response\u001b[0m\u001b[22m\u001b[23m\u001b[24m\u001b[27m\u001b[28m\u001b[29m\u001b[39m\u001b[49m\u001b[0m\u001b[0m\u001b[22m\u001b[23m\u001b[24m\u001b[27m\u001b[28m\u001b[29m\u001b[39m\u001b[49m\n",
      "\u001b[0m2024-02-05 00:40:55 INFO::tn_pair, fresh, nonLN: 53 records, 53 samples\u001b[0m\u001b[22m\u001b[23m\u001b[24m\u001b[27m\u001b[28m\u001b[29m\u001b[39m\u001b[49m\u001b[0m\u001b[0m\u001b[22m\u001b[23m\u001b[24m\u001b[27m\u001b[28m\u001b[29m\u001b[39m\u001b[49m\n"
     ]
    }
   ],
   "source": [
    "f_edit_score <- '../../stage4/a11_wes/new-muts/immune_editing_score.tsv'\n",
    "\n",
    "df <- read_tsv(f_edit_score, show_col_types = F) %>% \n",
    "    filter(!grepl('-LN', sample_id), pair_cat == 'Fresh', pair_mode == 'tumor-normal-paired') %>%\n",
    "    mutate(sample_type = case_match(sample_type, 'Baseline' ~ 'pre', 'Treat' ~ 'post')) %>%\n",
    "    add_clin_info(ftsv = f_pat_gp, columns = gp, merge_by = 'patient_id')\n",
    "\n",
    "df %>% write_tsv(str_glue('{outdir}/fig2-immune_editing_score-tn_pair-fresh-t.tsv'))\n",
    "loginfo('tn_pair, fresh, nonLN: %g records, %g samples', nrow(df), length(unique(df$sample_id)))"
   ]
  },
  {
   "cell_type": "code",
   "execution_count": null,
   "id": "9ee352c0",
   "metadata": {
    "vscode": {
     "languageId": "r"
    }
   },
   "outputs": [],
   "source": [
    "# pre vs post\n",
    "p <- df %>% \n",
    "    cell_comp_boxplot(x = c('sample_type'), y = 'editing_score', pt_fill = 'sample_type', pair_by = 'patient_id',\n",
    "                      fill_order = c('pre', 'post'), facet_by = NULL, xorder = c('pre', 'post'), xangle = 60) +\n",
    "    stat_compare_means(comparisons = list(c('pre', 'post')))+\n",
    "    labs(fill = '', y = 'Immune editing score') + \n",
    "    theme(legend.justification = c(1, 0))\n",
    "ggsave(filename = str_glue('{outdir}/fig2e-box_edit_score-pre_vs_post-tn_pair-fresh-t.pdf'),\n",
    "       plot = p, width = 2, height = 4.5)"
   ]
  },
  {
   "cell_type": "markdown",
   "id": "68b1efe8",
   "metadata": {},
   "source": [
    "## 2e: cell compostion for tumor/Normal Epi, min50 result"
   ]
  },
  {
   "cell_type": "code",
   "execution_count": null,
   "id": "4c49aa8f",
   "metadata": {
    "vscode": {
     "languageId": "r"
    }
   },
   "outputs": [],
   "source": [
    "f_cc <- '../figures/fig2/fig2i-cell_comp-ek_hk.tsv'\n",
    "min_cell <- 50"
   ]
  },
  {
   "cell_type": "code",
   "execution_count": null,
   "id": "4d212d5d",
   "metadata": {
    "vscode": {
     "languageId": "r"
    }
   },
   "outputs": [],
   "source": [
    "df <- read_tsv(file = f_cc, show_col_types = F) %>% \n",
    "    mutate(cellgp = if_else(cell_type %in% c('Tumor_Gp1', 'Tumor_Gp2'), 'Tumor_Gp1/2', cell_type)) %>% \n",
    "    summarise(.by = c('patient', 'patient_id', 'response', 'sample_type', 'cellgp', 'n_cell_per_sample_ctype'),\n",
    "             freq = sum(freq)) %>% \n",
    "    mutate(pct = 100 * freq / n_cell_per_sample_ctype)\n",
    "df %>% write_tsv(str_glue('{outdir}/figs3b-epi-tumor_normal_cc.tsv'))"
   ]
  },
  {
   "cell_type": "code",
   "execution_count": null,
   "id": "edb925dd",
   "metadata": {
    "vscode": {
     "languageId": "r"
    }
   },
   "outputs": [],
   "source": [
    "# for all samples\n",
    "p <- read_tsv(str_glue('{outdir}/figs3b-epi-tumor_normal_cc.tsv'), show_col_types = F) %>% \n",
    "    filter(!is.na(.data[[gp]])) %>%\n",
    "    filter(cellgp %in% c('Tumor_Gp1/2', 'Epi_Normal')) %>%\n",
    "    mutate(cellgp = factor(cellgp, c('Tumor_Gp1/2', 'Epi_Normal'))) %>%\n",
    "    cell_comp_boxplot(x = c(gp, 'sample_type'), y = 'pct', pt_fill = gp, facet_by = 'cellgp',\n",
    "                      xorder = comb_order, fill_order = gp_lvls[[gp]], xangle = 60) +\n",
    "    stat_compare_means(comparisons = gp_comp_map[[gp]]) +\n",
    "    labs(y = 'Percent in Epi', fill = 'Response')\n",
    "ggsave(filename = str_glue('{outdir}/figs3b-box_cc_in_epi-tumor_normal-all.pdf'), plot = p, width = 7, height = 5.5)\n",
    "\n",
    "# filter out samples without enough cells\n",
    "p <- read_tsv(str_glue('{outdir}/figs3b-epi-tumor_normal_cc.tsv'), show_col_types = F) %>% \n",
    "    filter(n_cell_per_sample_ctype >= min_cell) %>%\n",
    "    filter(!is.na(.data[[gp]])) %>%\n",
    "    filter(cellgp %in% c('Tumor_Gp1/2', 'Epi_Normal')) %>%\n",
    "    mutate(cellgp = factor(cellgp, c('Tumor_Gp1/2', 'Epi_Normal'))) %>%\n",
    "    cell_comp_boxplot(x = c(gp, 'sample_type'), y = 'pct', pt_fill = gp, facet_by = 'cellgp',\n",
    "                      xorder = comb_order, fill_order = gp_lvls[[gp]], xangle = 60) +\n",
    "    stat_compare_means(comparisons = gp_comp_map[[gp]]) +\n",
    "    labs(y = 'Percent in Epi', fill = 'Response')\n",
    "ggsave(filename = str_glue('{outdir}/figs3b-box_cc_in_epi-macrotype-tumor_normal-min{min_cell}.pdf'), plot = p, width = 7, height = 5.5)"
   ]
  },
  {
   "cell_type": "markdown",
   "id": "76a89cb1",
   "metadata": {},
   "source": [
    "## 2f: heatmap of cluster vs patient/sample: min50 result"
   ]
  },
  {
   "cell_type": "code",
   "execution_count": null,
   "id": "5dae8575",
   "metadata": {
    "vscode": {
     "languageId": "r"
    }
   },
   "outputs": [],
   "source": [
    "f_epi_obs <- '../../stage4/a01_data/h5ad/epi_obs.csv'\n",
    "min_cell <- 50  # min cell per group"
   ]
  },
  {
   "cell_type": "code",
   "execution_count": null,
   "id": "064404bc",
   "metadata": {
    "vscode": {
     "languageId": "r"
    }
   },
   "outputs": [
    {
     "name": "stderr",
     "output_type": "stream",
     "text": [
      "\u001b[1m\u001b[22mNew names:\n",
      "\u001b[36m•\u001b[39m `` -> `...1`\n"
     ]
    }
   ],
   "source": [
    "# detail & macro celltype map\n",
    "celltype_map <- do.call(\n",
    "    rbind.data.frame, \n",
    "    lapply(X = names(ctype_ls), FUN = function(nm) {\n",
    "        data.frame(macrotype = nm, celltype = ctype_ls[[nm]])\n",
    "    })\n",
    ")\n",
    "\n",
    "# color map\n",
    "macrotype_color_map <- pal_nejm()(length(unique(celltype_map$macrotype)))\n",
    "names(macrotype_color_map) <- unique(celltype_map$macrotype)\n",
    "\n",
    "# data: cell level\n",
    "df <- read_csv(f_epi_obs, show_col_types = F)"
   ]
  },
  {
   "cell_type": "code",
   "execution_count": null,
   "id": "acf7ea0f",
   "metadata": {
    "vscode": {
     "languageId": "r"
    }
   },
   "outputs": [
    {
     "name": "stdout",
     "output_type": "stream",
     "text": [
      "\u001b[0m2024-02-05 01:25:53 INFO::51/52 patient with enough cells\u001b[0m\u001b[22m\u001b[23m\u001b[24m\u001b[27m\u001b[28m\u001b[29m\u001b[39m\u001b[49m\u001b[0m\u001b[0m\u001b[22m\u001b[23m\u001b[24m\u001b[27m\u001b[28m\u001b[29m\u001b[39m\u001b[49m\n"
     ]
    }
   ],
   "source": [
    "# by patient\n",
    "cal_by <- 'patient'\n",
    "all_cal_types <- unique(df[[cal_by]])\n",
    "highconf_cal_types <- count(df, .data[[cal_by]]) %>%\n",
    "    filter(n >= min_cell) %>%\n",
    "    pull(.data[[cal_by]])\n",
    "loginfo('%g/%g %s with enough cells', length(highconf_cal_types), length(all_cal_types), cal_by)\n",
    "\n",
    "# plot data\n",
    "mat <- df %>% \n",
    "    count(.data[[cal_by]], cell_type, name = 'freq') %>% \n",
    "    pivot_wider(id_cols = c('cell_type'), names_from = .data[[cal_by]],\n",
    "                values_from = 'freq', values_fill = 0) %>% \n",
    "    mutate(across(all_of(all_cal_types), ~ 100*.x/sum(.x))) %>%\n",
    "    column_to_rownames('cell_type')\n",
    "mat <- mat[intersect(pull(celltype_map, 'celltype'), rownames(mat)), ]\n",
    "\n",
    "# plot\n",
    "for (suf in c('all', str_glue('min{min_cell}'))) {\n",
    "    if (suf == 'all') {\n",
    "        dp <- mat\n",
    "    } else {\n",
    "        dp <- mat[, highconf_cal_types]\n",
    "    }\n",
    "    set.seed(123)\n",
    "    row_anno <- rowAnnotation(\n",
    "        'Epithelial\\ncell groups' = pull(celltype_map, 'macrotype', name = 'celltype')[rownames(mat)],\n",
    "        col = list('Epithelial\\ncell groups' = macrotype_color_map),\n",
    "        show_annotation_name = c('Epithelial\\ncell groups' = FALSE), \n",
    "        width = unit(1, 'cm'), na_col = 'gray50',\n",
    "        annotation_legend_param = list('Epithelial\\ncell groups' = list(\n",
    "            at = names(macrotype_color_map), labels = names(macrotype_color_map)\n",
    "        ))\n",
    "    )\n",
    "    treat_heatmap(\n",
    "        mat = dp, cluster_columns = F, cluster_rows = F, name = str_glue('Percent \\nin {cal_by}'),\n",
    "        row_names_gp = gpar(fontsize = 9), right_annotation = row_anno, fig_size = c(7, 2), \n",
    "        outfile = str_glue('{outdir}/fig2g-heat-macro_pct_in_{cal_by}-{suf}.pdf')\n",
    "    )\n",
    "}"
   ]
  },
  {
   "cell_type": "markdown",
   "id": "eeb10fb6",
   "metadata": {},
   "source": [
    "## 2g: marker dotplot"
   ]
  },
  {
   "cell_type": "code",
   "execution_count": null,
   "id": "e82544e4",
   "metadata": {
    "vscode": {
     "languageId": "r"
    }
   },
   "outputs": [
    {
     "data": {
      "text/plain": [
       "\n",
       " Tumor_Gp1  Tumor_Gp2 Epi_Normal    Mixture \n",
       "     35838      18407      12952       7843 "
      ]
     },
     "metadata": {},
     "output_type": "display_data"
    }
   ],
   "source": [
    "f_epi_obj <- '../../stage4/a01_data/seuobj/epi.rds'\n",
    "\n",
    "scrna <- readRDS(f_epi_obj)\n",
    "scrna$macro_celltype <- 'Others'\n",
    "for (nm in names(ctype_ls)) {\n",
    "    scrna$macro_celltype[scrna$cell_type %in% ctype_ls[[nm]]] <- nm\n",
    "}\n",
    "scrna$macro_celltype <- factor(scrna$macro_celltype, levels = epi_gp_order)\n",
    "table(scrna$macro_celltype, useNA = 'ifany')"
   ]
  },
  {
   "cell_type": "code",
   "execution_count": null,
   "id": "1f36962f",
   "metadata": {
    "vscode": {
     "languageId": "r"
    }
   },
   "outputs": [
    {
     "data": {
      "text/plain": [
       "\n",
       " Tumor_Gp1  Tumor_Gp2 Epi_Normal \n",
       "     35838      18407      12952 "
      ]
     },
     "metadata": {},
     "output_type": "display_data"
    }
   ],
   "source": [
    "# no Mixture cells\n",
    "Idents(scrna) <- scrna$macro_celltype\n",
    "subdata <- subset(scrna, idents = 'Mixture', invert = TRUE)\n",
    "table(Idents(subdata), useNA = 'ifany')"
   ]
  },
  {
   "cell_type": "code",
   "execution_count": null,
   "id": "ba0559b3",
   "metadata": {
    "vscode": {
     "languageId": "r"
    }
   },
   "outputs": [
    {
     "name": "stderr",
     "output_type": "stream",
     "text": [
      "\u001b[1m\u001b[22mScale for \u001b[32mcolour\u001b[39m is already present.\n",
      "Adding another scale for \u001b[32mcolour\u001b[39m, which will replace the existing scale.\n"
     ]
    }
   ],
   "source": [
    "# manual selected markers based on top10 markers\n",
    "ctype_lvl <- intersect(names(ctype_ls), unique(scrna$macro_celltype))\n",
    "markers <- list(\n",
    "    'Epi' = c('EPCAM', 'KRT14', 'KRT15'),\n",
    "    'Epi Develop' = c('KRT6B', 'LGALS7B', 'KRT16', 'LY6D', 'TP63', 'LAMB3'),\n",
    "    # 'Antigen' = c('CTSD', 'HLA−DRA', 'HLA−DRB1', 'HLA−DRB5', 'HLA-DQA1', 'HLA-DPA1', 'HLA-DPB1', 'HLA-DQB1'),\n",
    "    'Immune Repress' = c('CD74', 'PTGES', 'S100P', 'RUNX3', 'TGFB1', 'CEACAM1', 'OAS1', 'HLA-E', 'CTSD'),\n",
    "    'Apoptosis Repress' = c('MUC1', 'PTGS2', 'PINK1', 'BCL2L1', 'SOD2', 'CCT3', 'PARP1')\n",
    ")\n",
    "subdata$macro_celltype <- factor(subdata$macro_celltype, levels = ctype_lvl)\n",
    "p <- DotPlot(subdata, features = markers, group.by = 'macro_celltype') +\n",
    "    scale_color_gsea() +\n",
    "    guides(color = guide_colorbar(title.position = 'top'),\n",
    "           size = guide_legend(title.position = 'top')) +\n",
    "    labs(x = '', y = '', color = 'Average Expression', size = 'Percent Expressed') +\n",
    "    theme(axis.text.x = element_text(angle = 60, hjust = 0.95, vjust = 0.95),\n",
    "          legend.position = 'top', legend.title.align = 0.5,\n",
    "          legend.justification = 0.5, legend.key.width = unit(1, 'cm'))\n",
    "ggsave(filename = str_glue('{outdir}/fig2h-dot_epi_marker-noMixture.pdf'), plot = p, width = 9, height = 4)"
   ]
  },
  {
   "cell_type": "markdown",
   "id": "6090484e",
   "metadata": {},
   "source": [
    "## 2h: macrotype by response: min50 result"
   ]
  },
  {
   "cell_type": "code",
   "execution_count": null,
   "id": "0d3c1391",
   "metadata": {
    "vscode": {
     "languageId": "r"
    }
   },
   "outputs": [],
   "source": [
    "f_epi_obs <- '../../stage4/a01_data/h5ad/epi_obs.csv'\n",
    "f_whole_obs <- '../../stage4/a01_data/h5ad/whole_obs.csv'\n",
    "min_cell <- 50"
   ]
  },
  {
   "cell_type": "code",
   "execution_count": null,
   "id": "b9f0faa7",
   "metadata": {
    "vscode": {
     "languageId": "r"
    }
   },
   "outputs": [
    {
     "name": "stderr",
     "output_type": "stream",
     "text": [
      "\u001b[1m\u001b[22mNew names:\n",
      "\u001b[36m•\u001b[39m `` -> `...1`\n",
      "\u001b[1m\u001b[22mNew names:\n",
      "\u001b[36m•\u001b[39m `` -> `...1`\n"
     ]
    },
    {
     "data": {
      "text/plain": [
       "              \n",
       "               Epi_Normal Mixture Tumor_Gp1 Tumor_Gp2\n",
       "  Epi_A_IL1R2        5726       0         0         0\n",
       "  Epi_A_MGP          2452       0         0         0\n",
       "  Epi_B_Mix             0     775         0         0\n",
       "  Epi_M_ACTL8           0       0         0       942\n",
       "  Epi_M_CALML3          0       0     35838         0\n",
       "  Epi_M_CPS1            0       0         0      7715\n",
       "  Epi_M_MYBPC1          0       0         0      4075\n",
       "  Epi_M_PKP2            0       0         0      1411\n",
       "  Epi_M_RNASE1          0       0         0      1719\n",
       "  Epi_M_SPRR3           0       0         0      2545\n",
       "  Epi_N_LTF            38       0         0         0\n",
       "  Epi_N_PIGR         4736       0         0         0\n",
       "  Epi_T_Mix             0    7068         0         0"
      ]
     },
     "metadata": {},
     "output_type": "display_data"
    },
    {
     "name": "stdout",
     "output_type": "stream",
     "text": [
      "\u001b[0m2024-02-05 02:49:55 INFO::these clinial info will be added: patient_id, response\u001b[0m\u001b[22m\u001b[23m\u001b[24m\u001b[27m\u001b[28m\u001b[29m\u001b[39m\u001b[49m\u001b[0m\u001b[0m\u001b[22m\u001b[23m\u001b[24m\u001b[27m\u001b[28m\u001b[29m\u001b[39m\u001b[49m\n"
     ]
    }
   ],
   "source": [
    "# calculate cell composition\n",
    "df_samp <- read_csv(f_whole_obs, show_col_types = F) %>% \n",
    "    count(sample, name = 'n_cell_samp')\n",
    "df <- read_csv(f_epi_obs, show_col_types = F) %>%\n",
    "    rename(cell_type_prev = cell_type)\n",
    "df$cell_type <- df$cell_type_prev\n",
    "for (nm in names(ctype_ls)) {\n",
    "    df$cell_type[df$cell_type_prev %in% ctype_ls[[nm]]] <- nm\n",
    "}\n",
    "table(df$cell_type_prev, df$cell_type)\n",
    "\n",
    "df <- cal_cell_comp(df_info = df, samp_cnt = df_samp, clinical_cols = 'patient') %>% \n",
    "    mutate(sample_type = case_match(sample_type, 'Baseline' ~ 'pre', 'Treat' ~ 'post')) %>% \n",
    "    add_clin_info(ftsv = f_pat_gp, columns = c('patient_id', gp), merge_by = 'patient') %>%\n",
    "    add_count(sample, name = 'n_cell_per_sample_ctype', wt = freq)  # count cell for each subtype each sample\n",
    "df %>% write_tsv(str_glue('{outdir}/fig2i-cell_comp-ek_hk.tsv'))"
   ]
  },
  {
   "cell_type": "code",
   "execution_count": null,
   "id": "d010456e",
   "metadata": {
    "vscode": {
     "languageId": "r"
    }
   },
   "outputs": [],
   "source": [
    "# for all samples\n",
    "p <- read_tsv(str_glue('{outdir}/fig2i-cell_comp-ek_hk.tsv'), show_col_types = F) %>% \n",
    "    filter(!is.na(.data[[gp]])) %>%\n",
    "    filter(cell_type %in% c('Tumor_Gp1', 'Tumor_Gp2', 'Epi_Normal')) %>%\n",
    "    mutate(cell_type = factor(cell_type, c('Tumor_Gp1', 'Tumor_Gp2', 'Epi_Normal'))) %>%\n",
    "    cell_comp_boxplot(x = c(gp, 'sample_type'), y = 'pct', pt_fill = gp,\n",
    "                      xorder = comb_order, fill_order = gp_lvls[[gp]], xangle = 60) +\n",
    "    stat_compare_means(comparisons = gp_comp_map[[gp]]) +\n",
    "    labs(y = 'Percent in Epi', fill = 'Response')\n",
    "ggsave(filename = str_glue('{outdir}/fig2i-box_cc_in_epi-macrotype-{gp}-all.pdf'), plot = p, width = 7, height = 5.5)\n",
    "\n",
    "# filter out samples without enough cells\n",
    "p <- read_tsv(str_glue('{outdir}/fig2i-cell_comp-ek_hk.tsv'), show_col_types = F) %>% \n",
    "    filter(n_cell_per_sample_ctype >= min_cell) %>%\n",
    "    filter(!is.na(.data[[gp]])) %>%\n",
    "    filter(cell_type %in% c('Tumor_Gp1', 'Tumor_Gp2', 'Epi_Normal')) %>%\n",
    "    mutate(cell_type = factor(cell_type, c('Tumor_Gp1', 'Tumor_Gp2', 'Epi_Normal'))) %>%\n",
    "    cell_comp_boxplot(x = c(gp, 'sample_type'), y = 'pct', pt_fill = gp,\n",
    "                      xorder = comb_order, fill_order = gp_lvls[[gp]], xangle = 60) +\n",
    "    stat_compare_means(comparisons = gp_comp_map[[gp]]) +\n",
    "    labs(y = 'Percent in Epi', fill = 'Response')\n",
    "ggsave(filename = str_glue('{outdir}/fig2i-box_cc_in_epi-macrotype-{gp}-min{min_cell}.pdf'), plot = p, width = 7, height = 5.5)"
   ]
  },
  {
   "cell_type": "markdown",
   "id": "49d72d8d",
   "metadata": {},
   "source": [
    "## 2i: scatter of TMB (CCF>=50%) vs EK percent in Epi: all result"
   ]
  },
  {
   "cell_type": "code",
   "execution_count": null,
   "id": "3d8e049f",
   "metadata": {
    "vscode": {
     "languageId": "r"
    }
   },
   "outputs": [],
   "source": [
    "f_ek_cc <- '../figures/fig2/fig2i-cell_comp-ek_hk.tsv'\n",
    "f_ccf_info <- '../figures/fig2/fig2-tmb-cff_gt_0.5-tn_pair-fresh-t.tsv'\n",
    "min_cell <- 50"
   ]
  },
  {
   "cell_type": "code",
   "execution_count": null,
   "id": "23fd2366",
   "metadata": {
    "vscode": {
     "languageId": "r"
    }
   },
   "outputs": [
    {
     "name": "stdout",
     "output_type": "stream",
     "text": [
      "\u001b[0m2024-02-23 20:23:52 INFO::35 samples\u001b[0m\u001b[22m\u001b[23m\u001b[24m\u001b[27m\u001b[28m\u001b[29m\u001b[39m\u001b[49m\u001b[0m\u001b[0m\u001b[22m\u001b[23m\u001b[24m\u001b[27m\u001b[28m\u001b[29m\u001b[39m\u001b[49m\n"
     ]
    }
   ],
   "source": [
    "# countruct data\n",
    "df <- read_tsv(f_ek_cc, show_col_types = F) %>% \n",
    "    filter(cell_type == 'Tumor_Gp1') %>% \n",
    "    select(patient_id, sample_type, n_cell_per_sample_ctype, ek_pct_in_epi = pct) \n",
    "df <- read_tsv(f_ccf_info, show_col_types = F) %>% \n",
    "    merge(df, by = c('patient_id', 'sample_type'))\n",
    "df %>% write_tsv(str_glue('{outdir}/fig2k-ek_pct-vs-tmb-ccf_gt_0.5-tn_pair-fresh-t.tsv'))\n",
    "loginfo('%g samples', length(unique(df$sample_id)))"
   ]
  },
  {
   "cell_type": "code",
   "execution_count": null,
   "id": "b7a387db",
   "metadata": {
    "vscode": {
     "languageId": "r"
    }
   },
   "outputs": [
    {
     "data": {
      "text/html": [
       "<table class=\"dataframe\">\n",
       "<caption>A data.frame: 2 × 14</caption>\n",
       "<thead>\n",
       "\t<tr><th scope=col>patient_id</th><th scope=col>sample_type</th><th scope=col>response</th><th scope=col>sample_id</th><th scope=col>mandard_group</th><th scope=col>response_degree</th><th scope=col>patient_gp</th><th scope=col>patient_gp_v2</th><th scope=col>n_mut_per_samp</th><th scope=col>ccf_type</th><th scope=col>n_mut_per_samp_ctype</th><th scope=col>n_mut_norm</th><th scope=col>n_cell_per_sample_ctype</th><th scope=col>ek_pct_in_epi</th></tr>\n",
       "\t<tr><th scope=col>&lt;chr&gt;</th><th scope=col>&lt;chr&gt;</th><th scope=col>&lt;chr&gt;</th><th scope=col>&lt;chr&gt;</th><th scope=col>&lt;chr&gt;</th><th scope=col>&lt;chr&gt;</th><th scope=col>&lt;chr&gt;</th><th scope=col>&lt;chr&gt;</th><th scope=col>&lt;dbl&gt;</th><th scope=col>&lt;chr&gt;</th><th scope=col>&lt;dbl&gt;</th><th scope=col>&lt;dbl&gt;</th><th scope=col>&lt;dbl&gt;</th><th scope=col>&lt;dbl&gt;</th></tr>\n",
       "</thead>\n",
       "<tbody>\n",
       "\t<tr><td>041</td><td>post</td><td>PR</td><td>03-041-T</td><td>poor</td><td>mild  </td><td>pEKD</td><td>pEKD</td><td>15</td><td>middle</td><td>14</td><td>0.9333333</td><td>1</td><td>0</td></tr>\n",
       "\t<tr><td>051</td><td>post</td><td>R </td><td>03-051-T</td><td>good</td><td>severe</td><td>good</td><td>good</td><td>10</td><td>middle</td><td> 6</td><td>0.6000000</td><td>2</td><td>0</td></tr>\n",
       "</tbody>\n",
       "</table>\n"
      ],
      "text/latex": [
       "A data.frame: 2 × 14\n",
       "\\begin{tabular}{llllllllllllll}\n",
       " patient\\_id & sample\\_type & response & sample\\_id & mandard\\_group & response\\_degree & patient\\_gp & patient\\_gp\\_v2 & n\\_mut\\_per\\_samp & ccf\\_type & n\\_mut\\_per\\_samp\\_ctype & n\\_mut\\_norm & n\\_cell\\_per\\_sample\\_ctype & ek\\_pct\\_in\\_epi\\\\\n",
       " <chr> & <chr> & <chr> & <chr> & <chr> & <chr> & <chr> & <chr> & <dbl> & <chr> & <dbl> & <dbl> & <dbl> & <dbl>\\\\\n",
       "\\hline\n",
       "\t 041 & post & PR & 03-041-T & poor & mild   & pEKD & pEKD & 15 & middle & 14 & 0.9333333 & 1 & 0\\\\\n",
       "\t 051 & post & R  & 03-051-T & good & severe & good & good & 10 & middle &  6 & 0.6000000 & 2 & 0\\\\\n",
       "\\end{tabular}\n"
      ],
      "text/markdown": [
       "\n",
       "A data.frame: 2 × 14\n",
       "\n",
       "| patient_id &lt;chr&gt; | sample_type &lt;chr&gt; | response &lt;chr&gt; | sample_id &lt;chr&gt; | mandard_group &lt;chr&gt; | response_degree &lt;chr&gt; | patient_gp &lt;chr&gt; | patient_gp_v2 &lt;chr&gt; | n_mut_per_samp &lt;dbl&gt; | ccf_type &lt;chr&gt; | n_mut_per_samp_ctype &lt;dbl&gt; | n_mut_norm &lt;dbl&gt; | n_cell_per_sample_ctype &lt;dbl&gt; | ek_pct_in_epi &lt;dbl&gt; |\n",
       "|---|---|---|---|---|---|---|---|---|---|---|---|---|---|\n",
       "| 041 | post | PR | 03-041-T | poor | mild   | pEKD | pEKD | 15 | middle | 14 | 0.9333333 | 1 | 0 |\n",
       "| 051 | post | R  | 03-051-T | good | severe | good | good | 10 | middle |  6 | 0.6000000 | 2 | 0 |\n",
       "\n"
      ],
      "text/plain": [
       "  patient_id sample_type response sample_id mandard_group response_degree\n",
       "1 041        post        PR       03-041-T  poor          mild           \n",
       "2 051        post        R        03-051-T  good          severe         \n",
       "  patient_gp patient_gp_v2 n_mut_per_samp ccf_type n_mut_per_samp_ctype\n",
       "1 pEKD       pEKD          15             middle   14                  \n",
       "2 good       good          10             middle    6                  \n",
       "  n_mut_norm n_cell_per_sample_ctype ek_pct_in_epi\n",
       "1 0.9333333  1                       0            \n",
       "2 0.6000000  2                       0            "
      ]
     },
     "metadata": {},
     "output_type": "display_data"
    }
   ],
   "source": [
    "df %>% filter(n_cell_per_sample_ctype < 50)"
   ]
  },
  {
   "cell_type": "code",
   "execution_count": null,
   "id": "771f5f29",
   "metadata": {
    "vscode": {
     "languageId": "r"
    }
   },
   "outputs": [
    {
     "name": "stdout",
     "output_type": "stream",
     "text": [
      "\u001b[0m2024-02-23 20:24:20 INFO::all: 35 samples\u001b[0m\u001b[22m\u001b[23m\u001b[24m\u001b[27m\u001b[28m\u001b[29m\u001b[39m\u001b[49m\u001b[0m\u001b[0m\u001b[22m\u001b[23m\u001b[24m\u001b[27m\u001b[28m\u001b[29m\u001b[39m\u001b[49m\n",
      "\u001b[0m2024-02-23 20:24:21 INFO::min50: 33 samples\u001b[0m\u001b[22m\u001b[23m\u001b[24m\u001b[27m\u001b[28m\u001b[29m\u001b[39m\u001b[49m\u001b[0m\u001b[0m\u001b[22m\u001b[23m\u001b[24m\u001b[27m\u001b[28m\u001b[29m\u001b[39m\u001b[49m\n"
     ]
    }
   ],
   "source": [
    "for (suf in c('all', str_glue('min{min_cell}'))) {\n",
    "    if (suf == 'all') {\n",
    "        dp <- df\n",
    "    } else {\n",
    "        dp <- filter(df, n_cell_per_sample_ctype >= min_cell)\n",
    "    }\n",
    "    loginfo('%s: %g samples', suf, length(unique(dp$sample_id)))\n",
    "    p <- ggscatter(data = dp, x = 'ek_pct_in_epi', y = 'n_mut_per_samp_ctype', conf.int = TRUE,\n",
    "                   add = 'reg.line', add.params = list(color = \"blue\", fill = 'lightgray'), \n",
    "                   cor.coef = TRUE, cor.coeff.args = list(method = \"pearson\")) +\n",
    "        scale_y_log10() + \n",
    "        labs(x = 'Percent of Tumor_Gp1 cells in Epi', y = 'Mutation count (CCF>=50%)')\n",
    "    ggsave(filename = str_glue('{outdir}/fig2k-scatter-ek_pct-vs-tmb_ccf_gt_0.5-tn_pair-fresh-t-{suf}.pdf'),\n",
    "           plot = p, width = 4, height = 4)\n",
    "}"
   ]
  },
  {
   "cell_type": "markdown",
   "id": "dbb4cf25",
   "metadata": {},
   "source": [
    "## 2k: survival plot by zhaoren !!!"
   ]
  },
  {
   "cell_type": "code",
   "execution_count": null,
   "id": "805e52e0",
   "metadata": {
    "vscode": {
     "languageId": "python"
    }
   },
   "outputs": [],
   "source": []
  },
  {
   "cell_type": "markdown",
   "id": "5093d64b",
   "metadata": {},
   "source": [
    "## 2j: immune related cell communication\n",
    "\n",
    "- desc: only T cells relevant pairs; T cells as target (exclude Epi_normal/mixture); use sample by sample results"
   ]
  },
  {
   "cell_type": "code",
   "execution_count": null,
   "id": "7dd03dea",
   "metadata": {
    "vscode": {
     "languageId": "r"
    }
   },
   "outputs": [],
   "source": [
    "f_full <- '../../stage4/a21_cell_comm/ek_hk_major/analysis/v2-interactions-with_clin-full.tsv'\n",
    "f_interset <- '../../stage4/a21_cell_comm/immune_related_lg_cellchat_merge.tsv'\n",
    "ctype_color <- c(\n",
    "    'B & Plasma' = '#e71818', 'Tumor_Gp1' = '#317dbd', 'Endothelial' = '#46ae46',\n",
    "    'Fibroblast' = '#9c4da5', 'Tumor_Gp2' = '#f79600', 'Myeloid' = '#f782bd', 'T cells' = '#bd9ece'\n",
    ")\n",
    "\n",
    "min_cell <- 50  # ligand/receptor should expressed in min_cell source/target cells\n",
    "min_sample_num <- 3  # interaction should detected in these samples intra sample group\n",
    "thresh <- 0.05  # significant threshold"
   ]
  },
  {
   "cell_type": "markdown",
   "id": "54a9cf15",
   "metadata": {},
   "source": [
    "### preprocess"
   ]
  },
  {
   "cell_type": "code",
   "execution_count": null,
   "id": "1e9a51d2",
   "metadata": {
    "vscode": {
     "languageId": "r"
    }
   },
   "outputs": [
    {
     "name": "stdout",
     "output_type": "stream",
     "text": [
      "\u001b[0m2024-03-04 15:00:26 INFO::total 251965 interactions, 81 samples\u001b[0m\u001b[22m\u001b[23m\u001b[24m\u001b[27m\u001b[28m\u001b[29m\u001b[39m\u001b[49m\u001b[0m\u001b[0m\u001b[22m\u001b[23m\u001b[24m\u001b[27m\u001b[28m\u001b[29m\u001b[39m\u001b[49m\n",
      "\u001b[0m2024-03-04 15:00:26 INFO::65 intersted interactions\u001b[0m\u001b[22m\u001b[23m\u001b[24m\u001b[27m\u001b[28m\u001b[29m\u001b[39m\u001b[49m\u001b[0m\u001b[0m\u001b[22m\u001b[23m\u001b[24m\u001b[27m\u001b[28m\u001b[29m\u001b[39m\u001b[49m\n"
     ]
    }
   ],
   "source": [
    "# all results  \n",
    "df_raw <- read_tsv(f_full, show_col_types = F) %>%\n",
    "    mutate(sample_type = case_match(sample_type, 'Baseline' ~ 'pre', 'Treat' ~ 'post'),\n",
    "           response = case_match(mandard_group, 'good' ~ 'R', 'poor' ~ 'PR')) %>% \n",
    "    select(-c('mandard_group')) %>%\n",
    "    mutate(source = case_match(source, 'EK_tumor' ~ 'Tumor_Gp1', 'HK_tumor' ~ 'Tumor_Gp2', .default = source),\n",
    "           target = case_match(target, 'EK_tumor' ~ 'Tumor_Gp1', 'HK_tumor' ~ 'Tumor_Gp2', .default = target))\n",
    "loginfo('total %g interactions, %g samples', nrow(df_raw), length(unique(df_raw$sample)))\n",
    "\n",
    "# interested cell-cell interactions\n",
    "df_comm <- read_tsv(f_interset, show_col_types = F) %>% \n",
    "    filter(gene_type == 'receptor') %>% \n",
    "    select(interaction_name, immune_direction) %>% \n",
    "    distinct() \n",
    "loginfo('%g intersted interactions', nrow(df_comm))"
   ]
  },
  {
   "cell_type": "code",
   "execution_count": null,
   "id": "d0443d01",
   "metadata": {
    "vscode": {
     "languageId": "r"
    }
   },
   "outputs": [
    {
     "name": "stdout",
     "output_type": "stream",
     "text": [
      "\u001b[0m2024-03-04 15:00:30 INFO::16885 T cells relevant pairs, 81 samples\u001b[0m\u001b[22m\u001b[23m\u001b[24m\u001b[27m\u001b[28m\u001b[29m\u001b[39m\u001b[49m\u001b[0m\u001b[0m\u001b[22m\u001b[23m\u001b[24m\u001b[27m\u001b[28m\u001b[29m\u001b[39m\u001b[49m\n",
      "\u001b[0m2024-03-04 15:00:30 INFO::filter by cell number >= 50: 14965 records, 81 samples\u001b[0m\u001b[22m\u001b[23m\u001b[24m\u001b[27m\u001b[28m\u001b[29m\u001b[39m\u001b[49m\u001b[0m\u001b[0m\u001b[22m\u001b[23m\u001b[24m\u001b[27m\u001b[28m\u001b[29m\u001b[39m\u001b[49m\n",
      "\u001b[0m2024-03-04 15:00:30 INFO::only intersted interactions: 996 records, 73 samples\u001b[0m\u001b[22m\u001b[23m\u001b[24m\u001b[27m\u001b[28m\u001b[29m\u001b[39m\u001b[49m\u001b[0m\u001b[0m\u001b[22m\u001b[23m\u001b[24m\u001b[27m\u001b[28m\u001b[29m\u001b[39m\u001b[49m\n",
      "\u001b[0m2024-03-04 15:00:30 INFO::samples with response info: 799 pairs, 62 samples\u001b[0m\u001b[22m\u001b[23m\u001b[24m\u001b[27m\u001b[28m\u001b[29m\u001b[39m\u001b[49m\u001b[0m\u001b[0m\u001b[22m\u001b[23m\u001b[24m\u001b[27m\u001b[28m\u001b[29m\u001b[39m\u001b[49m\n",
      "\u001b[0m2024-03-04 15:00:30 INFO::filter by sample number >= 3: 707 records, 62 samples\u001b[0m\u001b[22m\u001b[23m\u001b[24m\u001b[27m\u001b[28m\u001b[29m\u001b[39m\u001b[49m\u001b[0m\u001b[0m\u001b[22m\u001b[23m\u001b[24m\u001b[27m\u001b[28m\u001b[29m\u001b[39m\u001b[49m\n",
      "\u001b[0m2024-03-04 15:00:30 INFO::filter out interactions all insignificant intra sample group: 707 records, 62 samples\u001b[0m\u001b[22m\u001b[23m\u001b[24m\u001b[27m\u001b[28m\u001b[29m\u001b[39m\u001b[49m\u001b[0m\u001b[0m\u001b[22m\u001b[23m\u001b[24m\u001b[27m\u001b[28m\u001b[29m\u001b[39m\u001b[49m\n"
     ]
    }
   ],
   "source": [
    "# only T cells relevant L-R pairs\n",
    "df <- df_raw %>% \n",
    "    filter(target == 'T cells',\n",
    "           !source %in% c('Epi_Norm', 'Epi_Others'))\n",
    "loginfo('%g T cells relevant pairs, %g samples', nrow(df), length(unique(df$sample)))\n",
    "\n",
    "# filter by cell number\n",
    "df <- df %>% \n",
    "    filter(n_cell_receptor_in_target_max >= min_cell, \n",
    "           n_cell_ligand_in_source_max >= min_cell)\n",
    "loginfo('filter by cell number >= %g: %g records, %g samples',\n",
    "        min_cell, nrow(df), length(unique(df$sample)))\n",
    "\n",
    "# only intersted interactions\n",
    "df <- merge(df, df_comm, by = 'interaction_name')\n",
    "loginfo('only intersted interactions: %g records, %g samples', nrow(df), length(unique(df$sample)))\n",
    "\n",
    "# only samples with clinical info\n",
    "df_flt <- df %>% \n",
    "    filter(.data[[gp]] %in% gp_lvls[[gp]])\n",
    "loginfo('samples with %s info: %g pairs, %g samples', gp, nrow(df_flt), length(unique(df_flt$sample)))\n",
    "\n",
    "# filter by sample number\n",
    "df_flt <- df_flt %>% \n",
    "    add_count(.data[[gp]], sample_type, source, target, interaction_name, name = 'n_sample') %>% \n",
    "    filter(n_sample >= min_sample_num)\n",
    "loginfo('filter by sample number >= %g: %g records, %g samples',\n",
    "        min_sample_num, nrow(df_flt), length(unique(df_flt$sample)))\n",
    "\n",
    "# filter in-significant interactions\n",
    "df_flt <- df_flt %>%\n",
    "    summarise(.by = c(gp, 'sample_type', 'source', 'target', 'interaction_name'),\n",
    "              p_min = min(pval)) %>%\n",
    "    filter(p_min <= thresh) %>%\n",
    "    select(.data[[gp]], sample_type, source, target, interaction_name) %>%\n",
    "    merge(df_flt, by = c(gp, 'sample_type', 'source', 'target', 'interaction_name'))\n",
    "loginfo('filter out interactions all insignificant intra sample group: %g records, %g samples',\n",
    "        nrow(df_flt), length(unique(df_flt$sample)))"
   ]
  },
  {
   "cell_type": "code",
   "execution_count": null,
   "id": "08571f1f",
   "metadata": {
    "vscode": {
     "languageId": "r"
    }
   },
   "outputs": [],
   "source": [
    "# init node info\n",
    "df_node <- data.frame(name = sort(unique(c(df_flt$source, df_flt$target))))\n",
    "df_node$node_color <- NA\n",
    "for (nm in names(ctype_color)) {\n",
    "    df_node$node_color[df_node$name == nm] <- ctype_color[nm]\n",
    "}\n",
    "\n",
    "# init edges\n",
    "df_edge <- df_flt %>% \n",
    "    summarise(.by = c(.data[[gp]], sample_type, 'source', 'target', 'interaction_name', 'immune_direction'),\n",
    "              prob_agg = mean(prob)) %>%  # summarise for samples of each interaction\n",
    "    add_count(.data[[gp]], sample_type, source, target, immune_direction, name = 'n_interaction') %>% \n",
    "    summarise(.by = c(gp, 'sample_type', 'source', 'target', 'n_interaction', 'immune_direction'),\n",
    "              prob_mean = mean(prob_agg),\n",
    "              prob_med = median(prob_agg)) # summarise for interaction \n",
    "# add edge color (color by source)\n",
    "df_edge <- df_node %>% \n",
    "    select(source = name, edge_color = node_color) %>% \n",
    "    merge(df_edge, by = 'source') %>% \n",
    "    select(source, target, edge_color, n_interaction, prob_mean, prob_med, .data[[gp]], sample_type, immune_direction)\n",
    "\n",
    "df_node %>% write_tsv(str_glue('{outdir}/figs3d-t_immune-node.tsv'))\n",
    "df_edge %>% write_tsv(str_glue('{outdir}/figs3d-t_immune-edge.tsv'))"
   ]
  },
  {
   "cell_type": "markdown",
   "id": "ecb0b57f",
   "metadata": {},
   "source": [
    "### vlz"
   ]
  },
  {
   "cell_type": "code",
   "execution_count": null,
   "id": "b4ef9b47",
   "metadata": {
    "vscode": {
     "languageId": "r"
    }
   },
   "outputs": [],
   "source": [
    "coords <- as.matrix(data.frame(\n",
    "    c(1.0000000, -0.2225209, -0.9009689, -0.9009689, -0.2225209, 0.6234898, 0.6234898),\n",
    "    c(0.0000000, -0.9749279, 0.4338837, -0.4338837, 0.9749279, 0.7818315, -0.7818315)\n",
    "))"
   ]
  },
  {
   "cell_type": "code",
   "execution_count": null,
   "id": "e4d8e910",
   "metadata": {
    "vscode": {
     "languageId": "r"
    }
   },
   "outputs": [
    {
     "data": {
      "text/html": [
       "<strong>png:</strong> 2"
      ],
      "text/latex": [
       "\\textbf{png:} 2"
      ],
      "text/markdown": [
       "**png:** 2"
      ],
      "text/plain": [
       "png \n",
       "  2 "
      ]
     },
     "metadata": {},
     "output_type": "display_data"
    }
   ],
   "source": [
    "# weight by prob\n",
    "weight_by <- 'prob_mean'\n",
    "jp_opt(wd=14, hg = 6, res = 200)\n",
    "pdf(file = str_glue('{outdir}/figs3d-t_immune-prob.pdf'), width = 14, height = 6)\n",
    "par(mfrow = c(2, 4), mar = c(1.5, 0, 1.5, 0.5))\n",
    "for (d in unique(df_edge$immune_direction)) {\n",
    "    for (stype in c('pre', 'post')) {\n",
    "        for (my_gp in gp_lvls[[gp]]) {\n",
    "            dp_edge <- filter(df_edge, .data[[gp]] == my_gp, sample_type == stype, immune_direction == d)\n",
    "            if (nrow(dp_edge) == 0) {\n",
    "                plot.new()\n",
    "                next\n",
    "            }\n",
    "            # plot\n",
    "            net <- graph_from_data_frame(d = dp_edge, vertices = df_node, directed = T)\n",
    "            plot(net, \n",
    "                 edge.arrow.size = 0.5, \n",
    "                 edge.curved = 0.4,\n",
    "                 edge.color = E(net)$edge_color,\n",
    "                 edge.width = get.edge.attribute(net, weight_by) * 300,\n",
    "                 edge.label = round(get.edge.attribute(net, weight_by) * 100, 1),\n",
    "                 edge.label.cex = 1,\n",
    "                 vertex.size = 30,\n",
    "                 vertex.color = V(net)$node_color,\n",
    "                 vertex.label.color = \"black\",\n",
    "                 vertex.label.cex = 1,\n",
    "                 layout = coords,\n",
    "                 main = str_glue('T cells {d} incoming signals in {my_gp}-{stype}'))\n",
    "        }\n",
    "    }\n",
    "}\n",
    "dev.off()"
   ]
  },
  {
   "cell_type": "markdown",
   "id": "d3ecaa92",
   "metadata": {},
   "source": [
    "## 2l: EK tumor in response v2 (PR to GP1+/- and other PR)\n",
    "\n",
    "min 50 Epi cells per sample"
   ]
  },
  {
   "cell_type": "code",
   "execution_count": null,
   "id": "bd0b1d0c",
   "metadata": {
    "vscode": {
     "languageId": "r"
    }
   },
   "outputs": [
    {
     "data": {
      "text/html": [
       "<style>\n",
       ".list-inline {list-style: none; margin:0; padding: 0}\n",
       ".list-inline>li {display: inline-block}\n",
       ".list-inline>li:not(:last-child)::after {content: \"\\00b7\"; padding: 0 .5ex}\n",
       "</style>\n",
       "<ol class=list-inline><li>81</li><li>11</li></ol>\n"
      ],
      "text/latex": [
       "\\begin{enumerate*}\n",
       "\\item 81\n",
       "\\item 11\n",
       "\\end{enumerate*}\n"
      ],
      "text/markdown": [
       "1. 81\n",
       "2. 11\n",
       "\n",
       "\n"
      ],
      "text/plain": [
       "[1] 81 11"
      ]
     },
     "metadata": {},
     "output_type": "display_data"
    }
   ],
   "source": [
    "min_cell <- 50\n",
    "df <- read_tsv(str_glue('{outdir}/fig2i-cell_comp-ek_hk.tsv'), show_col_types = F) %>% \n",
    "    filter(cell_type == 'Tumor_Gp1')\n",
    "df %>% dim"
   ]
  },
  {
   "cell_type": "code",
   "execution_count": null,
   "id": "b13bb425",
   "metadata": {
    "vscode": {
     "languageId": "r"
    }
   },
   "outputs": [
    {
     "data": {
      "text/html": [
       "<style>\n",
       ".list-inline {list-style: none; margin:0; padding: 0}\n",
       ".list-inline>li {display: inline-block}\n",
       ".list-inline>li:not(:last-child)::after {content: \"\\00b7\"; padding: 0 .5ex}\n",
       "</style>\n",
       "<ol class=list-inline><li>29</li><li>5</li></ol>\n"
      ],
      "text/latex": [
       "\\begin{enumerate*}\n",
       "\\item 29\n",
       "\\item 5\n",
       "\\end{enumerate*}\n"
      ],
      "text/markdown": [
       "1. 29\n",
       "2. 5\n",
       "\n",
       "\n"
      ],
      "text/plain": [
       "[1] 29  5"
      ]
     },
     "metadata": {},
     "output_type": "display_data"
    },
    {
     "data": {
      "text/plain": [
       "      \n",
       "       Gp1- Gp1+ PR  R <NA>\n",
       "  PR      8    5  6  0    0\n",
       "  R       0    0  0 32    0\n",
       "  <NA>    0    0  0  0   19"
      ]
     },
     "metadata": {},
     "output_type": "display_data"
    },
    {
     "name": "stdout",
     "output_type": "stream",
     "text": [
      "\u001b[0m2024-02-05 21:54:47 INFO::these clinial info will be added: response_v2\u001b[0m\u001b[22m\u001b[23m\u001b[24m\u001b[27m\u001b[28m\u001b[29m\u001b[39m\u001b[49m\u001b[0m\u001b[0m\u001b[22m\u001b[23m\u001b[24m\u001b[27m\u001b[28m\u001b[29m\u001b[39m\u001b[49m\n"
     ]
    }
   ],
   "source": [
    "# redefine patient group\n",
    "cc_diff <- df %>% \n",
    "    pivot_wider(id_cols = c('patient', gp), names_from = 'sample_type', values_from = 'pct') %>% \n",
    "    filter(!is.na(pre), !is.na(post)) %>%  # remove unpaired patients\n",
    "    mutate(diff = post - pre)\n",
    "cc_diff %>% dim\n",
    "\n",
    "pat_pEKI <- filter(cc_diff, .data[[gp]] == 'PR', diff > 0) %>% pull(patient)  # patients whose EK tumor increased after treat\n",
    "pat_pEKD <- filter(cc_diff, .data[[gp]] == 'PR', diff < 0) %>% pull(patient)  # patients whose EK tumor decreased after treat\n",
    "\n",
    "df_gp <- read_tsv(f_pat_gp, show_col_types = F) %>% \n",
    "    mutate(response_v2 = case_when(\n",
    "        patient %in% pat_pEKD ~ 'Gp1-',\n",
    "        patient %in% pat_pEKI ~ 'Gp1+',\n",
    "        TRUE ~ .data[[gp]]\n",
    "    ))\n",
    "# update clin info\n",
    "df_gp %>% write_tsv('../tables/patient_info_v2.tsv')\n",
    "table(df_gp[[gp]], df_gp$response_v2, useNA = 'ifany')\n",
    "# update cell composition\n",
    "df <- add_clin_info(df = df, ftsv = '../tables/patient_info_v2.tsv', columns = 'response_v2', merge_by = 'patient')\n",
    "df %>% write_tsv(str_glue('{outdir}/fig2m-cell_comp-ek.tsv'))"
   ]
  },
  {
   "cell_type": "code",
   "execution_count": null,
   "id": "4503b9f8",
   "metadata": {
    "vscode": {
     "languageId": "r"
    }
   },
   "outputs": [],
   "source": [
    "# for all samples\n",
    "curr_gp <- 'response_v2'\n",
    "p <- read_tsv(str_glue('{outdir}/fig2m-cell_comp-ek.tsv'), show_col_types = F) %>% \n",
    "    filter(!is.na(.data[[curr_gp]])) %>%\n",
    "    cell_comp_boxplot(x = c(curr_gp, 'sample_type'), y = 'pct', facet_by = NULL, pt_fill = curr_gp,\n",
    "                      xorder = comb_order_v2, fill_order = gp_lvls[[curr_gp]], xangle = 60) +\n",
    "    stat_compare_means(comparisons = gp_comp_map[[curr_gp]]) +\n",
    "    labs(y = 'Percent of Tumor_Gp1 cells in Epi', fill = 'Detailed\\nresponse') +\n",
    "    theme(legend.position = 'right')\n",
    "ggsave(filename = str_glue('{outdir}/fig2m-box_cc_in_epi-macrotype-{curr_gp}-all.pdf'), plot = p, width = 5, height = 6)\n",
    "\n",
    "# filter out samples without enough cells\n",
    "p <- read_tsv(str_glue('{outdir}/fig2m-cell_comp-ek.tsv'), show_col_types = F) %>% \n",
    "    filter(n_cell_per_sample_ctype >= min_cell) %>%\n",
    "    filter(!is.na(.data[[curr_gp]])) %>%\n",
    "    cell_comp_boxplot(x = c(curr_gp, 'sample_type'), y = 'pct', facet_by = NULL, pt_fill = curr_gp,\n",
    "                      xorder = comb_order_v2, fill_order = gp_lvls[[curr_gp]], xangle = 60) +\n",
    "    stat_compare_means(comparisons = gp_comp_map[[curr_gp]]) +\n",
    "    labs(y = 'Percent of Tumor_Gp1 cells in Epi', fill = 'Detailed\\nresponse') +\n",
    "    theme(legend.position = 'right')\n",
    "ggsave(filename = str_glue('{outdir}/fig2m-box_cc_in_epi-macrotype-{curr_gp}-min{min_cell}.pdf'), plot = p, width = 5, height = 6)"
   ]
  },
  {
   "cell_type": "markdown",
   "id": "41336000",
   "metadata": {},
   "source": [
    "## 2m: Treg expaned percent boxplot: min10 result\n",
    "\n",
    "- percent in T cells (RNA & TCR data), n_cell_per_sample_subtype >= 10, by response-v2\n",
    "- 2024-02-27: now is fig2m"
   ]
  },
  {
   "cell_type": "code",
   "execution_count": null,
   "id": "e954b79b",
   "metadata": {
    "vscode": {
     "languageId": "r"
    }
   },
   "outputs": [
    {
     "name": "stdout",
     "output_type": "stream",
     "text": [
      "\u001b[0m2024-02-05 03:10:19 INFO::these clinial info will be added: patient_id, mandard_group, response_degree, treatment_group, patient_gp, patient_gp_v2, response, response_v2\u001b[0m\u001b[22m\u001b[23m\u001b[24m\u001b[27m\u001b[28m\u001b[29m\u001b[39m\u001b[49m\u001b[0m\u001b[0m\u001b[22m\u001b[23m\u001b[24m\u001b[27m\u001b[28m\u001b[29m\u001b[39m\u001b[49m\n",
      "\u001b[0m2024-02-05 03:10:19 INFO::Treg: 160 records, 81 samples\u001b[0m\u001b[22m\u001b[23m\u001b[24m\u001b[27m\u001b[28m\u001b[29m\u001b[39m\u001b[49m\u001b[0m\u001b[0m\u001b[22m\u001b[23m\u001b[24m\u001b[27m\u001b[28m\u001b[29m\u001b[39m\u001b[49m\n"
     ]
    }
   ],
   "source": [
    "f_expand <- '../../stage4/a03_tcr/expansion/expand_cell_pct.csv'\n",
    "f_pat_gp_v2 <- '../tables/patient_info_v2.tsv'\n",
    "min_cell <- 10\n",
    "valid_types <- c('Treg_LTB', 'Treg_TNFRSF4')\n",
    "\n",
    "df <- read_csv(file = f_expand, show_col_types = F) %>%\n",
    "    filter(subtype %in% valid_types) %>%\n",
    "    mutate(sample = paste(patient, sample_type, sep = '-')) %>%\n",
    "    select(sample, sample_type, patient, subtype, n_expand_cell_per_sample_stype, n_cell_per_sample_subtype, pct_by_subtype) %>%\n",
    "    add_clin_info(ftsv = f_pat_gp_v2, columns = NULL, merge_by = 'patient') %>%\n",
    "    mutate(macrotype = 'Treg') %>%\n",
    "    mutate(sample_type = case_match(sample_type, 'Baseline' ~ 'pre', 'Treat' ~ 'post'))\n",
    "loginfo('Treg: %g records, %g samples', nrow(df), length(unique(df$sample)))\n",
    "\n",
    "write_tsv(x = df, file = str_glue('{outdir}/fig2n-Treg_expand_percet-by_subtype.tsv'))"
   ]
  },
  {
   "cell_type": "code",
   "execution_count": null,
   "id": "a5c20b45",
   "metadata": {
    "vscode": {
     "languageId": "r"
    }
   },
   "outputs": [
    {
     "data": {
      "text/html": [
       "<table class=\"dataframe\">\n",
       "<caption>A data.frame: 6 × 3</caption>\n",
       "<thead>\n",
       "\t<tr><th scope=col>sample</th><th scope=col>response_v2</th><th scope=col>n</th></tr>\n",
       "\t<tr><th scope=col>&lt;chr&gt;</th><th scope=col>&lt;chr&gt;</th><th scope=col>&lt;int&gt;</th></tr>\n",
       "</thead>\n",
       "<tbody>\n",
       "\t<tr><td>P01-Treat</td><td>R   </td><td>2</td></tr>\n",
       "\t<tr><td>P13-Treat</td><td>Gp1-</td><td>1</td></tr>\n",
       "\t<tr><td>P25-Treat</td><td>R   </td><td>1</td></tr>\n",
       "\t<tr><td>P43-Treat</td><td>R   </td><td>2</td></tr>\n",
       "\t<tr><td>P46-Treat</td><td>R   </td><td>2</td></tr>\n",
       "\t<tr><td>P51-Treat</td><td>R   </td><td>1</td></tr>\n",
       "</tbody>\n",
       "</table>\n"
      ],
      "text/latex": [
       "A data.frame: 6 × 3\n",
       "\\begin{tabular}{lll}\n",
       " sample & response\\_v2 & n\\\\\n",
       " <chr> & <chr> & <int>\\\\\n",
       "\\hline\n",
       "\t P01-Treat & R    & 2\\\\\n",
       "\t P13-Treat & Gp1- & 1\\\\\n",
       "\t P25-Treat & R    & 1\\\\\n",
       "\t P43-Treat & R    & 2\\\\\n",
       "\t P46-Treat & R    & 2\\\\\n",
       "\t P51-Treat & R    & 1\\\\\n",
       "\\end{tabular}\n"
      ],
      "text/markdown": [
       "\n",
       "A data.frame: 6 × 3\n",
       "\n",
       "| sample &lt;chr&gt; | response_v2 &lt;chr&gt; | n &lt;int&gt; |\n",
       "|---|---|---|\n",
       "| P01-Treat | R    | 2 |\n",
       "| P13-Treat | Gp1- | 1 |\n",
       "| P25-Treat | R    | 1 |\n",
       "| P43-Treat | R    | 2 |\n",
       "| P46-Treat | R    | 2 |\n",
       "| P51-Treat | R    | 1 |\n",
       "\n"
      ],
      "text/plain": [
       "  sample    response_v2 n\n",
       "1 P01-Treat R           2\n",
       "2 P13-Treat Gp1-        1\n",
       "3 P25-Treat R           1\n",
       "4 P43-Treat R           2\n",
       "5 P46-Treat R           2\n",
       "6 P51-Treat R           1"
      ]
     },
     "metadata": {},
     "output_type": "display_data"
    }
   ],
   "source": [
    "df %>% filter(n_cell_per_sample_subtype < 10) %>% count(sample, response_v2)"
   ]
  },
  {
   "cell_type": "code",
   "execution_count": null,
   "id": "1d15817a",
   "metadata": {
    "vscode": {
     "languageId": "r"
    }
   },
   "outputs": [
    {
     "name": "stdout",
     "output_type": "stream",
     "text": [
      "\u001b[0m2024-02-05 03:11:25 INFO::all: 76 samples\u001b[0m\u001b[22m\u001b[23m\u001b[24m\u001b[27m\u001b[28m\u001b[29m\u001b[39m\u001b[49m\u001b[0m\u001b[0m\u001b[22m\u001b[23m\u001b[24m\u001b[27m\u001b[28m\u001b[29m\u001b[39m\u001b[49m\n",
      "\u001b[0m2024-02-05 03:11:26 INFO::min10: 81 samples\u001b[0m\u001b[22m\u001b[23m\u001b[24m\u001b[27m\u001b[28m\u001b[29m\u001b[39m\u001b[49m\u001b[0m\u001b[0m\u001b[22m\u001b[23m\u001b[24m\u001b[27m\u001b[28m\u001b[29m\u001b[39m\u001b[49m\n"
     ]
    }
   ],
   "source": [
    "# response v2, subtype\n",
    "curr_gp <- 'response_v2'\n",
    "for (suf in c('all', str_glue('min{min_cell}'))){\n",
    "    if (suf != 'all') {\n",
    "        dp <- df\n",
    "    } else {\n",
    "        dp <- filter(df, n_cell_per_sample_subtype >= 10)\n",
    "    }\n",
    "    loginfo('%s: %g samples', suf, length(unique(dp$sample)))\n",
    "    p <- dp %>% \n",
    "        filter(.data[[curr_gp]] %in% gp_lvls[[curr_gp]]) %>%\n",
    "        cell_comp_boxplot(x = c(curr_gp, 'sample_type'),  y = 'pct_by_subtype', pt_fill = curr_gp, facet_by = 'subtype', \n",
    "                          xorder = comb_order_v2, fill_order = gp_lvls[[curr_gp]], ncol = 7, wrap_free = 'free',\n",
    "                          xangle = 60, ytitle = 'Expanded cell percent') + \n",
    "        labs(fill = 'Detailed response') +\n",
    "        stat_compare_means(comparisons = gp_comp_map[[curr_gp]]) \n",
    "    ggsave(filename = str_glue('{outdir}/fig2n-box_expand_in_subtype-detail-{curr_gp}-{suf}.pdf'), plot = p, width = 5, height = 6)\n",
    "}"
   ]
  },
  {
   "cell_type": "markdown",
   "id": "68cea4d3",
   "metadata": {},
   "source": [
    "## 2n-0: virus cell percent\n",
    "\n",
    "- date: 2024-02-27"
   ]
  },
  {
   "cell_type": "markdown",
   "id": "eb17cbb2",
   "metadata": {},
   "source": [
    "### 2n: pct in all cells, R-pre vs PR-pre "
   ]
  },
  {
   "cell_type": "code",
   "execution_count": null,
   "id": "f79478ed",
   "metadata": {
    "vscode": {
     "languageId": "r"
    }
   },
   "outputs": [],
   "source": [
    "f_obs <- '../../stage4/a24_microbe/domain_lvl/whole_obs_with_domain_logrpm.rds'\n",
    "min_cell <- 50\n",
    "cutoff <- 0"
   ]
  },
  {
   "cell_type": "code",
   "execution_count": null,
   "id": "f132428b",
   "metadata": {
    "vscode": {
     "languageId": "r"
    }
   },
   "outputs": [
    {
     "name": "stdout",
     "output_type": "stream",
     "text": [
      "\u001b[0m2024-02-27 14:29:42 INFO::these clinial info will be added: response\u001b[0m\u001b[22m\u001b[23m\u001b[24m\u001b[27m\u001b[28m\u001b[29m\u001b[39m\u001b[49m\u001b[0m\u001b[0m\u001b[22m\u001b[23m\u001b[24m\u001b[27m\u001b[28m\u001b[29m\u001b[39m\u001b[49m\n",
      "\u001b[0m2024-02-27 14:29:42 INFO::81 records\u001b[0m\u001b[22m\u001b[23m\u001b[24m\u001b[27m\u001b[28m\u001b[29m\u001b[39m\u001b[49m\u001b[0m\u001b[0m\u001b[22m\u001b[23m\u001b[24m\u001b[27m\u001b[28m\u001b[29m\u001b[39m\u001b[49m\n"
     ]
    }
   ],
   "source": [
    "df <- readRDS(f_obs) %>% \n",
    "    mutate(bi_type = case_when(\n",
    "        is.na(Viruses) ~ NA_character_,\n",
    "        Viruses > cutoff ~ 'Virus-detected',\n",
    "        Viruses <= cutoff ~ 'Non-detected',\n",
    "        TRUE ~ 'others'\n",
    "    )) %>%\n",
    "    count(sample, bi_type, name = 'n_cell') %>%\n",
    "    add_count(sample, wt = n_cell, name = 'n_cell_per_sample') %>%\n",
    "    filter(n_cell_per_sample >= min_cell) %>%\n",
    "    mutate(pct = 100 * n_cell / n_cell_per_sample) %>%\n",
    "    pivot_wider(id_cols = c('sample'), \n",
    "                names_from = 'bi_type', values_from = 'pct', values_fill = 0) %>%\n",
    "    separate(col = 'sample', into = c('patient', 'sample_type'), sep = '-', remove = F) %>%\n",
    "    mutate(sample_type = case_match(sample_type, 'Baseline' ~ 'pre', 'Treat' ~ 'post')) %>%\n",
    "    add_clin_info(ftsv = f_pat_gp, columns = gp, merge_by = 'patient')\n",
    "loginfo('%g records', nrow(df))\n",
    "df %>% write_tsv(str_glue('{outdir}/fig2n-virus_detection_in_whole-bi-sample_lvl-pct.tsv'))"
   ]
  },
  {
   "cell_type": "code",
   "execution_count": null,
   "id": "0dd91c05",
   "metadata": {
    "vscode": {
     "languageId": "r"
    }
   },
   "outputs": [],
   "source": [
    "p <- read_tsv(str_glue('{outdir}/fig2n-virus_detection_in_whole-bi-sample_lvl-pct.tsv'), show_col_types = F) %>% \n",
    "    filter(.data[[gp]] %in% gp_lvls[[gp]]) %>%\n",
    "    filter(sample_type == 'pre') %>%\n",
    "    cell_comp_boxplot(x = c(gp, 'sample_type'), y = 'Virus-detected', pt_fill = gp, pair_by = NULL, \n",
    "                      xorder = comb_order, fill_order = gp_lvls[[gp]], facet_by = NULL, ncol = 3) +\n",
    "    stat_compare_means(comparisons = list(c('R-pre', 'PR-pre'))) +\n",
    "    labs(y = 'Percent of virus-detected cells', fill = 'Response') +\n",
    "    theme(axis.title.x = element_blank())\n",
    "ggsave(filename = str_glue('{outdir}/fig2n-box_cell_pct-virus_detected_cells-whole.pdf'), width = 3, height = 6, plot = p)"
   ]
  },
  {
   "cell_type": "markdown",
   "id": "dfc85bfe",
   "metadata": {},
   "source": [
    "### 2o: pct in tumor Gp1/2 cells, Gp1 vs Gp2"
   ]
  },
  {
   "cell_type": "code",
   "execution_count": null,
   "id": "2db2258c",
   "metadata": {
    "vscode": {
     "languageId": "r"
    }
   },
   "outputs": [],
   "source": [
    "f_obs <- '../../stage4/a24_microbe/domain_lvl/whole_obs_with_domain_logrpm.rds'\n",
    "min_cell <- 50\n",
    "cutoff <- 0\n",
    "\n",
    "used_ctypes <- c('Tumor_Gp1', 'Tumor_Gp2')"
   ]
  },
  {
   "cell_type": "code",
   "execution_count": null,
   "id": "2db54c63",
   "metadata": {
    "vscode": {
     "languageId": "r"
    }
   },
   "outputs": [
    {
     "name": "stdout",
     "output_type": "stream",
     "text": [
      "\u001b[0m2024-02-27 14:47:01 INFO::these clinial info will be added: response\u001b[0m\u001b[22m\u001b[23m\u001b[24m\u001b[27m\u001b[28m\u001b[29m\u001b[39m\u001b[49m\u001b[0m\u001b[0m\u001b[22m\u001b[23m\u001b[24m\u001b[27m\u001b[28m\u001b[29m\u001b[39m\u001b[49m\n"
     ]
    }
   ],
   "source": [
    "# rename cell type\n",
    "df <- readRDS(f_obs) %>% \n",
    "    filter(cell_type == 'Epithelial')\n",
    "\n",
    "df$celltype <- df$subtype\n",
    "for (nm in names(ctype_ls)) {\n",
    "    df$celltype[df$subtype %in% ctype_ls[[nm]]] <- nm\n",
    "}\n",
    "# stat percent in each cluster\n",
    "df_stat <- df %>% \n",
    "    mutate(bi_type = case_when(\n",
    "        is.na(Viruses) ~ NA_character_,\n",
    "        Viruses > cutoff ~ 'Virus-detected',\n",
    "        Viruses <= cutoff ~ 'Non-detected',\n",
    "        TRUE ~ 'others'\n",
    "    )) %>%\n",
    "    count(sample, celltype, bi_type, name = 'n_cell') %>%\n",
    "    add_count(sample, celltype, wt = n_cell, name = 'n_cell_per_sample_ctype') %>%\n",
    "    filter(n_cell_per_sample_ctype >= min_cell) %>%\n",
    "    mutate(pct = 100 * n_cell / n_cell_per_sample_ctype) %>%\n",
    "    pivot_wider(id_cols = c('sample', 'celltype'), \n",
    "                names_from = 'bi_type', values_from = 'pct', values_fill = 0) %>%\n",
    "    separate(col = 'sample', into = c('patient', 'sample_type'), sep = '-', remove = F) %>%\n",
    "    mutate(sample_type = case_match(sample_type, 'Baseline' ~ 'pre', 'Treat' ~ 'post')) %>%\n",
    "    add_clin_info(ftsv = f_pat_gp, columns = gp, merge_by = 'patient')\n",
    "df_stat %>% write_tsv(str_glue('{outdir}/fig2o-virus_detection_in_epi_group-bi-sample_lvl-pct.tsv'))"
   ]
  },
  {
   "cell_type": "code",
   "execution_count": null,
   "id": "aabf9dd4",
   "metadata": {
    "vscode": {
     "languageId": "r"
    }
   },
   "outputs": [],
   "source": [
    "p <- read_tsv(str_glue('{outdir}/fig2o-virus_detection_in_epi_group-bi-sample_lvl-pct.tsv'), show_col_types = F) %>% \n",
    "    filter(celltype %in% c('Tumor_Gp1', 'Tumor_Gp2')) %>%\n",
    "    mutate(celltype = factor(celltype, names(ctype_ls))) %>%\n",
    "    cell_comp_boxplot(x = c('celltype'), y = 'Virus-detected', pt_fill = gp,\n",
    "                      pair_by = NULL, facet_by = NULL, ncol = 3, xangle = 60,\n",
    "                      xorder = names(ctype_ls), fill_order = gp_lvls[[gp]]) +\n",
    "    stat_compare_means(comparisons = list(c('Tumor_Gp1', 'Tumor_Gp2'))) +\n",
    "    labs(y = 'Percent of virus-detected cells', fill = 'Response') +\n",
    "    theme(axis.title.x = element_blank())\n",
    "ggsave(filename = str_glue('{outdir}/fig2o-box_cell_pct-virus_detected_cells-gp1_vs_gp2.pdf'), width = 3, height = 6, plot = p)"
   ]
  },
  {
   "cell_type": "markdown",
   "id": "19af4f9d",
   "metadata": {},
   "source": [
    "# previous results"
   ]
  },
  {
   "cell_type": "markdown",
   "id": "d6c74082",
   "metadata": {},
   "source": [
    "## oncoplot of drive genes: 2a\n",
    "\n",
    "- based on T-N paired, Fresh, non-LN samples (N=53)\n",
    "- 2024-01-02: add new genes"
   ]
  },
  {
   "cell_type": "code",
   "execution_count": 20,
   "id": "265e586f-7f32-490d-abfd-8334d67c01d9",
   "metadata": {
    "tags": [],
    "vscode": {
     "languageId": "r"
    }
   },
   "outputs": [],
   "source": [
    "f_maf <- '../../stage4/a11_wes/new-muts/vep_maf_with_clin_ek_info.rds'\n",
    "f_pub_drive <- '../../assets/escc_key_alt_genes.tsv'\n",
    "f_escc_drive_infer <- '../../stage4/a11_wes/new-muts/driver_gene-tn_pair-fresh-t.tsv'\n",
    "\n",
    "clin_color_map <- list(\n",
    "    'Response' = c(R='#EE0000FF', PR='#3B4992FF'),\n",
    "    'Sample_Type' = c(pre='#5050FFFF', post='#CE3D32FF'),\n",
    "    'Treatment' = c(chemo='#749B58FF', `chemo+immune`='#F0E685FF')\n",
    ")\n",
    "\n",
    "add_genes <- c(\n",
    "    'B2M', 'HLA-A', 'HLA-B', 'HLA-C',  # interseted genes\n",
    "    'HLA-DRB1', 'HLA-DQB1', 'HLA-DQA2', 'HLA-DOB'  # other HLA genes detected in current data\n",
    ")"
   ]
  },
  {
   "cell_type": "code",
   "execution_count": 56,
   "id": "d823cfc9-7b85-45e5-b126-fd4b19d9e657",
   "metadata": {
    "tags": [],
    "vscode": {
     "languageId": "r"
    }
   },
   "outputs": [],
   "source": [
    "maf <- readRDS(file = f_maf)"
   ]
  },
  {
   "cell_type": "code",
   "execution_count": 57,
   "id": "e328a222-c1c2-47d4-8094-cd7fe8ce6160",
   "metadata": {
    "vscode": {
     "languageId": "r"
    }
   },
   "outputs": [],
   "source": [
    "maf_raw <- maf"
   ]
  },
  {
   "cell_type": "code",
   "execution_count": 58,
   "id": "2f59a7bc-6625-4537-bac0-90f22423cfff",
   "metadata": {
    "tags": [],
    "vscode": {
     "languageId": "r"
    }
   },
   "outputs": [
    {
     "name": "stdout",
     "output_type": "stream",
     "text": [
      "\u001b[0m2024-02-04 23:49:11 INFO::these clinial info will be added: response\u001b[0m\u001b[22m\u001b[23m\u001b[24m\u001b[27m\u001b[28m\u001b[29m\u001b[39m\u001b[49m\u001b[0m\u001b[0m\u001b[22m\u001b[23m\u001b[24m\u001b[27m\u001b[28m\u001b[29m\u001b[39m\u001b[49m\n"
     ]
    }
   ],
   "source": [
    "maf@clinical.data <- getClinicalData(maf) %>% \n",
    "    add_clin_info(ftsv = f_pat_gp, columns = 'response', merge_by = 'patient_id') %>%\n",
    "    mutate(sample_type = case_match(sample_type, 'Baseline' ~ 'pre', 'Treat' ~ 'post')) %>%\n",
    "    mutate(\n",
    "        'Response' = factor(response, gp_lvls$response),\n",
    "        'Sample_Type' = factor(sample_type, c('pre', 'post')),\n",
    "        'Treatment' = factor(treatment_sum, c('chemo', 'chemo+immune'))\n",
    "    ) %>% \n",
    "    data.table::as.data.table()"
   ]
  },
  {
   "cell_type": "code",
   "execution_count": 59,
   "id": "b87263fe-d92b-4740-ab09-ee534f5afa02",
   "metadata": {
    "tags": [],
    "vscode": {
     "languageId": "r"
    }
   },
   "outputs": [
    {
     "data": {
      "text/html": [
       "36"
      ],
      "text/latex": [
       "36"
      ],
      "text/markdown": [
       "36"
      ],
      "text/plain": [
       "[1] 36"
      ]
     },
     "metadata": {},
     "output_type": "display_data"
    }
   ],
   "source": [
    "# obtain driver genes\n",
    "driver_genes <- read_tsv(f_pub_drive, show_col_types = F) %>% \n",
    "    pull(gene)\n",
    "driver_genes <- read_tsv(f_escc_drive_infer, show_col_types = F) %>% \n",
    "    filter(!grepl('^MT-', Hugo_Symbol)) %>%  # no chrM genes\n",
    "    filter(fdr <= 0.1) %>% \n",
    "    pull(Hugo_Symbol) %>% \n",
    "    c(driver_genes)\n",
    "driver_genes <- unique(c(driver_genes, add_genes))\n",
    "\n",
    "length(driver_genes)"
   ]
  },
  {
   "cell_type": "code",
   "execution_count": 60,
   "id": "7ff6f4da-06fa-4a4a-91eb-d9d7135bbe7d",
   "metadata": {
    "tags": [],
    "vscode": {
     "languageId": "r"
    }
   },
   "outputs": [
    {
     "data": {
      "text/html": [
       "53"
      ],
      "text/latex": [
       "53"
      ],
      "text/markdown": [
       "53"
      ],
      "text/plain": [
       "[1] 53"
      ]
     },
     "metadata": {},
     "output_type": "display_data"
    },
    {
     "name": "stdout",
     "output_type": "stream",
     "text": [
      "--Possible FLAGS among top ten genes:\n",
      "  TTN\n",
      "  MUC16\n",
      "-Processing clinical data\n"
     ]
    }
   ],
   "source": [
    "# only tn-pair, fresh, samples\n",
    "samples <- getClinicalData(maf) %>%\n",
    "    filter(pair_cat == 'Fresh', pair_mode == 'tumor-normal-paired', !grepl('-LN', Tumor_Sample_Barcode)) %>%\n",
    "    pull(Tumor_Sample_Barcode)\n",
    "length(samples)\n",
    "submaf <- subsetMaf(maf, tsb = samples)\n",
    "saveRDS(submaf, str_glue('{outdir}/maf-tn_pair-fresh-t.rds'))"
   ]
  },
  {
   "cell_type": "code",
   "execution_count": 61,
   "id": "c86d6585-9b76-4bbd-a63d-6cf600512962",
   "metadata": {
    "tags": [],
    "vscode": {
     "languageId": "r"
    }
   },
   "outputs": [
    {
     "data": {
      "text/html": [
       "<strong>png:</strong> 2"
      ],
      "text/latex": [
       "\\textbf{png:} 2"
      ],
      "text/markdown": [
       "**png:** 2"
      ],
      "text/plain": [
       "png \n",
       "  2 "
      ]
     },
     "metadata": {},
     "output_type": "display_data"
    }
   ],
   "source": [
    "# plot\n",
    "pdf(file = str_glue('{outdir}/fig2a-onco_driver_genes-tn_pair-fresh-t.pdf'), width = 10, height = 6)\n",
    "oncoplot(maf = submaf, \n",
    "         genes = intersect(driver_genes, submaf@gene.summary$Hugo_Symbol),\n",
    "         gene_mar = 6,\n",
    "         anno_height = 3, legend_height = 4,\n",
    "         clinicalFeatures = names(clin_color_map),\n",
    "         annotationColor = clin_color_map,\n",
    "         removeNonMutated = FALSE\n",
    "        )\n",
    "dev.off()"
   ]
  },
  {
   "cell_type": "code",
   "execution_count": 67,
   "id": "a60ebef6-a9d7-4cc8-874c-f0fc6810eb0d",
   "metadata": {
    "tags": [],
    "vscode": {
     "languageId": "r"
    }
   },
   "outputs": [
    {
     "name": "stdout",
     "output_type": "stream",
     "text": [
      "\u001b[0m2024-02-04 23:53:15 INFO::7994 mutations, 73 samples\u001b[0m\u001b[22m\u001b[23m\u001b[24m\u001b[27m\u001b[28m\u001b[29m\u001b[39m\u001b[49m\u001b[0m\u001b[0m\u001b[22m\u001b[23m\u001b[24m\u001b[27m\u001b[28m\u001b[29m\u001b[39m\u001b[49m\n"
     ]
    }
   ],
   "source": [
    "# f_tmb <- '../../stage4/a15_wes_clone_infer/new-pyclone/parse/tmb-tn_pair.tsv'\n",
    "\n",
    "# tmb <- read_tsv(f_tmb, show_col_types = F)\n",
    "# loginfo('%g mutations, %g samples', sum(tmb$n_mutation), length(unique(tmb$sample_id)))"
   ]
  },
  {
   "cell_type": "code",
   "execution_count": 68,
   "id": "8467aad8-baab-4dd4-b78c-977058d92bda",
   "metadata": {
    "tags": [],
    "vscode": {
     "languageId": "r"
    }
   },
   "outputs": [
    {
     "name": "stdout",
     "output_type": "stream",
     "text": [
      "\u001b[0m2024-02-04 23:53:16 INFO::these clinial info will be added: response\u001b[0m\u001b[22m\u001b[23m\u001b[24m\u001b[27m\u001b[28m\u001b[29m\u001b[39m\u001b[49m\u001b[0m\u001b[0m\u001b[22m\u001b[23m\u001b[24m\u001b[27m\u001b[28m\u001b[29m\u001b[39m\u001b[49m\n",
      "\u001b[0m2024-02-04 23:53:16 INFO::tn-pair, fresh, non-LN: 5529 mutations, 53 samples\u001b[0m\u001b[22m\u001b[23m\u001b[24m\u001b[27m\u001b[28m\u001b[29m\u001b[39m\u001b[49m\u001b[0m\u001b[0m\u001b[22m\u001b[23m\u001b[24m\u001b[27m\u001b[28m\u001b[29m\u001b[39m\u001b[49m\n"
     ]
    }
   ],
   "source": [
    "# # sample filtering\n",
    "# tmb_flt <- tmb %>% \n",
    "#     filter(pair_cat == 'Fresh', !grepl('-LN', sample_id)) %>%\n",
    "#     mutate(sample_type = factor(case_match(sample_type, 'Baseline' ~ 'pre', 'Treat' ~ 'post'), c('pre', 'post'))) %>% \n",
    "#     add_clin_info(ftsv = f_pat_gp, columns = gp, merge_by = 'patient_id')\n",
    "\n",
    "# write_tsv(tmb_flt, file = str_glue('{outdir}/fig2-tmb-tn_pair-fresh-t.tsv'))\n",
    "# loginfo('tn-pair, fresh, non-LN: %g mutations, %g samples', sum(tmb_flt$n_mutation), length(unique(tmb_flt$sample_id)))"
   ]
  },
  {
   "cell_type": "code",
   "execution_count": 69,
   "id": "dd5feb20-ccca-44e0-a48a-6d8b1b135874",
   "metadata": {
    "tags": [],
    "vscode": {
     "languageId": "r"
    }
   },
   "outputs": [],
   "source": [
    "# # by sample type\n",
    "# p <- tmb_flt %>% \n",
    "#     cell_comp_boxplot(x = 'sample_type', y = 'n_mutation', xorder = NULL,\n",
    "#                       pt_fill = 'sample_type', fill_order = NULL, pair_by = 'patient_id',\n",
    "#                       facet_by = NULL, ytitle = 'mutation count') +\n",
    "#     scale_y_continuous(trans = 'log10') +\n",
    "#     stat_compare_means(comparisons = list(c('Baseline', 'Treat'))) +\n",
    "#     labs(fill = '', x = '', y = 'Mutation count')\n",
    "# ggsave(filename = str_glue('{outdir}/fig2-box_tmb-pre_vs_post-tn_pair-fresh-t.pdf'),\n",
    "#        plot = p, width = 3.5, height = 5)"
   ]
  },
  {
   "cell_type": "code",
   "execution_count": 70,
   "id": "05e56243-7c0e-4cfd-a55b-4af3d1342212",
   "metadata": {
    "tags": [],
    "vscode": {
     "languageId": "r"
    }
   },
   "outputs": [
    {
     "name": "stdout",
     "output_type": "stream",
     "text": [
      "\u001b[0m2024-02-05 00:04:54 INFO::5529 mutations, 53 samples\u001b[0m\u001b[22m\u001b[23m\u001b[24m\u001b[27m\u001b[28m\u001b[29m\u001b[39m\u001b[49m\u001b[0m\u001b[0m\u001b[22m\u001b[23m\u001b[24m\u001b[27m\u001b[28m\u001b[29m\u001b[39m\u001b[49m\n"
     ]
    }
   ],
   "source": [
    "f_tmb_ccf <- '../../stage4/a15_wes_clone_infer/new-pyclone/parse/tmb-by_ccf-0.5_1-tn_pair-fresh-t.tsv'\n",
    "tmb <- read_tsv(f_tmb_ccf, show_col_types = F)\n",
    "loginfo('%g mutations, %g samples', sum(tmb$n_mut_per_samp_ctype), length(unique(tmb$sample_id)))"
   ]
  },
  {
   "cell_type": "code",
   "execution_count": 72,
   "id": "f001c4f5-9284-4de4-aba9-a814e4d7cfbf",
   "metadata": {
    "tags": [],
    "vscode": {
     "languageId": "r"
    }
   },
   "outputs": [
    {
     "name": "stdout",
     "output_type": "stream",
     "text": [
      "\u001b[0m2024-02-05 00:06:53 INFO::these clinial info will be added: response\u001b[0m\u001b[22m\u001b[23m\u001b[24m\u001b[27m\u001b[28m\u001b[29m\u001b[39m\u001b[49m\u001b[0m\u001b[0m\u001b[22m\u001b[23m\u001b[24m\u001b[27m\u001b[28m\u001b[29m\u001b[39m\u001b[49m\n",
      "\u001b[0m2024-02-05 00:06:53 INFO::ccf>=50%, 4053 mutations, 53 samples\u001b[0m\u001b[22m\u001b[23m\u001b[24m\u001b[27m\u001b[28m\u001b[29m\u001b[39m\u001b[49m\u001b[0m\u001b[0m\u001b[22m\u001b[23m\u001b[24m\u001b[27m\u001b[28m\u001b[29m\u001b[39m\u001b[49m\n"
     ]
    }
   ],
   "source": [
    "# ccf filtering (>=50% = middle)\n",
    "tmb_flt <- filter(tmb, ccf_type == 'middle') %>%\n",
    "    add_clin_info(ftsv = f_pat_gp, columns = gp, merge_by = 'patient_id') %>%\n",
    "    mutate(sample_type = case_match(sample_type, 'Baseline' ~ 'pre', 'Treat' ~ 'post'))\n",
    "\n",
    "write_tsv(tmb_flt, file = str_glue('{outdir}/fig2-tmb-cff_gt_0.5-tn_pair-fresh-t.tsv'))\n",
    "\n",
    "loginfo('ccf>=50%%, %g mutations, %g samples', sum(tmb_flt$n_mut_per_samp_ctype), length(unique(tmb_flt$sample_id)))"
   ]
  },
  {
   "cell_type": "code",
   "execution_count": null,
   "id": "09b74285-d87c-44f8-acb7-265b444747ea",
   "metadata": {
    "tags": [],
    "vscode": {
     "languageId": "r"
    }
   },
   "outputs": [],
   "source": [
    "p <- tmb_flt %>% \n",
    "    filter(.data[[gp]] %in% gp_lvls[[gp]]) %>%\n",
    "    filter(sample_type == 'pre') %>%\n",
    "    cell_comp_boxplot(x = c(gp, 'sample_type'), y = 'n_mut_per_samp_ctype', xorder = paste0(gp_lvls[[gp]], '-pre'),\n",
    "                      pt_fill = gp, fill_order = gp_lvls[[gp]], pair_by = NULL, facet_by = NULL, xangle = 60) +\n",
    "    scale_y_continuous(trans = 'log10') +\n",
    "    stat_compare_means(comparisons = gp_comp_map_pre[[gp]]) +\n",
    "    labs(fill = '', x = '', y = 'Mutation count (CCF >= 50%)')\n",
    "ggsave(filename = str_glue('{outdir}/fig2b-box_tmb-ccf_gt_0.5-{gp}-pre-tn_pair-fresh-t.pdf'),\n",
    "       plot = p, width = 2, height = 5)"
   ]
  },
  {
   "cell_type": "markdown",
   "id": "2a747068-5b1e-4e13-b05c-00f9274102e0",
   "metadata": {
    "tags": []
   },
   "source": [
    "## umaps: 2F"
   ]
  },
  {
   "cell_type": "code",
   "execution_count": 4,
   "id": "8ea1433a-8fee-4f39-836d-00daf7cb1a74",
   "metadata": {
    "tags": [],
    "vscode": {
     "languageId": "r"
    }
   },
   "outputs": [],
   "source": [
    "theme_set(theme_pubr())\n",
    "outdir <- '../figures/fig2/'\n",
    "\n",
    "f_epi_obj <- '../../stage4/a01_data/seuobj/epi.rds'"
   ]
  },
  {
   "cell_type": "code",
   "execution_count": 5,
   "id": "60847d49-fd66-49ee-af55-723e957f67bb",
   "metadata": {
    "tags": [],
    "vscode": {
     "languageId": "r"
    }
   },
   "outputs": [],
   "source": [
    "scrna <- readRDS(f_epi_obj)"
   ]
  },
  {
   "cell_type": "code",
   "execution_count": 14,
   "id": "3cdba0fe-b4f2-492f-adec-5195362a8a53",
   "metadata": {
    "tags": [],
    "vscode": {
     "languageId": "r"
    }
   },
   "outputs": [
    {
     "data": {
      "text/plain": [
       "\n",
       " Tumor_Gp1  Tumor_Gp2 Epi_Normal    Mixture \n",
       "     35838      18407      12952       7843 "
      ]
     },
     "metadata": {},
     "output_type": "display_data"
    }
   ],
   "source": [
    "scrna$macro_celltype <- 'Others'\n",
    "for (nm in names(ctype_ls)) {\n",
    "    scrna$macro_celltype[scrna$cell_type %in% ctype_ls[[nm]]] <- nm\n",
    "}\n",
    "scrna$macro_celltype <- factor(scrna$macro_celltype, levels = epi_gp_order)\n",
    "table(scrna$macro_celltype, useNA = 'ifany')"
   ]
  },
  {
   "cell_type": "code",
   "execution_count": 114,
   "id": "6464a1b7-b4b3-4d3c-97c2-7e0cc8ac2c40",
   "metadata": {
    "tags": [],
    "vscode": {
     "languageId": "r"
    }
   },
   "outputs": [],
   "source": [
    "# umap by patients\n",
    "color_by <- 'patient'\n",
    "p <- DimPlot(object = scrna, reduction = 'umap', group.by = color_by, raster = T, shuffle = T,\n",
    "             label = T, label.size = 4, cols = scanpy_pal$godsnot_102, repel = T) +\n",
    "    labs(title = 'Patient') +\n",
    "    theme(axis.line = element_blank(), \n",
    "          axis.ticks = element_blank(),\n",
    "          axis.text = element_blank(),\n",
    "          axis.title = element_blank(),\n",
    "          legend.position = 'none')\n",
    "ggsave(filename = str_glue('{outdir}/fig2f-umap_epi-patient.pdf'), plot = p, width = 5, height = 4)"
   ]
  },
  {
   "cell_type": "code",
   "execution_count": 115,
   "id": "fce64d4b-414b-441e-83e2-d5529f08d7de",
   "metadata": {
    "tags": [],
    "vscode": {
     "languageId": "r"
    }
   },
   "outputs": [],
   "source": [
    "# umap by macro cell type\n",
    "color_by <- 'macro_celltype'\n",
    "p <- DimPlot(object = scrna, reduction = 'umap', group.by = color_by, raster = T, shuffle = T,\n",
    "             label = F, label.size = 4, cols = pal_nejm()(8), repel = T) +\n",
    "    labs(title = 'Epithelial cell groups') +\n",
    "    theme(axis.line = element_blank(),\n",
    "          axis.ticks = element_blank(),\n",
    "          axis.text = element_blank(),\n",
    "          axis.title = element_blank(),\n",
    "          legend.position = 'top',\n",
    "          legend.justification = c(1, 0))\n",
    "ggsave(filename = str_glue('{outdir}/fig2f-umap_epi-macro_celltype.pdf'), plot = p, width = 5, height = 4.5)"
   ]
  },
  {
   "cell_type": "markdown",
   "id": "2f5b9fa4-9388-496b-a25a-b6916ddfccfa",
   "metadata": {
    "tags": []
   },
   "source": [
    "## heatmap of cluster vs patient/sample: 2g"
   ]
  },
  {
   "cell_type": "code",
   "execution_count": 122,
   "id": "31808c49-d753-43c6-b0fe-c45df08dd00f",
   "metadata": {
    "tags": [],
    "vscode": {
     "languageId": "r"
    }
   },
   "outputs": [],
   "source": [
    "f_epi_obs <- '../../stage4/a01_data/h5ad/epi_obs.csv'\n",
    "min_cell <- 50  # min cell per group"
   ]
  },
  {
   "cell_type": "code",
   "execution_count": 127,
   "id": "ae240c39-6ffc-4c78-b536-5df82ffcf15f",
   "metadata": {
    "tags": [],
    "vscode": {
     "languageId": "r"
    }
   },
   "outputs": [
    {
     "name": "stderr",
     "output_type": "stream",
     "text": [
      "\u001b[1m\u001b[22mNew names:\n",
      "\u001b[36m•\u001b[39m `` -> `...1`\n"
     ]
    }
   ],
   "source": [
    "# detail & macro celltype map\n",
    "celltype_map <- do.call(\n",
    "    rbind.data.frame, \n",
    "    lapply(X = names(ctype_ls), FUN = function(nm) {\n",
    "        data.frame(macrotype = nm, celltype = ctype_ls[[nm]])\n",
    "    })\n",
    ")\n",
    "\n",
    "# color map\n",
    "macrotype_color_map <- pal_nejm()(length(unique(celltype_map$macrotype)))\n",
    "names(macrotype_color_map) <- unique(celltype_map$macrotype)\n",
    "\n",
    "# data: cell level\n",
    "df <- read_csv(f_epi_obs, show_col_types = F)"
   ]
  },
  {
   "cell_type": "code",
   "execution_count": null,
   "id": "9f8a90a1-c374-4a12-b768-2411e4a2fb4b",
   "metadata": {
    "tags": [],
    "vscode": {
     "languageId": "r"
    }
   },
   "outputs": [
    {
     "name": "stdout",
     "output_type": "stream",
     "text": [
      "\u001b[0m2024-02-05 01:25:53 INFO::51/52 patient with enough cells\u001b[0m\u001b[22m\u001b[23m\u001b[24m\u001b[27m\u001b[28m\u001b[29m\u001b[39m\u001b[49m\u001b[0m\u001b[0m\u001b[22m\u001b[23m\u001b[24m\u001b[27m\u001b[28m\u001b[29m\u001b[39m\u001b[49m\n"
     ]
    }
   ],
   "source": [
    "# by patient\n",
    "cal_by <- 'patient'\n",
    "all_cal_types <- unique(df[[cal_by]])\n",
    "highconf_cal_types <- count(df, .data[[cal_by]]) %>%\n",
    "    filter(n >= min_cell) %>%\n",
    "    pull(.data[[cal_by]])\n",
    "loginfo('%g/%g %s with enough cells', length(highconf_cal_types), length(all_cal_types), cal_by)\n",
    "\n",
    "# plot data\n",
    "mat <- df %>% \n",
    "    count(.data[[cal_by]], cell_type, name = 'freq') %>% \n",
    "    pivot_wider(id_cols = c('cell_type'), names_from = .data[[cal_by]],\n",
    "                values_from = 'freq', values_fill = 0) %>% \n",
    "    mutate(across(all_of(all_cal_types), ~ 100*.x/sum(.x))) %>%\n",
    "    column_to_rownames('cell_type')\n",
    "mat <- mat[intersect(pull(celltype_map, 'celltype'), rownames(mat)), ]\n",
    "\n",
    "# plot\n",
    "for (suf in c('all', str_glue('min{min_cell}'))) {\n",
    "    if (suf == 'all') {\n",
    "        dp <- mat\n",
    "    } else {\n",
    "        dp <- mat[, highconf_cal_types]\n",
    "    }\n",
    "    set.seed(123)\n",
    "    row_anno <- rowAnnotation(\n",
    "        'Epithelial\\ncell groups' = pull(celltype_map, 'macrotype', name = 'celltype')[rownames(mat)],\n",
    "        col = list('Epithelial\\ncell groups' = macrotype_color_map),\n",
    "        show_annotation_name = c('Epithelial\\ncell groups' = FALSE), \n",
    "        width = unit(1, 'cm'), na_col = 'gray50',\n",
    "        annotation_legend_param = list('Epithelial\\ncell groups' = list(\n",
    "            at = names(macrotype_color_map), labels = names(macrotype_color_map)\n",
    "        ))\n",
    "    )\n",
    "    treat_heatmap(\n",
    "        mat = dp, cluster_columns = F, cluster_rows = F, name = str_glue('Percent \\nin {cal_by}'),\n",
    "        row_names_gp = gpar(fontsize = 9), right_annotation = row_anno, fig_size = c(7, 2), \n",
    "        outfile = str_glue('{outdir}/fig2g-heat-macro_pct_in_{cal_by}-{suf}.pdf')\n",
    "    )\n",
    "}"
   ]
  },
  {
   "cell_type": "markdown",
   "id": "98c70fc0-5f02-4f2a-8eb2-5b2c34d3d826",
   "metadata": {
    "tags": [],
    "toc-hr-collapsed": true
   },
   "source": [
    "## epi markers of EK/HK/Normal: 2h"
   ]
  },
  {
   "cell_type": "markdown",
   "id": "893b4482-34bf-481d-bfa3-8732f103ae0f",
   "metadata": {
    "tags": []
   },
   "source": [
    "### find markers"
   ]
  },
  {
   "cell_type": "code",
   "execution_count": 142,
   "id": "7fa9b6f8-e8a7-4ff3-94cf-71da75b3919e",
   "metadata": {
    "tags": [],
    "vscode": {
     "languageId": "r"
    }
   },
   "outputs": [],
   "source": [
    "theme_set(theme_pubr())\n",
    "f_epi_obj <- '../../stage4/a01_data/seuobj/epi.rds'"
   ]
  },
  {
   "cell_type": "code",
   "execution_count": 143,
   "id": "14c4d995-b9f1-414f-9007-6743350823e1",
   "metadata": {
    "tags": [],
    "vscode": {
     "languageId": "r"
    }
   },
   "outputs": [
    {
     "data": {
      "text/plain": [
       "\n",
       "  EK_tumor Epi_Normal   HK_tumor    Mixture \n",
       "     37557      12952      16688       7843 "
      ]
     },
     "metadata": {},
     "output_type": "display_data"
    }
   ],
   "source": [
    "scrna <- readRDS(f_epi_obj)\n",
    "scrna$macro_celltype <- 'Others'\n",
    "for (nm in names(ctype_ls)) {\n",
    "    scrna$macro_celltype[scrna$cell_type %in% ctype_ls[[nm]]] <- nm\n",
    "}\n",
    "table(scrna$macro_celltype, useNA = 'ifany')"
   ]
  },
  {
   "cell_type": "code",
   "execution_count": 144,
   "id": "50fc1aaf-4d97-46a6-9caf-e59001a06d55",
   "metadata": {
    "tags": [],
    "vscode": {
     "languageId": "r"
    }
   },
   "outputs": [
    {
     "data": {
      "text/plain": [
       "\n",
       "Epi_Normal   HK_tumor   EK_tumor \n",
       "     12952      16688      37557 "
      ]
     },
     "metadata": {},
     "output_type": "display_data"
    }
   ],
   "source": [
    "Idents(scrna) <- scrna$macro_celltype\n",
    "subdata <- subset(scrna, idents = 'Mixture', invert = TRUE)\n",
    "table(Idents(subdata), useNA = 'ifany')"
   ]
  },
  {
   "cell_type": "code",
   "execution_count": 14,
   "id": "5a68a20b-c6ee-40d5-8701-cdfb5eaea749",
   "metadata": {
    "tags": [],
    "vscode": {
     "languageId": "r"
    }
   },
   "outputs": [
    {
     "data": {
      "text/html": [
       "<style>\n",
       ".list-inline {list-style: none; margin:0; padding: 0}\n",
       ".list-inline>li {display: inline-block}\n",
       ".list-inline>li:not(:last-child)::after {content: \"\\00b7\"; padding: 0 .5ex}\n",
       "</style>\n",
       "<ol class=list-inline><li>1790</li><li>7</li></ol>\n"
      ],
      "text/latex": [
       "\\begin{enumerate*}\n",
       "\\item 1790\n",
       "\\item 7\n",
       "\\end{enumerate*}\n"
      ],
      "text/markdown": [
       "1. 1790\n",
       "2. 7\n",
       "\n",
       "\n"
      ],
      "text/plain": [
       "[1] 1790    7"
      ]
     },
     "metadata": {},
     "output_type": "display_data"
    }
   ],
   "source": [
    "df_mark <- FindAllMarkers(\n",
    "    object = subdata, assay = 'RNA', slot = 'data', min.pct = 0.3, \n",
    "    only.pos = TRUE, return.thresh = 0.01, verbose = FALSE\n",
    ")\n",
    "df_mark %>% dim"
   ]
  },
  {
   "cell_type": "code",
   "execution_count": 34,
   "id": "26ff2a88-e7ce-461e-855e-504d4c666871",
   "metadata": {
    "tags": [],
    "vscode": {
     "languageId": "r"
    }
   },
   "outputs": [],
   "source": [
    "df_mark %>% write_tsv(file = str_glue('{outdir}/fig2-ek_hk_norm-candidate_markers.tsv'))"
   ]
  },
  {
   "cell_type": "markdown",
   "id": "671c9fd1-dc37-4080-a7dc-fa87efe54275",
   "metadata": {
    "tags": []
   },
   "source": [
    "### dotplot"
   ]
  },
  {
   "cell_type": "code",
   "execution_count": 118,
   "id": "29672423-ff47-446f-aaf6-9752f2ea17ae",
   "metadata": {
    "tags": [],
    "vscode": {
     "languageId": "r"
    }
   },
   "outputs": [
    {
     "data": {
      "text/plain": [
       "\n",
       " Tumor_Gp1  Tumor_Gp2 Epi_Normal    Mixture \n",
       "     35838      18407      12952       7843 "
      ]
     },
     "metadata": {},
     "output_type": "display_data"
    }
   ],
   "source": [
    "f_epi_obj <- '../../stage4/a01_data/seuobj/epi.rds'\n",
    "\n",
    "scrna <- readRDS(f_epi_obj)\n",
    "scrna$macro_celltype <- 'Others'\n",
    "for (nm in names(ctype_ls)) {\n",
    "    scrna$macro_celltype[scrna$cell_type %in% ctype_ls[[nm]]] <- nm\n",
    "}\n",
    "scrna$macro_celltype <- factor(scrna$macro_celltype, levels = epi_gp_order)\n",
    "table(scrna$macro_celltype, useNA = 'ifany')"
   ]
  },
  {
   "cell_type": "code",
   "execution_count": 119,
   "id": "9e83d2c8-7c1e-4f66-9b0f-479657c3eb4a",
   "metadata": {
    "tags": [],
    "vscode": {
     "languageId": "r"
    }
   },
   "outputs": [
    {
     "data": {
      "text/plain": [
       "\n",
       " Tumor_Gp1  Tumor_Gp2 Epi_Normal \n",
       "     35838      18407      12952 "
      ]
     },
     "metadata": {},
     "output_type": "display_data"
    }
   ],
   "source": [
    "# no Mixture cells\n",
    "Idents(scrna) <- scrna$macro_celltype\n",
    "subdata <- subset(scrna, idents = 'Mixture', invert = TRUE)\n",
    "table(Idents(subdata), useNA = 'ifany')"
   ]
  },
  {
   "cell_type": "code",
   "execution_count": 121,
   "id": "7e0440bd-ae43-4aa0-a340-31de6d5c3ddf",
   "metadata": {
    "tags": [],
    "vscode": {
     "languageId": "r"
    }
   },
   "outputs": [
    {
     "name": "stderr",
     "output_type": "stream",
     "text": [
      "\u001b[1m\u001b[22mScale for \u001b[32mcolour\u001b[39m is already present.\n",
      "Adding another scale for \u001b[32mcolour\u001b[39m, which will replace the existing scale.\n"
     ]
    }
   ],
   "source": [
    "# manual selected markers based on top10 markers\n",
    "ctype_lvl <- intersect(names(ctype_ls), unique(scrna$macro_celltype))\n",
    "markers <- list(\n",
    "    'Epi' = c('EPCAM', 'KRT14', 'KRT15'),\n",
    "    'Epi Develop' = c('KRT6B', 'LGALS7B', 'KRT16', 'LY6D', 'TP63', 'LAMB3'),\n",
    "    # 'Antigen' = c('CTSD', 'HLA−DRA', 'HLA−DRB1', 'HLA−DRB5', 'HLA-DQA1', 'HLA-DPA1', 'HLA-DPB1', 'HLA-DQB1'),\n",
    "    'Immune Repress' = c('CD74', 'PTGES', 'S100P', 'RUNX3', 'TGFB1', 'CEACAM1', 'OAS1', 'HLA-E', 'CTSD'),\n",
    "    'Apoptosis Repress' = c('MUC1', 'PTGS2', 'PINK1', 'BCL2L1', 'SOD2', 'CCT3', 'PARP1')\n",
    ")\n",
    "subdata$macro_celltype <- factor(subdata$macro_celltype, levels = ctype_lvl)\n",
    "p <- DotPlot(subdata, features = markers, group.by = 'macro_celltype') +\n",
    "    scale_color_gsea() +\n",
    "    guides(color = guide_colorbar(title.position = 'top'),\n",
    "           size = guide_legend(title.position = 'top')) +\n",
    "    labs(x = '', y = '', color = 'Average Expression', size = 'Percent Expressed') +\n",
    "    theme(axis.text.x = element_text(angle = 60, hjust = 0.95, vjust = 0.95),\n",
    "          legend.position = 'top', legend.title.align = 0.5,\n",
    "          legend.justification = 0.5, legend.key.width = unit(1, 'cm'))\n",
    "ggsave(filename = str_glue('{outdir}/fig2h-dot_epi_marker-noMixture.pdf'), plot = p, width = 9, height = 4)"
   ]
  },
  {
   "cell_type": "markdown",
   "id": "d3a89eb5-3074-4464-98f9-2608902f27e7",
   "metadata": {
    "jp-MarkdownHeadingCollapsed": true,
    "tags": []
   },
   "source": [
    "## EK vs HK GSEA, pre: 2h\n",
    "\n",
    "- date: 2023-12-29"
   ]
  },
  {
   "cell_type": "code",
   "execution_count": 222,
   "id": "a6dbd25e-084b-458d-abf3-214327e0ffd6",
   "metadata": {
    "tags": [],
    "vscode": {
     "languageId": "r"
    }
   },
   "outputs": [],
   "source": [
    "f_gsea_obj <- '../../stage4/a07_enrich/cntbulk_ek_hk_min50/v2-pre-ek_vs_hk-deseq2/gsea_gobp_simplify.rds'\n",
    "res <- readRDS(file = f_gsea_obj)\n",
    "\n",
    "pathway_ls <- c(\n",
    "    'GO:0098773', 'GO:0060601', 'GO:0022613', 'GO:0006260', 'GO:0007346', 'GO:0000819',  # EK-enrich\n",
    "    'GO:0050868', 'GO:0002250', 'GO:0050777', 'GO:0090132', 'GO:0001910', 'GO:0002697'  # HK-enrich\n",
    ")\n",
    "suf <- 'pre'"
   ]
  },
  {
   "cell_type": "code",
   "execution_count": 225,
   "id": "40107fae-6f0c-468c-b677-38fef0e87862",
   "metadata": {
    "tags": [],
    "vscode": {
     "languageId": "r"
    }
   },
   "outputs": [],
   "source": [
    "p <- res@result %>% \n",
    "    filter(ID %in% pathway_ls) %>% \n",
    "    mutate(abs_score = abs(NES), \n",
    "           ID = factor(ID, levels = unique(pathway_ls)),\n",
    "           reg_type = if_else(NES > 0, 'Enriched in Tumor_Gp1', 'Enriched in Tumor_Gp2')) %>%\n",
    "    ggbarplot(x = 'Description', y = 'abs_score', fill = 'reg_type', orientation = 'horizontal', sort.val = 'desc') +\n",
    "    labs(y = 'Enrich score', x = '', fill = '') +\n",
    "    scale_x_discrete(labels = function(x){str_wrap(x, width = 45)}) +\n",
    "    # theme(legend.justification = c(1, 0)) +\n",
    "    theme(legend.position = 'right')\n",
    "ggsave(filename = str_glue('{outdir}/fig2h-bar_gsea-pre.pdf'), plot = p, height = 4, width = 10)"
   ]
  },
  {
   "cell_type": "markdown",
   "id": "eb6b1d8b-18b6-4ff6-ae06-7417bb478a2a",
   "metadata": {
    "tags": [],
    "toc-hr-collapsed": true
   },
   "source": [
    "## cell composition boxplot: 2i, 2m"
   ]
  },
  {
   "cell_type": "markdown",
   "id": "d562cddd-c38b-4dd8-b884-5c37aa036c52",
   "metadata": {
    "tags": []
   },
   "source": [
    "### macrotype by response: 2i"
   ]
  },
  {
   "cell_type": "code",
   "execution_count": 189,
   "id": "046a97e4-ddf5-44b6-a5fd-eb0b628b4777",
   "metadata": {
    "tags": [],
    "vscode": {
     "languageId": "r"
    }
   },
   "outputs": [],
   "source": [
    "f_epi_obs <- '../../stage4/a01_data/h5ad/epi_obs.csv'\n",
    "f_whole_obs <- '../../stage4/a01_data/h5ad/whole_obs.csv'\n",
    "min_cell <- 50"
   ]
  },
  {
   "cell_type": "code",
   "execution_count": 190,
   "id": "f55920eb-5b02-4742-a18b-83fce7264017",
   "metadata": {
    "collapsed": true,
    "jupyter": {
     "outputs_hidden": true
    },
    "tags": [],
    "vscode": {
     "languageId": "r"
    }
   },
   "outputs": [
    {
     "name": "stderr",
     "output_type": "stream",
     "text": [
      "\u001b[1m\u001b[22mNew names:\n",
      "\u001b[36m•\u001b[39m `` -> `...1`\n",
      "\u001b[1m\u001b[22mNew names:\n",
      "\u001b[36m•\u001b[39m `` -> `...1`\n"
     ]
    },
    {
     "data": {
      "text/plain": [
       "              \n",
       "               Epi_Normal Mixture Tumor_Gp1 Tumor_Gp2\n",
       "  Epi_A_IL1R2        5726       0         0         0\n",
       "  Epi_A_MGP          2452       0         0         0\n",
       "  Epi_B_Mix             0     775         0         0\n",
       "  Epi_M_ACTL8           0       0         0       942\n",
       "  Epi_M_CALML3          0       0     35838         0\n",
       "  Epi_M_CPS1            0       0         0      7715\n",
       "  Epi_M_MYBPC1          0       0         0      4075\n",
       "  Epi_M_PKP2            0       0         0      1411\n",
       "  Epi_M_RNASE1          0       0         0      1719\n",
       "  Epi_M_SPRR3           0       0         0      2545\n",
       "  Epi_N_LTF            38       0         0         0\n",
       "  Epi_N_PIGR         4736       0         0         0\n",
       "  Epi_T_Mix             0    7068         0         0"
      ]
     },
     "metadata": {},
     "output_type": "display_data"
    },
    {
     "name": "stdout",
     "output_type": "stream",
     "text": [
      "\u001b[0m2024-02-05 02:49:55 INFO::these clinial info will be added: patient_id, response\u001b[0m\u001b[22m\u001b[23m\u001b[24m\u001b[27m\u001b[28m\u001b[29m\u001b[39m\u001b[49m\u001b[0m\u001b[0m\u001b[22m\u001b[23m\u001b[24m\u001b[27m\u001b[28m\u001b[29m\u001b[39m\u001b[49m\n"
     ]
    }
   ],
   "source": [
    "# calculate cell composition\n",
    "df_samp <- read_csv(f_whole_obs, show_col_types = F) %>% \n",
    "    count(sample, name = 'n_cell_samp')\n",
    "df <- read_csv(f_epi_obs, show_col_types = F) %>%\n",
    "    rename(cell_type_prev = cell_type)\n",
    "df$cell_type <- df$cell_type_prev\n",
    "for (nm in names(ctype_ls)) {\n",
    "    df$cell_type[df$cell_type_prev %in% ctype_ls[[nm]]] <- nm\n",
    "}\n",
    "table(df$cell_type_prev, df$cell_type)\n",
    "\n",
    "df <- cal_cell_comp(df_info = df, samp_cnt = df_samp, clinical_cols = 'patient') %>% \n",
    "    mutate(sample_type = case_match(sample_type, 'Baseline' ~ 'pre', 'Treat' ~ 'post')) %>% \n",
    "    add_clin_info(ftsv = f_pat_gp, columns = c('patient_id', gp), merge_by = 'patient') %>%\n",
    "    add_count(sample, name = 'n_cell_per_sample_ctype', wt = freq)  # count cell for each subtype each sample\n",
    "df %>% write_tsv(str_glue('{outdir}/fig2i-cell_comp-ek_hk.tsv'))"
   ]
  },
  {
   "cell_type": "code",
   "execution_count": 191,
   "id": "28992bf5-cd1a-4174-b03a-1b6975175ecd",
   "metadata": {
    "tags": [],
    "vscode": {
     "languageId": "r"
    }
   },
   "outputs": [],
   "source": [
    "# for all samples\n",
    "p <- read_tsv(str_glue('{outdir}/fig2i-cell_comp-ek_hk.tsv'), show_col_types = F) %>% \n",
    "    filter(!is.na(.data[[gp]])) %>%\n",
    "    filter(cell_type %in% c('Tumor_Gp1', 'Tumor_Gp2', 'Epi_Normal')) %>%\n",
    "    mutate(cell_type = factor(cell_type, c('Tumor_Gp1', 'Tumor_Gp2', 'Epi_Normal'))) %>%\n",
    "    cell_comp_boxplot(x = c(gp, 'sample_type'), y = 'pct', pt_fill = gp,\n",
    "                      xorder = comb_order, fill_order = gp_lvls[[gp]], xangle = 60) +\n",
    "    stat_compare_means(comparisons = gp_comp_map[[gp]]) +\n",
    "    labs(y = 'Percent in Epi', fill = 'Response')\n",
    "ggsave(filename = str_glue('{outdir}/fig2i-box_cc_in_epi-macrotype-{gp}-all.pdf'), plot = p, width = 7, height = 5.5)\n",
    "\n",
    "# filter out samples without enough cells\n",
    "p <- read_tsv(str_glue('{outdir}/fig2i-cell_comp-ek_hk.tsv'), show_col_types = F) %>% \n",
    "    filter(n_cell_per_sample_ctype >= min_cell) %>%\n",
    "    filter(!is.na(.data[[gp]])) %>%\n",
    "    filter(cell_type %in% c('Tumor_Gp1', 'Tumor_Gp2', 'Epi_Normal')) %>%\n",
    "    mutate(cell_type = factor(cell_type, c('Tumor_Gp1', 'Tumor_Gp2', 'Epi_Normal'))) %>%\n",
    "    cell_comp_boxplot(x = c(gp, 'sample_type'), y = 'pct', pt_fill = gp,\n",
    "                      xorder = comb_order, fill_order = gp_lvls[[gp]], xangle = 60) +\n",
    "    stat_compare_means(comparisons = gp_comp_map[[gp]]) +\n",
    "    labs(y = 'Percent in Epi', fill = 'Response')\n",
    "ggsave(filename = str_glue('{outdir}/fig2i-box_cc_in_epi-macrotype-{gp}-min{min_cell}.pdf'), plot = p, width = 7, height = 5.5)"
   ]
  },
  {
   "cell_type": "markdown",
   "id": "c5662ee6-a2dd-4742-a5cf-e3cbc42bb7f4",
   "metadata": {
    "tags": []
   },
   "source": [
    "## todos"
   ]
  },
  {
   "cell_type": "code",
   "execution_count": 53,
   "id": "185dcf86-1b58-423e-9353-2cba64c04c91",
   "metadata": {
    "tags": [],
    "vscode": {
     "languageId": "r"
    }
   },
   "outputs": [],
   "source": [
    "scrna <- readRDS('../../stage4/a01_data/seuobj/epi.rds')"
   ]
  },
  {
   "cell_type": "code",
   "execution_count": 54,
   "id": "f047db25-7013-4192-b497-362d6118ddff",
   "metadata": {
    "tags": [],
    "vscode": {
     "languageId": "r"
    }
   },
   "outputs": [
    {
     "data": {
      "text/plain": [
       "              \n",
       "               Epi_Normal Mixture Tumor_Gp1 Tumor_Gp2\n",
       "  Epi_A_IL1R2        5726       0         0         0\n",
       "  Epi_A_MGP          2452       0         0         0\n",
       "  Epi_B_Mix             0     775         0         0\n",
       "  Epi_M_ACTL8           0       0         0       942\n",
       "  Epi_M_CALML3          0       0     35838         0\n",
       "  Epi_M_CPS1            0       0         0      7715\n",
       "  Epi_M_MYBPC1          0       0         0      4075\n",
       "  Epi_M_PKP2            0       0         0      1411\n",
       "  Epi_M_RNASE1          0       0         0      1719\n",
       "  Epi_M_SPRR3           0       0         0      2545\n",
       "  Epi_N_LTF            38       0         0         0\n",
       "  Epi_N_PIGR         4736       0         0         0\n",
       "  Epi_T_Mix             0    7068         0         0"
      ]
     },
     "metadata": {},
     "output_type": "display_data"
    }
   ],
   "source": [
    "scrna$cellgp <- scrna$cell_type\n",
    "for (nm in names(ctype_ls)) {\n",
    "    scrna$cellgp[scrna$cell_type %in% ctype_ls[[nm]]] <- nm\n",
    "}\n",
    "table(scrna$cell_type, scrna$cellgp, useNA = 'ifany')"
   ]
  },
  {
   "cell_type": "code",
   "execution_count": 55,
   "id": "1f98d084-d049-4c61-9126-ae0dba546d24",
   "metadata": {
    "tags": [],
    "vscode": {
     "languageId": "r"
    }
   },
   "outputs": [],
   "source": [
    "genes <- 'TCF4'"
   ]
  },
  {
   "cell_type": "code",
   "execution_count": 56,
   "id": "5e8581b7-dd3a-4625-b925-038234d6d9fd",
   "metadata": {
    "tags": [],
    "vscode": {
     "languageId": "r"
    }
   },
   "outputs": [
    {
     "name": "stdout",
     "output_type": "stream",
     "text": [
      "\u001b[0m2024-02-23 22:51:45 INFO::these clinial info will be added: response\u001b[0m\u001b[22m\u001b[23m\u001b[24m\u001b[27m\u001b[28m\u001b[29m\u001b[39m\u001b[49m\u001b[0m\u001b[0m\u001b[22m\u001b[23m\u001b[24m\u001b[27m\u001b[28m\u001b[29m\u001b[39m\u001b[49m\n"
     ]
    }
   ],
   "source": [
    "# cal expression\n",
    "exprs <- AggregateExpression(scrna, slot = 'counts', group.by = c('sample', 'cellgp'))[['RNA']] %>% \n",
    "    as.data.frame() %>%\n",
    "    mutate(across(everything(), ~ log1p(1e6*.x/sum(.x)))) %>% \n",
    "    rownames_to_column('symbol') %>% \n",
    "    select(symbol, starts_with('P')) %>% \n",
    "    filter(symbol %in% genes) %>%\n",
    "    pivot_longer(starts_with('P'), names_to = 'sample', values_to = 'logcpm') %>%\n",
    "    extract(col = 'sample', regex = '(.+?)-(.+?)_(.+)', into = c('patient', 'sample_type', 'cellgp'), remove = F) %>% \n",
    "    add_clin_info(ftsv = f_pat_gp, columns = gp, merge_by = 'patient')"
   ]
  },
  {
   "cell_type": "code",
   "execution_count": 57,
   "id": "d018c4a3-eec6-4d36-a3ca-8bcbfbdd96dd",
   "metadata": {
    "tags": [],
    "vscode": {
     "languageId": "r"
    }
   },
   "outputs": [
    {
     "data": {
      "text/html": [
       "<table class=\"dataframe\">\n",
       "<caption>A data.frame: 2 × 7</caption>\n",
       "<thead>\n",
       "\t<tr><th></th><th scope=col>patient</th><th scope=col>response</th><th scope=col>symbol</th><th scope=col>sample</th><th scope=col>sample_type</th><th scope=col>cellgp</th><th scope=col>logcpm</th></tr>\n",
       "\t<tr><th></th><th scope=col>&lt;chr&gt;</th><th scope=col>&lt;chr&gt;</th><th scope=col>&lt;chr&gt;</th><th scope=col>&lt;chr&gt;</th><th scope=col>&lt;chr&gt;</th><th scope=col>&lt;chr&gt;</th><th scope=col>&lt;dbl&gt;</th></tr>\n",
       "</thead>\n",
       "<tbody>\n",
       "\t<tr><th scope=row>1</th><td>P01</td><td>R</td><td>TCF4</td><td>P01-Baseline_Epi_Normal</td><td>Baseline</td><td>Epi_Normal</td><td>3.842535</td></tr>\n",
       "\t<tr><th scope=row>2</th><td>P01</td><td>R</td><td>TCF4</td><td>P01-Baseline_Mixture   </td><td>Baseline</td><td>Mixture   </td><td>3.468613</td></tr>\n",
       "</tbody>\n",
       "</table>\n"
      ],
      "text/latex": [
       "A data.frame: 2 × 7\n",
       "\\begin{tabular}{r|lllllll}\n",
       "  & patient & response & symbol & sample & sample\\_type & cellgp & logcpm\\\\\n",
       "  & <chr> & <chr> & <chr> & <chr> & <chr> & <chr> & <dbl>\\\\\n",
       "\\hline\n",
       "\t1 & P01 & R & TCF4 & P01-Baseline\\_Epi\\_Normal & Baseline & Epi\\_Normal & 3.842535\\\\\n",
       "\t2 & P01 & R & TCF4 & P01-Baseline\\_Mixture    & Baseline & Mixture    & 3.468613\\\\\n",
       "\\end{tabular}\n"
      ],
      "text/markdown": [
       "\n",
       "A data.frame: 2 × 7\n",
       "\n",
       "| <!--/--> | patient &lt;chr&gt; | response &lt;chr&gt; | symbol &lt;chr&gt; | sample &lt;chr&gt; | sample_type &lt;chr&gt; | cellgp &lt;chr&gt; | logcpm &lt;dbl&gt; |\n",
       "|---|---|---|---|---|---|---|---|\n",
       "| 1 | P01 | R | TCF4 | P01-Baseline_Epi_Normal | Baseline | Epi_Normal | 3.842535 |\n",
       "| 2 | P01 | R | TCF4 | P01-Baseline_Mixture    | Baseline | Mixture    | 3.468613 |\n",
       "\n"
      ],
      "text/plain": [
       "  patient response symbol sample                  sample_type cellgp    \n",
       "1 P01     R        TCF4   P01-Baseline_Epi_Normal Baseline    Epi_Normal\n",
       "2 P01     R        TCF4   P01-Baseline_Mixture    Baseline    Mixture   \n",
       "  logcpm  \n",
       "1 3.842535\n",
       "2 3.468613"
      ]
     },
     "metadata": {},
     "output_type": "display_data"
    }
   ],
   "source": [
    "exprs %>% head(2)"
   ]
  },
  {
   "cell_type": "code",
   "execution_count": 74,
   "id": "325084d8-c394-47c6-9a5d-31732a0e0d31",
   "metadata": {
    "tags": [],
    "vscode": {
     "languageId": "r"
    }
   },
   "outputs": [
    {
     "data": {
      "text/html": [
       "<table class=\"dataframe\">\n",
       "<caption>A data.frame: 6 × 3</caption>\n",
       "<thead>\n",
       "\t<tr><th scope=col>cellgp</th><th scope=col>response</th><th scope=col>n</th></tr>\n",
       "\t<tr><th scope=col>&lt;chr&gt;</th><th scope=col>&lt;chr&gt;</th><th scope=col>&lt;int&gt;</th></tr>\n",
       "</thead>\n",
       "<tbody>\n",
       "\t<tr><td>Tumor_Gp1</td><td>PR</td><td>28</td></tr>\n",
       "\t<tr><td>Tumor_Gp1</td><td>R </td><td>38</td></tr>\n",
       "\t<tr><td>Tumor_Gp1</td><td>NA</td><td>11</td></tr>\n",
       "\t<tr><td>Tumor_Gp2</td><td>PR</td><td>21</td></tr>\n",
       "\t<tr><td>Tumor_Gp2</td><td>R </td><td>26</td></tr>\n",
       "\t<tr><td>Tumor_Gp2</td><td>NA</td><td> 7</td></tr>\n",
       "</tbody>\n",
       "</table>\n"
      ],
      "text/latex": [
       "A data.frame: 6 × 3\n",
       "\\begin{tabular}{lll}\n",
       " cellgp & response & n\\\\\n",
       " <chr> & <chr> & <int>\\\\\n",
       "\\hline\n",
       "\t Tumor\\_Gp1 & PR & 28\\\\\n",
       "\t Tumor\\_Gp1 & R  & 38\\\\\n",
       "\t Tumor\\_Gp1 & NA & 11\\\\\n",
       "\t Tumor\\_Gp2 & PR & 21\\\\\n",
       "\t Tumor\\_Gp2 & R  & 26\\\\\n",
       "\t Tumor\\_Gp2 & NA &  7\\\\\n",
       "\\end{tabular}\n"
      ],
      "text/markdown": [
       "\n",
       "A data.frame: 6 × 3\n",
       "\n",
       "| cellgp &lt;chr&gt; | response &lt;chr&gt; | n &lt;int&gt; |\n",
       "|---|---|---|\n",
       "| Tumor_Gp1 | PR | 28 |\n",
       "| Tumor_Gp1 | R  | 38 |\n",
       "| Tumor_Gp1 | NA | 11 |\n",
       "| Tumor_Gp2 | PR | 21 |\n",
       "| Tumor_Gp2 | R  | 26 |\n",
       "| Tumor_Gp2 | NA |  7 |\n",
       "\n"
      ],
      "text/plain": [
       "  cellgp    response n \n",
       "1 Tumor_Gp1 PR       28\n",
       "2 Tumor_Gp1 R        38\n",
       "3 Tumor_Gp1 NA       11\n",
       "4 Tumor_Gp2 PR       21\n",
       "5 Tumor_Gp2 R        26\n",
       "6 Tumor_Gp2 NA        7"
      ]
     },
     "metadata": {},
     "output_type": "display_data"
    }
   ],
   "source": [
    "exprs %>% \n",
    "filter(cellgp %in% c('Tumor_Gp1', 'Tumor_Gp2')) %>% \n",
    "count(cellgp, .data[[gp]])"
   ]
  },
  {
   "cell_type": "code",
   "execution_count": 58,
   "id": "5d107855-d7cd-494a-a09e-c51092713eeb",
   "metadata": {
    "tags": [],
    "vscode": {
     "languageId": "r"
    }
   },
   "outputs": [
    {
     "data": {
      "image/png": "[encoded data removed]",
      "text/plain": [
       "plot without title"
      ]
     },
     "metadata": {
      "image/png": {
       "height": 420,
       "width": 420
      }
     },
     "output_type": "display_data"
    }
   ],
   "source": [
    "exprs %>% \n",
    "filter(cellgp %in% c('Tumor_Gp1', 'Tumor_Gp2')) %>% \n",
    "cell_comp_boxplot(x = 'cellgp', y = 'logcpm', pt_fill = gp, facet_by = gp, pair_by = NULL,\n",
    "                  xorder = c('Tumor_Gp1', 'Tumor_Gp2'), fill_order = gp_lvls[[gp]]) +\n",
    "labs(y = 'TCF4 expression in Epi', fill = 'Response')"
   ]
  },
  {
   "cell_type": "code",
   "execution_count": 59,
   "id": "8185a8bc-c690-4fa9-9798-8059523835b3",
   "metadata": {
    "collapsed": true,
    "jupyter": {
     "outputs_hidden": true
    },
    "tags": [],
    "vscode": {
     "languageId": "r"
    }
   },
   "outputs": [
    {
     "name": "stdout",
     "output_type": "stream",
     "text": [
      "\u001b[0m2024-02-23 22:51:50 INFO::these clinial info will be added: response\u001b[0m\u001b[22m\u001b[23m\u001b[24m\u001b[27m\u001b[28m\u001b[29m\u001b[39m\u001b[49m\u001b[0m\u001b[0m\u001b[22m\u001b[23m\u001b[24m\u001b[27m\u001b[28m\u001b[29m\u001b[39m\u001b[49m\n"
     ]
    },
    {
     "data": {
      "image/png": "[encoded data removed]",
      "text/plain": [
       "plot without title"
      ]
     },
     "metadata": {
      "image/png": {
       "height": 420,
       "width": 420
      }
     },
     "output_type": "display_data"
    }
   ],
   "source": [
    "AverageExpression(scrna, slot = 'data', features = genes, group.by = c('sample', 'cellgp'))[['RNA']] %>% \n",
    "    as.data.frame() %>% \n",
    "pivot_longer(starts_with('P'), names_to = 'sample', values_to = 'logcpm') %>%\n",
    "    extract(col = 'sample', regex = '(.+?)-(.+?)_(.+)', into = c('patient', 'sample_type', 'cellgp'), remove = F) %>% \n",
    "    add_clin_info(ftsv = f_pat_gp, columns = gp, merge_by = 'patient') %>% \n",
    "filter(cellgp %in% c('Tumor_Gp1', 'Tumor_Gp2')) %>% \n",
    "cell_comp_boxplot(x = 'cellgp', y = 'logcpm', pt_fill = gp, facet_by = gp, pair_by = NULL,\n",
    "                  xorder = c('Tumor_Gp1', 'Tumor_Gp2'), fill_order = gp_lvls[[gp]]) +\n",
    "labs(y = 'TCF4 expression in Epi', fill = 'Response')"
   ]
  },
  {
   "cell_type": "code",
   "execution_count": 65,
   "id": "e7b3a8ff-40ff-4889-b821-ab7cf821d1d7",
   "metadata": {
    "collapsed": true,
    "jupyter": {
     "outputs_hidden": true
    },
    "tags": [],
    "vscode": {
     "languageId": "r"
    }
   },
   "outputs": [
    {
     "name": "stdout",
     "output_type": "stream",
     "text": [
      "\u001b[0m2024-02-23 22:53:28 INFO::these clinial info will be added: response\u001b[0m\u001b[22m\u001b[23m\u001b[24m\u001b[27m\u001b[28m\u001b[29m\u001b[39m\u001b[49m\u001b[0m\u001b[0m\u001b[22m\u001b[23m\u001b[24m\u001b[27m\u001b[28m\u001b[29m\u001b[39m\u001b[49m\n"
     ]
    },
    {
     "data": {
      "text/html": [
       "<table class=\"dataframe\">\n",
       "<caption>A data.frame: 4 × 3</caption>\n",
       "<thead>\n",
       "\t<tr><th scope=col>response</th><th scope=col>mandard_group</th><th scope=col>n</th></tr>\n",
       "\t<tr><th scope=col>&lt;chr&gt;</th><th scope=col>&lt;chr&gt;</th><th scope=col>&lt;int&gt;</th></tr>\n",
       "</thead>\n",
       "<tbody>\n",
       "\t<tr><td>PR</td><td>poor</td><td>16</td></tr>\n",
       "\t<tr><td>R </td><td>good</td><td>25</td></tr>\n",
       "\t<tr><td>NA</td><td>Out </td><td> 6</td></tr>\n",
       "\t<tr><td>NA</td><td>NA  </td><td> 5</td></tr>\n",
       "</tbody>\n",
       "</table>\n"
      ],
      "text/latex": [
       "A data.frame: 4 × 3\n",
       "\\begin{tabular}{lll}\n",
       " response & mandard\\_group & n\\\\\n",
       " <chr> & <chr> & <int>\\\\\n",
       "\\hline\n",
       "\t PR & poor & 16\\\\\n",
       "\t R  & good & 25\\\\\n",
       "\t NA & Out  &  6\\\\\n",
       "\t NA & NA   &  5\\\\\n",
       "\\end{tabular}\n"
      ],
      "text/markdown": [
       "\n",
       "A data.frame: 4 × 3\n",
       "\n",
       "| response &lt;chr&gt; | mandard_group &lt;chr&gt; | n &lt;int&gt; |\n",
       "|---|---|---|\n",
       "| PR | poor | 16 |\n",
       "| R  | good | 25 |\n",
       "| NA | Out  |  6 |\n",
       "| NA | NA   |  5 |\n",
       "\n"
      ],
      "text/plain": [
       "  response mandard_group n \n",
       "1 PR       poor          16\n",
       "2 R        good          25\n",
       "3 NA       Out            6\n",
       "4 NA       NA             5"
      ]
     },
     "metadata": {},
     "output_type": "display_data"
    }
   ],
   "source": [
    "scrna@meta.data %>% \n",
    "    count(patient, mandard_group) %>% \n",
    "    add_clin_info(ftsv = f_pat_gp, columns = gp, merge_by = 'patient') %>% \n",
    "    count(.data[[gp]], mandard_group)"
   ]
  },
  {
   "cell_type": "code",
   "execution_count": 68,
   "id": "eac40698-1792-49c4-bfa3-e8b44f03b0e5",
   "metadata": {
    "collapsed": true,
    "jupyter": {
     "outputs_hidden": true
    },
    "tags": [],
    "vscode": {
     "languageId": "r"
    }
   },
   "outputs": [
    {
     "name": "stderr",
     "output_type": "stream",
     "text": [
      "\u001b[1m\u001b[22mScale for \u001b[32mcolour\u001b[39m is already present.\n",
      "Adding another scale for \u001b[32mcolour\u001b[39m, which will replace the existing scale.\n"
     ]
    },
    {
     "data": {
      "image/png": "[encoded data removed]",
      "text/plain": [
       "plot without title"
      ]
     },
     "metadata": {
      "image/png": {
       "height": 420,
       "width": 420
      }
     },
     "output_type": "display_data"
    }
   ],
   "source": [
    "scrna$mandard_group[scrna$mandard_group == 'Out'] <- NA\n",
    "scrna$gp <- paste(scrna$mandard_group, scrna$cellgp)\n",
    "DotPlot(object = scrna, features = genes, group.by = 'gp') +\n",
    "scale_color_gsea()"
   ]
  },
  {
   "cell_type": "code",
   "execution_count": null,
   "id": "8b78d323-913b-4e88-91a4-2a0bb4b04ec1",
   "metadata": {
    "vscode": {
     "languageId": "r"
    }
   },
   "outputs": [
    {
     "data": {
      "text/html": [
       "<table class=\"dataframe\">\n",
       "<caption>A data.frame: 1 × 12</caption>\n",
       "<thead>\n",
       "\t<tr><th scope=col>good Epi_Normal</th><th scope=col>good Mixture</th><th scope=col>good Tumor_Gp1</th><th scope=col>good Tumor_Gp2</th><th scope=col>NA Epi_Normal</th><th scope=col>NA Mixture</th><th scope=col>NA Tumor_Gp1</th><th scope=col>NA Tumor_Gp2</th><th scope=col>poor Epi_Normal</th><th scope=col>poor Mixture</th><th scope=col>poor Tumor_Gp1</th><th scope=col>poor Tumor_Gp2</th></tr>\n",
       "\t<tr><th scope=col>&lt;dbl&gt;</th><th scope=col>&lt;dbl&gt;</th><th scope=col>&lt;dbl&gt;</th><th scope=col>&lt;dbl&gt;</th><th scope=col>&lt;dbl&gt;</th><th scope=col>&lt;dbl&gt;</th><th scope=col>&lt;dbl&gt;</th><th scope=col>&lt;dbl&gt;</th><th scope=col>&lt;dbl&gt;</th><th scope=col>&lt;dbl&gt;</th><th scope=col>&lt;dbl&gt;</th><th scope=col>&lt;dbl&gt;</th></tr>\n",
       "</thead>\n",
       "<tbody>\n",
       "\t<tr><td>0.5694111</td><td>0.3964498</td><td>0.4148648</td><td>0.5593576</td><td>0.4551194</td><td>0.3958155</td><td>0.3163904</td><td>0.504915</td><td>0.6574606</td><td>0.716883</td><td>0.3856105</td><td>0.7056595</td></tr>\n",
       "</tbody>\n",
       "</table>\n"
      ],
      "text/latex": [
       "A data.frame: 1 × 12\n",
       "\\begin{tabular}{llllllllllll}\n",
       " good Epi\\_Normal & good Mixture & good Tumor\\_Gp1 & good Tumor\\_Gp2 & NA Epi\\_Normal & NA Mixture & NA Tumor\\_Gp1 & NA Tumor\\_Gp2 & poor Epi\\_Normal & poor Mixture & poor Tumor\\_Gp1 & poor Tumor\\_Gp2\\\\\n",
       " <dbl> & <dbl> & <dbl> & <dbl> & <dbl> & <dbl> & <dbl> & <dbl> & <dbl> & <dbl> & <dbl> & <dbl>\\\\\n",
       "\\hline\n",
       "\t 0.5694111 & 0.3964498 & 0.4148648 & 0.5593576 & 0.4551194 & 0.3958155 & 0.3163904 & 0.504915 & 0.6574606 & 0.716883 & 0.3856105 & 0.7056595\\\\\n",
       "\\end{tabular}\n"
      ],
      "text/markdown": [
       "\n",
       "A data.frame: 1 × 12\n",
       "\n",
       "| good Epi_Normal &lt;dbl&gt; | good Mixture &lt;dbl&gt; | good Tumor_Gp1 &lt;dbl&gt; | good Tumor_Gp2 &lt;dbl&gt; | NA Epi_Normal &lt;dbl&gt; | NA Mixture &lt;dbl&gt; | NA Tumor_Gp1 &lt;dbl&gt; | NA Tumor_Gp2 &lt;dbl&gt; | poor Epi_Normal &lt;dbl&gt; | poor Mixture &lt;dbl&gt; | poor Tumor_Gp1 &lt;dbl&gt; | poor Tumor_Gp2 &lt;dbl&gt; |\n",
       "|---|---|---|---|---|---|---|---|---|---|---|---|\n",
       "| 0.5694111 | 0.3964498 | 0.4148648 | 0.5593576 | 0.4551194 | 0.3958155 | 0.3163904 | 0.504915 | 0.6574606 | 0.716883 | 0.3856105 | 0.7056595 |\n",
       "\n"
      ],
      "text/plain": [
       "  good Epi_Normal good Mixture good Tumor_Gp1 good Tumor_Gp2 NA Epi_Normal\n",
       "1 0.5694111       0.3964498    0.4148648      0.5593576      0.4551194    \n",
       "  NA Mixture NA Tumor_Gp1 NA Tumor_Gp2 poor Epi_Normal poor Mixture\n",
       "1 0.3958155  0.3163904    0.504915     0.6574606       0.716883    \n",
       "  poor Tumor_Gp1 poor Tumor_Gp2\n",
       "1 0.3856105      0.7056595     "
      ]
     },
     "metadata": {},
     "output_type": "display_data"
    }
   ],
   "source": [
    "AverageExpression(scrna, slot = 'data', features = genes, group.by = 'gp')[['RNA']] %>% \n",
    "    as.data.frame() "
   ]
  },
  {
   "cell_type": "code",
   "execution_count": 76,
   "id": "ee568acf-f168-48e3-802e-e82ff24ebb75",
   "metadata": {
    "collapsed": true,
    "jupyter": {
     "outputs_hidden": true
    },
    "tags": [],
    "vscode": {
     "languageId": "r"
    }
   },
   "outputs": [
    {
     "name": "stdout",
     "output_type": "stream",
     "text": [
      "\u001b[0m2024-02-23 23:45:00 INFO::these clinial info will be added: response\u001b[0m\u001b[22m\u001b[23m\u001b[24m\u001b[27m\u001b[28m\u001b[29m\u001b[39m\u001b[49m\u001b[0m\u001b[0m\u001b[22m\u001b[23m\u001b[24m\u001b[27m\u001b[28m\u001b[29m\u001b[39m\u001b[49m\n"
     ]
    },
    {
     "data": {
      "text/html": [
       "<table class=\"dataframe\">\n",
       "<caption>A data.frame: 131 × 6</caption>\n",
       "<thead>\n",
       "\t<tr><th scope=col>patient</th><th scope=col>response</th><th scope=col>sample</th><th scope=col>sample_type</th><th scope=col>cellgp</th><th scope=col>logcpm</th></tr>\n",
       "\t<tr><th scope=col>&lt;chr&gt;</th><th scope=col>&lt;chr&gt;</th><th scope=col>&lt;chr&gt;</th><th scope=col>&lt;chr&gt;</th><th scope=col>&lt;chr&gt;</th><th scope=col>&lt;dbl&gt;</th></tr>\n",
       "</thead>\n",
       "<tbody>\n",
       "\t<tr><td>P01</td><td>R </td><td>P01-Baseline_Tumor_Gp1</td><td>Baseline</td><td>Tumor_Gp1</td><td>0.50652101</td></tr>\n",
       "\t<tr><td>P01</td><td>R </td><td>P01-Baseline_Tumor_Gp2</td><td>Baseline</td><td>Tumor_Gp2</td><td>0.16973998</td></tr>\n",
       "\t<tr><td>P01</td><td>R </td><td>P01-Treat_Tumor_Gp1   </td><td>Treat   </td><td>Tumor_Gp1</td><td>0.75161838</td></tr>\n",
       "\t<tr><td>P02</td><td>NA</td><td>P02-Baseline_Tumor_Gp1</td><td>Baseline</td><td>Tumor_Gp1</td><td>0.38492308</td></tr>\n",
       "\t<tr><td>P02</td><td>NA</td><td>P02-Baseline_Tumor_Gp2</td><td>Baseline</td><td>Tumor_Gp2</td><td>0.00000000</td></tr>\n",
       "\t<tr><td>P03</td><td>PR</td><td>P03-Baseline_Tumor_Gp1</td><td>Baseline</td><td>Tumor_Gp1</td><td>0.03984813</td></tr>\n",
       "\t<tr><td>P03</td><td>PR</td><td>P03-Baseline_Tumor_Gp2</td><td>Baseline</td><td>Tumor_Gp2</td><td>4.00000000</td></tr>\n",
       "\t<tr><td>P03</td><td>PR</td><td>P03-Treat_Tumor_Gp1   </td><td>Treat   </td><td>Tumor_Gp1</td><td>0.06710821</td></tr>\n",
       "\t<tr><td>P03</td><td>PR</td><td>P03-Treat_Tumor_Gp2   </td><td>Treat   </td><td>Tumor_Gp2</td><td>0.00000000</td></tr>\n",
       "\t<tr><td>P04</td><td>PR</td><td>P04-Baseline_Tumor_Gp1</td><td>Baseline</td><td>Tumor_Gp1</td><td>3.78549499</td></tr>\n",
       "\t<tr><td>P04</td><td>PR</td><td>P04-Baseline_Tumor_Gp2</td><td>Baseline</td><td>Tumor_Gp2</td><td>6.09465975</td></tr>\n",
       "\t<tr><td>P04</td><td>PR</td><td>P04-Treat_Tumor_Gp1   </td><td>Treat   </td><td>Tumor_Gp1</td><td>2.55282078</td></tr>\n",
       "\t<tr><td>P04</td><td>PR</td><td>P04-Treat_Tumor_Gp2   </td><td>Treat   </td><td>Tumor_Gp2</td><td>4.19984603</td></tr>\n",
       "\t<tr><td>P05</td><td>R </td><td>P05-Baseline_Tumor_Gp1</td><td>Baseline</td><td>Tumor_Gp1</td><td>0.17265935</td></tr>\n",
       "\t<tr><td>P05</td><td>R </td><td>P05-Baseline_Tumor_Gp2</td><td>Baseline</td><td>Tumor_Gp2</td><td>0.00000000</td></tr>\n",
       "\t<tr><td>P05</td><td>R </td><td>P05-Treat_Tumor_Gp1   </td><td>Treat   </td><td>Tumor_Gp1</td><td>0.58466563</td></tr>\n",
       "\t<tr><td>P06</td><td>NA</td><td>P06-Baseline_Tumor_Gp1</td><td>Baseline</td><td>Tumor_Gp1</td><td>0.30635849</td></tr>\n",
       "\t<tr><td>P07</td><td>PR</td><td>P07-Baseline_Tumor_Gp1</td><td>Baseline</td><td>Tumor_Gp1</td><td>0.66563119</td></tr>\n",
       "\t<tr><td>P07</td><td>PR</td><td>P07-Treat_Tumor_Gp1   </td><td>Treat   </td><td>Tumor_Gp1</td><td>0.54007574</td></tr>\n",
       "\t<tr><td>P08</td><td>R </td><td>P08-Baseline_Tumor_Gp1</td><td>Baseline</td><td>Tumor_Gp1</td><td>0.06935871</td></tr>\n",
       "\t<tr><td>P08</td><td>R </td><td>P08-Baseline_Tumor_Gp2</td><td>Baseline</td><td>Tumor_Gp2</td><td>0.00000000</td></tr>\n",
       "\t<tr><td>P08</td><td>R </td><td>P08-Treat_Tumor_Gp1   </td><td>Treat   </td><td>Tumor_Gp1</td><td>0.50940797</td></tr>\n",
       "\t<tr><td>P09</td><td>PR</td><td>P09-Baseline_Tumor_Gp1</td><td>Baseline</td><td>Tumor_Gp1</td><td>0.12049088</td></tr>\n",
       "\t<tr><td>P09</td><td>PR</td><td>P09-Baseline_Tumor_Gp2</td><td>Baseline</td><td>Tumor_Gp2</td><td>0.04488975</td></tr>\n",
       "\t<tr><td>P09</td><td>PR</td><td>P09-Treat_Tumor_Gp1   </td><td>Treat   </td><td>Tumor_Gp1</td><td>0.27604805</td></tr>\n",
       "\t<tr><td>P09</td><td>PR</td><td>P09-Treat_Tumor_Gp2   </td><td>Treat   </td><td>Tumor_Gp2</td><td>1.06337729</td></tr>\n",
       "\t<tr><td>P10</td><td>NA</td><td>P10-Baseline_Tumor_Gp1</td><td>Baseline</td><td>Tumor_Gp1</td><td>0.03347300</td></tr>\n",
       "\t<tr><td>P11</td><td>NA</td><td>P11-Baseline_Tumor_Gp1</td><td>Baseline</td><td>Tumor_Gp1</td><td>0.31297259</td></tr>\n",
       "\t<tr><td>P11</td><td>NA</td><td>P11-Baseline_Tumor_Gp2</td><td>Baseline</td><td>Tumor_Gp2</td><td>0.09247700</td></tr>\n",
       "\t<tr><td>P12</td><td>PR</td><td>P12-Baseline_Tumor_Gp1</td><td>Baseline</td><td>Tumor_Gp1</td><td>0.63603904</td></tr>\n",
       "\t<tr><td>⋮</td><td>⋮</td><td>⋮</td><td>⋮</td><td>⋮</td><td>⋮</td></tr>\n",
       "\t<tr><td>P41</td><td>R </td><td>P41-Baseline_Tumor_Gp1</td><td>Baseline</td><td>Tumor_Gp1</td><td>0.08809100</td></tr>\n",
       "\t<tr><td>P41</td><td>R </td><td>P41-Baseline_Tumor_Gp2</td><td>Baseline</td><td>Tumor_Gp2</td><td>0.00000000</td></tr>\n",
       "\t<tr><td>P41</td><td>R </td><td>P41-Treat_Tumor_Gp1   </td><td>Treat   </td><td>Tumor_Gp1</td><td>0.07385122</td></tr>\n",
       "\t<tr><td>P43</td><td>R </td><td>P43-Baseline_Tumor_Gp1</td><td>Baseline</td><td>Tumor_Gp1</td><td>0.32532877</td></tr>\n",
       "\t<tr><td>P43</td><td>R </td><td>P43-Baseline_Tumor_Gp2</td><td>Baseline</td><td>Tumor_Gp2</td><td>0.05830173</td></tr>\n",
       "\t<tr><td>P43</td><td>R </td><td>P43-Treat_Tumor_Gp1   </td><td>Treat   </td><td>Tumor_Gp1</td><td>0.26357040</td></tr>\n",
       "\t<tr><td>P44</td><td>R </td><td>P44-Baseline_Tumor_Gp1</td><td>Baseline</td><td>Tumor_Gp1</td><td>0.24371415</td></tr>\n",
       "\t<tr><td>P44</td><td>R </td><td>P44-Baseline_Tumor_Gp2</td><td>Baseline</td><td>Tumor_Gp2</td><td>0.00000000</td></tr>\n",
       "\t<tr><td>P44</td><td>R </td><td>P44-Treat_Tumor_Gp1   </td><td>Treat   </td><td>Tumor_Gp1</td><td>1.11271797</td></tr>\n",
       "\t<tr><td>P44</td><td>R </td><td>P44-Treat_Tumor_Gp2   </td><td>Treat   </td><td>Tumor_Gp2</td><td>0.15496704</td></tr>\n",
       "\t<tr><td>P45</td><td>PR</td><td>P45-Baseline_Tumor_Gp1</td><td>Baseline</td><td>Tumor_Gp1</td><td>0.13342132</td></tr>\n",
       "\t<tr><td>P45</td><td>PR</td><td>P45-Baseline_Tumor_Gp2</td><td>Baseline</td><td>Tumor_Gp2</td><td>0.10024359</td></tr>\n",
       "\t<tr><td>P45</td><td>PR</td><td>P45-Treat_Tumor_Gp1   </td><td>Treat   </td><td>Tumor_Gp1</td><td>0.35168728</td></tr>\n",
       "\t<tr><td>P46</td><td>R </td><td>P46-Baseline_Tumor_Gp1</td><td>Baseline</td><td>Tumor_Gp1</td><td>0.50261550</td></tr>\n",
       "\t<tr><td>P46</td><td>R </td><td>P46-Baseline_Tumor_Gp2</td><td>Baseline</td><td>Tumor_Gp2</td><td>0.11003988</td></tr>\n",
       "\t<tr><td>P46</td><td>R </td><td>P46-Treat_Tumor_Gp1   </td><td>Treat   </td><td>Tumor_Gp1</td><td>0.18686276</td></tr>\n",
       "\t<tr><td>P46</td><td>R </td><td>P46-Treat_Tumor_Gp2   </td><td>Treat   </td><td>Tumor_Gp2</td><td>2.53544766</td></tr>\n",
       "\t<tr><td>P47</td><td>R </td><td>P47-Baseline_Tumor_Gp1</td><td>Baseline</td><td>Tumor_Gp1</td><td>0.15186638</td></tr>\n",
       "\t<tr><td>P47</td><td>R </td><td>P47-Baseline_Tumor_Gp2</td><td>Baseline</td><td>Tumor_Gp2</td><td>0.00000000</td></tr>\n",
       "\t<tr><td>P47</td><td>R </td><td>P47-Treat_Tumor_Gp1   </td><td>Treat   </td><td>Tumor_Gp1</td><td>0.10841523</td></tr>\n",
       "\t<tr><td>P48</td><td>PR</td><td>P48-Baseline_Tumor_Gp1</td><td>Baseline</td><td>Tumor_Gp1</td><td>0.18925572</td></tr>\n",
       "\t<tr><td>P48</td><td>PR</td><td>P48-Baseline_Tumor_Gp2</td><td>Baseline</td><td>Tumor_Gp2</td><td>0.00000000</td></tr>\n",
       "\t<tr><td>P48</td><td>PR</td><td>P48-Treat_Tumor_Gp1   </td><td>Treat   </td><td>Tumor_Gp1</td><td>0.67771150</td></tr>\n",
       "\t<tr><td>P49</td><td>PR</td><td>P49-Baseline_Tumor_Gp1</td><td>Baseline</td><td>Tumor_Gp1</td><td>0.06881111</td></tr>\n",
       "\t<tr><td>P49</td><td>PR</td><td>P49-Baseline_Tumor_Gp2</td><td>Baseline</td><td>Tumor_Gp2</td><td>0.57235886</td></tr>\n",
       "\t<tr><td>P50</td><td>PR</td><td>P50-Baseline_Tumor_Gp1</td><td>Baseline</td><td>Tumor_Gp1</td><td>0.39964038</td></tr>\n",
       "\t<tr><td>P50</td><td>PR</td><td>P50-Baseline_Tumor_Gp2</td><td>Baseline</td><td>Tumor_Gp2</td><td>0.00000000</td></tr>\n",
       "\t<tr><td>P51</td><td>R </td><td>P51-Baseline_Tumor_Gp1</td><td>Baseline</td><td>Tumor_Gp1</td><td>0.11690158</td></tr>\n",
       "\t<tr><td>P52</td><td>NA</td><td>P52-Baseline_Tumor_Gp1</td><td>Baseline</td><td>Tumor_Gp1</td><td>0.17190488</td></tr>\n",
       "\t<tr><td>P52</td><td>NA</td><td>P52-Baseline_Tumor_Gp2</td><td>Baseline</td><td>Tumor_Gp2</td><td>0.00000000</td></tr>\n",
       "</tbody>\n",
       "</table>\n"
      ],
      "text/latex": [
       "A data.frame: 131 × 6\n",
       "\\begin{tabular}{llllll}\n",
       " patient & response & sample & sample\\_type & cellgp & logcpm\\\\\n",
       " <chr> & <chr> & <chr> & <chr> & <chr> & <dbl>\\\\\n",
       "\\hline\n",
       "\t P01 & R  & P01-Baseline\\_Tumor\\_Gp1 & Baseline & Tumor\\_Gp1 & 0.50652101\\\\\n",
       "\t P01 & R  & P01-Baseline\\_Tumor\\_Gp2 & Baseline & Tumor\\_Gp2 & 0.16973998\\\\\n",
       "\t P01 & R  & P01-Treat\\_Tumor\\_Gp1    & Treat    & Tumor\\_Gp1 & 0.75161838\\\\\n",
       "\t P02 & NA & P02-Baseline\\_Tumor\\_Gp1 & Baseline & Tumor\\_Gp1 & 0.38492308\\\\\n",
       "\t P02 & NA & P02-Baseline\\_Tumor\\_Gp2 & Baseline & Tumor\\_Gp2 & 0.00000000\\\\\n",
       "\t P03 & PR & P03-Baseline\\_Tumor\\_Gp1 & Baseline & Tumor\\_Gp1 & 0.03984813\\\\\n",
       "\t P03 & PR & P03-Baseline\\_Tumor\\_Gp2 & Baseline & Tumor\\_Gp2 & 4.00000000\\\\\n",
       "\t P03 & PR & P03-Treat\\_Tumor\\_Gp1    & Treat    & Tumor\\_Gp1 & 0.06710821\\\\\n",
       "\t P03 & PR & P03-Treat\\_Tumor\\_Gp2    & Treat    & Tumor\\_Gp2 & 0.00000000\\\\\n",
       "\t P04 & PR & P04-Baseline\\_Tumor\\_Gp1 & Baseline & Tumor\\_Gp1 & 3.78549499\\\\\n",
       "\t P04 & PR & P04-Baseline\\_Tumor\\_Gp2 & Baseline & Tumor\\_Gp2 & 6.09465975\\\\\n",
       "\t P04 & PR & P04-Treat\\_Tumor\\_Gp1    & Treat    & Tumor\\_Gp1 & 2.55282078\\\\\n",
       "\t P04 & PR & P04-Treat\\_Tumor\\_Gp2    & Treat    & Tumor\\_Gp2 & 4.19984603\\\\\n",
       "\t P05 & R  & P05-Baseline\\_Tumor\\_Gp1 & Baseline & Tumor\\_Gp1 & 0.17265935\\\\\n",
       "\t P05 & R  & P05-Baseline\\_Tumor\\_Gp2 & Baseline & Tumor\\_Gp2 & 0.00000000\\\\\n",
       "\t P05 & R  & P05-Treat\\_Tumor\\_Gp1    & Treat    & Tumor\\_Gp1 & 0.58466563\\\\\n",
       "\t P06 & NA & P06-Baseline\\_Tumor\\_Gp1 & Baseline & Tumor\\_Gp1 & 0.30635849\\\\\n",
       "\t P07 & PR & P07-Baseline\\_Tumor\\_Gp1 & Baseline & Tumor\\_Gp1 & 0.66563119\\\\\n",
       "\t P07 & PR & P07-Treat\\_Tumor\\_Gp1    & Treat    & Tumor\\_Gp1 & 0.54007574\\\\\n",
       "\t P08 & R  & P08-Baseline\\_Tumor\\_Gp1 & Baseline & Tumor\\_Gp1 & 0.06935871\\\\\n",
       "\t P08 & R  & P08-Baseline\\_Tumor\\_Gp2 & Baseline & Tumor\\_Gp2 & 0.00000000\\\\\n",
       "\t P08 & R  & P08-Treat\\_Tumor\\_Gp1    & Treat    & Tumor\\_Gp1 & 0.50940797\\\\\n",
       "\t P09 & PR & P09-Baseline\\_Tumor\\_Gp1 & Baseline & Tumor\\_Gp1 & 0.12049088\\\\\n",
       "\t P09 & PR & P09-Baseline\\_Tumor\\_Gp2 & Baseline & Tumor\\_Gp2 & 0.04488975\\\\\n",
       "\t P09 & PR & P09-Treat\\_Tumor\\_Gp1    & Treat    & Tumor\\_Gp1 & 0.27604805\\\\\n",
       "\t P09 & PR & P09-Treat\\_Tumor\\_Gp2    & Treat    & Tumor\\_Gp2 & 1.06337729\\\\\n",
       "\t P10 & NA & P10-Baseline\\_Tumor\\_Gp1 & Baseline & Tumor\\_Gp1 & 0.03347300\\\\\n",
       "\t P11 & NA & P11-Baseline\\_Tumor\\_Gp1 & Baseline & Tumor\\_Gp1 & 0.31297259\\\\\n",
       "\t P11 & NA & P11-Baseline\\_Tumor\\_Gp2 & Baseline & Tumor\\_Gp2 & 0.09247700\\\\\n",
       "\t P12 & PR & P12-Baseline\\_Tumor\\_Gp1 & Baseline & Tumor\\_Gp1 & 0.63603904\\\\\n",
       "\t ⋮ & ⋮ & ⋮ & ⋮ & ⋮ & ⋮\\\\\n",
       "\t P41 & R  & P41-Baseline\\_Tumor\\_Gp1 & Baseline & Tumor\\_Gp1 & 0.08809100\\\\\n",
       "\t P41 & R  & P41-Baseline\\_Tumor\\_Gp2 & Baseline & Tumor\\_Gp2 & 0.00000000\\\\\n",
       "\t P41 & R  & P41-Treat\\_Tumor\\_Gp1    & Treat    & Tumor\\_Gp1 & 0.07385122\\\\\n",
       "\t P43 & R  & P43-Baseline\\_Tumor\\_Gp1 & Baseline & Tumor\\_Gp1 & 0.32532877\\\\\n",
       "\t P43 & R  & P43-Baseline\\_Tumor\\_Gp2 & Baseline & Tumor\\_Gp2 & 0.05830173\\\\\n",
       "\t P43 & R  & P43-Treat\\_Tumor\\_Gp1    & Treat    & Tumor\\_Gp1 & 0.26357040\\\\\n",
       "\t P44 & R  & P44-Baseline\\_Tumor\\_Gp1 & Baseline & Tumor\\_Gp1 & 0.24371415\\\\\n",
       "\t P44 & R  & P44-Baseline\\_Tumor\\_Gp2 & Baseline & Tumor\\_Gp2 & 0.00000000\\\\\n",
       "\t P44 & R  & P44-Treat\\_Tumor\\_Gp1    & Treat    & Tumor\\_Gp1 & 1.11271797\\\\\n",
       "\t P44 & R  & P44-Treat\\_Tumor\\_Gp2    & Treat    & Tumor\\_Gp2 & 0.15496704\\\\\n",
       "\t P45 & PR & P45-Baseline\\_Tumor\\_Gp1 & Baseline & Tumor\\_Gp1 & 0.13342132\\\\\n",
       "\t P45 & PR & P45-Baseline\\_Tumor\\_Gp2 & Baseline & Tumor\\_Gp2 & 0.10024359\\\\\n",
       "\t P45 & PR & P45-Treat\\_Tumor\\_Gp1    & Treat    & Tumor\\_Gp1 & 0.35168728\\\\\n",
       "\t P46 & R  & P46-Baseline\\_Tumor\\_Gp1 & Baseline & Tumor\\_Gp1 & 0.50261550\\\\\n",
       "\t P46 & R  & P46-Baseline\\_Tumor\\_Gp2 & Baseline & Tumor\\_Gp2 & 0.11003988\\\\\n",
       "\t P46 & R  & P46-Treat\\_Tumor\\_Gp1    & Treat    & Tumor\\_Gp1 & 0.18686276\\\\\n",
       "\t P46 & R  & P46-Treat\\_Tumor\\_Gp2    & Treat    & Tumor\\_Gp2 & 2.53544766\\\\\n",
       "\t P47 & R  & P47-Baseline\\_Tumor\\_Gp1 & Baseline & Tumor\\_Gp1 & 0.15186638\\\\\n",
       "\t P47 & R  & P47-Baseline\\_Tumor\\_Gp2 & Baseline & Tumor\\_Gp2 & 0.00000000\\\\\n",
       "\t P47 & R  & P47-Treat\\_Tumor\\_Gp1    & Treat    & Tumor\\_Gp1 & 0.10841523\\\\\n",
       "\t P48 & PR & P48-Baseline\\_Tumor\\_Gp1 & Baseline & Tumor\\_Gp1 & 0.18925572\\\\\n",
       "\t P48 & PR & P48-Baseline\\_Tumor\\_Gp2 & Baseline & Tumor\\_Gp2 & 0.00000000\\\\\n",
       "\t P48 & PR & P48-Treat\\_Tumor\\_Gp1    & Treat    & Tumor\\_Gp1 & 0.67771150\\\\\n",
       "\t P49 & PR & P49-Baseline\\_Tumor\\_Gp1 & Baseline & Tumor\\_Gp1 & 0.06881111\\\\\n",
       "\t P49 & PR & P49-Baseline\\_Tumor\\_Gp2 & Baseline & Tumor\\_Gp2 & 0.57235886\\\\\n",
       "\t P50 & PR & P50-Baseline\\_Tumor\\_Gp1 & Baseline & Tumor\\_Gp1 & 0.39964038\\\\\n",
       "\t P50 & PR & P50-Baseline\\_Tumor\\_Gp2 & Baseline & Tumor\\_Gp2 & 0.00000000\\\\\n",
       "\t P51 & R  & P51-Baseline\\_Tumor\\_Gp1 & Baseline & Tumor\\_Gp1 & 0.11690158\\\\\n",
       "\t P52 & NA & P52-Baseline\\_Tumor\\_Gp1 & Baseline & Tumor\\_Gp1 & 0.17190488\\\\\n",
       "\t P52 & NA & P52-Baseline\\_Tumor\\_Gp2 & Baseline & Tumor\\_Gp2 & 0.00000000\\\\\n",
       "\\end{tabular}\n"
      ],
      "text/markdown": [
       "\n",
       "A data.frame: 131 × 6\n",
       "\n",
       "| patient &lt;chr&gt; | response &lt;chr&gt; | sample &lt;chr&gt; | sample_type &lt;chr&gt; | cellgp &lt;chr&gt; | logcpm &lt;dbl&gt; |\n",
       "|---|---|---|---|---|---|\n",
       "| P01 | R  | P01-Baseline_Tumor_Gp1 | Baseline | Tumor_Gp1 | 0.50652101 |\n",
       "| P01 | R  | P01-Baseline_Tumor_Gp2 | Baseline | Tumor_Gp2 | 0.16973998 |\n",
       "| P01 | R  | P01-Treat_Tumor_Gp1    | Treat    | Tumor_Gp1 | 0.75161838 |\n",
       "| P02 | NA | P02-Baseline_Tumor_Gp1 | Baseline | Tumor_Gp1 | 0.38492308 |\n",
       "| P02 | NA | P02-Baseline_Tumor_Gp2 | Baseline | Tumor_Gp2 | 0.00000000 |\n",
       "| P03 | PR | P03-Baseline_Tumor_Gp1 | Baseline | Tumor_Gp1 | 0.03984813 |\n",
       "| P03 | PR | P03-Baseline_Tumor_Gp2 | Baseline | Tumor_Gp2 | 4.00000000 |\n",
       "| P03 | PR | P03-Treat_Tumor_Gp1    | Treat    | Tumor_Gp1 | 0.06710821 |\n",
       "| P03 | PR | P03-Treat_Tumor_Gp2    | Treat    | Tumor_Gp2 | 0.00000000 |\n",
       "| P04 | PR | P04-Baseline_Tumor_Gp1 | Baseline | Tumor_Gp1 | 3.78549499 |\n",
       "| P04 | PR | P04-Baseline_Tumor_Gp2 | Baseline | Tumor_Gp2 | 6.09465975 |\n",
       "| P04 | PR | P04-Treat_Tumor_Gp1    | Treat    | Tumor_Gp1 | 2.55282078 |\n",
       "| P04 | PR | P04-Treat_Tumor_Gp2    | Treat    | Tumor_Gp2 | 4.19984603 |\n",
       "| P05 | R  | P05-Baseline_Tumor_Gp1 | Baseline | Tumor_Gp1 | 0.17265935 |\n",
       "| P05 | R  | P05-Baseline_Tumor_Gp2 | Baseline | Tumor_Gp2 | 0.00000000 |\n",
       "| P05 | R  | P05-Treat_Tumor_Gp1    | Treat    | Tumor_Gp1 | 0.58466563 |\n",
       "| P06 | NA | P06-Baseline_Tumor_Gp1 | Baseline | Tumor_Gp1 | 0.30635849 |\n",
       "| P07 | PR | P07-Baseline_Tumor_Gp1 | Baseline | Tumor_Gp1 | 0.66563119 |\n",
       "| P07 | PR | P07-Treat_Tumor_Gp1    | Treat    | Tumor_Gp1 | 0.54007574 |\n",
       "| P08 | R  | P08-Baseline_Tumor_Gp1 | Baseline | Tumor_Gp1 | 0.06935871 |\n",
       "| P08 | R  | P08-Baseline_Tumor_Gp2 | Baseline | Tumor_Gp2 | 0.00000000 |\n",
       "| P08 | R  | P08-Treat_Tumor_Gp1    | Treat    | Tumor_Gp1 | 0.50940797 |\n",
       "| P09 | PR | P09-Baseline_Tumor_Gp1 | Baseline | Tumor_Gp1 | 0.12049088 |\n",
       "| P09 | PR | P09-Baseline_Tumor_Gp2 | Baseline | Tumor_Gp2 | 0.04488975 |\n",
       "| P09 | PR | P09-Treat_Tumor_Gp1    | Treat    | Tumor_Gp1 | 0.27604805 |\n",
       "| P09 | PR | P09-Treat_Tumor_Gp2    | Treat    | Tumor_Gp2 | 1.06337729 |\n",
       "| P10 | NA | P10-Baseline_Tumor_Gp1 | Baseline | Tumor_Gp1 | 0.03347300 |\n",
       "| P11 | NA | P11-Baseline_Tumor_Gp1 | Baseline | Tumor_Gp1 | 0.31297259 |\n",
       "| P11 | NA | P11-Baseline_Tumor_Gp2 | Baseline | Tumor_Gp2 | 0.09247700 |\n",
       "| P12 | PR | P12-Baseline_Tumor_Gp1 | Baseline | Tumor_Gp1 | 0.63603904 |\n",
       "| ⋮ | ⋮ | ⋮ | ⋮ | ⋮ | ⋮ |\n",
       "| P41 | R  | P41-Baseline_Tumor_Gp1 | Baseline | Tumor_Gp1 | 0.08809100 |\n",
       "| P41 | R  | P41-Baseline_Tumor_Gp2 | Baseline | Tumor_Gp2 | 0.00000000 |\n",
       "| P41 | R  | P41-Treat_Tumor_Gp1    | Treat    | Tumor_Gp1 | 0.07385122 |\n",
       "| P43 | R  | P43-Baseline_Tumor_Gp1 | Baseline | Tumor_Gp1 | 0.32532877 |\n",
       "| P43 | R  | P43-Baseline_Tumor_Gp2 | Baseline | Tumor_Gp2 | 0.05830173 |\n",
       "| P43 | R  | P43-Treat_Tumor_Gp1    | Treat    | Tumor_Gp1 | 0.26357040 |\n",
       "| P44 | R  | P44-Baseline_Tumor_Gp1 | Baseline | Tumor_Gp1 | 0.24371415 |\n",
       "| P44 | R  | P44-Baseline_Tumor_Gp2 | Baseline | Tumor_Gp2 | 0.00000000 |\n",
       "| P44 | R  | P44-Treat_Tumor_Gp1    | Treat    | Tumor_Gp1 | 1.11271797 |\n",
       "| P44 | R  | P44-Treat_Tumor_Gp2    | Treat    | Tumor_Gp2 | 0.15496704 |\n",
       "| P45 | PR | P45-Baseline_Tumor_Gp1 | Baseline | Tumor_Gp1 | 0.13342132 |\n",
       "| P45 | PR | P45-Baseline_Tumor_Gp2 | Baseline | Tumor_Gp2 | 0.10024359 |\n",
       "| P45 | PR | P45-Treat_Tumor_Gp1    | Treat    | Tumor_Gp1 | 0.35168728 |\n",
       "| P46 | R  | P46-Baseline_Tumor_Gp1 | Baseline | Tumor_Gp1 | 0.50261550 |\n",
       "| P46 | R  | P46-Baseline_Tumor_Gp2 | Baseline | Tumor_Gp2 | 0.11003988 |\n",
       "| P46 | R  | P46-Treat_Tumor_Gp1    | Treat    | Tumor_Gp1 | 0.18686276 |\n",
       "| P46 | R  | P46-Treat_Tumor_Gp2    | Treat    | Tumor_Gp2 | 2.53544766 |\n",
       "| P47 | R  | P47-Baseline_Tumor_Gp1 | Baseline | Tumor_Gp1 | 0.15186638 |\n",
       "| P47 | R  | P47-Baseline_Tumor_Gp2 | Baseline | Tumor_Gp2 | 0.00000000 |\n",
       "| P47 | R  | P47-Treat_Tumor_Gp1    | Treat    | Tumor_Gp1 | 0.10841523 |\n",
       "| P48 | PR | P48-Baseline_Tumor_Gp1 | Baseline | Tumor_Gp1 | 0.18925572 |\n",
       "| P48 | PR | P48-Baseline_Tumor_Gp2 | Baseline | Tumor_Gp2 | 0.00000000 |\n",
       "| P48 | PR | P48-Treat_Tumor_Gp1    | Treat    | Tumor_Gp1 | 0.67771150 |\n",
       "| P49 | PR | P49-Baseline_Tumor_Gp1 | Baseline | Tumor_Gp1 | 0.06881111 |\n",
       "| P49 | PR | P49-Baseline_Tumor_Gp2 | Baseline | Tumor_Gp2 | 0.57235886 |\n",
       "| P50 | PR | P50-Baseline_Tumor_Gp1 | Baseline | Tumor_Gp1 | 0.39964038 |\n",
       "| P50 | PR | P50-Baseline_Tumor_Gp2 | Baseline | Tumor_Gp2 | 0.00000000 |\n",
       "| P51 | R  | P51-Baseline_Tumor_Gp1 | Baseline | Tumor_Gp1 | 0.11690158 |\n",
       "| P52 | NA | P52-Baseline_Tumor_Gp1 | Baseline | Tumor_Gp1 | 0.17190488 |\n",
       "| P52 | NA | P52-Baseline_Tumor_Gp2 | Baseline | Tumor_Gp2 | 0.00000000 |\n",
       "\n"
      ],
      "text/plain": [
       "    patient response sample                 sample_type cellgp    logcpm    \n",
       "1   P01     R        P01-Baseline_Tumor_Gp1 Baseline    Tumor_Gp1 0.50652101\n",
       "2   P01     R        P01-Baseline_Tumor_Gp2 Baseline    Tumor_Gp2 0.16973998\n",
       "3   P01     R        P01-Treat_Tumor_Gp1    Treat       Tumor_Gp1 0.75161838\n",
       "4   P02     NA       P02-Baseline_Tumor_Gp1 Baseline    Tumor_Gp1 0.38492308\n",
       "5   P02     NA       P02-Baseline_Tumor_Gp2 Baseline    Tumor_Gp2 0.00000000\n",
       "6   P03     PR       P03-Baseline_Tumor_Gp1 Baseline    Tumor_Gp1 0.03984813\n",
       "7   P03     PR       P03-Baseline_Tumor_Gp2 Baseline    Tumor_Gp2 4.00000000\n",
       "8   P03     PR       P03-Treat_Tumor_Gp1    Treat       Tumor_Gp1 0.06710821\n",
       "9   P03     PR       P03-Treat_Tumor_Gp2    Treat       Tumor_Gp2 0.00000000\n",
       "10  P04     PR       P04-Baseline_Tumor_Gp1 Baseline    Tumor_Gp1 3.78549499\n",
       "11  P04     PR       P04-Baseline_Tumor_Gp2 Baseline    Tumor_Gp2 6.09465975\n",
       "12  P04     PR       P04-Treat_Tumor_Gp1    Treat       Tumor_Gp1 2.55282078\n",
       "13  P04     PR       P04-Treat_Tumor_Gp2    Treat       Tumor_Gp2 4.19984603\n",
       "14  P05     R        P05-Baseline_Tumor_Gp1 Baseline    Tumor_Gp1 0.17265935\n",
       "15  P05     R        P05-Baseline_Tumor_Gp2 Baseline    Tumor_Gp2 0.00000000\n",
       "16  P05     R        P05-Treat_Tumor_Gp1    Treat       Tumor_Gp1 0.58466563\n",
       "17  P06     NA       P06-Baseline_Tumor_Gp1 Baseline    Tumor_Gp1 0.30635849\n",
       "18  P07     PR       P07-Baseline_Tumor_Gp1 Baseline    Tumor_Gp1 0.66563119\n",
       "19  P07     PR       P07-Treat_Tumor_Gp1    Treat       Tumor_Gp1 0.54007574\n",
       "20  P08     R        P08-Baseline_Tumor_Gp1 Baseline    Tumor_Gp1 0.06935871\n",
       "21  P08     R        P08-Baseline_Tumor_Gp2 Baseline    Tumor_Gp2 0.00000000\n",
       "22  P08     R        P08-Treat_Tumor_Gp1    Treat       Tumor_Gp1 0.50940797\n",
       "23  P09     PR       P09-Baseline_Tumor_Gp1 Baseline    Tumor_Gp1 0.12049088\n",
       "24  P09     PR       P09-Baseline_Tumor_Gp2 Baseline    Tumor_Gp2 0.04488975\n",
       "25  P09     PR       P09-Treat_Tumor_Gp1    Treat       Tumor_Gp1 0.27604805\n",
       "26  P09     PR       P09-Treat_Tumor_Gp2    Treat       Tumor_Gp2 1.06337729\n",
       "27  P10     NA       P10-Baseline_Tumor_Gp1 Baseline    Tumor_Gp1 0.03347300\n",
       "28  P11     NA       P11-Baseline_Tumor_Gp1 Baseline    Tumor_Gp1 0.31297259\n",
       "29  P11     NA       P11-Baseline_Tumor_Gp2 Baseline    Tumor_Gp2 0.09247700\n",
       "30  P12     PR       P12-Baseline_Tumor_Gp1 Baseline    Tumor_Gp1 0.63603904\n",
       "⋮   ⋮       ⋮        ⋮                      ⋮           ⋮         ⋮         \n",
       "102 P41     R        P41-Baseline_Tumor_Gp1 Baseline    Tumor_Gp1 0.08809100\n",
       "103 P41     R        P41-Baseline_Tumor_Gp2 Baseline    Tumor_Gp2 0.00000000\n",
       "104 P41     R        P41-Treat_Tumor_Gp1    Treat       Tumor_Gp1 0.07385122\n",
       "105 P43     R        P43-Baseline_Tumor_Gp1 Baseline    Tumor_Gp1 0.32532877\n",
       "106 P43     R        P43-Baseline_Tumor_Gp2 Baseline    Tumor_Gp2 0.05830173\n",
       "107 P43     R        P43-Treat_Tumor_Gp1    Treat       Tumor_Gp1 0.26357040\n",
       "108 P44     R        P44-Baseline_Tumor_Gp1 Baseline    Tumor_Gp1 0.24371415\n",
       "109 P44     R        P44-Baseline_Tumor_Gp2 Baseline    Tumor_Gp2 0.00000000\n",
       "110 P44     R        P44-Treat_Tumor_Gp1    Treat       Tumor_Gp1 1.11271797\n",
       "111 P44     R        P44-Treat_Tumor_Gp2    Treat       Tumor_Gp2 0.15496704\n",
       "112 P45     PR       P45-Baseline_Tumor_Gp1 Baseline    Tumor_Gp1 0.13342132\n",
       "113 P45     PR       P45-Baseline_Tumor_Gp2 Baseline    Tumor_Gp2 0.10024359\n",
       "114 P45     PR       P45-Treat_Tumor_Gp1    Treat       Tumor_Gp1 0.35168728\n",
       "115 P46     R        P46-Baseline_Tumor_Gp1 Baseline    Tumor_Gp1 0.50261550\n",
       "116 P46     R        P46-Baseline_Tumor_Gp2 Baseline    Tumor_Gp2 0.11003988\n",
       "117 P46     R        P46-Treat_Tumor_Gp1    Treat       Tumor_Gp1 0.18686276\n",
       "118 P46     R        P46-Treat_Tumor_Gp2    Treat       Tumor_Gp2 2.53544766\n",
       "119 P47     R        P47-Baseline_Tumor_Gp1 Baseline    Tumor_Gp1 0.15186638\n",
       "120 P47     R        P47-Baseline_Tumor_Gp2 Baseline    Tumor_Gp2 0.00000000\n",
       "121 P47     R        P47-Treat_Tumor_Gp1    Treat       Tumor_Gp1 0.10841523\n",
       "122 P48     PR       P48-Baseline_Tumor_Gp1 Baseline    Tumor_Gp1 0.18925572\n",
       "123 P48     PR       P48-Baseline_Tumor_Gp2 Baseline    Tumor_Gp2 0.00000000\n",
       "124 P48     PR       P48-Treat_Tumor_Gp1    Treat       Tumor_Gp1 0.67771150\n",
       "125 P49     PR       P49-Baseline_Tumor_Gp1 Baseline    Tumor_Gp1 0.06881111\n",
       "126 P49     PR       P49-Baseline_Tumor_Gp2 Baseline    Tumor_Gp2 0.57235886\n",
       "127 P50     PR       P50-Baseline_Tumor_Gp1 Baseline    Tumor_Gp1 0.39964038\n",
       "128 P50     PR       P50-Baseline_Tumor_Gp2 Baseline    Tumor_Gp2 0.00000000\n",
       "129 P51     R        P51-Baseline_Tumor_Gp1 Baseline    Tumor_Gp1 0.11690158\n",
       "130 P52     NA       P52-Baseline_Tumor_Gp1 Baseline    Tumor_Gp1 0.17190488\n",
       "131 P52     NA       P52-Baseline_Tumor_Gp2 Baseline    Tumor_Gp2 0.00000000"
      ]
     },
     "metadata": {},
     "output_type": "display_data"
    }
   ],
   "source": [
    "AverageExpression(scrna, slot = 'data', features = genes, group.by = c('sample', 'cellgp'))[['RNA']] %>% \n",
    "    as.data.frame() %>% \n",
    "pivot_longer(starts_with('P'), names_to = 'sample', values_to = 'logcpm') %>% \n",
    "extract(col = 'sample', regex = '(.+?)-(.+?)_(.+)', into = c('patient', 'sample_type', 'cellgp'), remove = F) %>% \n",
    "    add_clin_info(ftsv = f_pat_gp, columns = gp, merge_by = 'patient') %>% \n",
    "filter(cellgp %in% c('Tumor_Gp1', 'Tumor_Gp2'))"
   ]
  },
  {
   "cell_type": "code",
   "execution_count": 85,
   "id": "9801694f-c5a7-407f-9f12-a0b38e064410",
   "metadata": {
    "collapsed": true,
    "jupyter": {
     "outputs_hidden": true
    },
    "tags": [],
    "vscode": {
     "languageId": "r"
    }
   },
   "outputs": [
    {
     "name": "stdout",
     "output_type": "stream",
     "text": [
      "\u001b[0m2024-02-23 23:51:00 INFO::these clinial info will be added: response\u001b[0m\u001b[22m\u001b[23m\u001b[24m\u001b[27m\u001b[28m\u001b[29m\u001b[39m\u001b[49m\u001b[0m\u001b[0m\u001b[22m\u001b[23m\u001b[24m\u001b[27m\u001b[28m\u001b[29m\u001b[39m\u001b[49m\n"
     ]
    },
    {
     "name": "stderr",
     "output_type": "stream",
     "text": [
      "\u001b[1m\u001b[22mSelecting by n\n"
     ]
    },
    {
     "data": {
      "text/html": [
       "<table class=\"dataframe\">\n",
       "<caption>A grouped_df: 30 × 5</caption>\n",
       "<thead>\n",
       "\t<tr><th scope=col>patient</th><th scope=col>response</th><th scope=col>sample_type</th><th scope=col>cellgp</th><th scope=col>n</th></tr>\n",
       "\t<tr><th scope=col>&lt;chr&gt;</th><th scope=col>&lt;chr&gt;</th><th scope=col>&lt;chr&gt;</th><th scope=col>&lt;chr&gt;</th><th scope=col>&lt;int&gt;</th></tr>\n",
       "</thead>\n",
       "<tbody>\n",
       "\t<tr><td>P09</td><td>PR</td><td>Treat   </td><td>Tumor_Gp1</td><td>1790</td></tr>\n",
       "\t<tr><td>P07</td><td>PR</td><td>Treat   </td><td>Tumor_Gp1</td><td>1310</td></tr>\n",
       "\t<tr><td>P24</td><td>PR</td><td>Treat   </td><td>Tumor_Gp1</td><td>1074</td></tr>\n",
       "\t<tr><td>P50</td><td>PR</td><td>Baseline</td><td>Tumor_Gp1</td><td> 879</td></tr>\n",
       "\t<tr><td>P48</td><td>PR</td><td>Treat   </td><td>Tumor_Gp1</td><td> 693</td></tr>\n",
       "\t<tr><td>P31</td><td>PR</td><td>Baseline</td><td>Tumor_Gp2</td><td>7715</td></tr>\n",
       "\t<tr><td>P17</td><td>PR</td><td>Treat   </td><td>Tumor_Gp2</td><td>4067</td></tr>\n",
       "\t<tr><td>P49</td><td>PR</td><td>Baseline</td><td>Tumor_Gp2</td><td>1701</td></tr>\n",
       "\t<tr><td>P04</td><td>PR</td><td>Baseline</td><td>Tumor_Gp2</td><td> 803</td></tr>\n",
       "\t<tr><td>P12</td><td>PR</td><td>Treat   </td><td>Tumor_Gp2</td><td> 614</td></tr>\n",
       "\t<tr><td>P36</td><td>R </td><td>Baseline</td><td>Tumor_Gp1</td><td>2788</td></tr>\n",
       "\t<tr><td>P46</td><td>R </td><td>Baseline</td><td>Tumor_Gp1</td><td>2778</td></tr>\n",
       "\t<tr><td>P27</td><td>R </td><td>Baseline</td><td>Tumor_Gp1</td><td>1103</td></tr>\n",
       "\t<tr><td>P14</td><td>R </td><td>Baseline</td><td>Tumor_Gp1</td><td>1087</td></tr>\n",
       "\t<tr><td>P34</td><td>R </td><td>Baseline</td><td>Tumor_Gp1</td><td>1040</td></tr>\n",
       "\t<tr><td>P43</td><td>R </td><td>Baseline</td><td>Tumor_Gp2</td><td> 330</td></tr>\n",
       "\t<tr><td>P46</td><td>R </td><td>Treat   </td><td>Tumor_Gp2</td><td> 215</td></tr>\n",
       "\t<tr><td>P44</td><td>R </td><td>Treat   </td><td>Tumor_Gp2</td><td> 151</td></tr>\n",
       "\t<tr><td>P21</td><td>R </td><td>Treat   </td><td>Tumor_Gp2</td><td> 111</td></tr>\n",
       "\t<tr><td>P36</td><td>R </td><td>Baseline</td><td>Tumor_Gp2</td><td>  87</td></tr>\n",
       "\t<tr><td>P30</td><td>NA</td><td>Baseline</td><td>Tumor_Gp1</td><td>1808</td></tr>\n",
       "\t<tr><td>P11</td><td>NA</td><td>Baseline</td><td>Tumor_Gp1</td><td>1210</td></tr>\n",
       "\t<tr><td>P35</td><td>NA</td><td>Baseline</td><td>Tumor_Gp1</td><td> 815</td></tr>\n",
       "\t<tr><td>P37</td><td>NA</td><td>Baseline</td><td>Tumor_Gp1</td><td> 798</td></tr>\n",
       "\t<tr><td>P52</td><td>NA</td><td>Baseline</td><td>Tumor_Gp1</td><td> 622</td></tr>\n",
       "\t<tr><td>P22</td><td>NA</td><td>Baseline</td><td>Tumor_Gp2</td><td> 942</td></tr>\n",
       "\t<tr><td>P30</td><td>NA</td><td>Baseline</td><td>Tumor_Gp2</td><td> 200</td></tr>\n",
       "\t<tr><td>P35</td><td>NA</td><td>Baseline</td><td>Tumor_Gp2</td><td> 200</td></tr>\n",
       "\t<tr><td>P11</td><td>NA</td><td>Baseline</td><td>Tumor_Gp2</td><td>   9</td></tr>\n",
       "\t<tr><td>P18</td><td>NA</td><td>Baseline</td><td>Tumor_Gp2</td><td>   9</td></tr>\n",
       "</tbody>\n",
       "</table>\n"
      ],
      "text/latex": [
       "A grouped\\_df: 30 × 5\n",
       "\\begin{tabular}{lllll}\n",
       " patient & response & sample\\_type & cellgp & n\\\\\n",
       " <chr> & <chr> & <chr> & <chr> & <int>\\\\\n",
       "\\hline\n",
       "\t P09 & PR & Treat    & Tumor\\_Gp1 & 1790\\\\\n",
       "\t P07 & PR & Treat    & Tumor\\_Gp1 & 1310\\\\\n",
       "\t P24 & PR & Treat    & Tumor\\_Gp1 & 1074\\\\\n",
       "\t P50 & PR & Baseline & Tumor\\_Gp1 &  879\\\\\n",
       "\t P48 & PR & Treat    & Tumor\\_Gp1 &  693\\\\\n",
       "\t P31 & PR & Baseline & Tumor\\_Gp2 & 7715\\\\\n",
       "\t P17 & PR & Treat    & Tumor\\_Gp2 & 4067\\\\\n",
       "\t P49 & PR & Baseline & Tumor\\_Gp2 & 1701\\\\\n",
       "\t P04 & PR & Baseline & Tumor\\_Gp2 &  803\\\\\n",
       "\t P12 & PR & Treat    & Tumor\\_Gp2 &  614\\\\\n",
       "\t P36 & R  & Baseline & Tumor\\_Gp1 & 2788\\\\\n",
       "\t P46 & R  & Baseline & Tumor\\_Gp1 & 2778\\\\\n",
       "\t P27 & R  & Baseline & Tumor\\_Gp1 & 1103\\\\\n",
       "\t P14 & R  & Baseline & Tumor\\_Gp1 & 1087\\\\\n",
       "\t P34 & R  & Baseline & Tumor\\_Gp1 & 1040\\\\\n",
       "\t P43 & R  & Baseline & Tumor\\_Gp2 &  330\\\\\n",
       "\t P46 & R  & Treat    & Tumor\\_Gp2 &  215\\\\\n",
       "\t P44 & R  & Treat    & Tumor\\_Gp2 &  151\\\\\n",
       "\t P21 & R  & Treat    & Tumor\\_Gp2 &  111\\\\\n",
       "\t P36 & R  & Baseline & Tumor\\_Gp2 &   87\\\\\n",
       "\t P30 & NA & Baseline & Tumor\\_Gp1 & 1808\\\\\n",
       "\t P11 & NA & Baseline & Tumor\\_Gp1 & 1210\\\\\n",
       "\t P35 & NA & Baseline & Tumor\\_Gp1 &  815\\\\\n",
       "\t P37 & NA & Baseline & Tumor\\_Gp1 &  798\\\\\n",
       "\t P52 & NA & Baseline & Tumor\\_Gp1 &  622\\\\\n",
       "\t P22 & NA & Baseline & Tumor\\_Gp2 &  942\\\\\n",
       "\t P30 & NA & Baseline & Tumor\\_Gp2 &  200\\\\\n",
       "\t P35 & NA & Baseline & Tumor\\_Gp2 &  200\\\\\n",
       "\t P11 & NA & Baseline & Tumor\\_Gp2 &    9\\\\\n",
       "\t P18 & NA & Baseline & Tumor\\_Gp2 &    9\\\\\n",
       "\\end{tabular}\n"
      ],
      "text/markdown": [
       "\n",
       "A grouped_df: 30 × 5\n",
       "\n",
       "| patient &lt;chr&gt; | response &lt;chr&gt; | sample_type &lt;chr&gt; | cellgp &lt;chr&gt; | n &lt;int&gt; |\n",
       "|---|---|---|---|---|\n",
       "| P09 | PR | Treat    | Tumor_Gp1 | 1790 |\n",
       "| P07 | PR | Treat    | Tumor_Gp1 | 1310 |\n",
       "| P24 | PR | Treat    | Tumor_Gp1 | 1074 |\n",
       "| P50 | PR | Baseline | Tumor_Gp1 |  879 |\n",
       "| P48 | PR | Treat    | Tumor_Gp1 |  693 |\n",
       "| P31 | PR | Baseline | Tumor_Gp2 | 7715 |\n",
       "| P17 | PR | Treat    | Tumor_Gp2 | 4067 |\n",
       "| P49 | PR | Baseline | Tumor_Gp2 | 1701 |\n",
       "| P04 | PR | Baseline | Tumor_Gp2 |  803 |\n",
       "| P12 | PR | Treat    | Tumor_Gp2 |  614 |\n",
       "| P36 | R  | Baseline | Tumor_Gp1 | 2788 |\n",
       "| P46 | R  | Baseline | Tumor_Gp1 | 2778 |\n",
       "| P27 | R  | Baseline | Tumor_Gp1 | 1103 |\n",
       "| P14 | R  | Baseline | Tumor_Gp1 | 1087 |\n",
       "| P34 | R  | Baseline | Tumor_Gp1 | 1040 |\n",
       "| P43 | R  | Baseline | Tumor_Gp2 |  330 |\n",
       "| P46 | R  | Treat    | Tumor_Gp2 |  215 |\n",
       "| P44 | R  | Treat    | Tumor_Gp2 |  151 |\n",
       "| P21 | R  | Treat    | Tumor_Gp2 |  111 |\n",
       "| P36 | R  | Baseline | Tumor_Gp2 |   87 |\n",
       "| P30 | NA | Baseline | Tumor_Gp1 | 1808 |\n",
       "| P11 | NA | Baseline | Tumor_Gp1 | 1210 |\n",
       "| P35 | NA | Baseline | Tumor_Gp1 |  815 |\n",
       "| P37 | NA | Baseline | Tumor_Gp1 |  798 |\n",
       "| P52 | NA | Baseline | Tumor_Gp1 |  622 |\n",
       "| P22 | NA | Baseline | Tumor_Gp2 |  942 |\n",
       "| P30 | NA | Baseline | Tumor_Gp2 |  200 |\n",
       "| P35 | NA | Baseline | Tumor_Gp2 |  200 |\n",
       "| P11 | NA | Baseline | Tumor_Gp2 |    9 |\n",
       "| P18 | NA | Baseline | Tumor_Gp2 |    9 |\n",
       "\n"
      ],
      "text/plain": [
       "   patient response sample_type cellgp    n   \n",
       "1  P09     PR       Treat       Tumor_Gp1 1790\n",
       "2  P07     PR       Treat       Tumor_Gp1 1310\n",
       "3  P24     PR       Treat       Tumor_Gp1 1074\n",
       "4  P50     PR       Baseline    Tumor_Gp1  879\n",
       "5  P48     PR       Treat       Tumor_Gp1  693\n",
       "6  P31     PR       Baseline    Tumor_Gp2 7715\n",
       "7  P17     PR       Treat       Tumor_Gp2 4067\n",
       "8  P49     PR       Baseline    Tumor_Gp2 1701\n",
       "9  P04     PR       Baseline    Tumor_Gp2  803\n",
       "10 P12     PR       Treat       Tumor_Gp2  614\n",
       "11 P36     R        Baseline    Tumor_Gp1 2788\n",
       "12 P46     R        Baseline    Tumor_Gp1 2778\n",
       "13 P27     R        Baseline    Tumor_Gp1 1103\n",
       "14 P14     R        Baseline    Tumor_Gp1 1087\n",
       "15 P34     R        Baseline    Tumor_Gp1 1040\n",
       "16 P43     R        Baseline    Tumor_Gp2  330\n",
       "17 P46     R        Treat       Tumor_Gp2  215\n",
       "18 P44     R        Treat       Tumor_Gp2  151\n",
       "19 P21     R        Treat       Tumor_Gp2  111\n",
       "20 P36     R        Baseline    Tumor_Gp2   87\n",
       "21 P30     NA       Baseline    Tumor_Gp1 1808\n",
       "22 P11     NA       Baseline    Tumor_Gp1 1210\n",
       "23 P35     NA       Baseline    Tumor_Gp1  815\n",
       "24 P37     NA       Baseline    Tumor_Gp1  798\n",
       "25 P52     NA       Baseline    Tumor_Gp1  622\n",
       "26 P22     NA       Baseline    Tumor_Gp2  942\n",
       "27 P30     NA       Baseline    Tumor_Gp2  200\n",
       "28 P35     NA       Baseline    Tumor_Gp2  200\n",
       "29 P11     NA       Baseline    Tumor_Gp2    9\n",
       "30 P18     NA       Baseline    Tumor_Gp2    9"
      ]
     },
     "metadata": {},
     "output_type": "display_data"
    }
   ],
   "source": [
    "scrna@meta.data %>% \n",
    "    count(patient, sample_type, cellgp) %>% \n",
    "    add_clin_info(ftsv = f_pat_gp, columns = gp, merge_by = 'patient') %>% \n",
    "    filter(cellgp %in% c('Tumor_Gp1', 'Tumor_Gp2')) %>% \n",
    "    arrange(.data[[gp]], cellgp, -n) %>% \n",
    "    group_by(.data[[gp]], cellgp) %>% \n",
    "    top_n(5)"
   ]
  },
  {
   "cell_type": "markdown",
   "id": "a10eb025-9a1e-4074-8520-4f9a0a5a7fa2",
   "metadata": {
    "jp-MarkdownHeadingCollapsed": true,
    "tags": []
   },
   "source": [
    "# previous fig2"
   ]
  },
  {
   "cell_type": "markdown",
   "id": "3bc7b073-6fad-4049-8484-e8ce931a36f2",
   "metadata": {
    "jp-MarkdownHeadingCollapsed": true,
    "tags": []
   },
   "source": [
    "## pbulk expresion in Treg\n",
    "\n",
    "- treg activation genes\n",
    "- 2024-01-02: update gene list (rm TNFRSF18, IL7R)"
   ]
  },
  {
   "cell_type": "code",
   "execution_count": 178,
   "id": "96d5903a-f87e-461a-ab67-446031250777",
   "metadata": {
    "tags": [],
    "vscode": {
     "languageId": "r"
    }
   },
   "outputs": [],
   "source": [
    "f_t_obj <- '../../stage4/a01_data/seuobj/t.rds'\n",
    "f_pat_gp <- '../../stage4/a19_poor_gp/redefine_gp/pateint_info-poor_redefine-v3-with_clin.tsv'\n",
    "valid_types <- c('Treg_LTB', 'Treg_TNFRSF4')\n",
    "genes <- c('CTLA4', 'FOXP3', 'IL2RA', 'LAG3')\n",
    "\n",
    "min_cell <- 50  # min cell per sample"
   ]
  },
  {
   "cell_type": "code",
   "execution_count": 179,
   "id": "be2633bd-8297-40e6-9fb6-67bac2e41baa",
   "metadata": {
    "tags": [],
    "vscode": {
     "languageId": "r"
    }
   },
   "outputs": [],
   "source": [
    "# obtain data\n",
    "scrna <- readRDS(f_t_obj) %>% \n",
    "    subset(subset = subtype %in% valid_types)"
   ]
  },
  {
   "cell_type": "code",
   "execution_count": 180,
   "id": "2a78b88a-9a13-4f26-bef4-35cfe9792ea5",
   "metadata": {
    "tags": [],
    "vscode": {
     "languageId": "r"
    }
   },
   "outputs": [
    {
     "name": "stdout",
     "output_type": "stream",
     "text": [
      "\u001b[0m2024-01-02 17:02:50 INFO::these clinial info will be added: patient_id, mandard_group, response_degree, treatment_group, patient_gp, patient_gp_v2\u001b[0m\u001b[22m\u001b[23m\u001b[24m\u001b[27m\u001b[28m\u001b[29m\u001b[39m\u001b[49m\u001b[0m\u001b[0m\u001b[22m\u001b[23m\u001b[24m\u001b[27m\u001b[28m\u001b[29m\u001b[39m\u001b[49m\n"
     ]
    }
   ],
   "source": [
    "# cal expression\n",
    "exprs <- AggregateExpression(scrna, slot = 'counts', group.by = c('sample'))[['RNA']] %>% \n",
    "    as.data.frame() %>%\n",
    "    mutate(across(everything(), ~ log1p(1e6*.x/sum(.x)))) %>% \n",
    "    rownames_to_column('symbol') %>% \n",
    "    select(symbol, starts_with('P')) %>% \n",
    "    filter(symbol %in% genes) %>%\n",
    "    pivot_longer(starts_with('P'), names_to = 'sample', values_to = 'logcpm') %>%\n",
    "    extract(col = 'sample', regex = '(.+)-(.+)', into = c('patient', 'sample_type'), remove = F) %>% \n",
    "    add_clin_info(ftsv = f_pat_gp, columns = NULL, merge_by = 'patient')"
   ]
  },
  {
   "cell_type": "code",
   "execution_count": 181,
   "id": "2311200c-7e3f-4d82-8baa-417fed033483",
   "metadata": {
    "tags": [],
    "vscode": {
     "languageId": "r"
    }
   },
   "outputs": [
    {
     "data": {
      "text/html": [
       "<style>\n",
       ".list-inline {list-style: none; margin:0; padding: 0}\n",
       ".list-inline>li {display: inline-block}\n",
       ".list-inline>li:not(:last-child)::after {content: \"\\00b7\"; padding: 0 .5ex}\n",
       "</style>\n",
       "<ol class=list-inline><li>324</li><li>12</li></ol>\n"
      ],
      "text/latex": [
       "\\begin{enumerate*}\n",
       "\\item 324\n",
       "\\item 12\n",
       "\\end{enumerate*}\n"
      ],
      "text/markdown": [
       "1. 324\n",
       "2. 12\n",
       "\n",
       "\n"
      ],
      "text/plain": [
       "[1] 324  12"
      ]
     },
     "metadata": {},
     "output_type": "display_data"
    }
   ],
   "source": [
    "# add cell count info\n",
    "df <- scrna@meta.data %>% \n",
    "    count(sample, name = 'n_cell_per_sample') %>% \n",
    "    merge(exprs, by = 'sample')\n",
    "df %>% dim\n",
    "df %>% write_tsv(str_glue('{outdir}/fig2-pbulk_exprs-treg_activation-in_treg.tsv'))"
   ]
  },
  {
   "cell_type": "code",
   "execution_count": 182,
   "id": "701a9596-7653-4ed4-b70e-36343d6869ec",
   "metadata": {
    "tags": [],
    "vscode": {
     "languageId": "r"
    }
   },
   "outputs": [
    {
     "name": "stdout",
     "output_type": "stream",
     "text": [
      "\u001b[0m2024-01-02 17:02:50 INFO::all: 81 samples\u001b[0m\u001b[22m\u001b[23m\u001b[24m\u001b[27m\u001b[28m\u001b[29m\u001b[39m\u001b[49m\u001b[0m\u001b[0m\u001b[22m\u001b[23m\u001b[24m\u001b[27m\u001b[28m\u001b[29m\u001b[39m\u001b[49m\n",
      "\u001b[0m2024-01-02 17:02:51 INFO::min50: 73 samples\u001b[0m\u001b[22m\u001b[23m\u001b[24m\u001b[27m\u001b[28m\u001b[29m\u001b[39m\u001b[49m\u001b[0m\u001b[0m\u001b[22m\u001b[23m\u001b[24m\u001b[27m\u001b[28m\u001b[29m\u001b[39m\u001b[49m\n"
     ]
    }
   ],
   "source": [
    "# plot\n",
    "df <- read_tsv(str_glue('{outdir}/fig2-pbulk_exprs-treg_activation-in_treg.tsv'), show_col_types = F)\n",
    "gp <- 'patient_gp_v2'\n",
    "for (suf in c('all', str_glue('min{min_cell}'))){\n",
    "    if (suf == 'all') {\n",
    "        dp <- df\n",
    "    } else {\n",
    "        dp <- filter(df, n_cell_per_sample >= min_cell)\n",
    "    }\n",
    "    loginfo('%s: %g samples', suf, length(unique(dp$sample)))\n",
    "    p <- dp %>%\n",
    "        filter(!is.na(.data[[gp]]), .data[[gp]] != 'poor') %>%\n",
    "        cell_comp_boxplot(x = c(gp, 'sample_type'), xorder = NULL, y = 'logcpm', pt_fill = gp,\n",
    "                          fill_order = gp_lvls[[gp]], facet_by = 'symbol', ncol = 7, xangle = 60) +\n",
    "        stat_compare_means(comparisons = gp_comp_map[[gp]]) +\n",
    "        labs(y = 'Expression in Treg', fill = 'Detailed response')\n",
    "    ggsave(filename = str_glue('{outdir}/fig2-box_exprs-treg_activation_in_treg-{gp}-{suf}.pdf'),\n",
    "           plot= p, width = 10, height = 6)\n",
    "}"
   ]
  },
  {
   "cell_type": "markdown",
   "id": "69af3f73-49a9-41c7-9cdc-4e78157f1794",
   "metadata": {
    "tags": []
   },
   "source": [
    "## communication of EK/HK-immune, good vs poor\n",
    "\n",
    "- date: 2023-12-29"
   ]
  },
  {
   "cell_type": "code",
   "execution_count": null,
   "id": "dd0c7829-da0b-459c-a539-746e9d0ede7f",
   "metadata": {
    "tags": [],
    "vscode": {
     "languageId": "r"
    }
   },
   "outputs": [],
   "source": [
    "valid_ids <- c(\n",
    "    'Epi_M_HK->Mye_T_Mix:MIF_CD74_CD44', 'Epi_M_HK->Mye_LILRA4:MIF_CD74_CXCR4', 'Epi_M_HK->Mye_LILRA4:MIF_CD74_CXCR4',\n",
    "    'Epi_M_HK->Mye_FCN1:MIF_CD74_CD44', 'Epi_M_HK->Mye_CLEC10A:MIF_CD74_CXCR4', 'Epi_M_HK->Mye_CLEC10A:MIF_CD74_CD44',\n",
    "    'Epi_M_HK->Mp_C1QA:MIF_CD74_CD44', 'Epi_M_HK->CD8_IFIT1:MIF_CD74_CXCR4', 'Epi_M_HK->CD8_GZMK:MIF_CD74_CXCR4',\n",
    "    'Epi_M_HK->CD8_CX3CR1:MIF_CD74_CXCR4', 'Epi_M_HK->CD8_CCL5:MIF_CD74_CXCR4', 'Epi_M_HK->B_HLA-DRA:MIF_CD74_CXCR4',\n",
    "    'Epi_M_EK->Treg:MIF_CD74_CXCR4', 'Epi_M_EK->T_Prolif:MIF_CD74_CXCR4', 'Epi_M_EK->Plasma_RRM2:MIF_CD74_CXCR4',\n",
    "    'Epi_M_EK->Plasma_CXCL8:MIF_CD74_CXCR4', 'Epi_M_EK->Mye_CLEC10A:MIF_CD74_CXCR4', 'Epi_M_EK->Mp_C1QA:MIF_CD74_CD44',\n",
    "    'Epi_M_EK->B_RGS13:MIF_CD74_CXCR4', 'B_RGS13->Epi_M_EK:PPIA_BSG', 'Epi_M_EK->B_T_Mix:MIF_CD74_CXCR4'\n",
    ")\n",
    "f_comm_info <- '../../stage4/a21_cell_comm/treg/analysis/ek_hk_immune/interaction_filter-stat-mandard_group.tsv'\n",
    "gp <- 'mandard_group'"
   ]
  },
  {
   "cell_type": "code",
   "execution_count": null,
   "id": "14c1294f-a77b-42c0-bbe5-f2885d020c1e",
   "metadata": {
    "tags": [],
    "vscode": {
     "languageId": "r"
    }
   },
   "outputs": [],
   "source": [
    "p <- read_tsv(f_comm_info, show_col_types = F) %>%\n",
    "    filter(id %in% valid_ids) %>%\n",
    "    filter(.data[[gp]] %in% gp_lvls[[gp]]) %>%\n",
    "    unite(col = 'xlab', .data[[gp]], sample_type, sep = '-', remove = F) %>%\n",
    "    mutate(xlab = factor(xlab, levels = sort(unique(xlab)))) %>% \n",
    "    mutate(id = factor(id, sort(unique(id)))) %>%\n",
    "    ggdotchart(x = 'xlab', y = 'id', color = 'prob_mean', size = 'samp_pct', sorting = 'none') +\n",
    "    scale_color_gsea() +\n",
    "    labs(x = '', y = '', size = 'sample percent') +\n",
    "    theme(axis.text.x = element_text(angle = 90, hjust = 0.9, vjust = 0.9),\n",
    "          legend.position=\"right\", legend.direction=\"vertical\")\n",
    "ggsave(filename = str_glue('{outdir}/fig2-ek_hk_immune_comm.pdf'), plot = p, width = 7, height = 9)"
   ]
  }
 ],
 "metadata": {
  "kernelspec": {
   "display_name": "r_env",
   "language": "R",
   "name": "r_env"
  },
  "language_info": {
   "codemirror_mode": "r",
   "file_extension": ".r",
   "mimetype": "text/x-r-source",
   "name": "R",
   "pygments_lexer": "r",
   "version": "4.1.3"
  }
 },
 "nbformat": 4,
 "nbformat_minor": 5
}

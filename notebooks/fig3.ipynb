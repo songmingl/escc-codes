{
 "cells": [
  {
   "cell_type": "markdown",
   "id": "4e78bb62-b115-43fd-9fb7-c826ee2811a4",
   "metadata": {
    "tags": []
   },
   "source": [
    "# figure 3 vlz\n",
    "\n",
    "- kernel: r_env, R 4.1.3\n",
    "- date: 2023-12-28"
   ]
  },
  {
   "cell_type": "markdown",
   "id": "0e59ed14-a3c3-49a6-8411-ae918b67af3b",
   "metadata": {
    "jp-MarkdownHeadingCollapsed": true,
    "tags": []
   },
   "source": [
    "## load"
   ]
  },
  {
   "cell_type": "code",
   "execution_count": null,
   "id": "95697196-8cfb-4a41-9105-a25a0d5c0baf",
   "metadata": {
    "collapsed": true,
    "jupyter": {
     "outputs_hidden": true
    },
    "tags": [],
    "vscode": {
     "languageId": "r"
    }
   },
   "outputs": [
    {
     "name": "stderr",
     "output_type": "stream",
     "text": [
      "── \u001b[1mAttaching core tidyverse packages\u001b[22m ──────────────────────── tidyverse 2.0.0 ──\n",
      "\u001b[32m✔\u001b[39m \u001b[34mdplyr    \u001b[39m 1.1.0     \u001b[32m✔\u001b[39m \u001b[34mreadr    \u001b[39m 2.1.4\n",
      "\u001b[32m✔\u001b[39m \u001b[34mforcats  \u001b[39m 1.0.0     \u001b[32m✔\u001b[39m \u001b[34mstringr  \u001b[39m 1.5.0\n",
      "\u001b[32m✔\u001b[39m \u001b[34mggplot2  \u001b[39m 3.4.1     \u001b[32m✔\u001b[39m \u001b[34mtibble   \u001b[39m 3.2.0\n",
      "\u001b[32m✔\u001b[39m \u001b[34mlubridate\u001b[39m 1.9.2     \u001b[32m✔\u001b[39m \u001b[34mtidyr    \u001b[39m 1.3.0\n",
      "\u001b[32m✔\u001b[39m \u001b[34mpurrr    \u001b[39m 1.0.1     \n",
      "── \u001b[1mConflicts\u001b[22m ────────────────────────────────────────── tidyverse_conflicts() ──\n",
      "\u001b[31m✖\u001b[39m \u001b[34mdplyr\u001b[39m::\u001b[32mfilter()\u001b[39m masks \u001b[34mstats\u001b[39m::filter()\n",
      "\u001b[31m✖\u001b[39m \u001b[34mdplyr\u001b[39m::\u001b[32mlag()\u001b[39m    masks \u001b[34mstats\u001b[39m::lag()\n",
      "\u001b[36mℹ\u001b[39m Use the conflicted package (\u001b[3m\u001b[34m<http://conflicted.r-lib.org/>\u001b[39m\u001b[23m) to force all conflicts to become errors\n",
      "\n",
      "Attaching package: ‘igraph’\n",
      "\n",
      "\n",
      "The following objects are masked from ‘package:lubridate’:\n",
      "\n",
      "    %--%, union\n",
      "\n",
      "\n",
      "The following objects are masked from ‘package:dplyr’:\n",
      "\n",
      "    as_data_frame, groups, union\n",
      "\n",
      "\n",
      "The following objects are masked from ‘package:purrr’:\n",
      "\n",
      "    compose, simplify\n",
      "\n",
      "\n",
      "The following object is masked from ‘package:tidyr’:\n",
      "\n",
      "    crossing\n",
      "\n",
      "\n",
      "The following object is masked from ‘package:tibble’:\n",
      "\n",
      "    as_data_frame\n",
      "\n",
      "\n",
      "The following objects are masked from ‘package:stats’:\n",
      "\n",
      "    decompose, spectrum\n",
      "\n",
      "\n",
      "The following object is masked from ‘package:base’:\n",
      "\n",
      "    union\n",
      "\n",
      "\n",
      "Attaching SeuratObject\n",
      "\n",
      "Loading required package: grid\n",
      "\n",
      "========================================\n",
      "ComplexHeatmap version 2.10.0\n",
      "Bioconductor page: http://bioconductor.org/packages/ComplexHeatmap/\n",
      "Github page: https://github.com/jokergoo/ComplexHeatmap\n",
      "Documentation: http://jokergoo.github.io/ComplexHeatmap-reference\n",
      "\n",
      "If you use it in published research, please cite:\n",
      "Gu, Z. Complex heatmaps reveal patterns and correlations in multidimensional \n",
      "  genomic data. Bioinformatics 2016.\n",
      "\n",
      "The new InteractiveComplexHeatmap package can directly export static \n",
      "complex heatmaps into an interactive Shiny app with zero effort. Have a try!\n",
      "\n",
      "This message can be suppressed by:\n",
      "  suppressPackageStartupMessages(library(ComplexHeatmap))\n",
      "========================================\n",
      "\n",
      "\n"
     ]
    }
   ],
   "source": [
    "library(tidyverse)\n",
    "library(tools)\n",
    "library(logging)\n",
    "library(ggpubr)\n",
    "library(ggsci)\n",
    "library(patchwork)\n",
    "library(igraph)\n",
    "library(ggraph)\n",
    "library(Seurat)\n",
    "library(maftools)\n",
    "library(ComplexHeatmap)\n",
    "\n",
    "source('../scripts/r_funcs.r')\n",
    "\n",
    "theme_set(theme_pubr())\n",
    "logging::basicConfig()\n",
    "options(warn = -1)\n",
    "\n",
    "outdir <- '../figures/fig3'\n",
    "create_dir(outdir)"
   ]
  },
  {
   "cell_type": "code",
   "execution_count": 2,
   "id": "f5278565-7b51-4c95-be13-a8397000ab0f",
   "metadata": {
    "tags": [],
    "vscode": {
     "languageId": "r"
    }
   },
   "outputs": [],
   "source": [
    "f_pat_gp <- '../tables/patient_info_v2.tsv'\n",
    "gp <- 'response'\n",
    "gp_lvls$response <- c('R', 'PR')\n",
    "gp_comp_map$response <- list(\n",
    "  c('R-pre', 'R-post'),\n",
    "  c('PR-pre', 'PR-post'),\n",
    "  c('R-pre', 'PR-pre'),\n",
    "  c('R-post', 'PR-post')\n",
    ")\n",
    "gp_comp_diff_map$response <- list(c('R', 'PR'))\n",
    "gp_comp_map_pre$response <- list(c('R-pre', 'PR-pre'))\n",
    "comb_order <- c('R-pre', 'R-post', 'PR-pre', 'PR-post')\n",
    "\n",
    "celltype_map <- list(\n",
    "    'T_MKI67' = c('T_Prolif')\n",
    ")"
   ]
  },
  {
   "cell_type": "markdown",
   "id": "0bf0233d-7903-44fb-bda7-cb44dbecab9a",
   "metadata": {
    "jp-MarkdownHeadingCollapsed": true,
    "tags": []
   },
   "source": [
    "## 3a: T cell markers\n",
    "\n",
    "- 2024-01-02: update gene list"
   ]
  },
  {
   "cell_type": "code",
   "execution_count": 23,
   "id": "49bc8fb5-0a74-4c61-994b-22d39673dc94",
   "metadata": {
    "tags": [],
    "vscode": {
     "languageId": "r"
    }
   },
   "outputs": [],
   "source": [
    "f_seuobj <- '../../stage4/a01_data/seuobj/t.rds'\n",
    "\n",
    "ctype_order <- c(\n",
    "    'NK', 'NK_CX3CR1',\n",
    "    'CD4_CXCL13', 'CD4_KLRB1', 'Treg_LTB', 'Treg_TNFRSF4',\n",
    "    'CD8_CXCL13', 'CD8_TYMS', # exhau\n",
    "    'CD8_CD74', 'CD8_IFIT1', # others\n",
    "    'CD8_ANXA1', 'CD8_CCL5', 'CD8_CX3CR1', 'CD8_FOS', 'CD8_GZMK', 'CD8_KLRB1', # cyto\n",
    "    'T_MKI67', 'T_Mito', 'T_IL7R', 'T_Ribo'\n",
    ")\n",
    "markers <- list(\n",
    "    'NK profile' = c('NCAM1', 'FCER1G', 'KLRC1', 'TYROBP'),  # NK\n",
    "    'T profile' = c('CD3E', 'CD4', 'TNFRSF4', 'CD8A', 'CD8B'),  # major markers\n",
    "    'Treg' = c('FOXP3', 'IKZF2'),\n",
    "    'Naive/TCM' = c('CCR7', 'SELL', 'TCF7', 'IL7R'),\n",
    "    'Exhaustion' = c('PDCD1', 'HAVCR2', 'ENTPD1', 'TNFRSF9', 'CXCL13'),  # exhaustion\n",
    "    'Cytotocity' = c('CST7', 'GZMH', 'GZMK', 'GZMM', 'IFNG', 'PRF1', 'KLRG1', 'NKG7', 'GZMA'), # cyto\n",
    "    'Resident' = c('CD101', 'CXCR6', 'CD69'),\n",
    "    'Others' = c('CX3CR1', 'ITGAE', 'MT-ATP6', 'MT-ND3', 'ANXA1', 'CCL5', 'KLRB1', 'MKI67', 'RPL30')\n",
    ")"
   ]
  },
  {
   "cell_type": "code",
   "execution_count": 4,
   "id": "14548882-aefc-4b33-8962-e355668b7ef3",
   "metadata": {
    "tags": [],
    "vscode": {
     "languageId": "r"
    }
   },
   "outputs": [],
   "source": [
    "scrna <- readRDS(f_seuobj)"
   ]
  },
  {
   "cell_type": "code",
   "execution_count": 5,
   "id": "17e6adc2-e0f6-48a9-a6fe-bce6cd307477",
   "metadata": {
    "tags": [],
    "vscode": {
     "languageId": "r"
    }
   },
   "outputs": [],
   "source": [
    "# rename cell type\n",
    "scrna$cell_group <- scrna$subtype\n",
    "scrna$cell_group[scrna$cell_group == 'T_Prolif'] <- 'T_MKI67'\n",
    "scrna$cell_group <- factor(scrna$cell_group, levels = ctype_order)"
   ]
  },
  {
   "cell_type": "code",
   "execution_count": 25,
   "id": "dc028033-f7fb-4252-affe-36765596a389",
   "metadata": {
    "tags": [],
    "vscode": {
     "languageId": "r"
    }
   },
   "outputs": [
    {
     "name": "stderr",
     "output_type": "stream",
     "text": [
      "\u001b[1m\u001b[22mScale for \u001b[32mcolour\u001b[39m is already present.\n",
      "Adding another scale for \u001b[32mcolour\u001b[39m, which will replace the existing scale.\n"
     ]
    }
   ],
   "source": [
    "# jp_opt(wd = 14, hg = 5.5)\n",
    "p <- DotPlot(scrna, group.by = 'cell_group', features = markers) +\n",
    "    scale_color_gsea() +\n",
    "    labs(x = '', y = '') +\n",
    "    theme(axis.text.x = element_text(angle = 60, hjust = 0.95, vjust = 0.95))\n",
    "ggsave(filename = str_glue('{outdir}/fig3a-dot_t_marker.pdf'), plot = p, width = 14, height = 6)"
   ]
  },
  {
   "cell_type": "markdown",
   "id": "1b70b8d7-12c0-42c1-ab19-bf07e3fa088c",
   "metadata": {
    "jp-MarkdownHeadingCollapsed": true,
    "tags": []
   },
   "source": [
    "## 3b: TCR sharing network\n",
    "\n",
    "- date: 2024-01-02"
   ]
  },
  {
   "cell_type": "code",
   "execution_count": 3,
   "id": "d2ea6160-b812-46b6-866b-12d849e150cf",
   "metadata": {
    "tags": [],
    "vscode": {
     "languageId": "r"
    }
   },
   "outputs": [],
   "source": [
    "f_node <- '../../stage4/a03_tcr/net_vlz_old/net_node_info.csv'\n",
    "f_edge <- '../../stage4/a03_tcr/net_vlz_old/net_edge_info.csv'\n",
    "\n",
    "# to rename cell types\n",
    "celltype_map <- list(\n",
    "    'T_MKI67' = c('T_Prolif')\n",
    ")\n",
    "# to rename cell states (use renamed cell type)\n",
    "cell_state_map <- list(\n",
    "    'others' = c('Treg_LTB')\n",
    ")\n",
    "\n",
    "df_edge <- read_csv(f_edge, show_col_types = F)\n",
    "df_node <- read_csv(f_node, show_col_types = F)"
   ]
  },
  {
   "cell_type": "code",
   "execution_count": 4,
   "id": "1fcecda5-b456-403a-b995-d79702a9e1eb",
   "metadata": {
    "tags": [],
    "vscode": {
     "languageId": "r"
    }
   },
   "outputs": [],
   "source": [
    "# update cell types\n",
    "for (nm in names(celltype_map)) {\n",
    "    df_node$node[df_node$node %in% celltype_map[[nm]]] <- nm\n",
    "    df_edge$from[df_edge$from %in% celltype_map[[nm]]] <- nm\n",
    "    df_edge$to[df_edge$to %in% celltype_map[[nm]]] <- nm\n",
    "}\n",
    "df_edge$edge_type <- paste(df_edge$from, df_edge$to, sep = '->')\n",
    "# node: update cell states\n",
    "for (nm in names(cell_state_map)) {\n",
    "    df_node$node_type[df_node$node %in% cell_state_map[[nm]]] <- nm\n",
    "}\n",
    "\n",
    "df_node %>% write_tsv(str_glue('{outdir}/fig3b-net_tcr_sharing-node_info.tsv'))\n",
    "df_edge %>% write_tsv(str_glue('{outdir}/fig3b-net_tcr_sharing-edge_info.tsv'))"
   ]
  },
  {
   "cell_type": "code",
   "execution_count": 5,
   "id": "cfbba0ca-5b5d-47da-82d6-3fdac9438863",
   "metadata": {
    "tags": [],
    "vscode": {
     "languageId": "r"
    }
   },
   "outputs": [
    {
     "name": "stderr",
     "output_type": "stream",
     "text": [
      "Loading required package: ggrepel\n",
      "\n"
     ]
    }
   ],
   "source": [
    "df_node$node_type <- factor(df_node$node_type, levels = c('exhausted', 'cytotoxic', 'dying', 'others'))\n",
    "p <- exhau_cyto_netplot(df_node = df_node, df_edge = df_edge, color_by = 'node_type', text_size = 4.5, pt_size = 6) +\n",
    "    scale_color_manual(values = c('exhausted' = '#023fa5', \n",
    "                                  'cytotoxic' = 'red', \n",
    "                                  'dying' = '#bb7784', \n",
    "                                  'others' = '#ff9639')) +\n",
    "    labs(color = 'Cell state') +\n",
    "    theme_pubr(base_size = 14) +\n",
    "    theme(legend.position = 'right', legend.text = element_text(size = 14), legend.title = element_text(size = 14))\n",
    "ggsave(filename = str_glue('{outdir}/fig3b-net_tcr_sharing-node_type.pdf'), plot = p, width = 9, height = 5)"
   ]
  },
  {
   "cell_type": "markdown",
   "id": "a380ccc5-f687-4bfa-9b85-118d61d7a02b",
   "metadata": {
    "tags": []
   },
   "source": [
    "## 3c: cell composition\n",
    "\n",
    "for selected cell types"
   ]
  },
  {
   "cell_type": "code",
   "execution_count": 30,
   "id": "58930e00-d5cd-4605-965b-532290e40970",
   "metadata": {
    "tags": [],
    "vscode": {
     "languageId": "r"
    }
   },
   "outputs": [],
   "source": [
    "# to rename cell types\n",
    "celltype_map <- list(\n",
    "    'T_MKI67' = c('T_Prolif')\n",
    ")\n",
    "# cell types used for plotting: renamed cell types\n",
    "use_ctypes <- list(\n",
    "    'cytotoxic clusters' = c('CD8_ANXA1', 'CD8_CCL5', 'CD8_GZMK'),  # cytotoxic\n",
    "    'exhausted clusters' = c('CD8_CXCL13', 'CD8_TYMS', 'T_MKI67') # exhausted\n",
    "    # 'dying cluster' = c('T_Mito')  # dying\n",
    ")\n",
    "gp <- 'response'\n",
    "comp_ls <- list(c('R-pre', 'R-post'), c('PR-pre', 'PR-post'), c('R-post', 'PR-post'))"
   ]
  },
  {
   "cell_type": "code",
   "execution_count": 31,
   "id": "7c25206b-b574-4a67-b3a8-e42d9b0c43a5",
   "metadata": {
    "tags": [],
    "vscode": {
     "languageId": "r"
    }
   },
   "outputs": [],
   "source": [
    "f_cell_comp <- '../../stage4/a02_cc/composition/t_cell_comp.csv'"
   ]
  },
  {
   "cell_type": "code",
   "execution_count": 33,
   "id": "80a67e6d-97eb-4787-9d7d-06582337f4d1",
   "metadata": {
    "tags": [],
    "vscode": {
     "languageId": "r"
    }
   },
   "outputs": [
    {
     "name": "stdout",
     "output_type": "stream",
     "text": [
      "\u001b[0m2024-02-05 10:38:13 INFO::these clinial info will be added: response\u001b[0m\u001b[22m\u001b[23m\u001b[24m\u001b[27m\u001b[28m\u001b[29m\u001b[39m\u001b[49m\u001b[0m\u001b[0m\u001b[22m\u001b[23m\u001b[24m\u001b[27m\u001b[28m\u001b[29m\u001b[39m\u001b[49m\n"
     ]
    }
   ],
   "source": [
    "# update\n",
    "df <- read_csv(file = f_cell_comp, show_col_types = F) %>% \n",
    "    select(sample, patient, sample_type, cell_type, freq, pct, n_cell_samp, pct_by_total_cell) %>% \n",
    "    add_clin_info(ftsv = f_pat_gp, columns = gp, merge_by = 'patient') %>%\n",
    "    mutate(sample_type = case_match(sample_type, 'Baseline' ~ 'pre', 'Treat' ~ 'post'))\n",
    "\n",
    "for (nm in names(celltype_map)) {\n",
    "    df$cell_type[df$cell_type %in% celltype_map[[nm]]] <- nm\n",
    "}\n",
    "df %>% write_tsv(str_glue('{outdir}/fig3c-t_cc.tsv'))"
   ]
  },
  {
   "cell_type": "code",
   "execution_count": 36,
   "id": "1f32c408-0d29-4073-9931-b2965e7b6dd3",
   "metadata": {
    "tags": [],
    "vscode": {
     "languageId": "r"
    }
   },
   "outputs": [],
   "source": [
    "# plot\n",
    "df <- read_tsv(str_glue('{outdir}/fig3c-t_cc.tsv'), show_col_types = F)\n",
    "p_ls <- lapply(names(use_ctypes), FUN = function(nm) {\n",
    "    df %>% \n",
    "    filter(!is.na(.data[[gp]])) %>% \n",
    "    filter(cell_type %in% use_ctypes[[nm]]) %>% \n",
    "    cell_comp_boxplot(x = c(gp, 'sample_type'), y = 'pct', pt_fill = gp, xangle = 60, size = 2,\n",
    "                          xorder = comb_order, fill_order = gp_lvls[[gp]], ncol = 7) +\n",
    "    stat_compare_means(comparisons = comp_ls) +\n",
    "    labs(y = 'Percent in T+NK cells', fill = 'Response', title = nm) +\n",
    "    theme(plot.background = element_rect(color = 'black'), # add border\n",
    "          axis.title.x = element_blank(),  # blank don't occupy space\n",
    "          plot.title = element_text(hjust = 0.5))\n",
    "})\n",
    "# remove y labs expcept for first plot\n",
    "for (i in 2:length(p_ls)) {\n",
    "    p_ls[[i]] <- p_ls[[i]] + theme(axis.title.y = element_blank())\n",
    "}\n",
    "# combine plots\n",
    "p <- wrap_plots(p_ls, nrow = 1, widths = c(3, 3), guides = 'collect') & \n",
    "    theme(legend.margin = margin(-6, 0, -1, 0))\n",
    "# save\n",
    "ggsave(filename = str_glue('{outdir}/fig3c-box_cc-selected_t_subtypes.pdf'), plot = p, width = 14, height = 5)"
   ]
  },
  {
   "cell_type": "markdown",
   "id": "89eda78a",
   "metadata": {},
   "source": [
    "## 3d: RVT experimental data"
   ]
  },
  {
   "cell_type": "code",
   "execution_count": null,
   "id": "245ae821",
   "metadata": {
    "vscode": {
     "languageId": "r"
    }
   },
   "outputs": [],
   "source": [
    "raw_file <- '/nfs_beijing_td/nfsshare/nfshome/zhe/Ana/240110_ESCC_externalData/staining_raw/136-145-MERGE_cell_seg_data.txt'\n",
    "sample_file <- '/nfs_beijing_td/nfsshare/nfshome/zhe/Ana/240110_ESCC_externalData/staining_raw/136-145-过滤后的MSI视野.xlsx'\n",
    "cx3cl1_staining_file <- '/nfs_beijing_td/nfsshare/nfshome/zhe/Ana/240110_ESCC_externalData/staining_1_CX3CL1.tsv'\n",
    "patient_file <- '/nfs_beijing_td/nfsshare/nfshome/zhe/Ana/240110_ESCC_externalData/staining_136_patientTbl.tsv'"
   ]
  },
  {
   "cell_type": "code",
   "execution_count": null,
   "id": "a27b22d3",
   "metadata": {
    "vscode": {
     "languageId": "r"
    }
   },
   "outputs": [],
   "source": [
    "df_pat <- read_tsv(patient_file, show_col_types = F) %>%\n",
    "    mutate(RVT = as.numeric(gsub('%', '', RVT)) / 100)"
   ]
  },
  {
   "cell_type": "code",
   "execution_count": null,
   "id": "9d9fb176",
   "metadata": {
    "vscode": {
     "languageId": "r"
    }
   },
   "outputs": [
    {
     "data": {
      "text/html": [
       "<style>\n",
       ".list-inline {list-style: none; margin:0; padding: 0}\n",
       ".list-inline>li {display: inline-block}\n",
       ".list-inline>li:not(:last-child)::after {content: \"\\00b7\"; padding: 0 .5ex}\n",
       "</style>\n",
       "<ol class=list-inline><li>2097840</li><li>156</li></ol>\n"
      ],
      "text/latex": [
       "\\begin{enumerate*}\n",
       "\\item 2097840\n",
       "\\item 156\n",
       "\\end{enumerate*}\n"
      ],
      "text/markdown": [
       "1. 2097840\n",
       "2. 156\n",
       "\n",
       "\n"
      ],
      "text/plain": [
       "[1] 2097840     156"
      ]
     },
     "metadata": {},
     "output_type": "display_data"
    }
   ],
   "source": [
    "valid_samples <- readxl::read_xlsx(sample_file, sheet = 1) %>%\n",
    "    pull('Sample Name')\n",
    "df_raw <- read_tsv(raw_file, show_col_types = F) %>% \n",
    "    filter(`Sample Name` %in% valid_samples)\n",
    "colnames(df_raw) <- gsub(\" \\\\(Normalized Counts, Total Weighting\\\\)\", \"\", colnames(df_raw))\n",
    "dim(df_raw)"
   ]
  },
  {
   "cell_type": "code",
   "execution_count": null,
   "id": "f126a9a5",
   "metadata": {
    "vscode": {
     "languageId": "r"
    }
   },
   "outputs": [],
   "source": [
    "# Use sub to extract the number between '-' and '_'\n",
    "df_raw$code_id = sub(\"_.*\", \"\", df_raw$`Sample Name`)\n",
    "\n",
    "# #constructure raw1 measurement table\n",
    "# raw1_measurements=colnames(df_raw)[17:133]\n",
    "# measurement_df1=label_processing(raw1_measurements)"
   ]
  },
  {
   "cell_type": "code",
   "execution_count": null,
   "id": "b144ae09",
   "metadata": {
    "vscode": {
     "languageId": "r"
    }
   },
   "outputs": [],
   "source": [
    "df_cx3cl1 <- read_tsv(cx3cl1_staining_file, show_col_types = F) %>%\n",
    "    select(`Sample Name`, Positivity) %>%\n",
    "    mutate(Positivity = as.numeric(gsub(\"%$\", \"\", Positivity)))"
   ]
  },
  {
   "cell_type": "code",
   "execution_count": null,
   "id": "e3aeec0f",
   "metadata": {
    "vscode": {
     "languageId": "r"
    }
   },
   "outputs": [
    {
     "data": {
      "text/html": [
       "<style>\n",
       ".list-inline {list-style: none; margin:0; padding: 0}\n",
       ".list-inline>li {display: inline-block}\n",
       ".list-inline>li:not(:last-child)::after {content: \"\\00b7\"; padding: 0 .5ex}\n",
       "</style>\n",
       "<ol class=list-inline><li>1808860</li><li>7</li></ol>\n"
      ],
      "text/latex": [
       "\\begin{enumerate*}\n",
       "\\item 1808860\n",
       "\\item 7\n",
       "\\end{enumerate*}\n"
      ],
      "text/markdown": [
       "1. 1808860\n",
       "2. 7\n",
       "\n",
       "\n"
      ],
      "text/plain": [
       "[1] 1808860       7"
      ]
     },
     "metadata": {},
     "output_type": "display_data"
    }
   ],
   "source": [
    "col_name_map <- c(\n",
    "    sample_id=\"Sample Name\",\n",
    "    CX3CR1_total = \"Membrane CX3CR1 (Opal 570) Total\",\n",
    "    CD8_total = \"Membrane CD8 (Opal 620) Total\",\n",
    "    CX3CR1_mean = \"Membrane CX3CR1 (Opal 570) Mean\",\n",
    "    CD8_mean = \"Membrane CD8 (Opal 620) Mean\",\n",
    "    CXCL13_cell = \"Entire Cell CXCL13 (Opal 650) Total\"\n",
    ")\n",
    "df <- df_raw %>% \n",
    "    rename(all_of(col_name_map)) %>% \n",
    "    select(all_of(c('code_id', names(col_name_map)))) %>% \n",
    "    filter(! (code_id %in% c(136, 137)))\n",
    "df %>% dim"
   ]
  },
  {
   "cell_type": "code",
   "execution_count": null,
   "id": "cf3ee1f7",
   "metadata": {
    "vscode": {
     "languageId": "r"
    }
   },
   "outputs": [],
   "source": [
    "CD8_tot_thresh=8\n",
    "CXCL13_all_thresh=30\n",
    "df_stat <- df %>%\n",
    "    summarise(\n",
    "        CX3CR1_CD8_in_CD8_total= sum(CX3CR1_total>CX3CR1_tot_thresh & CD8_total>CD8_tot_thresh)/sum(CD8_total>CD8_tot_thresh),\n",
    "        CX3CR1_CD8_in_CD8_mean= sum(CX3CR1_mean>CX3CR1_mean_thresh & CD8_mean>CD8_mean_thresh)/sum(CD8_mean>CD8_mean_thresh),\n",
    "        CXCL13_CD8_in_CD8 = sum(CXCL13_cell>CXCL13_all_thresh & CD8_total>CD8_tot_thresh)/sum(CD8_total>CD8_tot_thresh),\n",
    "        CXCL13_noCX3CR1_CD8_in_CD8 = sum(CXCL13_cell>CXCL13_all_thresh & CD8_total>CD8_tot_thresh & CX3CR1_total<CX3CR1_tot_thresh)/sum(CD8_total>CD8_tot_thresh),\n",
    "        CD8_num=sum(CD8_total>CD8_tot_thresh),\n",
    "        .by=c(code_id, sample_id)\n",
    "    ) %>%\n",
    "    merge(df_pat, by = 'code_id')\n",
    "# code_order <- df_stat %>%\n",
    "#     summarise(rank_val = median(CXCL13_CD8_in_CD8), .by = code_id) %>%\n",
    "#     arrange(rank_val) %>%\n",
    "#     pull(code_id)\n",
    "code_order <- c('142', '140', '139', '145', '143', '144', '138', '141')\n",
    "df_stat <- df_stat %>% mutate(code_id = factor(code_id, levels = code_order))\n",
    "# df_stat$RVT=df_pat$RVT[match(df_stat$code_id, df_pat$code_id)]\n",
    "# df_stat$code_id=factor(df_stat$code_id, levels=df_pat$code_id[order(df_pat$RVT)])\n",
    "\n",
    "p <- ggplot(df_stat, aes(x=code_id,y=CXCL13_CD8_in_CD8, color=RVT)) +\n",
    "    geom_boxplot(outlier.shape = NA) +\n",
    "    geom_jitter(position=position_jitter(0.2),aes(fill=RVT)) +\n",
    "    labs(\n",
    "        # title=str_glue('CXCL13_all_thresh={CXCL13_all_thresh},CD8_tot_thresh={CD8_tot_thresh}')\n",
    "        x = 'Patient ID',\n",
    "        y = 'CXCL13+ CD8 fraction in total CD8 cells'\n",
    "    ) +\n",
    "    theme_classic() + \n",
    "    theme(axis.text.x = element_text(angle = 60, vjust = 1, hjust=1))\n",
    "ggsave(filename = str_glue('../immunity-figs/fig3/fig3d-box-rvt.pdf'), width = 4, height = 4)"
   ]
  },
  {
   "cell_type": "code",
   "execution_count": null,
   "id": "21c9f121",
   "metadata": {
    "vscode": {
     "languageId": "r"
    }
   },
   "outputs": [
    {
     "data": {
      "text/plain": [
       "\n",
       "\tWilcoxon rank sum test with continuity correction\n",
       "\n",
       "data:  a and b\n",
       "W = 606, p-value = 1.811e-08\n",
       "alternative hypothesis: true location shift is not equal to 0\n"
      ]
     },
     "metadata": {},
     "output_type": "display_data"
    }
   ],
   "source": [
    "a <- df_stat %>% \n",
    "    filter(code_id %in% c('142', '140', '139', '145')) %>% \n",
    "    pull(CXCL13_CD8_in_CD8)\n",
    "b <- df_stat %>% \n",
    "    filter(code_id %in% c('143', '144', '138', '141')) %>% \n",
    "    pull(CXCL13_CD8_in_CD8)\n",
    "wilcox.test(a, b)"
   ]
  },
  {
   "cell_type": "markdown",
   "id": "e4f2c0df",
   "metadata": {},
   "source": [
    "## 3e: dotplot exprs of CXCR4-CXCL12"
   ]
  },
  {
   "cell_type": "markdown",
   "id": "b6412cb3",
   "metadata": {},
   "source": [
    "### CXCR4-CXCL12 in whole dataset"
   ]
  },
  {
   "cell_type": "code",
   "execution_count": null,
   "id": "26a5bd6e",
   "metadata": {
    "vscode": {
     "languageId": "r"
    }
   },
   "outputs": [],
   "source": [
    "scrna <- readRDS('../../stage4/a01_data/seuobj/whole.rds')"
   ]
  },
  {
   "cell_type": "code",
   "execution_count": null,
   "id": "1746481b",
   "metadata": {
    "vscode": {
     "languageId": "r"
    }
   },
   "outputs": [
    {
     "data": {
      "text/plain": [
       "\n",
       "B & Plasma cells      Endothelial       Epithelial       Fibroblast \n",
       "          103212            44055            75040           111164 \n",
       "         Myeloid                T \n",
       "          114636           302025 "
      ]
     },
     "metadata": {},
     "output_type": "display_data"
    }
   ],
   "source": [
    "scrna$cellgp <- scrna$cell_type_correct\n",
    "scrna$cellgp[scrna$cell_type_correct %in% c('B', 'Plasma')] = 'B & Plasma cells'\n",
    "table(scrna$cellgp)"
   ]
  },
  {
   "cell_type": "code",
   "execution_count": null,
   "id": "d54cc4db",
   "metadata": {
    "vscode": {
     "languageId": "r"
    }
   },
   "outputs": [
    {
     "name": "stderr",
     "output_type": "stream",
     "text": [
      "\u001b[1m\u001b[22mScale for \u001b[32mcolour\u001b[39m is already present.\n",
      "Adding another scale for \u001b[32mcolour\u001b[39m, which will replace the existing scale.\n"
     ]
    }
   ],
   "source": [
    "p <- DotPlot(scrna, features = c('CXCR4', 'CXCL12'), group.by = 'cellgp') + \n",
    "    scale_color_gsea() +\n",
    "    labs(x = '', y = '') +\n",
    "    RotatedAxis()\n",
    "ggsave(filename = str_glue('{outdir}/fig3e-dotplot-CXCR4_CXCL12-exprs-major.pdf'), plot = p, width = 5, height = 5)"
   ]
  },
  {
   "cell_type": "markdown",
   "id": "b26dc728",
   "metadata": {},
   "source": [
    "### CXCR4 in T subtypes"
   ]
  },
  {
   "cell_type": "code",
   "execution_count": null,
   "id": "9310e967",
   "metadata": {
    "vscode": {
     "languageId": "r"
    }
   },
   "outputs": [],
   "source": [
    "scrna <- readRDS('../../stage4/a01_data/seuobj/t.rds')"
   ]
  },
  {
   "cell_type": "code",
   "execution_count": null,
   "id": "1a96887b",
   "metadata": {
    "vscode": {
     "languageId": "r"
    }
   },
   "outputs": [
    {
     "data": {
      "text/plain": [
       "\n",
       "  CD4_CXCL13    CD4_KLRB1    CD8_ANXA1     CD8_CCL5     CD8_CD74   CD8_CX3CR1 \n",
       "       13152        20635        15789        17401         4820         5319 \n",
       "  CD8_CXCL13      CD8_FOS     CD8_GZMK    CD8_IFIT1    CD8_KLRB1     CD8_TYMS \n",
       "       32900        20473        24466         5853         5067         8936 \n",
       "          NK    NK_CX3CR1       T_IL7R       T_Mito      T_MKI67       T_Ribo \n",
       "       12992         5385        27242        16101        11065         8102 \n",
       "    Treg_LTB Treg_TNFRSF4 \n",
       "       15682        30645 "
      ]
     },
     "metadata": {},
     "output_type": "display_data"
    }
   ],
   "source": [
    "scrna$cellgp <- scrna$subtype\n",
    "for (nm in names(celltype_map)) {\n",
    "    scrna$cellgp[scrna$subtype %in% celltype_map[[nm]]] <- nm\n",
    "}\n",
    "table(scrna$cellgp)"
   ]
  },
  {
   "cell_type": "code",
   "execution_count": null,
   "id": "1667b316",
   "metadata": {
    "vscode": {
     "languageId": "r"
    }
   },
   "outputs": [
    {
     "name": "stderr",
     "output_type": "stream",
     "text": [
      "\u001b[1m\u001b[22mScale for \u001b[32mcolour\u001b[39m is already present.\n",
      "Adding another scale for \u001b[32mcolour\u001b[39m, which will replace the existing scale.\n"
     ]
    }
   ],
   "source": [
    "p <- DotPlot(scrna, features = c('CXCR4'), group.by = 'cellgp') + \n",
    "    scale_color_gsea() +\n",
    "    labs(x = '', y = '') +\n",
    "    RotatedAxis()\n",
    "ggsave(filename = str_glue('{outdir}/fig3e-dotplot-CXCR4-exprs-T_clusters.pdf'), plot = p, width = 4.5, height = 5)"
   ]
  },
  {
   "cell_type": "markdown",
   "id": "e5016675",
   "metadata": {},
   "source": [
    "## 3f-g: pseodo-bulk expression of CXCL12/CXCR4"
   ]
  },
  {
   "cell_type": "markdown",
   "id": "d1684ddb",
   "metadata": {},
   "source": [
    "### CXCL12 in Fibroblast"
   ]
  },
  {
   "cell_type": "code",
   "execution_count": null,
   "id": "e553aba8",
   "metadata": {
    "vscode": {
     "languageId": "r"
    }
   },
   "outputs": [],
   "source": [
    "f_pbulk <- '../../stage4/a06_de/cntbulk_major_min50/fibro/bulk_by_samp.tsv'\n",
    "genes <- 'CXCL12'"
   ]
  },
  {
   "cell_type": "code",
   "execution_count": null,
   "id": "4d64a4b4",
   "metadata": {
    "vscode": {
     "languageId": "r"
    }
   },
   "outputs": [
    {
     "name": "stdout",
     "output_type": "stream",
     "text": [
      "\u001b[0m2024-02-05 14:05:32 INFO::these clinial info will be added: response\u001b[0m\u001b[22m\u001b[23m\u001b[24m\u001b[27m\u001b[28m\u001b[29m\u001b[39m\u001b[49m\u001b[0m\u001b[0m\u001b[22m\u001b[23m\u001b[24m\u001b[27m\u001b[28m\u001b[29m\u001b[39m\u001b[49m\n",
      "\u001b[0m2024-02-05 14:05:32 INFO::77 records of 1 genes\u001b[0m\u001b[22m\u001b[23m\u001b[24m\u001b[27m\u001b[28m\u001b[29m\u001b[39m\u001b[49m\u001b[0m\u001b[0m\u001b[22m\u001b[23m\u001b[24m\u001b[27m\u001b[28m\u001b[29m\u001b[39m\u001b[49m\n"
     ]
    }
   ],
   "source": [
    "exprs_pbulk <- read_tsv(f_pbulk, show_col_types = F) %>%\n",
    "    mutate(across(where(is.numeric), ~ log1p(1e6 * .x / sum(.x)))) %>%\n",
    "    filter(symbol %in% genes) %>% \n",
    "    pivot_longer(cols = -c('symbol'), names_to = 'sample', values_to = 'logcpm') %>%\n",
    "    extract(col = 'sample', into = c('patient', 'sample_type'), regex = '(.+)-(.+)', remove = F) %>%\n",
    "    add_clin_info(ftsv = f_pat_gp, columns = gp, merge_by = 'patient') %>%\n",
    "    mutate(sample_type = case_match(sample_type, 'Baseline' ~ 'pre', 'Treat' ~ 'post'))\n",
    "\n",
    "exprs_pbulk %>% write_tsv(str_glue('{outdir}/fig3f-exprs-CXCL12_in_fibro.tsv'))\n",
    "\n",
    "loginfo('%g records of %g genes', nrow(exprs_pbulk), length(genes))"
   ]
  },
  {
   "cell_type": "code",
   "execution_count": null,
   "id": "689e89f1",
   "metadata": {
    "vscode": {
     "languageId": "r"
    }
   },
   "outputs": [],
   "source": [
    "p <- read_tsv(str_glue('{outdir}/fig3f-exprs-CXCL12_in_fibro.tsv'), show_col_types = F) %>%\n",
    "    filter(.data[[gp]] %in% gp_lvls[[gp]]) %>%\n",
    "    cell_comp_boxplot(x = c(gp, 'sample_type'), y = 'logcpm', pt_fill = gp, facet_by = NULL, \n",
    "                      xorder = comb_order, fill_order = gp_lvls[[gp]], xangle = 60) +\n",
    "    labs(fill = 'Response', y = 'CXCL12 expression in Fibroblasts') +\n",
    "    stat_compare_means(comparisons = gp_comp_map[[gp]])+\n",
    "    theme(legend.justification = c(1, 0))\n",
    "ggsave(filename = str_glue('{outdir}/fig3f-exprs-CXCL12_in_fibro.pdf'), width = 2.5, height = 5, plot = p)"
   ]
  },
  {
   "cell_type": "markdown",
   "id": "40cf9cff",
   "metadata": {},
   "source": [
    "### CXCL12 in Endothelial"
   ]
  },
  {
   "cell_type": "code",
   "execution_count": null,
   "id": "8f502b87",
   "metadata": {
    "vscode": {
     "languageId": "r"
    }
   },
   "outputs": [],
   "source": [
    "f_pbulk <- '../../stage4/a06_de/cntbulk_major_min50/endo/bulk_by_samp.tsv'\n",
    "genes <- 'CXCL12'"
   ]
  },
  {
   "cell_type": "code",
   "execution_count": null,
   "id": "03b1c18a",
   "metadata": {
    "vscode": {
     "languageId": "r"
    }
   },
   "outputs": [],
   "source": [
    "exprs_pbulk <- read_tsv(f_pbulk, show_col_types = F) %>%\n",
    "    mutate(across(where(is.numeric), ~ log1p(1e6 * .x / sum(.x)))) %>%\n",
    "    filter(symbol %in% genes) %>% \n",
    "    pivot_longer(cols = -c('symbol'), names_to = 'sample', values_to = 'logcpm') %>%\n",
    "    extract(col = 'sample', into = c('patient', 'sample_type'), regex = '(.+)-(.+)', remove = F) %>%\n",
    "    add_clin_info(ftsv = f_pat_gp, columns = gp, merge_by = 'patient') %>%\n",
    "    mutate(sample_type = case_match(sample_type, 'Baseline' ~ 'pre', 'Treat' ~ 'post'))\n",
    "\n",
    "exprs_pbulk %>% write_tsv(str_glue('{outdir}/fig3f-exprs-CXCL12_in_endo.tsv'))\n",
    "\n",
    "loginfo('%g records of %g genes', nrow(exprs_pbulk), length(genes))"
   ]
  },
  {
   "cell_type": "code",
   "execution_count": null,
   "id": "ea2da39c",
   "metadata": {
    "vscode": {
     "languageId": "r"
    }
   },
   "outputs": [],
   "source": [
    "p <- read_tsv(str_glue('{outdir}/fig3f-exprs-CXCL12_in_fibro.tsv'), show_col_types = F) %>%\n",
    "    filter(.data[[gp]] %in% gp_lvls[[gp]]) %>%\n",
    "    cell_comp_boxplot(x = c(gp, 'sample_type'), y = 'logcpm', pt_fill = gp, facet_by = NULL, \n",
    "                      xorder = comb_order, fill_order = gp_lvls[[gp]], xangle = 60) +\n",
    "    labs(fill = 'Response', y = 'CXCL12 expression in Fibroblasts') +\n",
    "    stat_compare_means(comparisons = gp_comp_map[[gp]])+\n",
    "    theme(legend.justification = c(1, 0))\n",
    "ggsave(filename = str_glue('{outdir}/fig3f-exprs-CXCL12_in_fibro.pdf'), width = 2.5, height = 5, plot = p)"
   ]
  },
  {
   "cell_type": "markdown",
   "id": "e96ee4ed",
   "metadata": {},
   "source": [
    "### CXCR4 in cytotoxic CD8 T"
   ]
  },
  {
   "cell_type": "code",
   "execution_count": null,
   "id": "389f4954",
   "metadata": {
    "vscode": {
     "languageId": "r"
    }
   },
   "outputs": [],
   "source": [
    "f_pbulk <- '../../stage4/miscellaneous/exprs_box/chemokine_receptor_in_t_state-exprs-pbulk.tsv'\n",
    "used_gene <- 'CXCR4'"
   ]
  },
  {
   "cell_type": "code",
   "execution_count": null,
   "id": "e64b2637",
   "metadata": {
    "vscode": {
     "languageId": "r"
    }
   },
   "outputs": [
    {
     "name": "stdout",
     "output_type": "stream",
     "text": [
      "\u001b[0m2024-02-05 14:20:19 INFO::these clinial info will be added: response\u001b[0m\u001b[22m\u001b[23m\u001b[24m\u001b[27m\u001b[28m\u001b[29m\u001b[39m\u001b[49m\u001b[0m\u001b[0m\u001b[22m\u001b[23m\u001b[24m\u001b[27m\u001b[28m\u001b[29m\u001b[39m\u001b[49m\n",
      "\u001b[0m2024-02-05 14:20:19 INFO::81 records\u001b[0m\u001b[22m\u001b[23m\u001b[24m\u001b[27m\u001b[28m\u001b[29m\u001b[39m\u001b[49m\u001b[0m\u001b[0m\u001b[22m\u001b[23m\u001b[24m\u001b[27m\u001b[28m\u001b[29m\u001b[39m\u001b[49m\n"
     ]
    }
   ],
   "source": [
    "exprs_pbulk <- read_tsv(f_pbulk, show_col_types = F) %>% \n",
    "    filter(gene == used_gene, cellgp == 'cytotoxic CD8') %>% \n",
    "    select(patient, sample_type, logcpm) %>% \n",
    "    add_clin_info(ftsv = f_pat_gp, columns = gp, merge_by = 'patient') %>%\n",
    "    mutate(sample_type = case_match(sample_type, 'Baseline' ~ 'pre', 'Treat' ~ 'post'))\n",
    "loginfo('%g records', nrow(exprs_pbulk))\n",
    "\n",
    "exprs_pbulk %>% write_tsv(str_glue('{outdir}/fig3f-exprs-CXCR4_in_cd8_cyto_T.tsv'))"
   ]
  },
  {
   "cell_type": "code",
   "execution_count": null,
   "id": "b501425e",
   "metadata": {
    "vscode": {
     "languageId": "r"
    }
   },
   "outputs": [],
   "source": [
    "p <- read_tsv(str_glue('{outdir}/fig3f-exprs-CXCR4_in_cd8_cyto_T.tsv'), show_col_types = F) %>%\n",
    "    filter(.data[[gp]] %in% gp_lvls[[gp]]) %>%\n",
    "    cell_comp_boxplot(x = c(gp, 'sample_type'), y = 'logcpm', pt_fill = gp, facet_by = NULL, \n",
    "                      xorder = comb_order, fill_order = gp_lvls[[gp]], xangle = 60) +\n",
    "    labs(fill = 'Response', y = 'CXCR4 expression in CD8+ cytotoxic T cells') +\n",
    "    stat_compare_means(comparisons = gp_comp_map[[gp]]) +\n",
    "    theme(legend.justification = c(1, 0))\n",
    "ggsave(filename = str_glue('{outdir}/fig3f-exprs-CXCR4_in_cd8_cyto_T.pdf'), width = 2.5, height = 5, plot = p)"
   ]
  },
  {
   "cell_type": "markdown",
   "id": "26a298f3",
   "metadata": {},
   "source": [
    "### CXCR4 in exhausted CD8 T"
   ]
  },
  {
   "cell_type": "code",
   "execution_count": null,
   "id": "95a8bb76",
   "metadata": {
    "vscode": {
     "languageId": "r"
    }
   },
   "outputs": [],
   "source": [
    "f_pbulk <- '../../stage4/miscellaneous/exprs_box/chemokine_receptor_in_t_state-exprs-pbulk.tsv'\n",
    "used_gene <- 'CXCR4'"
   ]
  },
  {
   "cell_type": "code",
   "execution_count": null,
   "id": "958e6204",
   "metadata": {
    "vscode": {
     "languageId": "r"
    }
   },
   "outputs": [
    {
     "name": "stdout",
     "output_type": "stream",
     "text": [
      "\u001b[0m2024-02-05 14:22:26 INFO::these clinial info will be added: response\u001b[0m\u001b[22m\u001b[23m\u001b[24m\u001b[27m\u001b[28m\u001b[29m\u001b[39m\u001b[49m\u001b[0m\u001b[0m\u001b[22m\u001b[23m\u001b[24m\u001b[27m\u001b[28m\u001b[29m\u001b[39m\u001b[49m\n",
      "\u001b[0m2024-02-05 14:22:26 INFO::73 records\u001b[0m\u001b[22m\u001b[23m\u001b[24m\u001b[27m\u001b[28m\u001b[29m\u001b[39m\u001b[49m\u001b[0m\u001b[0m\u001b[22m\u001b[23m\u001b[24m\u001b[27m\u001b[28m\u001b[29m\u001b[39m\u001b[49m\n"
     ]
    }
   ],
   "source": [
    "exprs_pbulk <- read_tsv(f_pbulk, show_col_types = F) %>% \n",
    "    filter(gene == used_gene, cellgp == 'exhausted CD8') %>% \n",
    "    select(patient, sample_type, logcpm) %>% \n",
    "    add_clin_info(ftsv = f_pat_gp, columns = gp, merge_by = 'patient') %>%\n",
    "    mutate(sample_type = case_match(sample_type, 'Baseline' ~ 'pre', 'Treat' ~ 'post'))\n",
    "loginfo('%g records', nrow(exprs_pbulk))\n",
    "\n",
    "exprs_pbulk %>% write_tsv(str_glue('{outdir}/fig3f-exprs-CXCR4_in_cd8_exhau_T.tsv'))"
   ]
  },
  {
   "cell_type": "code",
   "execution_count": null,
   "id": "b33dc006",
   "metadata": {
    "vscode": {
     "languageId": "r"
    }
   },
   "outputs": [],
   "source": [
    "p <- read_tsv(str_glue('{outdir}/fig3f-exprs-CXCR4_in_cd8_exhau_T.tsv'), show_col_types = F) %>%\n",
    "    filter(.data[[gp]] %in% gp_lvls[[gp]]) %>%\n",
    "    cell_comp_boxplot(x = c(gp, 'sample_type'), y = 'logcpm', pt_fill = gp, facet_by = NULL, \n",
    "                      xorder = comb_order, fill_order = gp_lvls[[gp]], xangle = 60) +\n",
    "    labs(fill = 'Response', y = 'CXCR4 expression in CD8+ exhausted T cells') +\n",
    "    stat_compare_means(comparisons = gp_comp_map[[gp]]) +\n",
    "    theme(legend.justification = c(1, 0))\n",
    "ggsave(filename = str_glue('{outdir}/fig3f-exprs-CXCR4_in_cd8_exhau_T.pdf'), width = 2.5, height = 5, plot = p)"
   ]
  },
  {
   "cell_type": "code",
   "execution_count": null,
   "id": "697c91eb",
   "metadata": {
    "vscode": {
     "languageId": "python"
    }
   },
   "outputs": [],
   "source": []
  },
  {
   "cell_type": "code",
   "execution_count": null,
   "id": "b05f870e-dce6-4d6e-b600-611f26e35de4",
   "metadata": {
    "vscode": {
     "languageId": "r"
    }
   },
   "outputs": [],
   "source": []
  }
 ],
 "metadata": {
  "kernelspec": {
   "display_name": "R 4.1.3",
   "language": "R",
   "name": "r_env"
  },
  "language_info": {
   "codemirror_mode": "r",
   "file_extension": ".r",
   "mimetype": "text/x-r-source",
   "name": "R",
   "pygments_lexer": "r",
   "version": "4.1.3"
  }
 },
 "nbformat": 4,
 "nbformat_minor": 5
}

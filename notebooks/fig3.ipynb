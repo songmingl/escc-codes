{
 "cells": [
  {
   "cell_type": "markdown",
   "id": "4e78bb62-b115-43fd-9fb7-c826ee2811a4",
   "metadata": {
    "tags": []
   },
   "source": [
    "# figure 3 vlz\n",
    "\n",
    "- kernel: r_env, R 4.1.3\n",
    "- date: 2023-12-28"
   ]
  },
  {
   "cell_type": "markdown",
   "id": "0e59ed14-a3c3-49a6-8411-ae918b67af3b",
   "metadata": {
    "jp-MarkdownHeadingCollapsed": true,
    "tags": []
   },
   "source": [
    "## load"
   ]
  },
  {
   "cell_type": "code",
   "execution_count": 1,
   "id": "95697196-8cfb-4a41-9105-a25a0d5c0baf",
   "metadata": {
    "collapsed": true,
    "jupyter": {
     "outputs_hidden": true
    },
    "tags": [],
    "vscode": {
     "languageId": "r"
    }
   },
   "outputs": [
    {
     "name": "stderr",
     "output_type": "stream",
     "text": [
      "── \u001b[1mAttaching core tidyverse packages\u001b[22m ──────────────────────── tidyverse 2.0.0 ──\n",
      "\u001b[32m✔\u001b[39m \u001b[34mdplyr    \u001b[39m 1.1.0     \u001b[32m✔\u001b[39m \u001b[34mreadr    \u001b[39m 2.1.4\n",
      "\u001b[32m✔\u001b[39m \u001b[34mforcats  \u001b[39m 1.0.0     \u001b[32m✔\u001b[39m \u001b[34mstringr  \u001b[39m 1.5.0\n",
      "\u001b[32m✔\u001b[39m \u001b[34mggplot2  \u001b[39m 3.4.1     \u001b[32m✔\u001b[39m \u001b[34mtibble   \u001b[39m 3.2.0\n",
      "\u001b[32m✔\u001b[39m \u001b[34mlubridate\u001b[39m 1.9.2     \u001b[32m✔\u001b[39m \u001b[34mtidyr    \u001b[39m 1.3.0\n",
      "\u001b[32m✔\u001b[39m \u001b[34mpurrr    \u001b[39m 1.0.1     \n",
      "── \u001b[1mConflicts\u001b[22m ────────────────────────────────────────── tidyverse_conflicts() ──\n",
      "\u001b[31m✖\u001b[39m \u001b[34mdplyr\u001b[39m::\u001b[32mfilter()\u001b[39m masks \u001b[34mstats\u001b[39m::filter()\n",
      "\u001b[31m✖\u001b[39m \u001b[34mdplyr\u001b[39m::\u001b[32mlag()\u001b[39m    masks \u001b[34mstats\u001b[39m::lag()\n",
      "\u001b[36mℹ\u001b[39m Use the conflicted package (\u001b[3m\u001b[34m<http://conflicted.r-lib.org/>\u001b[39m\u001b[23m) to force all conflicts to become errors\n",
      "\n",
      "Attaching package: ‘igraph’\n",
      "\n",
      "\n",
      "The following objects are masked from ‘package:lubridate’:\n",
      "\n",
      "    %--%, union\n",
      "\n",
      "\n",
      "The following objects are masked from ‘package:dplyr’:\n",
      "\n",
      "    as_data_frame, groups, union\n",
      "\n",
      "\n",
      "The following objects are masked from ‘package:purrr’:\n",
      "\n",
      "    compose, simplify\n",
      "\n",
      "\n",
      "The following object is masked from ‘package:tidyr’:\n",
      "\n",
      "    crossing\n",
      "\n",
      "\n",
      "The following object is masked from ‘package:tibble’:\n",
      "\n",
      "    as_data_frame\n",
      "\n",
      "\n",
      "The following objects are masked from ‘package:stats’:\n",
      "\n",
      "    decompose, spectrum\n",
      "\n",
      "\n",
      "The following object is masked from ‘package:base’:\n",
      "\n",
      "    union\n",
      "\n",
      "\n",
      "Attaching SeuratObject\n",
      "\n",
      "Loading required package: grid\n",
      "\n",
      "========================================\n",
      "ComplexHeatmap version 2.10.0\n",
      "Bioconductor page: http://bioconductor.org/packages/ComplexHeatmap/\n",
      "Github page: https://github.com/jokergoo/ComplexHeatmap\n",
      "Documentation: http://jokergoo.github.io/ComplexHeatmap-reference\n",
      "\n",
      "If you use it in published research, please cite:\n",
      "Gu, Z. Complex heatmaps reveal patterns and correlations in multidimensional \n",
      "  genomic data. Bioinformatics 2016.\n",
      "\n",
      "The new InteractiveComplexHeatmap package can directly export static \n",
      "complex heatmaps into an interactive Shiny app with zero effort. Have a try!\n",
      "\n",
      "This message can be suppressed by:\n",
      "  suppressPackageStartupMessages(library(ComplexHeatmap))\n",
      "========================================\n",
      "\n",
      "\n"
     ]
    }
   ],
   "source": [
    "library(tidyverse)\n",
    "library(tools)\n",
    "library(logging)\n",
    "library(ggpubr)\n",
    "library(ggsci)\n",
    "library(patchwork)\n",
    "library(igraph)\n",
    "library(ggraph)\n",
    "library(Seurat)\n",
    "library(maftools)\n",
    "library(ComplexHeatmap)\n",
    "\n",
    "source('../../stage2/scripts/r_funcs.r')\n",
    "\n",
    "theme_set(theme_pubr())\n",
    "logging::basicConfig()\n",
    "options(warn = -1)\n",
    "\n",
    "outdir <- '../figures/fig3'\n",
    "create_dir(outdir)"
   ]
  },
  {
   "cell_type": "code",
   "execution_count": 2,
   "id": "f5278565-7b51-4c95-be13-a8397000ab0f",
   "metadata": {
    "tags": [],
    "vscode": {
     "languageId": "r"
    }
   },
   "outputs": [],
   "source": [
    "f_pat_gp <- '../tables/patient_info_v2.tsv'\n",
    "gp <- 'response'\n",
    "gp_lvls$response <- c('R', 'PR')\n",
    "gp_comp_map$response <- list(\n",
    "  c('R-pre', 'R-post'),\n",
    "  c('PR-pre', 'PR-post'),\n",
    "  c('R-pre', 'PR-pre'),\n",
    "  c('R-post', 'PR-post')\n",
    ")\n",
    "gp_comp_diff_map$response <- list(c('R', 'PR'))\n",
    "gp_comp_map_pre$response <- list(c('R-pre', 'PR-pre'))\n",
    "comb_order <- c('R-pre', 'R-post', 'PR-pre', 'PR-post')\n",
    "\n",
    "celltype_map <- list(\n",
    "    'T_MKI67' = c('T_Prolif')\n",
    ")"
   ]
  },
  {
   "cell_type": "markdown",
   "id": "0bf0233d-7903-44fb-bda7-cb44dbecab9a",
   "metadata": {
    "jp-MarkdownHeadingCollapsed": true,
    "tags": []
   },
   "source": [
    "## 3a: T cell markers\n",
    "\n",
    "- 2024-01-02: update gene list"
   ]
  },
  {
   "cell_type": "code",
   "execution_count": 23,
   "id": "49bc8fb5-0a74-4c61-994b-22d39673dc94",
   "metadata": {
    "tags": [],
    "vscode": {
     "languageId": "r"
    }
   },
   "outputs": [],
   "source": [
    "f_seuobj <- '../../stage4/a01_data/seuobj/t.rds'\n",
    "\n",
    "ctype_order <- c(\n",
    "    'NK', 'NK_CX3CR1',\n",
    "    'CD4_CXCL13', 'CD4_KLRB1', 'Treg_LTB', 'Treg_TNFRSF4',\n",
    "    'CD8_CXCL13', 'CD8_TYMS', # exhau\n",
    "    'CD8_CD74', 'CD8_IFIT1', # others\n",
    "    'CD8_ANXA1', 'CD8_CCL5', 'CD8_CX3CR1', 'CD8_FOS', 'CD8_GZMK', 'CD8_KLRB1', # cyto\n",
    "    'T_MKI67', 'T_Mito', 'T_IL7R', 'T_Ribo'\n",
    ")\n",
    "markers <- list(\n",
    "    'NK profile' = c('NCAM1', 'FCER1G', 'KLRC1', 'TYROBP'),  # NK\n",
    "    'T profile' = c('CD3E', 'CD4', 'TNFRSF4', 'CD8A', 'CD8B'),  # major markers\n",
    "    'Treg' = c('FOXP3', 'IKZF2'),\n",
    "    'Naive/TCM' = c('CCR7', 'SELL', 'TCF7', 'IL7R'),\n",
    "    'Exhaustion' = c('PDCD1', 'HAVCR2', 'ENTPD1', 'TNFRSF9', 'CXCL13'),  # exhaustion\n",
    "    'Cytotocity' = c('CST7', 'GZMH', 'GZMK', 'GZMM', 'IFNG', 'PRF1', 'KLRG1', 'NKG7', 'GZMA'), # cyto\n",
    "    'Resident' = c('CD101', 'CXCR6', 'CD69'),\n",
    "    'Others' = c('CX3CR1', 'ITGAE', 'MT-ATP6', 'MT-ND3', 'ANXA1', 'CCL5', 'KLRB1', 'MKI67', 'RPL30')\n",
    ")"
   ]
  },
  {
   "cell_type": "code",
   "execution_count": 4,
   "id": "14548882-aefc-4b33-8962-e355668b7ef3",
   "metadata": {
    "tags": [],
    "vscode": {
     "languageId": "r"
    }
   },
   "outputs": [],
   "source": [
    "scrna <- readRDS(f_seuobj)"
   ]
  },
  {
   "cell_type": "code",
   "execution_count": 5,
   "id": "17e6adc2-e0f6-48a9-a6fe-bce6cd307477",
   "metadata": {
    "tags": [],
    "vscode": {
     "languageId": "r"
    }
   },
   "outputs": [],
   "source": [
    "# rename cell type\n",
    "scrna$cell_group <- scrna$subtype\n",
    "scrna$cell_group[scrna$cell_group == 'T_Prolif'] <- 'T_MKI67'\n",
    "scrna$cell_group <- factor(scrna$cell_group, levels = ctype_order)"
   ]
  },
  {
   "cell_type": "code",
   "execution_count": 25,
   "id": "dc028033-f7fb-4252-affe-36765596a389",
   "metadata": {
    "tags": [],
    "vscode": {
     "languageId": "r"
    }
   },
   "outputs": [
    {
     "name": "stderr",
     "output_type": "stream",
     "text": [
      "\u001b[1m\u001b[22mScale for \u001b[32mcolour\u001b[39m is already present.\n",
      "Adding another scale for \u001b[32mcolour\u001b[39m, which will replace the existing scale.\n"
     ]
    }
   ],
   "source": [
    "# jp_opt(wd = 14, hg = 5.5)\n",
    "p <- DotPlot(scrna, group.by = 'cell_group', features = markers) +\n",
    "    scale_color_gsea() +\n",
    "    labs(x = '', y = '') +\n",
    "    theme(axis.text.x = element_text(angle = 60, hjust = 0.95, vjust = 0.95))\n",
    "ggsave(filename = str_glue('{outdir}/fig3a-dot_t_marker.pdf'), plot = p, width = 14, height = 6)"
   ]
  },
  {
   "cell_type": "markdown",
   "id": "1b70b8d7-12c0-42c1-ab19-bf07e3fa088c",
   "metadata": {
    "jp-MarkdownHeadingCollapsed": true,
    "tags": []
   },
   "source": [
    "## 3b: TCR sharing network\n",
    "\n",
    "- date: 2024-01-02"
   ]
  },
  {
   "cell_type": "code",
   "execution_count": 3,
   "id": "d2ea6160-b812-46b6-866b-12d849e150cf",
   "metadata": {
    "tags": [],
    "vscode": {
     "languageId": "r"
    }
   },
   "outputs": [],
   "source": [
    "f_node <- '../../stage4/a03_tcr/net_vlz_old/net_node_info.csv'\n",
    "f_edge <- '../../stage4/a03_tcr/net_vlz_old/net_edge_info.csv'\n",
    "\n",
    "# to rename cell types\n",
    "celltype_map <- list(\n",
    "    'T_MKI67' = c('T_Prolif')\n",
    ")\n",
    "# to rename cell states (use renamed cell type)\n",
    "cell_state_map <- list(\n",
    "    'others' = c('Treg_LTB')\n",
    ")\n",
    "\n",
    "df_edge <- read_csv(f_edge, show_col_types = F)\n",
    "df_node <- read_csv(f_node, show_col_types = F)"
   ]
  },
  {
   "cell_type": "code",
   "execution_count": 4,
   "id": "1fcecda5-b456-403a-b995-d79702a9e1eb",
   "metadata": {
    "tags": [],
    "vscode": {
     "languageId": "r"
    }
   },
   "outputs": [],
   "source": [
    "# update cell types\n",
    "for (nm in names(celltype_map)) {\n",
    "    df_node$node[df_node$node %in% celltype_map[[nm]]] <- nm\n",
    "    df_edge$from[df_edge$from %in% celltype_map[[nm]]] <- nm\n",
    "    df_edge$to[df_edge$to %in% celltype_map[[nm]]] <- nm\n",
    "}\n",
    "df_edge$edge_type <- paste(df_edge$from, df_edge$to, sep = '->')\n",
    "# node: update cell states\n",
    "for (nm in names(cell_state_map)) {\n",
    "    df_node$node_type[df_node$node %in% cell_state_map[[nm]]] <- nm\n",
    "}\n",
    "\n",
    "df_node %>% write_tsv(str_glue('{outdir}/fig3b-net_tcr_sharing-node_info.tsv'))\n",
    "df_edge %>% write_tsv(str_glue('{outdir}/fig3b-net_tcr_sharing-edge_info.tsv'))"
   ]
  },
  {
   "cell_type": "code",
   "execution_count": 5,
   "id": "cfbba0ca-5b5d-47da-82d6-3fdac9438863",
   "metadata": {
    "tags": [],
    "vscode": {
     "languageId": "r"
    }
   },
   "outputs": [
    {
     "name": "stderr",
     "output_type": "stream",
     "text": [
      "Loading required package: ggrepel\n",
      "\n"
     ]
    }
   ],
   "source": [
    "df_node$node_type <- factor(df_node$node_type, levels = c('exhausted', 'cytotoxic', 'dying', 'others'))\n",
    "p <- exhau_cyto_netplot(df_node = df_node, df_edge = df_edge, color_by = 'node_type', text_size = 4.5, pt_size = 6) +\n",
    "    scale_color_manual(values = c('exhausted' = '#023fa5', \n",
    "                                  'cytotoxic' = 'red', \n",
    "                                  'dying' = '#bb7784', \n",
    "                                  'others' = '#ff9639')) +\n",
    "    labs(color = 'Cell state') +\n",
    "    theme_pubr(base_size = 14) +\n",
    "    theme(legend.position = 'right', legend.text = element_text(size = 14), legend.title = element_text(size = 14))\n",
    "ggsave(filename = str_glue('{outdir}/fig3b-net_tcr_sharing-node_type.pdf'), plot = p, width = 9, height = 5)"
   ]
  },
  {
   "cell_type": "markdown",
   "id": "a380ccc5-f687-4bfa-9b85-118d61d7a02b",
   "metadata": {
    "tags": []
   },
   "source": [
    "## 3c: cell composition\n",
    "\n",
    "for selected cell types"
   ]
  },
  {
   "cell_type": "code",
   "execution_count": 30,
   "id": "58930e00-d5cd-4605-965b-532290e40970",
   "metadata": {
    "tags": [],
    "vscode": {
     "languageId": "r"
    }
   },
   "outputs": [],
   "source": [
    "# to rename cell types\n",
    "celltype_map <- list(\n",
    "    'T_MKI67' = c('T_Prolif')\n",
    ")\n",
    "# cell types used for plotting: renamed cell types\n",
    "use_ctypes <- list(\n",
    "    'cytotoxic clusters' = c('CD8_ANXA1', 'CD8_CCL5', 'CD8_GZMK'),  # cytotoxic\n",
    "    'exhausted clusters' = c('CD8_CXCL13', 'CD8_TYMS', 'T_MKI67') # exhausted\n",
    "    # 'dying cluster' = c('T_Mito')  # dying\n",
    ")\n",
    "gp <- 'response'\n",
    "comp_ls <- list(c('R-pre', 'R-post'), c('PR-pre', 'PR-post'), c('R-post', 'PR-post'))"
   ]
  },
  {
   "cell_type": "code",
   "execution_count": 31,
   "id": "7c25206b-b574-4a67-b3a8-e42d9b0c43a5",
   "metadata": {
    "tags": [],
    "vscode": {
     "languageId": "r"
    }
   },
   "outputs": [],
   "source": [
    "f_cell_comp <- '../../stage4/a02_cc/composition/t_cell_comp.csv'"
   ]
  },
  {
   "cell_type": "code",
   "execution_count": 33,
   "id": "80a67e6d-97eb-4787-9d7d-06582337f4d1",
   "metadata": {
    "tags": [],
    "vscode": {
     "languageId": "r"
    }
   },
   "outputs": [
    {
     "name": "stdout",
     "output_type": "stream",
     "text": [
      "\u001b[0m2024-02-05 10:38:13 INFO::these clinial info will be added: response\u001b[0m\u001b[22m\u001b[23m\u001b[24m\u001b[27m\u001b[28m\u001b[29m\u001b[39m\u001b[49m\u001b[0m\u001b[0m\u001b[22m\u001b[23m\u001b[24m\u001b[27m\u001b[28m\u001b[29m\u001b[39m\u001b[49m\n"
     ]
    }
   ],
   "source": [
    "# update\n",
    "df <- read_csv(file = f_cell_comp, show_col_types = F) %>% \n",
    "    select(sample, patient, sample_type, cell_type, freq, pct, n_cell_samp, pct_by_total_cell) %>% \n",
    "    add_clin_info(ftsv = f_pat_gp, columns = gp, merge_by = 'patient') %>%\n",
    "    mutate(sample_type = case_match(sample_type, 'Baseline' ~ 'pre', 'Treat' ~ 'post'))\n",
    "\n",
    "for (nm in names(celltype_map)) {\n",
    "    df$cell_type[df$cell_type %in% celltype_map[[nm]]] <- nm\n",
    "}\n",
    "df %>% write_tsv(str_glue('{outdir}/fig3c-t_cc.tsv'))"
   ]
  },
  {
   "cell_type": "code",
   "execution_count": 36,
   "id": "1f32c408-0d29-4073-9931-b2965e7b6dd3",
   "metadata": {
    "tags": [],
    "vscode": {
     "languageId": "r"
    }
   },
   "outputs": [],
   "source": [
    "# plot\n",
    "df <- read_tsv(str_glue('{outdir}/fig3c-t_cc.tsv'), show_col_types = F)\n",
    "p_ls <- lapply(names(use_ctypes), FUN = function(nm) {\n",
    "    df %>% \n",
    "    filter(!is.na(.data[[gp]])) %>% \n",
    "    filter(cell_type %in% use_ctypes[[nm]]) %>% \n",
    "    cell_comp_boxplot(x = c(gp, 'sample_type'), y = 'pct', pt_fill = gp, xangle = 60, size = 2,\n",
    "                          xorder = comb_order, fill_order = gp_lvls[[gp]], ncol = 7) +\n",
    "    stat_compare_means(comparisons = comp_ls) +\n",
    "    labs(y = 'Percent in T+NK cells', fill = 'Response', title = nm) +\n",
    "    theme(plot.background = element_rect(color = 'black'), # add border\n",
    "          axis.title.x = element_blank(),  # blank don't occupy space\n",
    "          plot.title = element_text(hjust = 0.5))\n",
    "})\n",
    "# remove y labs expcept for first plot\n",
    "for (i in 2:length(p_ls)) {\n",
    "    p_ls[[i]] <- p_ls[[i]] + theme(axis.title.y = element_blank())\n",
    "}\n",
    "# combine plots\n",
    "p <- wrap_plots(p_ls, nrow = 1, widths = c(3, 3), guides = 'collect') & \n",
    "    theme(legend.margin = margin(-6, 0, -1, 0))\n",
    "# save\n",
    "ggsave(filename = str_glue('{outdir}/fig3c-box_cc-selected_t_subtypes.pdf'), plot = p, width = 14, height = 5)"
   ]
  },
  {
   "cell_type": "markdown",
   "id": "89eda78a",
   "metadata": {},
   "source": [
    "## 3d: RVT experimental data"
   ]
  },
  {
   "cell_type": "code",
   "execution_count": null,
   "id": "245ae821",
   "metadata": {
    "vscode": {
     "languageId": "r"
    }
   },
   "outputs": [],
   "source": [
    "raw_file <- '/nfs_beijing_td/nfsshare/nfshome/zhe/Ana/240110_ESCC_externalData/staining_raw/136-145-MERGE_cell_seg_data.txt'\n",
    "sample_file <- '/nfs_beijing_td/nfsshare/nfshome/zhe/Ana/240110_ESCC_externalData/staining_raw/136-145-过滤后的MSI视野.xlsx'\n",
    "cx3cl1_staining_file <- '/nfs_beijing_td/nfsshare/nfshome/zhe/Ana/240110_ESCC_externalData/staining_1_CX3CL1.tsv'\n",
    "patient_file <- '/nfs_beijing_td/nfsshare/nfshome/zhe/Ana/240110_ESCC_externalData/staining_136_patientTbl.tsv'"
   ]
  },
  {
   "cell_type": "code",
   "execution_count": null,
   "id": "a27b22d3",
   "metadata": {
    "vscode": {
     "languageId": "r"
    }
   },
   "outputs": [],
   "source": [
    "df_pat <- read_tsv(patient_file, show_col_types = F) %>%\n",
    "    mutate(RVT = as.numeric(gsub('%', '', RVT)) / 100)"
   ]
  },
  {
   "cell_type": "code",
   "execution_count": null,
   "id": "9d9fb176",
   "metadata": {
    "vscode": {
     "languageId": "r"
    }
   },
   "outputs": [
    {
     "data": {
      "text/html": [
       "<style>\n",
       ".list-inline {list-style: none; margin:0; padding: 0}\n",
       ".list-inline>li {display: inline-block}\n",
       ".list-inline>li:not(:last-child)::after {content: \"\\00b7\"; padding: 0 .5ex}\n",
       "</style>\n",
       "<ol class=list-inline><li>2097840</li><li>156</li></ol>\n"
      ],
      "text/latex": [
       "\\begin{enumerate*}\n",
       "\\item 2097840\n",
       "\\item 156\n",
       "\\end{enumerate*}\n"
      ],
      "text/markdown": [
       "1. 2097840\n",
       "2. 156\n",
       "\n",
       "\n"
      ],
      "text/plain": [
       "[1] 2097840     156"
      ]
     },
     "metadata": {},
     "output_type": "display_data"
    }
   ],
   "source": [
    "valid_samples <- readxl::read_xlsx(sample_file, sheet = 1) %>%\n",
    "    pull('Sample Name')\n",
    "df_raw <- read_tsv(raw_file, show_col_types = F) %>% \n",
    "    filter(`Sample Name` %in% valid_samples)\n",
    "colnames(df_raw) <- gsub(\" \\\\(Normalized Counts, Total Weighting\\\\)\", \"\", colnames(df_raw))\n",
    "dim(df_raw)"
   ]
  },
  {
   "cell_type": "code",
   "execution_count": null,
   "id": "f126a9a5",
   "metadata": {
    "vscode": {
     "languageId": "r"
    }
   },
   "outputs": [],
   "source": [
    "# Use sub to extract the number between '-' and '_'\n",
    "df_raw$code_id = sub(\"_.*\", \"\", df_raw$`Sample Name`)\n",
    "\n",
    "# #constructure raw1 measurement table\n",
    "# raw1_measurements=colnames(df_raw)[17:133]\n",
    "# measurement_df1=label_processing(raw1_measurements)"
   ]
  },
  {
   "cell_type": "code",
   "execution_count": null,
   "id": "b144ae09",
   "metadata": {
    "vscode": {
     "languageId": "r"
    }
   },
   "outputs": [],
   "source": [
    "df_cx3cl1 <- read_tsv(cx3cl1_staining_file, show_col_types = F) %>%\n",
    "    select(`Sample Name`, Positivity) %>%\n",
    "    mutate(Positivity = as.numeric(gsub(\"%$\", \"\", Positivity)))"
   ]
  },
  {
   "cell_type": "code",
   "execution_count": null,
   "id": "e3aeec0f",
   "metadata": {
    "vscode": {
     "languageId": "r"
    }
   },
   "outputs": [
    {
     "data": {
      "text/html": [
       "<style>\n",
       ".list-inline {list-style: none; margin:0; padding: 0}\n",
       ".list-inline>li {display: inline-block}\n",
       ".list-inline>li:not(:last-child)::after {content: \"\\00b7\"; padding: 0 .5ex}\n",
       "</style>\n",
       "<ol class=list-inline><li>1808860</li><li>7</li></ol>\n"
      ],
      "text/latex": [
       "\\begin{enumerate*}\n",
       "\\item 1808860\n",
       "\\item 7\n",
       "\\end{enumerate*}\n"
      ],
      "text/markdown": [
       "1. 1808860\n",
       "2. 7\n",
       "\n",
       "\n"
      ],
      "text/plain": [
       "[1] 1808860       7"
      ]
     },
     "metadata": {},
     "output_type": "display_data"
    }
   ],
   "source": [
    "col_name_map <- c(\n",
    "    sample_id=\"Sample Name\",\n",
    "    CX3CR1_total = \"Membrane CX3CR1 (Opal 570) Total\",\n",
    "    CD8_total = \"Membrane CD8 (Opal 620) Total\",\n",
    "    CX3CR1_mean = \"Membrane CX3CR1 (Opal 570) Mean\",\n",
    "    CD8_mean = \"Membrane CD8 (Opal 620) Mean\",\n",
    "    CXCL13_cell = \"Entire Cell CXCL13 (Opal 650) Total\"\n",
    ")\n",
    "df <- df_raw %>% \n",
    "    rename(all_of(col_name_map)) %>% \n",
    "    select(all_of(c('code_id', names(col_name_map)))) %>% \n",
    "    filter(! (code_id %in% c(136, 137)))\n",
    "df %>% dim"
   ]
  },
  {
   "cell_type": "code",
   "execution_count": null,
   "id": "cf3ee1f7",
   "metadata": {
    "vscode": {
     "languageId": "r"
    }
   },
   "outputs": [],
   "source": [
    "CD8_tot_thresh=8\n",
    "CXCL13_all_thresh=30\n",
    "df_stat <- df %>%\n",
    "    summarise(\n",
    "        CX3CR1_CD8_in_CD8_total= sum(CX3CR1_total>CX3CR1_tot_thresh & CD8_total>CD8_tot_thresh)/sum(CD8_total>CD8_tot_thresh),\n",
    "        CX3CR1_CD8_in_CD8_mean= sum(CX3CR1_mean>CX3CR1_mean_thresh & CD8_mean>CD8_mean_thresh)/sum(CD8_mean>CD8_mean_thresh),\n",
    "        CXCL13_CD8_in_CD8 = sum(CXCL13_cell>CXCL13_all_thresh & CD8_total>CD8_tot_thresh)/sum(CD8_total>CD8_tot_thresh),\n",
    "        CXCL13_noCX3CR1_CD8_in_CD8 = sum(CXCL13_cell>CXCL13_all_thresh & CD8_total>CD8_tot_thresh & CX3CR1_total<CX3CR1_tot_thresh)/sum(CD8_total>CD8_tot_thresh),\n",
    "        CD8_num=sum(CD8_total>CD8_tot_thresh),\n",
    "        .by=c(code_id, sample_id)\n",
    "    ) %>%\n",
    "    merge(df_pat, by = 'code_id')\n",
    "# code_order <- df_stat %>%\n",
    "#     summarise(rank_val = median(CXCL13_CD8_in_CD8), .by = code_id) %>%\n",
    "#     arrange(rank_val) %>%\n",
    "#     pull(code_id)\n",
    "code_order <- c('142', '140', '139', '145', '143', '144', '138', '141')\n",
    "df_stat <- df_stat %>% mutate(code_id = factor(code_id, levels = code_order))\n",
    "# df_stat$RVT=df_pat$RVT[match(df_stat$code_id, df_pat$code_id)]\n",
    "# df_stat$code_id=factor(df_stat$code_id, levels=df_pat$code_id[order(df_pat$RVT)])\n",
    "\n",
    "p <- ggplot(df_stat, aes(x=code_id,y=CXCL13_CD8_in_CD8, color=RVT)) +\n",
    "    geom_boxplot(outlier.shape = NA) +\n",
    "    geom_jitter(position=position_jitter(0.2),aes(fill=RVT)) +\n",
    "    labs(\n",
    "        # title=str_glue('CXCL13_all_thresh={CXCL13_all_thresh},CD8_tot_thresh={CD8_tot_thresh}')\n",
    "        x = 'Patient ID',\n",
    "        y = 'CXCL13+ CD8 fraction in total CD8 cells'\n",
    "    ) +\n",
    "    theme_classic() + \n",
    "    theme(axis.text.x = element_text(angle = 60, vjust = 1, hjust=1))\n",
    "ggsave(filename = str_glue('../immunity-figs/fig3/fig3d-box-rvt.pdf'), width = 4, height = 4)"
   ]
  },
  {
   "cell_type": "code",
   "execution_count": null,
   "id": "21c9f121",
   "metadata": {
    "vscode": {
     "languageId": "r"
    }
   },
   "outputs": [
    {
     "data": {
      "text/plain": [
       "\n",
       "\tWilcoxon rank sum test with continuity correction\n",
       "\n",
       "data:  a and b\n",
       "W = 606, p-value = 1.811e-08\n",
       "alternative hypothesis: true location shift is not equal to 0\n"
      ]
     },
     "metadata": {},
     "output_type": "display_data"
    }
   ],
   "source": [
    "a <- df_stat %>% \n",
    "    filter(code_id %in% c('142', '140', '139', '145')) %>% \n",
    "    pull(CXCL13_CD8_in_CD8)\n",
    "b <- df_stat %>% \n",
    "    filter(code_id %in% c('143', '144', '138', '141')) %>% \n",
    "    pull(CXCL13_CD8_in_CD8)\n",
    "wilcox.test(a, b)"
   ]
  },
  {
   "cell_type": "markdown",
   "id": "e4f2c0df",
   "metadata": {},
   "source": [
    "## 3e: dotplot exprs of CXCR4-CXCL12"
   ]
  },
  {
   "cell_type": "markdown",
   "id": "b6412cb3",
   "metadata": {},
   "source": [
    "### CXCR4-CXCL12 in whole dataset"
   ]
  },
  {
   "cell_type": "code",
   "execution_count": null,
   "id": "26a5bd6e",
   "metadata": {
    "vscode": {
     "languageId": "r"
    }
   },
   "outputs": [],
   "source": [
    "scrna <- readRDS('../../stage4/a01_data/seuobj/whole.rds')"
   ]
  },
  {
   "cell_type": "code",
   "execution_count": null,
   "id": "1746481b",
   "metadata": {
    "vscode": {
     "languageId": "r"
    }
   },
   "outputs": [
    {
     "data": {
      "text/plain": [
       "\n",
       "B & Plasma cells      Endothelial       Epithelial       Fibroblast \n",
       "          103212            44055            75040           111164 \n",
       "         Myeloid                T \n",
       "          114636           302025 "
      ]
     },
     "metadata": {},
     "output_type": "display_data"
    }
   ],
   "source": [
    "scrna$cellgp <- scrna$cell_type_correct\n",
    "scrna$cellgp[scrna$cell_type_correct %in% c('B', 'Plasma')] = 'B & Plasma cells'\n",
    "table(scrna$cellgp)"
   ]
  },
  {
   "cell_type": "code",
   "execution_count": null,
   "id": "d54cc4db",
   "metadata": {
    "vscode": {
     "languageId": "r"
    }
   },
   "outputs": [
    {
     "name": "stderr",
     "output_type": "stream",
     "text": [
      "\u001b[1m\u001b[22mScale for \u001b[32mcolour\u001b[39m is already present.\n",
      "Adding another scale for \u001b[32mcolour\u001b[39m, which will replace the existing scale.\n"
     ]
    }
   ],
   "source": [
    "p <- DotPlot(scrna, features = c('CXCR4', 'CXCL12'), group.by = 'cellgp') + \n",
    "    scale_color_gsea() +\n",
    "    labs(x = '', y = '') +\n",
    "    RotatedAxis()\n",
    "ggsave(filename = str_glue('{outdir}/fig3e-dotplot-CXCR4_CXCL12-exprs-major.pdf'), plot = p, width = 5, height = 5)"
   ]
  },
  {
   "cell_type": "markdown",
   "id": "b26dc728",
   "metadata": {},
   "source": [
    "### CXCR4 in T subtypes"
   ]
  },
  {
   "cell_type": "code",
   "execution_count": null,
   "id": "9310e967",
   "metadata": {
    "vscode": {
     "languageId": "r"
    }
   },
   "outputs": [],
   "source": [
    "scrna <- readRDS('../../stage4/a01_data/seuobj/t.rds')"
   ]
  },
  {
   "cell_type": "code",
   "execution_count": null,
   "id": "1a96887b",
   "metadata": {
    "vscode": {
     "languageId": "r"
    }
   },
   "outputs": [
    {
     "data": {
      "text/plain": [
       "\n",
       "  CD4_CXCL13    CD4_KLRB1    CD8_ANXA1     CD8_CCL5     CD8_CD74   CD8_CX3CR1 \n",
       "       13152        20635        15789        17401         4820         5319 \n",
       "  CD8_CXCL13      CD8_FOS     CD8_GZMK    CD8_IFIT1    CD8_KLRB1     CD8_TYMS \n",
       "       32900        20473        24466         5853         5067         8936 \n",
       "          NK    NK_CX3CR1       T_IL7R       T_Mito      T_MKI67       T_Ribo \n",
       "       12992         5385        27242        16101        11065         8102 \n",
       "    Treg_LTB Treg_TNFRSF4 \n",
       "       15682        30645 "
      ]
     },
     "metadata": {},
     "output_type": "display_data"
    }
   ],
   "source": [
    "scrna$cellgp <- scrna$subtype\n",
    "for (nm in names(celltype_map)) {\n",
    "    scrna$cellgp[scrna$subtype %in% celltype_map[[nm]]] <- nm\n",
    "}\n",
    "table(scrna$cellgp)"
   ]
  },
  {
   "cell_type": "code",
   "execution_count": null,
   "id": "1667b316",
   "metadata": {
    "vscode": {
     "languageId": "r"
    }
   },
   "outputs": [
    {
     "name": "stderr",
     "output_type": "stream",
     "text": [
      "\u001b[1m\u001b[22mScale for \u001b[32mcolour\u001b[39m is already present.\n",
      "Adding another scale for \u001b[32mcolour\u001b[39m, which will replace the existing scale.\n"
     ]
    }
   ],
   "source": [
    "p <- DotPlot(scrna, features = c('CXCR4'), group.by = 'cellgp') + \n",
    "    scale_color_gsea() +\n",
    "    labs(x = '', y = '') +\n",
    "    RotatedAxis()\n",
    "ggsave(filename = str_glue('{outdir}/fig3e-dotplot-CXCR4-exprs-T_clusters.pdf'), plot = p, width = 4.5, height = 5)"
   ]
  },
  {
   "cell_type": "markdown",
   "id": "e5016675",
   "metadata": {},
   "source": [
    "## 3f-g: pseodo-bulk expression of CXCL12/CXCR4"
   ]
  },
  {
   "cell_type": "markdown",
   "id": "d1684ddb",
   "metadata": {},
   "source": [
    "### CXCL12 in Fibroblast"
   ]
  },
  {
   "cell_type": "code",
   "execution_count": null,
   "id": "e553aba8",
   "metadata": {
    "vscode": {
     "languageId": "r"
    }
   },
   "outputs": [],
   "source": [
    "f_pbulk <- '../../stage4/a06_de/cntbulk_major_min50/fibro/bulk_by_samp.tsv'\n",
    "genes <- 'CXCL12'"
   ]
  },
  {
   "cell_type": "code",
   "execution_count": null,
   "id": "4d64a4b4",
   "metadata": {
    "vscode": {
     "languageId": "r"
    }
   },
   "outputs": [
    {
     "name": "stdout",
     "output_type": "stream",
     "text": [
      "\u001b[0m2024-02-05 14:05:32 INFO::these clinial info will be added: response\u001b[0m\u001b[22m\u001b[23m\u001b[24m\u001b[27m\u001b[28m\u001b[29m\u001b[39m\u001b[49m\u001b[0m\u001b[0m\u001b[22m\u001b[23m\u001b[24m\u001b[27m\u001b[28m\u001b[29m\u001b[39m\u001b[49m\n",
      "\u001b[0m2024-02-05 14:05:32 INFO::77 records of 1 genes\u001b[0m\u001b[22m\u001b[23m\u001b[24m\u001b[27m\u001b[28m\u001b[29m\u001b[39m\u001b[49m\u001b[0m\u001b[0m\u001b[22m\u001b[23m\u001b[24m\u001b[27m\u001b[28m\u001b[29m\u001b[39m\u001b[49m\n"
     ]
    }
   ],
   "source": [
    "exprs_pbulk <- read_tsv(f_pbulk, show_col_types = F) %>%\n",
    "    mutate(across(where(is.numeric), ~ log1p(1e6 * .x / sum(.x)))) %>%\n",
    "    filter(symbol %in% genes) %>% \n",
    "    pivot_longer(cols = -c('symbol'), names_to = 'sample', values_to = 'logcpm') %>%\n",
    "    extract(col = 'sample', into = c('patient', 'sample_type'), regex = '(.+)-(.+)', remove = F) %>%\n",
    "    add_clin_info(ftsv = f_pat_gp, columns = gp, merge_by = 'patient') %>%\n",
    "    mutate(sample_type = case_match(sample_type, 'Baseline' ~ 'pre', 'Treat' ~ 'post'))\n",
    "\n",
    "exprs_pbulk %>% write_tsv(str_glue('{outdir}/fig3f-exprs-CXCL12_in_fibro.tsv'))\n",
    "\n",
    "loginfo('%g records of %g genes', nrow(exprs_pbulk), length(genes))"
   ]
  },
  {
   "cell_type": "code",
   "execution_count": null,
   "id": "689e89f1",
   "metadata": {
    "vscode": {
     "languageId": "r"
    }
   },
   "outputs": [],
   "source": [
    "p <- read_tsv(str_glue('{outdir}/fig3f-exprs-CXCL12_in_fibro.tsv'), show_col_types = F) %>%\n",
    "    filter(.data[[gp]] %in% gp_lvls[[gp]]) %>%\n",
    "    cell_comp_boxplot(x = c(gp, 'sample_type'), y = 'logcpm', pt_fill = gp, facet_by = NULL, \n",
    "                      xorder = comb_order, fill_order = gp_lvls[[gp]], xangle = 60) +\n",
    "    labs(fill = 'Response', y = 'CXCL12 expression in Fibroblasts') +\n",
    "    stat_compare_means(comparisons = gp_comp_map[[gp]])+\n",
    "    theme(legend.justification = c(1, 0))\n",
    "ggsave(filename = str_glue('{outdir}/fig3f-exprs-CXCL12_in_fibro.pdf'), width = 2.5, height = 5, plot = p)"
   ]
  },
  {
   "cell_type": "markdown",
   "id": "40cf9cff",
   "metadata": {},
   "source": [
    "### CXCL12 in Endothelial"
   ]
  },
  {
   "cell_type": "code",
   "execution_count": null,
   "id": "8f502b87",
   "metadata": {
    "vscode": {
     "languageId": "r"
    }
   },
   "outputs": [],
   "source": [
    "f_pbulk <- '../../stage4/a06_de/cntbulk_major_min50/endo/bulk_by_samp.tsv'\n",
    "genes <- 'CXCL12'"
   ]
  },
  {
   "cell_type": "code",
   "execution_count": null,
   "id": "03b1c18a",
   "metadata": {
    "vscode": {
     "languageId": "r"
    }
   },
   "outputs": [],
   "source": [
    "exprs_pbulk <- read_tsv(f_pbulk, show_col_types = F) %>%\n",
    "    mutate(across(where(is.numeric), ~ log1p(1e6 * .x / sum(.x)))) %>%\n",
    "    filter(symbol %in% genes) %>% \n",
    "    pivot_longer(cols = -c('symbol'), names_to = 'sample', values_to = 'logcpm') %>%\n",
    "    extract(col = 'sample', into = c('patient', 'sample_type'), regex = '(.+)-(.+)', remove = F) %>%\n",
    "    add_clin_info(ftsv = f_pat_gp, columns = gp, merge_by = 'patient') %>%\n",
    "    mutate(sample_type = case_match(sample_type, 'Baseline' ~ 'pre', 'Treat' ~ 'post'))\n",
    "\n",
    "exprs_pbulk %>% write_tsv(str_glue('{outdir}/fig3f-exprs-CXCL12_in_endo.tsv'))\n",
    "\n",
    "loginfo('%g records of %g genes', nrow(exprs_pbulk), length(genes))"
   ]
  },
  {
   "cell_type": "code",
   "execution_count": null,
   "id": "ea2da39c",
   "metadata": {
    "vscode": {
     "languageId": "r"
    }
   },
   "outputs": [],
   "source": [
    "p <- read_tsv(str_glue('{outdir}/fig3f-exprs-CXCL12_in_fibro.tsv'), show_col_types = F) %>%\n",
    "    filter(.data[[gp]] %in% gp_lvls[[gp]]) %>%\n",
    "    cell_comp_boxplot(x = c(gp, 'sample_type'), y = 'logcpm', pt_fill = gp, facet_by = NULL, \n",
    "                      xorder = comb_order, fill_order = gp_lvls[[gp]], xangle = 60) +\n",
    "    labs(fill = 'Response', y = 'CXCL12 expression in Fibroblasts') +\n",
    "    stat_compare_means(comparisons = gp_comp_map[[gp]])+\n",
    "    theme(legend.justification = c(1, 0))\n",
    "ggsave(filename = str_glue('{outdir}/fig3f-exprs-CXCL12_in_fibro.pdf'), width = 2.5, height = 5, plot = p)"
   ]
  },
  {
   "cell_type": "markdown",
   "id": "e96ee4ed",
   "metadata": {},
   "source": [
    "### CXCR4 in cytotoxic CD8 T"
   ]
  },
  {
   "cell_type": "code",
   "execution_count": null,
   "id": "389f4954",
   "metadata": {
    "vscode": {
     "languageId": "r"
    }
   },
   "outputs": [],
   "source": [
    "f_pbulk <- '../../stage4/miscellaneous/exprs_box/chemokine_receptor_in_t_state-exprs-pbulk.tsv'\n",
    "used_gene <- 'CXCR4'"
   ]
  },
  {
   "cell_type": "code",
   "execution_count": null,
   "id": "e64b2637",
   "metadata": {
    "vscode": {
     "languageId": "r"
    }
   },
   "outputs": [
    {
     "name": "stdout",
     "output_type": "stream",
     "text": [
      "\u001b[0m2024-02-05 14:20:19 INFO::these clinial info will be added: response\u001b[0m\u001b[22m\u001b[23m\u001b[24m\u001b[27m\u001b[28m\u001b[29m\u001b[39m\u001b[49m\u001b[0m\u001b[0m\u001b[22m\u001b[23m\u001b[24m\u001b[27m\u001b[28m\u001b[29m\u001b[39m\u001b[49m\n",
      "\u001b[0m2024-02-05 14:20:19 INFO::81 records\u001b[0m\u001b[22m\u001b[23m\u001b[24m\u001b[27m\u001b[28m\u001b[29m\u001b[39m\u001b[49m\u001b[0m\u001b[0m\u001b[22m\u001b[23m\u001b[24m\u001b[27m\u001b[28m\u001b[29m\u001b[39m\u001b[49m\n"
     ]
    }
   ],
   "source": [
    "exprs_pbulk <- read_tsv(f_pbulk, show_col_types = F) %>% \n",
    "    filter(gene == used_gene, cellgp == 'cytotoxic CD8') %>% \n",
    "    select(patient, sample_type, logcpm) %>% \n",
    "    add_clin_info(ftsv = f_pat_gp, columns = gp, merge_by = 'patient') %>%\n",
    "    mutate(sample_type = case_match(sample_type, 'Baseline' ~ 'pre', 'Treat' ~ 'post'))\n",
    "loginfo('%g records', nrow(exprs_pbulk))\n",
    "\n",
    "exprs_pbulk %>% write_tsv(str_glue('{outdir}/fig3f-exprs-CXCR4_in_cd8_cyto_T.tsv'))"
   ]
  },
  {
   "cell_type": "code",
   "execution_count": null,
   "id": "b501425e",
   "metadata": {
    "vscode": {
     "languageId": "r"
    }
   },
   "outputs": [],
   "source": [
    "p <- read_tsv(str_glue('{outdir}/fig3f-exprs-CXCR4_in_cd8_cyto_T.tsv'), show_col_types = F) %>%\n",
    "    filter(.data[[gp]] %in% gp_lvls[[gp]]) %>%\n",
    "    cell_comp_boxplot(x = c(gp, 'sample_type'), y = 'logcpm', pt_fill = gp, facet_by = NULL, \n",
    "                      xorder = comb_order, fill_order = gp_lvls[[gp]], xangle = 60) +\n",
    "    labs(fill = 'Response', y = 'CXCR4 expression in CD8+ cytotoxic T cells') +\n",
    "    stat_compare_means(comparisons = gp_comp_map[[gp]]) +\n",
    "    theme(legend.justification = c(1, 0))\n",
    "ggsave(filename = str_glue('{outdir}/fig3f-exprs-CXCR4_in_cd8_cyto_T.pdf'), width = 2.5, height = 5, plot = p)"
   ]
  },
  {
   "cell_type": "markdown",
   "id": "26a298f3",
   "metadata": {},
   "source": [
    "### CXCR4 in exhausted CD8 T"
   ]
  },
  {
   "cell_type": "code",
   "execution_count": null,
   "id": "95a8bb76",
   "metadata": {
    "vscode": {
     "languageId": "r"
    }
   },
   "outputs": [],
   "source": [
    "f_pbulk <- '../../stage4/miscellaneous/exprs_box/chemokine_receptor_in_t_state-exprs-pbulk.tsv'\n",
    "used_gene <- 'CXCR4'"
   ]
  },
  {
   "cell_type": "code",
   "execution_count": null,
   "id": "958e6204",
   "metadata": {
    "vscode": {
     "languageId": "r"
    }
   },
   "outputs": [
    {
     "name": "stdout",
     "output_type": "stream",
     "text": [
      "\u001b[0m2024-02-05 14:22:26 INFO::these clinial info will be added: response\u001b[0m\u001b[22m\u001b[23m\u001b[24m\u001b[27m\u001b[28m\u001b[29m\u001b[39m\u001b[49m\u001b[0m\u001b[0m\u001b[22m\u001b[23m\u001b[24m\u001b[27m\u001b[28m\u001b[29m\u001b[39m\u001b[49m\n",
      "\u001b[0m2024-02-05 14:22:26 INFO::73 records\u001b[0m\u001b[22m\u001b[23m\u001b[24m\u001b[27m\u001b[28m\u001b[29m\u001b[39m\u001b[49m\u001b[0m\u001b[0m\u001b[22m\u001b[23m\u001b[24m\u001b[27m\u001b[28m\u001b[29m\u001b[39m\u001b[49m\n"
     ]
    }
   ],
   "source": [
    "exprs_pbulk <- read_tsv(f_pbulk, show_col_types = F) %>% \n",
    "    filter(gene == used_gene, cellgp == 'exhausted CD8') %>% \n",
    "    select(patient, sample_type, logcpm) %>% \n",
    "    add_clin_info(ftsv = f_pat_gp, columns = gp, merge_by = 'patient') %>%\n",
    "    mutate(sample_type = case_match(sample_type, 'Baseline' ~ 'pre', 'Treat' ~ 'post'))\n",
    "loginfo('%g records', nrow(exprs_pbulk))\n",
    "\n",
    "exprs_pbulk %>% write_tsv(str_glue('{outdir}/fig3f-exprs-CXCR4_in_cd8_exhau_T.tsv'))"
   ]
  },
  {
   "cell_type": "code",
   "execution_count": null,
   "id": "b33dc006",
   "metadata": {
    "vscode": {
     "languageId": "r"
    }
   },
   "outputs": [],
   "source": [
    "p <- read_tsv(str_glue('{outdir}/fig3f-exprs-CXCR4_in_cd8_exhau_T.tsv'), show_col_types = F) %>%\n",
    "    filter(.data[[gp]] %in% gp_lvls[[gp]]) %>%\n",
    "    cell_comp_boxplot(x = c(gp, 'sample_type'), y = 'logcpm', pt_fill = gp, facet_by = NULL, \n",
    "                      xorder = comb_order, fill_order = gp_lvls[[gp]], xangle = 60) +\n",
    "    labs(fill = 'Response', y = 'CXCR4 expression in CD8+ exhausted T cells') +\n",
    "    stat_compare_means(comparisons = gp_comp_map[[gp]]) +\n",
    "    theme(legend.justification = c(1, 0))\n",
    "ggsave(filename = str_glue('{outdir}/fig3f-exprs-CXCR4_in_cd8_exhau_T.pdf'), width = 2.5, height = 5, plot = p)"
   ]
  },
  {
   "cell_type": "code",
   "execution_count": null,
   "id": "697c91eb",
   "metadata": {
    "vscode": {
     "languageId": "python"
    }
   },
   "outputs": [],
   "source": []
  },
  {
   "cell_type": "markdown",
   "id": "078beb9e",
   "metadata": {},
   "source": [
    "# previous"
   ]
  },
  {
   "cell_type": "markdown",
   "id": "af76ead3-8c2c-450c-ac08-91e2c7454aac",
   "metadata": {
    "jp-MarkdownHeadingCollapsed": true,
    "tags": []
   },
   "source": [
    "## pbulk expression: 3f"
   ]
  },
  {
   "cell_type": "markdown",
   "id": "38676576-1673-4ff2-abe6-28d4b88bef54",
   "metadata": {
    "jp-MarkdownHeadingCollapsed": true,
    "tags": []
   },
   "source": [
    "### CXCL12 in whole samples"
   ]
  },
  {
   "cell_type": "code",
   "execution_count": null,
   "id": "568214d1-6067-4f93-9c5d-9e7cb36f2024",
   "metadata": {
    "tags": [],
    "vscode": {
     "languageId": "r"
    }
   },
   "outputs": [],
   "source": [
    "f_pbulk <- '../../stage4/a06_de/cntbulk_whole_min50/bulk_by_samp.tsv'\n",
    "genes <- 'CXCL12'"
   ]
  },
  {
   "cell_type": "code",
   "execution_count": 57,
   "id": "03a334b0-6e2c-4e9f-b137-9b3408d41f66",
   "metadata": {
    "tags": [],
    "vscode": {
     "languageId": "r"
    }
   },
   "outputs": [
    {
     "name": "stdout",
     "output_type": "stream",
     "text": [
      "\u001b[0m2024-02-05 13:59:14 INFO::these clinial info will be added: response\u001b[0m\u001b[22m\u001b[23m\u001b[24m\u001b[27m\u001b[28m\u001b[29m\u001b[39m\u001b[49m\u001b[0m\u001b[0m\u001b[22m\u001b[23m\u001b[24m\u001b[27m\u001b[28m\u001b[29m\u001b[39m\u001b[49m\n",
      "\u001b[0m2024-02-05 13:59:14 INFO::81 records of 1 genes\u001b[0m\u001b[22m\u001b[23m\u001b[24m\u001b[27m\u001b[28m\u001b[29m\u001b[39m\u001b[49m\u001b[0m\u001b[0m\u001b[22m\u001b[23m\u001b[24m\u001b[27m\u001b[28m\u001b[29m\u001b[39m\u001b[49m\n"
     ]
    }
   ],
   "source": [
    "exprs_pbulk <- read_tsv(f_pbulk, show_col_types = F) %>%\n",
    "    mutate(across(where(is.numeric), ~ log1p(1e6 * .x / sum(.x)))) %>%\n",
    "    filter(symbol %in% genes) %>% \n",
    "    pivot_longer(cols = -c('symbol'), names_to = 'sample', values_to = 'logcpm') %>%\n",
    "    extract(col = 'sample', into = c('patient', 'sample_type'), regex = '(.+)-(.+)', remove = F) %>%\n",
    "    add_clin_info(ftsv = f_pat_gp, columns = gp, merge_by = 'patient') %>%\n",
    "    mutate(sample_type = case_match(sample_type, 'Baseline' ~ 'pre', 'Treat' ~ 'post'))\n",
    "\n",
    "exprs_pbulk %>% write_tsv(str_glue('{outdir}/fig3f-exprs-CXCL12_in_sample.tsv'))\n",
    "\n",
    "loginfo('%g records of %g genes', nrow(exprs_pbulk), length(genes))"
   ]
  },
  {
   "cell_type": "code",
   "execution_count": 86,
   "id": "c7056447-0f4c-40c7-a98c-3f5c1dbae59f",
   "metadata": {
    "tags": [],
    "vscode": {
     "languageId": "r"
    }
   },
   "outputs": [],
   "source": [
    "p <- read_tsv(str_glue('{outdir}/fig3f-exprs-CXCL12_in_sample.tsv'), show_col_types = F) %>%\n",
    "    filter(.data[[gp]] %in% gp_lvls[[gp]]) %>%\n",
    "    cell_comp_boxplot(x = c(gp, 'sample_type'), y = 'logcpm', pt_fill = gp, facet_by = NULL, \n",
    "                      xorder = comb_order, fill_order = gp_lvls[[gp]], xangle = 60) +\n",
    "    labs(fill = 'Response', y = 'CXCL12 expression in whole sample') +\n",
    "    stat_compare_means(comparisons = gp_comp_map[[gp]]) +\n",
    "    theme(legend.justification = c(1, 0))\n",
    "ggsave(filename = str_glue('{outdir}/fig3f-exprs-CXCL12_in_sample.pdf'), width = 2.5, height = 5, plot = p)"
   ]
  },
  {
   "cell_type": "markdown",
   "id": "9687cccd-ed16-4e34-a0ba-a161c0db9765",
   "metadata": {
    "jp-MarkdownHeadingCollapsed": true,
    "tags": []
   },
   "source": [
    "## pre-post TCR sharing\n",
    "\n",
    "- date: 2024-01-02\n",
    "- desc: **now this is in fig4**"
   ]
  },
  {
   "cell_type": "code",
   "execution_count": 382,
   "id": "b59e8abc-8577-4322-b6e3-2247551bb437",
   "metadata": {
    "tags": [],
    "vscode": {
     "languageId": "r"
    }
   },
   "outputs": [],
   "source": [
    "f_share <- '../../stage4/a05_clone_share/pre_post_share/pre_post_share-per_clone_subtype.tsv'\n",
    "f_pat_gp <- '../../stage4/a19_poor_gp/redefine_gp/pateint_info-poor_redefine-v3-with_clin.tsv'\n",
    "f_clone_share_sample <- '../../stage4/a05_clone_share/pre_post_share/pre_post_share-by_sample-per_clone.tsv'\n",
    "\n",
    "celltype_map <- list(\n",
    "    'T_MKI67' = c('T_Prolif')\n",
    ")\n",
    "\n",
    "min_cell_per_sample_subtype <- 10  # to cosistent with expand percent analysis\n",
    "gp <- 'mandard_group'\n",
    "color_map <- rev(pal_d3()(4))\n",
    "names(color_map) <- c('1', '2~5', '5~10', '>=10')\n",
    "\n",
    "df <- read_tsv(f_share, show_col_types = F)\n",
    "for (nm in names(celltype_map)) {\n",
    "    df$subtype[df$subtype %in% celltype_map[[nm]]] <- nm\n",
    "}"
   ]
  },
  {
   "cell_type": "markdown",
   "id": "c127c573-8393-4fbe-ab97-6dfe0edcec32",
   "metadata": {
    "jp-MarkdownHeadingCollapsed": true,
    "tags": []
   },
   "source": [
    "### all Baseline vs all Treat in Baseline\n",
    "\n",
    "all Baseline, all Treat overlap TCRs / all Baseline TCRs, cell type level"
   ]
  },
  {
   "cell_type": "code",
   "execution_count": 383,
   "id": "9331dccf-c388-46a4-8134-aa32e4dd4965",
   "metadata": {
    "tags": [],
    "vscode": {
     "languageId": "r"
    }
   },
   "outputs": [
    {
     "name": "stdout",
     "output_type": "stream",
     "text": [
      "\u001b[0m2024-01-04 17:28:15 INFO::these clinial info will be added: patient_id, mandard_group, response_degree, treatment_group, patient_gp, patient_gp_v2\u001b[0m\u001b[22m\u001b[23m\u001b[24m\u001b[27m\u001b[28m\u001b[29m\u001b[39m\u001b[49m\u001b[0m\u001b[0m\u001b[22m\u001b[23m\u001b[24m\u001b[27m\u001b[28m\u001b[29m\u001b[39m\u001b[49m\n",
      "\u001b[0m2024-01-04 17:28:15 INFO::513 recores\u001b[0m\u001b[22m\u001b[23m\u001b[24m\u001b[27m\u001b[28m\u001b[29m\u001b[39m\u001b[49m\u001b[0m\u001b[0m\u001b[22m\u001b[23m\u001b[24m\u001b[27m\u001b[28m\u001b[29m\u001b[39m\u001b[49m\n"
     ]
    }
   ],
   "source": [
    "# stat\n",
    "df_stat <- df %>% \n",
    "    filter(!is.na(sample_pre)) %>%  # all Baseline TCRs\n",
    "    add_count(sample_pre, subtype, name = 'n_clone_per_samp_subtype') %>%\n",
    "    count(patient, subtype, share_type, n_clone_per_samp_subtype, n_cell_per_sample_subtype_pre, name = 'n_clone') %>% \n",
    "    pivot_wider(names_from = 'share_type', values_from = 'n_clone', values_fill = 0) %>% \n",
    "    mutate(total_clone = case_when(\n",
    "        n_clone_per_samp_subtype >= 10 ~ '>=10',\n",
    "        n_clone_per_samp_subtype >= 5 ~ '5~10',\n",
    "        n_clone_per_samp_subtype >=2 ~ '2~5',\n",
    "        n_clone_per_samp_subtype == 1 ~ '1'\n",
    "    )) %>% \n",
    "    filter(n_cell_per_sample_subtype_pre >= min_cell_per_sample_subtype) %>%\n",
    "    mutate(pct = 100 * pre_post_share / n_clone_per_samp_subtype) %>%\n",
    "    filter(!grepl('^NK', subtype)) %>%  # no NK cells\n",
    "    add_clin_info(ftsv = f_pat_gp, columns = NULL, merge_by = 'patient')\n",
    "df_stat %>% write_tsv(str_glue('{outdir}/fig3-tcr_share-pre_in_post.tsv'))\n",
    "loginfo('%g recores', nrow(df_stat))"
   ]
  },
  {
   "cell_type": "code",
   "execution_count": 384,
   "id": "41ac0a85-c984-4eae-b1b0-083717d60234",
   "metadata": {
    "tags": [],
    "vscode": {
     "languageId": "r"
    }
   },
   "outputs": [],
   "source": [
    "# plot\n",
    "dp <- read_tsv(str_glue('{outdir}/fig3-tcr_share-pre_in_post.tsv'), show_col_types = F)\n",
    "xorder <- dp %>%\n",
    "        summarise(.by = c('subtype'), val = median(pct)) %>%\n",
    "        arrange(-val) %>%\n",
    "        pull('subtype')\n",
    "p <- dp %>%\n",
    "    cell_comp_boxplot(x = 'subtype', xorder = xorder, y = 'pct', pair_by = NULL, seed_i = 12345, size = 2,\n",
    "                      pt_fill = gp, fill_order = gp_lvls[[gp]], xangle = 60, facet_by = NULL,\n",
    "                      ytitle = 'Percent of shared clones in Baseline') +\n",
    "    labs(title = str_glue('all Baseline clones vs all Treat clones,',\n",
    "                          '\\n>={min_cell_per_sample_subtype} cells per Baseline sample per subtype'),\n",
    "         fill = 'Response') \n",
    "ggsave(filename = str_glue('{outdir}/fig3-box_tcr_share-pre_in_post-min{min_cell_per_sample_subtype}.pdf'),\n",
    "       plot = p, width = 6, height = 6)"
   ]
  },
  {
   "cell_type": "markdown",
   "id": "d2a30960-90b8-425d-9338-2c96501c5c91",
   "metadata": {
    "jp-MarkdownHeadingCollapsed": true,
    "tags": []
   },
   "source": [
    "### all Baseline vs all Treat in Treat\n",
    "\n",
    "- date: 2024-01-03\n",
    "- desc: all Baseline, all Treat overlap TCRs / all Treat TCRs, cell type level"
   ]
  },
  {
   "cell_type": "code",
   "execution_count": 385,
   "id": "ad2b3d91-803a-445e-910f-d1d7826d7333",
   "metadata": {
    "tags": [],
    "vscode": {
     "languageId": "r"
    }
   },
   "outputs": [
    {
     "name": "stdout",
     "output_type": "stream",
     "text": [
      "\u001b[0m2024-01-04 17:28:19 INFO::these clinial info will be added: patient_id, mandard_group, response_degree, treatment_group, patient_gp, patient_gp_v2\u001b[0m\u001b[22m\u001b[23m\u001b[24m\u001b[27m\u001b[28m\u001b[29m\u001b[39m\u001b[49m\u001b[0m\u001b[0m\u001b[22m\u001b[23m\u001b[24m\u001b[27m\u001b[28m\u001b[29m\u001b[39m\u001b[49m\n",
      "\u001b[0m2024-01-04 17:28:19 INFO::415 records\u001b[0m\u001b[22m\u001b[23m\u001b[24m\u001b[27m\u001b[28m\u001b[29m\u001b[39m\u001b[49m\u001b[0m\u001b[0m\u001b[22m\u001b[23m\u001b[24m\u001b[27m\u001b[28m\u001b[29m\u001b[39m\u001b[49m\n"
     ]
    }
   ],
   "source": [
    "# stat\n",
    "df_stat <- df %>% \n",
    "    filter(!is.na(sample_post)) %>%  # all Treat TCRs\n",
    "    add_count(sample_post, subtype, name = 'n_clone_per_samp_subtype') %>%\n",
    "    count(patient, subtype, share_type, n_clone_per_samp_subtype, n_cell_per_sample_subtype_post, name = 'n_clone') %>% \n",
    "    pivot_wider(names_from = 'share_type', values_from = 'n_clone', values_fill = 0) %>% \n",
    "    mutate(total_clone = case_when(\n",
    "        n_clone_per_samp_subtype >= 10 ~ '>=10',\n",
    "        n_clone_per_samp_subtype >= 5 ~ '5~10',\n",
    "        n_clone_per_samp_subtype >=2 ~ '2~5',\n",
    "        n_clone_per_samp_subtype == 1 ~ '1'\n",
    "    )) %>% \n",
    "    filter(n_cell_per_sample_subtype_post >= min_cell_per_sample_subtype) %>%\n",
    "    mutate(pct = 100 * pre_post_share / n_clone_per_samp_subtype) %>%\n",
    "    filter(!grepl('^NK', subtype)) %>%  # no NK cells\n",
    "    add_clin_info(ftsv = f_pat_gp, columns = NULL, merge_by = 'patient')\n",
    "df_stat %>% write_tsv(str_glue('{outdir}/fig3-tcr_share-post_in_pre.tsv'))\n",
    "loginfo('%g records', nrow(df_stat))"
   ]
  },
  {
   "cell_type": "code",
   "execution_count": 386,
   "id": "5780cc65-c60c-4ac9-8f3a-383bb9504371",
   "metadata": {
    "tags": [],
    "vscode": {
     "languageId": "r"
    }
   },
   "outputs": [],
   "source": [
    "# plot\n",
    "dp <- read_tsv(str_glue('{outdir}/fig3-tcr_share-post_in_pre.tsv'), show_col_types = F)\n",
    "xorder <- dp %>%\n",
    "        summarise(.by = c('subtype'), val = median(pct)) %>%\n",
    "        arrange(-val) %>%\n",
    "        pull('subtype')\n",
    "p <- dp %>%\n",
    "    cell_comp_boxplot(x = 'subtype', xorder = xorder, y = 'pct', pair_by = NULL, seed_i = 12345, size = 2,\n",
    "                      pt_fill = gp, fill_order = gp_lvls[[gp]], xangle = 60, facet_by = NULL,\n",
    "                      ytitle = 'Percent of shared clones in Treat') +\n",
    "    labs(title = str_glue('all Baseline clones vs all Treat clones,',\n",
    "                          '\\n>={min_cell_per_sample_subtype} cells per Baseline sample per subtype'),\n",
    "         fill = 'Response') \n",
    "ggsave(filename = str_glue('{outdir}/fig3-box_tcr_share-post_in_pre-min{min_cell_per_sample_subtype}.pdf'),\n",
    "       plot = p, width = 6, height = 6)"
   ]
  },
  {
   "cell_type": "markdown",
   "id": "9d61ac8c-67e8-43bc-b8f6-1d89b6a09c5d",
   "metadata": {
    "jp-MarkdownHeadingCollapsed": true,
    "tags": []
   },
   "source": [
    "### clone fraction in Treat: novel vs pre-exisiting\n",
    "\n",
    "- date: 2024-01-03\n",
    "- desc: \n",
    "  - sharing at sample level\n",
    "  - clone fraction (based on RNA & TCR data) in mandarad_group, post-novel & pre-post-shared types"
   ]
  },
  {
   "cell_type": "code",
   "execution_count": 390,
   "id": "0b41500a-89b8-4c07-884a-04b9da1498ab",
   "metadata": {
    "tags": [],
    "vscode": {
     "languageId": "r"
    }
   },
   "outputs": [
    {
     "data": {
      "text/html": [
       "<style>\n",
       ".list-inline {list-style: none; margin:0; padding: 0}\n",
       ".list-inline>li {display: inline-block}\n",
       ".list-inline>li:not(:last-child)::after {content: \"\\00b7\"; padding: 0 .5ex}\n",
       "</style>\n",
       "<ol class=list-inline><li>67283</li><li>17</li></ol>\n"
      ],
      "text/latex": [
       "\\begin{enumerate*}\n",
       "\\item 67283\n",
       "\\item 17\n",
       "\\end{enumerate*}\n"
      ],
      "text/markdown": [
       "1. 67283\n",
       "2. 17\n",
       "\n",
       "\n"
      ],
      "text/plain": [
       "[1] 67283    17"
      ]
     },
     "metadata": {},
     "output_type": "display_data"
    }
   ],
   "source": [
    "min_cell_per_clone <- 2\n",
    "gp <- 'mandard_group'\n",
    "xorder <- c('good-pre_existing', 'good-post_novel', 'poor-pre_existing', 'poor-post_novel')\n",
    "comp_ls <- list(\n",
    "    c('good-pre_existing', 'good-post_novel'), c('poor-pre_existing', 'poor-post_novel'),\n",
    "    c('good-pre_existing', 'poor-pre_existing'), c('good-post_novel', 'poor-post_novel')\n",
    ")\n",
    "\n",
    "df <- read_tsv(f_clone_share_sample, show_col_types = F)\n",
    "df %>% dim"
   ]
  },
  {
   "cell_type": "code",
   "execution_count": 391,
   "id": "011b162d-172f-434f-8531-f76da2fcac20",
   "metadata": {
    "tags": [],
    "vscode": {
     "languageId": "r"
    }
   },
   "outputs": [
    {
     "data": {
      "text/html": [
       "<style>\n",
       ".list-inline {list-style: none; margin:0; padding: 0}\n",
       ".list-inline>li {display: inline-block}\n",
       ".list-inline>li:not(:last-child)::after {content: \"\\00b7\"; padding: 0 .5ex}\n",
       "</style>\n",
       "<ol class=list-inline><li>4689</li><li>18</li></ol>\n"
      ],
      "text/latex": [
       "\\begin{enumerate*}\n",
       "\\item 4689\n",
       "\\item 18\n",
       "\\end{enumerate*}\n"
      ],
      "text/markdown": [
       "1. 4689\n",
       "2. 18\n",
       "\n",
       "\n"
      ],
      "text/plain": [
       "[1] 4689   18"
      ]
     },
     "metadata": {},
     "output_type": "display_data"
    }
   ],
   "source": [
    "# stat\n",
    "df_stat <- df %>% \n",
    "    filter(!is.na(sample_post)) %>%  # all Treat clones\n",
    "    mutate(xlab = case_when(\n",
    "        share_type == 'pre_post_share' ~ paste0(.data[[gp]], '-pre_existing'), \n",
    "        share_type == 'post_specific' ~ paste0(.data[[gp]], '-post_novel'), \n",
    "        TRUE ~ 'others'\n",
    "    )) %>%\n",
    "    filter(n_cell_per_sample_clone_post >= min_cell_per_clone)  # filter clones with few cells\n",
    "df_stat %>% dim\n",
    "df_stat %>% write_tsv(str_glue('{outdir}/fig3-tcr_share-post_novel-vs-pre_exist-clone_frac_new.tsv'))"
   ]
  },
  {
   "cell_type": "code",
   "execution_count": 392,
   "id": "b96f0914-e600-443c-ae27-eaff4213cda8",
   "metadata": {
    "tags": [],
    "vscode": {
     "languageId": "r"
    }
   },
   "outputs": [],
   "source": [
    "# plot\n",
    "p <- read_tsv(str_glue('{outdir}/fig3-tcr_share-post_novel-vs-pre_exist-clone_frac_new.tsv'), show_col_types = F) %>%\n",
    "    ggviolin(x = 'xlab', y = 'clone_frac_new_post', fill = gp, add = 'boxplot', palette = 'd3', order = xorder) +\n",
    "    scale_y_continuous(trans = 'log10') +\n",
    "    stat_compare_means(comparisons = list(\n",
    "        c('good-pre_existing', 'good-post_novel'), c('poor-pre_existing', 'poor-post_novel'),\n",
    "        c('good-pre_existing', 'poor-pre_existing'), c('good-post_novel', 'poor-post_novel')\n",
    "    )) +\n",
    "    labs(x = '', y = 'Clonotype fraction at sample level\\n(RNA & TCR data)', fill = 'Response') +\n",
    "    theme(axis.text.x = element_text(angle = 60, hjust = 0.96))\n",
    "ggsave(filename = str_glue('{outdir}/fig3-vln_tcr_share-post_novel-vs-pre_exist-clone_frac_new.pdf'),\n",
    "       plot = p, width = 4, height = 6)"
   ]
  },
  {
   "cell_type": "markdown",
   "id": "7f836be8-44eb-47b5-b814-01bc67368c05",
   "metadata": {
    "tags": []
   },
   "source": [
    "## todos"
   ]
  },
  {
   "cell_type": "code",
   "execution_count": 119,
   "id": "b1a18335-b5e1-4dd7-a2c7-f189d7726e75",
   "metadata": {
    "tags": [],
    "vscode": {
     "languageId": "r"
    }
   },
   "outputs": [],
   "source": [
    "scrna <- readRDS('../../stage4/a01_data/seuobj/t.rds')"
   ]
  },
  {
   "cell_type": "code",
   "execution_count": 146,
   "id": "f3d50926-4ab7-4dc9-8b34-482f1e734194",
   "metadata": {
    "collapsed": true,
    "jupyter": {
     "outputs_hidden": true
    },
    "tags": [],
    "vscode": {
     "languageId": "r"
    }
   },
   "outputs": [
    {
     "data": {
      "text/html": [
       "<style>\n",
       ".list-inline {list-style: none; margin:0; padding: 0}\n",
       ".list-inline>li {display: inline-block}\n",
       ".list-inline>li:not(:last-child)::after {content: \"\\00b7\"; padding: 0 .5ex}\n",
       "</style>\n",
       "<ol class=list-inline><li>'RPL22'</li><li>'RPL11'</li><li>'RPS6KA1'</li><li>'RPS8'</li><li>'RPL5'</li><li>'RPS27'</li><li>'RPS6KC1'</li><li>'RPS7'</li><li>'RPS27A'</li><li>'RPL31'</li><li>'RPL37A'</li><li>'RPL32'</li><li>'RPL15'</li><li>'RPSA'</li><li>'RPL14'</li><li>'RPL29'</li><li>'RPL24'</li><li>'RPL22L1'</li><li>'RPL39L'</li><li>'RPL35A'</li><li>'RPL9'</li><li>'RPL34-AS1'</li><li>'RPL34'</li><li>'RPS3A'</li><li>'RPL37'</li><li>'RPS23'</li><li>'RPS14'</li><li>'RPL26L1'</li><li>'RPS18'</li><li>'RPS10-NUDT3'</li><li>'RPS10'</li><li>'RPL10A'</li><li>'RPL7L1'</li><li>'RPS12'</li><li>'RPS6KA2'</li><li>'RPS20'</li><li>'RPL7'</li><li>'RPL30'</li><li>'RPL8'</li><li>'RPS6'</li><li>'RPL35'</li><li>'RPL12'</li><li>'RPL7A'</li><li>'RPS24'</li><li>'RPLP2'</li><li>'RPL27A'</li><li>'RPS13'</li><li>'RPS6KA4'</li><li>'RPS6KB2'</li><li>'RPS6KB2-AS1'</li><li>'RPS3'</li><li>'RPS25'</li><li>'RPS26'</li><li>'RPL41'</li><li>'RPL6'</li><li>'RPLP0'</li><li>'RPL21'</li><li>'RPL10L'</li><li>'RPS29'</li><li>'RPL36AL'</li><li>'RPS6KL1'</li><li>'RPS6KA5'</li><li>'RPS27L'</li><li>'RPL4'</li><li>'RPLP1'</li><li>'RPS17'</li><li>'RPL3L'</li><li>'RPS2'</li><li>'RPS15A'</li><li>'RPL13'</li><li>'RPL26'</li><li>'RPL23A'</li><li>'RPL23'</li><li>'RPL19'</li><li>'RPL27'</li><li>'RPS6KB1'</li><li>'RPL38'</li><li>'RPL17'</li><li>'RPS15'</li><li>'RPL36'</li><li>'RPS28'</li><li>'RPL18A'</li><li>'RPS16'</li><li>'RPS19'</li><li>'RPL18'</li><li>'RPL13A'</li><li>'RPS11'</li><li>'RPS9'</li><li>'RPL28'</li><li>'RPS5'</li><li>'RPS21'</li><li>'RPL3'</li><li>'RPS19BP1'</li><li>'RPS6KA3'</li><li>'RPS4X'</li><li>'RPS6KA6'</li><li>'RPL36A'</li><li>'RPL39'</li><li>'RPL10'</li><li>'RPS4Y1'</li><li>'RPS4Y2'</li></ol>\n"
      ],
      "text/latex": [
       "\\begin{enumerate*}\n",
       "\\item 'RPL22'\n",
       "\\item 'RPL11'\n",
       "\\item 'RPS6KA1'\n",
       "\\item 'RPS8'\n",
       "\\item 'RPL5'\n",
       "\\item 'RPS27'\n",
       "\\item 'RPS6KC1'\n",
       "\\item 'RPS7'\n",
       "\\item 'RPS27A'\n",
       "\\item 'RPL31'\n",
       "\\item 'RPL37A'\n",
       "\\item 'RPL32'\n",
       "\\item 'RPL15'\n",
       "\\item 'RPSA'\n",
       "\\item 'RPL14'\n",
       "\\item 'RPL29'\n",
       "\\item 'RPL24'\n",
       "\\item 'RPL22L1'\n",
       "\\item 'RPL39L'\n",
       "\\item 'RPL35A'\n",
       "\\item 'RPL9'\n",
       "\\item 'RPL34-AS1'\n",
       "\\item 'RPL34'\n",
       "\\item 'RPS3A'\n",
       "\\item 'RPL37'\n",
       "\\item 'RPS23'\n",
       "\\item 'RPS14'\n",
       "\\item 'RPL26L1'\n",
       "\\item 'RPS18'\n",
       "\\item 'RPS10-NUDT3'\n",
       "\\item 'RPS10'\n",
       "\\item 'RPL10A'\n",
       "\\item 'RPL7L1'\n",
       "\\item 'RPS12'\n",
       "\\item 'RPS6KA2'\n",
       "\\item 'RPS20'\n",
       "\\item 'RPL7'\n",
       "\\item 'RPL30'\n",
       "\\item 'RPL8'\n",
       "\\item 'RPS6'\n",
       "\\item 'RPL35'\n",
       "\\item 'RPL12'\n",
       "\\item 'RPL7A'\n",
       "\\item 'RPS24'\n",
       "\\item 'RPLP2'\n",
       "\\item 'RPL27A'\n",
       "\\item 'RPS13'\n",
       "\\item 'RPS6KA4'\n",
       "\\item 'RPS6KB2'\n",
       "\\item 'RPS6KB2-AS1'\n",
       "\\item 'RPS3'\n",
       "\\item 'RPS25'\n",
       "\\item 'RPS26'\n",
       "\\item 'RPL41'\n",
       "\\item 'RPL6'\n",
       "\\item 'RPLP0'\n",
       "\\item 'RPL21'\n",
       "\\item 'RPL10L'\n",
       "\\item 'RPS29'\n",
       "\\item 'RPL36AL'\n",
       "\\item 'RPS6KL1'\n",
       "\\item 'RPS6KA5'\n",
       "\\item 'RPS27L'\n",
       "\\item 'RPL4'\n",
       "\\item 'RPLP1'\n",
       "\\item 'RPS17'\n",
       "\\item 'RPL3L'\n",
       "\\item 'RPS2'\n",
       "\\item 'RPS15A'\n",
       "\\item 'RPL13'\n",
       "\\item 'RPL26'\n",
       "\\item 'RPL23A'\n",
       "\\item 'RPL23'\n",
       "\\item 'RPL19'\n",
       "\\item 'RPL27'\n",
       "\\item 'RPS6KB1'\n",
       "\\item 'RPL38'\n",
       "\\item 'RPL17'\n",
       "\\item 'RPS15'\n",
       "\\item 'RPL36'\n",
       "\\item 'RPS28'\n",
       "\\item 'RPL18A'\n",
       "\\item 'RPS16'\n",
       "\\item 'RPS19'\n",
       "\\item 'RPL18'\n",
       "\\item 'RPL13A'\n",
       "\\item 'RPS11'\n",
       "\\item 'RPS9'\n",
       "\\item 'RPL28'\n",
       "\\item 'RPS5'\n",
       "\\item 'RPS21'\n",
       "\\item 'RPL3'\n",
       "\\item 'RPS19BP1'\n",
       "\\item 'RPS6KA3'\n",
       "\\item 'RPS4X'\n",
       "\\item 'RPS6KA6'\n",
       "\\item 'RPL36A'\n",
       "\\item 'RPL39'\n",
       "\\item 'RPL10'\n",
       "\\item 'RPS4Y1'\n",
       "\\item 'RPS4Y2'\n",
       "\\end{enumerate*}\n"
      ],
      "text/markdown": [
       "1. 'RPL22'\n",
       "2. 'RPL11'\n",
       "3. 'RPS6KA1'\n",
       "4. 'RPS8'\n",
       "5. 'RPL5'\n",
       "6. 'RPS27'\n",
       "7. 'RPS6KC1'\n",
       "8. 'RPS7'\n",
       "9. 'RPS27A'\n",
       "10. 'RPL31'\n",
       "11. 'RPL37A'\n",
       "12. 'RPL32'\n",
       "13. 'RPL15'\n",
       "14. 'RPSA'\n",
       "15. 'RPL14'\n",
       "16. 'RPL29'\n",
       "17. 'RPL24'\n",
       "18. 'RPL22L1'\n",
       "19. 'RPL39L'\n",
       "20. 'RPL35A'\n",
       "21. 'RPL9'\n",
       "22. 'RPL34-AS1'\n",
       "23. 'RPL34'\n",
       "24. 'RPS3A'\n",
       "25. 'RPL37'\n",
       "26. 'RPS23'\n",
       "27. 'RPS14'\n",
       "28. 'RPL26L1'\n",
       "29. 'RPS18'\n",
       "30. 'RPS10-NUDT3'\n",
       "31. 'RPS10'\n",
       "32. 'RPL10A'\n",
       "33. 'RPL7L1'\n",
       "34. 'RPS12'\n",
       "35. 'RPS6KA2'\n",
       "36. 'RPS20'\n",
       "37. 'RPL7'\n",
       "38. 'RPL30'\n",
       "39. 'RPL8'\n",
       "40. 'RPS6'\n",
       "41. 'RPL35'\n",
       "42. 'RPL12'\n",
       "43. 'RPL7A'\n",
       "44. 'RPS24'\n",
       "45. 'RPLP2'\n",
       "46. 'RPL27A'\n",
       "47. 'RPS13'\n",
       "48. 'RPS6KA4'\n",
       "49. 'RPS6KB2'\n",
       "50. 'RPS6KB2-AS1'\n",
       "51. 'RPS3'\n",
       "52. 'RPS25'\n",
       "53. 'RPS26'\n",
       "54. 'RPL41'\n",
       "55. 'RPL6'\n",
       "56. 'RPLP0'\n",
       "57. 'RPL21'\n",
       "58. 'RPL10L'\n",
       "59. 'RPS29'\n",
       "60. 'RPL36AL'\n",
       "61. 'RPS6KL1'\n",
       "62. 'RPS6KA5'\n",
       "63. 'RPS27L'\n",
       "64. 'RPL4'\n",
       "65. 'RPLP1'\n",
       "66. 'RPS17'\n",
       "67. 'RPL3L'\n",
       "68. 'RPS2'\n",
       "69. 'RPS15A'\n",
       "70. 'RPL13'\n",
       "71. 'RPL26'\n",
       "72. 'RPL23A'\n",
       "73. 'RPL23'\n",
       "74. 'RPL19'\n",
       "75. 'RPL27'\n",
       "76. 'RPS6KB1'\n",
       "77. 'RPL38'\n",
       "78. 'RPL17'\n",
       "79. 'RPS15'\n",
       "80. 'RPL36'\n",
       "81. 'RPS28'\n",
       "82. 'RPL18A'\n",
       "83. 'RPS16'\n",
       "84. 'RPS19'\n",
       "85. 'RPL18'\n",
       "86. 'RPL13A'\n",
       "87. 'RPS11'\n",
       "88. 'RPS9'\n",
       "89. 'RPL28'\n",
       "90. 'RPS5'\n",
       "91. 'RPS21'\n",
       "92. 'RPL3'\n",
       "93. 'RPS19BP1'\n",
       "94. 'RPS6KA3'\n",
       "95. 'RPS4X'\n",
       "96. 'RPS6KA6'\n",
       "97. 'RPL36A'\n",
       "98. 'RPL39'\n",
       "99. 'RPL10'\n",
       "100. 'RPS4Y1'\n",
       "101. 'RPS4Y2'\n",
       "\n",
       "\n"
      ],
      "text/plain": [
       "  [1] \"RPL22\"       \"RPL11\"       \"RPS6KA1\"     \"RPS8\"        \"RPL5\"       \n",
       "  [6] \"RPS27\"       \"RPS6KC1\"     \"RPS7\"        \"RPS27A\"      \"RPL31\"      \n",
       " [11] \"RPL37A\"      \"RPL32\"       \"RPL15\"       \"RPSA\"        \"RPL14\"      \n",
       " [16] \"RPL29\"       \"RPL24\"       \"RPL22L1\"     \"RPL39L\"      \"RPL35A\"     \n",
       " [21] \"RPL9\"        \"RPL34-AS1\"   \"RPL34\"       \"RPS3A\"       \"RPL37\"      \n",
       " [26] \"RPS23\"       \"RPS14\"       \"RPL26L1\"     \"RPS18\"       \"RPS10-NUDT3\"\n",
       " [31] \"RPS10\"       \"RPL10A\"      \"RPL7L1\"      \"RPS12\"       \"RPS6KA2\"    \n",
       " [36] \"RPS20\"       \"RPL7\"        \"RPL30\"       \"RPL8\"        \"RPS6\"       \n",
       " [41] \"RPL35\"       \"RPL12\"       \"RPL7A\"       \"RPS24\"       \"RPLP2\"      \n",
       " [46] \"RPL27A\"      \"RPS13\"       \"RPS6KA4\"     \"RPS6KB2\"     \"RPS6KB2-AS1\"\n",
       " [51] \"RPS3\"        \"RPS25\"       \"RPS26\"       \"RPL41\"       \"RPL6\"       \n",
       " [56] \"RPLP0\"       \"RPL21\"       \"RPL10L\"      \"RPS29\"       \"RPL36AL\"    \n",
       " [61] \"RPS6KL1\"     \"RPS6KA5\"     \"RPS27L\"      \"RPL4\"        \"RPLP1\"      \n",
       " [66] \"RPS17\"       \"RPL3L\"       \"RPS2\"        \"RPS15A\"      \"RPL13\"      \n",
       " [71] \"RPL26\"       \"RPL23A\"      \"RPL23\"       \"RPL19\"       \"RPL27\"      \n",
       " [76] \"RPS6KB1\"     \"RPL38\"       \"RPL17\"       \"RPS15\"       \"RPL36\"      \n",
       " [81] \"RPS28\"       \"RPL18A\"      \"RPS16\"       \"RPS19\"       \"RPL18\"      \n",
       " [86] \"RPL13A\"      \"RPS11\"       \"RPS9\"        \"RPL28\"       \"RPS5\"       \n",
       " [91] \"RPS21\"       \"RPL3\"        \"RPS19BP1\"    \"RPS6KA3\"     \"RPS4X\"      \n",
       " [96] \"RPS6KA6\"     \"RPL36A\"      \"RPL39\"       \"RPL10\"       \"RPS4Y1\"     \n",
       "[101] \"RPS4Y2\"     "
      ]
     },
     "metadata": {},
     "output_type": "display_data"
    }
   ],
   "source": [
    "grep(\"^RPL|^RPS\", rownames(scrna), value = T)"
   ]
  },
  {
   "cell_type": "code",
   "execution_count": 128,
   "id": "45ad8947-c93d-4d07-b0fb-6e7c593c0e85",
   "metadata": {
    "tags": [],
    "vscode": {
     "languageId": "r"
    }
   },
   "outputs": [],
   "source": [
    "scrna[[\"percent.ribo\"]] <- PercentageFeatureSet(scrna, pattern = \"^RPL|^RPS\")\n",
    "scrna[[\"percent.mt\"]] <- PercentageFeatureSet(scrna, pattern = \"^MT\")"
   ]
  },
  {
   "cell_type": "code",
   "execution_count": 132,
   "id": "c2538afb-1278-473f-bf6f-c551a6d19144",
   "metadata": {
    "collapsed": true,
    "jupyter": {
     "outputs_hidden": true
    },
    "tags": [],
    "vscode": {
     "languageId": "r"
    }
   },
   "outputs": [
    {
     "data": {
      "image/png": "[encoded data removed]",
      "text/plain": [
       "plot without title"
      ]
     },
     "metadata": {
      "image/png": {
       "height": 375,
       "width": 1050
      }
     },
     "output_type": "display_data"
    }
   ],
   "source": [
    "jp_opt(wd = 14, hg = 5)\n",
    "VlnPlot(scrna, pt.size = 0, group.by = 'subtype', features = c('percent.mt', 'percent.ribo'), ncol = 2) &\n",
    "NoLegend() &\n",
    "theme(axis.text.x = element_text(angle = 90))"
   ]
  },
  {
   "cell_type": "code",
   "execution_count": null,
   "id": "2b35ba4c-3a3f-4575-895e-bc9ad285fe7f",
   "metadata": {
    "vscode": {
     "languageId": "r"
    }
   },
   "outputs": [],
   "source": []
  },
  {
   "cell_type": "code",
   "execution_count": null,
   "id": "03c724b3-8ebd-413a-b17e-1a50eac1e073",
   "metadata": {
    "collapsed": true,
    "jupyter": {
     "outputs_hidden": true
    },
    "tags": [],
    "vscode": {
     "languageId": "r"
    }
   },
   "outputs": [
    {
     "data": {
      "image/png": "[encoded data removed]",
      "text/plain": [
       "plot without title"
      ]
     },
     "metadata": {
      "image/png": {
       "height": 450,
       "width": 375
      }
     },
     "output_type": "display_data"
    }
   ],
   "source": [
    "# f_cell_state <- '../figures/fig3/fig3-net_tcr_sharing-node_info.tsv'\n",
    "# df <- read_tsv(f_cell_state, show_col_types = F)\n",
    "# cell_state_map <- split(df$node, df$node_type)\n",
    "\n",
    "# scrna$cell_state <- scrna$subtype\n",
    "# for (nm in names(nm)) {\n",
    "#     scrna$cell_state[scrna$subtype %in% cell_state_map[[nm]]] <- nm\n",
    "# }\n",
    "scrna$gp <- paste(scrna$mandard_group, scrna$sample_type, sep = '_')\n",
    "\n",
    "jp_opt(wd = 5, hg = 6)\n",
    "DotPlot(scrna, features = 'CXCL13', group.by = 'gp')"
   ]
  },
  {
   "cell_type": "code",
   "execution_count": null,
   "id": "b05f870e-dce6-4d6e-b600-611f26e35de4",
   "metadata": {
    "vscode": {
     "languageId": "r"
    }
   },
   "outputs": [],
   "source": []
  }
 ],
 "metadata": {
  "kernelspec": {
   "display_name": "R 4.1.3",
   "language": "R",
   "name": "r_env"
  },
  "language_info": {
   "codemirror_mode": "r",
   "file_extension": ".r",
   "mimetype": "text/x-r-source",
   "name": "R",
   "pygments_lexer": "r",
   "version": "4.1.3"
  }
 },
 "nbformat": 4,
 "nbformat_minor": 5
}

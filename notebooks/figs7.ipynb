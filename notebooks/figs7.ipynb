{
 "cells": [
  {
   "cell_type": "markdown",
   "id": "4e78bb62-b115-43fd-9fb7-c826ee2811a4",
   "metadata": {
    "tags": []
   },
   "source": [
    "# figure s7\n",
    "\n",
    "- kernel: r_env, R 4.1.3\n",
    "- date: 2024-0-22"
   ]
  },
  {
   "cell_type": "markdown",
   "id": "0e59ed14-a3c3-49a6-8411-ae918b67af3b",
   "metadata": {
    "tags": []
   },
   "source": [
    "## load"
   ]
  },
  {
   "cell_type": "code",
   "execution_count": 35,
   "id": "95697196-8cfb-4a41-9105-a25a0d5c0baf",
   "metadata": {
    "tags": [],
    "vscode": {
     "languageId": "r"
    }
   },
   "outputs": [],
   "source": [
    "library(tidyverse)\n",
    "library(logging)\n",
    "library(ggpubr)\n",
    "library(ggsci)\n",
    "library(patchwork)\n",
    "\n",
    "source('../../stage2/scripts/r_funcs.r')\n",
    "\n",
    "theme_set(theme_pubr())\n",
    "logging::basicConfig()\n",
    "options(warn = -1)\n",
    "\n",
    "outdir <- '../figures/figs7'\n",
    "create_dir(outdir)"
   ]
  },
  {
   "cell_type": "code",
   "execution_count": 36,
   "id": "a861c9a0-c519-47c3-8d7b-1e864e2ec231",
   "metadata": {
    "tags": [],
    "vscode": {
     "languageId": "r"
    }
   },
   "outputs": [],
   "source": [
    "f_pat_gp <- '../tables/patient_info_v2.tsv'\n",
    "gp <- 'response'\n",
    "gp_lvls$response <- c('R', 'PR')\n",
    "gp_comp_map$response <- list(\n",
    "  c('R-pre', 'R-post'),\n",
    "  c('PR-pre', 'PR-post'),\n",
    "  c('R-pre', 'PR-pre'),\n",
    "  c('R-post', 'PR-post')\n",
    ")\n",
    "gp_comp_diff_map$response <- list(c('R', 'PR'))\n",
    "gp_comp_map_pre$response <- list(c('R-pre', 'PR-pre'))\n",
    "comb_order <- c('R-pre', 'R-post', 'PR-pre', 'PR-post')"
   ]
  },
  {
   "cell_type": "code",
   "execution_count": 37,
   "id": "b6b88380-c498-4bb0-9702-737bb7ae5776",
   "metadata": {
    "tags": [],
    "vscode": {
     "languageId": "r"
    }
   },
   "outputs": [],
   "source": [
    "celltype_map <- list(\n",
    "    'T_MKI67' = c('T_Prolif')\n",
    ")\n",
    "\n",
    "cell_state_map <- list(\n",
    "    'cytotoxic' = c('CD8_ANXA1', 'CD8_CCL5', 'CD8_CX3CR1', 'CD8_FOS', 'CD8_GZMK', 'CD8_KLRB1'),\n",
    "    'exhausted' = c('CD4_CXCL13', 'CD8_CXCL13', 'CD8_TYMS', 'T_MKI67', 'Treg_TNFRSF4'),\n",
    "    'dying' = c('T_Mito'),\n",
    "    'others' = c('CD4_KLRB1', 'CD8_CD74', 'CD8_IFIT1', 'T_IL7R', 'T_Ribo', 'Treg_LTB')\n",
    ")\n",
    "cell_state_order <- c('cytotoxic', 'exhausted', 'dying', 'others')\n",
    "cell_state_color <- c('exhausted' = '#023fa5', 'cytotoxic' = 'red', \n",
    "                      'dying' = '#bb7784', 'others' = '#ff9639')"
   ]
  },
  {
   "cell_type": "markdown",
   "id": "5d2b3625",
   "metadata": {},
   "source": [
    "## s7a: TCR sharing diff (R vs PR)"
   ]
  },
  {
   "cell_type": "code",
   "execution_count": null,
   "id": "8e6090e7",
   "metadata": {
    "vscode": {
     "languageId": "r"
    }
   },
   "outputs": [],
   "source": [
    "f_node <- '../figures/fig3/fig3b-net_tcr_sharing-node_info.tsv'\n",
    "f_edge_r_pre <- '../../stage4/a03_tcr/net_vlz_old/net_good_Baseline_edge.csv'\n",
    "f_edge_r_post <- '../../stage4/a03_tcr/net_vlz_old/net_good_Treat_edge.csv'\n",
    "f_edge_pr_pre <- '../../stage4/a03_tcr/net_vlz_old/net_poor_Baseline_edge.csv'\n",
    "f_edge_pr_post <- '../../stage4/a03_tcr/net_vlz_old/net_poor_Treat_edge.csv'\n",
    "\n",
    "# node info\n",
    "df_node <- read_tsv(f_node, show_col_types = F) %>% \n",
    "    mutate(node_type = factor(node_type, levels = cell_state_order))"
   ]
  },
  {
   "cell_type": "code",
   "execution_count": null,
   "id": "41baca19",
   "metadata": {
    "vscode": {
     "languageId": "r"
    }
   },
   "outputs": [
    {
     "name": "stdout",
     "output_type": "stream",
     "text": [
      "\u001b[0m2024-02-22 18:12:38 INFO::a(25) - b(30) => 31 diff edges.\u001b[0m\u001b[22m\u001b[23m\u001b[24m\u001b[27m\u001b[28m\u001b[29m\u001b[39m\u001b[49m\u001b[0m\u001b[0m\u001b[22m\u001b[23m\u001b[24m\u001b[27m\u001b[28m\u001b[29m\u001b[39m\u001b[49m\n",
      "\u001b[0m2024-02-22 18:12:38 INFO::a(24) - b(45) => 47 diff edges.\u001b[0m\u001b[22m\u001b[23m\u001b[24m\u001b[27m\u001b[28m\u001b[29m\u001b[39m\u001b[49m\u001b[0m\u001b[0m\u001b[22m\u001b[23m\u001b[24m\u001b[27m\u001b[28m\u001b[29m\u001b[39m\u001b[49m\n"
     ]
    }
   ],
   "source": [
    "# pre: R vs PR\n",
    "df <- cal_edge_weight_diff(a = read_csv(f_edge_r_pre, show_col_types = F), \n",
    "                           b = read_csv(f_edge_pr_pre, show_col_types = F)) %>% \n",
    "    mutate(wtype = if_else(weight.diff > 0, 'R > PR', 'R < PR'),\n",
    "           comp_type = 'Pre-treatment: R vs PR')\n",
    "# add post R vs PR\n",
    "df <- cal_edge_weight_diff(a = read_csv(f_edge_r_post, show_col_types = F), \n",
    "                           b = read_csv(f_edge_pr_post, show_col_types = F)) %>% \n",
    "    mutate(wtype = if_else(weight.diff > 0, 'R > PR', 'R < PR'),\n",
    "           comp_type = 'Post-treatment: R vs PR') %>%\n",
    "    rbind.data.frame(df)\n",
    "df %>% write_tsv(str_glue('{outdir}/figs7d-edge_info-r_vs_pr.tsv'))"
   ]
  },
  {
   "cell_type": "code",
   "execution_count": null,
   "id": "60b72006",
   "metadata": {
    "vscode": {
     "languageId": "r"
    }
   },
   "outputs": [],
   "source": [
    "df <- read_tsv(str_glue('{outdir}/figs7d-edge_info-r_vs_pr.tsv'), show_col_types = F)\n",
    "p_ls <- lapply(X = c('Pre-treatment: R vs PR', 'Post-treatment: R vs PR'), FUN = function(ctype) {\n",
    "    df_edge <- filter(df, comp_type == ctype)\n",
    "    p <- exhau_cyto_netplot2(df_node = df_node, df_edge = df_edge, pt_fill = 'node_type', edge_color = 'wtype') +\n",
    "        scale_fill_manual(values = cell_state_color) +\n",
    "        labs(fill = 'Cell state', title = ctype, color = '') +\n",
    "        theme_pubr(base_size = 14) +\n",
    "        theme(plot.title = element_text(hjust = 0.5),\n",
    "              legend.position = 'right', \n",
    "              legend.text = element_text(size = 14),\n",
    "              legend.title = element_text(size = 14))\n",
    "    return(p)\n",
    "})\n",
    "p_ls[[1]] <- p_ls[[1]] + theme(legend.position = 'none')\n",
    "ggsave(filename = str_glue('{outdir}/figs7d-net_tcr_sharing-r_vs_pr.pdf'),\n",
    "       plot = wrap_plots(p_ls), width = 18, height = 6)"
   ]
  },
  {
   "cell_type": "markdown",
   "id": "6546008c",
   "metadata": {},
   "source": [
    "## s7b: select clones in umap space"
   ]
  },
  {
   "cell_type": "markdown",
   "id": "2e605d65",
   "metadata": {},
   "source": [
    "### prepare"
   ]
  },
  {
   "cell_type": "code",
   "execution_count": null,
   "id": "7d612f24",
   "metadata": {
    "vscode": {
     "languageId": "r"
    }
   },
   "outputs": [],
   "source": [
    "# include all RNA cells (non-TCR-RNA shared cells with NA clonotype)\n",
    "f_expand <- '../../stage4/a03_tcr/expansion/clone_expand_info_per_cell.csv'\n",
    "f_obj <- '../../stage4/a01_data/seuobj/t.rds'"
   ]
  },
  {
   "cell_type": "code",
   "execution_count": null,
   "id": "12880a15",
   "metadata": {
    "vscode": {
     "languageId": "r"
    }
   },
   "outputs": [],
   "source": [
    "scrna <- readRDS(f_obj)"
   ]
  },
  {
   "cell_type": "code",
   "execution_count": null,
   "id": "fcbf89b6",
   "metadata": {
    "vscode": {
     "languageId": "r"
    }
   },
   "outputs": [
    {
     "data": {
      "text/plain": [
       "\n",
       "  CD4_CXCL13    CD4_KLRB1    CD8_ANXA1     CD8_CCL5     CD8_CD74   CD8_CX3CR1 \n",
       "       13152        20635        15789        17401         4820         5319 \n",
       "  CD8_CXCL13      CD8_FOS     CD8_GZMK    CD8_IFIT1    CD8_KLRB1     CD8_TYMS \n",
       "       32900        20473        24466         5853         5067         8936 \n",
       "          NK    NK_CX3CR1       T_IL7R       T_Mito      T_MKI67       T_Ribo \n",
       "       12992         5385        27242        16101        11065         8102 \n",
       "    Treg_LTB Treg_TNFRSF4 \n",
       "       15682        30645 "
      ]
     },
     "metadata": {},
     "output_type": "display_data"
    }
   ],
   "source": [
    "# rename cell types\n",
    "scrna$celltype <- scrna$subtype\n",
    "for (nm in names(celltype_map)) {\n",
    "    scrna$celltype[scrna$subtype %in% celltype_map[[nm]]] <- nm\n",
    "}\n",
    "table(scrna$celltype)\n",
    "# rename sample type\n",
    "scrna$timepoint <- scrna$sample_type\n",
    "scrna$timepoint[scrna$sample_type == 'Baseline'] <- 'pre'\n",
    "scrna$timepoint[scrna$sample_type == 'Treat'] <- 'post'\n",
    "scrna$timepoint <- factor(scrna$timepoint, levels = c('pre', 'post'))"
   ]
  },
  {
   "cell_type": "code",
   "execution_count": null,
   "id": "351c15da",
   "metadata": {
    "vscode": {
     "languageId": "r"
    }
   },
   "outputs": [
    {
     "name": "stdout",
     "output_type": "stream",
     "text": [
      "\u001b[0m2024-02-28 20:42:52 INFO::total 205824 RNA & TCR cells\u001b[0m\u001b[22m\u001b[23m\u001b[24m\u001b[27m\u001b[28m\u001b[29m\u001b[39m\u001b[49m\u001b[0m\u001b[0m\u001b[22m\u001b[23m\u001b[24m\u001b[27m\u001b[28m\u001b[29m\u001b[39m\u001b[49m\n"
     ]
    }
   ],
   "source": [
    "cell_clone_info <- read_csv(f_expand, show_col_types = F) %>%\n",
    "    filter(!is.na(clonotype))  # RNA & TCR cells\n",
    "loginfo('total %g RNA & TCR cells', nrow(cell_clone_info))"
   ]
  },
  {
   "cell_type": "markdown",
   "id": "4910d460",
   "metadata": {},
   "source": [
    "### contracted exhausted, R\n",
    "\n",
    "span more to less"
   ]
  },
  {
   "cell_type": "code",
   "execution_count": null,
   "id": "50612b82",
   "metadata": {
    "vscode": {
     "languageId": "r"
    }
   },
   "outputs": [],
   "source": [
    "show_ctypes <- c('T_MKI67', 'CD8_CXCL13', 'CD8_TYMS', 'CD8_CXCL13', 'T_Mito')\n",
    "select_clone <- 'TRAV12-2;TRBV9_;TRBD1_TRAJ23;TRBJ1-5_TRA:CAVTDNQGGKLIF;TRB:CASSVTGGRGQPQHF_P21'\n",
    "title_str <- 'Clone 1 (R, contracted in exhausted clusters)'"
   ]
  },
  {
   "cell_type": "code",
   "execution_count": null,
   "id": "b69bdbd0",
   "metadata": {
    "vscode": {
     "languageId": "r"
    }
   },
   "outputs": [
    {
     "name": "stdout",
     "output_type": "stream",
     "text": [
      "\u001b[0m2024-02-28 20:59:46 INFO::total 32 cells of selected clone\u001b[0m\u001b[22m\u001b[23m\u001b[24m\u001b[27m\u001b[28m\u001b[29m\u001b[39m\u001b[49m\u001b[0m\u001b[0m\u001b[22m\u001b[23m\u001b[24m\u001b[27m\u001b[28m\u001b[29m\u001b[39m\u001b[49m\n"
     ]
    }
   ],
   "source": [
    "cells <- cell_clone_info %>% \n",
    "    filter(clonotype == select_clone) %>% \n",
    "    pull(barcode)\n",
    "loginfo('total %g cells of selected clone', length(cells))"
   ]
  },
  {
   "cell_type": "code",
   "execution_count": null,
   "id": "aeaba325",
   "metadata": {
    "vscode": {
     "languageId": "r"
    }
   },
   "outputs": [
    {
     "name": "stderr",
     "output_type": "stream",
     "text": [
      "Rasterizing points since number of points exceeds 100,000.\n",
      "To disable this behavior set `raster=FALSE`\n",
      "\n",
      "\u001b[1m\u001b[22mScale for \u001b[32mcolour\u001b[39m is already present.\n",
      "Adding another scale for \u001b[32mcolour\u001b[39m, which will replace the existing scale.\n"
     ]
    }
   ],
   "source": [
    "scrna$mylabel <- scrna$celltype\n",
    "scrna$mylabel[!(scrna$celltype %in% show_ctypes)] <- ' '\n",
    "p <- DimPlot(object = scrna, cells.highlight = cells, group.by = 'mylabel', split.by = 'timepoint', label = T) \n",
    "p$data$celltype <- scrna@meta.data[rownames(p$data), 'celltype']\n",
    "p <- p + \n",
    "    geom_point(data = p$data[cells, ], aes(UMAP_1, UMAP_2, color = celltype), size = 2, alpha = 0.8) +\n",
    "    scale_color_manual(values = ctype_colors, na.value = 'lightgray') +\n",
    "    ggtitle(title_str) +\n",
    "    theme(legend.position = 'none')\n",
    "ggsave(filename = str_glue('{outdir}/fig4g-exhau_contract-R-umap-selected_clone.pdf'), \n",
    "       plot = p, width = 7, height = 4)"
   ]
  },
  {
   "cell_type": "markdown",
   "id": "efdcdb3b",
   "metadata": {},
   "source": [
    "### contracted exhausted, PR"
   ]
  },
  {
   "cell_type": "code",
   "execution_count": null,
   "id": "506ec765",
   "metadata": {
    "vscode": {
     "languageId": "r"
    }
   },
   "outputs": [],
   "source": [
    "show_ctypes <- c('T_MKI67', 'CD8_CXCL13', 'CD8_TYMS')\n",
    "select_clone <- 'TRAV27;TRBV20-1_;TRBD2_TRAJ49;TRBJ2-3_TRA:CAVFTGNQFYF;TRB:CSALAGGIDTQYF_P03'\n",
    "title_str <- 'Clone 2 (PR, contracted in exhausted clusters)'"
   ]
  },
  {
   "cell_type": "code",
   "execution_count": null,
   "id": "42acf4ac",
   "metadata": {
    "vscode": {
     "languageId": "r"
    }
   },
   "outputs": [
    {
     "name": "stdout",
     "output_type": "stream",
     "text": [
      "\u001b[0m2024-02-28 21:00:19 INFO::total 113 cells of selected clone\u001b[0m\u001b[22m\u001b[23m\u001b[24m\u001b[27m\u001b[28m\u001b[29m\u001b[39m\u001b[49m\u001b[0m\u001b[0m\u001b[22m\u001b[23m\u001b[24m\u001b[27m\u001b[28m\u001b[29m\u001b[39m\u001b[49m\n"
     ]
    }
   ],
   "source": [
    "# get cells of selected clones\n",
    "cells <- cell_clone_info %>% \n",
    "    filter(clonotype == select_clone) %>% \n",
    "    pull(barcode)\n",
    "loginfo('total %g cells of selected clone', length(cells))"
   ]
  },
  {
   "cell_type": "code",
   "execution_count": null,
   "id": "465a3352",
   "metadata": {
    "vscode": {
     "languageId": "r"
    }
   },
   "outputs": [
    {
     "name": "stderr",
     "output_type": "stream",
     "text": [
      "Rasterizing points since number of points exceeds 100,000.\n",
      "To disable this behavior set `raster=FALSE`\n",
      "\n",
      "\u001b[1m\u001b[22mScale for \u001b[32mcolour\u001b[39m is already present.\n",
      "Adding another scale for \u001b[32mcolour\u001b[39m, which will replace the existing scale.\n"
     ]
    }
   ],
   "source": [
    "scrna$mylabel <- scrna$celltype\n",
    "scrna$mylabel[!(scrna$celltype %in% show_ctypes)] <- ' '\n",
    "p <- DimPlot(object = scrna, cells.highlight = cells, group.by = 'mylabel', split.by = 'timepoint', label = T) \n",
    "p$data$celltype <- scrna@meta.data[rownames(p$data), 'celltype']\n",
    "p <- p + \n",
    "    geom_point(data = p$data[cells, ], aes(UMAP_1, UMAP_2, color = celltype), size = 2, alpha = 0.8) +\n",
    "    scale_color_manual(values = ctype_colors, na.value = 'lightgray') +\n",
    "    ggtitle(title_str) +\n",
    "    theme(legend.position = 'none')\n",
    "ggsave(filename = str_glue('{outdir}/fig4g-exhau_contract-PR-umap-selected_clone.pdf'), \n",
    "       plot = p, width = 7, height = 4)"
   ]
  },
  {
   "cell_type": "markdown",
   "id": "c42afc85",
   "metadata": {},
   "source": [
    "### expanded cytotoxic, R"
   ]
  },
  {
   "cell_type": "code",
   "execution_count": null,
   "id": "bd817fb7",
   "metadata": {
    "vscode": {
     "languageId": "r"
    }
   },
   "outputs": [],
   "source": [
    "show_ctypes <- c('CD8_ANXA1', 'CD8_CCL5', 'CD8_CX3CR1', 'CD8_FOS', 'CD8_GZMK')\n",
    "select_clone <- 'TRAV12-1;TRBV9_;_TRAJ39;TRBJ2-6_TRA:CVVNHAGNMLTF;TRB:CASSVEASGANVLTF_P26'\n",
    "title_str <- 'Clone 3 (R, expanded in cytotoxic clusters)'"
   ]
  },
  {
   "cell_type": "code",
   "execution_count": null,
   "id": "79d96549",
   "metadata": {
    "vscode": {
     "languageId": "r"
    }
   },
   "outputs": [
    {
     "name": "stdout",
     "output_type": "stream",
     "text": [
      "\u001b[0m2024-02-28 21:00:25 INFO::total 90 cells of selected clone\u001b[0m\u001b[22m\u001b[23m\u001b[24m\u001b[27m\u001b[28m\u001b[29m\u001b[39m\u001b[49m\u001b[0m\u001b[0m\u001b[22m\u001b[23m\u001b[24m\u001b[27m\u001b[28m\u001b[29m\u001b[39m\u001b[49m\n"
     ]
    }
   ],
   "source": [
    "# get cells of selected clones\n",
    "cells <- cell_clone_info %>% \n",
    "    filter(clonotype == select_clone) %>% \n",
    "    pull(barcode)\n",
    "loginfo('total %g cells of selected clone', length(cells))"
   ]
  },
  {
   "cell_type": "code",
   "execution_count": null,
   "id": "9f516aa1",
   "metadata": {
    "vscode": {
     "languageId": "r"
    }
   },
   "outputs": [
    {
     "name": "stderr",
     "output_type": "stream",
     "text": [
      "Rasterizing points since number of points exceeds 100,000.\n",
      "To disable this behavior set `raster=FALSE`\n",
      "\n",
      "\u001b[1m\u001b[22mScale for \u001b[32mcolour\u001b[39m is already present.\n",
      "Adding another scale for \u001b[32mcolour\u001b[39m, which will replace the existing scale.\n"
     ]
    }
   ],
   "source": [
    "scrna$mylabel <- scrna$celltype\n",
    "scrna$mylabel[!(scrna$celltype %in% show_ctypes)] <- ' '\n",
    "p <- DimPlot(object = scrna, cells.highlight = cells, group.by = 'mylabel', split.by = 'timepoint', label = T) \n",
    "p$data$celltype <- scrna@meta.data[rownames(p$data), 'celltype']\n",
    "p <- p + \n",
    "    geom_point(data = p$data[cells, ], aes(UMAP_1, UMAP_2, color = celltype), size = 2, alpha = 0.8) +\n",
    "    scale_color_manual(values = ctype_colors, na.value = 'lightgray') +\n",
    "    ggtitle(title_str) +\n",
    "    theme(legend.position = 'none')\n",
    "ggsave(filename = str_glue('{outdir}/fig4g-cyto_expand-R-umap-selected_clone.pdf'), \n",
    "       plot = p, width = 7, height = 4)"
   ]
  },
  {
   "cell_type": "markdown",
   "id": "698ca9bb",
   "metadata": {},
   "source": [
    "### expanded cytotoxic, PR"
   ]
  },
  {
   "cell_type": "code",
   "execution_count": null,
   "id": "2e380318",
   "metadata": {
    "vscode": {
     "languageId": "r"
    }
   },
   "outputs": [],
   "source": [
    "show_ctypes <- c('CD8_ANXA1', 'CD8_CCL5', 'CD8_FOS', 'CD8_GZMK', 'CD8_CXCL13', 'CD8_TYMS', 'T_MKI67')\n",
    "select_clone <- 'TRAV20;TRBV4-2_;_TRAJ43;TRBJ2-7_TRA:CAVRGDNNDMRF;TRB:CASSHGTYSYEQYF_P20'\n",
    "title_str <- 'Clone 4 (PR, expanded in cytotoxic clusters)'"
   ]
  },
  {
   "cell_type": "code",
   "execution_count": null,
   "id": "d8bce71c",
   "metadata": {
    "vscode": {
     "languageId": "r"
    }
   },
   "outputs": [
    {
     "name": "stdout",
     "output_type": "stream",
     "text": [
      "\u001b[0m2024-02-28 21:00:31 INFO::total 149 cells of selected clone\u001b[0m\u001b[22m\u001b[23m\u001b[24m\u001b[27m\u001b[28m\u001b[29m\u001b[39m\u001b[49m\u001b[0m\u001b[0m\u001b[22m\u001b[23m\u001b[24m\u001b[27m\u001b[28m\u001b[29m\u001b[39m\u001b[49m\n"
     ]
    }
   ],
   "source": [
    "# get cells of selected clones\n",
    "cells <- cell_clone_info %>% \n",
    "    filter(clonotype == select_clone) %>% \n",
    "    pull(barcode)\n",
    "loginfo('total %g cells of selected clone', length(cells))"
   ]
  },
  {
   "cell_type": "code",
   "execution_count": null,
   "id": "fcedaaba",
   "metadata": {
    "vscode": {
     "languageId": "r"
    }
   },
   "outputs": [
    {
     "name": "stderr",
     "output_type": "stream",
     "text": [
      "Rasterizing points since number of points exceeds 100,000.\n",
      "To disable this behavior set `raster=FALSE`\n",
      "\n",
      "\u001b[1m\u001b[22mScale for \u001b[32mcolour\u001b[39m is already present.\n",
      "Adding another scale for \u001b[32mcolour\u001b[39m, which will replace the existing scale.\n"
     ]
    }
   ],
   "source": [
    "scrna$mylabel <- scrna$celltype\n",
    "scrna$mylabel[!(scrna$celltype %in% show_ctypes)] <- ' '\n",
    "p <- DimPlot(object = scrna, cells.highlight = cells, group.by = 'mylabel', split.by = 'timepoint', label = T) \n",
    "p$data$celltype <- scrna@meta.data[rownames(p$data), 'celltype']\n",
    "p <- p + \n",
    "    geom_point(data = p$data[cells, ], aes(UMAP_1, UMAP_2, color = celltype), size = 2, alpha = 0.8) +\n",
    "    scale_color_manual(values = ctype_colors, na.value = 'lightgray') +\n",
    "    ggtitle(title_str) +\n",
    "    theme(legend.position = 'none')\n",
    "ggsave(filename = str_glue('{outdir}/fig4g-cyto_expand-PR-umap-selected_clone.pdf'), \n",
    "       plot = p, width = 7, height = 4)"
   ]
  },
  {
   "cell_type": "markdown",
   "id": "7d1a6ac9",
   "metadata": {},
   "source": [
    "# previous"
   ]
  },
  {
   "cell_type": "markdown",
   "id": "6e9ca217-ab63-4d33-a2a4-753500be8ac2",
   "metadata": {
    "tags": []
   },
   "source": [
    "## clone change type (pre vs post): s7a-s7c"
   ]
  },
  {
   "cell_type": "code",
   "execution_count": 38,
   "id": "383162a0-1b6a-4a39-a48d-daddd257f4aa",
   "metadata": {
    "tags": [],
    "vscode": {
     "languageId": "r"
    }
   },
   "outputs": [],
   "source": [
    "# cell source of 4 clone cat\n",
    "f_cell_source <- '../../stage4/a05_clone_share/pre_post_share/clone_frac_in_sample/clone_cell_source-cell_state-clone_change_type.tsv'\n",
    "# clone sharing intra- cell state level (with sharing_type)\n",
    "f_share_type <- '../../stage4/a05_clone_share/pre_post_share/pre_post_share-per_clone-cell_state.tsv'\n",
    "# merged clone frac/clone change type (sample level) & clone sharing info (no sharing_type)\n",
    "f_clone_change <- '../../stage4/a05_clone_share/pre_post_share/clone_frac_in_sample/clone_pair_patient-clone_change_type-chisq.tsv'\n",
    "\n",
    "clone_type_lvl <- c('Expanded', 'Contracted', 'Persistent')\n",
    "clone_type_color_map <- c(\n",
    "    'Expanded' = '#EE0000FF', 'Contracted' = '#3B4992FF', 'Persistent' = 'gray60'\n",
    ")\n",
    "ctype_colors <- c(\n",
    "    CD8_ANXA1 = '#8C0439', CD8_CCL5 = '#A12253', CD8_CX3CR1 = '#B6416D', CD8_FOS = '#CC6088',\n",
    "    CD8_GZMK = '#E17FA2', CD8_KLRB1 = '#F79EBD', CD4_CXCL13 = '#003CA5', CD8_CXCL13 = '#2F5DB1', \n",
    "    CD8_TYMS = '#5E7FBD', T_MKI67 = '#8DA1C9', Treg_TNFRSF4 = '#BDC3D6', T_Mito = '#7B7D7B',\n",
    "    CD4_KLRB1 = '#DF9608', CD8_CD74 = '#E2A22E', CD8_IFIT1 = '#E5AE54', T_IL7R = '#E8BA7A', \n",
    "    T_Ribo = '#EBC6A0', Treg_LTB = '#EFD3C6'\n",
    ")"
   ]
  },
  {
   "cell_type": "markdown",
   "id": "68284679-802f-4b99-b570-3a0c43426cf4",
   "metadata": {
    "jp-MarkdownHeadingCollapsed": true,
    "tags": []
   },
   "source": [
    "### scatter show clone type: s7a\n",
    "\n",
    "- desc: only pre-post shared clones (clone sharing defined intra cell state)"
   ]
  },
  {
   "cell_type": "code",
   "execution_count": 43,
   "id": "8cc27638-aa83-40bc-98d0-6030f88c3ee1",
   "metadata": {
    "tags": [],
    "vscode": {
     "languageId": "r"
    }
   },
   "outputs": [],
   "source": [
    "xy_tick_labels <- c(0.001, 0.01, 0.1)\n",
    "used_states <- c('cytotoxic', 'exhausted', 'dying', 'others')"
   ]
  },
  {
   "cell_type": "code",
   "execution_count": 47,
   "id": "d008ad25-6b5d-400d-9573-162cd3411406",
   "metadata": {
    "tags": [],
    "vscode": {
     "languageId": "r"
    }
   },
   "outputs": [
    {
     "name": "stdout",
     "output_type": "stream",
     "text": [
      "\u001b[0m2024-02-22 16:19:58 INFO::these clinial info will be added: response\u001b[0m\u001b[22m\u001b[23m\u001b[24m\u001b[27m\u001b[28m\u001b[29m\u001b[39m\u001b[49m\u001b[0m\u001b[0m\u001b[22m\u001b[23m\u001b[24m\u001b[27m\u001b[28m\u001b[29m\u001b[39m\u001b[49m\n",
      "\u001b[0m2024-02-22 16:19:59 INFO::4240 records\u001b[0m\u001b[22m\u001b[23m\u001b[24m\u001b[27m\u001b[28m\u001b[29m\u001b[39m\u001b[49m\u001b[0m\u001b[0m\u001b[22m\u001b[23m\u001b[24m\u001b[27m\u001b[28m\u001b[29m\u001b[39m\u001b[49m\n"
     ]
    }
   ],
   "source": [
    "df <- read_tsv(f_clone_change, show_col_types = F) %>%\n",
    "    filter(!grepl('NK', cell_state)) %>%  # no NK cells\n",
    "    filter(cell_state %in% used_states) %>%\n",
    "    select(-c('mandard_group', 'response_degree', 'treatment_group')) %>%\n",
    "    add_clin_info(ftsv = f_pat_gp, columns = gp, merge_by = 'patient')\n",
    "df <- read_tsv(f_share_type, show_col_types = F) %>% \n",
    "    filter(share_type == 'pre_post_share') %>%\n",
    "    select(patient, patient_id, clonotype, cell_state, share_type) %>% \n",
    "    distinct() %>%\n",
    "    merge(df, by = c('patient', 'patient_id', 'clonotype', 'cell_state'))\n",
    "df %>% write_tsv(str_glue('{outdir}/figs7a-clone_change_type-clone_frac_pre_vs_post-by_state-only_share.tsv'))\n",
    "\n",
    "loginfo('%g records', nrow(df))"
   ]
  },
  {
   "cell_type": "code",
   "execution_count": 48,
   "id": "f587efc4-0020-4fce-ba4b-36f613474aa7",
   "metadata": {
    "tags": [],
    "vscode": {
     "languageId": "r"
    }
   },
   "outputs": [],
   "source": [
    "# scatter show expand type use clone fraction\n",
    "p <- read_tsv(str_glue('{outdir}/figs7a-clone_change_type-clone_frac_pre_vs_post-by_state-only_share.tsv'), show_col_types = F) %>%\n",
    "    mutate(clone_change_type = factor(clone_change_type, levels = clone_type_lvl),\n",
    "           frow = factor(.data[[gp]], gp_lvls[[gp]]),\n",
    "           fcol = factor(cell_state, used_states)) %>%\n",
    "    ggscatter(x = 'clone_frac_in_sample_pre', y = 'clone_frac_in_sample_post', color = 'clone_change_type', alpha = 0.7, cor.coef = T) +\n",
    "    geom_abline(slope = 1, intercept = 0) +\n",
    "    facet_grid(frow ~ fcol)  +\n",
    "    scale_x_continuous(breaks = xy_tick_labels) +\n",
    "    scale_y_continuous(breaks = xy_tick_labels) +\n",
    "    scale_color_manual(values = clone_type_color_map) +\n",
    "    guides(color = guide_legend(override.aes = list(size = 4))) +\n",
    "    coord_trans(x = lognp_trans(n = 0.001), y = lognp_trans(n = 0.001)) +\n",
    "    labs(x = 'Clone fraction in Baseline (RNA & TCR)', y = 'Clone fraction in Treat (RNA & TCR)',\n",
    "         color = 'Clone type') +\n",
    "    theme(legend.position = 'right')\n",
    "ggsave(filename = str_glue('{outdir}/figs7a-scatter-clone_chage_type-clone_frac_pre_vs_post-by_state-only_share.pdf'),\n",
    "       plot = p, width = 15, height = 5)"
   ]
  },
  {
   "cell_type": "markdown",
   "id": "632d874c-d7d2-4731-b893-99c13c33c5e6",
   "metadata": {
    "jp-MarkdownHeadingCollapsed": true,
    "tags": []
   },
   "source": [
    "### scatter show clone type-v2: s7a\n",
    "\n",
    "- desc: only pre-post shared clones (pre/post fraction != 0)"
   ]
  },
  {
   "cell_type": "code",
   "execution_count": 32,
   "id": "c852884a-4383-49cf-a64e-e487975173a4",
   "metadata": {
    "tags": [],
    "vscode": {
     "languageId": "r"
    }
   },
   "outputs": [],
   "source": [
    "xy_tick_labels <- c(0.001, 0.01, 0.1)\n",
    "used_states <- c('cytotoxic', 'exhausted', 'dying', 'others')"
   ]
  },
  {
   "cell_type": "code",
   "execution_count": 33,
   "id": "5885bf60-80a3-43af-8f59-b1db53c0de94",
   "metadata": {
    "tags": [],
    "vscode": {
     "languageId": "r"
    }
   },
   "outputs": [
    {
     "name": "stdout",
     "output_type": "stream",
     "text": [
      "\u001b[0m2024-02-22 18:30:44 INFO::these clinial info will be added: response\u001b[0m\u001b[22m\u001b[23m\u001b[24m\u001b[27m\u001b[28m\u001b[29m\u001b[39m\u001b[49m\u001b[0m\u001b[0m\u001b[22m\u001b[23m\u001b[24m\u001b[27m\u001b[28m\u001b[29m\u001b[39m\u001b[49m\n",
      "\u001b[0m2024-02-22 18:30:44 INFO::8327 records\u001b[0m\u001b[22m\u001b[23m\u001b[24m\u001b[27m\u001b[28m\u001b[29m\u001b[39m\u001b[49m\u001b[0m\u001b[0m\u001b[22m\u001b[23m\u001b[24m\u001b[27m\u001b[28m\u001b[29m\u001b[39m\u001b[49m\n"
     ]
    }
   ],
   "source": [
    "df <- read_tsv(f_clone_change, show_col_types = F) %>%\n",
    "    filter(!grepl('NK', cell_state)) %>%  # no NK cells\n",
    "    filter(cell_state %in% used_states) %>%\n",
    "    select(-c('mandard_group', 'response_degree', 'treatment_group')) %>%\n",
    "    add_clin_info(ftsv = f_pat_gp, columns = gp, merge_by = 'patient') %>%\n",
    "    filter(clone_frac_in_sample_pre != 0,\n",
    "           clone_frac_in_sample_post != 0)\n",
    "df %>% write_tsv(str_glue('{outdir}/figs7a-clone_change_type-clone_frac_pre_vs_post-by_state-only_share-v2.tsv'))\n",
    "\n",
    "loginfo('%g records', nrow(df))"
   ]
  },
  {
   "cell_type": "code",
   "execution_count": 34,
   "id": "2a124d58-ba2d-4209-a558-87a1c7bcd635",
   "metadata": {
    "tags": [],
    "vscode": {
     "languageId": "r"
    }
   },
   "outputs": [],
   "source": [
    "# scatter show expand type use clone fraction\n",
    "p <- read_tsv(str_glue('{outdir}/figs7a-clone_change_type-clone_frac_pre_vs_post-by_state-only_share-v2.tsv'), show_col_types = F) %>%\n",
    "    mutate(clone_change_type = factor(clone_change_type, levels = clone_type_lvl),\n",
    "           frow = factor(.data[[gp]], gp_lvls[[gp]]),\n",
    "           fcol = factor(cell_state, used_states)) %>%\n",
    "    ggscatter(x = 'clone_frac_in_sample_pre', y = 'clone_frac_in_sample_post', color = 'clone_change_type', alpha = 0.7, cor.coef = T) +\n",
    "    geom_abline(slope = 1, intercept = 0) +\n",
    "    facet_grid(frow ~ fcol)  +\n",
    "    scale_x_continuous(breaks = xy_tick_labels) +\n",
    "    scale_y_continuous(breaks = xy_tick_labels) +\n",
    "    scale_color_manual(values = clone_type_color_map) +\n",
    "    guides(color = guide_legend(override.aes = list(size = 4))) +\n",
    "    coord_trans(x = lognp_trans(n = 0.001), y = lognp_trans(n = 0.001)) +\n",
    "    labs(x = 'Clone fraction in Baseline (RNA & TCR)', y = 'Clone fraction in Treat (RNA & TCR)',\n",
    "         color = 'Clone type') +\n",
    "    theme(legend.position = 'right')\n",
    "ggsave(filename = str_glue('{outdir}/figs7a-scatter-clone_chage_type-clone_frac_pre_vs_post-by_state-only_share-v2.pdf'),\n",
    "       plot = p, width = 15, height = 5)"
   ]
  },
  {
   "cell_type": "markdown",
   "id": "a94e97dc-96be-4b8b-8eee-e0c36d34def7",
   "metadata": {
    "tags": []
   },
   "source": [
    "### subtype source of interested clones: s7b\n",
    "\n",
    "Contracted clones in cytotoxic clusters, Expanded clones in exhausted clusters"
   ]
  },
  {
   "cell_type": "code",
   "execution_count": 41,
   "id": "d5f886e5-a0d8-49d3-9d43-b211e8430f49",
   "metadata": {
    "tags": [],
    "vscode": {
     "languageId": "r"
    }
   },
   "outputs": [],
   "source": [
    "used_cat <- c('Expanded clones in exhausted clusters', 'Contracted clones in cytotoxic clusters')"
   ]
  },
  {
   "cell_type": "code",
   "execution_count": 42,
   "id": "9898695d-3041-4874-bb64-cb8246537917",
   "metadata": {
    "tags": [],
    "vscode": {
     "languageId": "r"
    }
   },
   "outputs": [],
   "source": [
    "# plot\n",
    "p <- read_tsv(f_cell_source, show_col_types = F) %>%\n",
    "    filter(!grepl('NK', celltype)) %>%\n",
    "    filter(clone_cat %in% used_cat) %>%\n",
    "    count(.data[[gp]], sample_type, clone_cat, celltype, name = 'n_cell') %>%\n",
    "    mutate(response_stype = factor(paste0(.data[[gp]], '-', sample_type), comb_order),\n",
    "           celltype = factor(celltype, names(ctype_colors))) %>%\n",
    "    ggbarplot(x = 'n_cell', y = 'response_stype', fill = 'celltype', position = position_fill()) +\n",
    "    facet_wrap(~ clone_cat) +\n",
    "    scale_fill_manual(values = ctype_colors) +\n",
    "    guides(fill = guide_legend(nrow = 3)) +\n",
    "    labs(x = 'Cell proportion', y = '', fill = '')\n",
    "\n",
    "ggsave(filename = str_glue('{outdir}/figs7b-bar-cell_source-exhauExpand_cytoContract.pdf'), \n",
    "       plot = p, width = 12, height = 5)"
   ]
  },
  {
   "cell_type": "code",
   "execution_count": null,
   "id": "e8608aed-aeb7-435f-be5a-87525a9f0f83",
   "metadata": {
    "vscode": {
     "languageId": "r"
    }
   },
   "outputs": [],
   "source": []
  }
 ],
 "metadata": {
  "kernelspec": {
   "display_name": "r_env",
   "language": "R",
   "name": "r_env"
  },
  "language_info": {
   "codemirror_mode": "r",
   "file_extension": ".r",
   "mimetype": "text/x-r-source",
   "name": "R",
   "pygments_lexer": "r",
   "version": "4.1.3"
  },
  "toc-autonumbering": false,
  "toc-showmarkdowntxt": false
 },
 "nbformat": 4,
 "nbformat_minor": 5
}

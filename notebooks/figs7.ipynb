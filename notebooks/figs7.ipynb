{
 "cells": [
  {
   "cell_type": "markdown",
   "id": "4e78bb62-b115-43fd-9fb7-c826ee2811a4",
   "metadata": {
    "tags": []
   },
   "source": [
    "# figure s7\n",
    "\n",
    "- kernel: r_env, R 4.1.3\n",
    "- date: 2024-0-22"
   ]
  },
  {
   "cell_type": "markdown",
   "id": "0e59ed14-a3c3-49a6-8411-ae918b67af3b",
   "metadata": {
    "tags": []
   },
   "source": [
    "## load"
   ]
  },
  {
   "cell_type": "code",
   "execution_count": null,
   "id": "95697196-8cfb-4a41-9105-a25a0d5c0baf",
   "metadata": {
    "tags": [],
    "vscode": {
     "languageId": "r"
    }
   },
   "outputs": [],
   "source": [
    "library(tidyverse)\n",
    "library(logging)\n",
    "library(ggpubr)\n",
    "library(ggsci)\n",
    "library(patchwork)\n",
    "\n",
    "source('../scripts/r_funcs.r')\n",
    "\n",
    "theme_set(theme_pubr())\n",
    "logging::basicConfig()\n",
    "options(warn = -1)\n",
    "\n",
    "outdir <- '../figures/figs7'\n",
    "create_dir(outdir)"
   ]
  },
  {
   "cell_type": "code",
   "execution_count": 36,
   "id": "a861c9a0-c519-47c3-8d7b-1e864e2ec231",
   "metadata": {
    "tags": [],
    "vscode": {
     "languageId": "r"
    }
   },
   "outputs": [],
   "source": [
    "f_pat_gp <- '../tables/patient_info_v2.tsv'\n",
    "gp <- 'response'\n",
    "gp_lvls$response <- c('R', 'PR')\n",
    "gp_comp_map$response <- list(\n",
    "  c('R-pre', 'R-post'),\n",
    "  c('PR-pre', 'PR-post'),\n",
    "  c('R-pre', 'PR-pre'),\n",
    "  c('R-post', 'PR-post')\n",
    ")\n",
    "gp_comp_diff_map$response <- list(c('R', 'PR'))\n",
    "gp_comp_map_pre$response <- list(c('R-pre', 'PR-pre'))\n",
    "comb_order <- c('R-pre', 'R-post', 'PR-pre', 'PR-post')"
   ]
  },
  {
   "cell_type": "code",
   "execution_count": 37,
   "id": "b6b88380-c498-4bb0-9702-737bb7ae5776",
   "metadata": {
    "tags": [],
    "vscode": {
     "languageId": "r"
    }
   },
   "outputs": [],
   "source": [
    "celltype_map <- list(\n",
    "    'T_MKI67' = c('T_Prolif')\n",
    ")\n",
    "\n",
    "cell_state_map <- list(\n",
    "    'cytotoxic' = c('CD8_ANXA1', 'CD8_CCL5', 'CD8_CX3CR1', 'CD8_FOS', 'CD8_GZMK', 'CD8_KLRB1'),\n",
    "    'exhausted' = c('CD4_CXCL13', 'CD8_CXCL13', 'CD8_TYMS', 'T_MKI67', 'Treg_TNFRSF4'),\n",
    "    'dying' = c('T_Mito'),\n",
    "    'others' = c('CD4_KLRB1', 'CD8_CD74', 'CD8_IFIT1', 'T_IL7R', 'T_Ribo', 'Treg_LTB')\n",
    ")\n",
    "cell_state_order <- c('cytotoxic', 'exhausted', 'dying', 'others')\n",
    "cell_state_color <- c('exhausted' = '#023fa5', 'cytotoxic' = 'red', \n",
    "                      'dying' = '#bb7784', 'others' = '#ff9639')"
   ]
  },
  {
   "cell_type": "markdown",
   "id": "5d2b3625",
   "metadata": {},
   "source": [
    "## s7a: TCR sharing diff (R vs PR)"
   ]
  },
  {
   "cell_type": "code",
   "execution_count": null,
   "id": "8e6090e7",
   "metadata": {
    "vscode": {
     "languageId": "r"
    }
   },
   "outputs": [],
   "source": [
    "f_node <- '../figures/fig3/fig3b-net_tcr_sharing-node_info.tsv'\n",
    "f_edge_r_pre <- '../../stage4/a03_tcr/net_vlz_old/net_good_Baseline_edge.csv'\n",
    "f_edge_r_post <- '../../stage4/a03_tcr/net_vlz_old/net_good_Treat_edge.csv'\n",
    "f_edge_pr_pre <- '../../stage4/a03_tcr/net_vlz_old/net_poor_Baseline_edge.csv'\n",
    "f_edge_pr_post <- '../../stage4/a03_tcr/net_vlz_old/net_poor_Treat_edge.csv'\n",
    "\n",
    "# node info\n",
    "df_node <- read_tsv(f_node, show_col_types = F) %>% \n",
    "    mutate(node_type = factor(node_type, levels = cell_state_order))"
   ]
  },
  {
   "cell_type": "code",
   "execution_count": null,
   "id": "41baca19",
   "metadata": {
    "vscode": {
     "languageId": "r"
    }
   },
   "outputs": [
    {
     "name": "stdout",
     "output_type": "stream",
     "text": [
      "\u001b[0m2024-02-22 18:12:38 INFO::a(25) - b(30) => 31 diff edges.\u001b[0m\u001b[22m\u001b[23m\u001b[24m\u001b[27m\u001b[28m\u001b[29m\u001b[39m\u001b[49m\u001b[0m\u001b[0m\u001b[22m\u001b[23m\u001b[24m\u001b[27m\u001b[28m\u001b[29m\u001b[39m\u001b[49m\n",
      "\u001b[0m2024-02-22 18:12:38 INFO::a(24) - b(45) => 47 diff edges.\u001b[0m\u001b[22m\u001b[23m\u001b[24m\u001b[27m\u001b[28m\u001b[29m\u001b[39m\u001b[49m\u001b[0m\u001b[0m\u001b[22m\u001b[23m\u001b[24m\u001b[27m\u001b[28m\u001b[29m\u001b[39m\u001b[49m\n"
     ]
    }
   ],
   "source": [
    "# pre: R vs PR\n",
    "df <- cal_edge_weight_diff(a = read_csv(f_edge_r_pre, show_col_types = F), \n",
    "                           b = read_csv(f_edge_pr_pre, show_col_types = F)) %>% \n",
    "    mutate(wtype = if_else(weight.diff > 0, 'R > PR', 'R < PR'),\n",
    "           comp_type = 'Pre-treatment: R vs PR')\n",
    "# add post R vs PR\n",
    "df <- cal_edge_weight_diff(a = read_csv(f_edge_r_post, show_col_types = F), \n",
    "                           b = read_csv(f_edge_pr_post, show_col_types = F)) %>% \n",
    "    mutate(wtype = if_else(weight.diff > 0, 'R > PR', 'R < PR'),\n",
    "           comp_type = 'Post-treatment: R vs PR') %>%\n",
    "    rbind.data.frame(df)\n",
    "df %>% write_tsv(str_glue('{outdir}/figs7d-edge_info-r_vs_pr.tsv'))"
   ]
  },
  {
   "cell_type": "code",
   "execution_count": null,
   "id": "60b72006",
   "metadata": {
    "vscode": {
     "languageId": "r"
    }
   },
   "outputs": [],
   "source": [
    "df <- read_tsv(str_glue('{outdir}/figs7d-edge_info-r_vs_pr.tsv'), show_col_types = F)\n",
    "p_ls <- lapply(X = c('Pre-treatment: R vs PR', 'Post-treatment: R vs PR'), FUN = function(ctype) {\n",
    "    df_edge <- filter(df, comp_type == ctype)\n",
    "    p <- exhau_cyto_netplot2(df_node = df_node, df_edge = df_edge, pt_fill = 'node_type', edge_color = 'wtype') +\n",
    "        scale_fill_manual(values = cell_state_color) +\n",
    "        labs(fill = 'Cell state', title = ctype, color = '') +\n",
    "        theme_pubr(base_size = 14) +\n",
    "        theme(plot.title = element_text(hjust = 0.5),\n",
    "              legend.position = 'right', \n",
    "              legend.text = element_text(size = 14),\n",
    "              legend.title = element_text(size = 14))\n",
    "    return(p)\n",
    "})\n",
    "p_ls[[1]] <- p_ls[[1]] + theme(legend.position = 'none')\n",
    "ggsave(filename = str_glue('{outdir}/figs7d-net_tcr_sharing-r_vs_pr.pdf'),\n",
    "       plot = wrap_plots(p_ls), width = 18, height = 6)"
   ]
  },
  {
   "cell_type": "markdown",
   "id": "6546008c",
   "metadata": {},
   "source": [
    "## s7b: select clones in umap space"
   ]
  },
  {
   "cell_type": "markdown",
   "id": "2e605d65",
   "metadata": {},
   "source": [
    "### prepare"
   ]
  },
  {
   "cell_type": "code",
   "execution_count": null,
   "id": "7d612f24",
   "metadata": {
    "vscode": {
     "languageId": "r"
    }
   },
   "outputs": [],
   "source": [
    "# include all RNA cells (non-TCR-RNA shared cells with NA clonotype)\n",
    "f_expand <- '../../stage4/a03_tcr/expansion/clone_expand_info_per_cell.csv'\n",
    "f_obj <- '../../stage4/a01_data/seuobj/t.rds'"
   ]
  },
  {
   "cell_type": "code",
   "execution_count": null,
   "id": "12880a15",
   "metadata": {
    "vscode": {
     "languageId": "r"
    }
   },
   "outputs": [],
   "source": [
    "scrna <- readRDS(f_obj)"
   ]
  },
  {
   "cell_type": "code",
   "execution_count": null,
   "id": "fcbf89b6",
   "metadata": {
    "vscode": {
     "languageId": "r"
    }
   },
   "outputs": [
    {
     "data": {
      "text/plain": [
       "\n",
       "  CD4_CXCL13    CD4_KLRB1    CD8_ANXA1     CD8_CCL5     CD8_CD74   CD8_CX3CR1 \n",
       "       13152        20635        15789        17401         4820         5319 \n",
       "  CD8_CXCL13      CD8_FOS     CD8_GZMK    CD8_IFIT1    CD8_KLRB1     CD8_TYMS \n",
       "       32900        20473        24466         5853         5067         8936 \n",
       "          NK    NK_CX3CR1       T_IL7R       T_Mito      T_MKI67       T_Ribo \n",
       "       12992         5385        27242        16101        11065         8102 \n",
       "    Treg_LTB Treg_TNFRSF4 \n",
       "       15682        30645 "
      ]
     },
     "metadata": {},
     "output_type": "display_data"
    }
   ],
   "source": [
    "# rename cell types\n",
    "scrna$celltype <- scrna$subtype\n",
    "for (nm in names(celltype_map)) {\n",
    "    scrna$celltype[scrna$subtype %in% celltype_map[[nm]]] <- nm\n",
    "}\n",
    "table(scrna$celltype)\n",
    "# rename sample type\n",
    "scrna$timepoint <- scrna$sample_type\n",
    "scrna$timepoint[scrna$sample_type == 'Baseline'] <- 'pre'\n",
    "scrna$timepoint[scrna$sample_type == 'Treat'] <- 'post'\n",
    "scrna$timepoint <- factor(scrna$timepoint, levels = c('pre', 'post'))"
   ]
  },
  {
   "cell_type": "code",
   "execution_count": null,
   "id": "351c15da",
   "metadata": {
    "vscode": {
     "languageId": "r"
    }
   },
   "outputs": [
    {
     "name": "stdout",
     "output_type": "stream",
     "text": [
      "\u001b[0m2024-02-28 20:42:52 INFO::total 205824 RNA & TCR cells\u001b[0m\u001b[22m\u001b[23m\u001b[24m\u001b[27m\u001b[28m\u001b[29m\u001b[39m\u001b[49m\u001b[0m\u001b[0m\u001b[22m\u001b[23m\u001b[24m\u001b[27m\u001b[28m\u001b[29m\u001b[39m\u001b[49m\n"
     ]
    }
   ],
   "source": [
    "cell_clone_info <- read_csv(f_expand, show_col_types = F) %>%\n",
    "    filter(!is.na(clonotype))  # RNA & TCR cells\n",
    "loginfo('total %g RNA & TCR cells', nrow(cell_clone_info))"
   ]
  },
  {
   "cell_type": "markdown",
   "id": "4910d460",
   "metadata": {},
   "source": [
    "### contracted exhausted, R\n",
    "\n",
    "span more to less"
   ]
  },
  {
   "cell_type": "code",
   "execution_count": null,
   "id": "50612b82",
   "metadata": {
    "vscode": {
     "languageId": "r"
    }
   },
   "outputs": [],
   "source": [
    "show_ctypes <- c('T_MKI67', 'CD8_CXCL13', 'CD8_TYMS', 'CD8_CXCL13', 'T_Mito')\n",
    "select_clone <- 'TRAV12-2;TRBV9_;TRBD1_TRAJ23;TRBJ1-5_TRA:CAVTDNQGGKLIF;TRB:CASSVTGGRGQPQHF_P21'\n",
    "title_str <- 'Clone 1 (R, contracted in exhausted clusters)'"
   ]
  },
  {
   "cell_type": "code",
   "execution_count": null,
   "id": "b69bdbd0",
   "metadata": {
    "vscode": {
     "languageId": "r"
    }
   },
   "outputs": [
    {
     "name": "stdout",
     "output_type": "stream",
     "text": [
      "\u001b[0m2024-02-28 20:59:46 INFO::total 32 cells of selected clone\u001b[0m\u001b[22m\u001b[23m\u001b[24m\u001b[27m\u001b[28m\u001b[29m\u001b[39m\u001b[49m\u001b[0m\u001b[0m\u001b[22m\u001b[23m\u001b[24m\u001b[27m\u001b[28m\u001b[29m\u001b[39m\u001b[49m\n"
     ]
    }
   ],
   "source": [
    "cells <- cell_clone_info %>% \n",
    "    filter(clonotype == select_clone) %>% \n",
    "    pull(barcode)\n",
    "loginfo('total %g cells of selected clone', length(cells))"
   ]
  },
  {
   "cell_type": "code",
   "execution_count": null,
   "id": "aeaba325",
   "metadata": {
    "vscode": {
     "languageId": "r"
    }
   },
   "outputs": [
    {
     "name": "stderr",
     "output_type": "stream",
     "text": [
      "Rasterizing points since number of points exceeds 100,000.\n",
      "To disable this behavior set `raster=FALSE`\n",
      "\n",
      "\u001b[1m\u001b[22mScale for \u001b[32mcolour\u001b[39m is already present.\n",
      "Adding another scale for \u001b[32mcolour\u001b[39m, which will replace the existing scale.\n"
     ]
    }
   ],
   "source": [
    "scrna$mylabel <- scrna$celltype\n",
    "scrna$mylabel[!(scrna$celltype %in% show_ctypes)] <- ' '\n",
    "p <- DimPlot(object = scrna, cells.highlight = cells, group.by = 'mylabel', split.by = 'timepoint', label = T) \n",
    "p$data$celltype <- scrna@meta.data[rownames(p$data), 'celltype']\n",
    "p <- p + \n",
    "    geom_point(data = p$data[cells, ], aes(UMAP_1, UMAP_2, color = celltype), size = 2, alpha = 0.8) +\n",
    "    scale_color_manual(values = ctype_colors, na.value = 'lightgray') +\n",
    "    ggtitle(title_str) +\n",
    "    theme(legend.position = 'none')\n",
    "ggsave(filename = str_glue('{outdir}/fig4g-exhau_contract-R-umap-selected_clone.pdf'), \n",
    "       plot = p, width = 7, height = 4)"
   ]
  },
  {
   "cell_type": "markdown",
   "id": "efdcdb3b",
   "metadata": {},
   "source": [
    "### contracted exhausted, PR"
   ]
  },
  {
   "cell_type": "code",
   "execution_count": null,
   "id": "506ec765",
   "metadata": {
    "vscode": {
     "languageId": "r"
    }
   },
   "outputs": [],
   "source": [
    "show_ctypes <- c('T_MKI67', 'CD8_CXCL13', 'CD8_TYMS')\n",
    "select_clone <- 'TRAV27;TRBV20-1_;TRBD2_TRAJ49;TRBJ2-3_TRA:CAVFTGNQFYF;TRB:CSALAGGIDTQYF_P03'\n",
    "title_str <- 'Clone 2 (PR, contracted in exhausted clusters)'"
   ]
  },
  {
   "cell_type": "code",
   "execution_count": null,
   "id": "42acf4ac",
   "metadata": {
    "vscode": {
     "languageId": "r"
    }
   },
   "outputs": [
    {
     "name": "stdout",
     "output_type": "stream",
     "text": [
      "\u001b[0m2024-02-28 21:00:19 INFO::total 113 cells of selected clone\u001b[0m\u001b[22m\u001b[23m\u001b[24m\u001b[27m\u001b[28m\u001b[29m\u001b[39m\u001b[49m\u001b[0m\u001b[0m\u001b[22m\u001b[23m\u001b[24m\u001b[27m\u001b[28m\u001b[29m\u001b[39m\u001b[49m\n"
     ]
    }
   ],
   "source": [
    "# get cells of selected clones\n",
    "cells <- cell_clone_info %>% \n",
    "    filter(clonotype == select_clone) %>% \n",
    "    pull(barcode)\n",
    "loginfo('total %g cells of selected clone', length(cells))"
   ]
  },
  {
   "cell_type": "code",
   "execution_count": null,
   "id": "465a3352",
   "metadata": {
    "vscode": {
     "languageId": "r"
    }
   },
   "outputs": [
    {
     "name": "stderr",
     "output_type": "stream",
     "text": [
      "Rasterizing points since number of points exceeds 100,000.\n",
      "To disable this behavior set `raster=FALSE`\n",
      "\n",
      "\u001b[1m\u001b[22mScale for \u001b[32mcolour\u001b[39m is already present.\n",
      "Adding another scale for \u001b[32mcolour\u001b[39m, which will replace the existing scale.\n"
     ]
    }
   ],
   "source": [
    "scrna$mylabel <- scrna$celltype\n",
    "scrna$mylabel[!(scrna$celltype %in% show_ctypes)] <- ' '\n",
    "p <- DimPlot(object = scrna, cells.highlight = cells, group.by = 'mylabel', split.by = 'timepoint', label = T) \n",
    "p$data$celltype <- scrna@meta.data[rownames(p$data), 'celltype']\n",
    "p <- p + \n",
    "    geom_point(data = p$data[cells, ], aes(UMAP_1, UMAP_2, color = celltype), size = 2, alpha = 0.8) +\n",
    "    scale_color_manual(values = ctype_colors, na.value = 'lightgray') +\n",
    "    ggtitle(title_str) +\n",
    "    theme(legend.position = 'none')\n",
    "ggsave(filename = str_glue('{outdir}/fig4g-exhau_contract-PR-umap-selected_clone.pdf'), \n",
    "       plot = p, width = 7, height = 4)"
   ]
  },
  {
   "cell_type": "markdown",
   "id": "c42afc85",
   "metadata": {},
   "source": [
    "### expanded cytotoxic, R"
   ]
  },
  {
   "cell_type": "code",
   "execution_count": null,
   "id": "bd817fb7",
   "metadata": {
    "vscode": {
     "languageId": "r"
    }
   },
   "outputs": [],
   "source": [
    "show_ctypes <- c('CD8_ANXA1', 'CD8_CCL5', 'CD8_CX3CR1', 'CD8_FOS', 'CD8_GZMK')\n",
    "select_clone <- 'TRAV12-1;TRBV9_;_TRAJ39;TRBJ2-6_TRA:CVVNHAGNMLTF;TRB:CASSVEASGANVLTF_P26'\n",
    "title_str <- 'Clone 3 (R, expanded in cytotoxic clusters)'"
   ]
  },
  {
   "cell_type": "code",
   "execution_count": null,
   "id": "79d96549",
   "metadata": {
    "vscode": {
     "languageId": "r"
    }
   },
   "outputs": [
    {
     "name": "stdout",
     "output_type": "stream",
     "text": [
      "\u001b[0m2024-02-28 21:00:25 INFO::total 90 cells of selected clone\u001b[0m\u001b[22m\u001b[23m\u001b[24m\u001b[27m\u001b[28m\u001b[29m\u001b[39m\u001b[49m\u001b[0m\u001b[0m\u001b[22m\u001b[23m\u001b[24m\u001b[27m\u001b[28m\u001b[29m\u001b[39m\u001b[49m\n"
     ]
    }
   ],
   "source": [
    "# get cells of selected clones\n",
    "cells <- cell_clone_info %>% \n",
    "    filter(clonotype == select_clone) %>% \n",
    "    pull(barcode)\n",
    "loginfo('total %g cells of selected clone', length(cells))"
   ]
  },
  {
   "cell_type": "code",
   "execution_count": null,
   "id": "9f516aa1",
   "metadata": {
    "vscode": {
     "languageId": "r"
    }
   },
   "outputs": [
    {
     "name": "stderr",
     "output_type": "stream",
     "text": [
      "Rasterizing points since number of points exceeds 100,000.\n",
      "To disable this behavior set `raster=FALSE`\n",
      "\n",
      "\u001b[1m\u001b[22mScale for \u001b[32mcolour\u001b[39m is already present.\n",
      "Adding another scale for \u001b[32mcolour\u001b[39m, which will replace the existing scale.\n"
     ]
    }
   ],
   "source": [
    "scrna$mylabel <- scrna$celltype\n",
    "scrna$mylabel[!(scrna$celltype %in% show_ctypes)] <- ' '\n",
    "p <- DimPlot(object = scrna, cells.highlight = cells, group.by = 'mylabel', split.by = 'timepoint', label = T) \n",
    "p$data$celltype <- scrna@meta.data[rownames(p$data), 'celltype']\n",
    "p <- p + \n",
    "    geom_point(data = p$data[cells, ], aes(UMAP_1, UMAP_2, color = celltype), size = 2, alpha = 0.8) +\n",
    "    scale_color_manual(values = ctype_colors, na.value = 'lightgray') +\n",
    "    ggtitle(title_str) +\n",
    "    theme(legend.position = 'none')\n",
    "ggsave(filename = str_glue('{outdir}/fig4g-cyto_expand-R-umap-selected_clone.pdf'), \n",
    "       plot = p, width = 7, height = 4)"
   ]
  },
  {
   "cell_type": "markdown",
   "id": "698ca9bb",
   "metadata": {},
   "source": [
    "### expanded cytotoxic, PR"
   ]
  },
  {
   "cell_type": "code",
   "execution_count": null,
   "id": "2e380318",
   "metadata": {
    "vscode": {
     "languageId": "r"
    }
   },
   "outputs": [],
   "source": [
    "show_ctypes <- c('CD8_ANXA1', 'CD8_CCL5', 'CD8_FOS', 'CD8_GZMK', 'CD8_CXCL13', 'CD8_TYMS', 'T_MKI67')\n",
    "select_clone <- 'TRAV20;TRBV4-2_;_TRAJ43;TRBJ2-7_TRA:CAVRGDNNDMRF;TRB:CASSHGTYSYEQYF_P20'\n",
    "title_str <- 'Clone 4 (PR, expanded in cytotoxic clusters)'"
   ]
  },
  {
   "cell_type": "code",
   "execution_count": null,
   "id": "d8bce71c",
   "metadata": {
    "vscode": {
     "languageId": "r"
    }
   },
   "outputs": [
    {
     "name": "stdout",
     "output_type": "stream",
     "text": [
      "\u001b[0m2024-02-28 21:00:31 INFO::total 149 cells of selected clone\u001b[0m\u001b[22m\u001b[23m\u001b[24m\u001b[27m\u001b[28m\u001b[29m\u001b[39m\u001b[49m\u001b[0m\u001b[0m\u001b[22m\u001b[23m\u001b[24m\u001b[27m\u001b[28m\u001b[29m\u001b[39m\u001b[49m\n"
     ]
    }
   ],
   "source": [
    "# get cells of selected clones\n",
    "cells <- cell_clone_info %>% \n",
    "    filter(clonotype == select_clone) %>% \n",
    "    pull(barcode)\n",
    "loginfo('total %g cells of selected clone', length(cells))"
   ]
  },
  {
   "cell_type": "code",
   "execution_count": null,
   "id": "fcedaaba",
   "metadata": {
    "vscode": {
     "languageId": "r"
    }
   },
   "outputs": [
    {
     "name": "stderr",
     "output_type": "stream",
     "text": [
      "Rasterizing points since number of points exceeds 100,000.\n",
      "To disable this behavior set `raster=FALSE`\n",
      "\n",
      "\u001b[1m\u001b[22mScale for \u001b[32mcolour\u001b[39m is already present.\n",
      "Adding another scale for \u001b[32mcolour\u001b[39m, which will replace the existing scale.\n"
     ]
    }
   ],
   "source": [
    "scrna$mylabel <- scrna$celltype\n",
    "scrna$mylabel[!(scrna$celltype %in% show_ctypes)] <- ' '\n",
    "p <- DimPlot(object = scrna, cells.highlight = cells, group.by = 'mylabel', split.by = 'timepoint', label = T) \n",
    "p$data$celltype <- scrna@meta.data[rownames(p$data), 'celltype']\n",
    "p <- p + \n",
    "    geom_point(data = p$data[cells, ], aes(UMAP_1, UMAP_2, color = celltype), size = 2, alpha = 0.8) +\n",
    "    scale_color_manual(values = ctype_colors, na.value = 'lightgray') +\n",
    "    ggtitle(title_str) +\n",
    "    theme(legend.position = 'none')\n",
    "ggsave(filename = str_glue('{outdir}/fig4g-cyto_expand-PR-umap-selected_clone.pdf'), \n",
    "       plot = p, width = 7, height = 4)"
   ]
  },
  {
   "cell_type": "code",
   "execution_count": null,
   "id": "e8608aed-aeb7-435f-be5a-87525a9f0f83",
   "metadata": {
    "vscode": {
     "languageId": "r"
    }
   },
   "outputs": [],
   "source": []
  }
 ],
 "metadata": {
  "kernelspec": {
   "display_name": "r_env",
   "language": "R",
   "name": "r_env"
  },
  "language_info": {
   "codemirror_mode": "r",
   "file_extension": ".r",
   "mimetype": "text/x-r-source",
   "name": "R",
   "pygments_lexer": "r",
   "version": "4.1.3"
  },
  "toc-autonumbering": false,
  "toc-showmarkdowntxt": false
 },
 "nbformat": 4,
 "nbformat_minor": 5
}

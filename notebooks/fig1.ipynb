{
 "cells": [
  {
   "cell_type": "markdown",
   "id": "4e78bb62-b115-43fd-9fb7-c826ee2811a4",
   "metadata": {},
   "source": [
    "# figure 1 vlz\n",
    "\n",
    "- kernel: r_env, R 4.1.3\n",
    "- date: 2023-12-26"
   ]
  },
  {
   "cell_type": "markdown",
   "id": "0e59ed14-a3c3-49a6-8411-ae918b67af3b",
   "metadata": {
    "tags": []
   },
   "source": [
    "## load"
   ]
  },
  {
   "cell_type": "code",
   "execution_count": null,
   "id": "95697196-8cfb-4a41-9105-a25a0d5c0baf",
   "metadata": {
    "collapsed": true,
    "jupyter": {
     "outputs_hidden": true
    },
    "tags": [],
    "vscode": {
     "languageId": "r"
    }
   },
   "outputs": [
    {
     "name": "stderr",
     "output_type": "stream",
     "text": [
      "── \u001b[1mAttaching core tidyverse packages\u001b[22m ──────────────────────── tidyverse 2.0.0 ──\n",
      "\u001b[32m✔\u001b[39m \u001b[34mdplyr    \u001b[39m 1.1.0     \u001b[32m✔\u001b[39m \u001b[34mreadr    \u001b[39m 2.1.4\n",
      "\u001b[32m✔\u001b[39m \u001b[34mforcats  \u001b[39m 1.0.0     \u001b[32m✔\u001b[39m \u001b[34mstringr  \u001b[39m 1.5.0\n",
      "\u001b[32m✔\u001b[39m \u001b[34mggplot2  \u001b[39m 3.4.1     \u001b[32m✔\u001b[39m \u001b[34mtibble   \u001b[39m 3.2.0\n",
      "\u001b[32m✔\u001b[39m \u001b[34mlubridate\u001b[39m 1.9.2     \u001b[32m✔\u001b[39m \u001b[34mtidyr    \u001b[39m 1.3.0\n",
      "\u001b[32m✔\u001b[39m \u001b[34mpurrr    \u001b[39m 1.0.1     \n",
      "── \u001b[1mConflicts\u001b[22m ────────────────────────────────────────── tidyverse_conflicts() ──\n",
      "\u001b[31m✖\u001b[39m \u001b[34mdplyr\u001b[39m::\u001b[32mfilter()\u001b[39m masks \u001b[34mstats\u001b[39m::filter()\n",
      "\u001b[31m✖\u001b[39m \u001b[34mdplyr\u001b[39m::\u001b[32mlag()\u001b[39m    masks \u001b[34mstats\u001b[39m::lag()\n",
      "\u001b[36mℹ\u001b[39m Use the conflicted package (\u001b[3m\u001b[34m<http://conflicted.r-lib.org/>\u001b[39m\u001b[23m) to force all conflicts to become errors\n",
      "\n",
      "Attaching package: ‘igraph’\n",
      "\n",
      "\n",
      "The following objects are masked from ‘package:lubridate’:\n",
      "\n",
      "    %--%, union\n",
      "\n",
      "\n",
      "The following objects are masked from ‘package:dplyr’:\n",
      "\n",
      "    as_data_frame, groups, union\n",
      "\n",
      "\n",
      "The following objects are masked from ‘package:purrr’:\n",
      "\n",
      "    compose, simplify\n",
      "\n",
      "\n",
      "The following object is masked from ‘package:tidyr’:\n",
      "\n",
      "    crossing\n",
      "\n",
      "\n",
      "The following object is masked from ‘package:tibble’:\n",
      "\n",
      "    as_data_frame\n",
      "\n",
      "\n",
      "The following objects are masked from ‘package:stats’:\n",
      "\n",
      "    decompose, spectrum\n",
      "\n",
      "\n",
      "The following object is masked from ‘package:base’:\n",
      "\n",
      "    union\n",
      "\n",
      "\n",
      "Attaching SeuratObject\n",
      "\n"
     ]
    }
   ],
   "source": [
    "library(tidyverse)\n",
    "library(tools)\n",
    "library(logging)\n",
    "library(ggpubr)\n",
    "library(ggsci)\n",
    "library(patchwork)\n",
    "library(igraph)\n",
    "library(ggraph)\n",
    "library(Seurat)\n",
    "\n",
    "source('../scripts/r_funcs.r')\n",
    "\n",
    "theme_set(theme_pubr())\n",
    "logging::basicConfig()\n",
    "options(warn = -1)\n",
    "\n",
    "outdir <- '../figures/fig1'\n",
    "create_dir(outdir)"
   ]
  },
  {
   "cell_type": "code",
   "execution_count": 3,
   "id": "c14e70ad-8b08-437b-bbd3-862f851569bf",
   "metadata": {
    "tags": [],
    "vscode": {
     "languageId": "r"
    }
   },
   "outputs": [],
   "source": [
    "f_pat_gp <- '../tables/patient_info.tsv'\n",
    "gp <- 'response'\n",
    "\n",
    "gp_comp_map$response <- list(\n",
    "  c('R-pre', 'R-post'),\n",
    "  c('PR-pre', 'PR-post'),\n",
    "  c('R-pre', 'PR-pre'),\n",
    "  c('R-post', 'PR-post')\n",
    ")\n",
    "gp_lvls$response <- c('R', 'PR')\n",
    "comb_order <- c('R-pre', 'R-post', 'PR-pre', 'PR-post')"
   ]
  },
  {
   "cell_type": "markdown",
   "id": "81a0de34-956d-4317-831d-0f6bb16ea7a8",
   "metadata": {
    "jp-MarkdownHeadingCollapsed": true,
    "tags": []
   },
   "source": [
    "## 1b: clinical info\n",
    "\n",
    "- date: 2024-01-02\n",
    "- desc: WES only include TN-paired, Fresh, nonLN samples"
   ]
  },
  {
   "cell_type": "code",
   "execution_count": 4,
   "id": "87a52365-eeb6-4bb4-b456-f4a0a94e1d99",
   "metadata": {
    "vscode": {
     "languageId": "r"
    }
   },
   "outputs": [],
   "source": [
    "f_sc_clin <- '../../assets/clinical/sc_merge_clinical-230925.xlsx'\n",
    "f_wes_clin <- '../../assets/clinical/wes_merge_clin-230921.xlsx'\n",
    "f_mode <- '../../s1_flow/wes-new/tumor_samples_analysis_mode.tsv'\n",
    "outdir <- '../figures/fig1/'"
   ]
  },
  {
   "cell_type": "code",
   "execution_count": 5,
   "id": "9d94bec8-3b59-4dbd-a8e4-21141366d38e",
   "metadata": {
    "tags": [],
    "vscode": {
     "languageId": "r"
    }
   },
   "outputs": [
    {
     "name": "stdout",
     "output_type": "stream",
     "text": [
      "\u001b[0m2024-03-01 10:30:30 INFO::sc samples: 81\u001b[0m\u001b[22m\u001b[23m\u001b[24m\u001b[27m\u001b[28m\u001b[29m\u001b[39m\u001b[49m\u001b[0m\u001b[0m\u001b[22m\u001b[23m\u001b[24m\u001b[27m\u001b[28m\u001b[29m\u001b[39m\u001b[49m\n",
      "\u001b[0m2024-03-01 10:30:30 INFO::WES samples: 142\u001b[0m\u001b[22m\u001b[23m\u001b[24m\u001b[27m\u001b[28m\u001b[29m\u001b[39m\u001b[49m\u001b[0m\u001b[0m\u001b[22m\u001b[23m\u001b[24m\u001b[27m\u001b[28m\u001b[29m\u001b[39m\u001b[49m\n"
     ]
    }
   ],
   "source": [
    "# sample info\n",
    "df_samp_sc <- readxl::read_xlsx(f_sc_clin, sheet = 'id_mapping') %>% \n",
    "    mutate(sample_id = paste(sample_type_id, patient_id, tissue_id, sep = '-')) %>%\n",
    "    select(sample_id, patient_id, patient) %>% \n",
    "    distinct() %>%\n",
    "    mutate(data_cat = 'single-cell')\n",
    "loginfo('sc samples: %g', nrow(df_samp_sc))\n",
    "\n",
    "df_samp_wes <- readxl::read_xlsx(f_wes_clin, sheet = 'id_mapping') %>%\n",
    "    select(sample_id, patient_id, patient) %>% \n",
    "    distinct() %>%\n",
    "    mutate(data_cat = 'WES')\n",
    "loginfo('WES samples: %g', nrow(df_samp_wes))"
   ]
  },
  {
   "cell_type": "code",
   "execution_count": 6,
   "id": "a2519737-5aca-41f7-b3f3-257a1a2d4b60",
   "metadata": {
    "tags": [],
    "vscode": {
     "languageId": "r"
    }
   },
   "outputs": [
    {
     "name": "stdout",
     "output_type": "stream",
     "text": [
      "\u001b[0m2024-03-01 10:30:34 INFO::TN-pair, fresh, nonLN WES samples: 98\u001b[0m\u001b[22m\u001b[23m\u001b[24m\u001b[27m\u001b[28m\u001b[29m\u001b[39m\u001b[49m\u001b[0m\u001b[0m\u001b[22m\u001b[23m\u001b[24m\u001b[27m\u001b[28m\u001b[29m\u001b[39m\u001b[49m\n"
     ]
    }
   ],
   "source": [
    "# wes sample filtering\n",
    "wes_mode_valid <- read_tsv(file = f_mode, show_col_types = F) %>% \n",
    "    filter(pair_mode == 'tumor-normal-paired', pair_cat == 'Fresh', !grepl('-LN', tumor_sample_id))\n",
    "df_samp_wes <- filter(df_samp_wes, sample_id %in% c(wes_mode_valid$tumor_sample_id, wes_mode_valid$paired_normal))\n",
    "loginfo('TN-pair, fresh, nonLN WES samples: %g', nrow(df_samp_wes))"
   ]
  },
  {
   "cell_type": "code",
   "execution_count": 7,
   "id": "9f188f85-b40b-446e-ab59-41cf9b10599f",
   "metadata": {
    "tags": [],
    "vscode": {
     "languageId": "r"
    }
   },
   "outputs": [
    {
     "name": "stdout",
     "output_type": "stream",
     "text": [
      "\u001b[0m2024-03-01 10:30:34 INFO::these clinial info will be added: mandard_group, response_degree, treatment_group, patient_gp, patient_gp_v2, response\u001b[0m\u001b[22m\u001b[23m\u001b[24m\u001b[27m\u001b[28m\u001b[29m\u001b[39m\u001b[49m\u001b[0m\u001b[0m\u001b[22m\u001b[23m\u001b[24m\u001b[27m\u001b[28m\u001b[29m\u001b[39m\u001b[49m\n",
      "\u001b[0m2024-03-01 10:30:34 INFO::total valid samples: 179\u001b[0m\u001b[22m\u001b[23m\u001b[24m\u001b[27m\u001b[28m\u001b[29m\u001b[39m\u001b[49m\u001b[0m\u001b[0m\u001b[22m\u001b[23m\u001b[24m\u001b[27m\u001b[28m\u001b[29m\u001b[39m\u001b[49m\n"
     ]
    },
    {
     "data": {
      "text/plain": [
       "       \n",
       "        single-cell WES\n",
       "  Blood           0  45\n",
       "  Tumor          81  53"
      ]
     },
     "metadata": {},
     "output_type": "display_data"
    }
   ],
   "source": [
    "# merge all samples & add clin group\n",
    "df_samp <- rbind.data.frame(df_samp_sc, df_samp_wes) %>%\n",
    "    add_clin_info(ftsv = f_pat_gp, columns = NULL, merge_by = 'patient_id') %>%\n",
    "    mutate(sample_type = if_else(str_starts(pattern = '01-', string = sample_id), 'Baseline', 'Treat'),\n",
    "           tissue_cat = case_when(\n",
    "               str_ends(sample_id, '-B') ~ 'Blood',\n",
    "               str_ends(sample_id, '-T') ~ 'Tumor',\n",
    "               TRUE ~ 'Others'\n",
    "           ))\n",
    "df_samp %>% write_tsv(str_glue('{outdir}/fig1b-clin_info-wes_tn_pair_fresh_t.tsv'))\n",
    "loginfo('total valid samples: %g', nrow(df_samp))\n",
    "table(df_samp$tissue_cat, df_samp$data_cat)"
   ]
  },
  {
   "cell_type": "code",
   "execution_count": 8,
   "id": "9f063d16-0a1d-4560-b1ab-fdf0ad07d7a8",
   "metadata": {
    "tags": [],
    "vscode": {
     "languageId": "r"
    }
   },
   "outputs": [
    {
     "data": {
      "text/html": [
       "<strong>png:</strong> 2"
      ],
      "text/latex": [
       "\\textbf{png:} 2"
      ],
      "text/markdown": [
       "**png:** 2"
      ],
      "text/plain": [
       "png \n",
       "  2 "
      ]
     },
     "metadata": {},
     "output_type": "display_data"
    }
   ],
   "source": [
    "# WES & scRNA tumor samples overlap\n",
    "pdf(str_glue('{outdir}/fig1b-venn_clin-wes_vs_sc.pdf'), width = 5, height = 3)\n",
    "par(mfrow = c(1, 2), mar = c(0, 0, 0, 0))\n",
    "for (stype in c('Baseline', 'Treat')) {\n",
    "    venn::venn(\n",
    "        x = list(WES = filter(df_samp, sample_type == stype, data_cat == 'WES', tissue_cat == 'Tumor') %>% pull(sample_id),\n",
    "                 scRNA = filter(df_samp, sample_type == stype, data_cat == 'single-cell', tissue_cat == 'Tumor') %>% pull(sample_id)),\n",
    "        zcolor = 'style', ilcs = 1, sncs = 1, main = stype, line = -2, box = F, par = F\n",
    "    )\n",
    "}\n",
    "dev.off()"
   ]
  },
  {
   "cell_type": "code",
   "execution_count": 11,
   "id": "56544253-5f85-4f10-9cdf-3fb5dd1a5a0c",
   "metadata": {
    "tags": [],
    "vscode": {
     "languageId": "r"
    }
   },
   "outputs": [],
   "source": [
    "# scRNA clinical info barplot\n",
    "dp <- df_samp %>% \n",
    "    filter(data_cat == 'single-cell') %>%\n",
    "    pivot_wider(id_cols = c('patient_id', gp),\n",
    "                names_from = 'sample_type',\n",
    "                values_from = 'sample_id') %>% \n",
    "    mutate(sample_cat = case_when(\n",
    "        !is.na(Baseline) & !is.na(Treat) ~ 'Paired',\n",
    "        is.na(Baseline) ~ 'Post-only',\n",
    "        is.na(Treat) ~ 'Pre-only'\n",
    "    )) %>% \n",
    "    count(sample_cat, .data[[gp]], name = 'n_patient') %>% \n",
    "    mutate(pat_gp = if_else(is.na(.data[[gp]]), 'unknown', .data[[gp]]),\n",
    "           sample_cat = factor(sample_cat, levels = c('Paired', 'Pre-only', 'Post-only')))\n",
    "\n",
    "p <- ggbarplot(data = dp, x = 'pat_gp', y = 'n_patient', fill = 'sample_cat', \n",
    "               palette = 'nejm', order = c('R', 'PR', 'unknown'),\n",
    "               position = position_dodge(0.7), label = T, lab.vjust = -0.1) +\n",
    "    labs(x = '', y = 'Number of patients', fill = '')\n",
    "ggsave(filename = str_glue('{outdir}/fig1b-bar_clin-mandard_group.pdf'), plot = p, width = 3, height = 4)"
   ]
  },
  {
   "cell_type": "markdown",
   "id": "339ababd",
   "metadata": {},
   "source": [
    "## 1c: umap of whole data"
   ]
  },
  {
   "cell_type": "code",
   "execution_count": null,
   "id": "73c44826",
   "metadata": {
    "vscode": {
     "languageId": "r"
    }
   },
   "outputs": [],
   "source": [
    "theme_set(theme_pubr())\n",
    "outdir <- '../figures/fig1/'\n",
    "\n",
    "scrna <- readRDS('../../stage4/a01_data/seuobj/whole.rds')"
   ]
  },
  {
   "cell_type": "code",
   "execution_count": null,
   "id": "0131bcd1",
   "metadata": {
    "vscode": {
     "languageId": "r"
    }
   },
   "outputs": [],
   "source": [
    "subdata <- subset(x = scrna, downsample = 10000)\n",
    "p <- DimPlot(subdata, group.by = 'cellgp', pt.size = 0.8, label = T) +\n",
    "    NoLegend() + \n",
    "    scale_color_jama() +\n",
    "    theme(plot.title = element_blank())\n",
    "ggsave('../fig1/fig1-umap_celltype-whole-v3.pdf', plot=p, height = 4, width = 5)"
   ]
  },
  {
   "cell_type": "markdown",
   "id": "90eb67b6-c19d-4f58-83d7-79200bc3d84d",
   "metadata": {
    "tags": []
   },
   "source": [
    "## 1d: major cell type cell composition"
   ]
  },
  {
   "cell_type": "code",
   "execution_count": 51,
   "id": "7e3b9b14-20e6-4e7c-9f01-f240d65c0397",
   "metadata": {
    "tags": [],
    "vscode": {
     "languageId": "r"
    }
   },
   "outputs": [
    {
     "name": "stderr",
     "output_type": "stream",
     "text": [
      "\u001b[1m\u001b[22mNew names:\n",
      "\u001b[36m•\u001b[39m `` -> `...1`\n"
     ]
    }
   ],
   "source": [
    "theme_set(theme_pubr())\n",
    "outdir <- '../figures/fig1/'\n",
    "\n",
    "f_obs <- '../../stage4/a01_data/h5ad/whole_obs.csv'\n",
    "\n",
    "df_samp <- read_csv(file = f_obs, show_col_types = F) %>% \n",
    "    count(sample, name = 'n_cell_samp')"
   ]
  },
  {
   "cell_type": "code",
   "execution_count": 52,
   "id": "ae4ad3d0-52aa-4af9-b8b8-0cb22cb3257f",
   "metadata": {
    "tags": [],
    "vscode": {
     "languageId": "r"
    }
   },
   "outputs": [
    {
     "name": "stderr",
     "output_type": "stream",
     "text": [
      "\u001b[1m\u001b[22mNew names:\n",
      "\u001b[36m•\u001b[39m `` -> `...1`\n"
     ]
    },
    {
     "name": "stdout",
     "output_type": "stream",
     "text": [
      "\u001b[0m2024-02-04 23:30:54 INFO::these clinial info will be added: response\u001b[0m\u001b[22m\u001b[23m\u001b[24m\u001b[27m\u001b[28m\u001b[29m\u001b[39m\u001b[49m\u001b[0m\u001b[0m\u001b[22m\u001b[23m\u001b[24m\u001b[27m\u001b[28m\u001b[29m\u001b[39m\u001b[49m\n"
     ]
    }
   ],
   "source": [
    "comp <- read_csv(f_obs, show_col_types = F) %>% \n",
    "    select(sample, patient, sample_type, cell_type = cell_type_correct) %>% \n",
    "    add_clin_info(ftsv = f_pat_gp, columns = gp, merge_by = 'patient') %>% \n",
    "    cal_cell_comp(samp_cnt = df_samp, clinical_cols = c('patient', gp)) %>% \n",
    "    mutate(cell_type = case_when(\n",
    "        cell_type == 'T' ~ 'T cells',\n",
    "        cell_type == 'B' ~ 'B cells',\n",
    "        TRUE ~ cell_type\n",
    "    )) %>%\n",
    "    mutate(sample_type = case_match(sample_type, 'Baseline' ~ 'pre', 'Treat' ~ 'post'))\n",
    "\n",
    "comp %>% write_tsv(str_glue('{outdir}/fig1d-cc-major.tsv'))"
   ]
  },
  {
   "cell_type": "code",
   "execution_count": 57,
   "id": "d0273f30-9abe-46b7-8665-f331bd2dd5e9",
   "metadata": {
    "tags": [],
    "vscode": {
     "languageId": "r"
    }
   },
   "outputs": [],
   "source": [
    "ctype_order <- c('Endothelial', 'Fibroblast', 'Myeloid', 'Plasma', 'T cells')\n",
    "p <- read_tsv(str_glue('{outdir}/fig1d-cc-major.tsv'), show_col_types = F) %>% \n",
    "    filter(.data[[gp]] %in% gp_lvls[[gp]]) %>% \n",
    "    filter(cell_type %in% ctype_order) %>% \n",
    "    mutate(cell_type = factor(cell_type, ctype_order)) %>% \n",
    "    cell_comp_boxplot(x = c(gp, 'sample_type'), y = 'pct', pt_fill = gp,\n",
    "                      xorder = comb_order, fill_order = gp_lvls[[gp]], xangle = 60, ncol = 7) +\n",
    "    stat_compare_means(comparisons = list(c('R-pre', 'R-post'), c('PR-pre', 'PR-post'))) +\n",
    "    labs(fill = 'Response', y = 'Cell percent in sample') +\n",
    "    theme(legend.position = 'right')\n",
    "ggsave(filename = str_glue('{outdir}/fig1d-box_cc-major.pdf'), \n",
    "       plot = p, width = 14, height = 4)"
   ]
  },
  {
   "cell_type": "markdown",
   "id": "3b6d64c2-b88d-44bd-916c-984dda1cbde0",
   "metadata": {
    "jp-MarkdownHeadingCollapsed": true,
    "tags": []
   },
   "source": [
    "## 1e: overview of all subtypes"
   ]
  },
  {
   "cell_type": "code",
   "execution_count": 12,
   "id": "290f962b-ae63-433e-9821-5bb8d75b284b",
   "metadata": {
    "tags": [],
    "vscode": {
     "languageId": "r"
    }
   },
   "outputs": [],
   "source": [
    "f_cell_info <- '../../stage4/a01_data/h5ad/whole_obs.csv'\n",
    "theme_set(theme_void())"
   ]
  },
  {
   "cell_type": "code",
   "execution_count": 13,
   "id": "f1db9ae6-9a36-4564-837b-350169dd06fc",
   "metadata": {
    "tags": [],
    "vscode": {
     "languageId": "r"
    }
   },
   "outputs": [
    {
     "name": "stderr",
     "output_type": "stream",
     "text": [
      "\u001b[1m\u001b[22mNew names:\n",
      "\u001b[36m•\u001b[39m `` -> `...1`\n"
     ]
    }
   ],
   "source": [
    "cell_info <- read_csv('../../stage4/a01_data/h5ad/whole_obs.csv', show_col_types = F) %>% \n",
    "    mutate(\n",
    "        celltype1 = 'All cells', \n",
    "        celltype2 = case_when(\n",
    "            cell_type_correct %in% c('B', 'Plasma') ~ 'B & Plasma cells',\n",
    "            cell_type_correct == 'T' ~ 'T cells',\n",
    "            TRUE ~ cell_type_correct,\n",
    "        ),\n",
    "        celltype3 = case_when(\n",
    "            subtype == 'T_Prolif' ~ 'T_MKI67',\n",
    "            TRUE ~ subtype\n",
    "        )\n",
    "    )\n",
    "# color tree edge & cell count/frac barplot by major cell types\n",
    "uniq_major_ctype <- unique(cell_info[['celltype2']])\n",
    "major_color_map <- pal_nejm()(length(uniq_major_ctype))\n",
    "names(major_color_map) <- uniq_major_ctype\n",
    "# color tree leaf use detailed cell types\n",
    "uniq_leaf <- unique(cell_info[['celltype3']])\n",
    "leaf_color_map <- scanpy_pal$godsnot_102[1:length(uniq_leaf)]\n",
    "names(leaf_color_map) <- uniq_leaf"
   ]
  },
  {
   "cell_type": "code",
   "execution_count": 14,
   "id": "304ef219-b95b-4867-b397-4e78478085b1",
   "metadata": {
    "tags": [],
    "vscode": {
     "languageId": "r"
    }
   },
   "outputs": [
    {
     "name": "stdout",
     "output_type": "stream",
     "text": [
      "\u001b[0m2024-03-01 10:33:12 INFO::96 edges\u001b[0m\u001b[22m\u001b[23m\u001b[24m\u001b[27m\u001b[28m\u001b[29m\u001b[39m\u001b[49m\u001b[0m\u001b[0m\u001b[22m\u001b[23m\u001b[24m\u001b[27m\u001b[28m\u001b[29m\u001b[39m\u001b[49m\n",
      "\u001b[0m2024-03-01 10:33:12 INFO::97 nodes\u001b[0m\u001b[22m\u001b[23m\u001b[24m\u001b[27m\u001b[28m\u001b[29m\u001b[39m\u001b[49m\u001b[0m\u001b[0m\u001b[22m\u001b[23m\u001b[24m\u001b[27m\u001b[28m\u001b[29m\u001b[39m\u001b[49m\n"
     ]
    }
   ],
   "source": [
    "# tree of cell types\n",
    "## construct tree edge\n",
    "tree_edge <- cell_info %>%\n",
    "    select(from = celltype1, to = celltype2, edge_color = celltype2) %>%\n",
    "    distinct()\n",
    "tree_edge <- cell_info %>%\n",
    "    select(from = celltype2, to = celltype3, edge_color = celltype2) %>%\n",
    "    distinct() %>%\n",
    "    rbind.data.frame(tree_edge) %>%\n",
    "    arrange(from, to)\n",
    "loginfo('%g edges', nrow(tree_edge))\n",
    "## construct tree node\n",
    "tree_node <- data.frame(name = unique(c(tree_edge$from, tree_edge$to))) %>% \n",
    "    mutate(node_color = if_else(name %in% names(leaf_color_map), name, NA_character_)) \n",
    "loginfo('%g nodes', nrow(tree_node))"
   ]
  },
  {
   "cell_type": "code",
   "execution_count": 15,
   "id": "29436814-dba9-4d55-875b-ab1957cc5974",
   "metadata": {
    "tags": [],
    "vscode": {
     "languageId": "r"
    }
   },
   "outputs": [],
   "source": [
    "# cluster tree\n",
    "p_tree <- ggraph(graph = graph_from_data_frame(d = tree_edge, vertices = tree_node), layout = 'dendrogram') +\n",
    "    geom_edge_link(aes(edge_color = edge_color), edge_width = 1) + \n",
    "    geom_node_point(aes(color = node_color), size = 5, alpha = 0.7) + \n",
    "    geom_node_text(aes(label = name), repel = T, vjust = 0.5, hjust = 0, \n",
    "                   nudge_y = if_else(tree_node$name %in% names(leaf_color_map), 0.5, 0)) +   \n",
    "    scale_edge_color_manual(values = major_color_map, na.value = 'black') +\n",
    "    scale_color_manual(values = leaf_color_map, na.value = 'black') +\n",
    "    coord_flip() +\n",
    "    scale_y_reverse() + \n",
    "    theme(legend.position = \"none\")"
   ]
  },
  {
   "cell_type": "code",
   "execution_count": 16,
   "id": "195d17c3-3648-4385-bcf6-feefcd28f5e6",
   "metadata": {
    "tags": [],
    "vscode": {
     "languageId": "r"
    }
   },
   "outputs": [],
   "source": [
    "# obtain y coordinates of each leaf\n",
    "leaf_coord <- p_tree$data %>% \n",
    "    filter(name %in% names(leaf_color_map)) %>%\n",
    "    select(leaf = name, yval = x)"
   ]
  },
  {
   "cell_type": "code",
   "execution_count": 17,
   "id": "1570db89-5c4c-4de3-b9a3-eb0918e3edca",
   "metadata": {
    "tags": [],
    "vscode": {
     "languageId": "r"
    }
   },
   "outputs": [],
   "source": [
    "# cell count barplot\n",
    "cell_cnt <- cell_info %>% \n",
    "    select(color_by = celltype2, count_by = celltype3) %>%  # color_by should be marco-/same-calss of count_by\n",
    "    count(color_by, count_by, name = 'cell_num') %>%\n",
    "    merge(leaf_coord, by.x = 'count_by', by.y = 'leaf')\n",
    "# cell count plot\n",
    "p_cell_cnt <- ggplot(data = cell_cnt, aes(x = cell_num, y = yval, fill = color_by)) +\n",
    "    geom_bar(stat = 'identity', show.legend = F, orientation = 'y') +\n",
    "    scale_fill_manual(values = major_color_map) +\n",
    "    # scale_x_continuous(trans = 'log10') +\n",
    "    labs(title = 'cell count')"
   ]
  },
  {
   "cell_type": "code",
   "execution_count": 18,
   "id": "ab8ff300-370d-4cb0-97b7-27ced53e69d2",
   "metadata": {
    "tags": [],
    "vscode": {
     "languageId": "r"
    }
   },
   "outputs": [],
   "source": [
    "# cell fraction barplot\n",
    "cell_frac <- cell_info %>% \n",
    "    select(macrotype = celltype2, subtype = celltype3, color_by = celltype2) %>%  # color_by should be marco-/same-calss of subtype\n",
    "    add_count(macrotype, name = 'n_cell_macro') %>% \n",
    "    count(macrotype, subtype, color_by, n_cell_macro, name = 'n_cell_subtype') %>% \n",
    "    mutate(fraction = 100 * n_cell_subtype / n_cell_macro) %>%\n",
    "    merge(leaf_coord, by.x = 'subtype', by.y = 'leaf')\n",
    "# cell fraction plot\n",
    "p_cell_frac <- ggplot(data = cell_frac, aes(x = fraction, y = yval, fill = color_by)) +\n",
    "    geom_bar(stat = 'identity', show.legend = F, orientation = 'y') +\n",
    "    scale_fill_manual(values = major_color_map) +\n",
    "    # scale_x_continuous(trans = 'log10') +\n",
    "    labs(title = 'cell fraction')"
   ]
  },
  {
   "cell_type": "code",
   "execution_count": 19,
   "id": "39a80cab-789f-4864-9357-d8c544f96351",
   "metadata": {
    "tags": [],
    "vscode": {
     "languageId": "r"
    }
   },
   "outputs": [
    {
     "name": "stdout",
     "output_type": "stream",
     "text": [
      "\u001b[0m2024-03-01 10:33:13 INFO::these clinial info will be added: response\u001b[0m\u001b[22m\u001b[23m\u001b[24m\u001b[27m\u001b[28m\u001b[29m\u001b[39m\u001b[49m\u001b[0m\u001b[0m\u001b[22m\u001b[23m\u001b[24m\u001b[27m\u001b[28m\u001b[29m\u001b[39m\u001b[49m\n"
     ]
    }
   ],
   "source": [
    "# clinial group composition\n",
    "pat_color_map <- c('R' = '#0073C2FF', 'PR' = '#EFC000FF', 'unknown' = 'gray50')\n",
    "clin_gp_composition <- cell_info %>% \n",
    "    add_clin_info(ftsv = f_pat_gp, columns = gp, merge_by = 'patient') %>%\n",
    "    select(celltype = celltype3, color_by = .data[[gp]]) %>% \n",
    "    mutate(color_by = case_when(\n",
    "        is.na(color_by) ~ 'unknown',\n",
    "        color_by %in% c('Out', 'NA') ~ 'unknown',\n",
    "        TRUE ~ color_by\n",
    "    )) %>% \n",
    "    count(celltype, color_by, name = 'n_cell') %>%\n",
    "    merge(leaf_coord, by.x = 'celltype', by.y = 'leaf') %>%\n",
    "    mutate(color_by = factor(color_by, names(pat_color_map)))\n",
    "# patient cell composintion barplot\n",
    "p_pat_cc <- ggplot(data = clin_gp_composition, aes(x = n_cell, y = yval, fill = color_by)) +\n",
    "    geom_bar(stat = 'identity', orientation = 'y', position = 'fill') +\n",
    "    scale_fill_manual(values = pat_color_map) +\n",
    "    labs(title = 'response group', fill = '') +\n",
    "    guides(fill = guide_legend(ncol = 1)) +\n",
    "    theme(legend.position = 'top', legend.justification = 'left')"
   ]
  },
  {
   "cell_type": "code",
   "execution_count": 20,
   "id": "0378cce2-6362-4fef-80f1-918d024034e5",
   "metadata": {
    "tags": [],
    "vscode": {
     "languageId": "r"
    }
   },
   "outputs": [],
   "source": [
    "# sample type composition\n",
    "samp_gp_composition <- cell_info %>%\n",
    "    mutate(sample_type = factor(case_match(sample_type, 'Baseline' ~ 'pre', 'Treat' ~ 'post'), c('pre', 'post'))) %>% \n",
    "    select(celltype = celltype3, color_by = sample_type) %>% \n",
    "    count(celltype, color_by, name = 'n_cell') %>%\n",
    "    merge(leaf_coord, by.x = 'celltype', by.y = 'leaf')\n",
    "# patient cell composintion barplot\n",
    "p_samp_cc <- ggplot(data = samp_gp_composition, aes(x = n_cell, y = yval, fill = color_by)) +\n",
    "    geom_bar(stat = 'identity', orientation = 'y', position = 'fill') +\n",
    "    scale_fill_nejm() +\n",
    "    labs(title = 'sample type', fill = '') +\n",
    "    guides(fill = guide_legend(ncol = 1)) +\n",
    "    theme(legend.position = 'top', legend.justification = 'left')"
   ]
  },
  {
   "cell_type": "code",
   "execution_count": 25,
   "id": "b0aab679-9282-4ba4-a473-74e9dcc43cc2",
   "metadata": {
    "tags": [],
    "vscode": {
     "languageId": "r"
    }
   },
   "outputs": [],
   "source": [
    "p <- p_tree + p_cell_cnt + p_cell_frac + p_pat_cc + p_samp_cc + \n",
    "    plot_layout(nrow = 1, widths = c(3.5, 1, 1, 1.5, 1.5))\n",
    "ggsave(filename = str_glue('{outdir}/fig1e-subtype_overview.pdf'), height = 25, width = 12, plot = p)"
   ]
  },
  {
   "cell_type": "code",
   "execution_count": null,
   "id": "71b8cfbc",
   "metadata": {
    "vscode": {
     "languageId": "python"
    }
   },
   "outputs": [],
   "source": []
  }
 ],
 "metadata": {
  "kernelspec": {
   "display_name": "r_env",
   "language": "R",
   "name": "r_env"
  },
  "language_info": {
   "codemirror_mode": "r",
   "file_extension": ".r",
   "mimetype": "text/x-r-source",
   "name": "R",
   "pygments_lexer": "r",
   "version": "4.1.3"
  }
 },
 "nbformat": 4,
 "nbformat_minor": 5
}

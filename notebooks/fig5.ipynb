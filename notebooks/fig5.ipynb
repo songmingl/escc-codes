{
 "cells": [
  {
   "cell_type": "markdown",
   "id": "4e78bb62-b115-43fd-9fb7-c826ee2811a4",
   "metadata": {
    "tags": []
   },
   "source": [
    "# figure 5 vlz\n",
    "\n",
    "- kernel: r_env, R 4.1.3\n",
    "- date: 2024-02-05\n",
    "- desc: part of fig4-new & fig4"
   ]
  },
  {
   "cell_type": "markdown",
   "id": "0e59ed14-a3c3-49a6-8411-ae918b67af3b",
   "metadata": {
    "tags": []
   },
   "source": [
    "## load"
   ]
  },
  {
   "cell_type": "code",
   "execution_count": 6,
   "id": "95697196-8cfb-4a41-9105-a25a0d5c0baf",
   "metadata": {
    "tags": [],
    "vscode": {
     "languageId": "r"
    }
   },
   "outputs": [],
   "source": [
    "library(tidyverse)\n",
    "library(logging)\n",
    "library(ggpubr)\n",
    "library(ggsci)\n",
    "library(patchwork)\n",
    "\n",
    "source('../../stage2/scripts/r_funcs.r')\n",
    "\n",
    "theme_set(theme_pubr())\n",
    "logging::basicConfig()\n",
    "options(warn = -1)\n",
    "\n",
    "outdir <- '../figures/fig5'\n",
    "create_dir(outdir)"
   ]
  },
  {
   "cell_type": "code",
   "execution_count": 7,
   "id": "a861c9a0-c519-47c3-8d7b-1e864e2ec231",
   "metadata": {
    "tags": [],
    "vscode": {
     "languageId": "r"
    }
   },
   "outputs": [],
   "source": [
    "f_pat_gp <- '../tables/patient_info_v2.tsv'\n",
    "gp <- 'response'\n",
    "gp_lvls$response <- c('R', 'PR')\n",
    "gp_comp_map$response <- list(\n",
    "  c('R-pre', 'R-post'),\n",
    "  c('PR-pre', 'PR-post'),\n",
    "  c('R-pre', 'PR-pre'),\n",
    "  c('R-post', 'PR-post')\n",
    ")\n",
    "gp_comp_diff_map$response <- list(c('R', 'PR'))\n",
    "gp_comp_map_pre$response <- list(c('R-pre', 'PR-pre'))\n",
    "comb_order <- c('R-pre', 'R-post', 'PR-pre', 'PR-post')"
   ]
  },
  {
   "cell_type": "code",
   "execution_count": 8,
   "id": "b6b88380-c498-4bb0-9702-737bb7ae5776",
   "metadata": {
    "tags": [],
    "vscode": {
     "languageId": "r"
    }
   },
   "outputs": [],
   "source": [
    "celltype_map <- list(\n",
    "    'T_MKI67' = c('T_Prolif')\n",
    ")\n",
    "\n",
    "cell_state_map <- list(\n",
    "    'cytotoxic' = c('CD8_ANXA1', 'CD8_CCL5', 'CD8_CX3CR1', 'CD8_FOS', 'CD8_GZMK', 'CD8_KLRB1'),\n",
    "    'exhausted' = c('CD4_CXCL13', 'CD8_CXCL13', 'CD8_TYMS', 'T_MKI67', 'Treg_TNFRSF4'),\n",
    "    'dying' = c('T_Mito'),\n",
    "    'others' = c('CD4_KLRB1', 'CD8_CD74', 'CD8_IFIT1', 'T_IL7R', 'T_Ribo', 'Treg_LTB')\n",
    ")\n",
    "cell_state_order <- c('cytotoxic', 'exhausted', 'dying', 'others')\n",
    "cell_state_color <- c('exhausted' = '#023fa5', 'cytotoxic' = 'red', \n",
    "                      'dying' = '#bb7784', 'others' = '#ff9639')"
   ]
  },
  {
   "cell_type": "markdown",
   "id": "0bf0233d-7903-44fb-bda7-cb44dbecab9a",
   "metadata": {
    "jp-MarkdownHeadingCollapsed": true,
    "tags": []
   },
   "source": [
    "## 5a: pseudo forest plot"
   ]
  },
  {
   "cell_type": "markdown",
   "id": "4f40aeb0-ccbc-410d-ae2a-ca47e85862e4",
   "metadata": {
    "jp-MarkdownHeadingCollapsed": true,
    "tags": []
   },
   "source": [
    "### functions"
   ]
  },
  {
   "cell_type": "code",
   "execution_count": 4,
   "id": "63da4628-a61e-44ad-ae6e-c5320c31b6c5",
   "metadata": {
    "tags": [],
    "vscode": {
     "languageId": "r"
    }
   },
   "outputs": [],
   "source": [
    "cal_stat <- function(x, y) {\n",
    "    t_obj <- t.test(x = x, y = y)\n",
    "    res <- data.frame(\n",
    "        mean_diff = t_obj$estimate[1] - t_obj$estimate[2],\n",
    "        conf_int_upper = t_obj$conf.int[2],\n",
    "        conf_int_lower = t_obj$conf.int[1],\n",
    "        stderr = t_obj$stderr,\n",
    "        pval = t_obj$p.value\n",
    "    )\n",
    "    return(res)\n",
    "}"
   ]
  },
  {
   "cell_type": "markdown",
   "id": "0a9f0e53-762f-45e3-86eb-64532b0ed92b",
   "metadata": {
    "jp-MarkdownHeadingCollapsed": true,
    "tags": []
   },
   "source": [
    "### expansion\n",
    "\n",
    "no NK cells, paird patients, delta (good-poor) of post-pre delta expand in subtype"
   ]
  },
  {
   "cell_type": "code",
   "execution_count": 7,
   "id": "785a1016-b5d2-4da3-a333-8b6d8823d2f3",
   "metadata": {
    "tags": [],
    "vscode": {
     "languageId": "r"
    }
   },
   "outputs": [
    {
     "name": "stdout",
     "output_type": "stream",
     "text": [
      "\u001b[0m2024-02-05 17:04:58 INFO::these clinial info will be added: response\u001b[0m\u001b[22m\u001b[23m\u001b[24m\u001b[27m\u001b[28m\u001b[29m\u001b[39m\u001b[49m\u001b[0m\u001b[0m\u001b[22m\u001b[23m\u001b[24m\u001b[27m\u001b[28m\u001b[29m\u001b[39m\u001b[49m\n",
      "\u001b[0m2024-02-05 17:04:58 INFO::411 records, 28 patients, 18 celltypes\u001b[0m\u001b[22m\u001b[23m\u001b[24m\u001b[27m\u001b[28m\u001b[29m\u001b[39m\u001b[49m\u001b[0m\u001b[0m\u001b[22m\u001b[23m\u001b[24m\u001b[27m\u001b[28m\u001b[29m\u001b[39m\u001b[49m\n"
     ]
    }
   ],
   "source": [
    "f_expand_diff <- '../../stage4/a03_tcr/expansion/diff_expandPct_min10.csv'\n",
    "\n",
    "# post-pre delta\n",
    "df_delta <- read_csv(f_expand_diff, show_col_types = F) %>% \n",
    "    filter(!grepl('^NK', subtype)) %>%\n",
    "    select(patient, subtype, Baseline, Treat, pct_expand_diff) %>%\n",
    "    add_clin_info(ftsv = f_pat_gp, columns = gp, merge_by = 'patient')\n",
    "\n",
    "for (nm in names(celltype_map)) {\n",
    "    df_delta$subtype[df_delta$subtype %in% celltype_map[[nm]]] <- nm\n",
    "}\n",
    "loginfo('%g records, %g patients, %g celltypes', nrow(df_delta), length(unique(df_delta$patient)), length(unique(df_delta$subtype)))"
   ]
  },
  {
   "cell_type": "code",
   "execution_count": 9,
   "id": "eb174283-d7cc-4912-9864-655579d1243e",
   "metadata": {
    "tags": [],
    "vscode": {
     "languageId": "r"
    }
   },
   "outputs": [],
   "source": [
    "df_delta %>% write_tsv(str_glue('{outdir}/fig5a-expand_in_subtype-post_pre_delta.tsv'))"
   ]
  },
  {
   "cell_type": "code",
   "execution_count": 10,
   "id": "db566e41-a752-464e-8c60-6cb2caaea541",
   "metadata": {
    "tags": [],
    "vscode": {
     "languageId": "r"
    }
   },
   "outputs": [
    {
     "name": "stdout",
     "output_type": "stream",
     "text": [
      "\u001b[0m2024-02-05 17:05:47 INFO::18 records, 18 celltypes\u001b[0m\u001b[22m\u001b[23m\u001b[24m\u001b[27m\u001b[28m\u001b[29m\u001b[39m\u001b[49m\u001b[0m\u001b[0m\u001b[22m\u001b[23m\u001b[24m\u001b[27m\u001b[28m\u001b[29m\u001b[39m\u001b[49m\n"
     ]
    }
   ],
   "source": [
    "# cal stat by subtype\n",
    "res <- do.call(rbind.data.frame, lapply(X = unique(df_delta$subtype), FUN = function(ctype) {\n",
    "    cal_stat(x = filter(df_delta, subtype == ctype, .data[[gp]] == 'R') %>% pull(pct_expand_diff),\n",
    "             y = filter(df_delta, subtype == ctype, .data[[gp]] == 'PR') %>% pull(pct_expand_diff)) %>%\n",
    "    mutate(subtype = ctype)\n",
    "}))\n",
    "# add cell state info\n",
    "res$cell_state <- 'others'\n",
    "for (nm in names(cell_state_map)){\n",
    "    res$cell_state[res$subtype %in% cell_state_map[[nm]]] <- nm\n",
    "}\n",
    "loginfo('%g records, %g celltypes', nrow(res), length(unique(res$subtype)))\n",
    "res %>% write_tsv(str_glue('{outdir}/fig5a-expand_in_subtype-delta_delta-stat.tsv'))"
   ]
  },
  {
   "cell_type": "code",
   "execution_count": 14,
   "id": "94ee3abe-6d54-4d7f-b329-4fac276b8b73",
   "metadata": {
    "tags": [],
    "vscode": {
     "languageId": "r"
    }
   },
   "outputs": [],
   "source": [
    "p <- read_tsv(str_glue('{outdir}/fig5a-expand_in_subtype-delta_delta-stat.tsv'), show_col_types = F) %>%\n",
    "    mutate(subtype = factor(subtype, levels = unlist(cell_state_map)), \n",
    "           cell_state = factor(cell_state, levels = names(cell_state_map))) %>%\n",
    "    ggplot(aes(x = mean_diff, y = subtype, color = cell_state, label = subtype)) +\n",
    "        geom_pointrange(aes(xmin = conf_int_lower, xmax = conf_int_upper), linewidth = 1, size = 1.5, shape = 18) +\n",
    "        geom_vline(xintercept = 0, color = 'black') +\n",
    "        geom_text(color = 'black', size = 3.5, nudge_x = -5, nudge_y = 0.3) +\n",
    "        scale_color_manual(values = cell_state_color) +\n",
    "        guides(color = guide_legend(ncol = 2, title.position = 'top')) +\n",
    "        labs(x = bquote(atop(Delta~'expanded cell percent', '(post - pre)')), y = '', color = 'Cell state') + \n",
    "        theme(axis.line.y = element_blank(), axis.text.y = element_blank(), axis.ticks.y = element_blank())\n",
    "ggsave(filename = str_glue('{outdir}/fig5a-pseudo_forest-expand_in_subtype-delta_delta.pdf'), plot = p, width = 2.5, height = 7)"
   ]
  },
  {
   "cell_type": "markdown",
   "id": "1af3f9dd-77ac-458b-825a-938610d07e6c",
   "metadata": {
    "jp-MarkdownHeadingCollapsed": true,
    "tags": []
   },
   "source": [
    "## 5b: boxplot for CD8_CX3CR1\n",
    "\n",
    "- diversity, diff of expand, expansion percent"
   ]
  },
  {
   "cell_type": "code",
   "execution_count": 1,
   "id": "2faaa680-c1e2-4e6a-9fe3-f0d2d03c6709",
   "metadata": {
    "tags": [],
    "vscode": {
     "languageId": "r"
    }
   },
   "outputs": [],
   "source": [
    "f_expand <- '../../stage4/a03_tcr/expansion/expand_cell_pct.csv'\n",
    "f_expand_diff <- '../figures/fig5/fig5a-expand_in_subtype-post_pre_delta.tsv'  # this is based on min10 cells results\n",
    "f_diversity <- '../../stage4/a03_tcr/diversity/shannon_way2_min10.csv'\n",
    "\n",
    "min_cell_per_sample_subtype <- 10"
   ]
  },
  {
   "cell_type": "markdown",
   "id": "50d37f31-8f07-4f60-8fee-f7474a375c5f",
   "metadata": {
    "tags": []
   },
   "source": [
    "### expand in cluster"
   ]
  },
  {
   "cell_type": "code",
   "execution_count": 26,
   "id": "a8db507e-f22b-4ef6-992b-a1a407be27f4",
   "metadata": {
    "tags": [],
    "vscode": {
     "languageId": "r"
    }
   },
   "outputs": [
    {
     "name": "stdout",
     "output_type": "stream",
     "text": [
      "\u001b[0m2024-02-05 17:12:18 INFO::these clinial info will be added: response\u001b[0m\u001b[22m\u001b[23m\u001b[24m\u001b[27m\u001b[28m\u001b[29m\u001b[39m\u001b[49m\u001b[0m\u001b[0m\u001b[22m\u001b[23m\u001b[24m\u001b[27m\u001b[28m\u001b[29m\u001b[39m\u001b[49m\n",
      "\u001b[0m2024-02-05 17:12:18 INFO::73 samples for CD8_CX3CR1\u001b[0m\u001b[22m\u001b[23m\u001b[24m\u001b[27m\u001b[28m\u001b[29m\u001b[39m\u001b[49m\u001b[0m\u001b[0m\u001b[22m\u001b[23m\u001b[24m\u001b[27m\u001b[28m\u001b[29m\u001b[39m\u001b[49m\n"
     ]
    }
   ],
   "source": [
    "# process\n",
    "df <- read_csv(f_expand, show_col_types = F) %>%\n",
    "    filter(subtype == 'CD8_CX3CR1') %>%\n",
    "    filter(n_cell_per_sample_subtype >= min_cell_per_sample_subtype) %>%\n",
    "    select(patient, sample_type, n_expand_cell_per_sample_stype, n_cell_per_sample_subtype,\n",
    "           pct_in_cluster = pct_by_subtype, pct_in_sample = pct_by_sample) %>% \n",
    "    add_clin_info(ftsv = f_pat_gp, columns = gp, merge_by = 'patient') %>%\n",
    "    mutate(sample_type = case_match(sample_type, 'Baseline' ~ 'pre', 'Treat' ~ 'post'))\n",
    "loginfo('%g samples for CD8_CX3CR1', nrow(df))\n",
    "df %>% write_tsv(str_glue('{outdir}/fig5b-expand_pct-cd8_cx3cr1-min{min_cell_per_sample_subtype}.tsv'))"
   ]
  },
  {
   "cell_type": "code",
   "execution_count": 27,
   "id": "1dd4fbba-b6dc-4162-96e2-1f8d5dd326f0",
   "metadata": {
    "tags": [],
    "vscode": {
     "languageId": "r"
    }
   },
   "outputs": [],
   "source": [
    "# plot\n",
    "p <- read_tsv(str_glue('{outdir}/fig5b-expand_pct-cd8_cx3cr1-min{min_cell_per_sample_subtype}.tsv'), show_col_types = F) %>% \n",
    "    filter(!is.na(.data[[gp]])) %>% \n",
    "    cell_comp_boxplot(x = c(gp, 'sample_type'), y = 'pct_in_cluster', pt_fill = gp, facet_by = NULL,\n",
    "                      xorder = comb_order, fill_order = gp_lvls[[gp]], xangle = 60) +\n",
    "    stat_compare_means(comparisons = gp_comp_map[[gp]]) +\n",
    "    labs(y = 'Expanded cell percent in CD8_CX3CR1', fill = 'Response')\n",
    "ggsave(filename = str_glue('{outdir}/fig5b-box_expand-in_cluster-cx3cr1.pdf'), plot = p, width = 3, height = 4.5)"
   ]
  },
  {
   "cell_type": "markdown",
   "id": "ad21530c-1a0a-4bdd-ba74-a81cd383aa07",
   "metadata": {
    "tags": []
   },
   "source": [
    "### expand diff in cluster"
   ]
  },
  {
   "cell_type": "code",
   "execution_count": null,
   "id": "4ea6be53-8728-4f93-ba9e-4f58ada83cc5",
   "metadata": {
    "tags": [],
    "vscode": {
     "languageId": "r"
    }
   },
   "outputs": [],
   "source": [
    "p <- read_tsv(f_expand_diff, show_col_types = F) %>% \n",
    "    filter(subtype == 'CD8_CX3CR1') %>%\n",
    "    filter(!is.na(.data[[gp]])) %>% \n",
    "    cell_comp_boxplot(x = gp, y = 'pct_expand_diff', pt_fill = gp, pair_by = NULL, facet_by = NULL,\n",
    "                      xorder = gp_lvls[[gp]], fill_order = gp_lvls[[gp]], xangle = 60) +\n",
    "    stat_compare_means(comparisons = gp_comp_diff_map[[gp]]) +\n",
    "    labs(y = bquote(atop(Delta~'expanded cell percent in CD8_CX3CR1', '(post - pre)')), fill = 'Response') +\n",
    "    theme(legend.justification = c(1, 0))\n",
    "ggsave(filename = str_glue('{outdir}/fig5b-box_expand_diff-cx3cr1.pdf'), plot = p, width = 3, height = 4.5)"
   ]
  },
  {
   "cell_type": "markdown",
   "id": "019df3db-7f22-4970-be59-7391a16eb517",
   "metadata": {
    "tags": []
   },
   "source": [
    "### diversity: shannon index"
   ]
  },
  {
   "cell_type": "code",
   "execution_count": 29,
   "id": "26bc9103-18bd-4314-91fe-d655081c9405",
   "metadata": {
    "tags": [],
    "vscode": {
     "languageId": "r"
    }
   },
   "outputs": [
    {
     "name": "stdout",
     "output_type": "stream",
     "text": [
      "\u001b[0m2024-02-05 17:13:39 INFO::these clinial info will be added: response\u001b[0m\u001b[22m\u001b[23m\u001b[24m\u001b[27m\u001b[28m\u001b[29m\u001b[39m\u001b[49m\u001b[0m\u001b[0m\u001b[22m\u001b[23m\u001b[24m\u001b[27m\u001b[28m\u001b[29m\u001b[39m\u001b[49m\n",
      "\u001b[0m2024-02-05 17:13:39 INFO::73 samples for CD8_CX3CR1\u001b[0m\u001b[22m\u001b[23m\u001b[24m\u001b[27m\u001b[28m\u001b[29m\u001b[39m\u001b[49m\u001b[0m\u001b[0m\u001b[22m\u001b[23m\u001b[24m\u001b[27m\u001b[28m\u001b[29m\u001b[39m\u001b[49m\n"
     ]
    }
   ],
   "source": [
    "# process\n",
    "df <- read_csv(f_diversity, show_col_types = F) %>%\n",
    "    filter(subtype == 'CD8_CX3CR1') %>%\n",
    "    select(patient, sample_type, shannon) %>% \n",
    "    add_clin_info(ftsv = f_pat_gp, columns = gp, merge_by = 'patient') %>%\n",
    "    mutate(sample_type = case_match(sample_type, 'Baseline' ~ 'pre', 'Treat' ~ 'post'))\n",
    "\n",
    "loginfo('%g samples for CD8_CX3CR1', nrow(df))\n",
    "df %>% write_tsv(str_glue('{outdir}/fig5b-diversity-cd8_cx3cr1-min{min_cell_per_sample_subtype}.tsv'))"
   ]
  },
  {
   "cell_type": "code",
   "execution_count": 30,
   "id": "714fa130-12aa-437c-8064-74038c6548a1",
   "metadata": {
    "tags": [],
    "vscode": {
     "languageId": "r"
    }
   },
   "outputs": [],
   "source": [
    "p <- read_tsv(str_glue('{outdir}/fig5b-diversity-cd8_cx3cr1-min{min_cell_per_sample_subtype}.tsv'), show_col_types = F) %>% \n",
    "    filter(!is.na(.data[[gp]])) %>% \n",
    "    cell_comp_boxplot(x = c(gp, 'sample_type'), y = 'shannon', pt_fill = gp, facet_by = NULL,\n",
    "                      xorder = comb_order, fill_order = gp_lvls[[gp]], xangle = 45) +\n",
    "    stat_compare_means(comparisons = gp_comp_map[[gp]]) +\n",
    "    labs(y = 'Shannon index', fill = 'Response')\n",
    "ggsave(filename = str_glue('{outdir}/fig5b-box_diversity-cx3cr1.pdf'), plot = p, width = 3, height = 4.5)"
   ]
  },
  {
   "cell_type": "markdown",
   "id": "50efd3aa-4c15-4fa1-99d0-4b23c0b466dc",
   "metadata": {
    "jp-MarkdownHeadingCollapsed": true,
    "tags": []
   },
   "source": [
    "## 5c: cyto/exhau score by A/B share/specific clones\n",
    "\n",
    "- group cells by TCR sharing type: A/B-share/specific (A = CD8_CX3CR1)\n",
    "- cyto/exhau summarise at cell level by TCR sharing type & sample & functional group"
   ]
  },
  {
   "cell_type": "code",
   "execution_count": 41,
   "id": "047b76b4-a555-4499-ae1a-60eb32742c1f",
   "metadata": {
    "tags": [],
    "vscode": {
     "languageId": "r"
    }
   },
   "outputs": [],
   "source": [
    "f_info <- '../../stage4/a05_clone_share/a_b_share_old/clone_cat_to_CD8_CX3CR1_per_cell.csv'\n",
    "comp_ls <- list(\n",
    "    c('A-specific', 'A-shared'),\n",
    "    c('A-shared', 'B-shared'),\n",
    "    c('B-specific', 'B-shared'),\n",
    "    c('A-specific', 'B-shared')\n",
    ")\n",
    "group_order <- c('A-specific', 'A-shared', 'B-shared', 'B-specific')"
   ]
  },
  {
   "cell_type": "code",
   "execution_count": 42,
   "id": "43009298-a46e-437d-8aae-abb69c6583d5",
   "metadata": {
    "tags": [],
    "vscode": {
     "languageId": "r"
    }
   },
   "outputs": [
    {
     "name": "stdout",
     "output_type": "stream",
     "text": [
      "\u001b[0m2024-02-05 18:00:08 INFO::256399 records\u001b[0m\u001b[22m\u001b[23m\u001b[24m\u001b[27m\u001b[28m\u001b[29m\u001b[39m\u001b[49m\u001b[0m\u001b[0m\u001b[22m\u001b[23m\u001b[24m\u001b[27m\u001b[28m\u001b[29m\u001b[39m\u001b[49m\n"
     ]
    }
   ],
   "source": [
    "# process\n",
    "clone_info <- read_csv(f_info, show_col_types = F) %>% \n",
    "    filter(!grepl('^NK', compare_with))  # no NK cells\n",
    "# rename cell types\n",
    "for (nm in names(celltype_map)) {\n",
    "    clone_info$subtype[clone_info$subtype %in% celltype_map[[nm]]] <- nm\n",
    "    clone_info$compare_with[clone_info$compare_with %in% celltype_map[[nm]]] <- nm\n",
    "}\n",
    "# add cell state info\n",
    "clone_info$cell_state <- 'unknown'\n",
    "for (nm in names(cell_state_map)) {\n",
    "    clone_info$cell_state[clone_info$compare_with %in% cell_state_map[[nm]]] <- nm\n",
    "}\n",
    "clone_info$cell_state[clone_info$cell_state == 'cytotoxic'] <- 'other cytotoxic'\n",
    "loginfo('%g records', nrow(clone_info))"
   ]
  },
  {
   "cell_type": "code",
   "execution_count": 45,
   "id": "503987c6-4048-493d-9990-7c43def4bdf5",
   "metadata": {
    "tags": [],
    "vscode": {
     "languageId": "r"
    }
   },
   "outputs": [
    {
     "name": "stdout",
     "output_type": "stream",
     "text": [
      "\u001b[0m2024-02-05 18:00:50 INFO::these clinial info will be added: response\u001b[0m\u001b[22m\u001b[23m\u001b[24m\u001b[27m\u001b[28m\u001b[29m\u001b[39m\u001b[49m\u001b[0m\u001b[0m\u001b[22m\u001b[23m\u001b[24m\u001b[27m\u001b[28m\u001b[29m\u001b[39m\u001b[49m\n",
      "\u001b[0m2024-02-05 18:00:50 INFO::1183 records after summrizing\u001b[0m\u001b[22m\u001b[23m\u001b[24m\u001b[27m\u001b[28m\u001b[29m\u001b[39m\u001b[49m\u001b[0m\u001b[0m\u001b[22m\u001b[23m\u001b[24m\u001b[27m\u001b[28m\u001b[29m\u001b[39m\u001b[49m\n"
     ]
    }
   ],
   "source": [
    "# calculate median score & define as A/B-share/specific\n",
    "df <- clone_info %>% \n",
    "    mutate(rep_ctype = if_else(subtype == 'CD8_CX3CR1', 'A', 'B')) %>% \n",
    "    unite(col = 'cell_group', rep_ctype, clone_cat2a, sep = '-', remove = F) %>% \n",
    "    summarise(.by = c('sample', 'patient', 'sample_type', 'cell_state', 'cell_group', 'clone_cat2a'),\n",
    "              exhau_score = median(exhau),\n",
    "              cyto_score = median(cyto)) %>%\n",
    "    add_clin_info(ftsv = f_pat_gp, columns = gp, merge_by = 'patient') %>%\n",
    "    mutate(sample_type = case_match(sample_type, 'Baseline' ~ 'pre', 'Treat' ~ 'post'))\n",
    "df %>% write_tsv(str_glue('{outdir}/fig5c-cyto_exhau_score-cell_state.tsv'))\n",
    "loginfo('%g records after summrizing', nrow(df))"
   ]
  },
  {
   "cell_type": "code",
   "execution_count": null,
   "id": "450e3910-1e79-4137-aa1b-b9904340b8d1",
   "metadata": {
    "tags": [],
    "vscode": {
     "languageId": "r"
    }
   },
   "outputs": [],
   "source": [
    "# plot\n",
    "ylab_map <- list('cyto_score' = 'Cytotoxicity score', 'exhau_score' = 'Exhaustion score')\n",
    "df <- read_tsv(str_glue('{outdir}/fig5c-cyto_exhau_score-cell_state.tsv'), show_col_types = F) %>%\n",
    "    mutate(cell_state = factor(cell_state, levels = c('other cytotoxic', 'exhausted', 'dying', 'others')),\n",
    "           cell_group = factor(cell_group, levels = group_order))\n",
    "p_ls <- lapply(X = names(ylab_map), FUN = function(ycol) {\n",
    "    ggplot(data = df, aes(x = cell_group, y = .data[[ycol]])) +\n",
    "    geom_boxplot(aes(fill = clone_cat2a), outlier.shape = NA) +\n",
    "    # geom_jitter(size = 1.5, alpha = 0.5, width = 0.25) +\n",
    "    facet_wrap(~ cell_state, nrow = 1) +\n",
    "    stat_compare_means(comparisons = comp_ls) +\n",
    "    labs(y = ylab_map[[ycol]], fill = 'TCR Shared Type') +\n",
    "    theme(axis.text.x = element_text(angle = 45, hjust = .95), axis.title.x = element_blank())\n",
    "})\n",
    "ggsave(filename = str_glue('{outdir}/fig5c-box_cyto_exhau_score-a_b_share.pdf'), \n",
    "       plot = wrap_plots(p_ls, ncol = 1, guides = 'collect'), width = 14, height = 9)"
   ]
  },
  {
   "cell_type": "markdown",
   "id": "8c62ab77",
   "metadata": {
    "vscode": {
     "languageId": "r"
    }
   },
   "source": [
    "## 5d: experimental, CXCL13 CD8 in CD8 total"
   ]
  },
  {
   "cell_type": "code",
   "execution_count": null,
   "id": "82f7d911",
   "metadata": {
    "vscode": {
     "languageId": "r"
    }
   },
   "outputs": [],
   "source": [
    "raw_file <- '/nfs_beijing_td/nfsshare/nfshome/zhe/Ana/240110_ESCC_externalData/staining_raw/1-8-MERGE_cell_seg_data.txt'\n",
    "sample_file <- '/nfs_beijing_td/nfsshare/nfshome/zhe/Ana/240110_ESCC_externalData/staining_raw/1-8-过滤后保留的MSI视野.xlsx'\n",
    "cx3cl1_staining_file <- '/nfs_beijing_td/nfsshare/nfshome/zhe/Ana/240110_ESCC_externalData/staining_1_CX3CL1.tsv'\n",
    "patient_file <- '/nfs_beijing_td/nfsshare/nfshome/zhe/Ana/240110_ESCC_externalData/staining_1-8_patientTbl.tsv'"
   ]
  },
  {
   "cell_type": "code",
   "execution_count": null,
   "id": "919b9aa2",
   "metadata": {
    "vscode": {
     "languageId": "r"
    }
   },
   "outputs": [],
   "source": [
    "df_pat <- read_tsv(patient_file, show_col_types = F) %>%\n",
    "    mutate(RVT = as.numeric(gsub('%', '', RVT)) / 100)"
   ]
  },
  {
   "cell_type": "code",
   "execution_count": null,
   "id": "0be65783",
   "metadata": {
    "vscode": {
     "languageId": "r"
    }
   },
   "outputs": [
    {
     "data": {
      "text/html": [
       "<style>\n",
       ".list-inline {list-style: none; margin:0; padding: 0}\n",
       ".list-inline>li {display: inline-block}\n",
       ".list-inline>li:not(:last-child)::after {content: \"\\00b7\"; padding: 0 .5ex}\n",
       "</style>\n",
       "<ol class=list-inline><li>1157967</li><li>141</li></ol>\n"
      ],
      "text/latex": [
       "\\begin{enumerate*}\n",
       "\\item 1157967\n",
       "\\item 141\n",
       "\\end{enumerate*}\n"
      ],
      "text/markdown": [
       "1. 1157967\n",
       "2. 141\n",
       "\n",
       "\n"
      ],
      "text/plain": [
       "[1] 1157967     141"
      ]
     },
     "metadata": {},
     "output_type": "display_data"
    }
   ],
   "source": [
    "valid_samples <- readxl::read_xlsx(sample_file, sheet = 1) %>%\n",
    "    pull('Sample Name')\n",
    "df_raw <- read_tsv(raw_file, show_col_types = F) %>% \n",
    "    filter(`Sample Name` %in% valid_samples)\n",
    "colnames(df_raw) <- gsub(\" \\\\(Normalized Counts, Total Weighting\\\\)\", \"\", colnames(df_raw))\n",
    "dim(df_raw)"
   ]
  },
  {
   "cell_type": "code",
   "execution_count": null,
   "id": "50f8f39d",
   "metadata": {
    "vscode": {
     "languageId": "r"
    }
   },
   "outputs": [],
   "source": [
    "# Use sub to extract the number between '-' and '_'\n",
    "df_raw$exp_id <- sub(\".*-(\\\\d+)_.*\", \"\\\\1\", df_raw$'Sample Name')\n",
    "df_raw$code_id = df_pat$code_id[match(df_raw$exp_id, df_pat$exp_id)]\n",
    "\n",
    "# #constructure raw1 measurement table\n",
    "# raw1_measurements=colnames(df_raw)[17:133]\n",
    "# measurement_df1=label_processing(raw1_measurements)"
   ]
  },
  {
   "cell_type": "code",
   "execution_count": null,
   "id": "c4cb5ed4",
   "metadata": {
    "vscode": {
     "languageId": "r"
    }
   },
   "outputs": [
    {
     "data": {
      "text/html": [
       "<style>\n",
       ".list-inline {list-style: none; margin:0; padding: 0}\n",
       ".list-inline>li {display: inline-block}\n",
       ".list-inline>li:not(:last-child)::after {content: \"\\00b7\"; padding: 0 .5ex}\n",
       "</style>\n",
       "<ol class=list-inline><li>1157967</li><li>10</li></ol>\n"
      ],
      "text/latex": [
       "\\begin{enumerate*}\n",
       "\\item 1157967\n",
       "\\item 10\n",
       "\\end{enumerate*}\n"
      ],
      "text/markdown": [
       "1. 1157967\n",
       "2. 10\n",
       "\n",
       "\n"
      ],
      "text/plain": [
       "[1] 1157967      10"
      ]
     },
     "metadata": {},
     "output_type": "display_data"
    }
   ],
   "source": [
    "col_name_map <- c(\n",
    "    sample_id=\"Sample Name\",\n",
    "    CX3CR1_total = \"Membrane CX3CR1 (Opal 570) Total\",\n",
    "    CX3CR1_mean = \"Membrane CX3CR1 (Opal 570) Mean\",\n",
    "    CD8_total = \"Membrane CD8 (Opal 620) Total\",\n",
    "    CD8_mean = \"Membrane CD8 (Opal 620) Mean\",\n",
    "    CX3CL1_mean = \"Membrane CX3CL1 (Opal 540) Mean\",\n",
    "    LYVE1_mean = \"Membrane LYVE1 (Opal 690) Mean\",\n",
    "    CD31_mean = \"Membrane CD31 (Opal 520) Mean\"\n",
    ")\n",
    "df <- df_raw %>% \n",
    "    rename(all_of(col_name_map)) %>% \n",
    "    select(all_of(c('code_id', 'exp_id', names(col_name_map)))) %>% \n",
    "    filter(! (code_id %in% c(136, 137)))\n",
    "df %>% dim"
   ]
  },
  {
   "cell_type": "code",
   "execution_count": null,
   "id": "e2465674",
   "metadata": {
    "vscode": {
     "languageId": "r"
    }
   },
   "outputs": [
    {
     "data": {
      "text/plain": [
       "\n",
       "\tWilcoxon rank sum test with continuity correction\n",
       "\n",
       "data:  a and b\n",
       "W = 2132, p-value = 1.186e-07\n",
       "alternative hypothesis: true location shift is not equal to 0\n"
      ]
     },
     "metadata": {},
     "output_type": "display_data"
    }
   ],
   "source": [
    "CD8_tot_thresh=40\n",
    "CX3CR1_tot_thresh=40\n",
    "df_stat <- df %>%\n",
    "    summarise(\n",
    "        CX3CR1_CD8_in_CD8_total= sum(CX3CR1_total>CX3CR1_tot_thresh & CD8_total>CD8_tot_thresh)/sum(CD8_total>CD8_tot_thresh),\n",
    "        CX3CR1_CD8_in_CD8_mean= sum(CX3CR1_mean>CX3CR1_mean_thresh & CD8_mean>CD8_mean_thresh)/sum(CD8_mean>CD8_mean_thresh),\n",
    "        CX3CR1_CD8_in_all = mean(CX3CR1_mean>CX3CR1_mean_thresh & CD8_mean>CD8_mean_thresh),\n",
    "        CX3CL1_LYVE1_in_LYVE1_mean= sum(CX3CL1_mean>CX3CL1_Memmean_thresh & LYVE1_mean>LYVE1_mean_thresh )/sum(LYVE1_mean>LYVE1_mean_thresh),\n",
    "        CX3CL1_CD31_in_CD31_meann= sum(CX3CL1_mean>CX3CL1_Memmean_thresh & CD31_mean>CD31_mean_thresh )/sum(CD31_mean>CD31_mean_thresh),\n",
    "        CX3CL1_CD31_in_all= mean(CX3CL1_mean>CX3CL1_Memmean_thresh &CD31_mean>CD31_mean_thresh ),\n",
    "        CX3CL1_CD8_in_CD8_mean= sum(CX3CL1_mean>0.3 & CD8_mean>CD8_mean_thresh)/sum(CD8_mean>CD8_mean_thresh),\n",
    "        CX3CL1_CX3CR1_CD8_in_CD8_mean= sum(CX3CL1_mean>0.2 & CX3CR1_mean>CX3CR1_mean_thresh & CD8_mean>CD8_mean_thresh)/sum(CD8_mean>CD8_mean_thresh),\n",
    "        .by=c(code_id, exp_id, sample_id)\n",
    "    ) %>%\n",
    "    merge(df_pat, by = c('code_id', 'exp_id'))\n",
    "code_order <- df_stat %>%\n",
    "    summarise(rank_val = median(CX3CR1_CD8_in_CD8_total), .by = code_id) %>%\n",
    "    arrange(-rank_val) %>%\n",
    "    pull(code_id)\n",
    "# code_order <- c('142', '140', '139', '145', '143', '144', '138', '141')\n",
    "df_stat <- df_stat %>% mutate(code_id = factor(code_id, levels = code_order))\n",
    "\n",
    "p <- ggplot(df_stat, aes(x=code_id,y=CX3CR1_CD8_in_CD8_total, color=RVT)) +\n",
    "    geom_boxplot(outlier.shape = NA) +\n",
    "    geom_jitter(position=position_jitter(0.2),aes(fill=RVT)) +\n",
    "    labs(\n",
    "        # title=str_glue('CXCL13_all_thresh={CXCL13_all_thresh},CD8_tot_thresh={CD8_tot_thresh}')\n",
    "        x = 'Patient ID',\n",
    "        y = 'CX3CR1+ CD8 fraction in total CD8 cells'\n",
    "    ) +\n",
    "    theme_classic() + \n",
    "    theme(axis.text.x = element_text(angle = 60, vjust = 1, hjust=1))\n",
    "ggsave(filename = str_glue('../immunity-figs/fig5/fig5d-box-rvt.pdf'), width = 4, height = 4)\n",
    "a <- df_stat %>% \n",
    "    filter(code_id %in% c('130', '135', '129', '134')) %>% \n",
    "    pull(CX3CR1_CD8_in_CD8_total)\n",
    "b <- df_stat %>% \n",
    "    filter(code_id %in% c('128', '131', '132', '133')) %>% \n",
    "    pull(CX3CR1_CD8_in_CD8_total)\n",
    "wilcox.test(a, b)"
   ]
  },
  {
   "cell_type": "markdown",
   "id": "529e48ce",
   "metadata": {},
   "source": [
    "# previous"
   ]
  },
  {
   "cell_type": "markdown",
   "id": "5f72d239-987b-4dc1-be83-5386285753ef",
   "metadata": {
    "jp-MarkdownHeadingCollapsed": true,
    "tags": []
   },
   "source": [
    "## clone fraction: shared with CD8_CX3CR1 vs shared with non-CD8_CX3CR1: 5d\n",
    "\n",
    "- sharing at sample level\n",
    "- re-calculate clone fraction (based on RNA & TCR data)\n",
    "- exclude CD8_CX3CR1 when plot"
   ]
  },
  {
   "cell_type": "code",
   "execution_count": 48,
   "id": "53c579a6-88e3-4746-b208-b8dfde9cb934",
   "metadata": {
    "tags": [],
    "vscode": {
     "languageId": "r"
    }
   },
   "outputs": [],
   "source": [
    "f_clone_info <- '../../stage4/a05_clone_share/clone_share_old/clone_sharing_info_per_cell.csv'\n",
    "comp_ls <- list(\n",
    "    c('CD8_CX3CR1_shared', 'otherT_shared'), \n",
    "    c('otherT_shared', 'specific'), \n",
    "    c('CD8_CX3CR1_shared', 'specific')\n",
    ")\n",
    "share_type_label_map <- c(\n",
    "    'CD8_CX3CR1_shared' = 'shared with\\nCD8_CX3CR1',\n",
    "    'otherT_shared' = 'shared with\\nnon-CD8_CX3CR1', \n",
    "    'specific' = 'unshared'\n",
    ")"
   ]
  },
  {
   "cell_type": "code",
   "execution_count": 51,
   "id": "470466e1-2b4c-45c0-92c4-e82cbdc6fad3",
   "metadata": {
    "tags": [],
    "vscode": {
     "languageId": "r"
    }
   },
   "outputs": [
    {
     "name": "stdout",
     "output_type": "stream",
     "text": [
      "\u001b[0m2024-02-05 18:06:34 INFO::131179 records of clonotypes in each sample, each subtype\u001b[0m\u001b[22m\u001b[23m\u001b[24m\u001b[27m\u001b[28m\u001b[29m\u001b[39m\u001b[49m\u001b[0m\u001b[0m\u001b[22m\u001b[23m\u001b[24m\u001b[27m\u001b[28m\u001b[29m\u001b[39m\u001b[49m\n"
     ]
    }
   ],
   "source": [
    "# re-calculate clone fraction\n",
    "clone_frac <- read_csv(f_clone_info, show_col_types = F)  %>%\n",
    "    add_count(sample, clonotype, name = 'n_cell_per_sample_clone') %>% \n",
    "    add_count(sample, name = 'n_cell_per_sample') %>% \n",
    "    select(sample, patient, sample_type, subtype, clonotype, share_type, n_cell_per_sample_clone, n_cell_per_sample) %>% \n",
    "    distinct() %>% \n",
    "    mutate(clone_frac_new = n_cell_per_sample_clone / n_cell_per_sample) %>%\n",
    "    filter(subtype != 'CD8_CX3CR1') %>% # no CD8_CX3CR1\n",
    "    mutate(sample_type = case_match(sample_type, 'Baseline' ~ 'pre', 'Treat' ~ 'post'))\n",
    "\n",
    "# rename cell types\n",
    "for (nm in names(celltype_map)) {\n",
    "    clone_frac$subtype[clone_frac$subtype %in% celltype_map[[nm]]] <- nm\n",
    "}\n",
    "# add cell state info\n",
    "clone_frac$cell_state <- 'unknown'\n",
    "for (nm in names(cell_state_map)) {\n",
    "    clone_frac$cell_state[clone_frac$subtype %in% cell_state_map[[nm]]] <- nm\n",
    "}\n",
    "clone_frac$cell_state[clone_frac$cell_state == 'cytotoxic'] <- 'other cytotoxic'\n",
    "\n",
    "clone_frac %>% write_tsv(str_glue('{outdir}/fig5d-tcr_share_inter_subtype-clone_frac_new.tsv'), quote = 'needed')\n",
    "loginfo('%g records of clonotypes in each sample, each subtype', nrow(clone_frac))"
   ]
  },
  {
   "cell_type": "code",
   "execution_count": 53,
   "id": "08191a7a-d8a7-40da-98e2-c4201579ac6e",
   "metadata": {
    "tags": [],
    "vscode": {
     "languageId": "r"
    }
   },
   "outputs": [],
   "source": [
    "# plot\n",
    "p <- read_tsv(str_glue('{outdir}/fig5d-tcr_share_inter_subtype-clone_frac_new.tsv'), show_col_types = F) %>% \n",
    "    mutate(cell_state = factor(cell_state, levels = c('other cytotoxic', 'exhausted', 'dying', 'others')),\n",
    "           share_type = factor(share_type, levels = names(share_type_label_map))) %>%\n",
    "    filter(!grepl('^NK', subtype)) %>%\n",
    "    ggviolin(x = 'share_type', y = 'clone_frac_new', fill = 'share_type', \n",
    "             facet.by = 'cell_state', ncol = 9, add = 'boxplot') + \n",
    "    stat_compare_means(comparisons = comp_ls) +\n",
    "    scale_fill_jco(breaks = names(share_type_label_map), labels = share_type_label_map) +\n",
    "    scale_x_discrete(labels = share_type_label_map) +\n",
    "    scale_y_continuous(trans = 'log10') +  # log10 won't influence wilcoxon test p value\n",
    "    labs(y = 'Clonotype fraction at sample level\\n(RNA & TCR data)', fill = 'TCR sharing type') +\n",
    "    theme(axis.text.x = element_text(angle = 45, hjust = 0.95), axis.title.x = element_blank())\n",
    "ggsave(filename = str_glue('{outdir}/fig5d-vln_tcr_share_inter_subtype-clone_frac_new.pdf'), \n",
    "       plot = p, width = 14, height = 6)"
   ]
  },
  {
   "cell_type": "markdown",
   "id": "56b2b2fe-c04b-4bbd-9301-f99f918341a6",
   "metadata": {
    "tags": []
   },
   "source": [
    "## CX3CL1 expression: 5e-f\n",
    "\n",
    "- date: 2024-01-04"
   ]
  },
  {
   "cell_type": "markdown",
   "id": "b7d04a32-6085-40a5-a7e1-e601a31c626a",
   "metadata": {
    "jp-MarkdownHeadingCollapsed": true,
    "tags": []
   },
   "source": [
    "### dotplot in whole data: 5e"
   ]
  },
  {
   "cell_type": "code",
   "execution_count": 9,
   "id": "8369fc43-1a8d-4da4-b420-cba8ff11479d",
   "metadata": {
    "tags": [],
    "vscode": {
     "languageId": "r"
    }
   },
   "outputs": [],
   "source": [
    "scrna <- readRDS('../../stage4/a01_data/seuobj/whole.rds')"
   ]
  },
  {
   "cell_type": "code",
   "execution_count": 12,
   "id": "01663c58-ee22-47d9-a6aa-cbdeba5ac22b",
   "metadata": {
    "tags": [],
    "vscode": {
     "languageId": "r"
    }
   },
   "outputs": [
    {
     "data": {
      "text/plain": [
       "\n",
       "B & Plasma cells      Endothelial       Epithelial       Fibroblast \n",
       "          103212            44055            75040           111164 \n",
       "         Myeloid          T cells \n",
       "          114636           302025 "
      ]
     },
     "metadata": {},
     "output_type": "display_data"
    }
   ],
   "source": [
    "scrna$celltype <- scrna$cell_type_correct\n",
    "scrna$celltype[scrna$cell_type_correct %in% c('B', 'Plasma')] <- 'B & Plasma cells'\n",
    "scrna$celltype[scrna$cell_type_correct %in% c('T')] <- 'T cells'\n",
    "table(scrna$celltype)"
   ]
  },
  {
   "cell_type": "code",
   "execution_count": 14,
   "id": "ea02dd01-547b-43a3-a25c-a94dd0a085ed",
   "metadata": {
    "tags": [],
    "vscode": {
     "languageId": "r"
    }
   },
   "outputs": [
    {
     "name": "stderr",
     "output_type": "stream",
     "text": [
      "\u001b[1m\u001b[22mScale for \u001b[32mcolour\u001b[39m is already present.\n",
      "Adding another scale for \u001b[32mcolour\u001b[39m, which will replace the existing scale.\n"
     ]
    }
   ],
   "source": [
    "p <- Seurat::DotPlot(scrna, features = 'CX3CL1', group.by = 'celltype') +\n",
    "    scale_color_gsea() +\n",
    "    theme(axis.title = element_blank())\n",
    "ggsave(filename = str_glue('{outdir}/fig5e-dot_exprs-cx3cl1-whole.pdf'), plot = p, width = 3.5, height = 4)"
   ]
  },
  {
   "cell_type": "markdown",
   "id": "526c032a-b78e-4da3-b66f-31598a203c22",
   "metadata": {
    "jp-MarkdownHeadingCollapsed": true,
    "tags": []
   },
   "source": [
    "### pbulk in sample: 5f"
   ]
  },
  {
   "cell_type": "code",
   "execution_count": 37,
   "id": "56fc0a53-1289-4611-9eae-e020350048a7",
   "metadata": {
    "tags": [],
    "vscode": {
     "languageId": "r"
    }
   },
   "outputs": [],
   "source": [
    "f_exprs <- '../../stage4/a04_cx3cl1/tme_exprs/cx3cl1_tme_exprs.tsv'"
   ]
  },
  {
   "cell_type": "code",
   "execution_count": 38,
   "id": "36ec97af-04bb-47e9-bd3b-3fd93385a00d",
   "metadata": {
    "tags": [],
    "vscode": {
     "languageId": "r"
    }
   },
   "outputs": [
    {
     "name": "stdout",
     "output_type": "stream",
     "text": [
      "\u001b[0m2024-02-05 17:19:07 INFO::these clinial info will be added: response\u001b[0m\u001b[22m\u001b[23m\u001b[24m\u001b[27m\u001b[28m\u001b[29m\u001b[39m\u001b[49m\u001b[0m\u001b[0m\u001b[22m\u001b[23m\u001b[24m\u001b[27m\u001b[28m\u001b[29m\u001b[39m\u001b[49m\n"
     ]
    }
   ],
   "source": [
    "# add clin info\n",
    "df <- read_tsv(f_exprs, show_col_types = F) %>%\n",
    "    separate(col = 'sample', into = c('patient', 'sample_type'), sep = '-', remove = F) %>% \n",
    "    mutate(cx3cl1_exprs_log = log1p(cx3cl1_exprs_unlog)) %>% \n",
    "    add_clin_info(ftsv = f_pat_gp, columns = gp, merge_by = 'patient') %>%\n",
    "    mutate(sample_type = case_match(sample_type, 'Baseline' ~ 'pre', 'Treat' ~ 'post'))\n",
    "\n",
    "df %>% write_tsv(str_glue('{outdir}/fig5f-pbulk_exprs-cx3cl1_in_TME.tsv'))"
   ]
  },
  {
   "cell_type": "code",
   "execution_count": 40,
   "id": "ae64f6be-1678-4fe7-81e6-eeaf351ca55e",
   "metadata": {
    "tags": [],
    "vscode": {
     "languageId": "r"
    }
   },
   "outputs": [],
   "source": [
    "p <- read_tsv(str_glue('{outdir}/fig5f-pbulk_exprs-cx3cl1_in_TME.tsv'), show_col_types = F) %>% \n",
    "    filter(!is.na(.data[[gp]])) %>%\n",
    "    cell_comp_boxplot(x = c(gp, 'sample_type'), y = 'cx3cl1_exprs_log', pt_fill = gp, facet_by = NULL,\n",
    "                      xorder = comb_order, fill_order = gp_lvls[[gp]], xangle = 60) + \n",
    "    stat_compare_means(comparisons = gp_comp_map[[gp]]) +\n",
    "    labs(y = 'CX3CL1 expression in sample', fill = 'Response')\n",
    "ggsave(filename = str_glue('{outdir}/fig5f-box_exprs-cx3cl1_pbulk_in_TME.pdf'), plot = p, height = 5, width = 4)"
   ]
  },
  {
   "cell_type": "markdown",
   "id": "29a8b9b7-ced8-43e5-9a36-4038c5e084e1",
   "metadata": {},
   "source": [
    "## todos"
   ]
  },
  {
   "cell_type": "code",
   "execution_count": null,
   "id": "3a4a5c0f-ab4a-4dff-a90b-decb01df7487",
   "metadata": {
    "vscode": {
     "languageId": "r"
    }
   },
   "outputs": [],
   "source": []
  }
 ],
 "metadata": {
  "kernelspec": {
   "display_name": "R 4.1.3",
   "language": "R",
   "name": "r_env"
  },
  "language_info": {
   "codemirror_mode": "r",
   "file_extension": ".r",
   "mimetype": "text/x-r-source",
   "name": "R",
   "pygments_lexer": "r",
   "version": "4.1.3"
  },
  "toc-autonumbering": false,
  "toc-showmarkdowntxt": false
 },
 "nbformat": 4,
 "nbformat_minor": 5
}

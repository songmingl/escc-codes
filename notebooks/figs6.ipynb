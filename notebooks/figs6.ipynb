{
 "cells": [
  {
   "cell_type": "markdown",
   "id": "0f2ee1f4-c291-4778-b8e5-cc459edec88a",
   "metadata": {},
   "source": [
    "# figure S6\n",
    "\n",
    "- kernel: r_env, R 4.1.3\n",
    "- date: 2024-02-22\n",
    "- desc: supplementary figure 6"
   ]
  },
  {
   "cell_type": "markdown",
   "id": "508b404b-e848-4248-81bc-73c957f18964",
   "metadata": {
    "jp-MarkdownHeadingCollapsed": true,
    "tags": []
   },
   "source": [
    "## load"
   ]
  },
  {
   "cell_type": "code",
   "execution_count": null,
   "id": "4d852466-114a-47bf-bf99-b812c240dcb8",
   "metadata": {
    "tags": [],
    "vscode": {
     "languageId": "r"
    }
   },
   "outputs": [
    {
     "name": "stderr",
     "output_type": "stream",
     "text": [
      "── \u001b[1mAttaching core tidyverse packages\u001b[22m ──────────────────────── tidyverse 2.0.0 ──\n",
      "\u001b[32m✔\u001b[39m \u001b[34mdplyr    \u001b[39m 1.1.0     \u001b[32m✔\u001b[39m \u001b[34mreadr    \u001b[39m 2.1.4\n",
      "\u001b[32m✔\u001b[39m \u001b[34mforcats  \u001b[39m 1.0.0     \u001b[32m✔\u001b[39m \u001b[34mstringr  \u001b[39m 1.5.0\n",
      "\u001b[32m✔\u001b[39m \u001b[34mggplot2  \u001b[39m 3.4.1     \u001b[32m✔\u001b[39m \u001b[34mtibble   \u001b[39m 3.2.0\n",
      "\u001b[32m✔\u001b[39m \u001b[34mlubridate\u001b[39m 1.9.2     \u001b[32m✔\u001b[39m \u001b[34mtidyr    \u001b[39m 1.3.0\n",
      "\u001b[32m✔\u001b[39m \u001b[34mpurrr    \u001b[39m 1.0.1     \n",
      "── \u001b[1mConflicts\u001b[22m ────────────────────────────────────────── tidyverse_conflicts() ──\n",
      "\u001b[31m✖\u001b[39m \u001b[34mdplyr\u001b[39m::\u001b[32mfilter()\u001b[39m masks \u001b[34mstats\u001b[39m::filter()\n",
      "\u001b[31m✖\u001b[39m \u001b[34mdplyr\u001b[39m::\u001b[32mlag()\u001b[39m    masks \u001b[34mstats\u001b[39m::lag()\n",
      "\u001b[36mℹ\u001b[39m Use the conflicted package (\u001b[3m\u001b[34m<http://conflicted.r-lib.org/>\u001b[39m\u001b[23m) to force all conflicts to become errors\n"
     ]
    }
   ],
   "source": [
    "library(tidyverse)\n",
    "library(logging)\n",
    "library(ggpubr)\n",
    "library(ggsci)\n",
    "library(patchwork)\n",
    "\n",
    "source('../scripts/r_funcs.r')\n",
    "\n",
    "theme_set(theme_pubr())\n",
    "logging::basicConfig()\n",
    "options(warn = -1)"
   ]
  },
  {
   "cell_type": "code",
   "execution_count": 2,
   "id": "3b05d2c3-fb63-4fef-9603-efed70a3efdf",
   "metadata": {
    "tags": [],
    "vscode": {
     "languageId": "r"
    }
   },
   "outputs": [],
   "source": [
    "# basical informatino\n",
    "outdir <- '../figures/figs6'\n",
    "create_dir(outdir)\n",
    "f_pat_gp <- '../tables/patient_info_v2.tsv'"
   ]
  },
  {
   "cell_type": "code",
   "execution_count": 3,
   "id": "57b4bd53-0ca8-4ad6-9593-2ec2a43ef029",
   "metadata": {
    "tags": [],
    "vscode": {
     "languageId": "r"
    }
   },
   "outputs": [],
   "source": [
    "gp <- 'response'\n",
    "\n",
    "gp_comp_map$response <- list(\n",
    "  c('R-pre', 'R-post'),\n",
    "  c('PR-pre', 'PR-post'),\n",
    "  c('R-pre', 'PR-pre'),\n",
    "  c('R-post', 'PR-post')\n",
    ")\n",
    "gp_lvls$response <- c('R', 'PR')\n",
    "comb_order <- c('R-pre', 'R-post', 'PR-pre', 'PR-post')"
   ]
  },
  {
   "cell_type": "markdown",
   "id": "30877087",
   "metadata": {},
   "source": [
    "## s6a: chemokine receptor expression in T cells\n",
    "\n",
    "- desc: use CD8 T cells (cyto/exhau), psuodubulk expression (min 50)"
   ]
  },
  {
   "cell_type": "code",
   "execution_count": null,
   "id": "a27f87af",
   "metadata": {
    "vscode": {
     "languageId": "r"
    }
   },
   "outputs": [],
   "source": [
    "fpbulk <- '../../stage4/miscellaneous/exprs_box/chemokine_receptor_in_t_state-pbulk_count-min50.tsv'\n",
    "genes <- c('ACKR3', 'CCR2', 'CCR4', 'CCR5', 'CCR6', 'CXCR1', 'CXCR2', 'CXCR3')\n",
    "used_ctypes <- c('cytotoxic CD8', 'exhausted CD8')"
   ]
  },
  {
   "cell_type": "code",
   "execution_count": null,
   "id": "52b44185",
   "metadata": {
    "vscode": {
     "languageId": "r"
    }
   },
   "outputs": [
    {
     "name": "stdout",
     "output_type": "stream",
     "text": [
      "\u001b[0m2024-02-22 13:38:52 INFO::these clinial info will be added: response\u001b[0m\u001b[22m\u001b[23m\u001b[24m\u001b[27m\u001b[28m\u001b[29m\u001b[39m\u001b[49m\u001b[0m\u001b[0m\u001b[22m\u001b[23m\u001b[24m\u001b[27m\u001b[28m\u001b[29m\u001b[39m\u001b[49m\n"
     ]
    }
   ],
   "source": [
    "exprs_pbulk <- read_tsv(fpbulk, show_col_types = F) %>% \n",
    "    column_to_rownames('symbol') %>%\n",
    "    mutate(across(everything(), ~ log1p(1e6 * .x / sum(.x)))) %>%\n",
    "    slice(which(rownames(.) %in% genes)) %>% \n",
    "    t() %>% \n",
    "    as.data.frame() %>% \n",
    "    rownames_to_column('sample_cellgp') %>% \n",
    "    extract(col = 'sample_cellgp', into = c('patient', 'sample_type', 'cellgp'), regex = '(.+)-(.+)_(.+)') %>%\n",
    "    pivot_longer(cols = all_of(genes), names_to = 'gene', values_to = 'logcpm') %>%\n",
    "    add_clin_info(ftsv = f_pat_gp, columns = gp, merge_by = 'patient') %>% \n",
    "    mutate(sample_type = case_match(sample_type, 'Baseline' ~ 'pre', 'Treat' ~ 'post'))\n",
    "exprs_pbulk %>% write_tsv(str_glue('{outdir}/figs5a-pbulk_exprs_in_t_state-chemokine_receptors.tsv'))"
   ]
  },
  {
   "cell_type": "code",
   "execution_count": null,
   "id": "a208407c",
   "metadata": {
    "vscode": {
     "languageId": "r"
    }
   },
   "outputs": [],
   "source": [
    "p_ls <- lapply(X = used_ctypes, FUN = function(nm) {\n",
    "    exprs_pbulk %>%\n",
    "    filter(cellgp == nm) %>%\n",
    "    filter(!is.na(.data[[gp]])) %>%\n",
    "    cell_comp_boxplot(x = c(gp, 'sample_type'), xorder = comb_order, y = 'logcpm', \n",
    "                      pt_fill = gp, fill_order = gp_lvls[[gp]],\n",
    "                      facet_by = 'gene', wrap_free = 'free', ncol = 10, xangle = 60) +\n",
    "    labs(fill = 'Response', y = str_glue('Expression in {nm} T clusters')) +\n",
    "    stat_compare_means(comparisons = gp_comp_map[[gp]]) +\n",
    "    theme(legend.position = 'none', axis.title.x = element_blank())\n",
    "})\n",
    "ggsave(filename = str_glue('{outdir}/figs5a-box_pbulk_exprs-chemokine_receptor_in_t_state.pdf'),\n",
    "       plot = wrap_plots(p_ls, ncol = 1), width = 17, height = 8)"
   ]
  },
  {
   "cell_type": "markdown",
   "id": "eab07e00",
   "metadata": {},
   "source": [
    "## s6b: chemokine expression in sample"
   ]
  },
  {
   "cell_type": "code",
   "execution_count": null,
   "id": "698d29d0",
   "metadata": {
    "vscode": {
     "languageId": "r"
    }
   },
   "outputs": [],
   "source": [
    "f_pbulk <- '../../stage4/a06_de/cntbulk_whole_min50/bulk_by_samp.tsv'\n",
    "genes <- c(\n",
    "    'CCL2', 'CCL4', 'CCL5', 'CXCL6', 'CCL17', 'CCL20', 'CCL22', \n",
    "    'CXCL2', 'CXCL5', 'CXCL9', 'CXCL10', 'CXCL11', 'CXCL12'\n",
    ")"
   ]
  },
  {
   "cell_type": "code",
   "execution_count": null,
   "id": "0376b21e",
   "metadata": {
    "vscode": {
     "languageId": "r"
    }
   },
   "outputs": [
    {
     "name": "stdout",
     "output_type": "stream",
     "text": [
      "\u001b[0m2024-02-22 14:01:46 INFO::these clinial info will be added: response\u001b[0m\u001b[22m\u001b[23m\u001b[24m\u001b[27m\u001b[28m\u001b[29m\u001b[39m\u001b[49m\u001b[0m\u001b[0m\u001b[22m\u001b[23m\u001b[24m\u001b[27m\u001b[28m\u001b[29m\u001b[39m\u001b[49m\n"
     ]
    }
   ],
   "source": [
    "exprs_pbulk <- read_tsv(f_pbulk, show_col_types = F) %>%\n",
    "    mutate(across(where(is.numeric), ~ log1p(1e6 * .x / sum(.x)))) %>%\n",
    "    filter(symbol %in% genes) %>% \n",
    "    pivot_longer(cols = -c('symbol'), names_to = 'sample', values_to = 'logcpm') %>%\n",
    "    extract(col = 'sample', into = c('patient', 'sample_type'), regex = '(.+)-(.+)', remove = F) %>%\n",
    "    add_clin_info(ftsv = f_pat_gp, columns = gp, merge_by = 'patient') %>%\n",
    "    mutate(sample_type = case_match(sample_type, 'Baseline' ~ 'pre', 'Treat' ~ 'post'))\n",
    "exprs_pbulk %>% write_tsv(str_glue('{outdir}/figs5b-pbulk_exprs_in_whole-chemokine_ligands.tsv'))"
   ]
  },
  {
   "cell_type": "code",
   "execution_count": null,
   "id": "e2d2bd47",
   "metadata": {
    "vscode": {
     "languageId": "r"
    }
   },
   "outputs": [],
   "source": [
    "p <- read_tsv(str_glue('{outdir}/figs5b-pbulk_exprs_in_whole-chemokine_ligands.tsv'), show_col_types = F) %>%\n",
    "    mutate(symbol = factor(symbol, genes)) %>%\n",
    "    filter(!is.na(.data[[gp]])) %>%\n",
    "    cell_comp_boxplot(x = c(gp, 'sample_type'), xorder = comb_order, y = 'logcpm', \n",
    "                      pt_fill = gp, fill_order = gp_lvls[[gp]],\n",
    "                      facet_by = 'symbol', wrap_free = 'free', ncol = 7, xangle = 60) +\n",
    "    labs(fill = 'Response', y = str_glue('Expression in whole sample')) +\n",
    "    stat_compare_means(comparisons = gp_comp_map[[gp]]) +\n",
    "    theme(legend.position = 'none', axis.title.x = element_blank())\n",
    "ggsave(filename = str_glue('{outdir}/figs5b-box_pbulk_exprs-chemokine_ligand_in_whole.pdf'),\n",
    "       plot = p, width = 17, height = 8)"
   ]
  },
  {
   "cell_type": "markdown",
   "id": "b3e4d0f5",
   "metadata": {},
   "source": [
    "## s6c: CXCL12 expression in major cell type"
   ]
  },
  {
   "cell_type": "code",
   "execution_count": null,
   "id": "8ab6230b",
   "metadata": {
    "vscode": {
     "languageId": "r"
    }
   },
   "outputs": [],
   "source": [
    "indir <- '../../stage4/a06_de/cntbulk_major_min50/'\n",
    "my_gene <- 'CXCL12'\n",
    "\n",
    "major_cell_map <- list(\n",
    "    'b_plasma' = 'B & Plasma', 'myeloid' = 'Myeloid', 't' = 'T cells', \n",
    "    'endo' = 'Endothelial', 'epi' = 'Epithelial', 'fibro' = 'Fibroblast'\n",
    ")"
   ]
  },
  {
   "cell_type": "code",
   "execution_count": null,
   "id": "86a9819b",
   "metadata": {
    "vscode": {
     "languageId": "r"
    }
   },
   "outputs": [
    {
     "name": "stdout",
     "output_type": "stream",
     "text": [
      "\u001b[0m2024-02-22 14:28:13 INFO::these clinial info will be added: response\u001b[0m\u001b[22m\u001b[23m\u001b[24m\u001b[27m\u001b[28m\u001b[29m\u001b[39m\u001b[49m\u001b[0m\u001b[0m\u001b[22m\u001b[23m\u001b[24m\u001b[27m\u001b[28m\u001b[29m\u001b[39m\u001b[49m\n"
     ]
    }
   ],
   "source": [
    "# obtain expression\n",
    "exprs_pbulk <- rbind.data.frame()\n",
    "for (nm in names(major_cell_map)) {\n",
    "    exprs_pbulk <- read_tsv(str_glue('{indir}/{nm}/bulk_by_samp.tsv'), show_col_types = F) %>%\n",
    "        mutate(across(where(is.numeric), ~ log1p(1e6 * .x / sum(.x)))) %>%\n",
    "        filter(symbol == my_gene) %>% \n",
    "        pivot_longer(cols = -c('symbol'), names_to = 'sample', values_to = 'logcpm') %>%\n",
    "        mutate(celltype = major_cell_map[[nm]]) %>%\n",
    "        rbind.data.frame(exprs_pbulk)\n",
    "}\n",
    "exprs_pbulk <- exprs_pbulk %>%\n",
    "    extract(col = 'sample', into = c('patient', 'sample_type'), regex = '(.+)-(.+)', remove = F) %>%\n",
    "    add_clin_info(ftsv = f_pat_gp, columns = gp, merge_by = 'patient') %>%\n",
    "    mutate(sample_type = case_match(sample_type, 'Baseline' ~ 'pre', 'Treat' ~ 'post'))\n",
    "\n",
    "exprs_pbulk %>% write_tsv(str_glue('{outdir}/figs5c-publk_exprs_in_major-{my_gene}.tsv'))"
   ]
  },
  {
   "cell_type": "code",
   "execution_count": null,
   "id": "8f923419",
   "metadata": {
    "vscode": {
     "languageId": "r"
    }
   },
   "outputs": [],
   "source": [
    "p <- read_tsv(str_glue('{outdir}/figs5c-publk_exprs_in_major-{my_gene}.tsv'), show_col_types = F) %>%\n",
    "    filter(!is.na(.data[[gp]])) %>%\n",
    "    mutate(celltype = factor(celltype, levels = unlist(major_cell_map))) %>%\n",
    "    cell_comp_boxplot(x = c(gp, 'sample_type'), xorder = comb_order, y = 'logcpm', \n",
    "                      pt_fill = gp, fill_order = gp_lvls[[gp]],\n",
    "                      facet_by = 'celltype', wrap_free = 'free_x', ncol = 8, xangle = 60) +\n",
    "    labs(fill = 'Response', y = str_glue('{my_gene} Expression')) +\n",
    "    stat_compare_means(comparisons = gp_comp_map[[gp]]) +\n",
    "    theme(legend.position = 'bottom', axis.title.x = element_blank())\n",
    "ggsave(filename = str_glue('{outdir}/figs5c-box_pbulk_exprs-{my_gene}_in_major.pdf'), width = 10, height = 5, plot = p)"
   ]
  },
  {
   "cell_type": "code",
   "execution_count": null,
   "id": "c5338bc1-62ca-4856-ad97-fa5fab89345f",
   "metadata": {
    "vscode": {
     "languageId": "r"
    }
   },
   "outputs": [],
   "source": []
  }
 ],
 "metadata": {
  "kernelspec": {
   "display_name": "R 4.1.3",
   "language": "R",
   "name": "r_env"
  },
  "language_info": {
   "codemirror_mode": "r",
   "file_extension": ".r",
   "mimetype": "text/x-r-source",
   "name": "R",
   "pygments_lexer": "r",
   "version": "4.1.3"
  }
 },
 "nbformat": 4,
 "nbformat_minor": 5
}

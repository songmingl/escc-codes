{
 "cells": [
  {
   "cell_type": "markdown",
   "id": "4e78bb62-b115-43fd-9fb7-c826ee2811a4",
   "metadata": {},
   "source": [
    "# figure s2 vlz\n",
    "\n",
    "- kernel: r_env, R 4.1.3\n",
    "- date: 2024-03-04"
   ]
  },
  {
   "cell_type": "markdown",
   "id": "0e59ed14-a3c3-49a6-8411-ae918b67af3b",
   "metadata": {
    "jp-MarkdownHeadingCollapsed": true,
    "tags": []
   },
   "source": [
    "## load"
   ]
  },
  {
   "cell_type": "code",
   "execution_count": null,
   "id": "95697196-8cfb-4a41-9105-a25a0d5c0baf",
   "metadata": {
    "tags": [],
    "vscode": {
     "languageId": "r"
    }
   },
   "outputs": [
    {
     "name": "stderr",
     "output_type": "stream",
     "text": [
      "── \u001b[1mAttaching core tidyverse packages\u001b[22m ──────────────────────── tidyverse 2.0.0 ──\n",
      "\u001b[32m✔\u001b[39m \u001b[34mdplyr    \u001b[39m 1.1.0     \u001b[32m✔\u001b[39m \u001b[34mreadr    \u001b[39m 2.1.4\n",
      "\u001b[32m✔\u001b[39m \u001b[34mforcats  \u001b[39m 1.0.0     \u001b[32m✔\u001b[39m \u001b[34mstringr  \u001b[39m 1.5.0\n",
      "\u001b[32m✔\u001b[39m \u001b[34mggplot2  \u001b[39m 3.4.1     \u001b[32m✔\u001b[39m \u001b[34mtibble   \u001b[39m 3.2.0\n",
      "\u001b[32m✔\u001b[39m \u001b[34mlubridate\u001b[39m 1.9.2     \u001b[32m✔\u001b[39m \u001b[34mtidyr    \u001b[39m 1.3.0\n",
      "\u001b[32m✔\u001b[39m \u001b[34mpurrr    \u001b[39m 1.0.1     \n",
      "── \u001b[1mConflicts\u001b[22m ────────────────────────────────────────── tidyverse_conflicts() ──\n",
      "\u001b[31m✖\u001b[39m \u001b[34mdplyr\u001b[39m::\u001b[32mfilter()\u001b[39m masks \u001b[34mstats\u001b[39m::filter()\n",
      "\u001b[31m✖\u001b[39m \u001b[34mdplyr\u001b[39m::\u001b[32mlag()\u001b[39m    masks \u001b[34mstats\u001b[39m::lag()\n",
      "\u001b[36mℹ\u001b[39m Use the conflicted package (\u001b[3m\u001b[34m<http://conflicted.r-lib.org/>\u001b[39m\u001b[23m) to force all conflicts to become errors\n",
      "\n",
      "Attaching package: ‘igraph’\n",
      "\n",
      "\n",
      "The following objects are masked from ‘package:lubridate’:\n",
      "\n",
      "    %--%, union\n",
      "\n",
      "\n",
      "The following objects are masked from ‘package:dplyr’:\n",
      "\n",
      "    as_data_frame, groups, union\n",
      "\n",
      "\n",
      "The following objects are masked from ‘package:purrr’:\n",
      "\n",
      "    compose, simplify\n",
      "\n",
      "\n",
      "The following object is masked from ‘package:tidyr’:\n",
      "\n",
      "    crossing\n",
      "\n",
      "\n",
      "The following object is masked from ‘package:tibble’:\n",
      "\n",
      "    as_data_frame\n",
      "\n",
      "\n",
      "The following objects are masked from ‘package:stats’:\n",
      "\n",
      "    decompose, spectrum\n",
      "\n",
      "\n",
      "The following object is masked from ‘package:base’:\n",
      "\n",
      "    union\n",
      "\n",
      "\n",
      "Attaching SeuratObject\n",
      "\n",
      "Loading required package: grid\n",
      "\n",
      "========================================\n",
      "ComplexHeatmap version 2.10.0\n",
      "Bioconductor page: http://bioconductor.org/packages/ComplexHeatmap/\n",
      "Github page: https://github.com/jokergoo/ComplexHeatmap\n",
      "Documentation: http://jokergoo.github.io/ComplexHeatmap-reference\n",
      "\n",
      "If you use it in published research, please cite:\n",
      "Gu, Z. Complex heatmaps reveal patterns and correlations in multidimensional \n",
      "  genomic data. Bioinformatics 2016.\n",
      "\n",
      "The new InteractiveComplexHeatmap package can directly export static \n",
      "complex heatmaps into an interactive Shiny app with zero effort. Have a try!\n",
      "\n",
      "This message can be suppressed by:\n",
      "  suppressPackageStartupMessages(library(ComplexHeatmap))\n",
      "========================================\n",
      "\n",
      "\n"
     ]
    }
   ],
   "source": [
    "library(tidyverse)\n",
    "library(tools)\n",
    "library(logging)\n",
    "library(ggpubr)\n",
    "library(ggsci)\n",
    "library(patchwork)\n",
    "library(igraph)\n",
    "library(ggraph)\n",
    "library(Seurat)\n",
    "library(ComplexHeatmap)\n",
    "\n",
    "source('../scripts/r_funcs.r')\n",
    "\n",
    "theme_set(theme_pubr())\n",
    "logging::basicConfig()\n",
    "options(warn = -1)\n",
    "\n",
    "outdir <- '../figures/figs2'\n",
    "create_dir(outdir)"
   ]
  },
  {
   "cell_type": "code",
   "execution_count": 2,
   "id": "c14e70ad-8b08-437b-bbd3-862f851569bf",
   "metadata": {
    "tags": [],
    "vscode": {
     "languageId": "r"
    }
   },
   "outputs": [],
   "source": [
    "f_pat_gp <- '../tables/patient_info_v2.tsv'\n",
    "gp <- 'response'\n",
    "\n",
    "gp_comp_map$response <- list(\n",
    "  c('R-pre', 'R-post'),\n",
    "  c('PR-pre', 'PR-post'),\n",
    "  c('R-pre', 'PR-pre'),\n",
    "  c('R-post', 'PR-post')\n",
    ")\n",
    "gp_lvls$response <- c('R', 'PR')\n",
    "comb_order <- c('R-pre', 'R-post', 'PR-pre', 'PR-post')"
   ]
  },
  {
   "cell_type": "markdown",
   "id": "4b523787-9897-4bd1-8b70-fc979de7e951",
   "metadata": {},
   "source": [
    "## s2a: signature contribution"
   ]
  },
  {
   "cell_type": "code",
   "execution_count": 3,
   "id": "1a32bbc7-5926-4118-8f2d-6c170c2bcfff",
   "metadata": {
    "tags": [],
    "vscode": {
     "languageId": "r"
    }
   },
   "outputs": [],
   "source": [
    "f_contri <- '../../stage4/a11_wes/new-muts/signature/signatue-contribution.tsv'"
   ]
  },
  {
   "cell_type": "code",
   "execution_count": 13,
   "id": "295448a1-a6f7-463b-b52a-726a2f7afa2e",
   "metadata": {
    "tags": [],
    "vscode": {
     "languageId": "r"
    }
   },
   "outputs": [
    {
     "name": "stdout",
     "output_type": "stream",
     "text": [
      "\u001b[0m2024-03-04 13:53:12 INFO::these clinial info will be added: response\u001b[0m\u001b[22m\u001b[23m\u001b[24m\u001b[27m\u001b[28m\u001b[29m\u001b[39m\u001b[49m\u001b[0m\u001b[0m\u001b[22m\u001b[23m\u001b[24m\u001b[27m\u001b[28m\u001b[29m\u001b[39m\u001b[49m\n"
     ]
    },
    {
     "data": {
      "text/html": [
       "<table class=\"dataframe\">\n",
       "<caption>A data.frame: 2 × 10</caption>\n",
       "<thead>\n",
       "\t<tr><th></th><th scope=col>patient_id</th><th scope=col>response</th><th scope=col>sample</th><th scope=col>sample_type</th><th scope=col>sig_name</th><th scope=col>aetiology</th><th scope=col>best_match</th><th scope=col>cosmic_name</th><th scope=col>prop</th><th scope=col>sig_cat</th></tr>\n",
       "\t<tr><th></th><th scope=col>&lt;chr&gt;</th><th scope=col>&lt;chr&gt;</th><th scope=col>&lt;chr&gt;</th><th scope=col>&lt;chr&gt;</th><th scope=col>&lt;chr&gt;</th><th scope=col>&lt;chr&gt;</th><th scope=col>&lt;chr&gt;</th><th scope=col>&lt;chr&gt;</th><th scope=col>&lt;dbl&gt;</th><th scope=col>&lt;chr&gt;</th></tr>\n",
       "</thead>\n",
       "<tbody>\n",
       "\t<tr><th scope=row>1</th><td>006</td><td>R</td><td>01-006-T</td><td>Baseline</td><td>Signature_8</td><td>Unknown                      </td><td>Best match: SBS5 [cosine-similarity: 0.745]</td><td>SBS5</td><td>6.928890e-16</td><td>SBS5</td></tr>\n",
       "\t<tr><th scope=row>2</th><td>006</td><td>R</td><td>01-006-T</td><td>Baseline</td><td>Signature_2</td><td>defective DNA mismatch repair</td><td>Best match: SBS6 [cosine-similarity: 0.608]</td><td>SBS6</td><td>5.514562e-11</td><td>SBS6</td></tr>\n",
       "</tbody>\n",
       "</table>\n"
      ],
      "text/latex": [
       "A data.frame: 2 × 10\n",
       "\\begin{tabular}{r|llllllllll}\n",
       "  & patient\\_id & response & sample & sample\\_type & sig\\_name & aetiology & best\\_match & cosmic\\_name & prop & sig\\_cat\\\\\n",
       "  & <chr> & <chr> & <chr> & <chr> & <chr> & <chr> & <chr> & <chr> & <dbl> & <chr>\\\\\n",
       "\\hline\n",
       "\t1 & 006 & R & 01-006-T & Baseline & Signature\\_8 & Unknown                       & Best match: SBS5 {[}cosine-similarity: 0.745{]} & SBS5 & 6.928890e-16 & SBS5\\\\\n",
       "\t2 & 006 & R & 01-006-T & Baseline & Signature\\_2 & defective DNA mismatch repair & Best match: SBS6 {[}cosine-similarity: 0.608{]} & SBS6 & 5.514562e-11 & SBS6\\\\\n",
       "\\end{tabular}\n"
      ],
      "text/markdown": [
       "\n",
       "A data.frame: 2 × 10\n",
       "\n",
       "| <!--/--> | patient_id &lt;chr&gt; | response &lt;chr&gt; | sample &lt;chr&gt; | sample_type &lt;chr&gt; | sig_name &lt;chr&gt; | aetiology &lt;chr&gt; | best_match &lt;chr&gt; | cosmic_name &lt;chr&gt; | prop &lt;dbl&gt; | sig_cat &lt;chr&gt; |\n",
       "|---|---|---|---|---|---|---|---|---|---|---|\n",
       "| 1 | 006 | R | 01-006-T | Baseline | Signature_8 | Unknown                       | Best match: SBS5 [cosine-similarity: 0.745] | SBS5 | 6.928890e-16 | SBS5 |\n",
       "| 2 | 006 | R | 01-006-T | Baseline | Signature_2 | defective DNA mismatch repair | Best match: SBS6 [cosine-similarity: 0.608] | SBS6 | 5.514562e-11 | SBS6 |\n",
       "\n"
      ],
      "text/plain": [
       "  patient_id response sample   sample_type sig_name   \n",
       "1 006        R        01-006-T Baseline    Signature_8\n",
       "2 006        R        01-006-T Baseline    Signature_2\n",
       "  aetiology                     best_match                                 \n",
       "1 Unknown                       Best match: SBS5 [cosine-similarity: 0.745]\n",
       "2 defective DNA mismatch repair Best match: SBS6 [cosine-similarity: 0.608]\n",
       "  cosmic_name prop         sig_cat\n",
       "1 SBS5        6.928890e-16 SBS5   \n",
       "2 SBS6        5.514562e-11 SBS6   "
      ]
     },
     "metadata": {},
     "output_type": "display_data"
    }
   ],
   "source": [
    "df <- read_tsv(f_contri, show_col_types = F) %>% \n",
    "    select(-c('patient', 'mandard_group', 'treatment_group')) %>%\n",
    "    add_clin_info(ftsv = f_pat_gp, columns = gp, merge_by = 'patient_id')\n",
    "df %>% head(2)"
   ]
  },
  {
   "cell_type": "code",
   "execution_count": 16,
   "id": "a27d7345-885f-486b-8b06-90c3cb0fb4fd",
   "metadata": {
    "tags": [],
    "vscode": {
     "languageId": "r"
    }
   },
   "outputs": [],
   "source": [
    "# summarise data\n",
    "dp <- summarise(df, .by = c('sample', 'sig_cat'), prop = sum(prop))\n",
    "\n",
    "# order sample by SBS6\n",
    "samp_order <- dp %>%\n",
    "filter(sig_cat == 'SBS6') %>%\n",
    "arrange(prop) %>%\n",
    "pull(sample) %>%\n",
    "unique()\n",
    "\n",
    "# plot\n",
    "p <- dp %>% \n",
    "    mutate(sig_cat = factor(sig_cat, sort(unique(sig_cat))),\n",
    "           sample = factor(sample, samp_order)) %>%\n",
    "    ggbarplot(x = 'sample', y = 'prop', fill = 'sig_cat', position = position_fill(), palette = 'nejm') +\n",
    "    scale_y_continuous(expand = c(0, NA)) +\n",
    "    labs(y = 'Signature contribution', fill = 'Signature') +\n",
    "    theme(axis.text.x = element_blank(), axis.title.x = element_blank(), axis.ticks.x = element_blank(), \n",
    "          legend.title = element_text(vjust = 0.5, hjust = 0.5))\n",
    "ggsave(filename = str_glue('{outdir}/figs2-bar-signature_contirbute.pdf'), plot = p, width = 7, height = 4)"
   ]
  },
  {
   "cell_type": "markdown",
   "id": "8b92835d",
   "metadata": {},
   "source": [
    "## s2b: immune editing score, R-pre vs PR-pre"
   ]
  },
  {
   "cell_type": "code",
   "execution_count": null,
   "id": "c98acd32",
   "metadata": {
    "vscode": {
     "languageId": "r"
    }
   },
   "outputs": [
    {
     "name": "stdout",
     "output_type": "stream",
     "text": [
      "\u001b[0m2024-02-05 00:40:55 INFO::these clinial info will be added: response\u001b[0m\u001b[22m\u001b[23m\u001b[24m\u001b[27m\u001b[28m\u001b[29m\u001b[39m\u001b[49m\u001b[0m\u001b[0m\u001b[22m\u001b[23m\u001b[24m\u001b[27m\u001b[28m\u001b[29m\u001b[39m\u001b[49m\n",
      "\u001b[0m2024-02-05 00:40:55 INFO::tn_pair, fresh, nonLN: 53 records, 53 samples\u001b[0m\u001b[22m\u001b[23m\u001b[24m\u001b[27m\u001b[28m\u001b[29m\u001b[39m\u001b[49m\u001b[0m\u001b[0m\u001b[22m\u001b[23m\u001b[24m\u001b[27m\u001b[28m\u001b[29m\u001b[39m\u001b[49m\n"
     ]
    }
   ],
   "source": [
    "f_edit_score <- '../../stage4/a11_wes/new-muts/immune_editing_score.tsv'\n",
    "gp <- 'response'\n",
    "\n",
    "df <- read_tsv(f_edit_score, show_col_types = F) %>% \n",
    "    filter(!grepl('-LN', sample_id), pair_cat == 'Fresh', pair_mode == 'tumor-normal-paired') %>%\n",
    "    mutate(sample_type = case_match(sample_type, 'Baseline' ~ 'pre', 'Treat' ~ 'post')) %>%\n",
    "    add_clin_info(ftsv = f_pat_gp, columns = gp, merge_by = 'patient_id')\n",
    "\n",
    "df %>% write_tsv(str_glue('{outdir}/fig2-immune_editing_score-tn_pair-fresh-t.tsv'))\n",
    "loginfo('tn_pair, fresh, nonLN: %g records, %g samples', nrow(df), length(unique(df$sample_id)))"
   ]
  },
  {
   "cell_type": "code",
   "execution_count": null,
   "id": "c9b35d92",
   "metadata": {
    "vscode": {
     "languageId": "r"
    }
   },
   "outputs": [],
   "source": [
    "# good vs poor at Baseline\n",
    "p <- df %>% \n",
    "    filter(sample_type == 'pre') %>% \n",
    "    filter(.data[[gp]] %in% gp_lvls[[gp]]) %>% \n",
    "    cell_comp_boxplot(x = c(gp, 'sample_type'), y = 'editing_score', pt_fill = gp, pair_by = NULL,\n",
    "                      fill_order = gp_lvls[[gp]], facet_by = NULL, xorder = c('R-pre', 'PR-pre'), xangle = 60) +\n",
    "    stat_compare_means(comparisons = gp_comp_map_pre[[gp]])+\n",
    "    labs(fill = '', y = 'Immune editing score') + \n",
    "    theme(legend.justification = c(1, 0))\n",
    "ggsave(filename = str_glue('{outdir}/fig2e-box_edit_score-{gp}-pre-tn_pair-fresh-t.pdf'),\n",
    "       plot = p, width = 2, height = 5)"
   ]
  }
 ],
 "metadata": {
  "kernelspec": {
   "display_name": "R 4.1.3",
   "language": "R",
   "name": "r_env"
  },
  "language_info": {
   "codemirror_mode": "r",
   "file_extension": ".r",
   "mimetype": "text/x-r-source",
   "name": "R",
   "pygments_lexer": "r",
   "version": "4.1.3"
  }
 },
 "nbformat": 4,
 "nbformat_minor": 5
}

{
 "cells": [
  {
   "cell_type": "markdown",
   "id": "4e78bb62-b115-43fd-9fb7-c826ee2811a4",
   "metadata": {},
   "source": [
    "# figure s3 vlz\n",
    "\n",
    "- kernel: r_env, R 4.1.3\n",
    "- date: 2024-02-21"
   ]
  },
  {
   "cell_type": "markdown",
   "id": "0e59ed14-a3c3-49a6-8411-ae918b67af3b",
   "metadata": {
    "jp-MarkdownHeadingCollapsed": true,
    "tags": []
   },
   "source": [
    "## load"
   ]
  },
  {
   "cell_type": "code",
   "execution_count": 1,
   "id": "95697196-8cfb-4a41-9105-a25a0d5c0baf",
   "metadata": {
    "tags": [],
    "vscode": {
     "languageId": "r"
    }
   },
   "outputs": [
    {
     "name": "stderr",
     "output_type": "stream",
     "text": [
      "── \u001b[1mAttaching core tidyverse packages\u001b[22m ──────────────────────── tidyverse 2.0.0 ──\n",
      "\u001b[32m✔\u001b[39m \u001b[34mdplyr    \u001b[39m 1.1.0     \u001b[32m✔\u001b[39m \u001b[34mreadr    \u001b[39m 2.1.4\n",
      "\u001b[32m✔\u001b[39m \u001b[34mforcats  \u001b[39m 1.0.0     \u001b[32m✔\u001b[39m \u001b[34mstringr  \u001b[39m 1.5.0\n",
      "\u001b[32m✔\u001b[39m \u001b[34mggplot2  \u001b[39m 3.4.1     \u001b[32m✔\u001b[39m \u001b[34mtibble   \u001b[39m 3.2.0\n",
      "\u001b[32m✔\u001b[39m \u001b[34mlubridate\u001b[39m 1.9.2     \u001b[32m✔\u001b[39m \u001b[34mtidyr    \u001b[39m 1.3.0\n",
      "\u001b[32m✔\u001b[39m \u001b[34mpurrr    \u001b[39m 1.0.1     \n",
      "── \u001b[1mConflicts\u001b[22m ────────────────────────────────────────── tidyverse_conflicts() ──\n",
      "\u001b[31m✖\u001b[39m \u001b[34mdplyr\u001b[39m::\u001b[32mfilter()\u001b[39m masks \u001b[34mstats\u001b[39m::filter()\n",
      "\u001b[31m✖\u001b[39m \u001b[34mdplyr\u001b[39m::\u001b[32mlag()\u001b[39m    masks \u001b[34mstats\u001b[39m::lag()\n",
      "\u001b[36mℹ\u001b[39m Use the conflicted package (\u001b[3m\u001b[34m<http://conflicted.r-lib.org/>\u001b[39m\u001b[23m) to force all conflicts to become errors\n",
      "\n",
      "Attaching package: ‘igraph’\n",
      "\n",
      "\n",
      "The following objects are masked from ‘package:lubridate’:\n",
      "\n",
      "    %--%, union\n",
      "\n",
      "\n",
      "The following objects are masked from ‘package:dplyr’:\n",
      "\n",
      "    as_data_frame, groups, union\n",
      "\n",
      "\n",
      "The following objects are masked from ‘package:purrr’:\n",
      "\n",
      "    compose, simplify\n",
      "\n",
      "\n",
      "The following object is masked from ‘package:tidyr’:\n",
      "\n",
      "    crossing\n",
      "\n",
      "\n",
      "The following object is masked from ‘package:tibble’:\n",
      "\n",
      "    as_data_frame\n",
      "\n",
      "\n",
      "The following objects are masked from ‘package:stats’:\n",
      "\n",
      "    decompose, spectrum\n",
      "\n",
      "\n",
      "The following object is masked from ‘package:base’:\n",
      "\n",
      "    union\n",
      "\n",
      "\n",
      "Loading required package: grid\n",
      "\n",
      "========================================\n",
      "ComplexHeatmap version 2.10.0\n",
      "Bioconductor page: http://bioconductor.org/packages/ComplexHeatmap/\n",
      "Github page: https://github.com/jokergoo/ComplexHeatmap\n",
      "Documentation: http://jokergoo.github.io/ComplexHeatmap-reference\n",
      "\n",
      "If you use it in published research, please cite:\n",
      "Gu, Z. Complex heatmaps reveal patterns and correlations in multidimensional \n",
      "  genomic data. Bioinformatics 2016.\n",
      "\n",
      "The new InteractiveComplexHeatmap package can directly export static \n",
      "complex heatmaps into an interactive Shiny app with zero effort. Have a try!\n",
      "\n",
      "This message can be suppressed by:\n",
      "  suppressPackageStartupMessages(library(ComplexHeatmap))\n",
      "========================================\n",
      "\n",
      "\n"
     ]
    }
   ],
   "source": [
    "library(tidyverse)\n",
    "library(tools)\n",
    "library(logging)\n",
    "library(ggpubr)\n",
    "library(ggsci)\n",
    "library(patchwork)\n",
    "library(igraph)\n",
    "library(ggraph)\n",
    "library(CellChat)\n",
    "library(ComplexHeatmap)\n",
    "\n",
    "source('../../stage2/scripts/r_funcs.r')\n",
    "\n",
    "theme_set(theme_pubr())\n",
    "logging::basicConfig()\n",
    "options(warn = -1)\n",
    "\n",
    "outdir <- '../figures/figs3'\n",
    "create_dir(outdir)"
   ]
  },
  {
   "cell_type": "code",
   "execution_count": 2,
   "id": "c14e70ad-8b08-437b-bbd3-862f851569bf",
   "metadata": {
    "tags": [],
    "vscode": {
     "languageId": "r"
    }
   },
   "outputs": [],
   "source": [
    "f_pat_gp <- '../tables/patient_info_v2.tsv'\n",
    "gp <- 'response'\n",
    "\n",
    "gp_comp_map$response <- list(\n",
    "  c('R-pre', 'R-post'),\n",
    "  c('PR-pre', 'PR-post'),\n",
    "  c('R-pre', 'PR-pre'),\n",
    "  c('R-post', 'PR-post')\n",
    ")\n",
    "gp_lvls$response <- c('R', 'PR')\n",
    "comb_order <- c('R-pre', 'R-post', 'PR-pre', 'PR-post')\n",
    "\n",
    "ctype_map <- list(\n",
    "    'Tumor_Gp1' = c(\"Epi_M_CALML3\"),\n",
    "    'Tumor_Gp2' = c(\"Epi_M_CPS1\", \"Epi_M_MYBPC1\", \"Epi_M_PKP2\", \"Epi_M_SPRR3\", \"Epi_M_ACTL8\", 'Epi_M_RNASE1'),\n",
    "    'Epi_Normal' = c(\"Epi_A_IL1R2\", \"Epi_A_MGP\", \"Epi_N_LTF\", \"Epi_N_PIGR\"),\n",
    "    'Mixture' = c('Epi_T_Mix', 'Epi_B_Mix')\n",
    ")\n",
    "epi_gp_order <- c('Tumor_Gp1', 'Tumor_Gp2', 'Epi_Normal', 'Mixture')"
   ]
  },
  {
   "cell_type": "markdown",
   "id": "81a0de34-956d-4317-831d-0f6bb16ea7a8",
   "metadata": {
    "tags": []
   },
   "source": [
    "## malignant cell ratio: s3a"
   ]
  },
  {
   "cell_type": "code",
   "execution_count": 22,
   "id": "53c1db5f-ac0a-4e37-9853-b0066047d535",
   "metadata": {
    "tags": [],
    "vscode": {
     "languageId": "r"
    }
   },
   "outputs": [],
   "source": [
    "f_obs <- '../../stage4/a01_data/h5ad/epi_obs.csv'\n",
    "cutoff <- 0.02"
   ]
  },
  {
   "cell_type": "code",
   "execution_count": 37,
   "id": "68f98c37-af85-4458-bb90-ea22423b336b",
   "metadata": {
    "tags": [],
    "vscode": {
     "languageId": "r"
    }
   },
   "outputs": [
    {
     "name": "stderr",
     "output_type": "stream",
     "text": [
      "\u001b[1m\u001b[22mNew names:\n",
      "\u001b[36m•\u001b[39m `` -> `...1`\n"
     ]
    }
   ],
   "source": [
    "# stat\n",
    "df <- read_csv(file = f_obs, show_col_types = F) %>% \n",
    "    mutate(is_malig = if_else(infercnv_score >= cutoff, 'malig', 'non_malig')) %>% \n",
    "    count(cell_type, is_malig, name = 'n_cell_ctype_mtype') %>% \n",
    "    add_count(cell_type, wt = n_cell_ctype_mtype, name = 'n_cell_ctype') %>% \n",
    "    mutate(pct = 100 * n_cell_ctype_mtype / n_cell_ctype) %>% \n",
    "    pivot_wider(id_cols = 'cell_type', names_from = 'is_malig',\n",
    "                values_from = 'pct', values_fill = 0)\n",
    "df$epi_major <- df$cell_type\n",
    "for (nm in names(ctype_map)) {\n",
    "    df$epi_major[df$cell_type %in% ctype_map[[nm]]] <- nm\n",
    "}\n",
    "df %>% write_tsv(str_glue('{outdir}/figs3a-epi-malig_ratio.tsv'))"
   ]
  },
  {
   "cell_type": "code",
   "execution_count": 53,
   "id": "df185609-9b45-49bc-9c7e-7aa9567c7f08",
   "metadata": {
    "tags": [],
    "vscode": {
     "languageId": "r"
    }
   },
   "outputs": [],
   "source": [
    "p <- read_tsv(str_glue('{outdir}/figs3a-epi-malig_ratio.tsv'), show_col_types = F) %>% \n",
    "    mutate(epi_major = factor(epi_major, levels = epi_gp_order)) %>%\n",
    "    arrange(epi_major, cell_type) %>%\n",
    "    ggbarplot(x = 'cell_type', y = 'malig', fill = 'epi_major', palette = 'nejm') +\n",
    "    geom_hline(yintercept = c(25, 75), color = 'red', linetype = 'dashed') +\n",
    "    scale_y_continuous(expand = c(0, NA)) +\n",
    "    ylab('Ratio of predicted malignant cells') +\n",
    "    theme(axis.title.x = element_blank(), axis.text.x = element_text(angle = 60, hjust = 0.98),\n",
    "          legend.title = element_blank(), legend.position = 'right')\n",
    "ggsave(filename = str_glue('{outdir}/figs3a-bar-epi_malig_ratio.pdf'), plot = p, width = 7, height = 5)"
   ]
  },
  {
   "cell_type": "markdown",
   "id": "8847a2a5-d971-4f01-9ade-410b03338ce5",
   "metadata": {
    "tags": []
   },
   "source": [
    "## epi cluster cell composition: s3b"
   ]
  },
  {
   "cell_type": "code",
   "execution_count": null,
   "id": "8a078a99-87b2-4c94-92cf-3705262c24f2",
   "metadata": {
    "tags": [],
    "vscode": {
     "languageId": "r"
    }
   },
   "outputs": [],
   "source": [
    "f_epi_obs <- '../../stage4/a01_data/h5ad/epi_obs.csv'\n",
    "f_whole_obs <- '../../stage4/a01_data/h5ad/whole_obs.csv'"
   ]
  },
  {
   "cell_type": "code",
   "execution_count": 88,
   "id": "a5e50941-954d-494a-938e-cbe5de68c3f0",
   "metadata": {
    "tags": [],
    "vscode": {
     "languageId": "r"
    }
   },
   "outputs": [
    {
     "name": "stderr",
     "output_type": "stream",
     "text": [
      "\u001b[1m\u001b[22mNew names:\n",
      "\u001b[36m•\u001b[39m `` -> `...1`\n",
      "\u001b[1m\u001b[22mNew names:\n",
      "\u001b[36m•\u001b[39m `` -> `...1`\n"
     ]
    },
    {
     "name": "stdout",
     "output_type": "stream",
     "text": [
      "\u001b[0m2024-02-21 14:36:18 INFO::these clinial info will be added: patient_id, response\u001b[0m\u001b[22m\u001b[23m\u001b[24m\u001b[27m\u001b[28m\u001b[29m\u001b[39m\u001b[49m\u001b[0m\u001b[0m\u001b[22m\u001b[23m\u001b[24m\u001b[27m\u001b[28m\u001b[29m\u001b[39m\u001b[49m\n",
      "\u001b[0m2024-02-21 14:36:19 INFO::12/13 valid cell types\u001b[0m\u001b[22m\u001b[23m\u001b[24m\u001b[27m\u001b[28m\u001b[29m\u001b[39m\u001b[49m\u001b[0m\u001b[0m\u001b[22m\u001b[23m\u001b[24m\u001b[27m\u001b[28m\u001b[29m\u001b[39m\u001b[49m\n"
     ]
    }
   ],
   "source": [
    "# calculate cell composition\n",
    "df_samp <- read_csv(f_whole_obs, show_col_types = F) %>% \n",
    "    count(sample, name = 'n_cell_samp')\n",
    "df <- read_csv(f_epi_obs, show_col_types = F)\n",
    "\n",
    "df <- cal_cell_comp(df_info = df, samp_cnt = df_samp, clinical_cols = 'patient') %>% \n",
    "    mutate(sample_type = case_match(sample_type, 'Baseline' ~ 'pre', 'Treat' ~ 'post')) %>% \n",
    "    add_clin_info(ftsv = f_pat_gp, columns = c('patient_id', gp), merge_by = 'patient') %>%\n",
    "    add_count(sample, name = 'n_cell_per_sample_epi', wt = freq)  # count epi cells for each sample\n",
    "\n",
    "# add macro celltype\n",
    "df$macrotype <- df$cell_type\n",
    "for (nm in names(ctype_map)) {\n",
    "    df$macrotype[df$cell_type %in% ctype_map[[nm]]] <- nm\n",
    "}\n",
    "\n",
    "# filter\n",
    "df <- filter(df, !is.na(.data[[gp]]))\n",
    "valid_ctypes <- df %>%\n",
    "    summarise(.by = 'cell_type',\n",
    "              n_nonzero = sum(pct != 0)) %>%\n",
    "    filter(n_nonzero > 0) %>%\n",
    "    pull(cell_type)\n",
    "loginfo('%g/%g valid cell types', length(valid_ctypes), length(unique(df$cell_type)))\n",
    "df <- filter(df, cell_type %in% valid_ctypes)\n",
    "    \n",
    "\n",
    "df %>% write_tsv(str_glue('{outdir}/figs3c-epi-cluster_cc-flt.tsv'))"
   ]
  },
  {
   "cell_type": "code",
   "execution_count": null,
   "id": "488a8f44-e3f8-4012-bc7f-8fb84686ff0d",
   "metadata": {
    "tags": [],
    "vscode": {
     "languageId": "r"
    }
   },
   "outputs": [],
   "source": [
    "# plot\n",
    "# all samples\n",
    "p <- read_tsv(str_glue('{outdir}/figs3c-epi-cluster_cc-flt.tsv'), show_col_types = F) %>%\n",
    "    mutate(cell_label = paste(macrotype, cell_type, sep = ': ')) %>%\n",
    "    cell_comp_boxplot(x = c(gp, 'sample_type'), y = 'pct', pt_fill = gp, xangle = 60, size = 2,\n",
    "                      xorder = comb_order, fill_order = gp_lvls[[gp]], facet_by = 'cell_label', ncol = 6) +\n",
    "    stat_compare_means(comparisons = gp_comp_map[[gp]]) +\n",
    "    labs(y = 'Percent in Epi cells', fill = 'Response') +\n",
    "    theme(legend.position = 'right')\n",
    "ggsave(filename = str_glue('{outdir}/figs3c-box_cc_in_epi-clusters-all.pdf'), plot = p, width = 16, height = 8)"
   ]
  },
  {
   "cell_type": "markdown",
   "id": "017c1f09",
   "metadata": {},
   "source": [
    "## communication compare v2: s3c\n",
    "\n",
    "- date: 2024-02-23\n",
    "- desc: use cellchat, sample by sample results; filtering criteria:\n",
    "  - ligand/receptor should expressed in at least `min_cell` in source/target\n",
    "  - interactio should detected in at least `min_sample_num` samples intra sample groups\n",
    "  - filter out interactinos not significant in all samples intra sample groups\n",
    "  - sample group by response+sample_type"
   ]
  },
  {
   "cell_type": "code",
   "execution_count": null,
   "id": "5cc3b788",
   "metadata": {
    "vscode": {
     "languageId": "r"
    }
   },
   "outputs": [],
   "source": [
    "f_all_comm <- '../../stage4/a21_cell_comm/ek_hk_major/analysis/v2-interactions-with_clin-full.tsv'\n",
    "\n",
    "min_cell <- 50  # ligand/receptor should expressed in min_cell source/target cells\n",
    "min_sample_num <- 3  # interaction should detected in these samples intra sample group\n",
    "thresh <- 0.05  # significant threshold\n",
    "\n",
    "ctype_rename_map <- c('Tumor_Gp1' = 'EK_tumor', 'Tumor_Gp2' = 'HK_tumor')\n",
    "ctype_color <- c(\n",
    "    'B & Plasma' = '#e71818', 'Tumor_Gp1' = '#317dbd', 'Endothelial' = '#46ae46',\n",
    "    'Fibroblast' = '#9c4da5', 'Tumor_Gp2' = '#f79600', 'Myeloid' = '#f782bd', 'T cells' = '#bd9ece'\n",
    ")"
   ]
  },
  {
   "cell_type": "markdown",
   "id": "94be8115",
   "metadata": {},
   "source": [
    "### preprocess"
   ]
  },
  {
   "cell_type": "code",
   "execution_count": null,
   "id": "3008fc35",
   "metadata": {
    "vscode": {
     "languageId": "r"
    }
   },
   "outputs": [
    {
     "name": "stdout",
     "output_type": "stream",
     "text": [
      "\u001b[0m2024-02-27 14:12:52 INFO::these clinial info will be added: response\u001b[0m\u001b[22m\u001b[23m\u001b[24m\u001b[27m\u001b[28m\u001b[29m\u001b[39m\u001b[49m\u001b[0m\u001b[0m\u001b[22m\u001b[23m\u001b[24m\u001b[27m\u001b[28m\u001b[29m\u001b[39m\u001b[49m\n",
      "\u001b[0m2024-02-27 14:12:54 INFO::total 251965 interactions, 81 samples\u001b[0m\u001b[22m\u001b[23m\u001b[24m\u001b[27m\u001b[28m\u001b[29m\u001b[39m\u001b[49m\u001b[0m\u001b[0m\u001b[22m\u001b[23m\u001b[24m\u001b[27m\u001b[28m\u001b[29m\u001b[39m\u001b[49m\n"
     ]
    }
   ],
   "source": [
    "df_raw <- read_tsv(f_all_comm, show_col_types = F) %>%\n",
    "    select(-c('mandard_group', 'response_degree', 'treatment_group', 'patient_gp', 'patient_gp_v2')) %>%\n",
    "    add_clin_info(ftsv = f_pat_gp, columns = gp, merge_by = 'patient') %>% \n",
    "    mutate(sample_type = case_match(sample_type, 'Baseline' ~ 'pre', 'Treat' ~ 'post'))\n",
    "\n",
    "for (nm in names(ctype_rename_map)) {\n",
    "    df_raw$source[df_raw$source == ctype_rename_map[nm]] <- nm\n",
    "    df_raw$target[df_raw$target == ctype_rename_map[nm]] <- nm\n",
    "}\n",
    "loginfo('total %g interactions, %g samples', nrow(df_raw), length(unique(df_raw$sample)))"
   ]
  },
  {
   "cell_type": "code",
   "execution_count": null,
   "id": "6e1d5ddb",
   "metadata": {
    "vscode": {
     "languageId": "r"
    }
   },
   "outputs": [
    {
     "name": "stdout",
     "output_type": "stream",
     "text": [
      "\u001b[0m2024-02-27 14:12:54 INFO::discard Epi_Normal/other cells: 123150 pairs, 81 samples\u001b[0m\u001b[22m\u001b[23m\u001b[24m\u001b[27m\u001b[28m\u001b[29m\u001b[39m\u001b[49m\u001b[0m\u001b[0m\u001b[22m\u001b[23m\u001b[24m\u001b[27m\u001b[28m\u001b[29m\u001b[39m\u001b[49m\n",
      "\u001b[0m2024-02-27 14:12:54 INFO::filter by cell number >= 50: 95259 records, 81 samples\u001b[0m\u001b[22m\u001b[23m\u001b[24m\u001b[27m\u001b[28m\u001b[29m\u001b[39m\u001b[49m\u001b[0m\u001b[0m\u001b[22m\u001b[23m\u001b[24m\u001b[27m\u001b[28m\u001b[29m\u001b[39m\u001b[49m\n",
      "\u001b[0m2024-02-27 14:12:54 INFO::samples with response info: 79149 pairs, 70 samples\u001b[0m\u001b[22m\u001b[23m\u001b[24m\u001b[27m\u001b[28m\u001b[29m\u001b[39m\u001b[49m\u001b[0m\u001b[0m\u001b[22m\u001b[23m\u001b[24m\u001b[27m\u001b[28m\u001b[29m\u001b[39m\u001b[49m\n",
      "\u001b[0m2024-02-27 14:12:54 INFO::filter by sample number >= 3: 69965 records, 70 samples\u001b[0m\u001b[22m\u001b[23m\u001b[24m\u001b[27m\u001b[28m\u001b[29m\u001b[39m\u001b[49m\u001b[0m\u001b[0m\u001b[22m\u001b[23m\u001b[24m\u001b[27m\u001b[28m\u001b[29m\u001b[39m\u001b[49m\n",
      "\u001b[0m2024-02-27 14:12:55 INFO::filter out in-significant interactions: 67668 records, 70 samples\u001b[0m\u001b[22m\u001b[23m\u001b[24m\u001b[27m\u001b[28m\u001b[29m\u001b[39m\u001b[49m\u001b[0m\u001b[0m\u001b[22m\u001b[23m\u001b[24m\u001b[27m\u001b[28m\u001b[29m\u001b[39m\u001b[49m\n"
     ]
    }
   ],
   "source": [
    "# filtering\n",
    "# discard Epi_Normal, Epi_others relevant pairs\n",
    "df <- df_raw %>% \n",
    "    filter(!source %in% c('Epi_Norm', 'Epi_Others') & !target %in% c('Epi_Norm', 'Epi_Others'))\n",
    "loginfo('discard Epi_Normal/other cells: %g pairs, %g samples', nrow(df), length(unique(df$sample)))\n",
    "\n",
    "# filter by cell number\n",
    "df <- df %>% \n",
    "    filter(n_cell_receptor_in_target_max >= min_cell, \n",
    "           n_cell_ligand_in_source_max >= min_cell)\n",
    "loginfo('filter by cell number >= %g: %g records, %g samples',\n",
    "        min_cell, nrow(df), length(unique(df$sample)))\n",
    "\n",
    "# only samples with response\n",
    "df_flt <- df %>% \n",
    "    filter(.data[[gp]] %in% gp_lvls[[gp]])\n",
    "loginfo('samples with %s info: %g pairs, %g samples', gp, nrow(df_flt), length(unique(df_flt$sample)))\n",
    "\n",
    "# filter by sample number\n",
    "df_flt <- df_flt %>% \n",
    "    add_count(.data[[gp]], sample_type, source, target, interaction_name, name = 'n_sample') %>% \n",
    "    filter(n_sample >= min_sample_num)\n",
    "loginfo('filter by sample number >= %g: %g records, %g samples',\n",
    "        min_sample_num, nrow(df_flt), length(unique(df_flt$sample)))\n",
    "\n",
    "# filter in-significant interactions\n",
    "df_flt <- df_flt %>%\n",
    "    summarise(.by = c(gp, 'sample_type', 'source', 'target', 'interaction_name'),\n",
    "              p_min = min(pval)) %>%\n",
    "    filter(p_min <= thresh) %>%\n",
    "    select(.data[[gp]], sample_type, source, target, interaction_name) %>%\n",
    "    merge(df_flt, by = c(gp, 'sample_type', 'source', 'target', 'interaction_name'))\n",
    "loginfo('filter out in-significant interactions: %g records, %g samples',\n",
    "        nrow(df_flt), length(unique(df_flt$sample)))\n",
    "\n",
    "df_flt %>% write_tsv(str_glue('{outdir}/fig2j-cellchat_individual-flt_comm.tsv'), quote = 'needed')"
   ]
  },
  {
   "cell_type": "code",
   "execution_count": null,
   "id": "2209fc72",
   "metadata": {
    "vscode": {
     "languageId": "r"
    }
   },
   "outputs": [
    {
     "name": "stdout",
     "output_type": "stream",
     "text": [
      "\u001b[0m2024-02-27 14:12:55 INFO::summarize to dataset: 177 records\u001b[0m\u001b[22m\u001b[23m\u001b[24m\u001b[27m\u001b[28m\u001b[29m\u001b[39m\u001b[49m\u001b[0m\u001b[0m\u001b[22m\u001b[23m\u001b[24m\u001b[27m\u001b[28m\u001b[29m\u001b[39m\u001b[49m\n"
     ]
    },
    {
     "data": {
      "text/plain": [
       "    \n",
       "     post pre\n",
       "  PR   47  44\n",
       "  R    43  43"
      ]
     },
     "metadata": {},
     "output_type": "display_data"
    }
   ],
   "source": [
    "# summarise data to dataset (gp + sample_type)\n",
    "df_stat <- df_flt %>% \n",
    "    summarise(.by = c(.data[[gp]], sample_type, 'source', 'target', 'interaction_name'),\n",
    "              prob_agg = mean(prob)) %>%  # summarise for sample of each interaction\n",
    "    add_count(.data[[gp]], sample_type, source, target, name = 'n_interaction') %>% \n",
    "    summarise(.by = c(gp, 'sample_type', 'source', 'target', 'n_interaction'),\n",
    "              prob_mean = mean(prob_agg),\n",
    "              prob_med = median(prob_agg)) # summarise for interaction \n",
    "loginfo('summarize to dataset: %g records', nrow(df_stat))\n",
    "table(df_stat[[gp]], df_stat$sample_type, useNA = 'ifany')\n",
    "\n",
    "df_stat %>% write_tsv(str_glue('{outdir}/fig2j-cellchat_individual-flt_comm-stat.tsv'))"
   ]
  },
  {
   "cell_type": "markdown",
   "id": "af5678ba",
   "metadata": {},
   "source": [
    "### vlz using prob mean diff"
   ]
  },
  {
   "cell_type": "code",
   "execution_count": null,
   "id": "aca058f8",
   "metadata": {
    "vscode": {
     "languageId": "r"
    }
   },
   "outputs": [],
   "source": [
    "df_stat <- read_tsv(str_glue('{outdir}/fig2j-cellchat_individual-flt_comm-stat.tsv'), show_col_types = F)\n",
    "edge_color_map <- c('R > PR' = 'red', 'R < PR' = 'blue')\n",
    "\n",
    "coords <- as.matrix(data.frame(\n",
    "    c(1.0000000, -0.2225209, -0.9009689, -0.9009689, -0.2225209, 0.6234898, 0.6234898),\n",
    "    c(0.0000000, -0.9749279, 0.4338837, -0.4338837, 0.9749279, 0.7818315, -0.7818315)\n",
    "))"
   ]
  },
  {
   "cell_type": "code",
   "execution_count": null,
   "id": "124a8ca8",
   "metadata": {
    "vscode": {
     "languageId": "r"
    }
   },
   "outputs": [],
   "source": [
    "# init net plot nodes\n",
    "df_node <- data.frame(name = sort(unique(c(df_stat$source, df_stat$target))))\n",
    "df_node$node_color <- NA\n",
    "for (nm in names(ctype_color)) {\n",
    "    df_node$node_color[df_node$name == nm] <- ctype_color[nm]\n",
    "}\n",
    "df_node %>% write_tsv(str_glue('{outdir}/fig2j-cellchat_individual-node_info.tsv'))"
   ]
  },
  {
   "cell_type": "code",
   "execution_count": null,
   "id": "56fc44b5",
   "metadata": {
    "vscode": {
     "languageId": "r"
    }
   },
   "outputs": [
    {
     "name": "stdout",
     "output_type": "stream",
     "text": [
      "\u001b[0m2024-02-27 14:12:56 INFO::a(43) - b(44) => 47 diff edges.\u001b[0m\u001b[22m\u001b[23m\u001b[24m\u001b[27m\u001b[28m\u001b[29m\u001b[39m\u001b[49m\u001b[0m\u001b[0m\u001b[22m\u001b[23m\u001b[24m\u001b[27m\u001b[28m\u001b[29m\u001b[39m\u001b[49m\n",
      "\u001b[0m2024-02-27 14:12:56 INFO::a(43) - b(47) => 47 diff edges.\u001b[0m\u001b[22m\u001b[23m\u001b[24m\u001b[27m\u001b[28m\u001b[29m\u001b[39m\u001b[49m\u001b[0m\u001b[0m\u001b[22m\u001b[23m\u001b[24m\u001b[27m\u001b[28m\u001b[29m\u001b[39m\u001b[49m\n"
     ]
    }
   ],
   "source": [
    "# calculate dataset diff\n",
    "# pre: R vs PR\n",
    "df_diff <- cal_edge_weight_diff(\n",
    "    a = filter(df_stat, .data[[gp]] == 'R', sample_type == 'pre') %>% select(source, target, weight = prob_mean),\n",
    "    b = filter(df_stat, .data[[gp]] == 'PR', sample_type == 'pre') %>% select(source, target, weight = prob_mean)\n",
    ") %>%\n",
    "    mutate(comp_type = 'Pre-treatment: R vs PR')\n",
    "# post: R vs PR\n",
    "df_diff <- cal_edge_weight_diff(\n",
    "    a = filter(df_stat, .data[[gp]] == 'R', sample_type == 'post') %>% select(source, target, weight = prob_mean),\n",
    "    b = filter(df_stat, .data[[gp]] == 'PR', sample_type == 'post') %>% select(source, target, weight = prob_mean)\n",
    ") %>%\n",
    "    mutate(comp_type = 'Post-treatment: R vs PR') %>% \n",
    "    rbind.data.frame(df_diff) %>% \n",
    "    mutate(weight_type = if_else(weight.diff > 0, 'R > PR', 'R < PR'))\n",
    "df_diff %>% write_tsv(str_glue('{outdir}/fig2j-cellchat_individual-prob_mean_diff-R_vs_PR.tsv'))"
   ]
  },
  {
   "cell_type": "code",
   "execution_count": null,
   "id": "3470dd8f",
   "metadata": {
    "vscode": {
     "languageId": "r"
    }
   },
   "outputs": [
    {
     "data": {
      "text/html": [
       "<strong>png:</strong> 2"
      ],
      "text/latex": [
       "\\textbf{png:} 2"
      ],
      "text/markdown": [
       "**png:** 2"
      ],
      "text/plain": [
       "png \n",
       "  2 "
      ]
     },
     "metadata": {},
     "output_type": "display_data"
    }
   ],
   "source": [
    "pdf(str_glue('{outdir}/fig2j-cellchat_individual-prob_mean_diff-R_vs_PR.pdf'), width = 9, height = 5)\n",
    "par(mfrow = c(1, 2), mar = c(1.5, 0, 1.5, 0.5))\n",
    "for (ctype in c('Pre-treatment: R vs PR', 'Post-treatment: R vs PR')) {\n",
    "    df_edge <- df_diff %>%\n",
    "        filter(comp_type == ctype) %>%\n",
    "        select(source, target, weight, weight_type)\n",
    "    df_edge$edge_color <- NA\n",
    "    for (nm in names(edge_color_map)) {\n",
    "        df_edge$edge_color[df_edge$weight_type == nm] <- edge_color_map[[nm]]\n",
    "    }\n",
    "    # plot\n",
    "    net <- graph_from_data_frame(d = df_edge, vertices = df_node, directed = T)\n",
    "    plot(net, \n",
    "         edge.arrow.size = 0.5, \n",
    "         edge.curved = 0.4,\n",
    "         edge.color = E(net)$edge_color,\n",
    "         edge.width = get.edge.attribute(net, 'weight') * 200,\n",
    "         # edge.label = round(get.edge.attribute(net, 'weight') * 100, 1),\n",
    "         # edge.label.cex = 1,\n",
    "         vertex.size = 25,\n",
    "         vertex.color = V(net)$node_color,\n",
    "         vertex.label.color = \"black\",\n",
    "         vertex.label.cex = 1,\n",
    "         layout = coords,\n",
    "         main = ctype)\n",
    "}\n",
    "dev.off()"
   ]
  },
  {
   "cell_type": "markdown",
   "id": "c15dc672-f833-4ed5-9e1f-eed817c1c55a",
   "metadata": {},
   "source": [
    "## s3d: sample group"
   ]
  },
  {
   "cell_type": "code",
   "execution_count": 262,
   "id": "7abe7950-4e9b-46ef-abd9-c4809a861584",
   "metadata": {
    "tags": [],
    "vscode": {
     "languageId": "r"
    }
   },
   "outputs": [
    {
     "data": {
      "text/html": [
       "<table class=\"dataframe\">\n",
       "<caption>A tibble: 6 × 6</caption>\n",
       "<thead>\n",
       "\t<tr><th scope=col>mandard_grade</th><th scope=col>R</th><th scope=col>Gp1-</th><th scope=col>Gp1+</th><th scope=col>PR</th><th scope=col>NA</th></tr>\n",
       "\t<tr><th scope=col>&lt;dbl&gt;</th><th scope=col>&lt;int&gt;</th><th scope=col>&lt;int&gt;</th><th scope=col>&lt;int&gt;</th><th scope=col>&lt;int&gt;</th><th scope=col>&lt;int&gt;</th></tr>\n",
       "</thead>\n",
       "<tbody>\n",
       "\t<tr><td> 1</td><td>14</td><td>0</td><td>0</td><td>0</td><td> 0</td></tr>\n",
       "\t<tr><td> 2</td><td>11</td><td>0</td><td>0</td><td>0</td><td> 0</td></tr>\n",
       "\t<tr><td> 3</td><td> 0</td><td>4</td><td>0</td><td>1</td><td> 0</td></tr>\n",
       "\t<tr><td> 4</td><td> 0</td><td>4</td><td>4</td><td>2</td><td> 0</td></tr>\n",
       "\t<tr><td> 5</td><td> 0</td><td>0</td><td>1</td><td>0</td><td> 0</td></tr>\n",
       "\t<tr><td>NA</td><td> 0</td><td>0</td><td>0</td><td>0</td><td>11</td></tr>\n",
       "</tbody>\n",
       "</table>\n"
      ],
      "text/latex": [
       "A tibble: 6 × 6\n",
       "\\begin{tabular}{llllll}\n",
       " mandard\\_grade & R & Gp1- & Gp1+ & PR & NA\\\\\n",
       " <dbl> & <int> & <int> & <int> & <int> & <int>\\\\\n",
       "\\hline\n",
       "\t  1 & 14 & 0 & 0 & 0 &  0\\\\\n",
       "\t  2 & 11 & 0 & 0 & 0 &  0\\\\\n",
       "\t  3 &  0 & 4 & 0 & 1 &  0\\\\\n",
       "\t  4 &  0 & 4 & 4 & 2 &  0\\\\\n",
       "\t  5 &  0 & 0 & 1 & 0 &  0\\\\\n",
       "\t NA &  0 & 0 & 0 & 0 & 11\\\\\n",
       "\\end{tabular}\n"
      ],
      "text/markdown": [
       "\n",
       "A tibble: 6 × 6\n",
       "\n",
       "| mandard_grade &lt;dbl&gt; | R &lt;int&gt; | Gp1- &lt;int&gt; | Gp1+ &lt;int&gt; | PR &lt;int&gt; | NA &lt;int&gt; |\n",
       "|---|---|---|---|---|---|\n",
       "|  1 | 14 | 0 | 0 | 0 |  0 |\n",
       "|  2 | 11 | 0 | 0 | 0 |  0 |\n",
       "|  3 |  0 | 4 | 0 | 1 |  0 |\n",
       "|  4 |  0 | 4 | 4 | 2 |  0 |\n",
       "|  5 |  0 | 0 | 1 | 0 |  0 |\n",
       "| NA |  0 | 0 | 0 | 0 | 11 |\n",
       "\n"
      ],
      "text/plain": [
       "  mandard_grade R  Gp1- Gp1+ PR NA\n",
       "1  1            14 0    0    0   0\n",
       "2  2            11 0    0    0   0\n",
       "3  3             0 4    0    1   0\n",
       "4  4             0 4    4    2   0\n",
       "5  5             0 0    1    0   0\n",
       "6 NA             0 0    0    0  11"
      ]
     },
     "metadata": {},
     "output_type": "display_data"
    }
   ],
   "source": [
    "read_tsv('../tables/full_clin_by_sample.tsv', show_col_types = F) %>% \n",
    "filter(data_type == 'single-cell') %>% \n",
    "count(patient_id, response_detail, mandard_grade) %>% \n",
    "count(response_detail, mandard_grade) %>% \n",
    "pivot_wider(names_from = response_detail, values_from = n, values_fill = 0) %>% \n",
    "arrange(mandard_grade) %>% \n",
    "select('mandard_grade', 'R', 'Gp1-', 'Gp1+', 'PR', 'NA')"
   ]
  },
  {
   "cell_type": "code",
   "execution_count": null,
   "id": "2b73885e-80d1-49cd-bf25-343fc4d9d04f",
   "metadata": {
    "vscode": {
     "languageId": "r"
    }
   },
   "outputs": [],
   "source": []
  }
 ],
 "metadata": {
  "kernelspec": {
   "display_name": "r_env",
   "language": "R",
   "name": "r_env"
  },
  "language_info": {
   "codemirror_mode": "r",
   "file_extension": ".r",
   "mimetype": "text/x-r-source",
   "name": "R",
   "pygments_lexer": "r",
   "version": "4.1.3"
  }
 },
 "nbformat": 4,
 "nbformat_minor": 5
}

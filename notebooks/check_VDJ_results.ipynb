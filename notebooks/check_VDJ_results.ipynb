{
 "cells": [
  {
   "cell_type": "markdown",
   "id": "479a23a5-bda6-4ca8-bb72-f2e8820baaae",
   "metadata": {},
   "source": [
    "# 检查 VDJ 结果\n",
    "\n",
    "检查 VDJ 测序结果中，每个细胞是否仅对应个 clonotype"
   ]
  },
  {
   "cell_type": "code",
   "execution_count": 1,
   "id": "4a3f059a-a21f-4c88-95a9-effd2279de7b",
   "metadata": {},
   "outputs": [
    {
     "name": "stderr",
     "output_type": "stream",
     "text": [
      "── \u001b[1mAttaching packages\u001b[22m ─────────────────────────────────────── tidyverse 1.3.1 ──\n",
      "\n",
      "\u001b[32m✔\u001b[39m \u001b[34mggplot2\u001b[39m 3.3.6     \u001b[32m✔\u001b[39m \u001b[34mpurrr  \u001b[39m 0.3.4\n",
      "\u001b[32m✔\u001b[39m \u001b[34mtibble \u001b[39m 3.1.7     \u001b[32m✔\u001b[39m \u001b[34mdplyr  \u001b[39m 1.0.9\n",
      "\u001b[32m✔\u001b[39m \u001b[34mtidyr  \u001b[39m 1.2.0     \u001b[32m✔\u001b[39m \u001b[34mstringr\u001b[39m 1.4.0\n",
      "\u001b[32m✔\u001b[39m \u001b[34mreadr  \u001b[39m 2.1.2     \u001b[32m✔\u001b[39m \u001b[34mforcats\u001b[39m 0.5.1\n",
      "\n",
      "── \u001b[1mConflicts\u001b[22m ────────────────────────────────────────── tidyverse_conflicts() ──\n",
      "\u001b[31m✖\u001b[39m \u001b[34mdplyr\u001b[39m::\u001b[32mfilter()\u001b[39m masks \u001b[34mstats\u001b[39m::filter()\n",
      "\u001b[31m✖\u001b[39m \u001b[34mdplyr\u001b[39m::\u001b[32mlag()\u001b[39m    masks \u001b[34mstats\u001b[39m::lag()\n",
      "\n"
     ]
    }
   ],
   "source": [
    "library(tidyverse)"
   ]
  },
  {
   "cell_type": "code",
   "execution_count": 2,
   "id": "ada97e1d-7a27-4900-aaf7-cb944e579832",
   "metadata": {},
   "outputs": [
    {
     "name": "stderr",
     "output_type": "stream",
     "text": [
      "\u001b[1mRows: \u001b[22m\u001b[34m148\u001b[39m \u001b[1mColumns: \u001b[22m\u001b[34m4\u001b[39m\n",
      "\u001b[36m──\u001b[39m \u001b[1mColumn specification\u001b[22m \u001b[36m────────────────────────────────────────────────────────\u001b[39m\n",
      "\u001b[1mDelimiter:\u001b[22m \"\\t\"\n",
      "\u001b[31mchr\u001b[39m (4): old_sample, sample, dtype, dpath\n",
      "\n",
      "\u001b[36mℹ\u001b[39m Use `spec()` to retrieve the full column specification for this data.\n",
      "\u001b[36mℹ\u001b[39m Specify the column types or set `show_col_types = FALSE` to quiet this message.\n"
     ]
    }
   ],
   "source": [
    "df <- read_tsv(\"../s3_integrate/batch01to04/samples.tsv\") %>% \n",
    "    filter(dtype != 'RNA') %>% \n",
    "    mutate(dpath = gsub(\"filtered_contig_annotations.csv\", '', dpath))"
   ]
  },
  {
   "cell_type": "code",
   "execution_count": 3,
   "id": "e5da70b1-8aa6-49a6-b9e1-2bb2d659fdf9",
   "metadata": {},
   "outputs": [
    {
     "data": {
      "text/html": [
       "<table class=\"dataframe\">\n",
       "<caption>A tibble: 2 × 4</caption>\n",
       "<thead>\n",
       "\t<tr><th scope=col>old_sample</th><th scope=col>sample</th><th scope=col>dtype</th><th scope=col>dpath</th></tr>\n",
       "\t<tr><th scope=col>&lt;chr&gt;</th><th scope=col>&lt;chr&gt;</th><th scope=col>&lt;chr&gt;</th><th scope=col>&lt;chr&gt;</th></tr>\n",
       "</thead>\n",
       "<tbody>\n",
       "\t<tr><td>01-BKZ-034-T</td><td>P08-Baseline</td><td>TR</td><td>/nfsshare/wfRes/ESCA_YH//batch02/01-BKZ-034-T-TCR//Cellranger/outs/</td></tr>\n",
       "\t<tr><td>01-CFL-035-T</td><td>P09-Baseline</td><td>TR</td><td>/nfsshare/wfRes/ESCA_YH//batch02/01-CFL-035-T-TCR//Cellranger/outs/</td></tr>\n",
       "</tbody>\n",
       "</table>\n"
      ],
      "text/latex": [
       "A tibble: 2 × 4\n",
       "\\begin{tabular}{llll}\n",
       " old\\_sample & sample & dtype & dpath\\\\\n",
       " <chr> & <chr> & <chr> & <chr>\\\\\n",
       "\\hline\n",
       "\t 01-BKZ-034-T & P08-Baseline & TR & /nfsshare/wfRes/ESCA\\_YH//batch02/01-BKZ-034-T-TCR//Cellranger/outs/\\\\\n",
       "\t 01-CFL-035-T & P09-Baseline & TR & /nfsshare/wfRes/ESCA\\_YH//batch02/01-CFL-035-T-TCR//Cellranger/outs/\\\\\n",
       "\\end{tabular}\n"
      ],
      "text/markdown": [
       "\n",
       "A tibble: 2 × 4\n",
       "\n",
       "| old_sample &lt;chr&gt; | sample &lt;chr&gt; | dtype &lt;chr&gt; | dpath &lt;chr&gt; |\n",
       "|---|---|---|---|\n",
       "| 01-BKZ-034-T | P08-Baseline | TR | /nfsshare/wfRes/ESCA_YH//batch02/01-BKZ-034-T-TCR//Cellranger/outs/ |\n",
       "| 01-CFL-035-T | P09-Baseline | TR | /nfsshare/wfRes/ESCA_YH//batch02/01-CFL-035-T-TCR//Cellranger/outs/ |\n",
       "\n"
      ],
      "text/plain": [
       "  old_sample   sample       dtype\n",
       "1 01-BKZ-034-T P08-Baseline TR   \n",
       "2 01-CFL-035-T P09-Baseline TR   \n",
       "  dpath                                                              \n",
       "1 /nfsshare/wfRes/ESCA_YH//batch02/01-BKZ-034-T-TCR//Cellranger/outs/\n",
       "2 /nfsshare/wfRes/ESCA_YH//batch02/01-CFL-035-T-TCR//Cellranger/outs/"
      ]
     },
     "metadata": {},
     "output_type": "display_data"
    }
   ],
   "source": [
    "head(df, 2)"
   ]
  },
  {
   "cell_type": "code",
   "execution_count": 19,
   "id": "20e431ae-9477-423d-b3af-2bf8f69895f3",
   "metadata": {
    "tags": []
   },
   "outputs": [
    {
     "name": "stdout",
     "output_type": "stream",
     "text": [
      "[1] \"01-CKY-026-T TR 6328 : same\"\n",
      "[1] \"01-LSY-030-T TR 2608 : same\"\n",
      "[1] \"01-WLH-031-T TR 3260 : same\"\n",
      "[1] \"01-YJS-029-T TR 3704 : same\"\n",
      "[1] \"01-YSP-033-T TR 4934 : same\"\n",
      "[1] \"01-ZSM-025-T TR 4773 : same\"\n",
      "[1] \"03-HJC-012-T TR 3600 : same\"\n",
      "[1] \"03-HRX-006-T TR 1599 : same\"\n",
      "[1] \"03-LYZ-013-T TR 410 : same\"\n",
      "[1] \"01-BKZ-034-T TR 4382 : same\"\n",
      "[1] \"01-CFL-035-T TR 3888 : same\"\n",
      "[1] \"01-CQF-036-T TR 2819 : same\"\n",
      "[1] \"01-HHD-038-T TR 4537 : same\"\n",
      "[1] \"01-LZQ-044-T TR 6659 : same\"\n",
      "[1] \"01-MFY-041-T TR 5698 : same\"\n",
      "[1] \"01-WJS-040-T TR 4642 : same\"\n",
      "[1] \"01-WLS-042-T TR 5155 : same\"\n",
      "[1] \"01-XAY-039-T TR 6470 : same\"\n",
      "[1] \"01-YJ-037-T TR 5930 : same\"\n",
      "[1] \"01-YJQ-043-T TR 4439 : same\"\n",
      "[1] \"03-YSP-033-T TR 1167 : same\"\n",
      "[1] \"03-ZRY-032-T TR 5695 : same\"\n",
      "[1] \"01-FXP-050-T TR 3738 : same\"\n",
      "[1] \"01-GQS-048-T TR 2152 : same\"\n",
      "[1] \"01-HQR-057-T TR 2968 : same\"\n",
      "[1] \"01-HTY-061-T TR 1850 : same\"\n",
      "[1] \"01-JG-067-T TR 4064 : same\"\n",
      "[1] \"01-LBT-058-T TR 3862 : same\"\n",
      "[1] \"01-LDF-049-T TR 6270 : same\"\n",
      "[1] \"01-LTC-045-T TR 2951 : same\"\n",
      "[1] \"01-LYJ-063-T TR 3146 : same\"\n",
      "[1] \"01-LZB-055-T TR 5091 : same\"\n",
      "[1] \"01-LZX-056-T TR 3935 : same\"\n",
      "[1] \"01-MBQ-062-T TR 2479 : same\"\n",
      "[1] \"01-TSQ-060-T TR 4299 : same\"\n",
      "[1] \"01-WXL-051-T TR 3462 : same\"\n",
      "[1] \"01-YGX-066-T TR 1936 : same\"\n",
      "[1] \"01-YZ-046-T TR 6530 : same\"\n",
      "[1] \"01-ZQH-052-T TR 6114 : same\"\n",
      "[1] \"01-ZYH-047-T TR 4989 : same\"\n",
      "[1] \"03-BKZ-034-T TR 1511 : same\"\n",
      "[1] \"03-GYS-054-T TR 2472 : same\"\n",
      "[1] \"03-LZQ-044-T TR 1859 : same\"\n",
      "[1] \"03-YJ-037-T TR 6503 : same\"\n",
      "[1] \"03-ZHY-047-T TR 4152 : same\"\n",
      "[1] \"03-ZSM-025-T TR 73 : same\"\n",
      "[1] \"01-CJY-014-T IG 933 : same\"\n",
      "[1] \"01-CJY-014-T TR 8233 : same\"\n",
      "[1] \"01-DYC-022-T IG 3333 : same\"\n",
      "[1] \"01-DYC-022-T TR 4478 : same\"\n",
      "[1] \"01-DYJ-065-T TR 3782 : same\"\n",
      "[1] \"01-GWJ-064-T TR 5424 : same\"\n",
      "[1] \"01-GYS-054-T TR 1763 : same\"\n",
      "[1] \"01-JG-067-T TR 4064 : same\"\n",
      "[1] \"01-LJG-018-T IG 1535 : same\"\n",
      "[1] \"01-LJG-018-T TR 1250 : same\"\n",
      "[1] \"01-LYZ-013-T IG 396 : same\"\n",
      "[1] \"01-LYZ-013-T TR 3668 : same\"\n",
      "[1] \"01-SJ-021-T IG 412 : same\"\n",
      "[1] \"01-SJ-021-T TR 3395 : same\"\n",
      "[1] \"01-XXL-028-T TR 2471 : same\"\n",
      "[1] \"01-YGX-066-T TR 1936 : same\"\n",
      "[1] \"01-ZRY-032-T TR 3061 : same\"\n",
      "[1] \"01-ZXL-016-T IG 1046 : same\"\n",
      "[1] \"01-ZXL-016-T TR 6003 : same\"\n",
      "[1] \"01-ZYZ-053-T TR 3654 : same\"\n",
      "[1] \"03-BMQ-062-T TR 2112 : same\"\n",
      "[1] \"03-CFL-035-T1 TR 5723 : same\"\n",
      "[1] \"03-CJY-014-T TR 6135 : same\"\n",
      "[1] \"03-DYC-O22-T TR 3602 : same\"\n",
      "[1] \"03-LSY-030-T TR 3227 : same\"\n",
      "[1] \"03-LZB-055-T TR 1519 : same\"\n",
      "[1] \"03-LZX-056-T TR 2659 : same\"\n",
      "[1] \"03-SJ-021-T TR 3124 : same\"\n",
      "[1] \"03-XXL-028-T TR 5425 : same\"\n",
      "[1] \"03-YJS-029-T TR 4841 : same\"\n",
      "[1] \"03-ZQH-052-T TR 3362 : same\"\n",
      "[1] \"03-ZWL-017-T TR 887 : same\"\n",
      "[1] \"03-ZXL-016-T TR 1720 : same\"\n"
     ]
    }
   ],
   "source": [
    "for (i in 1:nrow(df)) {\n",
    "    clonotySum <- read_csv(paste0(df$dpath[i], 'clonotypes.csv'), show_col_types = F) %>%\n",
    "        select(frequency) %>%\n",
    "        sum()\n",
    "    metrics <- read_csv(paste0(df$dpath[i], 'metrics_summary.csv'), show_col_types = F) %>%\n",
    "        pull(`Estimated Number of Cells`)\n",
    "    if (clonotySum == metrics) {\n",
    "        print(paste(df$sample[i], df$dtype[i], metrics, \": same\"))\n",
    "    } else {\n",
    "        print(paste(df$sample[i], df$dtype[i], metrics, clonotySum,\": not same\"))\n",
    "    }\n",
    "}"
   ]
  },
  {
   "cell_type": "code",
   "execution_count": null,
   "id": "15765b09-a2a7-4c95-ad95-528c3d96e284",
   "metadata": {},
   "outputs": [],
   "source": []
  }
 ],
 "metadata": {
  "kernelspec": {
   "display_name": "R 4.1.3",
   "language": "R",
   "name": "r_env"
  },
  "language_info": {
   "codemirror_mode": "r",
   "file_extension": ".r",
   "mimetype": "text/x-r-source",
   "name": "R",
   "pygments_lexer": "r",
   "version": "4.1.3"
  }
 },
 "nbformat": 4,
 "nbformat_minor": 5
}

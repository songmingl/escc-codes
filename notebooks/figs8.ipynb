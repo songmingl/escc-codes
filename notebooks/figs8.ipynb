{
 "cells": [
  {
   "cell_type": "markdown",
   "id": "4e78bb62-b115-43fd-9fb7-c826ee2811a4",
   "metadata": {
    "tags": []
   },
   "source": [
    "# figure s8\n",
    "\n",
    "- kernel: r_env, R 4.1.3\n",
    "- date: 2024-0-22"
   ]
  },
  {
   "cell_type": "markdown",
   "id": "0e59ed14-a3c3-49a6-8411-ae918b67af3b",
   "metadata": {
    "tags": []
   },
   "source": [
    "## load"
   ]
  },
  {
   "cell_type": "code",
   "execution_count": null,
   "id": "95697196-8cfb-4a41-9105-a25a0d5c0baf",
   "metadata": {
    "tags": [],
    "vscode": {
     "languageId": "r"
    }
   },
   "outputs": [],
   "source": [
    "library(tidyverse)\n",
    "library(logging)\n",
    "library(ggpubr)\n",
    "library(ggsci)\n",
    "library(patchwork)\n",
    "library(Seurat)\n",
    "\n",
    "source('../scripts/r_funcs.r')\n",
    "\n",
    "theme_set(theme_pubr())\n",
    "logging::basicConfig()\n",
    "options(warn = -1)\n",
    "\n",
    "outdir <- '../figures/figs8'\n",
    "create_dir(outdir)"
   ]
  },
  {
   "cell_type": "code",
   "execution_count": 14,
   "id": "a861c9a0-c519-47c3-8d7b-1e864e2ec231",
   "metadata": {
    "tags": [],
    "vscode": {
     "languageId": "r"
    }
   },
   "outputs": [],
   "source": [
    "f_pat_gp <- '../tables/patient_info_v2.tsv'\n",
    "gp <- 'response'\n",
    "gp_lvls$response <- c('R', 'PR')\n",
    "gp_comp_map$response <- list(\n",
    "  c('R-pre', 'R-post'),\n",
    "  c('PR-pre', 'PR-post'),\n",
    "  c('R-pre', 'PR-pre'),\n",
    "  c('R-post', 'PR-post')\n",
    ")\n",
    "gp_comp_diff_map$response <- list(c('R', 'PR'))\n",
    "gp_comp_map_pre$response <- list(c('R-pre', 'PR-pre'))\n",
    "comb_order <- c('R-pre', 'R-post', 'PR-pre', 'PR-post')"
   ]
  },
  {
   "cell_type": "markdown",
   "id": "0c46a795-991b-4347-92d5-52b360e6f217",
   "metadata": {
    "tags": []
   },
   "source": [
    "## s8a: CD8_CXCL13 analysis"
   ]
  },
  {
   "cell_type": "markdown",
   "id": "1b7e44a9-5b29-47f1-bf1d-cbca84024d61",
   "metadata": {
    "jp-MarkdownHeadingCollapsed": true,
    "tags": []
   },
   "source": [
    "### delta expanded percent in subtype\n",
    "\n",
    "min10 cells"
   ]
  },
  {
   "cell_type": "code",
   "execution_count": 22,
   "id": "0fe93d1c-4560-43af-9701-1fe366121ed1",
   "metadata": {
    "tags": [],
    "vscode": {
     "languageId": "r"
    }
   },
   "outputs": [],
   "source": [
    "f_expand_diff <- '../figures/fig5/fig5a-expand_in_subtype-post_pre_delta.tsv'  # this is based on min10 cells results"
   ]
  },
  {
   "cell_type": "code",
   "execution_count": 24,
   "id": "19e81149-8849-4b0f-be83-08dac1367cc6",
   "metadata": {
    "tags": [],
    "vscode": {
     "languageId": "r"
    }
   },
   "outputs": [],
   "source": [
    "p <- read_tsv(f_expand_diff, show_col_types = F) %>% \n",
    "    filter(subtype == 'CD8_CXCL13') %>%\n",
    "    filter(!is.na(.data[[gp]])) %>% \n",
    "    cell_comp_boxplot(x = gp, y = 'pct_expand_diff', pt_fill = gp, pair_by = NULL, facet_by = NULL,\n",
    "                      xorder = gp_lvls[[gp]], fill_order = gp_lvls[[gp]], xangle = 60) +\n",
    "    stat_compare_means(comparisons = gp_comp_diff_map[[gp]]) +\n",
    "    labs(y = bquote(atop(Delta~'expanded cell percent in CD8_CXCL13', '(post - pre)')), fill = 'Response') +\n",
    "    theme(legend.justification = c(1, 0))\n",
    "ggsave(filename = str_glue('{outdir}/figs8a-box_expand_diff-CD8_CXCL13.pdf'), plot = p, width = 3, height = 4.5)"
   ]
  },
  {
   "cell_type": "markdown",
   "id": "63681171-dc85-40bd-b343-23213b1834e3",
   "metadata": {
    "jp-MarkdownHeadingCollapsed": true,
    "tags": []
   },
   "source": [
    "### shannon index\n",
    "\n",
    "min 10 cells"
   ]
  },
  {
   "cell_type": "code",
   "execution_count": 25,
   "id": "ccec5052-2929-46c0-8221-ddffd842ca40",
   "metadata": {
    "tags": [],
    "vscode": {
     "languageId": "r"
    }
   },
   "outputs": [],
   "source": [
    "f_diversity <- '../../stage4/a03_tcr/diversity/shannon_way2_min10.csv'"
   ]
  },
  {
   "cell_type": "code",
   "execution_count": 27,
   "id": "48a8791d-6321-49e9-8753-b8a71879980b",
   "metadata": {
    "tags": [],
    "vscode": {
     "languageId": "r"
    }
   },
   "outputs": [
    {
     "name": "stdout",
     "output_type": "stream",
     "text": [
      "\u001b[0m2024-02-23 00:07:27 INFO::these clinial info will be added: response\u001b[0m\u001b[22m\u001b[23m\u001b[24m\u001b[27m\u001b[28m\u001b[29m\u001b[39m\u001b[49m\u001b[0m\u001b[0m\u001b[22m\u001b[23m\u001b[24m\u001b[27m\u001b[28m\u001b[29m\u001b[39m\u001b[49m\n",
      "\u001b[0m2024-02-23 00:07:27 INFO::76 samples for CD8_CXCL13\u001b[0m\u001b[22m\u001b[23m\u001b[24m\u001b[27m\u001b[28m\u001b[29m\u001b[39m\u001b[49m\u001b[0m\u001b[0m\u001b[22m\u001b[23m\u001b[24m\u001b[27m\u001b[28m\u001b[29m\u001b[39m\u001b[49m\n"
     ]
    }
   ],
   "source": [
    "# process\n",
    "df <- read_csv(f_diversity, show_col_types = F) %>%\n",
    "    filter(subtype == 'CD8_CXCL13') %>%\n",
    "    select(patient, sample_type, shannon) %>% \n",
    "    add_clin_info(ftsv = f_pat_gp, columns = gp, merge_by = 'patient') %>%\n",
    "    mutate(sample_type = case_match(sample_type, 'Baseline' ~ 'pre', 'Treat' ~ 'post'))\n",
    "\n",
    "loginfo('%g samples for CD8_CXCL13', nrow(df))\n",
    "df %>% write_tsv(str_glue('{outdir}/figs8a-diversity-CD8_CXCL13-min10.tsv'))"
   ]
  },
  {
   "cell_type": "code",
   "execution_count": 28,
   "id": "22717663-e9ac-4c35-a111-b3afce9cbf18",
   "metadata": {
    "tags": [],
    "vscode": {
     "languageId": "r"
    }
   },
   "outputs": [],
   "source": [
    "p <- read_tsv(str_glue('{outdir}/figs8a-diversity-CD8_CXCL13-min10.tsv'), show_col_types = F) %>% \n",
    "    filter(!is.na(.data[[gp]])) %>% \n",
    "    cell_comp_boxplot(x = c(gp, 'sample_type'), y = 'shannon', pt_fill = gp, facet_by = NULL,\n",
    "                      xorder = comb_order, fill_order = gp_lvls[[gp]], xangle = 45) +\n",
    "    stat_compare_means(comparisons = gp_comp_map[[gp]]) +\n",
    "    labs(y = 'Shannon index', fill = 'Response')\n",
    "ggsave(filename = str_glue('{outdir}/figs8a-box_diversity-CD8_CXCL13.pdf'), plot = p, width = 3, height = 4.5)"
   ]
  },
  {
   "cell_type": "markdown",
   "id": "c4c7cdae",
   "metadata": {},
   "source": [
    "## s8b: clone fraction: shared with CD8_CX3CR1 vs shared with non-CD8_CX3CR1\n",
    "\n",
    "- sharing at sample level\n",
    "- re-calculate clone fraction (based on RNA & TCR data)\n",
    "- exclude CD8_CX3CR1 when plot"
   ]
  },
  {
   "cell_type": "code",
   "execution_count": null,
   "id": "6c32b2af",
   "metadata": {
    "vscode": {
     "languageId": "r"
    }
   },
   "outputs": [],
   "source": [
    "f_clone_info <- '../../stage4/a05_clone_share/clone_share_old/clone_sharing_info_per_cell.csv'\n",
    "comp_ls <- list(\n",
    "    c('CD8_CX3CR1_shared', 'otherT_shared'), \n",
    "    c('otherT_shared', 'specific'), \n",
    "    c('CD8_CX3CR1_shared', 'specific')\n",
    ")\n",
    "share_type_label_map <- c(\n",
    "    'CD8_CX3CR1_shared' = 'shared with\\nCD8_CX3CR1',\n",
    "    'otherT_shared' = 'shared with\\nnon-CD8_CX3CR1', \n",
    "    'specific' = 'unshared'\n",
    ")"
   ]
  },
  {
   "cell_type": "code",
   "execution_count": null,
   "id": "08a4dece",
   "metadata": {
    "vscode": {
     "languageId": "r"
    }
   },
   "outputs": [
    {
     "name": "stdout",
     "output_type": "stream",
     "text": [
      "\u001b[0m2024-02-05 18:06:34 INFO::131179 records of clonotypes in each sample, each subtype\u001b[0m\u001b[22m\u001b[23m\u001b[24m\u001b[27m\u001b[28m\u001b[29m\u001b[39m\u001b[49m\u001b[0m\u001b[0m\u001b[22m\u001b[23m\u001b[24m\u001b[27m\u001b[28m\u001b[29m\u001b[39m\u001b[49m\n"
     ]
    }
   ],
   "source": [
    "# re-calculate clone fraction\n",
    "clone_frac <- read_csv(f_clone_info, show_col_types = F)  %>%\n",
    "    add_count(sample, clonotype, name = 'n_cell_per_sample_clone') %>% \n",
    "    add_count(sample, name = 'n_cell_per_sample') %>% \n",
    "    select(sample, patient, sample_type, subtype, clonotype, share_type, n_cell_per_sample_clone, n_cell_per_sample) %>% \n",
    "    distinct() %>% \n",
    "    mutate(clone_frac_new = n_cell_per_sample_clone / n_cell_per_sample) %>%\n",
    "    filter(subtype != 'CD8_CX3CR1') %>% # no CD8_CX3CR1\n",
    "    mutate(sample_type = case_match(sample_type, 'Baseline' ~ 'pre', 'Treat' ~ 'post'))\n",
    "\n",
    "# rename cell types\n",
    "for (nm in names(celltype_map)) {\n",
    "    clone_frac$subtype[clone_frac$subtype %in% celltype_map[[nm]]] <- nm\n",
    "}\n",
    "# add cell state info\n",
    "clone_frac$cell_state <- 'unknown'\n",
    "for (nm in names(cell_state_map)) {\n",
    "    clone_frac$cell_state[clone_frac$subtype %in% cell_state_map[[nm]]] <- nm\n",
    "}\n",
    "clone_frac$cell_state[clone_frac$cell_state == 'cytotoxic'] <- 'other cytotoxic'\n",
    "\n",
    "clone_frac %>% write_tsv(str_glue('{outdir}/fig5d-tcr_share_inter_subtype-clone_frac_new.tsv'), quote = 'needed')\n",
    "loginfo('%g records of clonotypes in each sample, each subtype', nrow(clone_frac))"
   ]
  },
  {
   "cell_type": "code",
   "execution_count": null,
   "id": "4a16011b",
   "metadata": {
    "vscode": {
     "languageId": "r"
    }
   },
   "outputs": [],
   "source": [
    "# plot\n",
    "p <- read_tsv(str_glue('{outdir}/fig5d-tcr_share_inter_subtype-clone_frac_new.tsv'), show_col_types = F) %>% \n",
    "    mutate(cell_state = factor(cell_state, levels = c('other cytotoxic', 'exhausted', 'dying', 'others')),\n",
    "           share_type = factor(share_type, levels = names(share_type_label_map))) %>%\n",
    "    filter(!grepl('^NK', subtype)) %>%\n",
    "    ggviolin(x = 'share_type', y = 'clone_frac_new', fill = 'share_type', \n",
    "             facet.by = 'cell_state', ncol = 9, add = 'boxplot') + \n",
    "    stat_compare_means(comparisons = comp_ls) +\n",
    "    scale_fill_jco(breaks = names(share_type_label_map), labels = share_type_label_map) +\n",
    "    scale_x_discrete(labels = share_type_label_map) +\n",
    "    scale_y_continuous(trans = 'log10') +  # log10 won't influence wilcoxon test p value\n",
    "    labs(y = 'Clonotype fraction at sample level\\n(RNA & TCR data)', fill = 'TCR sharing type') +\n",
    "    theme(axis.text.x = element_text(angle = 45, hjust = 0.95), axis.title.x = element_blank())\n",
    "ggsave(filename = str_glue('{outdir}/fig5d-vln_tcr_share_inter_subtype-clone_frac_new.pdf'), \n",
    "       plot = p, width = 14, height = 6)"
   ]
  },
  {
   "cell_type": "markdown",
   "id": "ff9d766f",
   "metadata": {},
   "source": [
    "## s8d: endo markers expression"
   ]
  },
  {
   "cell_type": "code",
   "execution_count": null,
   "id": "41a68218",
   "metadata": {
    "vscode": {
     "languageId": "r"
    }
   },
   "outputs": [],
   "source": [
    "f_obj <- '../../stage4/a01_data/seuobj/endo.rds'\n",
    "markers <- list(\n",
    "    'endo' = c('PECAM1', 'PLVAP'),\n",
    "    'endo_vasc' = c('ICAM1', 'TEK'), \n",
    "    'endo_lymph' = c('LYVE1', 'PDPN', 'PROX1', 'FLT4'),\n",
    "    'endo_inflam' = c('VWF', 'SELP', 'VCAM1', 'CX3CL1'),\n",
    "    'junct' = c('CDH5'),\n",
    "    'pericyte' = c('ACTA2', 'RGS5'),\n",
    "    'endo_progen' = c('FLT1', 'KDR', 'MKI67'),\n",
    "    'endoMT_transi' = c('DCN', 'COL1A1', 'COL1A2')\n",
    ")"
   ]
  },
  {
   "cell_type": "code",
   "execution_count": null,
   "id": "ee796afd",
   "metadata": {
    "vscode": {
     "languageId": "r"
    }
   },
   "outputs": [],
   "source": [
    "scrna <- readRDS(f_obj)"
   ]
  },
  {
   "cell_type": "code",
   "execution_count": null,
   "id": "48caa6d0",
   "metadata": {
    "vscode": {
     "languageId": "r"
    }
   },
   "outputs": [
    {
     "name": "stderr",
     "output_type": "stream",
     "text": [
      "\u001b[1m\u001b[22mScale for \u001b[32mcolour\u001b[39m is already present.\n",
      "Adding another scale for \u001b[32mcolour\u001b[39m, which will replace the existing scale.\n"
     ]
    }
   ],
   "source": [
    "p <- DotPlot(scrna, feature = markers, group.by = 'cell_type') +\n",
    "    RotatedAxis() +\n",
    "    scale_color_gsea() +\n",
    "    theme(axis.title = element_blank())\n",
    "ggsave(filename = str_glue('{outdir}/figs8d-dot_exprs-endo_markers.pdf'),\n",
    "       plot = p, width = 14, height = 6)"
   ]
  },
  {
   "cell_type": "markdown",
   "id": "0e6ed68a-d800-40fc-b81e-fffec780695a",
   "metadata": {},
   "source": [
    "## CX3CL1 expression"
   ]
  },
  {
   "cell_type": "markdown",
   "id": "88670c43",
   "metadata": {},
   "source": [
    "### s8c: dotplot in whole data"
   ]
  },
  {
   "cell_type": "code",
   "execution_count": null,
   "id": "55073ee8",
   "metadata": {
    "vscode": {
     "languageId": "r"
    }
   },
   "outputs": [],
   "source": [
    "scrna <- readRDS('../../stage4/a01_data/seuobj/whole.rds')"
   ]
  },
  {
   "cell_type": "code",
   "execution_count": null,
   "id": "d17d0c7a",
   "metadata": {
    "vscode": {
     "languageId": "r"
    }
   },
   "outputs": [
    {
     "data": {
      "text/plain": [
       "\n",
       "B & Plasma cells      Endothelial       Epithelial       Fibroblast \n",
       "          103212            44055            75040           111164 \n",
       "         Myeloid          T cells \n",
       "          114636           302025 "
      ]
     },
     "metadata": {},
     "output_type": "display_data"
    }
   ],
   "source": [
    "scrna$celltype <- scrna$cell_type_correct\n",
    "scrna$celltype[scrna$cell_type_correct %in% c('B', 'Plasma')] <- 'B & Plasma cells'\n",
    "scrna$celltype[scrna$cell_type_correct %in% c('T')] <- 'T cells'\n",
    "table(scrna$celltype)"
   ]
  },
  {
   "cell_type": "code",
   "execution_count": null,
   "id": "a8bc770c",
   "metadata": {
    "vscode": {
     "languageId": "r"
    }
   },
   "outputs": [
    {
     "name": "stderr",
     "output_type": "stream",
     "text": [
      "\u001b[1m\u001b[22mScale for \u001b[32mcolour\u001b[39m is already present.\n",
      "Adding another scale for \u001b[32mcolour\u001b[39m, which will replace the existing scale.\n"
     ]
    }
   ],
   "source": [
    "p <- Seurat::DotPlot(scrna, features = 'CX3CL1', group.by = 'celltype') +\n",
    "    scale_color_gsea() +\n",
    "    theme(axis.title = element_blank())\n",
    "ggsave(filename = str_glue('{outdir}/fig5e-dot_exprs-cx3cl1-whole.pdf'), plot = p, width = 3.5, height = 4)"
   ]
  },
  {
   "cell_type": "markdown",
   "id": "749dbe38-6ff2-4de4-a04c-07ffc48fb26b",
   "metadata": {
    "jp-MarkdownHeadingCollapsed": true,
    "tags": []
   },
   "source": [
    "### weighted expression in Endo: s8e-1\n",
    "\n",
    "min 50 cells"
   ]
  },
  {
   "cell_type": "code",
   "execution_count": 40,
   "id": "5711c3c3-05f0-41a0-bbaa-05de849244e4",
   "metadata": {
    "tags": [],
    "vscode": {
     "languageId": "r"
    }
   },
   "outputs": [],
   "source": [
    "f_pbulk <- '../../stage4/a04_cx3cl1/endo_wt_cx3cl1_exprs_min50/cx3cl1_weighted_exprs_vs_t_cc.tsv'"
   ]
  },
  {
   "cell_type": "code",
   "execution_count": 50,
   "id": "3f97ea18-ef3c-4ecc-bb9c-d8b2f743b662",
   "metadata": {
    "tags": [],
    "vscode": {
     "languageId": "r"
    }
   },
   "outputs": [
    {
     "name": "stdout",
     "output_type": "stream",
     "text": [
      "\u001b[0m2024-02-23 00:27:11 INFO::these clinial info will be added: response\u001b[0m\u001b[22m\u001b[23m\u001b[24m\u001b[27m\u001b[28m\u001b[29m\u001b[39m\u001b[49m\u001b[0m\u001b[0m\u001b[22m\u001b[23m\u001b[24m\u001b[27m\u001b[28m\u001b[29m\u001b[39m\u001b[49m\n"
     ]
    }
   ],
   "source": [
    "df <- read_tsv(f_pbulk, show_col_types = F) %>% \n",
    "    select(sample, sample_type, patient, wt_cx3cl1_exprs_unlog) %>%\n",
    "    distinct() %>%\n",
    "    mutate(logcpm = log1p(wt_cx3cl1_exprs_unlog),\n",
    "           sample_type = case_match(sample_type, 'Baseline' ~ 'pre', 'Treat' ~ 'post')) %>% \n",
    "    add_clin_info(f_pat_gp, columns = gp, merge_by = 'patient')\n",
    "df %>% write_tsv(str_glue('{outdir}/figs8c-pbulk_exprs-weighted_CX3CL1_in_endo.tsv'))"
   ]
  },
  {
   "cell_type": "code",
   "execution_count": 54,
   "id": "1dc55d56-800e-4823-805f-5fa916f47a6f",
   "metadata": {
    "tags": [],
    "vscode": {
     "languageId": "r"
    }
   },
   "outputs": [],
   "source": [
    "p <- df %>%\n",
    "    filter(.data[[gp]] %in% gp_lvls[[gp]]) %>%\n",
    "    cell_comp_boxplot(x = c(gp, 'sample_type'), y = 'logcpm', pt_fill = gp, xangle = 60,\n",
    "                      xorder = comb_order, fill_order = gp_lvls[[gp]], facet_by = NULL) +\n",
    "    stat_compare_means(comparisons = mandard_group_comp) +\n",
    "    labs(y = 'Weighted CX3CL1 expression in Endo', fill = 'Response') +\n",
    "    stat_compare_means(comparisons = gp_comp_map[[gp]])\n",
    "ggsave(filename = str_glue('{outdir}/figs8c-box_pbulk_exprs-weighted_CX3CL1_in_endo.pdf'),\n",
    "       plot = p, width = 4, height = 6)"
   ]
  },
  {
   "cell_type": "markdown",
   "id": "0de1d73e-5d89-4f2b-a878-70c484f5e794",
   "metadata": {
    "jp-MarkdownHeadingCollapsed": true,
    "tags": []
   },
   "source": [
    "### expression in sample: s8e-2"
   ]
  },
  {
   "cell_type": "code",
   "execution_count": null,
   "id": "441aa797",
   "metadata": {
    "vscode": {
     "languageId": "r"
    }
   },
   "outputs": [],
   "source": [
    "f_exprs <- '../../stage4/a04_cx3cl1/tme_exprs/cx3cl1_tme_exprs.tsv'"
   ]
  },
  {
   "cell_type": "code",
   "execution_count": null,
   "id": "48930058",
   "metadata": {
    "vscode": {
     "languageId": "r"
    }
   },
   "outputs": [
    {
     "name": "stdout",
     "output_type": "stream",
     "text": [
      "\u001b[0m2024-02-05 17:19:07 INFO::these clinial info will be added: response\u001b[0m\u001b[22m\u001b[23m\u001b[24m\u001b[27m\u001b[28m\u001b[29m\u001b[39m\u001b[49m\u001b[0m\u001b[0m\u001b[22m\u001b[23m\u001b[24m\u001b[27m\u001b[28m\u001b[29m\u001b[39m\u001b[49m\n"
     ]
    }
   ],
   "source": [
    "# add clin info\n",
    "df <- read_tsv(f_exprs, show_col_types = F) %>%\n",
    "    separate(col = 'sample', into = c('patient', 'sample_type'), sep = '-', remove = F) %>% \n",
    "    mutate(cx3cl1_exprs_log = log1p(cx3cl1_exprs_unlog)) %>% \n",
    "    add_clin_info(ftsv = f_pat_gp, columns = gp, merge_by = 'patient') %>%\n",
    "    mutate(sample_type = case_match(sample_type, 'Baseline' ~ 'pre', 'Treat' ~ 'post'))\n",
    "\n",
    "df %>% write_tsv(str_glue('{outdir}/fig5f-pbulk_exprs-cx3cl1_in_TME.tsv'))"
   ]
  },
  {
   "cell_type": "code",
   "execution_count": null,
   "id": "92b77751",
   "metadata": {
    "vscode": {
     "languageId": "r"
    }
   },
   "outputs": [],
   "source": [
    "p <- read_tsv(str_glue('{outdir}/fig5f-pbulk_exprs-cx3cl1_in_TME.tsv'), show_col_types = F) %>% \n",
    "    filter(!is.na(.data[[gp]])) %>%\n",
    "    cell_comp_boxplot(x = c(gp, 'sample_type'), y = 'cx3cl1_exprs_log', pt_fill = gp, facet_by = NULL,\n",
    "                      xorder = comb_order, fill_order = gp_lvls[[gp]], xangle = 60) + \n",
    "    stat_compare_means(comparisons = gp_comp_map[[gp]]) +\n",
    "    labs(y = 'CX3CL1 expression in sample', fill = 'Response')\n",
    "ggsave(filename = str_glue('{outdir}/fig5f-box_exprs-cx3cl1_pbulk_in_TME.pdf'), plot = p, height = 5, width = 4)"
   ]
  },
  {
   "cell_type": "markdown",
   "id": "af706fcc-3697-4380-b6ff-14d7dc6c5126",
   "metadata": {
    "jp-MarkdownHeadingCollapsed": true,
    "tags": []
   },
   "source": [
    "### s8f: weight expression vs CD8_CX3CR1 shannon index"
   ]
  },
  {
   "cell_type": "code",
   "execution_count": 84,
   "id": "4a8b5ac4-ec07-4a2d-aab8-c2c4c281cf77",
   "metadata": {
    "tags": [],
    "vscode": {
     "languageId": "r"
    }
   },
   "outputs": [],
   "source": [
    "f_data <- '../../stage4/a04_cx3cl1/endo_wt_cx3cl1_exprs_min50/cx3cl1_weighted_exprs_vs_t_diversity.tsv'"
   ]
  },
  {
   "cell_type": "code",
   "execution_count": 85,
   "id": "70b51098-c591-4311-8a22-abeb47d812d7",
   "metadata": {
    "tags": [],
    "vscode": {
     "languageId": "r"
    }
   },
   "outputs": [
    {
     "name": "stdout",
     "output_type": "stream",
     "text": [
      "\u001b[0m2024-02-23 01:09:52 INFO::these clinial info will be added: response\u001b[0m\u001b[22m\u001b[23m\u001b[24m\u001b[27m\u001b[28m\u001b[29m\u001b[39m\u001b[49m\u001b[0m\u001b[0m\u001b[22m\u001b[23m\u001b[24m\u001b[27m\u001b[28m\u001b[29m\u001b[39m\u001b[49m\n"
     ]
    }
   ],
   "source": [
    "df <- read_tsv(f_data, show_col_types = F) %>% \n",
    "    mutate(wt_cx3cl1_exprs_log1p = log1p(wt_cx3cl1_exprs_unlog)) %>%\n",
    "    filter(subtype == 'CD8_CX3CR1') %>% \n",
    "    select(sample, patient, sample_type, wt_cx3cl1_exprs_log1p, cd8_cx3cr1_shannon = shannon) %>% \n",
    "    add_clin_info(f_pat_gp, columns = gp, merge_by = 'patient') %>% \n",
    "    mutate(sample_type = case_match(sample_type, 'Baseline' ~ 'pre', 'Treat' ~ 'post'))\n",
    "df %>% write_tsv(str_glue('{outdir}/figs8e-weighted_CX3CL1_exprs-CD8_CX3CR1_diversity.tsv'))"
   ]
  },
  {
   "cell_type": "code",
   "execution_count": 87,
   "id": "7e71fe61-ebc3-4827-8594-4a6ab3ad6b16",
   "metadata": {
    "tags": [],
    "vscode": {
     "languageId": "r"
    }
   },
   "outputs": [],
   "source": [
    "p <- df %>%\n",
    "    mutate(color_by = factor(.data[[gp]], gp_lvls[[gp]])) %>%\n",
    "    scatter_with_fit(x = 'wt_cx3cl1_exprs_log1p', y = 'cd8_cx3cr1_shannon', color = 'color_by') +\n",
    "    scale_color_nejm(na.value = 'gray50') +\n",
    "    ylim(0, NA) +\n",
    "    labs(x = 'Weighted CX3CL1 expression in Endo',\n",
    "         y = 'CD8_CX3CR1 clone diversity\\n(shannon index)',\n",
    "         color = 'Response')\n",
    "ggsave(filename = str_glue('{outdir}/figs8e-scatter_corr-weighted_CX3CL1_exprs-CD8_CX3CR1_diversity.pdf'),\n",
    "       plot = p, width = 5, height = 4)"
   ]
  },
  {
   "cell_type": "markdown",
   "id": "cd2b8f1f-5870-4227-b71d-912e48aa3f26",
   "metadata": {
    "jp-MarkdownHeadingCollapsed": true,
    "tags": []
   },
   "source": [
    "### s8g: CD8_CX3CR1 expanded pct in T+NK group by weight CX3CL1 exprs in endo"
   ]
  },
  {
   "cell_type": "code",
   "execution_count": 90,
   "id": "83ffb054-e4f2-455e-8ed5-7cbeaa1cd4ab",
   "metadata": {
    "tags": [],
    "vscode": {
     "languageId": "r"
    }
   },
   "outputs": [],
   "source": [
    "f_data <- '../../stage4/a04_cx3cl1/endo_wt_cx3cl1_exprs/cx3cl1_weighted_exprs_vs_clonoExpand.tsv'"
   ]
  },
  {
   "cell_type": "code",
   "execution_count": 95,
   "id": "e5786859-6323-4f00-b073-9285d444ee78",
   "metadata": {
    "tags": [],
    "vscode": {
     "languageId": "r"
    }
   },
   "outputs": [
    {
     "name": "stdout",
     "output_type": "stream",
     "text": [
      "\u001b[0m2024-02-23 01:14:50 INFO::these clinial info will be added: response\u001b[0m\u001b[22m\u001b[23m\u001b[24m\u001b[27m\u001b[28m\u001b[29m\u001b[39m\u001b[49m\u001b[0m\u001b[0m\u001b[22m\u001b[23m\u001b[24m\u001b[27m\u001b[28m\u001b[29m\u001b[39m\u001b[49m\n"
     ]
    }
   ],
   "source": [
    "df <- read_tsv(file = f_data, show_col_types = F) %>% \n",
    "    mutate(wt_cx3cl1_exprs_log1p = log1p(wt_cx3cl1_exprs_unlog)) %>%\n",
    "    filter(subtype == 'CD8_CX3CR1') %>% \n",
    "    select(sample, patient, wt_cx3cl1_exprs_log1p, cd8_cx3cr1_expand_pct_in_TNK = expand_pct_in_TNK) %>% \n",
    "    add_clin_info(ftsv = f_pat_gp, columns = gp, merge_by = 'patient')\n",
    "df %>% write_tsv(str_glue('{outdir}/figs8f-weighted_CX3CL1_exprs-CD8_CX3CR1_expand_pct_in_TNK.tsv'))"
   ]
  },
  {
   "cell_type": "code",
   "execution_count": 100,
   "id": "33aecb22-cafb-4dc6-82b0-80f7f882d907",
   "metadata": {
    "tags": [],
    "vscode": {
     "languageId": "r"
    }
   },
   "outputs": [
    {
     "name": "stdout",
     "output_type": "stream",
     "text": [
      "\u001b[0m2024-02-23 01:19:36 INFO::expression cutoff: 0.840079\u001b[0m\u001b[22m\u001b[23m\u001b[24m\u001b[27m\u001b[28m\u001b[29m\u001b[39m\u001b[49m\u001b[0m\u001b[0m\u001b[22m\u001b[23m\u001b[24m\u001b[27m\u001b[28m\u001b[29m\u001b[39m\u001b[49m\n"
     ]
    }
   ],
   "source": [
    "cutoff <- quantile(df$wt_cx3cl1_exprs_log1p, 0.5)\n",
    "loginfo('expression cutoff: %g', cutoff)\n",
    "p <- df %>% \n",
    "    mutate(exprs_type = if_else(wt_cx3cl1_exprs_log1p <= cutoff, 'Low', 'High'),\n",
    "           color_by = factor(.data[[gp]], gp_lvls[[gp]])) %>% \n",
    "    cell_comp_boxplot(x = 'exprs_type',\n",
    "                      y = 'cd8_cx3cr1_expand_pct_in_TNK', \n",
    "                      pt_fill = 'color_by',\n",
    "                      facet_by = NULL, pair_by = NULL,\n",
    "                      xorder = NULL, fill_order = gp_lvls[[gp]]) +\n",
    "    stat_compare_means(comparisons = list(c('High', 'Low'))) +\n",
    "    scale_y_continuous(trans=lognp_trans(n = 1),\n",
    "                       breaks = c(0, seq(1, 5, 1), 10)) +\n",
    "    labs(y = 'Expanded CD8_CX3CR1 cells in T+NK', fill = 'Response')\n",
    "ggsave(filename = str_glue('{outdir}/figs8f-CD8_CX3CR1_expand_pct_in_TNK-by_wt_cx3cl1_exprs_median.pdf'),\n",
    "       plot = p, width = 4, height = 6)"
   ]
  },
  {
   "cell_type": "markdown",
   "id": "a155ba2d-875f-4efc-8200-bf02781d8d6a",
   "metadata": {},
   "source": [
    "### s8h: endo cell composition\n",
    "\n",
    "only 3 samples with <= 50 endo cells (min 34), thus not filter by cell count"
   ]
  },
  {
   "cell_type": "code",
   "execution_count": 107,
   "id": "ceb61f5f-284e-4163-b3c4-42cb72a02a3c",
   "metadata": {
    "tags": [],
    "vscode": {
     "languageId": "r"
    }
   },
   "outputs": [],
   "source": [
    "f_cc <- '../../stage4/a02_cc/composition/endo_cell_comp.csv'\n",
    "valid_ctypes <- c('Endo_ACKR1', 'Endo_CCL21')"
   ]
  },
  {
   "cell_type": "code",
   "execution_count": 118,
   "id": "d1d4e611-589f-4918-ae0e-6a08aad847e2",
   "metadata": {
    "tags": [],
    "vscode": {
     "languageId": "r"
    }
   },
   "outputs": [
    {
     "name": "stdout",
     "output_type": "stream",
     "text": [
      "\u001b[0m2024-02-23 01:30:03 INFO::these clinial info will be added: response\u001b[0m\u001b[22m\u001b[23m\u001b[24m\u001b[27m\u001b[28m\u001b[29m\u001b[39m\u001b[49m\u001b[0m\u001b[0m\u001b[22m\u001b[23m\u001b[24m\u001b[27m\u001b[28m\u001b[29m\u001b[39m\u001b[49m\n"
     ]
    }
   ],
   "source": [
    "df <- read_csv(f_cc, show_col_types = F) %>%\n",
    "    filter(cell_type %in% valid_ctypes) %>%\n",
    "    select(sample, patient, sample_type, cell_type, pct) %>%\n",
    "    add_clin_info(ftsv = f_pat_gp, columns = gp, merge_by = 'patient') %>%\n",
    "    mutate(sample_type = case_match(sample_type, 'Baseline' ~ 'pre', 'Treat' ~ 'post'))\n",
    "\n",
    "df %>% write_tsv(str_glue('{outdir}/figs8g-cc_endo.tsv'))"
   ]
  },
  {
   "cell_type": "code",
   "execution_count": 131,
   "id": "b4788410-f03d-4209-b39a-b82ba051c19c",
   "metadata": {
    "tags": [],
    "vscode": {
     "languageId": "r"
    }
   },
   "outputs": [],
   "source": [
    "p <- df %>% \n",
    "    filter(.data[[gp]] %in% gp_lvls[[gp]]) %>%\n",
    "    cell_comp_boxplot(x = c(gp, 'sample_type'), y = 'pct', pt_fill = gp, xangle = 60,\n",
    "                      xorder = comb_order, fill_order = gp_lvls[[gp]]) +\n",
    "    stat_compare_means(comparisons = gp_comp_map[[gp]]) +\n",
    "    labs(y = 'Cell percent in Endo', fill = 'Response') +\n",
    "    theme(axis.title.x = element_blank(), legend.position = 'right')\n",
    "ggsave(filename = str_glue('{outdir}/figs8g-box_cc-endo.pdf'), plot = p, width = 6, height = 5)"
   ]
  },
  {
   "cell_type": "code",
   "execution_count": null,
   "id": "e8608aed-aeb7-435f-be5a-87525a9f0f83",
   "metadata": {
    "vscode": {
     "languageId": "r"
    }
   },
   "outputs": [],
   "source": []
  }
 ],
 "metadata": {
  "kernelspec": {
   "display_name": "R 4.1.3",
   "language": "R",
   "name": "r_env"
  },
  "language_info": {
   "codemirror_mode": "r",
   "file_extension": ".r",
   "mimetype": "text/x-r-source",
   "name": "R",
   "pygments_lexer": "r",
   "version": "4.1.3"
  },
  "toc-autonumbering": false,
  "toc-showmarkdowntxt": false
 },
 "nbformat": 4,
 "nbformat_minor": 5
}

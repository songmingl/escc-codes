{
 "cells": [
  {
   "cell_type": "markdown",
   "id": "0f2ee1f4-c291-4778-b8e5-cc459edec88a",
   "metadata": {},
   "source": [
    "# figure S4\n",
    "\n",
    "- kernel: r_env, R 4.1.3\n",
    "- date: 2024-01-19\n",
    "- desc: supplementary figure 4"
   ]
  },
  {
   "cell_type": "markdown",
   "id": "382896c4",
   "metadata": {},
   "source": [
    "## load"
   ]
  },
  {
   "cell_type": "code",
   "execution_count": null,
   "id": "8a9efef3",
   "metadata": {
    "vscode": {
     "languageId": "r"
    }
   },
   "outputs": [
    {
     "name": "stderr",
     "output_type": "stream",
     "text": [
      "── \u001b[1mAttaching core tidyverse packages\u001b[22m ──────────────────────── tidyverse 2.0.0 ──\n",
      "\u001b[32m✔\u001b[39m \u001b[34mdplyr    \u001b[39m 1.1.0     \u001b[32m✔\u001b[39m \u001b[34mreadr    \u001b[39m 2.1.4\n",
      "\u001b[32m✔\u001b[39m \u001b[34mforcats  \u001b[39m 1.0.0     \u001b[32m✔\u001b[39m \u001b[34mstringr  \u001b[39m 1.5.0\n",
      "\u001b[32m✔\u001b[39m \u001b[34mggplot2  \u001b[39m 3.4.1     \u001b[32m✔\u001b[39m \u001b[34mtibble   \u001b[39m 3.2.0\n",
      "\u001b[32m✔\u001b[39m \u001b[34mlubridate\u001b[39m 1.9.2     \u001b[32m✔\u001b[39m \u001b[34mtidyr    \u001b[39m 1.3.0\n",
      "\u001b[32m✔\u001b[39m \u001b[34mpurrr    \u001b[39m 1.0.1     \n",
      "── \u001b[1mConflicts\u001b[22m ────────────────────────────────────────── tidyverse_conflicts() ──\n",
      "\u001b[31m✖\u001b[39m \u001b[34mdplyr\u001b[39m::\u001b[32mfilter()\u001b[39m masks \u001b[34mstats\u001b[39m::filter()\n",
      "\u001b[31m✖\u001b[39m \u001b[34mdplyr\u001b[39m::\u001b[32mlag()\u001b[39m    masks \u001b[34mstats\u001b[39m::lag()\n",
      "\u001b[36mℹ\u001b[39m Use the conflicted package (\u001b[3m\u001b[34m<http://conflicted.r-lib.org/>\u001b[39m\u001b[23m) to force all conflicts to become errors\n"
     ]
    }
   ],
   "source": [
    "library(tidyverse)\n",
    "library(logging)\n",
    "library(ggpubr)\n",
    "library(ggsci)\n",
    "library(patchwork)\n",
    "\n",
    "source('../../stage2/scripts/r_funcs.r')\n",
    "\n",
    "theme_set(theme_pubr())\n",
    "logging::basicConfig()\n",
    "options(warn = -1)"
   ]
  },
  {
   "cell_type": "code",
   "execution_count": null,
   "id": "512b396a",
   "metadata": {
    "vscode": {
     "languageId": "r"
    }
   },
   "outputs": [],
   "source": [
    "# basical informatino\n",
    "outdir <- '../figures/figs6'\n",
    "create_dir(outdir)\n",
    "f_pat_gp <- '../tables/patient_info_v2.tsv'"
   ]
  },
  {
   "cell_type": "code",
   "execution_count": null,
   "id": "c45b3369",
   "metadata": {
    "vscode": {
     "languageId": "r"
    }
   },
   "outputs": [],
   "source": [
    "gp <- 'response'\n",
    "\n",
    "gp_comp_map$response <- list(\n",
    "  c('R-pre', 'R-post'),\n",
    "  c('PR-pre', 'PR-post'),\n",
    "  c('R-pre', 'PR-pre'),\n",
    "  c('R-post', 'PR-post')\n",
    ")\n",
    "gp_lvls$response <- c('R', 'PR')\n",
    "comb_order <- c('R-pre', 'R-post', 'PR-pre', 'PR-post')"
   ]
  },
  {
   "cell_type": "markdown",
   "id": "9925bbd1",
   "metadata": {},
   "source": [
    "## virus detection status in major cell type\n",
    "\n",
    "- desc: virus-detected means > 0 reads mapped to virus"
   ]
  },
  {
   "cell_type": "code",
   "execution_count": null,
   "id": "fefc2de5",
   "metadata": {
    "vscode": {
     "languageId": "r"
    }
   },
   "outputs": [],
   "source": [
    "f_obs <- '../../stage4/a24_microbe/domain_lvl/whole_obs_with_domain_logrpm.rds'\n",
    "cutoff <- 0\n",
    "ctype_map <- list(\n",
    "    'B & Plasma' = c('B', 'Plasma'),\n",
    "    'T cells' = c('T')\n",
    ")\n",
    "ctype_order <- c('B & Plasma', 'Myeloid', 'T cells', 'Endothelial', 'Epithelial', 'Fibroblast')"
   ]
  },
  {
   "cell_type": "code",
   "execution_count": null,
   "id": "f41c4ed4",
   "metadata": {
    "vscode": {
     "languageId": "r"
    }
   },
   "outputs": [
    {
     "data": {
      "text/plain": [
       "             \n",
       "               FALSE   TRUE   <NA>\n",
       "  B & Plasma   83532  19649     31\n",
       "  Endothelial  34688   9349     18\n",
       "  Epithelial   51237  23750     53\n",
       "  Fibroblast   87797  23322     45\n",
       "  Myeloid      89475  24917    244\n",
       "  T cells     269138  32360    527"
      ]
     },
     "metadata": {},
     "output_type": "display_data"
    }
   ],
   "source": [
    "meta <- readRDS(f_obs)\n",
    "meta$celltype <- meta$cell_type_correct\n",
    "for (nm in names(ctype_map)) {\n",
    "    meta$celltype[meta$cell_type_correct %in% ctype_map[[nm]]] <- nm\n",
    "}\n",
    "\n",
    "table(meta$celltype, meta$Viruses != 0, useNA = 'ifany')"
   ]
  },
  {
   "cell_type": "markdown",
   "id": "ad7b4186",
   "metadata": {},
   "source": [
    "### overview: s6a"
   ]
  },
  {
   "cell_type": "code",
   "execution_count": null,
   "id": "582061af",
   "metadata": {
    "vscode": {
     "languageId": "r"
    }
   },
   "outputs": [],
   "source": [
    "# rpm to binary, show proportion in cell types\n",
    "df <- meta %>%\n",
    "    mutate(bi_type = case_when(\n",
    "        is.na(Viruses) ~ NA_character_,\n",
    "        Viruses > cutoff ~ 'Virus-detected',\n",
    "        Viruses <= cutoff ~ 'Non-detected',\n",
    "        TRUE ~ 'others'\n",
    "    )) %>%\n",
    "    count(celltype, bi_type, name = 'n_cell')\n",
    "df %>% write_tsv(str_glue('{outdir}/fig6a-virus_detection_in_macrotype-bi-cell_cnt.tsv'))"
   ]
  },
  {
   "cell_type": "code",
   "execution_count": null,
   "id": "33847bb4",
   "metadata": {
    "vscode": {
     "languageId": "r"
    }
   },
   "outputs": [],
   "source": [
    "# plot\n",
    "p <- read_tsv(str_glue('{outdir}/fig6a-virus_detection_in_macrotype-bi-cell_cnt.tsv'), show_col_types = F) %>%\n",
    "    mutate(bi_type = factor(bi_type, c('Virus-detected', 'Non-detected')),\n",
    "           celltype = factor(celltype, ctype_order)) %>%\n",
    "    ggbarplot(x = 'celltype', y = 'n_cell', fill = 'bi_type', position = position_fill()) +\n",
    "    scale_fill_nejm(na.value = 'gray50') +\n",
    "    labs(y = 'Cell proportion', fill = '') +\n",
    "    theme(axis.title.x = element_blank(), axis.text.x = element_text(angle = 60, hjust = 0.98))\n",
    "ggsave(filename = str_glue('{outdir}/figs6a-bar-virus_dist_in_macrotype.pdf'), width = 5, height = 4, plot = p)"
   ]
  },
  {
   "cell_type": "markdown",
   "id": "b00ea6ae",
   "metadata": {},
   "source": [
    "### sample level: s6b\n",
    "\n",
    "- desc: min 50 cells each sample each major cell type"
   ]
  },
  {
   "cell_type": "code",
   "execution_count": null,
   "id": "bd8bbbad",
   "metadata": {
    "vscode": {
     "languageId": "r"
    }
   },
   "outputs": [
    {
     "name": "stdout",
     "output_type": "stream",
     "text": [
      "\u001b[0m2024-02-22 15:13:45 INFO::these clinial info will be added: response\u001b[0m\u001b[22m\u001b[23m\u001b[24m\u001b[27m\u001b[28m\u001b[29m\u001b[39m\u001b[49m\u001b[0m\u001b[0m\u001b[22m\u001b[23m\u001b[24m\u001b[27m\u001b[28m\u001b[29m\u001b[39m\u001b[49m\n"
     ]
    }
   ],
   "source": [
    "min_cell <- 50\n",
    "\n",
    "# rpm to binary, show proportion in cell types at sample level\n",
    "df <- meta %>%\n",
    "    mutate(bi_type = case_when(\n",
    "        is.na(Viruses) ~ NA_character_,\n",
    "        Viruses > cutoff ~ 'Virus-detected',\n",
    "        Viruses <= cutoff ~ 'Non-detected',\n",
    "        TRUE ~ 'others'\n",
    "    )) %>%\n",
    "    count(celltype, sample, bi_type, name = 'n_cell') %>%\n",
    "    add_count(celltype, sample, wt = n_cell, name = 'n_cell_per_sample_ctype') %>%\n",
    "    filter(n_cell_per_sample_ctype >= min_cell) %>%\n",
    "    mutate(pct = 100 * n_cell / n_cell_per_sample_ctype) %>%\n",
    "    pivot_wider(id_cols = c('sample', 'celltype',), \n",
    "                names_from = 'bi_type', values_from = 'pct', values_fill = 0) %>%\n",
    "    separate(col = 'sample', into = c('patient', 'sample_type'), sep = '-', remove = F) %>%\n",
    "    mutate(sample_type = case_match(sample_type, 'Baseline' ~ 'pre', 'Treat' ~ 'post')) %>%\n",
    "    add_clin_info(ftsv = f_pat_gp, columns = gp, merge_by = 'patient')\n",
    "df %>% write_tsv(str_glue('{outdir}/fig6b-virus_detection_in_macrotype-bi-sample_lvl-pct.tsv'))"
   ]
  },
  {
   "cell_type": "code",
   "execution_count": null,
   "id": "879ae891",
   "metadata": {
    "vscode": {
     "languageId": "r"
    }
   },
   "outputs": [],
   "source": [
    "p <- read_tsv(str_glue('{outdir}/fig6b-virus_detection_in_macrotype-bi-sample_lvl-pct.tsv'), show_col_types = F) %>% \n",
    "    filter(!is.na(.data[[gp]])) %>%\n",
    "    mutate(celltype = factor(celltype, ctype_order)) %>% \n",
    "    cell_comp_boxplot(x = c(gp, 'sample_type'), y = 'Virus-detected', pt_fill = gp, pair_by = 'patient', \n",
    "                      xorder = comb_order, fill_order = gp_lvls[[gp]], facet_by = 'celltype', ncol = 3) +\n",
    "    stat_compare_means(comparisons = gp_comp_map[[gp]]) +\n",
    "    labs(y = 'Percent of virus-detected cells', fill = 'Response') +\n",
    "    theme(axis.title.x = element_blank())\n",
    "ggsave(filename = str_glue('{outdir}/figs6b-box_cell_pct-virus_detected_cells.pdf'), width = 8, height = 7, plot = p)"
   ]
  },
  {
   "cell_type": "code",
   "execution_count": 3,
   "id": "fff3f633-701d-4a55-b42e-60c69f11c620",
   "metadata": {
    "tags": [],
    "vscode": {
     "languageId": "r"
    }
   },
   "outputs": [],
   "source": [
    "# T cell state mapping\n",
    "df <- read_tsv(f_cell_state, show_col_types = F)\n",
    "\n",
    "cell_state_order <- c('cytotoxic', 'exhausted', 'dying', 'others', 'NK')\n",
    "cell_state_map <- split(df$node, df$node_type)\n",
    "cell_state_map$NK <- c('NK', 'NK_CX3CR1')\n",
    "cell_state_map <- cell_state_map[cell_state_order]\n",
    "\n",
    "cell_state_color <- c('exhausted' = '#023fa5', 'cytotoxic' = 'red', \n",
    "                      'dying' = '#bb7784', 'others' = '#ff9639',\n",
    "                      'NK' = 'gray50')"
   ]
  },
  {
   "cell_type": "code",
   "execution_count": 4,
   "id": "75229ea3-5adf-48c7-b21f-bfd433fd36d2",
   "metadata": {
    "collapsed": true,
    "jupyter": {
     "outputs_hidden": true
    },
    "tags": [],
    "vscode": {
     "languageId": "r"
    }
   },
   "outputs": [
    {
     "data": {
      "text/html": [
       "<dl>\n",
       "\t<dt>$cytotoxic</dt>\n",
       "\t\t<dd><style>\n",
       ".list-inline {list-style: none; margin:0; padding: 0}\n",
       ".list-inline>li {display: inline-block}\n",
       ".list-inline>li:not(:last-child)::after {content: \"\\00b7\"; padding: 0 .5ex}\n",
       "</style>\n",
       "<ol class=list-inline><li>'CD8_ANXA1'</li><li>'CD8_CCL5'</li><li>'CD8_CX3CR1'</li><li>'CD8_FOS'</li><li>'CD8_GZMK'</li><li>'CD8_KLRB1'</li></ol>\n",
       "</dd>\n",
       "\t<dt>$exhausted</dt>\n",
       "\t\t<dd><style>\n",
       ".list-inline {list-style: none; margin:0; padding: 0}\n",
       ".list-inline>li {display: inline-block}\n",
       ".list-inline>li:not(:last-child)::after {content: \"\\00b7\"; padding: 0 .5ex}\n",
       "</style>\n",
       "<ol class=list-inline><li>'CD4_CXCL13'</li><li>'CD8_CXCL13'</li><li>'CD8_TYMS'</li><li>'T_MKI67'</li><li>'Treg_TNFRSF4'</li></ol>\n",
       "</dd>\n",
       "\t<dt>$dying</dt>\n",
       "\t\t<dd>'T_Mito'</dd>\n",
       "\t<dt>$others</dt>\n",
       "\t\t<dd><style>\n",
       ".list-inline {list-style: none; margin:0; padding: 0}\n",
       ".list-inline>li {display: inline-block}\n",
       ".list-inline>li:not(:last-child)::after {content: \"\\00b7\"; padding: 0 .5ex}\n",
       "</style>\n",
       "<ol class=list-inline><li>'CD4_KLRB1'</li><li>'CD8_CD74'</li><li>'CD8_IFIT1'</li><li>'T_IL7R'</li><li>'T_Ribo'</li><li>'Treg_LTB'</li></ol>\n",
       "</dd>\n",
       "\t<dt>$NK</dt>\n",
       "\t\t<dd><style>\n",
       ".list-inline {list-style: none; margin:0; padding: 0}\n",
       ".list-inline>li {display: inline-block}\n",
       ".list-inline>li:not(:last-child)::after {content: \"\\00b7\"; padding: 0 .5ex}\n",
       "</style>\n",
       "<ol class=list-inline><li>'NK'</li><li>'NK_CX3CR1'</li></ol>\n",
       "</dd>\n",
       "</dl>\n"
      ],
      "text/latex": [
       "\\begin{description}\n",
       "\\item[\\$cytotoxic] \\begin{enumerate*}\n",
       "\\item 'CD8\\_ANXA1'\n",
       "\\item 'CD8\\_CCL5'\n",
       "\\item 'CD8\\_CX3CR1'\n",
       "\\item 'CD8\\_FOS'\n",
       "\\item 'CD8\\_GZMK'\n",
       "\\item 'CD8\\_KLRB1'\n",
       "\\end{enumerate*}\n",
       "\n",
       "\\item[\\$exhausted] \\begin{enumerate*}\n",
       "\\item 'CD4\\_CXCL13'\n",
       "\\item 'CD8\\_CXCL13'\n",
       "\\item 'CD8\\_TYMS'\n",
       "\\item 'T\\_MKI67'\n",
       "\\item 'Treg\\_TNFRSF4'\n",
       "\\end{enumerate*}\n",
       "\n",
       "\\item[\\$dying] 'T\\_Mito'\n",
       "\\item[\\$others] \\begin{enumerate*}\n",
       "\\item 'CD4\\_KLRB1'\n",
       "\\item 'CD8\\_CD74'\n",
       "\\item 'CD8\\_IFIT1'\n",
       "\\item 'T\\_IL7R'\n",
       "\\item 'T\\_Ribo'\n",
       "\\item 'Treg\\_LTB'\n",
       "\\end{enumerate*}\n",
       "\n",
       "\\item[\\$NK] \\begin{enumerate*}\n",
       "\\item 'NK'\n",
       "\\item 'NK\\_CX3CR1'\n",
       "\\end{enumerate*}\n",
       "\n",
       "\\end{description}\n"
      ],
      "text/markdown": [
       "$cytotoxic\n",
       ":   1. 'CD8_ANXA1'\n",
       "2. 'CD8_CCL5'\n",
       "3. 'CD8_CX3CR1'\n",
       "4. 'CD8_FOS'\n",
       "5. 'CD8_GZMK'\n",
       "6. 'CD8_KLRB1'\n",
       "\n",
       "\n",
       "\n",
       "$exhausted\n",
       ":   1. 'CD4_CXCL13'\n",
       "2. 'CD8_CXCL13'\n",
       "3. 'CD8_TYMS'\n",
       "4. 'T_MKI67'\n",
       "5. 'Treg_TNFRSF4'\n",
       "\n",
       "\n",
       "\n",
       "$dying\n",
       ":   'T_Mito'\n",
       "$others\n",
       ":   1. 'CD4_KLRB1'\n",
       "2. 'CD8_CD74'\n",
       "3. 'CD8_IFIT1'\n",
       "4. 'T_IL7R'\n",
       "5. 'T_Ribo'\n",
       "6. 'Treg_LTB'\n",
       "\n",
       "\n",
       "\n",
       "$NK\n",
       ":   1. 'NK'\n",
       "2. 'NK_CX3CR1'\n",
       "\n",
       "\n",
       "\n",
       "\n",
       "\n"
      ],
      "text/plain": [
       "$cytotoxic\n",
       "[1] \"CD8_ANXA1\"  \"CD8_CCL5\"   \"CD8_CX3CR1\" \"CD8_FOS\"    \"CD8_GZMK\"  \n",
       "[6] \"CD8_KLRB1\" \n",
       "\n",
       "$exhausted\n",
       "[1] \"CD4_CXCL13\"   \"CD8_CXCL13\"   \"CD8_TYMS\"     \"T_MKI67\"      \"Treg_TNFRSF4\"\n",
       "\n",
       "$dying\n",
       "[1] \"T_Mito\"\n",
       "\n",
       "$others\n",
       "[1] \"CD4_KLRB1\" \"CD8_CD74\"  \"CD8_IFIT1\" \"T_IL7R\"    \"T_Ribo\"    \"Treg_LTB\" \n",
       "\n",
       "$NK\n",
       "[1] \"NK\"        \"NK_CX3CR1\"\n"
      ]
     },
     "metadata": {},
     "output_type": "display_data"
    }
   ],
   "source": [
    "cell_state_map"
   ]
  },
  {
   "cell_type": "code",
   "execution_count": null,
   "id": "56147645-1f65-4e82-bb29-4e90ad67fe57",
   "metadata": {
    "vscode": {
     "languageId": "r"
    }
   },
   "outputs": [],
   "source": []
  }
 ],
 "metadata": {
  "kernelspec": {
   "display_name": "R 4.1.3",
   "language": "R",
   "name": "r_env"
  },
  "language_info": {
   "codemirror_mode": "r",
   "file_extension": ".r",
   "mimetype": "text/x-r-source",
   "name": "R",
   "pygments_lexer": "r",
   "version": "4.1.3"
  }
 },
 "nbformat": 4,
 "nbformat_minor": 5
}

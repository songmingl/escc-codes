{
 "cells": [
  {
   "cell_type": "markdown",
   "id": "0f2ee1f4-c291-4778-b8e5-cc459edec88a",
   "metadata": {},
   "source": [
    "# figure S5\n",
    "\n",
    "- kernel: r_env, R 4.1.3\n",
    "- date: 2024-02-22\n",
    "- desc: supplementary figure 5"
   ]
  },
  {
   "cell_type": "markdown",
   "id": "508b404b-e848-4248-81bc-73c957f18964",
   "metadata": {
    "jp-MarkdownHeadingCollapsed": true,
    "tags": []
   },
   "source": [
    "## load"
   ]
  },
  {
   "cell_type": "code",
   "execution_count": 1,
   "id": "4d852466-114a-47bf-bf99-b812c240dcb8",
   "metadata": {
    "tags": [],
    "vscode": {
     "languageId": "r"
    }
   },
   "outputs": [
    {
     "name": "stderr",
     "output_type": "stream",
     "text": [
      "── \u001b[1mAttaching core tidyverse packages\u001b[22m ──────────────────────── tidyverse 2.0.0 ──\n",
      "\u001b[32m✔\u001b[39m \u001b[34mdplyr    \u001b[39m 1.1.0     \u001b[32m✔\u001b[39m \u001b[34mreadr    \u001b[39m 2.1.4\n",
      "\u001b[32m✔\u001b[39m \u001b[34mforcats  \u001b[39m 1.0.0     \u001b[32m✔\u001b[39m \u001b[34mstringr  \u001b[39m 1.5.0\n",
      "\u001b[32m✔\u001b[39m \u001b[34mggplot2  \u001b[39m 3.4.1     \u001b[32m✔\u001b[39m \u001b[34mtibble   \u001b[39m 3.2.0\n",
      "\u001b[32m✔\u001b[39m \u001b[34mlubridate\u001b[39m 1.9.2     \u001b[32m✔\u001b[39m \u001b[34mtidyr    \u001b[39m 1.3.0\n",
      "\u001b[32m✔\u001b[39m \u001b[34mpurrr    \u001b[39m 1.0.1     \n",
      "── \u001b[1mConflicts\u001b[22m ────────────────────────────────────────── tidyverse_conflicts() ──\n",
      "\u001b[31m✖\u001b[39m \u001b[34mdplyr\u001b[39m::\u001b[32mfilter()\u001b[39m masks \u001b[34mstats\u001b[39m::filter()\n",
      "\u001b[31m✖\u001b[39m \u001b[34mdplyr\u001b[39m::\u001b[32mlag()\u001b[39m    masks \u001b[34mstats\u001b[39m::lag()\n",
      "\u001b[36mℹ\u001b[39m Use the conflicted package (\u001b[3m\u001b[34m<http://conflicted.r-lib.org/>\u001b[39m\u001b[23m) to force all conflicts to become errors\n"
     ]
    }
   ],
   "source": [
    "library(tidyverse)\n",
    "library(logging)\n",
    "library(ggpubr)\n",
    "library(ggsci)\n",
    "library(patchwork)\n",
    "\n",
    "source('../../stage2/scripts/r_funcs.r')\n",
    "\n",
    "theme_set(theme_pubr())\n",
    "logging::basicConfig()\n",
    "options(warn = -1)"
   ]
  },
  {
   "cell_type": "code",
   "execution_count": 2,
   "id": "3b05d2c3-fb63-4fef-9603-efed70a3efdf",
   "metadata": {
    "tags": [],
    "vscode": {
     "languageId": "r"
    }
   },
   "outputs": [],
   "source": [
    "# basical informatino\n",
    "outdir <- '../figures/figs5'\n",
    "create_dir(outdir)\n",
    "celltype_map <- list(\n",
    "    'T_MKI67' = c('T_Prolif')\n",
    ")\n",
    "f_cell_state <- '../figures/fig3/fig3-net_tcr_sharing-node_info.tsv'\n",
    "f_pat_gp <- '../tables/patient_info_v2.tsv'"
   ]
  },
  {
   "cell_type": "code",
   "execution_count": 3,
   "id": "57b4bd53-0ca8-4ad6-9593-2ec2a43ef029",
   "metadata": {
    "tags": [],
    "vscode": {
     "languageId": "r"
    }
   },
   "outputs": [],
   "source": [
    "gp <- 'response'\n",
    "\n",
    "gp_comp_map$response <- list(\n",
    "  c('R-pre', 'R-post'),\n",
    "  c('PR-pre', 'PR-post'),\n",
    "  c('R-pre', 'PR-pre'),\n",
    "  c('R-post', 'PR-post')\n",
    ")\n",
    "gp_lvls$response <- c('R', 'PR')\n",
    "comb_order <- c('R-pre', 'R-post', 'PR-pre', 'PR-post')"
   ]
  },
  {
   "cell_type": "code",
   "execution_count": 4,
   "id": "fff3f633-701d-4a55-b42e-60c69f11c620",
   "metadata": {
    "tags": [],
    "vscode": {
     "languageId": "r"
    }
   },
   "outputs": [],
   "source": [
    "# T cell state mapping\n",
    "df <- read_tsv(f_cell_state, show_col_types = F)\n",
    "\n",
    "cell_state_order <- c('cytotoxic', 'exhausted', 'dying', 'others', 'NK')\n",
    "cell_state_map <- split(df$node, df$node_type)\n",
    "cell_state_map$NK <- c('NK', 'NK_CX3CR1')\n",
    "cell_state_map <- cell_state_map[cell_state_order]\n",
    "\n",
    "cell_state_color <- c('exhausted' = '#023fa5', 'cytotoxic' = 'red', \n",
    "                      'dying' = '#bb7784', 'others' = '#ff9639',\n",
    "                      'NK' = 'gray50')"
   ]
  },
  {
   "cell_type": "code",
   "execution_count": 5,
   "id": "75229ea3-5adf-48c7-b21f-bfd433fd36d2",
   "metadata": {
    "collapsed": true,
    "jupyter": {
     "outputs_hidden": true
    },
    "tags": [],
    "vscode": {
     "languageId": "r"
    }
   },
   "outputs": [
    {
     "data": {
      "text/html": [
       "<dl>\n",
       "\t<dt>$cytotoxic</dt>\n",
       "\t\t<dd><style>\n",
       ".list-inline {list-style: none; margin:0; padding: 0}\n",
       ".list-inline>li {display: inline-block}\n",
       ".list-inline>li:not(:last-child)::after {content: \"\\00b7\"; padding: 0 .5ex}\n",
       "</style>\n",
       "<ol class=list-inline><li>'CD8_ANXA1'</li><li>'CD8_CCL5'</li><li>'CD8_CX3CR1'</li><li>'CD8_FOS'</li><li>'CD8_GZMK'</li><li>'CD8_KLRB1'</li></ol>\n",
       "</dd>\n",
       "\t<dt>$exhausted</dt>\n",
       "\t\t<dd><style>\n",
       ".list-inline {list-style: none; margin:0; padding: 0}\n",
       ".list-inline>li {display: inline-block}\n",
       ".list-inline>li:not(:last-child)::after {content: \"\\00b7\"; padding: 0 .5ex}\n",
       "</style>\n",
       "<ol class=list-inline><li>'CD4_CXCL13'</li><li>'CD8_CXCL13'</li><li>'CD8_TYMS'</li><li>'T_MKI67'</li><li>'Treg_TNFRSF4'</li></ol>\n",
       "</dd>\n",
       "\t<dt>$dying</dt>\n",
       "\t\t<dd>'T_Mito'</dd>\n",
       "\t<dt>$others</dt>\n",
       "\t\t<dd><style>\n",
       ".list-inline {list-style: none; margin:0; padding: 0}\n",
       ".list-inline>li {display: inline-block}\n",
       ".list-inline>li:not(:last-child)::after {content: \"\\00b7\"; padding: 0 .5ex}\n",
       "</style>\n",
       "<ol class=list-inline><li>'CD4_KLRB1'</li><li>'CD8_CD74'</li><li>'CD8_IFIT1'</li><li>'T_IL7R'</li><li>'T_Ribo'</li><li>'Treg_LTB'</li></ol>\n",
       "</dd>\n",
       "\t<dt>$NK</dt>\n",
       "\t\t<dd><style>\n",
       ".list-inline {list-style: none; margin:0; padding: 0}\n",
       ".list-inline>li {display: inline-block}\n",
       ".list-inline>li:not(:last-child)::after {content: \"\\00b7\"; padding: 0 .5ex}\n",
       "</style>\n",
       "<ol class=list-inline><li>'NK'</li><li>'NK_CX3CR1'</li></ol>\n",
       "</dd>\n",
       "</dl>\n"
      ],
      "text/latex": [
       "\\begin{description}\n",
       "\\item[\\$cytotoxic] \\begin{enumerate*}\n",
       "\\item 'CD8\\_ANXA1'\n",
       "\\item 'CD8\\_CCL5'\n",
       "\\item 'CD8\\_CX3CR1'\n",
       "\\item 'CD8\\_FOS'\n",
       "\\item 'CD8\\_GZMK'\n",
       "\\item 'CD8\\_KLRB1'\n",
       "\\end{enumerate*}\n",
       "\n",
       "\\item[\\$exhausted] \\begin{enumerate*}\n",
       "\\item 'CD4\\_CXCL13'\n",
       "\\item 'CD8\\_CXCL13'\n",
       "\\item 'CD8\\_TYMS'\n",
       "\\item 'T\\_MKI67'\n",
       "\\item 'Treg\\_TNFRSF4'\n",
       "\\end{enumerate*}\n",
       "\n",
       "\\item[\\$dying] 'T\\_Mito'\n",
       "\\item[\\$others] \\begin{enumerate*}\n",
       "\\item 'CD4\\_KLRB1'\n",
       "\\item 'CD8\\_CD74'\n",
       "\\item 'CD8\\_IFIT1'\n",
       "\\item 'T\\_IL7R'\n",
       "\\item 'T\\_Ribo'\n",
       "\\item 'Treg\\_LTB'\n",
       "\\end{enumerate*}\n",
       "\n",
       "\\item[\\$NK] \\begin{enumerate*}\n",
       "\\item 'NK'\n",
       "\\item 'NK\\_CX3CR1'\n",
       "\\end{enumerate*}\n",
       "\n",
       "\\end{description}\n"
      ],
      "text/markdown": [
       "$cytotoxic\n",
       ":   1. 'CD8_ANXA1'\n",
       "2. 'CD8_CCL5'\n",
       "3. 'CD8_CX3CR1'\n",
       "4. 'CD8_FOS'\n",
       "5. 'CD8_GZMK'\n",
       "6. 'CD8_KLRB1'\n",
       "\n",
       "\n",
       "\n",
       "$exhausted\n",
       ":   1. 'CD4_CXCL13'\n",
       "2. 'CD8_CXCL13'\n",
       "3. 'CD8_TYMS'\n",
       "4. 'T_MKI67'\n",
       "5. 'Treg_TNFRSF4'\n",
       "\n",
       "\n",
       "\n",
       "$dying\n",
       ":   'T_Mito'\n",
       "$others\n",
       ":   1. 'CD4_KLRB1'\n",
       "2. 'CD8_CD74'\n",
       "3. 'CD8_IFIT1'\n",
       "4. 'T_IL7R'\n",
       "5. 'T_Ribo'\n",
       "6. 'Treg_LTB'\n",
       "\n",
       "\n",
       "\n",
       "$NK\n",
       ":   1. 'NK'\n",
       "2. 'NK_CX3CR1'\n",
       "\n",
       "\n",
       "\n",
       "\n",
       "\n"
      ],
      "text/plain": [
       "$cytotoxic\n",
       "[1] \"CD8_ANXA1\"  \"CD8_CCL5\"   \"CD8_CX3CR1\" \"CD8_FOS\"    \"CD8_GZMK\"  \n",
       "[6] \"CD8_KLRB1\" \n",
       "\n",
       "$exhausted\n",
       "[1] \"CD4_CXCL13\"   \"CD8_CXCL13\"   \"CD8_TYMS\"     \"T_MKI67\"      \"Treg_TNFRSF4\"\n",
       "\n",
       "$dying\n",
       "[1] \"T_Mito\"\n",
       "\n",
       "$others\n",
       "[1] \"CD4_KLRB1\" \"CD8_CD74\"  \"CD8_IFIT1\" \"T_IL7R\"    \"T_Ribo\"    \"Treg_LTB\" \n",
       "\n",
       "$NK\n",
       "[1] \"NK\"        \"NK_CX3CR1\"\n"
      ]
     },
     "metadata": {},
     "output_type": "display_data"
    }
   ],
   "source": [
    "cell_state_map"
   ]
  },
  {
   "cell_type": "markdown",
   "id": "a5d60b77",
   "metadata": {},
   "source": [
    "## s5a: vln of exhau/cyto score in clusters\n",
    "\n",
    "- re-run at 2024-02-22"
   ]
  },
  {
   "cell_type": "code",
   "execution_count": null,
   "id": "3669d7b1",
   "metadata": {
    "vscode": {
     "languageId": "r"
    }
   },
   "outputs": [],
   "source": [
    "f_score <- '../../stage4/miscellaneous/scores/ex_cyto_score_old.csv'\n",
    "prefix <- 'figs4a'"
   ]
  },
  {
   "cell_type": "code",
   "execution_count": null,
   "id": "4f41a9ca",
   "metadata": {
    "vscode": {
     "languageId": "r"
    }
   },
   "outputs": [
    {
     "name": "stderr",
     "output_type": "stream",
     "text": [
      "\u001b[1m\u001b[22mNew names:\n",
      "\u001b[36m•\u001b[39m `` -> `...1`\n"
     ]
    },
    {
     "name": "stdout",
     "output_type": "stream",
     "text": [
      "\u001b[0m2024-02-22 09:34:26 INFO::302025 cells\u001b[0m\u001b[22m\u001b[23m\u001b[24m\u001b[27m\u001b[28m\u001b[29m\u001b[39m\u001b[49m\u001b[0m\u001b[0m\u001b[22m\u001b[23m\u001b[24m\u001b[27m\u001b[28m\u001b[29m\u001b[39m\u001b[49m\n"
     ]
    }
   ],
   "source": [
    "df <- read_csv(f_score, show_col_types = F)\n",
    "loginfo('%g cells', nrow(df))\n",
    "\n",
    "# rename cell types\n",
    "df$celltype <- df$subtype\n",
    "for (nm in names(celltype_map)) {\n",
    "    df$celltype[df$subtype %in% celltype_map[[nm]]] <- nm\n",
    "}\n",
    "# add cell state info\n",
    "df$cell_state <- df$celltype\n",
    "for (nm in names(cell_state_map)){\n",
    "    df$cell_state[df$celltype %in% cell_state_map[[nm]]] <- nm\n",
    "}\n",
    "\n",
    "# cell level info\n",
    "df <- select(df, barcode = '...1', celltype, cell_state, ex_score = Exhaustion, cyto_score = Cytotoxicity)\n",
    "df %>% write_tsv(str_glue('{outdir}/{prefix}-exhau_cyto_score.tsv'))"
   ]
  },
  {
   "cell_type": "code",
   "execution_count": null,
   "id": "a53f9306",
   "metadata": {
    "vscode": {
     "languageId": "r"
    }
   },
   "outputs": [],
   "source": [
    "ycol_map <- list('ex_score' = 'Exhaustion score', 'cyto_score' = 'Cytotoxicity score')\n",
    "dp <- read_tsv(str_glue('{outdir}/{prefix}-exhau_cyto_score.tsv'), show_col_types = F) %>%\n",
    "    mutate(celltype = factor(celltype, unlist(cell_state_map)),\n",
    "           cell_state = factor(cell_state, cell_state_order))\n",
    "p_ls <- lapply(names(ycol_map), function(ycol){\n",
    "    ggplot(aes(x = celltype, y = .data[[ycol]]), data = dp) +\n",
    "    geom_violin(aes(fill = cell_state), scale = 'width', alpha = 0.6) +\n",
    "    scale_fill_manual(values = cell_state_color) +\n",
    "    labs(y = ycol_map[[ycol]]) +\n",
    "    theme(axis.title.x = element_blank(), axis.text.x = element_text(angle = 60, hjust = 0.96))\n",
    "})\n",
    "ggsave(filename = str_glue('{outdir}/{prefix}-vln-exhau_cyto_score-cluster.pdf'),\n",
    "       plot = wrap_plots(p_ls, nrow = 1, guides = 'collect'), width = 14, height = 4.5)"
   ]
  },
  {
   "cell_type": "markdown",
   "id": "ed3a623d",
   "metadata": {},
   "source": [
    "## s5d: CXCL13 expression in T cells\n",
    "\n",
    "- date: 2024-02-22\n",
    "- desc: use CD8 T cells (cyto/exhau/others) + NK + Treg, psuodubulk expression (min 50)"
   ]
  },
  {
   "cell_type": "code",
   "execution_count": null,
   "id": "58fc2b32",
   "metadata": {
    "vscode": {
     "languageId": "r"
    }
   },
   "outputs": [],
   "source": [
    "fpbulk <- '../../stage4/miscellaneous/exprs_box/chemokine_receptor_in_t_state-pbulk_count-min50.tsv'\n",
    "genes <- 'CXCL13'\n",
    "ctype_order <- c('cytotoxic CD8', 'exhausted CD8', 'other CD8', 'Treg', 'NK')"
   ]
  },
  {
   "cell_type": "code",
   "execution_count": null,
   "id": "b47abfb1",
   "metadata": {
    "vscode": {
     "languageId": "r"
    }
   },
   "outputs": [
    {
     "name": "stdout",
     "output_type": "stream",
     "text": [
      "\u001b[0m2024-02-22 11:00:32 INFO::these clinial info will be added: response\u001b[0m\u001b[22m\u001b[23m\u001b[24m\u001b[27m\u001b[28m\u001b[29m\u001b[39m\u001b[49m\u001b[0m\u001b[0m\u001b[22m\u001b[23m\u001b[24m\u001b[27m\u001b[28m\u001b[29m\u001b[39m\u001b[49m\n"
     ]
    }
   ],
   "source": [
    "exprs_pbulk <- read_tsv(fpbulk, show_col_types = F) %>% \n",
    "    column_to_rownames('symbol') %>%\n",
    "    mutate(across(everything(), ~ log1p(1e6 * .x / sum(.x)))) %>%\n",
    "    slice(which(rownames(.) %in% genes)) %>% \n",
    "    t() %>% \n",
    "    as.data.frame() %>% \n",
    "    rownames_to_column('sample_cellgp') %>% \n",
    "    extract(col = 'sample_cellgp', into = c('patient', 'sample_type', 'cellgp'), regex = '(.+)-(.+)_(.+)') %>%\n",
    "    pivot_longer(cols = all_of(genes), names_to = 'gene', values_to = 'logcpm') %>%\n",
    "    add_clin_info(ftsv = f_pat_gp, columns = gp, merge_by = 'patient') %>% \n",
    "    mutate(sample_type = case_match(sample_type, 'Baseline' ~ 'pre', 'Treat' ~ 'post'))\n",
    "exprs_pbulk %>% write_tsv(str_glue('{outdir}/figs4c-pbulk_exprs_in_t_state-CXCL13.tsv'))"
   ]
  },
  {
   "cell_type": "code",
   "execution_count": null,
   "id": "708e1545",
   "metadata": {
    "vscode": {
     "languageId": "r"
    }
   },
   "outputs": [],
   "source": [
    "p <- read_tsv(str_glue('{outdir}/figs4c-pbulk_exprs_in_t_state-CXCL13.tsv'), show_col_types = F) %>%\n",
    "    filter(!is.na(.data[[gp]])) %>%\n",
    "    mutate(cellgp = factor(cellgp, levels = ctype_order)) %>%\n",
    "    cell_comp_boxplot(x = c(gp, 'sample_type'), xorder = comb_order, y = 'logcpm', \n",
    "                      pt_fill = gp, fill_order = gp_lvls[[gp]],\n",
    "                      facet_by = 'cellgp', wrap_free = 'free', ncol = 10, xangle = 60) +\n",
    "    labs(fill = 'Response', y = 'CXCL13 expression (log1p CPM)') +\n",
    "    stat_compare_means(comparisons = gp_comp_map[[gp]]) +\n",
    "    theme(axis.title.x = element_blank())\n",
    "ggsave(str_glue('{outdir}/figs4c-box_pbulk_exprs-CXCL13_in_t_state.pdf'), plot = p, width = 9, height = 5)"
   ]
  },
  {
   "cell_type": "markdown",
   "id": "de9f1650",
   "metadata": {},
   "source": [
    "## s5e: T cell composition:\n",
    "\n",
    "- date: 2024-02-22\n",
    "- desc: use selected clusters"
   ]
  },
  {
   "cell_type": "code",
   "execution_count": null,
   "id": "1e2ed42b",
   "metadata": {
    "vscode": {
     "languageId": "r"
    }
   },
   "outputs": [],
   "source": [
    "f_cc <- '../figures/fig3/fig3c-t_cc.tsv'\n",
    "used_clusters <- c('CD8_FOS', 'CD8_CX3CR1', 'CD8_KLRB1', 'Treg_LTB', 'Treg_TNFRSF4', 'T_Mito')"
   ]
  },
  {
   "cell_type": "code",
   "execution_count": null,
   "id": "e4c576b5",
   "metadata": {
    "vscode": {
     "languageId": "r"
    }
   },
   "outputs": [],
   "source": [
    "# plot\n",
    "p <- read_tsv(f_cc, show_col_types = F) %>% \n",
    "    filter(!is.na(.data[[gp]])) %>% \n",
    "    filter(cell_type %in% used_clusters) %>% \n",
    "    mutate(cell_type = factor(cell_type, used_clusters)) %>%\n",
    "    cell_comp_boxplot(x = c(gp, 'sample_type'), y = 'pct', pt_fill = gp, xangle = 60, \n",
    "                          xorder = comb_order, fill_order = gp_lvls[[gp]], ncol = 7) +\n",
    "    stat_compare_means(comparisons = gp_comp_map[[gp]]) +\n",
    "    labs(y = 'Percent in T+NK cells', fill = 'Response')\n",
    "ggsave(filename = str_glue('{outdir}/figs4d-box_cc-selected_t_clusters.pdf'), plot = p, width = 12, height = 5)"
   ]
  },
  {
   "cell_type": "markdown",
   "id": "b660f74b",
   "metadata": {},
   "source": [
    "## s5f: expanded cell percent in subtype"
   ]
  },
  {
   "cell_type": "code",
   "execution_count": null,
   "id": "e24f1c4e",
   "metadata": {
    "vscode": {
     "languageId": "r"
    }
   },
   "outputs": [],
   "source": [
    "f_expand <- '../../stage4/a03_tcr/expansion/expand_cell_pct.csv'\n",
    "min_cell <- 10"
   ]
  },
  {
   "cell_type": "code",
   "execution_count": null,
   "id": "6febeb58",
   "metadata": {
    "vscode": {
     "languageId": "r"
    }
   },
   "outputs": [
    {
     "name": "stdout",
     "output_type": "stream",
     "text": [
      "\u001b[0m2024-02-05 10:40:59 INFO::these clinial info will be added: response\u001b[0m\u001b[22m\u001b[23m\u001b[24m\u001b[27m\u001b[28m\u001b[29m\u001b[39m\u001b[49m\u001b[0m\u001b[0m\u001b[22m\u001b[23m\u001b[24m\u001b[27m\u001b[28m\u001b[29m\u001b[39m\u001b[49m\n",
      "\u001b[0m2024-02-05 10:40:59 INFO::1349 combinations of sample & cell type for expansion results\u001b[0m\u001b[22m\u001b[23m\u001b[24m\u001b[27m\u001b[28m\u001b[29m\u001b[39m\u001b[49m\u001b[0m\u001b[0m\u001b[22m\u001b[23m\u001b[24m\u001b[27m\u001b[28m\u001b[29m\u001b[39m\u001b[49m\n"
     ]
    }
   ],
   "source": [
    "# update\n",
    "df <- read_csv(file = f_expand, show_col_types = F) %>% \n",
    "    filter(n_cell_per_sample_subtype >= min_cell) %>%\n",
    "    select(patient, sample_type, subtype, n_expand_cell_per_sample_stype, n_cell_per_sample_subtype,\n",
    "           n_cell_per_sample, pct_by_subtype, n_cell_per_sample) %>% \n",
    "    add_clin_info(ftsv = f_pat_gp, columns = gp, merge_by = 'patient') %>%\n",
    "    mutate(sample_type = case_match(sample_type, 'Baseline' ~ 'pre', 'Treat' ~ 'post'))\n",
    "\n",
    "# rename\n",
    "for (nm in names(celltype_map)) {\n",
    "    df$subtype[df$subtype %in% celltype_map[[nm]]] <- nm\n",
    "}\n",
    "df %>% write_tsv(str_glue('{outdir}/fig3d-t_expand_in_subtype-min{min_cell}.tsv'))\n",
    "loginfo('%g combinations of sample & cell type for expansion results', nrow(df))"
   ]
  },
  {
   "cell_type": "code",
   "execution_count": null,
   "id": "51d39855",
   "metadata": {
    "vscode": {
     "languageId": "r"
    }
   },
   "outputs": [],
   "source": [
    "# plot\n",
    "df <- read_tsv(str_glue('{outdir}/fig3d-t_expand_in_subtype-min{min_cell}.tsv'), show_col_types = F)\n",
    "p_ls <- lapply(names(use_ctypes), FUN = function(nm) {\n",
    "    df %>% \n",
    "    filter(subtype %in% use_ctypes[[nm]]) %>% \n",
    "    filter(!is.na(.data[[gp]])) %>% \n",
    "    cell_comp_boxplot(x = c(gp, 'sample_type'), y = 'pct_by_subtype', pt_fill = gp, facet_by = 'subtype',\n",
    "                      xorder = comb_order, fill_order = gp_lvls[[gp]],  xangle = 60, size = 2, ncol = 7) +\n",
    "    stat_compare_means(comparisons = comp_ls) +\n",
    "    labs(y = 'Expanded cell percent in cluster', fill = 'Response', title = nm) +\n",
    "    theme(plot.background = element_rect(color = 'black'), # add border\n",
    "          axis.title.x = element_blank(),  # blank don't occupy space\n",
    "          plot.title = element_text(hjust = 0.5))\n",
    "})\n",
    "# remove y labs expcept for first plot\n",
    "for (i in 2:length(p_ls)) {\n",
    "    p_ls[[i]] <- p_ls[[i]] + theme(axis.title.y = element_blank())\n",
    "}\n",
    "# combine plots\n",
    "p <- wrap_plots(p_ls, nrow = 1, widths = c(3, 3), guides = 'collect') & \n",
    "    theme(legend.margin = margin(-6, 0, -1, 0))\n",
    "# save\n",
    "ggsave(filename = str_glue('{outdir}/fig3d-box_expand-selected_t_subtypes.pdf'), plot = p, width = 13, height = 5)"
   ]
  }
 ],
 "metadata": {
  "kernelspec": {
   "display_name": "R 4.1.3",
   "language": "R",
   "name": "r_env"
  },
  "language_info": {
   "codemirror_mode": "r",
   "file_extension": ".r",
   "mimetype": "text/x-r-source",
   "name": "R",
   "pygments_lexer": "r",
   "version": "4.1.3"
  }
 },
 "nbformat": 4,
 "nbformat_minor": 5
}
